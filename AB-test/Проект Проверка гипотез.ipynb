{
 "cells": [
  {
   "cell_type": "markdown",
   "metadata": {},
   "source": [
    "# Приоритизация гипотез и анализ результатов A/B теста"
   ]
  },
  {
   "cell_type": "markdown",
   "metadata": {},
   "source": [
    "## Вводная часть"
   ]
  },
  {
   "cell_type": "markdown",
   "metadata": {},
   "source": [
    "В рамках проекта необходимо:\n",
    "1. Выполнить приоритизацию 9-ти гипотез с использованием фреймворков ICE и RICE\n",
    "2. Провести анализ результатов A/B теста."
   ]
  },
  {
   "cell_type": "markdown",
   "metadata": {},
   "source": [
    "## Приоритизация гипотез"
   ]
  },
  {
   "cell_type": "markdown",
   "metadata": {},
   "source": [
    "### Подготовка данных"
   ]
  },
  {
   "cell_type": "code",
   "execution_count": 1,
   "metadata": {},
   "outputs": [],
   "source": [
    "# импортируем необходимые библиотеки\n",
    "import pandas as pd\n",
    "import matplotlib.pyplot as plt\n",
    "import numpy as np\n",
    "import scipy.stats as stats"
   ]
  },
  {
   "cell_type": "code",
   "execution_count": 2,
   "metadata": {},
   "outputs": [],
   "source": [
    "# загрузка данных\n",
    "hypothesis = pd.read_csv('/datasets/hypothesis.csv')"
   ]
  },
  {
   "cell_type": "code",
   "execution_count": 3,
   "metadata": {},
   "outputs": [],
   "source": [
    "# переименование колонок для удобства\n",
    "hypothesis.columns=['hypothesis',\n",
    "                    'reach',\n",
    "                    'impact',\n",
    "                    'confidence',\n",
    "                    'efforts']"
   ]
  },
  {
   "cell_type": "code",
   "execution_count": 4,
   "metadata": {},
   "outputs": [
    {
     "data": {
      "text/html": [
       "<div>\n",
       "<style scoped>\n",
       "    .dataframe tbody tr th:only-of-type {\n",
       "        vertical-align: middle;\n",
       "    }\n",
       "\n",
       "    .dataframe tbody tr th {\n",
       "        vertical-align: top;\n",
       "    }\n",
       "\n",
       "    .dataframe thead th {\n",
       "        text-align: right;\n",
       "    }\n",
       "</style>\n",
       "<table border=\"1\" class=\"dataframe\">\n",
       "  <thead>\n",
       "    <tr style=\"text-align: right;\">\n",
       "      <th></th>\n",
       "      <th>hypothesis</th>\n",
       "      <th>reach</th>\n",
       "      <th>impact</th>\n",
       "      <th>confidence</th>\n",
       "      <th>efforts</th>\n",
       "    </tr>\n",
       "  </thead>\n",
       "  <tbody>\n",
       "    <tr>\n",
       "      <td>0</td>\n",
       "      <td>Добавить два новых канала привлечения трафика, что позволит привлекать на 30% больше пользователей</td>\n",
       "      <td>3</td>\n",
       "      <td>10</td>\n",
       "      <td>8</td>\n",
       "      <td>6</td>\n",
       "    </tr>\n",
       "    <tr>\n",
       "      <td>1</td>\n",
       "      <td>Запустить собственную службу доставки, что сократит срок доставки заказов</td>\n",
       "      <td>2</td>\n",
       "      <td>5</td>\n",
       "      <td>4</td>\n",
       "      <td>10</td>\n",
       "    </tr>\n",
       "    <tr>\n",
       "      <td>2</td>\n",
       "      <td>Добавить блоки рекомендаций товаров на сайт интернет магазина, чтобы повысить конверсию и средний чек заказа</td>\n",
       "      <td>8</td>\n",
       "      <td>3</td>\n",
       "      <td>7</td>\n",
       "      <td>3</td>\n",
       "    </tr>\n",
       "    <tr>\n",
       "      <td>3</td>\n",
       "      <td>Изменить структура категорий, что увеличит конверсию, т.к. пользователи быстрее найдут нужный товар</td>\n",
       "      <td>8</td>\n",
       "      <td>3</td>\n",
       "      <td>3</td>\n",
       "      <td>8</td>\n",
       "    </tr>\n",
       "    <tr>\n",
       "      <td>4</td>\n",
       "      <td>Изменить цвет фона главной страницы, чтобы увеличить вовлеченность пользователей</td>\n",
       "      <td>3</td>\n",
       "      <td>1</td>\n",
       "      <td>1</td>\n",
       "      <td>1</td>\n",
       "    </tr>\n",
       "    <tr>\n",
       "      <td>5</td>\n",
       "      <td>Добавить страницу отзывов клиентов о магазине, что позволит увеличить количество заказов</td>\n",
       "      <td>3</td>\n",
       "      <td>2</td>\n",
       "      <td>2</td>\n",
       "      <td>3</td>\n",
       "    </tr>\n",
       "    <tr>\n",
       "      <td>6</td>\n",
       "      <td>Показать на главной странице баннеры с актуальными акциями и распродажами, чтобы увеличить конверсию</td>\n",
       "      <td>5</td>\n",
       "      <td>3</td>\n",
       "      <td>8</td>\n",
       "      <td>3</td>\n",
       "    </tr>\n",
       "    <tr>\n",
       "      <td>7</td>\n",
       "      <td>Добавить форму подписки на все основные страницы, чтобы собрать базу клиентов для email-рассылок</td>\n",
       "      <td>10</td>\n",
       "      <td>7</td>\n",
       "      <td>8</td>\n",
       "      <td>5</td>\n",
       "    </tr>\n",
       "    <tr>\n",
       "      <td>8</td>\n",
       "      <td>Запустить акцию, дающую скидку на товар в день рождения</td>\n",
       "      <td>1</td>\n",
       "      <td>9</td>\n",
       "      <td>9</td>\n",
       "      <td>5</td>\n",
       "    </tr>\n",
       "  </tbody>\n",
       "</table>\n",
       "</div>"
      ],
      "text/plain": [
       "                                                                                                     hypothesis  \\\n",
       "0            Добавить два новых канала привлечения трафика, что позволит привлекать на 30% больше пользователей   \n",
       "1                                     Запустить собственную службу доставки, что сократит срок доставки заказов   \n",
       "2  Добавить блоки рекомендаций товаров на сайт интернет магазина, чтобы повысить конверсию и средний чек заказа   \n",
       "3           Изменить структура категорий, что увеличит конверсию, т.к. пользователи быстрее найдут нужный товар   \n",
       "4                              Изменить цвет фона главной страницы, чтобы увеличить вовлеченность пользователей   \n",
       "5                      Добавить страницу отзывов клиентов о магазине, что позволит увеличить количество заказов   \n",
       "6          Показать на главной странице баннеры с актуальными акциями и распродажами, чтобы увеличить конверсию   \n",
       "7              Добавить форму подписки на все основные страницы, чтобы собрать базу клиентов для email-рассылок   \n",
       "8                                                       Запустить акцию, дающую скидку на товар в день рождения   \n",
       "\n",
       "   reach  impact  confidence  efforts  \n",
       "0      3      10           8        6  \n",
       "1      2       5           4       10  \n",
       "2      8       3           7        3  \n",
       "3      8       3           3        8  \n",
       "4      3       1           1        1  \n",
       "5      3       2           2        3  \n",
       "6      5       3           8        3  \n",
       "7     10       7           8        5  \n",
       "8      1       9           9        5  "
      ]
     },
     "execution_count": 4,
     "metadata": {},
     "output_type": "execute_result"
    }
   ],
   "source": [
    "pd.set_option('display.max_colwidth', 200)\n",
    "hypothesis"
   ]
  },
  {
   "cell_type": "markdown",
   "metadata": {},
   "source": [
    "В соответствии с описанием данных:\n",
    "* hypothesis — краткое описание гипотезы;\n",
    "* reach — охват пользователей по 10-балльной шкале;\n",
    "* impact — влияние на пользователей по 10-балльной шкале;\n",
    "* confidence — уверенность в гипотезе по 10-балльной шкале;\n",
    "* efforts — затраты ресурсов на проверку гипотезы по 10-балльной шкале. Чем больше значение Efforts, тем дороже проверка гипотезы."
   ]
  },
  {
   "cell_type": "markdown",
   "metadata": {},
   "source": [
    "### Расчёт оценки по ICE"
   ]
  },
  {
   "cell_type": "code",
   "execution_count": 5,
   "metadata": {},
   "outputs": [
    {
     "data": {
      "text/html": [
       "<div>\n",
       "<style scoped>\n",
       "    .dataframe tbody tr th:only-of-type {\n",
       "        vertical-align: middle;\n",
       "    }\n",
       "\n",
       "    .dataframe tbody tr th {\n",
       "        vertical-align: top;\n",
       "    }\n",
       "\n",
       "    .dataframe thead th {\n",
       "        text-align: right;\n",
       "    }\n",
       "</style>\n",
       "<table border=\"1\" class=\"dataframe\">\n",
       "  <thead>\n",
       "    <tr style=\"text-align: right;\">\n",
       "      <th></th>\n",
       "      <th>hypothesis</th>\n",
       "      <th>reach</th>\n",
       "      <th>impact</th>\n",
       "      <th>confidence</th>\n",
       "      <th>efforts</th>\n",
       "      <th>ice_score</th>\n",
       "    </tr>\n",
       "  </thead>\n",
       "  <tbody>\n",
       "    <tr>\n",
       "      <td>8</td>\n",
       "      <td>Запустить акцию, дающую скидку на товар в день рождения</td>\n",
       "      <td>1</td>\n",
       "      <td>9</td>\n",
       "      <td>9</td>\n",
       "      <td>5</td>\n",
       "      <td>16.200000</td>\n",
       "    </tr>\n",
       "    <tr>\n",
       "      <td>0</td>\n",
       "      <td>Добавить два новых канала привлечения трафика, что позволит привлекать на 30% больше пользователей</td>\n",
       "      <td>3</td>\n",
       "      <td>10</td>\n",
       "      <td>8</td>\n",
       "      <td>6</td>\n",
       "      <td>13.333333</td>\n",
       "    </tr>\n",
       "    <tr>\n",
       "      <td>7</td>\n",
       "      <td>Добавить форму подписки на все основные страницы, чтобы собрать базу клиентов для email-рассылок</td>\n",
       "      <td>10</td>\n",
       "      <td>7</td>\n",
       "      <td>8</td>\n",
       "      <td>5</td>\n",
       "      <td>11.200000</td>\n",
       "    </tr>\n",
       "    <tr>\n",
       "      <td>6</td>\n",
       "      <td>Показать на главной странице баннеры с актуальными акциями и распродажами, чтобы увеличить конверсию</td>\n",
       "      <td>5</td>\n",
       "      <td>3</td>\n",
       "      <td>8</td>\n",
       "      <td>3</td>\n",
       "      <td>8.000000</td>\n",
       "    </tr>\n",
       "    <tr>\n",
       "      <td>2</td>\n",
       "      <td>Добавить блоки рекомендаций товаров на сайт интернет магазина, чтобы повысить конверсию и средний чек заказа</td>\n",
       "      <td>8</td>\n",
       "      <td>3</td>\n",
       "      <td>7</td>\n",
       "      <td>3</td>\n",
       "      <td>7.000000</td>\n",
       "    </tr>\n",
       "    <tr>\n",
       "      <td>1</td>\n",
       "      <td>Запустить собственную службу доставки, что сократит срок доставки заказов</td>\n",
       "      <td>2</td>\n",
       "      <td>5</td>\n",
       "      <td>4</td>\n",
       "      <td>10</td>\n",
       "      <td>2.000000</td>\n",
       "    </tr>\n",
       "    <tr>\n",
       "      <td>5</td>\n",
       "      <td>Добавить страницу отзывов клиентов о магазине, что позволит увеличить количество заказов</td>\n",
       "      <td>3</td>\n",
       "      <td>2</td>\n",
       "      <td>2</td>\n",
       "      <td>3</td>\n",
       "      <td>1.333333</td>\n",
       "    </tr>\n",
       "    <tr>\n",
       "      <td>3</td>\n",
       "      <td>Изменить структура категорий, что увеличит конверсию, т.к. пользователи быстрее найдут нужный товар</td>\n",
       "      <td>8</td>\n",
       "      <td>3</td>\n",
       "      <td>3</td>\n",
       "      <td>8</td>\n",
       "      <td>1.125000</td>\n",
       "    </tr>\n",
       "    <tr>\n",
       "      <td>4</td>\n",
       "      <td>Изменить цвет фона главной страницы, чтобы увеличить вовлеченность пользователей</td>\n",
       "      <td>3</td>\n",
       "      <td>1</td>\n",
       "      <td>1</td>\n",
       "      <td>1</td>\n",
       "      <td>1.000000</td>\n",
       "    </tr>\n",
       "  </tbody>\n",
       "</table>\n",
       "</div>"
      ],
      "text/plain": [
       "                                                                                                     hypothesis  \\\n",
       "8                                                       Запустить акцию, дающую скидку на товар в день рождения   \n",
       "0            Добавить два новых канала привлечения трафика, что позволит привлекать на 30% больше пользователей   \n",
       "7              Добавить форму подписки на все основные страницы, чтобы собрать базу клиентов для email-рассылок   \n",
       "6          Показать на главной странице баннеры с актуальными акциями и распродажами, чтобы увеличить конверсию   \n",
       "2  Добавить блоки рекомендаций товаров на сайт интернет магазина, чтобы повысить конверсию и средний чек заказа   \n",
       "1                                     Запустить собственную службу доставки, что сократит срок доставки заказов   \n",
       "5                      Добавить страницу отзывов клиентов о магазине, что позволит увеличить количество заказов   \n",
       "3           Изменить структура категорий, что увеличит конверсию, т.к. пользователи быстрее найдут нужный товар   \n",
       "4                              Изменить цвет фона главной страницы, чтобы увеличить вовлеченность пользователей   \n",
       "\n",
       "   reach  impact  confidence  efforts  ice_score  \n",
       "8      1       9           9        5  16.200000  \n",
       "0      3      10           8        6  13.333333  \n",
       "7     10       7           8        5  11.200000  \n",
       "6      5       3           8        3   8.000000  \n",
       "2      8       3           7        3   7.000000  \n",
       "1      2       5           4       10   2.000000  \n",
       "5      3       2           2        3   1.333333  \n",
       "3      8       3           3        8   1.125000  \n",
       "4      3       1           1        1   1.000000  "
      ]
     },
     "execution_count": 5,
     "metadata": {},
     "output_type": "execute_result"
    }
   ],
   "source": [
    "# Расчёт оценки в соответствии с фреймворком ICE\n",
    "hypothesis['ice_score'] = (hypothesis['impact']\n",
    "                           * hypothesis['confidence']\n",
    "                           / hypothesis['efforts'])\n",
    "hypothesis.sort_values(by='ice_score', ascending=False)"
   ]
  },
  {
   "cell_type": "markdown",
   "metadata": {},
   "source": [
    "**Промежуточный вывод**: в соответствии с оценкой фреймворка ICE лидируют гипотезы:\n",
    "1. Запустить акцию, дающую скидку на товар в день рождения\n",
    "2. Добавить два новых канала привлечения трафика, что позволит привлекать на 30% больше пользователей\n",
    "3. Добавить форму подписки на все основные страницы, чтобы собрать базу клиентов для email-рассылок"
   ]
  },
  {
   "cell_type": "markdown",
   "metadata": {},
   "source": [
    "### Расчёт оценки по RICE"
   ]
  },
  {
   "cell_type": "code",
   "execution_count": 6,
   "metadata": {},
   "outputs": [
    {
     "data": {
      "text/html": [
       "<div>\n",
       "<style scoped>\n",
       "    .dataframe tbody tr th:only-of-type {\n",
       "        vertical-align: middle;\n",
       "    }\n",
       "\n",
       "    .dataframe tbody tr th {\n",
       "        vertical-align: top;\n",
       "    }\n",
       "\n",
       "    .dataframe thead th {\n",
       "        text-align: right;\n",
       "    }\n",
       "</style>\n",
       "<table border=\"1\" class=\"dataframe\">\n",
       "  <thead>\n",
       "    <tr style=\"text-align: right;\">\n",
       "      <th></th>\n",
       "      <th>hypothesis</th>\n",
       "      <th>reach</th>\n",
       "      <th>impact</th>\n",
       "      <th>confidence</th>\n",
       "      <th>efforts</th>\n",
       "      <th>ice_score</th>\n",
       "      <th>rice_score</th>\n",
       "    </tr>\n",
       "  </thead>\n",
       "  <tbody>\n",
       "    <tr>\n",
       "      <td>7</td>\n",
       "      <td>Добавить форму подписки на все основные страницы, чтобы собрать базу клиентов для email-рассылок</td>\n",
       "      <td>10</td>\n",
       "      <td>7</td>\n",
       "      <td>8</td>\n",
       "      <td>5</td>\n",
       "      <td>11.200000</td>\n",
       "      <td>112.0</td>\n",
       "    </tr>\n",
       "    <tr>\n",
       "      <td>2</td>\n",
       "      <td>Добавить блоки рекомендаций товаров на сайт интернет магазина, чтобы повысить конверсию и средний чек заказа</td>\n",
       "      <td>8</td>\n",
       "      <td>3</td>\n",
       "      <td>7</td>\n",
       "      <td>3</td>\n",
       "      <td>7.000000</td>\n",
       "      <td>56.0</td>\n",
       "    </tr>\n",
       "    <tr>\n",
       "      <td>0</td>\n",
       "      <td>Добавить два новых канала привлечения трафика, что позволит привлекать на 30% больше пользователей</td>\n",
       "      <td>3</td>\n",
       "      <td>10</td>\n",
       "      <td>8</td>\n",
       "      <td>6</td>\n",
       "      <td>13.333333</td>\n",
       "      <td>40.0</td>\n",
       "    </tr>\n",
       "    <tr>\n",
       "      <td>6</td>\n",
       "      <td>Показать на главной странице баннеры с актуальными акциями и распродажами, чтобы увеличить конверсию</td>\n",
       "      <td>5</td>\n",
       "      <td>3</td>\n",
       "      <td>8</td>\n",
       "      <td>3</td>\n",
       "      <td>8.000000</td>\n",
       "      <td>40.0</td>\n",
       "    </tr>\n",
       "    <tr>\n",
       "      <td>8</td>\n",
       "      <td>Запустить акцию, дающую скидку на товар в день рождения</td>\n",
       "      <td>1</td>\n",
       "      <td>9</td>\n",
       "      <td>9</td>\n",
       "      <td>5</td>\n",
       "      <td>16.200000</td>\n",
       "      <td>16.2</td>\n",
       "    </tr>\n",
       "    <tr>\n",
       "      <td>3</td>\n",
       "      <td>Изменить структура категорий, что увеличит конверсию, т.к. пользователи быстрее найдут нужный товар</td>\n",
       "      <td>8</td>\n",
       "      <td>3</td>\n",
       "      <td>3</td>\n",
       "      <td>8</td>\n",
       "      <td>1.125000</td>\n",
       "      <td>9.0</td>\n",
       "    </tr>\n",
       "    <tr>\n",
       "      <td>1</td>\n",
       "      <td>Запустить собственную службу доставки, что сократит срок доставки заказов</td>\n",
       "      <td>2</td>\n",
       "      <td>5</td>\n",
       "      <td>4</td>\n",
       "      <td>10</td>\n",
       "      <td>2.000000</td>\n",
       "      <td>4.0</td>\n",
       "    </tr>\n",
       "    <tr>\n",
       "      <td>5</td>\n",
       "      <td>Добавить страницу отзывов клиентов о магазине, что позволит увеличить количество заказов</td>\n",
       "      <td>3</td>\n",
       "      <td>2</td>\n",
       "      <td>2</td>\n",
       "      <td>3</td>\n",
       "      <td>1.333333</td>\n",
       "      <td>4.0</td>\n",
       "    </tr>\n",
       "    <tr>\n",
       "      <td>4</td>\n",
       "      <td>Изменить цвет фона главной страницы, чтобы увеличить вовлеченность пользователей</td>\n",
       "      <td>3</td>\n",
       "      <td>1</td>\n",
       "      <td>1</td>\n",
       "      <td>1</td>\n",
       "      <td>1.000000</td>\n",
       "      <td>3.0</td>\n",
       "    </tr>\n",
       "  </tbody>\n",
       "</table>\n",
       "</div>"
      ],
      "text/plain": [
       "                                                                                                     hypothesis  \\\n",
       "7              Добавить форму подписки на все основные страницы, чтобы собрать базу клиентов для email-рассылок   \n",
       "2  Добавить блоки рекомендаций товаров на сайт интернет магазина, чтобы повысить конверсию и средний чек заказа   \n",
       "0            Добавить два новых канала привлечения трафика, что позволит привлекать на 30% больше пользователей   \n",
       "6          Показать на главной странице баннеры с актуальными акциями и распродажами, чтобы увеличить конверсию   \n",
       "8                                                       Запустить акцию, дающую скидку на товар в день рождения   \n",
       "3           Изменить структура категорий, что увеличит конверсию, т.к. пользователи быстрее найдут нужный товар   \n",
       "1                                     Запустить собственную службу доставки, что сократит срок доставки заказов   \n",
       "5                      Добавить страницу отзывов клиентов о магазине, что позволит увеличить количество заказов   \n",
       "4                              Изменить цвет фона главной страницы, чтобы увеличить вовлеченность пользователей   \n",
       "\n",
       "   reach  impact  confidence  efforts  ice_score  rice_score  \n",
       "7     10       7           8        5  11.200000       112.0  \n",
       "2      8       3           7        3   7.000000        56.0  \n",
       "0      3      10           8        6  13.333333        40.0  \n",
       "6      5       3           8        3   8.000000        40.0  \n",
       "8      1       9           9        5  16.200000        16.2  \n",
       "3      8       3           3        8   1.125000         9.0  \n",
       "1      2       5           4       10   2.000000         4.0  \n",
       "5      3       2           2        3   1.333333         4.0  \n",
       "4      3       1           1        1   1.000000         3.0  "
      ]
     },
     "execution_count": 6,
     "metadata": {},
     "output_type": "execute_result"
    }
   ],
   "source": [
    "# Расчёт оценки в соответствии с фреймворком RICE\n",
    "hypothesis['rice_score'] = (hypothesis['reach']\n",
    "                            * hypothesis['impact']\n",
    "                            * hypothesis['confidence']\n",
    "                            / hypothesis['efforts'])\n",
    "hypothesis.sort_values(by='rice_score', ascending=False)"
   ]
  },
  {
   "cell_type": "markdown",
   "metadata": {},
   "source": [
    "**Промежуточный вывод**: в соответствии с оценкой фреймворка RICE лидируют гипотезы:\n",
    "1. Добавить форму подписки на все основные страницы, чтобы собрать базу клиентов для email-рассылок\n",
    "2. Добавить блоки рекомендаций товаров на сайт интернет магазина, чтобы повысить конверсию и средний чек заказа\n",
    "3. Добавить два новых канала привлечения трафика, что позволит привлекать на 30% больше пользователей"
   ]
  },
  {
   "cell_type": "markdown",
   "metadata": {},
   "source": [
    "### Вывод по оценкам ICE и RICE"
   ]
  },
  {
   "cell_type": "markdown",
   "metadata": {},
   "source": [
    "* Очевидно, что единственное отличие между методиками оценки по ICE и RICE в том, что последняя учитывает охват  пользователей.\n",
    "* Несмотря на то, что по ICE лидировали гипотезы: \"Запустить акцию, дающую скидку на товар в день рождения\" и \"Добавить два новых канала привлечения трафика, что позволит привлекать на 30% больше пользователей\", они имели крайне низкие оценки охвата 1 и 3 соответственно: день рождения один раз в году, а новые каналы будут привлекать только на 30% больше пользователей.\n",
    "* Таким образом, мероприятия по данным гипотезам могли \"зацепить\" сравнительно небольшое число пользователей, что и показала оценка по фреймворку RICE. Если рассматривать результаты оценки по последнему, то гипотеза \"Добавить форму подписки на все основные страницы, чтобы собрать базу клиентов для email-рассылок\", хотя и уступает по оценке влияния, имеет максимальную оценку охвата, что позволило ей выбиться в лидеры.\n",
    "* Гипотеза \"Добавить блоки рекомендаций товаров на сайт интернет магазина, чтобы повысить конверсию и средний чек заказа\" также попала в тройку лидеров за счёт высокой оценки по охвату пользователей и низкой оценке усилий (хотя при этом у неё низкая оценка воздействия)."
   ]
  },
  {
   "cell_type": "markdown",
   "metadata": {},
   "source": [
    "## Анализ A/B-теста"
   ]
  },
  {
   "cell_type": "markdown",
   "metadata": {},
   "source": [
    "### Подготовка данных"
   ]
  },
  {
   "cell_type": "code",
   "execution_count": 7,
   "metadata": {
    "scrolled": false
   },
   "outputs": [
    {
     "data": {
      "text/html": [
       "<div>\n",
       "<style scoped>\n",
       "    .dataframe tbody tr th:only-of-type {\n",
       "        vertical-align: middle;\n",
       "    }\n",
       "\n",
       "    .dataframe tbody tr th {\n",
       "        vertical-align: top;\n",
       "    }\n",
       "\n",
       "    .dataframe thead th {\n",
       "        text-align: right;\n",
       "    }\n",
       "</style>\n",
       "<table border=\"1\" class=\"dataframe\">\n",
       "  <thead>\n",
       "    <tr style=\"text-align: right;\">\n",
       "      <th></th>\n",
       "      <th>transaction_id</th>\n",
       "      <th>visitor_id</th>\n",
       "      <th>date</th>\n",
       "      <th>revenue</th>\n",
       "      <th>group</th>\n",
       "    </tr>\n",
       "  </thead>\n",
       "  <tbody>\n",
       "    <tr>\n",
       "      <td>0</td>\n",
       "      <td>3667963787</td>\n",
       "      <td>3312258926</td>\n",
       "      <td>2019-08-15</td>\n",
       "      <td>1650</td>\n",
       "      <td>B</td>\n",
       "    </tr>\n",
       "    <tr>\n",
       "      <td>1</td>\n",
       "      <td>2804400009</td>\n",
       "      <td>3642806036</td>\n",
       "      <td>2019-08-15</td>\n",
       "      <td>730</td>\n",
       "      <td>B</td>\n",
       "    </tr>\n",
       "    <tr>\n",
       "      <td>2</td>\n",
       "      <td>2961555356</td>\n",
       "      <td>4069496402</td>\n",
       "      <td>2019-08-15</td>\n",
       "      <td>400</td>\n",
       "      <td>A</td>\n",
       "    </tr>\n",
       "    <tr>\n",
       "      <td>3</td>\n",
       "      <td>3797467345</td>\n",
       "      <td>1196621759</td>\n",
       "      <td>2019-08-15</td>\n",
       "      <td>9759</td>\n",
       "      <td>B</td>\n",
       "    </tr>\n",
       "    <tr>\n",
       "      <td>4</td>\n",
       "      <td>2282983706</td>\n",
       "      <td>2322279887</td>\n",
       "      <td>2019-08-15</td>\n",
       "      <td>2308</td>\n",
       "      <td>B</td>\n",
       "    </tr>\n",
       "  </tbody>\n",
       "</table>\n",
       "</div>"
      ],
      "text/plain": [
       "   transaction_id  visitor_id        date  revenue group\n",
       "0      3667963787  3312258926  2019-08-15     1650     B\n",
       "1      2804400009  3642806036  2019-08-15      730     B\n",
       "2      2961555356  4069496402  2019-08-15      400     A\n",
       "3      3797467345  1196621759  2019-08-15     9759     B\n",
       "4      2282983706  2322279887  2019-08-15     2308     B"
      ]
     },
     "metadata": {},
     "output_type": "display_data"
    },
    {
     "data": {
      "text/html": [
       "<div>\n",
       "<style scoped>\n",
       "    .dataframe tbody tr th:only-of-type {\n",
       "        vertical-align: middle;\n",
       "    }\n",
       "\n",
       "    .dataframe tbody tr th {\n",
       "        vertical-align: top;\n",
       "    }\n",
       "\n",
       "    .dataframe thead th {\n",
       "        text-align: right;\n",
       "    }\n",
       "</style>\n",
       "<table border=\"1\" class=\"dataframe\">\n",
       "  <thead>\n",
       "    <tr style=\"text-align: right;\">\n",
       "      <th></th>\n",
       "      <th>date</th>\n",
       "      <th>group</th>\n",
       "      <th>visitors</th>\n",
       "    </tr>\n",
       "  </thead>\n",
       "  <tbody>\n",
       "    <tr>\n",
       "      <td>0</td>\n",
       "      <td>2019-08-01</td>\n",
       "      <td>A</td>\n",
       "      <td>719</td>\n",
       "    </tr>\n",
       "    <tr>\n",
       "      <td>1</td>\n",
       "      <td>2019-08-02</td>\n",
       "      <td>A</td>\n",
       "      <td>619</td>\n",
       "    </tr>\n",
       "    <tr>\n",
       "      <td>2</td>\n",
       "      <td>2019-08-03</td>\n",
       "      <td>A</td>\n",
       "      <td>507</td>\n",
       "    </tr>\n",
       "    <tr>\n",
       "      <td>3</td>\n",
       "      <td>2019-08-04</td>\n",
       "      <td>A</td>\n",
       "      <td>717</td>\n",
       "    </tr>\n",
       "    <tr>\n",
       "      <td>4</td>\n",
       "      <td>2019-08-05</td>\n",
       "      <td>A</td>\n",
       "      <td>756</td>\n",
       "    </tr>\n",
       "  </tbody>\n",
       "</table>\n",
       "</div>"
      ],
      "text/plain": [
       "         date group  visitors\n",
       "0  2019-08-01     A       719\n",
       "1  2019-08-02     A       619\n",
       "2  2019-08-03     A       507\n",
       "3  2019-08-04     A       717\n",
       "4  2019-08-05     A       756"
      ]
     },
     "metadata": {},
     "output_type": "display_data"
    }
   ],
   "source": [
    "orders = pd.read_csv('/datasets/orders.csv')\n",
    "visitors = pd.read_csv('/datasets/visitors.csv')\n",
    "orders.columns = ['transaction_id',\n",
    "                  'visitor_id',\n",
    "                  'date',\n",
    "                  'revenue',\n",
    "                  'group']\n",
    "\n",
    "\n",
    "display(orders.head())\n",
    "display(visitors.head())"
   ]
  },
  {
   "cell_type": "markdown",
   "metadata": {},
   "source": [
    "Из описания данных таблицы `orders`:\n",
    "* transaction_id — идентификатор заказа;\n",
    "* visitor_id — идентификатор пользователя, совершившего заказ;\n",
    "* date — дата, когда был совершён заказ;\n",
    "* revenue — выручка заказа;\n",
    "* group — группа A/B-теста, в которую попал заказ.\n",
    "Из описания данных таблицы `visitors`:\n",
    "* date — дата;\n",
    "* group — группа A/B-теста;\n",
    "* visitors — количество пользователей в указанную дату в указанной группе A/B-теста"
   ]
  },
  {
   "cell_type": "code",
   "execution_count": 8,
   "metadata": {},
   "outputs": [],
   "source": [
    "visitors['date'] = pd.to_datetime(visitors['date'], format='%Y-%m-%d')\n",
    "orders['date'] = pd.to_datetime(orders['date'], format='%Y-%m-%d')"
   ]
  },
  {
   "cell_type": "code",
   "execution_count": 9,
   "metadata": {
    "scrolled": false
   },
   "outputs": [
    {
     "name": "stdout",
     "output_type": "stream",
     "text": [
      "<class 'pandas.core.frame.DataFrame'>\n",
      "RangeIndex: 62 entries, 0 to 61\n",
      "Data columns (total 3 columns):\n",
      "date        62 non-null datetime64[ns]\n",
      "group       62 non-null object\n",
      "visitors    62 non-null int64\n",
      "dtypes: datetime64[ns](1), int64(1), object(1)\n",
      "memory usage: 1.6+ KB\n",
      "\n",
      "Явных дубликатов:0\n",
      "\n",
      "<class 'pandas.core.frame.DataFrame'>\n",
      "RangeIndex: 1197 entries, 0 to 1196\n",
      "Data columns (total 5 columns):\n",
      "transaction_id    1197 non-null int64\n",
      "visitor_id        1197 non-null int64\n",
      "date              1197 non-null datetime64[ns]\n",
      "revenue           1197 non-null int64\n",
      "group             1197 non-null object\n",
      "dtypes: datetime64[ns](1), int64(3), object(1)\n",
      "memory usage: 46.9+ KB\n",
      "\n",
      "Явных дубликатов:0\n",
      "\n"
     ]
    }
   ],
   "source": [
    "def data_scope(df):\n",
    "    df.info()\n",
    "    print(f'\\nЯвных дубликатов:{df.duplicated().sum()}\\n')\n",
    "\n",
    "data_scope(visitors)\n",
    "data_scope(orders)"
   ]
  },
  {
   "cell_type": "code",
   "execution_count": 10,
   "metadata": {
    "scrolled": false
   },
   "outputs": [
    {
     "name": "stdout",
     "output_type": "stream",
     "text": [
      "Число покупателей, попавших в обе группы: 58. Это составляет 5.6% от общего числа покупателей.\n",
      "\n",
      "Вклад некорректных пользователей в группе A в %:\n"
     ]
    },
    {
     "data": {
      "text/plain": [
       "transaction_id    16.0\n",
       "revenue           17.6\n",
       "dtype: float64"
      ]
     },
     "metadata": {},
     "output_type": "display_data"
    },
    {
     "name": "stdout",
     "output_type": "stream",
     "text": [
      "Вклад некорректных пользователей в группе B в %:\n"
     ]
    },
    {
     "data": {
      "text/plain": [
       "transaction_id    14.4\n",
       "revenue           14.2\n",
       "dtype: float64"
      ]
     },
     "metadata": {},
     "output_type": "display_data"
    }
   ],
   "source": [
    "wrong_visitors = (orders.groupby('visitor_id', as_index=False)\n",
    "                  .agg({'group':'nunique'})\n",
    "                  .query('group > 1')['visitor_id'])\n",
    "\n",
    "print(f\"Число покупателей, попавших в обе группы: {wrong_visitors.count()}.\", end=' ')\n",
    "print(f\"Это составляет {wrong_visitors.count() / len(orders['visitor_id'].unique()):.1%} от общего числа покупателей.\\n\")\n",
    "\n",
    "print(\"Вклад некорректных пользователей в группе A в %:\")\n",
    "display(round(orders[(orders['group'] == 'A')\n",
    "                      & (orders['visitor_id'].isin(wrong_visitors))]\n",
    "              .agg({'transaction_id':'count', 'revenue':'sum'})\n",
    "              / orders[orders['group'] == 'A']\n",
    "              .agg({'transaction_id':'count', 'revenue':'sum'}) * 100,\n",
    "              1))\n",
    "print(\"Вклад некорректных пользователей в группе B в %:\")\n",
    "display(round(orders[(orders['group'] == 'B')\n",
    "                      & (orders['visitor_id'].isin(wrong_visitors))]\n",
    "              .agg({'transaction_id':'count', 'revenue':'sum'})\n",
    "              / orders[orders['group'] == 'B']\n",
    "              .agg({'transaction_id':'count', 'revenue':'sum'}) * 100, 1))"
   ]
  },
  {
   "cell_type": "markdown",
   "metadata": {},
   "source": [
    "**Вывод**\n",
    "\n",
    "По какой-то причине часть пользователей (58 человек) попала как в группу `A` так и в группу `B`. Процент таких пользователей сравнительно небольшой (5,6 %), однако доля покупок и прибыли значительно выше (16% и 18% для группы `A`; 14% и 14% для группы `B`)."
   ]
  },
  {
   "cell_type": "markdown",
   "metadata": {},
   "source": [
    "### Кумулятивные данные (\"грязные\")"
   ]
  },
  {
   "cell_type": "markdown",
   "metadata": {},
   "source": [
    "#### Подготовка кумулятивных данных"
   ]
  },
  {
   "cell_type": "code",
   "execution_count": 11,
   "metadata": {},
   "outputs": [],
   "source": [
    "def cumulative_data_maker(df_orders, df_visitors):\n",
    "    dates_groups = df_orders[['date','group']].drop_duplicates()\n",
    "    orders_aggregated = dates_groups.apply(lambda x: df_orders[(df_orders['date'] <= x['date'])\n",
    "                                                               & (df_orders['group'] == x['group'])]\n",
    "                                           .agg({'date':'max',\n",
    "                                                 'group':'max',\n",
    "                                                 'transaction_id':'nunique',\n",
    "                                                 'visitor_id':'nunique',\n",
    "                                                 'revenue':'sum'}),\n",
    "                                           axis=1).sort_values(by=['date', 'group'])\n",
    "    visitors_aggregated = dates_groups.apply(lambda x: df_visitors[(df_visitors['date'] <= x['date'])\n",
    "                                                                   & (df_visitors['group'] == x['group'])]\n",
    "                                             .agg({'date':'max',\n",
    "                                                   'group':'max',\n",
    "                                                   'visitors':'sum'}),\n",
    "                                             axis=1).sort_values(by=['date', 'group'])\n",
    "    df_cumulative_data = orders_aggregated.merge(visitors_aggregated, on=['date', 'group'])\n",
    "    df_cumulative_data.columns = ['date',\n",
    "                                  'group',\n",
    "                                  'orders',\n",
    "                                  'buyers',\n",
    "                                  'revenue',\n",
    "                                  'visitors']\n",
    "    # так как всё тестирование проходило в течение августа 2019 года,\n",
    "    # то вместо даты проще для восприятия использовать номер дня\n",
    "\n",
    "    df_cumulative_data['test_day'] = df_cumulative_data['date'].dt.day\n",
    "    return df_cumulative_data"
   ]
  },
  {
   "cell_type": "code",
   "execution_count": 12,
   "metadata": {
    "scrolled": false
   },
   "outputs": [],
   "source": [
    "cumulative_data = cumulative_data_maker(orders, visitors)"
   ]
  },
  {
   "cell_type": "markdown",
   "metadata": {},
   "source": [
    "#### Расчёт кумулятивной выручки по группам"
   ]
  },
  {
   "cell_type": "code",
   "execution_count": 13,
   "metadata": {},
   "outputs": [],
   "source": [
    "cumulative_revenue_a = cumulative_data.query('group == \"A\"')[['test_day',\n",
    "                                                             'orders',\n",
    "                                                             'revenue']]\n",
    "\n",
    "cumulative_revenue_b = cumulative_data.query('group == \"B\"')[['test_day',\n",
    "                                                             'orders',\n",
    "                                                             'revenue']]"
   ]
  },
  {
   "cell_type": "code",
   "execution_count": 56,
   "metadata": {
    "scrolled": false
   },
   "outputs": [
    {
     "data": {
      "image/png": "[encoded data removed]",
      "text/plain": [
       "<Figure size 864x576 with 1 Axes>"
      ]
     },
     "metadata": {
      "needs_background": "light"
     },
     "output_type": "display_data"
    }
   ],
   "source": [
    "fig = plt.figure(figsize=(12, 8))\n",
    "plt.plot(cumulative_revenue_a['test_day'],\n",
    "         cumulative_revenue_a['revenue'],\n",
    "         label='A')\n",
    "\n",
    "plt.plot(cumulative_revenue_b['test_day'],\n",
    "         cumulative_revenue_b['revenue'],\n",
    "         label='B')\n",
    "plt.title('Кумулятивная выручка по дням A/B-тестирования')\n",
    "plt.xlabel('День тестирования', fontsize='14')\n",
    "plt.ylabel('Кумулятивная выручка', fontsize='14')\n",
    "plt.xticks([x for x in range(1, 32)])\n",
    "plt.annotate('скачок',\n",
    "             xy=(18.2, 3300000),\n",
    "             xytext=(15, 4000000),\n",
    "             arrowprops=dict(facecolor='orange'),\n",
    "             fontsize='14')\n",
    "plt.grid(True)\n",
    "plt.legend()\n",
    "plt.show()"
   ]
  },
  {
   "cell_type": "markdown",
   "metadata": {},
   "source": [
    "**ВЫВОД**\n",
    "\n",
    "Группа `B` на всём протяжении тестирования имеет большую кумулятивную выручку, чем группа `A`. При этом на наблюдается скачок кумулятивной выручки на 19 день тестирования для группы `B`. Возможно, он обусловлен аномально большой покупкой."
   ]
  },
  {
   "cell_type": "markdown",
   "metadata": {},
   "source": [
    "#### Расчёт кумулятивного среднего чека по группам"
   ]
  },
  {
   "cell_type": "code",
   "execution_count": 15,
   "metadata": {},
   "outputs": [
    {
     "data": {
      "image/png": "[encoded data removed]",
      "text/plain": [
       "<Figure size 864x576 with 1 Axes>"
      ]
     },
     "metadata": {
      "needs_background": "light"
     },
     "output_type": "display_data"
    }
   ],
   "source": [
    "fig = plt.figure(figsize=(12, 8))\n",
    "plt.plot(cumulative_revenue_a['test_day'],\n",
    "        cumulative_revenue_a['revenue'] / cumulative_revenue_a['orders'],\n",
    "        label='A')\n",
    "\n",
    "plt.plot(cumulative_revenue_b['test_day'],\n",
    "        cumulative_revenue_b['revenue'] / cumulative_revenue_b['orders'],\n",
    "        label='B')\n",
    "plt.title('Кумулятивный средний чек по дням A/B-тестирования')\n",
    "plt.xlabel('День тестирования')\n",
    "plt.ylabel('Кумулятивный средний чек')\n",
    "plt.xticks([x for x in range(1, 32)])\n",
    "plt.annotate('скачок',\n",
    "             xy=(18.2, 8500),\n",
    "             xytext=(15, 9000),\n",
    "             arrowprops=dict(facecolor='orange'),\n",
    "             fontsize='14')\n",
    "plt.grid(True)\n",
    "plt.legend()\n",
    "plt.show()"
   ]
  },
  {
   "cell_type": "markdown",
   "metadata": {},
   "source": [
    "**ВЫВОД**\n",
    "\n",
    "Группа `B` в целом имеет больший кумулятивный средний чек, чем группа `A`. При этом на наблюдается скачок кумулятивного среднего чека на 19 день тестирования для группы `B`. В данный день средний чек резко увеличился - была совершена аномально большая покупка."
   ]
  },
  {
   "cell_type": "markdown",
   "metadata": {},
   "source": [
    "#### Расчёт отношения кумулятивного среднего чека группы `B` к группе `A`"
   ]
  },
  {
   "cell_type": "code",
   "execution_count": 16,
   "metadata": {},
   "outputs": [],
   "source": [
    "merged_cumulative_revenue = cumulative_revenue_a.merge(cumulative_revenue_b,\n",
    "                                                       on='test_day',\n",
    "                                                       suffixes=('_a', '_b'))"
   ]
  },
  {
   "cell_type": "code",
   "execution_count": 57,
   "metadata": {
    "scrolled": false
   },
   "outputs": [
    {
     "data": {
      "image/png": "[encoded data removed]",
      "text/plain": [
       "<Figure size 864x576 with 1 Axes>"
      ]
     },
     "metadata": {
      "needs_background": "light"
     },
     "output_type": "display_data"
    }
   ],
   "source": [
    "fig = plt.figure(figsize=(12, 8))\n",
    "plt.plot(merged_cumulative_revenue['test_day'],\n",
    "         merged_cumulative_revenue['revenue_b']\n",
    "         / merged_cumulative_revenue['orders_b']\n",
    "         / merged_cumulative_revenue['revenue_a']\n",
    "         * merged_cumulative_revenue['orders_a']\n",
    "         - 1)\n",
    "plt.title('Относительное изменение кумулятивного среднего чека группы B к группе А')\n",
    "plt.xlabel('День тестирования')\n",
    "plt.ylabel('Отношение среднего чека группы B к группе A')\n",
    "plt.xticks([x for x in range(1, 32)])\n",
    "plt.grid(True)\n",
    "plt.axhline(y=0,\n",
    "            color='black',\n",
    "            linestyle='--')\n",
    "plt.annotate('скачок',\n",
    "             xy=(18.2, 0.3),\n",
    "             xytext=(15, 0.35),\n",
    "             arrowprops=dict(facecolor='blue'),\n",
    "             fontsize='14')\n",
    "plt.show()"
   ]
  },
  {
   "cell_type": "markdown",
   "metadata": {},
   "source": [
    "**Вывод**\n",
    "\n",
    "Относительное изменение среднего чека группы `B` к группе `A` не противоречит ранее высказанным предположениям: средний чек группы `B` выше, чем средний чек группа `A`. Также можно отметить скачки, вызванные выбросами."
   ]
  },
  {
   "cell_type": "markdown",
   "metadata": {},
   "source": [
    "#### Расчёт кумулятивной конверсии по группам"
   ]
  },
  {
   "cell_type": "code",
   "execution_count": 18,
   "metadata": {},
   "outputs": [],
   "source": [
    "cumulative_data['conversion'] = cumulative_data['orders'] / cumulative_data['visitors']"
   ]
  },
  {
   "cell_type": "code",
   "execution_count": 19,
   "metadata": {},
   "outputs": [],
   "source": [
    "cumulative_conversion_a = cumulative_data.query('group == \"A\"')[['test_day',\n",
    "                                                             'orders',\n",
    "                                                             'conversion']]\n",
    "\n",
    "cumulative_conversion_b = cumulative_data.query('group == \"B\"')[['test_day',\n",
    "                                                             'orders',\n",
    "                                                             'conversion']]"
   ]
  },
  {
   "cell_type": "code",
   "execution_count": 60,
   "metadata": {
    "scrolled": false
   },
   "outputs": [
    {
     "data": {
      "image/png": "[encoded data removed]",
      "text/plain": [
       "<Figure size 864x576 with 1 Axes>"
      ]
     },
     "metadata": {
      "needs_background": "light"
     },
     "output_type": "display_data"
    }
   ],
   "source": [
    "fig = plt.figure(figsize=(12, 8))\n",
    "plt.plot(cumulative_conversion_a['test_day'],\n",
    "         cumulative_conversion_a['conversion'],\n",
    "         label='A')\n",
    "\n",
    "plt.plot(cumulative_conversion_b['test_day'],\n",
    "         cumulative_conversion_b['conversion'],\n",
    "         label='B')\n",
    "plt.title('Кумулятивная конверсия по дням A/B-тестирования')\n",
    "plt.xlabel('День тестирования')\n",
    "plt.ylabel('Кумулятивная конверсия')\n",
    "plt.xticks([x for x in range(1, 32)])\n",
    "plt.grid(True)\n",
    "plt.annotate('мало шума',\n",
    "             xy=(26, 0.0335),\n",
    "             xytext=(24, 0.032),\n",
    "             arrowprops=dict(facecolor='orange'),\n",
    "             fontsize='14')\n",
    "plt.annotate('         ',\n",
    "             xy=(26, 0.0305),\n",
    "             xytext=(24, 0.032),\n",
    "             arrowprops=dict(facecolor='blue'),\n",
    "             fontsize='14')\n",
    "plt.legend()\n",
    "plt.show()"
   ]
  },
  {
   "cell_type": "markdown",
   "metadata": {},
   "source": [
    "**Вывод**\n",
    "\n",
    "В течение первых 10 дней тестирования наблюдается шум, который значительно снижается к 20-му дню. В целом кумулятивная конверсия для группы `B` выше чем для группы `A`."
   ]
  },
  {
   "cell_type": "markdown",
   "metadata": {},
   "source": [
    "#### Расчёт отношения кумулятивной конверсии группы `B` к группе `A`"
   ]
  },
  {
   "cell_type": "code",
   "execution_count": 21,
   "metadata": {},
   "outputs": [],
   "source": [
    "merged_cumulative_conversion = cumulative_conversion_a.merge(cumulative_conversion_b,\n",
    "                                                             on='test_day',\n",
    "                                                             suffixes=('_a', '_b'))"
   ]
  },
  {
   "cell_type": "code",
   "execution_count": 22,
   "metadata": {
    "scrolled": false
   },
   "outputs": [
    {
     "data": {
      "image/png": "[encoded data removed]",
      "text/plain": [
       "<Figure size 864x576 with 1 Axes>"
      ]
     },
     "metadata": {
      "needs_background": "light"
     },
     "output_type": "display_data"
    }
   ],
   "source": [
    "fig = plt.figure(figsize=(12, 8))\n",
    "plt.plot(merged_cumulative_conversion['test_day'],\n",
    "         merged_cumulative_conversion['conversion_b']\n",
    "         / merged_cumulative_conversion['conversion_a']\n",
    "         - 1)\n",
    "plt.title('Относительное изменение кумулятивной конверсии группы B к группе А')\n",
    "plt.xlabel('День тестирования')\n",
    "plt.ylabel('Отношение кумулятивной конверсии группы B к группе A')\n",
    "plt.xticks([x for x in range(1, 32)])\n",
    "plt.grid(True)\n",
    "plt.axhline(y=0,\n",
    "            color='black',\n",
    "            linestyle='--')\n",
    "plt.axhline(y=0.11,\n",
    "            color='grey',\n",
    "            linestyle='--')\n",
    "plt.show()"
   ]
  },
  {
   "cell_type": "markdown",
   "metadata": {},
   "source": [
    "**Вывод**\n",
    "\n",
    "Стабилизировавшееся к 20 дню изменение отношения кумулятивной конверсии показывает приблизительное 11% преимущество группы `B` относительно группы `A`."
   ]
  },
  {
   "cell_type": "markdown",
   "metadata": {},
   "source": [
    "### Поиск выбросов"
   ]
  },
  {
   "cell_type": "markdown",
   "metadata": {},
   "source": [
    "#### Поиск выбросов по количеству заказов"
   ]
  },
  {
   "cell_type": "code",
   "execution_count": 23,
   "metadata": {},
   "outputs": [],
   "source": [
    "orders_by_buyers = orders.groupby('visitor_id', as_index=False).agg({'transaction_id':'nunique'})\n",
    "orders_by_buyers.columns = ['visitor_id', 'orders']"
   ]
  },
  {
   "cell_type": "code",
   "execution_count": 24,
   "metadata": {},
   "outputs": [
    {
     "data": {
      "image/png": "[encoded data removed]",
      "text/plain": [
       "<Figure size 864x576 with 1 Axes>"
      ]
     },
     "metadata": {
      "needs_background": "light"
     },
     "output_type": "display_data"
    }
   ],
   "source": [
    "fig = plt.figure(figsize=(12, 8))\n",
    "plt.scatter(orders_by_buyers.index, orders_by_buyers['orders'], alpha=0.5)\n",
    "plt.title('Количество заказов по покупателям')\n",
    "plt.xlabel('Условный номер покупателя')\n",
    "plt.ylabel('Количество заказов, шт.')\n",
    "plt.yticks([x for x in range(12)])\n",
    "plt.grid(True)\n",
    "plt.show()"
   ]
  },
  {
   "cell_type": "code",
   "execution_count": 25,
   "metadata": {},
   "outputs": [
    {
     "data": {
      "image/png": "[encoded data removed]",
      "text/plain": [
       "<Figure size 864x576 with 1 Axes>"
      ]
     },
     "metadata": {
      "needs_background": "light"
     },
     "output_type": "display_data"
    }
   ],
   "source": [
    "fig = plt.figure(figsize=(12, 8))\n",
    "plt.hist(orders_by_buyers['orders'], bins=11, range=(1, 11))\n",
    "plt.xticks([x for x in range(1, 12)])\n",
    "plt.title('Количество заказов по покупателям')\n",
    "plt.xlabel('Число заказов, шт.')\n",
    "plt.ylabel('Количество покупателей')\n",
    "plt.grid(True)\n",
    "plt.show()"
   ]
  },
  {
   "cell_type": "markdown",
   "metadata": {},
   "source": [
    "**Промежуточный вывод**\n",
    "\n",
    "По результатам анализа графиков очевидно, что большинство покупателей совершают по одному заказу, лишь небольшое число делает 2 или 3 заказа. В отдельных случаях число заказов доходит до 11. Очевидно, что данные отдельные случаи являются выбросами."
   ]
  },
  {
   "cell_type": "code",
   "execution_count": 26,
   "metadata": {},
   "outputs": [
    {
     "name": "stdout",
     "output_type": "stream",
     "text": [
      "Распределение покупателей от числа покупок по 90, 95 и 99 перцентилям\n",
      "[1. 2. 4.]\n"
     ]
    }
   ],
   "source": [
    "print('Распределение покупателей от числа покупок по 90, 95 и 99 перцентилям')\n",
    "print(np.percentile(orders_by_buyers['orders'], [90, 95, 99]))"
   ]
  },
  {
   "cell_type": "markdown",
   "metadata": {},
   "source": [
    "**Промежуточный вывод**\n",
    "\n",
    "95% покупателей совершают не более 2 покупок, 99% покупателей совершают не более 4 покупок. За верхнюю границу для фильтрации выбросов необходимо выбрать 2 покупки."
   ]
  },
  {
   "cell_type": "markdown",
   "metadata": {},
   "source": [
    "#### Поиск выбросов по количеству заказов"
   ]
  },
  {
   "cell_type": "code",
   "execution_count": 27,
   "metadata": {},
   "outputs": [
    {
     "data": {
      "image/png": "[encoded data removed]",
      "text/plain": [
       "<Figure size 864x576 with 1 Axes>"
      ]
     },
     "metadata": {
      "needs_background": "light"
     },
     "output_type": "display_data"
    }
   ],
   "source": [
    "fig = plt.figure(figsize=(12, 8))\n",
    "plt.scatter(orders.index, orders['revenue'], alpha=0.5)\n",
    "plt.title('Определение вылетов по стоимости заказов')\n",
    "plt.xlabel('Условный номер заказа')\n",
    "plt.ylabel('Стоимость заказа, у.е.')\n",
    "plt.grid(True)\n",
    "plt.show()"
   ]
  },
  {
   "cell_type": "code",
   "execution_count": 28,
   "metadata": {},
   "outputs": [
    {
     "data": {
      "image/png": "[encoded data removed]",
      "text/plain": [
       "<Figure size 864x576 with 1 Axes>"
      ]
     },
     "metadata": {
      "needs_background": "light"
     },
     "output_type": "display_data"
    }
   ],
   "source": [
    "fig = plt.figure(figsize=(12, 8))\n",
    "plt.hist(orders['revenue'], bins=200)\n",
    "plt.title('Определение вылетов по стоимости заказов')\n",
    "plt.xlabel('Стоимость заказа, у.е.')\n",
    "plt.ylabel('Количество заказов')\n",
    "plt.grid(True)\n",
    "plt.show()"
   ]
  },
  {
   "cell_type": "markdown",
   "metadata": {},
   "source": [
    "**Промежуточный вывод**\n",
    "\n",
    "Очевидно, что попадаются покупатели с очень крупными заказами, но таких немного. Эти покупатили могут оказывать значительное влияние на результаты анализа и их данные необходимо отнести к выбросам."
   ]
  },
  {
   "cell_type": "code",
   "execution_count": 29,
   "metadata": {},
   "outputs": [
    {
     "name": "stdout",
     "output_type": "stream",
     "text": [
      "Распределение покупателей от объёма выручки по 90, 95 и 99 перцентилям\n",
      "[18168.  28000.  58233.2]\n"
     ]
    }
   ],
   "source": [
    "print('Распределение покупателей от объёма выручки по 90, 95 и 99 перцентилям')\n",
    "print(np.percentile(orders['revenue'], [90, 95, 99]))"
   ]
  },
  {
   "cell_type": "markdown",
   "metadata": {},
   "source": [
    "**Промежуточный вывод**\n",
    "\n",
    "95% покупателей совершают покупки на сумму не более 28000 у.е., 1% превосходит порог в 58233,2 у.е. В качестве верхнего порогового значения примем 28000 у.е."
   ]
  },
  {
   "cell_type": "markdown",
   "metadata": {},
   "source": [
    "**Вывод**:\n",
    "\n",
    "Для фильтрации данных в дальнейшем будут применены следующие критерии:\n",
    "* число покупок не более 2\n",
    "* стоимость одной покупки не более 28 тыс. у.е."
   ]
  },
  {
   "cell_type": "code",
   "execution_count": 53,
   "metadata": {},
   "outputs": [
    {
     "name": "stdout",
     "output_type": "stream",
     "text": [
      "alpha: 0.050\n",
      "p-значение: 0.008\n",
      "Отвергаем нулевую гипотезу \"Отсутствие статистически значимой разницы между конверсиями для групп A и B\", в пользу альтернативной гипотезы \"Группа B показывает лучшую конверсию, чем группа A\".\n",
      "Различие в средней конверсии: 0.138\n"
     ]
    }
   ],
   "source": [
    "# функция для проверки по критерию Уикоксона-Манна-Уитни\n",
    "def mannwhitneyu_check(alpha, h_0, h_alt, samp_a, samp_b):\n",
    "    print(f'alpha: {alpha:.3f}')\n",
    "    print(f'p-значение: {stats.mannwhitneyu(samp_a, samp_b, alternative=\"less\")[1]:.3f}')\n",
    "    if stats.mannwhitneyu(samp_a, samp_b)[1] < alpha:\n",
    "        print(f'Отвергаем нулевую гипотезу \"{h_0}\", в пользу альтернативной гипотезы \"{h_alt}\".')\n",
    "    else:\n",
    "        print(f'Не удалось отвергнуть нулевую гипотезу \"{h_0}\".')\n",
    "    \n",
    "        \n",
    "mannwhitneyu_check(0.05,\n",
    "                   'Отсутствие статистически значимой разницы между конверсиями для групп A и B',\n",
    "                   'Группа B показывает лучшую конверсию, чем группа A',\n",
    "                   sample_a,\n",
    "                   sample_b)    \n",
    "\n",
    "print(f'Различие в средней конверсии: {sample_b.mean()/sample_a.mean()-1:.3f}')"
   ]
  },
  {
   "cell_type": "markdown",
   "metadata": {},
   "source": [
    "**Вывод**\n",
    "\n",
    "* Наблюдается значимая разница между конверсиями между группами `A` и `B` по \"сырым данным\" в пользу группы `B` (на 13,8 %).\n",
    "* Тест Уилкоксона-Манна-Уитни позволяет отвергнуть гипотезу о том, что наблюдаемая разница не является статистически значимой, в пользу альтернативной гипотезы \"Группа B показывает лучшую конверсию, чем группа A\"."
   ]
  },
  {
   "cell_type": "markdown",
   "metadata": {},
   "source": [
    "#### Оценка статистической значимости различий в средних чеках между группами по «сырым» данным"
   ]
  },
  {
   "cell_type": "markdown",
   "metadata": {},
   "source": [
    "Проверим группы `A` и `B` на наличие статистически значимых различий по среднему чеку помощью теста Уилкоксона-Манна-Уитни.\n",
    "В качестве нулевой гипотезы примем \"Отсутствие статистически значимой разницы между средними чеками для групп `A` и `B`\". Альтернативная гипотеза: \"Группа `B` показывает лучший средний чек, чем группа `A`\", таким образом нам понадобится односторонняя проверка гипотезы. В качестве значения альфа примем 0,05."
   ]
  },
  {
   "cell_type": "code",
   "execution_count": 47,
   "metadata": {
    "scrolled": true
   },
   "outputs": [
    {
     "name": "stdout",
     "output_type": "stream",
     "text": [
      "alpha: 0.050\n",
      "p-значение: 0.365\n",
      "Не удалось отвергнуть нулевую гипотезу \"Отсутствие статистически значимой разницы между средними чеками для групп A и B\".\n",
      "Различие в среднем чеке: 0.259\n"
     ]
    }
   ],
   "source": [
    "mannwhitneyu_check(0.05,\n",
    "                   'Отсутствие статистически значимой разницы между средними чеками для групп A и B',\n",
    "                   'Группа B показывает лучший средний чек, чем группа A',\n",
    "                   orders.query('group == \"A\"')['revenue'],\n",
    "                   orders.query('group == \"B\"')['revenue'])\n",
    "\n",
    "print(f'Различие в среднем чеке: \\\n",
    "{orders[orders[\"group\"] == \"B\"][\"revenue\"].mean()/orders[orders[\"group\"] == \"A\"][\"revenue\"].mean()-1:.3f}')"
   ]
  },
  {
   "cell_type": "markdown",
   "metadata": {},
   "source": [
    "**Вывод**\n",
    "\n",
    "Несмотря на то, что наблюдается разница между средними чеками для групп `A` и `B` по \"сырым данным\" в пользу группы `B` на 25,9%, тест Уилкоксона-Манна-Уитни не позволяет нам отбросить гипотезу об отсутствие статистически значимой разницы между группами."
   ]
  },
  {
   "cell_type": "markdown",
   "metadata": {},
   "source": [
    "### Подготовка очищенных данных"
   ]
  },
  {
   "cell_type": "code",
   "execution_count": 48,
   "metadata": {},
   "outputs": [],
   "source": [
    "visitors_whith_expensive_orders = orders.query('revenue > 28000')['visitor_id']\n",
    "visitors_whith_many_orders = (orders.groupby('visitor_id', as_index=False)\n",
    "                           .agg({'transaction_id': 'nunique'})\n",
    "                           .query('transaction_id > 2')['visitor_id'])\n",
    "abnormal_visitors = pd.concat([visitors_whith_expensive_orders, visitors_whith_many_orders], axis=0).drop_duplicates()"
   ]
  },
  {
   "cell_type": "code",
   "execution_count": 49,
   "metadata": {},
   "outputs": [],
   "source": [
    "sample_a_filtered = sample_maker(visitors,\n",
    "                                 orders[~orders['visitor_id'].isin(abnormal_visitors)],\n",
    "                                 'A')\n",
    "sample_b_filtered = sample_maker(visitors,\n",
    "                                 orders[~orders['visitor_id'].isin(abnormal_visitors)],\n",
    "                                 'B')"
   ]
  },
  {
   "cell_type": "markdown",
   "metadata": {},
   "source": [
    "### Оценка статистической значимости различий по \"очищенным данным\""
   ]
  },
  {
   "cell_type": "markdown",
   "metadata": {},
   "source": [
    "#### Оценка статистической значимости различий в конверсии между группами по «очищенным» данным"
   ]
  },
  {
   "cell_type": "code",
   "execution_count": 50,
   "metadata": {},
   "outputs": [
    {
     "name": "stdout",
     "output_type": "stream",
     "text": [
      "alpha: 0.050\n",
      "p-значение: 0.006\n",
      "Отвергаем нулевую гипотезу \"Отсутствие статистически значимой разницы между конверсиями для групп A и B\", принимает альтернативную гипотезу \"Группа B показывает лучшую конверсию, чем группа A\".\n",
      "Различие в средней конверсии: 0.176\n"
     ]
    }
   ],
   "source": [
    "mannwhitneyu_check(0.05,\n",
    "                   'Отсутствие статистически значимой разницы между конверсиями для групп A и B',\n",
    "                   'Группа B показывает лучшую конверсию, чем группа A',\n",
    "                   sample_a_filtered,\n",
    "                   sample_b_filtered)    \n",
    "\n",
    "print(f'Различие в средней конверсии: {sample_b_filtered.mean()/sample_a_filtered.mean()-1:.3f}')"
   ]
  },
  {
   "cell_type": "markdown",
   "metadata": {},
   "source": [
    "**Вывод**\n",
    "\n",
    "* Проведение анализа на \"очищенных\" данных подтвердило предыдущие выводы.\n",
    "* Наблюдается значимая разница между конверсиями между группами `A` и `B` по \"сырым данным\" в пользу группы `B` на 17,6 % (по \"сырым\" данным было 13,8 %).\n",
    "* Тест Уилкоксона-Манна-Уитни позволяет отвергнуть гипотезу о том, что наблюдаемая разница не является статистически значимой (p значение уменьшилось с 0,008 до 0,006), в пользу альтернативной гипотезы \"Группа B показывает лучшую конверсию, чем группа A\"."
   ]
  },
  {
   "cell_type": "markdown",
   "metadata": {},
   "source": [
    "#### Оценка статистической значимости различий в средних чеках между группами по «очищенным» данным"
   ]
  },
  {
   "cell_type": "code",
   "execution_count": 55,
   "metadata": {},
   "outputs": [
    {
     "name": "stdout",
     "output_type": "stream",
     "text": [
      "alpha: 0.050\n",
      "p-значение: 0.624\n",
      "Не удалось отвергнуть нулевую гипотезу \"Отсутствие статистически значимой разницы между средними чеками для групп A и B\".\n",
      "Различие в среднем чеке: 0.023\n"
     ]
    }
   ],
   "source": [
    "mannwhitneyu_check(0.05,\n",
    "                   'Отсутствие статистически значимой разницы между средними чеками для групп A и B',\n",
    "                   'Группа B показывает лучший средний чек, чем группа A',\n",
    "                   orders[(~orders['visitor_id'].isin(abnormal_visitors))\n",
    "                          & (orders['group'] == \"A\")]['revenue'],\n",
    "                   orders[(~orders['visitor_id'].isin(abnormal_visitors))\n",
    "                          & (orders['group'] == \"B\")]['revenue'])\n",
    "\n",
    "average_check_a = orders[(~orders['visitor_id'].isin(abnormal_visitors)) & (orders['group'] == \"A\")]['revenue'].mean()\n",
    "average_check_b = orders[(~orders['visitor_id'].isin(abnormal_visitors)) & (orders['group'] == \"B\")]['revenue'].mean()\n",
    "\n",
    "print(f'Различие в среднем чеке: {average_check_a/average_check_b-1:.3f}')"
   ]
  },
  {
   "cell_type": "markdown",
   "metadata": {},
   "source": [
    "**Вывод**\n",
    "\n",
    "* Анализ по \"очищенным\" данным ставит всё на свои места.\n",
    "* Ранее наблюдаемая разница в средних чеках сократилась с 25,9% до 2,3 %.\n",
    "* Тест Уилкоксона-Манна-Уитни не позволяет нам отбросить гипотезу об отсутствии статистически значимой разницы между группами."
   ]
  },
  {
   "cell_type": "markdown",
   "metadata": {},
   "source": [
    "### Кумулятивные данные (\"чистые\")"
   ]
  },
  {
   "cell_type": "markdown",
   "metadata": {},
   "source": [
    "#### Расчёт кумулятивной выручки по группам на основе \"очищенных\" данных"
   ]
  },
  {
   "cell_type": "code",
   "execution_count": 36,
   "metadata": {
    "scrolled": false
   },
   "outputs": [],
   "source": [
    "cumulative_data = cumulative_data_maker(orders[~orders['visitor_id'].isin(abnormal_visitors)],\n",
    "                                        visitors)"
   ]
  },
  {
   "cell_type": "code",
   "execution_count": 37,
   "metadata": {},
   "outputs": [],
   "source": [
    "cumulative_revenue_a = cumulative_data.query('group == \"A\"')[['test_day',\n",
    "                                                             'orders',\n",
    "                                                             'revenue']]\n",
    "\n",
    "cumulative_revenue_b = cumulative_data.query('group == \"B\"')[['test_day',\n",
    "                                                             'orders',\n",
    "                                                             'revenue']]"
   ]
  },
  {
   "cell_type": "code",
   "execution_count": 38,
   "metadata": {
    "scrolled": false
   },
   "outputs": [
    {
     "data": {
      "image/png": "[encoded data removed]",
      "text/plain": [
       "<Figure size 864x576 with 1 Axes>"
      ]
     },
     "metadata": {
      "needs_background": "light"
     },
     "output_type": "display_data"
    }
   ],
   "source": [
    "fig = plt.figure(figsize=(12, 8))\n",
    "plt.plot(cumulative_revenue_a['test_day'],\n",
    "         cumulative_revenue_a['revenue'],\n",
    "         label='A')\n",
    "\n",
    "plt.plot(cumulative_revenue_b['test_day'],\n",
    "         cumulative_revenue_b['revenue'],\n",
    "         label='B')\n",
    "plt.title('Кумулятивная выручка по дням A/B-тестирования')\n",
    "plt.xlabel('День тестирования')\n",
    "plt.ylabel('Кумулятивная выручка')\n",
    "plt.xticks([x for x in range(1, 32)])\n",
    "plt.grid(True)\n",
    "plt.legend()\n",
    "plt.show()"
   ]
  },
  {
   "cell_type": "markdown",
   "metadata": {},
   "source": [
    "**ВЫВОД**\n",
    "\n",
    "\"Очищенные\" данные показывают, что группа `B` на всём протяжении тестирования имеет большую кумулятивную выручку, чем группа `A`. Ранее наблюдаемые скачки отсутствуют."
   ]
  },
  {
   "cell_type": "markdown",
   "metadata": {},
   "source": [
    "#### Расчёт кумулятивного среднего чека по группам на основе \"очищенных\" данных"
   ]
  },
  {
   "cell_type": "code",
   "execution_count": 39,
   "metadata": {},
   "outputs": [
    {
     "data": {
      "image/png": "[encoded data removed]",
      "text/plain": [
       "<Figure size 864x576 with 1 Axes>"
      ]
     },
     "metadata": {
      "needs_background": "light"
     },
     "output_type": "display_data"
    }
   ],
   "source": [
    "fig = plt.figure(figsize=(12, 8))\n",
    "plt.plot(cumulative_revenue_a['test_day'],\n",
    "        cumulative_revenue_a['revenue'] / cumulative_revenue_a['orders'],\n",
    "        label='A')\n",
    "\n",
    "plt.plot(cumulative_revenue_b['test_day'],\n",
    "        cumulative_revenue_b['revenue'] / cumulative_revenue_b['orders'],\n",
    "        label='B')\n",
    "plt.title('Кумулятивный средний чек по дням A/B-тестирования')\n",
    "plt.xlabel('День тестирования')\n",
    "plt.ylabel('Кумулятивный средний чек')\n",
    "plt.xticks([x for x in range(1, 32)])\n",
    "plt.grid(True)\n",
    "plt.legend()\n",
    "plt.show()"
   ]
  },
  {
   "cell_type": "markdown",
   "metadata": {},
   "source": [
    "**ВЫВОД**\n",
    "\n",
    "На \"очищенных\" трудно сделать вывод какая из двух групп имеет больший средний чек."
   ]
  },
  {
   "cell_type": "markdown",
   "metadata": {},
   "source": [
    "#### Расчёт отношения кумулятивного среднего чека группы `B` к группе `A` на основе \"очищенных\" данных"
   ]
  },
  {
   "cell_type": "code",
   "execution_count": 40,
   "metadata": {},
   "outputs": [],
   "source": [
    "merged_cumulative_revenue = cumulative_revenue_a.merge(cumulative_revenue_b,\n",
    "                                                       on='test_day',\n",
    "                                                       suffixes=('_a', '_b'))"
   ]
  },
  {
   "cell_type": "code",
   "execution_count": 41,
   "metadata": {
    "scrolled": false
   },
   "outputs": [
    {
     "data": {
      "image/png": "[encoded data removed]",
      "text/plain": [
       "<Figure size 864x576 with 1 Axes>"
      ]
     },
     "metadata": {
      "needs_background": "light"
     },
     "output_type": "display_data"
    }
   ],
   "source": [
    "fig = plt.figure(figsize=(12, 8))\n",
    "plt.plot(merged_cumulative_revenue['test_day'],\n",
    "         merged_cumulative_revenue['revenue_b']\n",
    "         / merged_cumulative_revenue['orders_b']\n",
    "         / merged_cumulative_revenue['revenue_a']\n",
    "         * merged_cumulative_revenue['orders_a']\n",
    "         - 1)\n",
    "plt.title('Относительное изменение кумулятивного среднего чека группы B к группе А')\n",
    "plt.xlabel('День тестирования')\n",
    "plt.ylabel('Отношение среднего чека группы B к группе A')\n",
    "plt.xticks([x for x in range(1, 32)])\n",
    "plt.grid(True)\n",
    "plt.axhline(y=0,\n",
    "            color='black',\n",
    "            linestyle='--')\n",
    "plt.show()"
   ]
  },
  {
   "cell_type": "markdown",
   "metadata": {},
   "source": [
    "**Вывод**\n",
    "\n",
    "Относительное изменение среднего чека группы `B` к группе `A` также не демонстрирует преимущество одной группы над другой."
   ]
  },
  {
   "cell_type": "markdown",
   "metadata": {},
   "source": [
    "#### Расчёт кумулятивной конверсии по группам на основе \"очищенных\" данных"
   ]
  },
  {
   "cell_type": "code",
   "execution_count": 42,
   "metadata": {},
   "outputs": [],
   "source": [
    "cumulative_data['conversion'] = cumulative_data['orders'] / cumulative_data['visitors']"
   ]
  },
  {
   "cell_type": "code",
   "execution_count": 43,
   "metadata": {},
   "outputs": [],
   "source": [
    "cumulative_conversion_a = cumulative_data.query('group == \"A\"')[['test_day',\n",
    "                                                             'orders',\n",
    "                                                             'conversion']]\n",
    "\n",
    "cumulative_conversion_b = cumulative_data.query('group == \"B\"')[['test_day',\n",
    "                                                             'orders',\n",
    "                                                             'conversion']]"
   ]
  },
  {
   "cell_type": "code",
   "execution_count": 44,
   "metadata": {
    "scrolled": false
   },
   "outputs": [
    {
     "data": {
      "image/png": "[encoded data removed]",
      "text/plain": [
       "<Figure size 864x576 with 1 Axes>"
      ]
     },
     "metadata": {
      "needs_background": "light"
     },
     "output_type": "display_data"
    }
   ],
   "source": [
    "fig = plt.figure(figsize=(12, 8))\n",
    "plt.plot(cumulative_conversion_a['test_day'],\n",
    "         cumulative_conversion_a['conversion'],\n",
    "         label='A')\n",
    "\n",
    "plt.plot(cumulative_conversion_b['test_day'],\n",
    "         cumulative_conversion_b['conversion'],\n",
    "         label='B')\n",
    "plt.title('Кумулятивная конверсия по дням A/B-тестирования')\n",
    "plt.xlabel('День тестирования')\n",
    "plt.ylabel('Кумулятивная конверсия')\n",
    "plt.xticks([x for x in range(1, 32)])\n",
    "plt.grid(True)\n",
    "plt.legend()\n",
    "plt.show()"
   ]
  },
  {
   "cell_type": "markdown",
   "metadata": {},
   "source": [
    "**Вывод**\n",
    "\n",
    "\"Очищенные\" данные несильно повлияли на график кумулятивной конверсии. Предыдущие выводы справедливы: В течение первых 10 дней тестирования наблюдается шум, который значительно снижается к 20-му дню. В целом кумулятивная конверсия для группы `B` выше чем для группы `A`."
   ]
  },
  {
   "cell_type": "markdown",
   "metadata": {},
   "source": [
    "#### Расчёт отношения кумулятивной конверсии группы `B` к группе `A`  на основе \"очищенных\" данных"
   ]
  },
  {
   "cell_type": "code",
   "execution_count": 45,
   "metadata": {},
   "outputs": [],
   "source": [
    "merged_cumulative_conversion = cumulative_conversion_a.merge(cumulative_conversion_b,\n",
    "                                                             on='test_day',\n",
    "                                                             suffixes=('_a', '_b'))"
   ]
  },
  {
   "cell_type": "code",
   "execution_count": 46,
   "metadata": {
    "scrolled": false
   },
   "outputs": [
    {
     "data": {
      "image/png": "[encoded data removed]",
      "text/plain": [
       "<Figure size 864x576 with 1 Axes>"
      ]
     },
     "metadata": {
      "needs_background": "light"
     },
     "output_type": "display_data"
    }
   ],
   "source": [
    "fig = plt.figure(figsize=(12, 8))\n",
    "plt.plot(merged_cumulative_conversion['test_day'],\n",
    "         merged_cumulative_conversion['conversion_b']\n",
    "         / merged_cumulative_conversion['conversion_a']\n",
    "         - 1)\n",
    "plt.title('Относительное изменение кумулятивной конверсии группы B к группе А')\n",
    "plt.xlabel('День тестирования')\n",
    "plt.ylabel('Отношение кумулятивной конверсии группы B к группе A')\n",
    "plt.xticks([x for x in range(1, 32)])\n",
    "plt.grid(True)\n",
    "plt.axhline(y=0,\n",
    "            color='black',\n",
    "            linestyle='--')\n",
    "plt.axhline(y=0.15,\n",
    "            color='grey',\n",
    "            linestyle='--')\n",
    "plt.show()"
   ]
  },
  {
   "cell_type": "markdown",
   "metadata": {},
   "source": [
    "**Вывод**\n",
    "\n",
    "На \"очищенных\" данных стабилизировавшееся к 20 дню изменение отношения кумулятивной конверсии показывает приблизительное 15% (ранее было 11%) преимущество группы `B` относительно группы `A`."
   ]
  },
  {
   "cell_type": "markdown",
   "metadata": {},
   "source": [
    "### Выводы по A/B тесту"
   ]
  },
  {
   "cell_type": "markdown",
   "metadata": {},
   "source": [
    "1. В рамках анализа A/B теста оценивались такие параметры, как конверсия, выручка и средний чек.\n",
    "2. Для конверсии была принята альтернативная гипотеза о наличии статистически значимого различия по конверсии между двумя группами как по \"сырым\", так и по \"очищенным\" данным. По \"очищенным\" данным средняя конверсия группы `B` лучше группы `A`на 17.6 %, кумулятивная конверсия группы `B` лучше на 15 %.\n",
    "3. По среднему чеку не получилось отвергнуть нулевую гипотезу об отстуствии статистически значимого различия между средними чеками по группам. По \"очищенным\" данным средний чек группы `B` лучше группы `A` всего лишь на 2.3%.\n",
    "4. Не противоречит выводам 2 и 3 выявленное на основе анализа кумулятивных данных преимущество группы `B` по кумулятивной выручке относительно группы `A`.\n",
    "5. Графики по кумулятивным данным показывают, что начиная с 20 дня теста каких-то изменений в поведении метрик не наблюдается.\n",
    "6. На основании вышесказанного предлагается зафиксировать победу группы `B`, показавшей лучшую конверсию при прочих равных, и остановить A/B-тест."
   ]
  },
  {
   "cell_type": "markdown",
   "metadata": {},
   "source": [
    "## Общие выводы"
   ]
  },
  {
   "cell_type": "markdown",
   "metadata": {},
   "source": [
    "В рамках проекта:\n",
    "1. Выполнена приоритизация списка из 9 гипотез на основе фреймворков ICE и RICE. Фреймворки показали различные результаты, наиболее высоко оценённой оказалась 7-я гипотеза \"Добавить форму подписки на все основные страницы, чтобы собрать базу клиентов для email-рассылок\".\n",
    "2. При подготовке A/B теста были допущены ошибки, и 5.6% покупателей попали как в группу A, так и в группу B.\n",
    "3. Проведен анализ A/B теста. По результатам анализа предлагается зафиксировать победу группы `B`, показавшей лучшую конверсию при том же среднем чеке, и остановить A/B-тест. Масштабирование мероприятий группы `B` позволит увеличить выручку в целом по продукту."
   ]
  },
  {
   "cell_type": "code",
   "execution_count": null,
   "metadata": {},
   "outputs": [],
   "source": []
  }
 ],
 "metadata": {
  "ExecuteTimeLog": [
   {
    "duration": 928,
    "start_time": "2022-02-21T16:19:39.871Z"
   },
   {
    "duration": 28,
    "start_time": "2022-02-21T16:20:54.270Z"
   },
   {
    "duration": 22,
    "start_time": "2022-02-21T16:20:59.035Z"
   },
   {
    "duration": 4,
    "start_time": "2022-02-21T16:22:16.435Z"
   },
   {
    "duration": 11,
    "start_time": "2022-02-21T16:22:19.163Z"
   },
   {
    "duration": 14,
    "start_time": "2022-02-21T16:22:23.363Z"
   },
   {
    "duration": 5,
    "start_time": "2022-02-21T16:22:25.667Z"
   },
   {
    "duration": 13,
    "start_time": "2022-02-21T16:22:31.835Z"
   },
   {
    "duration": 155,
    "start_time": "2022-02-21T16:22:32.608Z"
   },
   {
    "duration": 12,
    "start_time": "2022-02-21T16:23:59.062Z"
   },
   {
    "duration": 406,
    "start_time": "2022-02-21T16:29:39.206Z"
   },
   {
    "duration": 265,
    "start_time": "2022-02-21T16:29:59.294Z"
   },
   {
    "duration": 246,
    "start_time": "2022-02-21T16:30:03.386Z"
   },
   {
    "duration": 13,
    "start_time": "2022-02-21T16:30:07.514Z"
   },
   {
    "duration": 12,
    "start_time": "2022-02-21T16:30:12.379Z"
   },
   {
    "duration": 291,
    "start_time": "2022-02-21T16:34:47.701Z"
   },
   {
    "duration": 19,
    "start_time": "2022-02-21T16:34:52.197Z"
   },
   {
    "duration": 16,
    "start_time": "2022-02-21T16:35:00.861Z"
   },
   {
    "duration": 3,
    "start_time": "2022-02-21T16:37:02.306Z"
   },
   {
    "duration": 20,
    "start_time": "2022-02-21T16:37:52.128Z"
   },
   {
    "duration": 79,
    "start_time": "2022-02-21T16:38:21.804Z"
   },
   {
    "duration": 75,
    "start_time": "2022-02-21T16:55:12.350Z"
   },
   {
    "duration": 44,
    "start_time": "2022-02-21T16:55:21.434Z"
   },
   {
    "duration": 9,
    "start_time": "2022-02-21T16:57:09.890Z"
   },
   {
    "duration": 8,
    "start_time": "2022-02-21T16:57:26.406Z"
   },
   {
    "duration": 12,
    "start_time": "2022-02-21T16:57:44.278Z"
   },
   {
    "duration": 12,
    "start_time": "2022-02-21T16:57:55.186Z"
   },
   {
    "duration": 6,
    "start_time": "2022-02-21T16:58:54.122Z"
   },
   {
    "duration": 17,
    "start_time": "2022-02-21T16:58:59.470Z"
   },
   {
    "duration": 8,
    "start_time": "2022-02-21T16:59:07.314Z"
   },
   {
    "duration": 9,
    "start_time": "2022-02-21T16:59:38.150Z"
   },
   {
    "duration": 13,
    "start_time": "2022-02-21T16:59:43.354Z"
   },
   {
    "duration": 823,
    "start_time": "2022-02-21T16:59:56.766Z"
   },
   {
    "duration": 13,
    "start_time": "2022-02-21T16:59:57.592Z"
   },
   {
    "duration": 803,
    "start_time": "2022-02-21T16:59:57.608Z"
   },
   {
    "duration": 310,
    "start_time": "2022-02-21T16:59:58.413Z"
   },
   {
    "duration": 266,
    "start_time": "2022-02-21T16:59:58.726Z"
   },
   {
    "duration": 573,
    "start_time": "2022-02-21T16:59:58.994Z"
   },
   {
    "duration": 669,
    "start_time": "2022-02-21T16:59:59.571Z"
   },
   {
    "duration": 568,
    "start_time": "2022-02-21T17:00:00.243Z"
   },
   {
    "duration": 511,
    "start_time": "2022-02-21T17:00:00.814Z"
   },
   {
    "duration": 662,
    "start_time": "2022-02-21T17:00:01.327Z"
   },
   {
    "duration": 9,
    "start_time": "2022-02-21T17:03:48.423Z"
   },
   {
    "duration": 14,
    "start_time": "2022-02-21T17:03:52.823Z"
   },
   {
    "duration": 44,
    "start_time": "2022-02-21T17:39:18.222Z"
   },
   {
    "duration": 15,
    "start_time": "2022-02-21T17:39:32.271Z"
   },
   {
    "duration": 10,
    "start_time": "2022-02-21T17:39:34.258Z"
   },
   {
    "duration": 13,
    "start_time": "2022-02-21T17:39:36.158Z"
   },
   {
    "duration": 10,
    "start_time": "2022-02-21T17:39:38.998Z"
   },
   {
    "duration": 81,
    "start_time": "2022-02-21T17:42:46.762Z"
   },
   {
    "duration": 1383,
    "start_time": "2022-02-21T17:42:55.336Z"
   },
   {
    "duration": 77,
    "start_time": "2022-02-21T17:43:29.206Z"
   },
   {
    "duration": 328,
    "start_time": "2022-02-21T17:44:35.607Z"
   },
   {
    "duration": 17,
    "start_time": "2022-02-21T17:44:40.843Z"
   },
   {
    "duration": 7377,
    "start_time": "2022-02-21T17:46:33.758Z"
   },
   {
    "duration": 482,
    "start_time": "2022-02-21T17:47:28.135Z"
   },
   {
    "duration": 298,
    "start_time": "2022-02-21T17:48:32.763Z"
   },
   {
    "duration": 247,
    "start_time": "2022-02-21T17:50:39.265Z"
   },
   {
    "duration": 361,
    "start_time": "2022-02-21T17:50:50.617Z"
   },
   {
    "duration": 310,
    "start_time": "2022-02-21T17:50:51.473Z"
   },
   {
    "duration": 10,
    "start_time": "2022-02-21T17:50:52.657Z"
   },
   {
    "duration": 22,
    "start_time": "2022-02-21T17:51:00.517Z"
   },
   {
    "duration": 4,
    "start_time": "2022-02-21T17:51:52.073Z"
   },
   {
    "duration": 15,
    "start_time": "2022-02-21T17:54:37.905Z"
   },
   {
    "duration": 333,
    "start_time": "2022-02-21T17:55:21.068Z"
   },
   {
    "duration": 22,
    "start_time": "2022-02-21T17:55:48.232Z"
   },
   {
    "duration": 802,
    "start_time": "2022-02-21T17:56:06.224Z"
   },
   {
    "duration": 13,
    "start_time": "2022-02-21T17:56:07.030Z"
   },
   {
    "duration": 939,
    "start_time": "2022-02-21T17:56:07.048Z"
   },
   {
    "duration": 1007,
    "start_time": "2022-02-21T17:56:07.990Z"
   },
   {
    "duration": 1181,
    "start_time": "2022-02-21T17:56:09.001Z"
   },
   {
    "duration": 568,
    "start_time": "2022-02-21T17:56:10.185Z"
   },
   {
    "duration": 1107,
    "start_time": "2022-02-21T17:56:10.755Z"
   },
   {
    "duration": 981,
    "start_time": "2022-02-21T17:56:11.864Z"
   },
   {
    "duration": 1274,
    "start_time": "2022-02-21T17:56:12.848Z"
   },
   {
    "duration": 1325,
    "start_time": "2022-02-21T17:56:14.125Z"
   },
   {
    "duration": 1503,
    "start_time": "2022-02-21T17:56:15.453Z"
   },
   {
    "duration": 1338,
    "start_time": "2022-02-21T17:56:16.958Z"
   },
   {
    "duration": 1212,
    "start_time": "2022-02-21T17:56:18.298Z"
   },
   {
    "duration": 817,
    "start_time": "2022-02-21T17:56:19.513Z"
   },
   {
    "duration": 5,
    "start_time": "2022-02-21T17:56:25.510Z"
   },
   {
    "duration": 21,
    "start_time": "2022-02-21T17:56:30.625Z"
   },
   {
    "duration": 413,
    "start_time": "2022-02-21T17:56:37.637Z"
   },
   {
    "duration": 14,
    "start_time": "2022-02-21T17:56:50.350Z"
   },
   {
    "duration": 294,
    "start_time": "2022-02-21T17:58:06.334Z"
   },
   {
    "duration": 126,
    "start_time": "2022-02-21T17:59:05.006Z"
   },
   {
    "duration": 356,
    "start_time": "2022-02-21T17:59:11.837Z"
   },
   {
    "duration": 323,
    "start_time": "2022-02-21T18:00:58.657Z"
   },
   {
    "duration": 361,
    "start_time": "2022-02-21T18:01:17.133Z"
   },
   {
    "duration": 309,
    "start_time": "2022-02-21T18:03:24.512Z"
   },
   {
    "duration": 537,
    "start_time": "2022-02-21T18:03:45.337Z"
   },
   {
    "duration": 486,
    "start_time": "2022-02-21T18:03:50.560Z"
   },
   {
    "duration": 558,
    "start_time": "2022-02-21T18:03:58.856Z"
   },
   {
    "duration": 700,
    "start_time": "2022-02-21T18:04:29.805Z"
   },
   {
    "duration": 758,
    "start_time": "2022-02-21T18:05:07.768Z"
   },
   {
    "duration": 753,
    "start_time": "2022-02-21T18:05:22.596Z"
   },
   {
    "duration": 533,
    "start_time": "2022-02-21T18:05:26.456Z"
   },
   {
    "duration": 773,
    "start_time": "2022-02-21T18:06:07.100Z"
   },
   {
    "duration": 911,
    "start_time": "2022-02-21T18:06:11.696Z"
   },
   {
    "duration": 788,
    "start_time": "2022-02-21T18:06:31.181Z"
   },
   {
    "duration": 501,
    "start_time": "2022-02-21T18:06:56.751Z"
   },
   {
    "duration": 33,
    "start_time": "2022-02-21T18:08:23.031Z"
   },
   {
    "duration": 8,
    "start_time": "2022-02-21T18:08:38.652Z"
   },
   {
    "duration": 9,
    "start_time": "2022-02-21T18:08:45.332Z"
   },
   {
    "duration": 417,
    "start_time": "2022-02-21T18:09:24.053Z"
   },
   {
    "duration": 260,
    "start_time": "2022-02-21T18:09:27.712Z"
   },
   {
    "duration": 230,
    "start_time": "2022-02-21T18:09:34.952Z"
   },
   {
    "duration": 6,
    "start_time": "2022-02-21T18:09:54.619Z"
   },
   {
    "duration": 25,
    "start_time": "2022-02-21T18:10:01.691Z"
   },
   {
    "duration": 96,
    "start_time": "2022-02-21T18:10:30.112Z"
   },
   {
    "duration": 575,
    "start_time": "2022-02-21T18:10:31.136Z"
   },
   {
    "duration": 489,
    "start_time": "2022-02-21T18:11:52.959Z"
   },
   {
    "duration": 866,
    "start_time": "2022-02-21T18:15:00.272Z"
   },
   {
    "duration": 753,
    "start_time": "2022-02-21T18:15:46.556Z"
   },
   {
    "duration": 631,
    "start_time": "2022-02-21T18:15:55.431Z"
   },
   {
    "duration": 765,
    "start_time": "2022-02-21T18:16:05.294Z"
   },
   {
    "duration": 621,
    "start_time": "2022-02-21T18:16:27.278Z"
   },
   {
    "duration": 605,
    "start_time": "2022-02-21T18:18:33.848Z"
   },
   {
    "duration": 608,
    "start_time": "2022-02-21T18:21:15.465Z"
   },
   {
    "duration": 10,
    "start_time": "2022-02-21T18:25:56.389Z"
   },
   {
    "duration": 18,
    "start_time": "2022-02-21T18:26:01.629Z"
   },
   {
    "duration": 9,
    "start_time": "2022-02-21T18:26:20.473Z"
   },
   {
    "duration": 15,
    "start_time": "2022-02-21T18:26:21.145Z"
   },
   {
    "duration": 816,
    "start_time": "2022-02-21T18:31:11.796Z"
   },
   {
    "duration": 648,
    "start_time": "2022-02-21T18:31:53.016Z"
   },
   {
    "duration": 6985,
    "start_time": "2022-02-21T18:33:10.696Z"
   },
   {
    "duration": 1015,
    "start_time": "2022-02-21T18:33:39.477Z"
   },
   {
    "duration": 5,
    "start_time": "2022-02-21T18:44:40.210Z"
   },
   {
    "duration": 15,
    "start_time": "2022-02-21T18:45:00.311Z"
   },
   {
    "duration": 606,
    "start_time": "2022-02-21T18:46:21.855Z"
   },
   {
    "duration": 45,
    "start_time": "2022-02-21T18:51:13.137Z"
   },
   {
    "duration": 679,
    "start_time": "2022-02-21T18:53:27.933Z"
   },
   {
    "duration": 649,
    "start_time": "2022-02-21T18:54:53.005Z"
   },
   {
    "duration": 635,
    "start_time": "2022-02-21T18:55:00.597Z"
   },
   {
    "duration": 995,
    "start_time": "2022-02-21T18:55:05.605Z"
   },
   {
    "duration": 312,
    "start_time": "2022-02-23T09:26:31.155Z"
   },
   {
    "duration": 649,
    "start_time": "2022-02-23T09:26:42.031Z"
   },
   {
    "duration": 15,
    "start_time": "2022-02-23T09:26:42.682Z"
   },
   {
    "duration": 8,
    "start_time": "2022-02-23T09:26:42.699Z"
   },
   {
    "duration": 14,
    "start_time": "2022-02-23T09:26:42.709Z"
   },
   {
    "duration": 17,
    "start_time": "2022-02-23T09:26:42.724Z"
   },
   {
    "duration": 10,
    "start_time": "2022-02-23T09:26:42.743Z"
   },
   {
    "duration": 58,
    "start_time": "2022-02-23T09:26:42.754Z"
   },
   {
    "duration": 7,
    "start_time": "2022-02-23T09:26:42.813Z"
   },
   {
    "duration": 8,
    "start_time": "2022-02-23T09:26:42.823Z"
   },
   {
    "duration": 12,
    "start_time": "2022-02-23T09:26:42.833Z"
   },
   {
    "duration": 7,
    "start_time": "2022-02-23T09:26:42.846Z"
   },
   {
    "duration": 183,
    "start_time": "2022-02-23T09:26:42.854Z"
   },
   {
    "duration": 145,
    "start_time": "2022-02-23T09:26:43.039Z"
   },
   {
    "duration": 5,
    "start_time": "2022-02-23T09:26:43.186Z"
   },
   {
    "duration": 6,
    "start_time": "2022-02-23T09:26:43.192Z"
   },
   {
    "duration": 5,
    "start_time": "2022-02-23T09:26:43.200Z"
   },
   {
    "duration": 13,
    "start_time": "2022-02-23T09:26:43.207Z"
   },
   {
    "duration": 8,
    "start_time": "2022-02-23T09:26:43.231Z"
   },
   {
    "duration": 317,
    "start_time": "2022-02-23T09:26:43.240Z"
   },
   {
    "duration": 313,
    "start_time": "2022-02-23T09:26:43.558Z"
   },
   {
    "duration": 5,
    "start_time": "2022-02-23T09:26:43.872Z"
   },
   {
    "duration": 438,
    "start_time": "2022-02-23T09:26:43.879Z"
   },
   {
    "duration": 13,
    "start_time": "2022-02-23T09:26:44.319Z"
   },
   {
    "duration": 34,
    "start_time": "2022-02-23T09:26:44.334Z"
   },
   {
    "duration": 374,
    "start_time": "2022-02-23T09:26:44.369Z"
   },
   {
    "duration": 6,
    "start_time": "2022-02-23T09:26:44.745Z"
   },
   {
    "duration": 435,
    "start_time": "2022-02-23T09:26:44.754Z"
   },
   {
    "duration": 343,
    "start_time": "2022-02-23T09:26:45.191Z"
   },
   {
    "duration": 359,
    "start_time": "2022-02-23T09:27:00.827Z"
   },
   {
    "duration": 5,
    "start_time": "2022-02-23T09:28:22.407Z"
   },
   {
    "duration": 279,
    "start_time": "2022-02-23T09:30:54.595Z"
   },
   {
    "duration": 10,
    "start_time": "2022-02-23T09:31:33.260Z"
   },
   {
    "duration": 6,
    "start_time": "2022-02-23T09:33:17.730Z"
   },
   {
    "duration": 6,
    "start_time": "2022-02-23T09:33:31.893Z"
   },
   {
    "duration": 7,
    "start_time": "2022-02-23T09:34:25.949Z"
   },
   {
    "duration": 8,
    "start_time": "2022-02-23T09:35:48.958Z"
   },
   {
    "duration": 1537,
    "start_time": "2022-02-23T09:36:03.125Z"
   },
   {
    "duration": 6,
    "start_time": "2022-02-23T09:36:12.733Z"
   },
   {
    "duration": 8,
    "start_time": "2022-02-23T09:36:13.553Z"
   },
   {
    "duration": 4,
    "start_time": "2022-02-23T09:36:19.165Z"
   },
   {
    "duration": 356,
    "start_time": "2022-02-23T09:36:22.517Z"
   },
   {
    "duration": 4,
    "start_time": "2022-02-23T09:36:25.470Z"
   },
   {
    "duration": 264,
    "start_time": "2022-02-23T09:36:53.805Z"
   },
   {
    "duration": 294,
    "start_time": "2022-02-23T09:37:07.974Z"
   },
   {
    "duration": 377,
    "start_time": "2022-02-23T09:37:33.077Z"
   },
   {
    "duration": 353,
    "start_time": "2022-02-23T09:37:39.833Z"
   },
   {
    "duration": 324,
    "start_time": "2022-02-23T09:38:54.660Z"
   },
   {
    "duration": 504,
    "start_time": "2022-02-23T09:39:45.124Z"
   },
   {
    "duration": 349,
    "start_time": "2022-02-23T09:39:53.040Z"
   },
   {
    "duration": 368,
    "start_time": "2022-02-23T09:39:58.329Z"
   },
   {
    "duration": 365,
    "start_time": "2022-02-23T09:40:04.814Z"
   },
   {
    "duration": 335,
    "start_time": "2022-02-23T09:40:10.488Z"
   },
   {
    "duration": 315,
    "start_time": "2022-02-23T09:40:14.064Z"
   },
   {
    "duration": 355,
    "start_time": "2022-02-23T09:40:35.124Z"
   },
   {
    "duration": 7,
    "start_time": "2022-02-23T09:42:21.544Z"
   },
   {
    "duration": 359,
    "start_time": "2022-02-23T09:42:22.409Z"
   },
   {
    "duration": 6,
    "start_time": "2022-02-23T09:42:46.240Z"
   },
   {
    "duration": 6,
    "start_time": "2022-02-23T09:42:53.256Z"
   },
   {
    "duration": 366,
    "start_time": "2022-02-23T09:42:54.616Z"
   },
   {
    "duration": 201,
    "start_time": "2022-02-23T09:43:28.281Z"
   },
   {
    "duration": 209,
    "start_time": "2022-02-23T09:43:45.609Z"
   },
   {
    "duration": 222,
    "start_time": "2022-02-23T09:44:00.564Z"
   },
   {
    "duration": 211,
    "start_time": "2022-02-23T09:44:04.308Z"
   },
   {
    "duration": 263,
    "start_time": "2022-02-23T09:44:10.064Z"
   },
   {
    "duration": 210,
    "start_time": "2022-02-23T09:44:14.686Z"
   },
   {
    "duration": 213,
    "start_time": "2022-02-23T09:44:26.544Z"
   },
   {
    "duration": 220,
    "start_time": "2022-02-23T09:44:47.644Z"
   },
   {
    "duration": 229,
    "start_time": "2022-02-23T09:45:28.016Z"
   },
   {
    "duration": 94,
    "start_time": "2022-02-23T09:45:54.332Z"
   },
   {
    "duration": 229,
    "start_time": "2022-02-23T09:46:00.084Z"
   },
   {
    "duration": 225,
    "start_time": "2022-02-23T09:46:03.052Z"
   },
   {
    "duration": 232,
    "start_time": "2022-02-23T09:46:16.036Z"
   },
   {
    "duration": 239,
    "start_time": "2022-02-23T09:46:23.232Z"
   },
   {
    "duration": 229,
    "start_time": "2022-02-23T09:46:43.996Z"
   },
   {
    "duration": 230,
    "start_time": "2022-02-23T09:47:21.244Z"
   },
   {
    "duration": 312,
    "start_time": "2022-02-23T09:47:28.948Z"
   },
   {
    "duration": 220,
    "start_time": "2022-02-23T09:47:33.791Z"
   },
   {
    "duration": 3,
    "start_time": "2022-02-23T09:49:57.307Z"
   },
   {
    "duration": 4,
    "start_time": "2022-02-23T09:50:23.095Z"
   },
   {
    "duration": 276,
    "start_time": "2022-02-23T09:52:29.627Z"
   },
   {
    "duration": 271,
    "start_time": "2022-02-23T09:52:37.251Z"
   },
   {
    "duration": 299,
    "start_time": "2022-02-23T09:52:50.679Z"
   },
   {
    "duration": 91,
    "start_time": "2022-02-23T09:53:14.407Z"
   },
   {
    "duration": 98,
    "start_time": "2022-02-23T09:53:21.830Z"
   },
   {
    "duration": 271,
    "start_time": "2022-02-23T09:53:32.295Z"
   },
   {
    "duration": 4,
    "start_time": "2022-02-23T09:53:43.590Z"
   },
   {
    "duration": 4,
    "start_time": "2022-02-23T09:53:53.534Z"
   },
   {
    "duration": 327,
    "start_time": "2022-02-23T09:54:10.382Z"
   },
   {
    "duration": 309,
    "start_time": "2022-02-23T09:55:14.894Z"
   },
   {
    "duration": 287,
    "start_time": "2022-02-23T09:55:33.622Z"
   },
   {
    "duration": 271,
    "start_time": "2022-02-23T09:56:01.534Z"
   },
   {
    "duration": 5,
    "start_time": "2022-02-23T09:56:46.222Z"
   },
   {
    "duration": 289,
    "start_time": "2022-02-23T09:57:51.894Z"
   },
   {
    "duration": 5,
    "start_time": "2022-02-23T09:57:57.598Z"
   },
   {
    "duration": 4,
    "start_time": "2022-02-23T09:58:41.234Z"
   },
   {
    "duration": 7,
    "start_time": "2022-02-23T10:01:31.701Z"
   },
   {
    "duration": 479,
    "start_time": "2022-02-23T10:09:12.181Z"
   },
   {
    "duration": 7,
    "start_time": "2022-02-23T10:09:15.960Z"
   },
   {
    "duration": 377,
    "start_time": "2022-02-23T10:09:31.405Z"
   },
   {
    "duration": 219,
    "start_time": "2022-02-23T10:11:41.260Z"
   },
   {
    "duration": 243,
    "start_time": "2022-02-23T10:12:43.232Z"
   },
   {
    "duration": 374,
    "start_time": "2022-02-23T10:13:05.864Z"
   },
   {
    "duration": 507,
    "start_time": "2022-02-23T10:13:12.067Z"
   },
   {
    "duration": 5,
    "start_time": "2022-02-23T10:15:52.512Z"
   },
   {
    "duration": 92,
    "start_time": "2022-02-23T10:17:13.943Z"
   },
   {
    "duration": 305,
    "start_time": "2022-02-23T10:25:25.065Z"
   },
   {
    "duration": 5,
    "start_time": "2022-02-23T10:25:45.038Z"
   },
   {
    "duration": 7,
    "start_time": "2022-02-23T10:25:55.114Z"
   },
   {
    "duration": 88,
    "start_time": "2022-02-23T10:27:35.306Z"
   },
   {
    "duration": 9,
    "start_time": "2022-02-23T10:27:52.965Z"
   },
   {
    "duration": 10,
    "start_time": "2022-02-23T10:29:27.418Z"
   },
   {
    "duration": 14,
    "start_time": "2022-02-23T10:29:46.445Z"
   },
   {
    "duration": 11,
    "start_time": "2022-02-23T10:30:05.257Z"
   },
   {
    "duration": 9,
    "start_time": "2022-02-23T10:33:26.985Z"
   },
   {
    "duration": 303,
    "start_time": "2022-02-23T10:33:54.741Z"
   },
   {
    "duration": 11,
    "start_time": "2022-02-23T10:34:02.716Z"
   },
   {
    "duration": 7,
    "start_time": "2022-02-23T10:34:11.929Z"
   },
   {
    "duration": 6,
    "start_time": "2022-02-23T10:34:28.493Z"
   },
   {
    "duration": 8,
    "start_time": "2022-02-23T10:35:40.508Z"
   },
   {
    "duration": 6,
    "start_time": "2022-02-23T10:35:46.549Z"
   },
   {
    "duration": 4,
    "start_time": "2022-02-23T10:35:52.636Z"
   },
   {
    "duration": 4,
    "start_time": "2022-02-23T10:35:56.229Z"
   },
   {
    "duration": 8,
    "start_time": "2022-02-23T10:35:59.764Z"
   },
   {
    "duration": 4,
    "start_time": "2022-02-23T10:36:13.524Z"
   },
   {
    "duration": 6,
    "start_time": "2022-02-23T10:36:20.410Z"
   },
   {
    "duration": 338,
    "start_time": "2022-02-23T10:37:01.005Z"
   },
   {
    "duration": 313,
    "start_time": "2022-02-23T10:37:10.110Z"
   },
   {
    "duration": 286,
    "start_time": "2022-02-23T10:37:24.989Z"
   },
   {
    "duration": 5,
    "start_time": "2022-02-23T10:37:31.240Z"
   },
   {
    "duration": 3,
    "start_time": "2022-02-23T10:37:35.249Z"
   },
   {
    "duration": 302,
    "start_time": "2022-02-23T10:37:38.852Z"
   },
   {
    "duration": 6,
    "start_time": "2022-02-23T10:37:45.173Z"
   },
   {
    "duration": 7,
    "start_time": "2022-02-23T10:38:03.592Z"
   },
   {
    "duration": 8,
    "start_time": "2022-02-23T10:40:00.992Z"
   },
   {
    "duration": 9,
    "start_time": "2022-02-23T10:40:05.364Z"
   },
   {
    "duration": 6,
    "start_time": "2022-02-23T10:40:13.916Z"
   },
   {
    "duration": 5,
    "start_time": "2022-02-23T10:40:14.460Z"
   },
   {
    "duration": 9,
    "start_time": "2022-02-23T10:40:53.879Z"
   },
   {
    "duration": 5,
    "start_time": "2022-02-23T10:40:58.300Z"
   },
   {
    "duration": 4,
    "start_time": "2022-02-23T10:42:15.280Z"
   },
   {
    "duration": 374,
    "start_time": "2022-02-23T10:44:33.296Z"
   },
   {
    "duration": 3,
    "start_time": "2022-02-23T10:45:30.220Z"
   },
   {
    "duration": 7,
    "start_time": "2022-02-23T10:45:36.844Z"
   },
   {
    "duration": 5,
    "start_time": "2022-02-23T10:45:45.436Z"
   },
   {
    "duration": 5,
    "start_time": "2022-02-23T10:45:51.692Z"
   },
   {
    "duration": 6,
    "start_time": "2022-02-23T10:46:39.068Z"
   },
   {
    "duration": 5,
    "start_time": "2022-02-23T10:47:42.935Z"
   },
   {
    "duration": 3,
    "start_time": "2022-02-23T10:48:04.919Z"
   },
   {
    "duration": 9,
    "start_time": "2022-02-23T10:59:40.997Z"
   },
   {
    "duration": 10,
    "start_time": "2022-02-23T11:00:04.354Z"
   },
   {
    "duration": 10,
    "start_time": "2022-02-23T11:00:15.717Z"
   },
   {
    "duration": 10,
    "start_time": "2022-02-23T11:00:50.229Z"
   },
   {
    "duration": 10,
    "start_time": "2022-02-23T11:01:13.397Z"
   },
   {
    "duration": 10,
    "start_time": "2022-02-23T11:01:59.605Z"
   },
   {
    "duration": 10,
    "start_time": "2022-02-23T11:03:55.125Z"
   },
   {
    "duration": 10,
    "start_time": "2022-02-23T11:03:56.949Z"
   },
   {
    "duration": 11,
    "start_time": "2022-02-23T11:07:28.840Z"
   },
   {
    "duration": 93,
    "start_time": "2022-02-23T11:07:39.929Z"
   },
   {
    "duration": 10,
    "start_time": "2022-02-23T11:08:39.056Z"
   },
   {
    "duration": 100,
    "start_time": "2022-02-23T11:09:49.800Z"
   },
   {
    "duration": 101,
    "start_time": "2022-02-23T11:09:54.336Z"
   },
   {
    "duration": 92,
    "start_time": "2022-02-23T11:10:10.164Z"
   },
   {
    "duration": 132,
    "start_time": "2022-02-23T11:10:57.916Z"
   },
   {
    "duration": 4,
    "start_time": "2022-02-23T11:11:18.588Z"
   },
   {
    "duration": 320,
    "start_time": "2022-02-23T11:11:23.535Z"
   },
   {
    "duration": 302,
    "start_time": "2022-02-23T11:11:31.715Z"
   },
   {
    "duration": 16,
    "start_time": "2022-02-23T11:11:41.735Z"
   },
   {
    "duration": 94,
    "start_time": "2022-02-23T11:11:53.860Z"
   },
   {
    "duration": 15,
    "start_time": "2022-02-23T11:12:02.620Z"
   },
   {
    "duration": 12,
    "start_time": "2022-02-23T11:12:44.143Z"
   },
   {
    "duration": 12,
    "start_time": "2022-02-23T11:13:01.744Z"
   },
   {
    "duration": 13,
    "start_time": "2022-02-23T11:13:04.848Z"
   },
   {
    "duration": 11,
    "start_time": "2022-02-23T11:13:09.450Z"
   },
   {
    "duration": 13,
    "start_time": "2022-02-23T11:13:41.343Z"
   },
   {
    "duration": 11,
    "start_time": "2022-02-23T11:13:51.384Z"
   },
   {
    "duration": 10,
    "start_time": "2022-02-23T11:14:05.968Z"
   },
   {
    "duration": 14,
    "start_time": "2022-02-23T11:14:08.347Z"
   },
   {
    "duration": 4,
    "start_time": "2022-02-23T11:19:43.579Z"
   },
   {
    "duration": 10,
    "start_time": "2022-02-23T11:20:13.076Z"
   },
   {
    "duration": 3,
    "start_time": "2022-02-23T11:20:18.067Z"
   },
   {
    "duration": 2,
    "start_time": "2022-02-23T11:24:50.559Z"
   },
   {
    "duration": 20,
    "start_time": "2022-02-23T11:24:50.563Z"
   },
   {
    "duration": 4,
    "start_time": "2022-02-23T11:24:50.585Z"
   },
   {
    "duration": 10,
    "start_time": "2022-02-23T11:24:50.591Z"
   },
   {
    "duration": 14,
    "start_time": "2022-02-23T11:24:50.603Z"
   },
   {
    "duration": 17,
    "start_time": "2022-02-23T11:24:50.619Z"
   },
   {
    "duration": 84,
    "start_time": "2022-02-23T11:24:50.638Z"
   },
   {
    "duration": 11,
    "start_time": "2022-02-23T11:24:50.724Z"
   },
   {
    "duration": 7,
    "start_time": "2022-02-23T11:24:50.738Z"
   },
   {
    "duration": 11,
    "start_time": "2022-02-23T11:24:50.748Z"
   },
   {
    "duration": 6,
    "start_time": "2022-02-23T11:24:50.761Z"
   },
   {
    "duration": 323,
    "start_time": "2022-02-23T11:24:50.769Z"
   },
   {
    "duration": 238,
    "start_time": "2022-02-23T11:24:51.094Z"
   },
   {
    "duration": 7,
    "start_time": "2022-02-23T11:24:51.334Z"
   },
   {
    "duration": 4,
    "start_time": "2022-02-23T11:24:51.343Z"
   },
   {
    "duration": 6,
    "start_time": "2022-02-23T11:24:51.348Z"
   },
   {
    "duration": 13,
    "start_time": "2022-02-23T11:24:51.355Z"
   },
   {
    "duration": 7,
    "start_time": "2022-02-23T11:24:51.370Z"
   },
   {
    "duration": 328,
    "start_time": "2022-02-23T11:24:51.379Z"
   },
   {
    "duration": 315,
    "start_time": "2022-02-23T11:24:51.709Z"
   },
   {
    "duration": 9,
    "start_time": "2022-02-23T11:24:52.026Z"
   },
   {
    "duration": 434,
    "start_time": "2022-02-23T11:24:52.037Z"
   },
   {
    "duration": 4,
    "start_time": "2022-02-23T11:24:52.473Z"
   },
   {
    "duration": 12,
    "start_time": "2022-02-23T11:24:52.479Z"
   },
   {
    "duration": 521,
    "start_time": "2022-02-23T11:24:52.493Z"
   },
   {
    "duration": 17,
    "start_time": "2022-02-23T11:24:53.016Z"
   },
   {
    "duration": 700,
    "start_time": "2022-02-23T11:24:53.037Z"
   },
   {
    "duration": 7,
    "start_time": "2022-02-23T11:24:53.739Z"
   },
   {
    "duration": 6,
    "start_time": "2022-02-23T11:24:53.749Z"
   },
   {
    "duration": 343,
    "start_time": "2022-02-23T11:24:53.756Z"
   },
   {
    "duration": 244,
    "start_time": "2022-02-23T11:24:54.101Z"
   },
   {
    "duration": 4,
    "start_time": "2022-02-23T11:24:54.347Z"
   },
   {
    "duration": 10,
    "start_time": "2022-02-23T11:24:54.352Z"
   },
   {
    "duration": 354,
    "start_time": "2022-02-23T11:24:54.363Z"
   },
   {
    "duration": 517,
    "start_time": "2022-02-23T11:24:54.718Z"
   },
   {
    "duration": 5,
    "start_time": "2022-02-23T11:24:55.237Z"
   },
   {
    "duration": 17,
    "start_time": "2022-02-23T11:24:55.244Z"
   },
   {
    "duration": 11,
    "start_time": "2022-02-23T11:25:09.442Z"
   },
   {
    "duration": 11,
    "start_time": "2022-02-23T11:26:03.422Z"
   },
   {
    "duration": 12,
    "start_time": "2022-02-23T11:26:07.127Z"
   },
   {
    "duration": 22,
    "start_time": "2022-02-23T11:26:34.762Z"
   },
   {
    "duration": 21,
    "start_time": "2022-02-23T11:28:46.010Z"
   },
   {
    "duration": 10,
    "start_time": "2022-02-23T11:28:48.974Z"
   },
   {
    "duration": 9,
    "start_time": "2022-02-23T11:29:30.743Z"
   },
   {
    "duration": 18,
    "start_time": "2022-02-23T11:29:49.906Z"
   },
   {
    "duration": 11,
    "start_time": "2022-02-23T11:30:17.134Z"
   },
   {
    "duration": 5,
    "start_time": "2022-02-23T11:30:39.322Z"
   },
   {
    "duration": 5,
    "start_time": "2022-02-23T11:30:47.643Z"
   },
   {
    "duration": 17,
    "start_time": "2022-02-23T11:31:04.568Z"
   },
   {
    "duration": 350,
    "start_time": "2022-02-23T11:36:50.253Z"
   },
   {
    "duration": 361,
    "start_time": "2022-02-23T11:37:14.000Z"
   },
   {
    "duration": 363,
    "start_time": "2022-02-23T11:37:28.588Z"
   },
   {
    "duration": 360,
    "start_time": "2022-02-23T11:37:41.133Z"
   },
   {
    "duration": 453,
    "start_time": "2022-02-23T11:37:58.037Z"
   },
   {
    "duration": 501,
    "start_time": "2022-02-23T11:38:23.817Z"
   },
   {
    "duration": 391,
    "start_time": "2022-02-23T11:38:28.333Z"
   },
   {
    "duration": 556,
    "start_time": "2022-02-23T11:38:31.520Z"
   },
   {
    "duration": 614,
    "start_time": "2022-02-23T11:38:43.628Z"
   },
   {
    "duration": 5,
    "start_time": "2022-02-23T11:38:54.340Z"
   },
   {
    "duration": 283,
    "start_time": "2022-02-23T11:44:53.816Z"
   },
   {
    "duration": 280,
    "start_time": "2022-02-23T11:45:27.653Z"
   },
   {
    "duration": 295,
    "start_time": "2022-02-23T11:45:59.979Z"
   },
   {
    "duration": 7,
    "start_time": "2022-02-23T11:46:30.404Z"
   },
   {
    "duration": 104,
    "start_time": "2022-02-23T11:46:57.044Z"
   },
   {
    "duration": 12,
    "start_time": "2022-02-23T11:47:05.436Z"
   },
   {
    "duration": 10,
    "start_time": "2022-02-23T11:47:13.080Z"
   },
   {
    "duration": 293,
    "start_time": "2022-02-23T11:47:44.451Z"
   },
   {
    "duration": 11,
    "start_time": "2022-02-23T11:48:03.263Z"
   },
   {
    "duration": 14,
    "start_time": "2022-02-23T11:48:08.175Z"
   },
   {
    "duration": 13,
    "start_time": "2022-02-23T11:48:23.913Z"
   },
   {
    "duration": 11,
    "start_time": "2022-02-23T11:48:56.191Z"
   },
   {
    "duration": 18,
    "start_time": "2022-02-23T11:51:13.207Z"
   },
   {
    "duration": 9,
    "start_time": "2022-02-23T11:52:02.427Z"
   },
   {
    "duration": 13,
    "start_time": "2022-02-23T11:55:24.254Z"
   },
   {
    "duration": 3,
    "start_time": "2022-02-23T12:29:06.589Z"
   },
   {
    "duration": 2849,
    "start_time": "2022-02-23T12:52:15.849Z"
   },
   {
    "duration": 27,
    "start_time": "2022-02-23T12:52:18.700Z"
   },
   {
    "duration": 4,
    "start_time": "2022-02-23T12:52:18.729Z"
   },
   {
    "duration": 12,
    "start_time": "2022-02-23T12:52:18.735Z"
   },
   {
    "duration": 11,
    "start_time": "2022-02-23T12:52:18.749Z"
   },
   {
    "duration": 11,
    "start_time": "2022-02-23T12:52:18.761Z"
   },
   {
    "duration": 76,
    "start_time": "2022-02-23T12:52:18.773Z"
   },
   {
    "duration": 5,
    "start_time": "2022-02-23T12:52:18.850Z"
   },
   {
    "duration": 9,
    "start_time": "2022-02-23T12:52:18.858Z"
   },
   {
    "duration": 6,
    "start_time": "2022-02-23T12:52:20.738Z"
   },
   {
    "duration": 178,
    "start_time": "2022-02-23T12:52:25.445Z"
   },
   {
    "duration": 1871,
    "start_time": "2022-02-23T12:54:20.145Z"
   },
   {
    "duration": 534,
    "start_time": "2022-02-23T12:56:19.841Z"
   },
   {
    "duration": 172,
    "start_time": "2022-02-23T12:56:24.965Z"
   },
   {
    "duration": 145,
    "start_time": "2022-02-23T12:56:26.117Z"
   },
   {
    "duration": 8,
    "start_time": "2022-02-23T12:56:30.385Z"
   },
   {
    "duration": 396,
    "start_time": "2022-02-23T13:01:55.208Z"
   },
   {
    "duration": 2,
    "start_time": "2022-02-23T13:01:58.140Z"
   },
   {
    "duration": 3,
    "start_time": "2022-02-23T13:02:00.688Z"
   },
   {
    "duration": 490,
    "start_time": "2022-02-23T13:02:14.712Z"
   },
   {
    "duration": 17,
    "start_time": "2022-02-23T13:02:15.318Z"
   },
   {
    "duration": 313,
    "start_time": "2022-02-23T13:03:44.299Z"
   },
   {
    "duration": 13,
    "start_time": "2022-02-23T13:03:45.468Z"
   },
   {
    "duration": 1033,
    "start_time": "2022-02-23T13:03:52.906Z"
   },
   {
    "duration": 16,
    "start_time": "2022-02-23T13:03:53.942Z"
   },
   {
    "duration": 3,
    "start_time": "2022-02-23T13:03:53.961Z"
   },
   {
    "duration": 15,
    "start_time": "2022-02-23T13:03:53.966Z"
   },
   {
    "duration": 13,
    "start_time": "2022-02-23T13:03:53.983Z"
   },
   {
    "duration": 11,
    "start_time": "2022-02-23T13:03:53.997Z"
   },
   {
    "duration": 65,
    "start_time": "2022-02-23T13:03:54.009Z"
   },
   {
    "duration": 5,
    "start_time": "2022-02-23T13:03:54.075Z"
   },
   {
    "duration": 10,
    "start_time": "2022-02-23T13:03:54.082Z"
   },
   {
    "duration": 307,
    "start_time": "2022-02-23T13:03:54.094Z"
   },
   {
    "duration": 12,
    "start_time": "2022-02-23T13:04:08.277Z"
   },
   {
    "duration": 366,
    "start_time": "2022-02-23T13:10:03.496Z"
   },
   {
    "duration": 9,
    "start_time": "2022-02-23T13:10:10.136Z"
   },
   {
    "duration": 321,
    "start_time": "2022-02-23T13:10:10.864Z"
   },
   {
    "duration": 6,
    "start_time": "2022-02-23T13:11:15.140Z"
   },
   {
    "duration": 319,
    "start_time": "2022-02-23T13:11:15.997Z"
   },
   {
    "duration": 8,
    "start_time": "2022-02-23T13:11:22.997Z"
   },
   {
    "duration": 318,
    "start_time": "2022-02-23T13:11:23.828Z"
   },
   {
    "duration": 309,
    "start_time": "2022-02-23T13:11:50.984Z"
   },
   {
    "duration": 5,
    "start_time": "2022-02-23T13:14:14.645Z"
   },
   {
    "duration": 436,
    "start_time": "2022-02-23T13:14:27.292Z"
   },
   {
    "duration": 3,
    "start_time": "2022-02-23T13:16:21.944Z"
   },
   {
    "duration": 8,
    "start_time": "2022-02-23T13:16:22.428Z"
   },
   {
    "duration": 308,
    "start_time": "2022-02-23T13:16:27.160Z"
   },
   {
    "duration": 5,
    "start_time": "2022-02-23T13:17:16.188Z"
   },
   {
    "duration": 412,
    "start_time": "2022-02-23T13:17:16.919Z"
   },
   {
    "duration": 6,
    "start_time": "2022-02-23T13:19:17.031Z"
   },
   {
    "duration": 320,
    "start_time": "2022-02-23T13:19:18.663Z"
   },
   {
    "duration": 284,
    "start_time": "2022-02-23T13:19:22.784Z"
   },
   {
    "duration": 354,
    "start_time": "2022-02-23T13:23:48.186Z"
   },
   {
    "duration": 495,
    "start_time": "2022-02-23T13:23:51.847Z"
   },
   {
    "duration": 17,
    "start_time": "2022-02-23T13:30:37.221Z"
   },
   {
    "duration": 11,
    "start_time": "2022-02-23T13:31:17.785Z"
   },
   {
    "duration": 11,
    "start_time": "2022-02-23T13:31:39.441Z"
   },
   {
    "duration": 12,
    "start_time": "2022-02-23T13:39:24.132Z"
   },
   {
    "duration": 10,
    "start_time": "2022-02-23T13:39:32.981Z"
   },
   {
    "duration": 17,
    "start_time": "2022-02-23T13:39:33.660Z"
   },
   {
    "duration": 9,
    "start_time": "2022-02-23T13:39:36.956Z"
   },
   {
    "duration": 14,
    "start_time": "2022-02-23T13:42:10.443Z"
   },
   {
    "duration": 309,
    "start_time": "2022-02-23T13:47:13.299Z"
   },
   {
    "duration": 9,
    "start_time": "2022-02-23T13:47:21.675Z"
   },
   {
    "duration": 298,
    "start_time": "2022-02-23T13:47:25.099Z"
   },
   {
    "duration": 299,
    "start_time": "2022-02-23T13:48:27.443Z"
   },
   {
    "duration": 5,
    "start_time": "2022-02-23T13:49:54.699Z"
   },
   {
    "duration": 375,
    "start_time": "2022-02-23T13:49:59.558Z"
   },
   {
    "duration": 4,
    "start_time": "2022-02-23T13:50:37.102Z"
   },
   {
    "duration": 9,
    "start_time": "2022-02-23T13:50:49.322Z"
   },
   {
    "duration": 358,
    "start_time": "2022-02-23T13:50:50.526Z"
   },
   {
    "duration": 7,
    "start_time": "2022-02-23T13:53:00.968Z"
   },
   {
    "duration": 414,
    "start_time": "2022-02-23T13:53:02.686Z"
   },
   {
    "duration": 499,
    "start_time": "2022-02-23T13:53:13.510Z"
   },
   {
    "duration": 2,
    "start_time": "2022-02-23T14:36:46.133Z"
   },
   {
    "duration": 1033,
    "start_time": "2022-02-23T14:36:54.431Z"
   },
   {
    "duration": 15,
    "start_time": "2022-02-23T14:36:55.466Z"
   },
   {
    "duration": 4,
    "start_time": "2022-02-23T14:36:55.484Z"
   },
   {
    "duration": 13,
    "start_time": "2022-02-23T14:36:55.489Z"
   },
   {
    "duration": 14,
    "start_time": "2022-02-23T14:36:55.503Z"
   },
   {
    "duration": 18,
    "start_time": "2022-02-23T14:36:55.519Z"
   },
   {
    "duration": 58,
    "start_time": "2022-02-23T14:36:55.539Z"
   },
   {
    "duration": 5,
    "start_time": "2022-02-23T14:36:55.600Z"
   },
   {
    "duration": 14,
    "start_time": "2022-02-23T14:36:55.607Z"
   },
   {
    "duration": 17,
    "start_time": "2022-02-23T14:36:55.623Z"
   },
   {
    "duration": 351,
    "start_time": "2022-02-23T14:36:55.642Z"
   },
   {
    "duration": 9,
    "start_time": "2022-02-23T14:36:55.994Z"
   },
   {
    "duration": 322,
    "start_time": "2022-02-23T14:36:56.005Z"
   },
   {
    "duration": 306,
    "start_time": "2022-02-23T14:36:56.329Z"
   },
   {
    "duration": 5,
    "start_time": "2022-02-23T14:36:56.637Z"
   },
   {
    "duration": 403,
    "start_time": "2022-02-23T14:36:56.644Z"
   },
   {
    "duration": 4,
    "start_time": "2022-02-23T14:36:57.049Z"
   },
   {
    "duration": 9,
    "start_time": "2022-02-23T14:36:57.055Z"
   },
   {
    "duration": 323,
    "start_time": "2022-02-23T14:36:57.066Z"
   },
   {
    "duration": 6,
    "start_time": "2022-02-23T14:36:57.390Z"
   },
   {
    "duration": 442,
    "start_time": "2022-02-23T14:36:57.398Z"
   },
   {
    "duration": 7,
    "start_time": "2022-02-23T14:36:57.841Z"
   },
   {
    "duration": 343,
    "start_time": "2022-02-23T14:36:57.849Z"
   },
   {
    "duration": 239,
    "start_time": "2022-02-23T14:36:58.193Z"
   },
   {
    "duration": 4,
    "start_time": "2022-02-23T14:36:58.434Z"
   },
   {
    "duration": 369,
    "start_time": "2022-02-23T14:36:58.441Z"
   },
   {
    "duration": 581,
    "start_time": "2022-02-23T14:36:58.812Z"
   },
   {
    "duration": 4,
    "start_time": "2022-02-23T14:36:59.395Z"
   },
   {
    "duration": 33,
    "start_time": "2022-02-23T14:36:59.400Z"
   },
   {
    "duration": 10,
    "start_time": "2022-02-23T14:36:59.435Z"
   },
   {
    "duration": 11,
    "start_time": "2022-02-23T14:36:59.446Z"
   },
   {
    "duration": 9,
    "start_time": "2022-02-23T14:36:59.458Z"
   },
   {
    "duration": 16,
    "start_time": "2022-02-23T14:36:59.468Z"
   },
   {
    "duration": 9,
    "start_time": "2022-02-23T14:36:59.485Z"
   },
   {
    "duration": 44,
    "start_time": "2022-02-23T14:36:59.495Z"
   },
   {
    "duration": 332,
    "start_time": "2022-02-23T14:36:59.540Z"
   },
   {
    "duration": 8,
    "start_time": "2022-02-23T14:36:59.874Z"
   },
   {
    "duration": 316,
    "start_time": "2022-02-23T14:36:59.884Z"
   },
   {
    "duration": 325,
    "start_time": "2022-02-23T14:37:00.202Z"
   },
   {
    "duration": 6,
    "start_time": "2022-02-23T14:37:00.529Z"
   },
   {
    "duration": 424,
    "start_time": "2022-02-23T14:37:00.537Z"
   },
   {
    "duration": 5,
    "start_time": "2022-02-23T14:37:00.963Z"
   },
   {
    "duration": 26,
    "start_time": "2022-02-23T14:37:00.969Z"
   },
   {
    "duration": 337,
    "start_time": "2022-02-23T14:37:00.997Z"
   },
   {
    "duration": 5,
    "start_time": "2022-02-23T14:37:01.336Z"
   },
   {
    "duration": 411,
    "start_time": "2022-02-23T14:37:01.343Z"
   },
   {
    "duration": 1369,
    "start_time": "2022-02-24T17:49:12.089Z"
   },
   {
    "duration": 14,
    "start_time": "2022-02-24T17:49:13.462Z"
   },
   {
    "duration": 8,
    "start_time": "2022-02-24T17:49:13.479Z"
   },
   {
    "duration": 27,
    "start_time": "2022-02-24T17:49:13.494Z"
   },
   {
    "duration": 20,
    "start_time": "2022-02-24T17:49:13.524Z"
   },
   {
    "duration": 49,
    "start_time": "2022-02-24T17:49:13.547Z"
   },
   {
    "duration": 52,
    "start_time": "2022-02-24T17:49:13.599Z"
   },
   {
    "duration": 10,
    "start_time": "2022-02-24T17:49:13.654Z"
   },
   {
    "duration": 15,
    "start_time": "2022-02-24T17:49:13.667Z"
   },
   {
    "duration": 12,
    "start_time": "2022-02-24T17:49:13.699Z"
   },
   {
    "duration": 619,
    "start_time": "2022-02-24T17:49:13.713Z"
   },
   {
    "duration": 11,
    "start_time": "2022-02-24T17:49:14.335Z"
   },
   {
    "duration": 675,
    "start_time": "2022-02-24T17:49:14.349Z"
   },
   {
    "duration": 612,
    "start_time": "2022-02-24T17:49:15.027Z"
   },
   {
    "duration": 9,
    "start_time": "2022-02-24T17:49:15.641Z"
   },
   {
    "duration": 699,
    "start_time": "2022-02-24T17:49:15.652Z"
   },
   {
    "duration": 6,
    "start_time": "2022-02-24T17:49:16.354Z"
   },
   {
    "duration": 38,
    "start_time": "2022-02-24T17:49:16.362Z"
   },
   {
    "duration": 633,
    "start_time": "2022-02-24T17:49:16.403Z"
   },
   {
    "duration": 10,
    "start_time": "2022-02-24T17:49:17.040Z"
   },
   {
    "duration": 684,
    "start_time": "2022-02-24T17:49:17.053Z"
   },
   {
    "duration": 10,
    "start_time": "2022-02-24T17:49:17.740Z"
   },
   {
    "duration": 595,
    "start_time": "2022-02-24T17:49:17.756Z"
   },
   {
    "duration": 444,
    "start_time": "2022-02-24T17:49:18.354Z"
   },
   {
    "duration": 7,
    "start_time": "2022-02-24T17:49:18.801Z"
   },
   {
    "duration": 585,
    "start_time": "2022-02-24T17:49:18.811Z"
   },
   {
    "duration": 1075,
    "start_time": "2022-02-24T17:49:19.399Z"
   },
   {
    "duration": 17,
    "start_time": "2022-02-24T17:49:20.477Z"
   },
   {
    "duration": 38,
    "start_time": "2022-02-24T17:49:20.497Z"
   },
   {
    "duration": 19,
    "start_time": "2022-02-24T17:49:20.537Z"
   },
   {
    "duration": 42,
    "start_time": "2022-02-24T17:49:20.560Z"
   },
   {
    "duration": 18,
    "start_time": "2022-02-24T17:49:20.605Z"
   },
   {
    "duration": 31,
    "start_time": "2022-02-24T17:49:20.625Z"
   },
   {
    "duration": 42,
    "start_time": "2022-02-24T17:49:20.658Z"
   },
   {
    "duration": 22,
    "start_time": "2022-02-24T17:49:20.703Z"
   },
   {
    "duration": 633,
    "start_time": "2022-02-24T17:49:20.728Z"
   },
   {
    "duration": 14,
    "start_time": "2022-02-24T17:49:21.364Z"
   },
   {
    "duration": 622,
    "start_time": "2022-02-24T17:49:21.381Z"
   },
   {
    "duration": 608,
    "start_time": "2022-02-24T17:49:22.006Z"
   },
   {
    "duration": 9,
    "start_time": "2022-02-24T17:49:22.617Z"
   },
   {
    "duration": 717,
    "start_time": "2022-02-24T17:49:22.628Z"
   },
   {
    "duration": 5,
    "start_time": "2022-02-24T17:49:23.349Z"
   },
   {
    "duration": 16,
    "start_time": "2022-02-24T17:49:23.357Z"
   },
   {
    "duration": 572,
    "start_time": "2022-02-24T17:49:23.394Z"
   },
   {
    "duration": 24,
    "start_time": "2022-02-24T17:49:23.969Z"
   },
   {
    "duration": 710,
    "start_time": "2022-02-24T17:49:23.996Z"
   },
   {
    "duration": 605,
    "start_time": "2022-02-24T17:50:01.718Z"
   },
   {
    "duration": 1372,
    "start_time": "2022-02-24T17:50:19.983Z"
   },
   {
    "duration": 13,
    "start_time": "2022-02-24T17:50:21.357Z"
   },
   {
    "duration": 8,
    "start_time": "2022-02-24T17:50:21.374Z"
   },
   {
    "duration": 23,
    "start_time": "2022-02-24T17:50:21.384Z"
   },
   {
    "duration": 17,
    "start_time": "2022-02-24T17:50:21.409Z"
   },
   {
    "duration": 18,
    "start_time": "2022-02-24T17:50:21.429Z"
   },
   {
    "duration": 71,
    "start_time": "2022-02-24T17:50:21.450Z"
   },
   {
    "duration": 9,
    "start_time": "2022-02-24T17:50:21.525Z"
   },
   {
    "duration": 14,
    "start_time": "2022-02-24T17:50:21.539Z"
   },
   {
    "duration": 39,
    "start_time": "2022-02-24T17:50:21.555Z"
   },
   {
    "duration": 593,
    "start_time": "2022-02-24T17:50:21.597Z"
   },
   {
    "duration": 13,
    "start_time": "2022-02-24T17:50:22.194Z"
   },
   {
    "duration": 639,
    "start_time": "2022-02-24T17:50:25.263Z"
   },
   {
    "duration": 603,
    "start_time": "2022-02-24T17:50:35.762Z"
   },
   {
    "duration": 588,
    "start_time": "2022-02-24T17:50:40.430Z"
   },
   {
    "duration": 625,
    "start_time": "2022-02-24T17:50:50.798Z"
   },
   {
    "duration": 605,
    "start_time": "2022-02-24T17:51:06.978Z"
   },
   {
    "duration": 703,
    "start_time": "2022-02-24T17:51:18.150Z"
   },
   {
    "duration": 670,
    "start_time": "2022-02-24T17:51:22.755Z"
   },
   {
    "duration": 664,
    "start_time": "2022-02-24T17:52:45.346Z"
   },
   {
    "duration": 707,
    "start_time": "2022-02-24T17:52:55.574Z"
   },
   {
    "duration": 637,
    "start_time": "2022-02-24T17:53:13.161Z"
   },
   {
    "duration": 602,
    "start_time": "2022-02-24T17:54:17.838Z"
   },
   {
    "duration": 614,
    "start_time": "2022-02-24T17:54:22.758Z"
   },
   {
    "duration": 928,
    "start_time": "2022-02-24T17:54:29.294Z"
   },
   {
    "duration": 615,
    "start_time": "2022-02-24T17:54:35.898Z"
   },
   {
    "duration": 636,
    "start_time": "2022-02-24T17:54:41.303Z"
   },
   {
    "duration": 595,
    "start_time": "2022-02-24T17:56:59.650Z"
   },
   {
    "duration": 607,
    "start_time": "2022-02-24T17:57:04.894Z"
   },
   {
    "duration": 699,
    "start_time": "2022-02-24T17:57:49.173Z"
   },
   {
    "duration": 581,
    "start_time": "2022-02-24T17:57:55.046Z"
   },
   {
    "duration": 687,
    "start_time": "2022-02-24T17:58:01.149Z"
   },
   {
    "duration": 590,
    "start_time": "2022-02-24T17:58:07.537Z"
   },
   {
    "duration": 9,
    "start_time": "2022-02-24T18:21:08.470Z"
   },
   {
    "duration": 13,
    "start_time": "2022-02-24T18:21:53.826Z"
   },
   {
    "duration": 10,
    "start_time": "2022-02-24T18:22:11.455Z"
   },
   {
    "duration": 70,
    "start_time": "2022-02-24T18:26:01.082Z"
   },
   {
    "duration": 17,
    "start_time": "2022-02-24T18:26:43.392Z"
   },
   {
    "duration": 18,
    "start_time": "2022-02-24T18:27:10.690Z"
   },
   {
    "duration": 19,
    "start_time": "2022-02-24T18:27:16.014Z"
   },
   {
    "duration": 19,
    "start_time": "2022-02-24T18:27:41.366Z"
   },
   {
    "duration": 25,
    "start_time": "2022-02-24T18:27:53.286Z"
   },
   {
    "duration": 14,
    "start_time": "2022-02-24T18:29:39.326Z"
   },
   {
    "duration": 26,
    "start_time": "2022-02-24T18:30:07.662Z"
   },
   {
    "duration": 15,
    "start_time": "2022-02-24T18:30:48.001Z"
   },
   {
    "duration": 22,
    "start_time": "2022-02-24T18:30:55.193Z"
   },
   {
    "duration": 7,
    "start_time": "2022-02-24T18:31:48.321Z"
   },
   {
    "duration": 8,
    "start_time": "2022-02-24T18:31:58.517Z"
   },
   {
    "duration": 23,
    "start_time": "2022-02-24T18:32:13.301Z"
   },
   {
    "duration": 13,
    "start_time": "2022-02-24T18:33:16.669Z"
   },
   {
    "duration": 247,
    "start_time": "2022-02-24T18:34:31.361Z"
   },
   {
    "duration": 12,
    "start_time": "2022-02-24T18:35:02.341Z"
   },
   {
    "duration": 13,
    "start_time": "2022-02-24T18:35:06.513Z"
   },
   {
    "duration": 240,
    "start_time": "2022-02-24T18:38:48.756Z"
   },
   {
    "duration": 85,
    "start_time": "2022-02-24T18:38:59.956Z"
   },
   {
    "duration": 85,
    "start_time": "2022-02-24T18:39:12.628Z"
   },
   {
    "duration": 117,
    "start_time": "2022-02-24T18:39:23.017Z"
   },
   {
    "duration": 6097,
    "start_time": "2022-02-24T18:39:46.968Z"
   },
   {
    "duration": 13,
    "start_time": "2022-02-24T18:40:01.764Z"
   },
   {
    "duration": 14,
    "start_time": "2022-02-24T18:41:08.212Z"
   },
   {
    "duration": 15,
    "start_time": "2022-02-24T18:41:19.265Z"
   },
   {
    "duration": 87,
    "start_time": "2022-02-24T18:47:35.274Z"
   },
   {
    "duration": 31,
    "start_time": "2022-02-24T18:47:50.251Z"
   },
   {
    "duration": 41,
    "start_time": "2022-02-24T18:48:33.659Z"
   },
   {
    "duration": 25,
    "start_time": "2022-02-24T18:48:52.494Z"
   },
   {
    "duration": 39,
    "start_time": "2022-02-24T18:49:27.883Z"
   },
   {
    "duration": 22,
    "start_time": "2022-02-24T18:50:00.331Z"
   },
   {
    "duration": 23,
    "start_time": "2022-02-24T18:51:33.450Z"
   },
   {
    "duration": 1627,
    "start_time": "2022-02-24T18:54:17.082Z"
   },
   {
    "duration": 26,
    "start_time": "2022-02-24T18:54:36.206Z"
   },
   {
    "duration": 40,
    "start_time": "2022-02-24T18:54:48.346Z"
   },
   {
    "duration": 37,
    "start_time": "2022-02-24T18:56:54.630Z"
   },
   {
    "duration": 38,
    "start_time": "2022-02-24T18:56:59.333Z"
   },
   {
    "duration": 40,
    "start_time": "2022-02-24T18:57:35.174Z"
   },
   {
    "duration": 42,
    "start_time": "2022-02-24T18:58:11.261Z"
   },
   {
    "duration": 41,
    "start_time": "2022-02-24T18:58:19.125Z"
   },
   {
    "duration": 43,
    "start_time": "2022-02-24T18:58:44.702Z"
   },
   {
    "duration": 43,
    "start_time": "2022-02-24T18:58:53.873Z"
   },
   {
    "duration": 41,
    "start_time": "2022-02-24T18:59:02.302Z"
   },
   {
    "duration": 52,
    "start_time": "2022-02-24T18:59:11.861Z"
   },
   {
    "duration": 43,
    "start_time": "2022-02-24T18:59:29.453Z"
   },
   {
    "duration": 37,
    "start_time": "2022-02-24T18:59:35.222Z"
   },
   {
    "duration": 42,
    "start_time": "2022-02-24T18:59:46.614Z"
   },
   {
    "duration": 80,
    "start_time": "2022-02-24T19:23:18.930Z"
   },
   {
    "duration": 93,
    "start_time": "2022-02-24T19:24:02.370Z"
   },
   {
    "duration": 1389,
    "start_time": "2022-02-24T19:26:08.235Z"
   },
   {
    "duration": 17,
    "start_time": "2022-02-24T19:26:09.627Z"
   },
   {
    "duration": 10,
    "start_time": "2022-02-24T19:26:09.647Z"
   },
   {
    "duration": 18,
    "start_time": "2022-02-24T19:26:09.659Z"
   },
   {
    "duration": 20,
    "start_time": "2022-02-24T19:26:09.679Z"
   },
   {
    "duration": 19,
    "start_time": "2022-02-24T19:26:09.701Z"
   },
   {
    "duration": 52,
    "start_time": "2022-02-24T19:26:09.723Z"
   },
   {
    "duration": 10,
    "start_time": "2022-02-24T19:26:09.779Z"
   },
   {
    "duration": 29,
    "start_time": "2022-02-24T19:26:09.793Z"
   },
   {
    "duration": 44,
    "start_time": "2022-02-24T19:26:09.825Z"
   },
   {
    "duration": 26,
    "start_time": "2022-02-24T19:26:09.872Z"
   },
   {
    "duration": 815,
    "start_time": "2022-02-24T19:26:09.901Z"
   },
   {
    "duration": 13,
    "start_time": "2022-02-24T19:26:10.718Z"
   },
   {
    "duration": 655,
    "start_time": "2022-02-24T19:26:10.733Z"
   },
   {
    "duration": 616,
    "start_time": "2022-02-24T19:26:11.394Z"
   },
   {
    "duration": 11,
    "start_time": "2022-02-24T19:26:12.013Z"
   },
   {
    "duration": 686,
    "start_time": "2022-02-24T19:26:12.026Z"
   },
   {
    "duration": 6,
    "start_time": "2022-02-24T19:26:12.716Z"
   },
   {
    "duration": 23,
    "start_time": "2022-02-24T19:26:12.724Z"
   },
   {
    "duration": 605,
    "start_time": "2022-02-24T19:26:12.750Z"
   },
   {
    "duration": 9,
    "start_time": "2022-02-24T19:26:13.358Z"
   },
   {
    "duration": 659,
    "start_time": "2022-02-24T19:26:13.369Z"
   },
   {
    "duration": 9,
    "start_time": "2022-02-24T19:26:14.033Z"
   },
   {
    "duration": 585,
    "start_time": "2022-02-24T19:26:14.045Z"
   },
   {
    "duration": 433,
    "start_time": "2022-02-24T19:26:14.632Z"
   },
   {
    "duration": 7,
    "start_time": "2022-02-24T19:26:15.068Z"
   },
   {
    "duration": 600,
    "start_time": "2022-02-24T19:26:15.077Z"
   },
   {
    "duration": 1060,
    "start_time": "2022-02-24T19:26:15.679Z"
   },
   {
    "duration": 5,
    "start_time": "2022-02-24T19:26:16.741Z"
   },
   {
    "duration": 45,
    "start_time": "2022-02-24T19:26:16.749Z"
   },
   {
    "duration": 77,
    "start_time": "2022-02-24T19:26:16.797Z"
   },
   {
    "duration": 40,
    "start_time": "2022-02-24T19:26:16.837Z"
   },
   {
    "duration": 28,
    "start_time": "2022-02-24T19:26:16.850Z"
   },
   {
    "duration": 25,
    "start_time": "2022-02-24T19:26:16.854Z"
   },
   {
    "duration": 25,
    "start_time": "2022-02-24T19:26:16.856Z"
   },
   {
    "duration": 84,
    "start_time": "2022-02-24T19:26:36.835Z"
   },
   {
    "duration": 5,
    "start_time": "2022-02-24T19:27:58.447Z"
   },
   {
    "duration": 81,
    "start_time": "2022-02-24T19:28:39.007Z"
   },
   {
    "duration": 549,
    "start_time": "2022-02-24T19:28:55.415Z"
   },
   {
    "duration": 15,
    "start_time": "2022-02-24T19:29:00.379Z"
   },
   {
    "duration": 84,
    "start_time": "2022-02-24T19:31:08.547Z"
   },
   {
    "duration": 96,
    "start_time": "2022-02-24T19:31:21.251Z"
   },
   {
    "duration": 15,
    "start_time": "2022-02-24T19:31:28.211Z"
   },
   {
    "duration": 15,
    "start_time": "2022-02-24T19:31:34.403Z"
   },
   {
    "duration": 14,
    "start_time": "2022-02-24T19:32:43.570Z"
   },
   {
    "duration": 15,
    "start_time": "2022-02-24T19:47:24.106Z"
   },
   {
    "duration": 14,
    "start_time": "2022-02-24T19:47:36.789Z"
   },
   {
    "duration": 15,
    "start_time": "2022-02-24T19:47:39.637Z"
   },
   {
    "duration": 19,
    "start_time": "2022-02-24T19:48:06.141Z"
   },
   {
    "duration": 234,
    "start_time": "2022-02-24T19:48:57.085Z"
   },
   {
    "duration": 19,
    "start_time": "2022-02-24T19:49:03.652Z"
   },
   {
    "duration": 16,
    "start_time": "2022-02-24T19:49:05.117Z"
   },
   {
    "duration": 28,
    "start_time": "2022-02-24T19:49:05.829Z"
   },
   {
    "duration": 21,
    "start_time": "2022-02-24T19:49:07.976Z"
   },
   {
    "duration": 23,
    "start_time": "2022-02-24T19:50:07.001Z"
   },
   {
    "duration": 16,
    "start_time": "2022-02-24T19:51:56.680Z"
   },
   {
    "duration": 13,
    "start_time": "2022-02-24T19:52:20.213Z"
   },
   {
    "duration": 30,
    "start_time": "2022-02-24T19:53:03.333Z"
   },
   {
    "duration": 24,
    "start_time": "2022-02-24T19:53:13.556Z"
   },
   {
    "duration": 606,
    "start_time": "2022-02-24T20:07:03.194Z"
   },
   {
    "duration": 702,
    "start_time": "2022-02-24T20:07:50.507Z"
   },
   {
    "duration": 638,
    "start_time": "2022-02-24T20:09:24.835Z"
   },
   {
    "duration": 616,
    "start_time": "2022-02-24T20:10:02.691Z"
   },
   {
    "duration": 626,
    "start_time": "2022-02-24T20:10:17.790Z"
   },
   {
    "duration": 91,
    "start_time": "2022-02-25T19:04:54.845Z"
   }
  ],
  "kernelspec": {
   "display_name": "Python 3 (ipykernel)",
   "language": "python",
   "name": "python3"
  },
  "language_info": {
   "codemirror_mode": {
    "name": "ipython",
    "version": 3
   },
   "file_extension": ".py",
   "mimetype": "text/x-python",
   "name": "python",
   "nbconvert_exporter": "python",
   "pygments_lexer": "ipython3",
   "version": "3.9.7"
  },
  "toc": {
   "base_numbering": 1,
   "nav_menu": {},
   "number_sections": true,
   "sideBar": true,
   "skip_h1_title": true,
   "title_cell": "Table of Contents",
   "title_sidebar": "Contents",
   "toc_cell": false,
   "toc_position": {},
   "toc_section_display": true,
   "toc_window_display": false
  }
 },
 "nbformat": 4,
 "nbformat_minor": 2
}
