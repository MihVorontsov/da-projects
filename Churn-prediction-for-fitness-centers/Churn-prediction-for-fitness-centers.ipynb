{
  "cells": [
    {
      "cell_type": "markdown",
      "metadata": {
        "id": "Hs33PmZDfNCK"
      },
      "source": [
        "# Проект: Прогнозирование вероятности оттока пользователей для фитнес-центров"
      ]
    },
    {
      "cell_type": "markdown",
      "metadata": {
        "id": "SX8CYqRcfNCK"
      },
      "source": [
        "**Оглавление**<a id=\"table_of_content\"></a>\n",
        "1. [Описание проекта](#chapter_1)\n",
        "2. [Загрузка данных](#chapter_2)\n",
        "3. [Исследовательский анализ данных](#chapter_3)\n",
        " 1. [Общий обзор датасета](#chapter_3_1)\n",
        " 2. [Анализ данных в колонках](#chapter_3_2)\n",
        " 3. [Анализ групп ушедших и оставшихся клиентов](#chapter_3_3)\n",
        " 4. [Анализ распределения признаков по групп](#chapter_3_4)\n",
        "4. [Модель прогнозирования оттока клиентов](#chapter_4)\n",
        "5. [Кластеризация клиентов](#chapter_5)\n",
        "6. [Выводы](#chapter_6)"
      ]
    },
    {
      "cell_type": "markdown",
      "metadata": {
        "id": "G15aWvsOfNCL"
      },
      "source": [
        "<a id=\"chapter_1\"></a>\n",
        "## Описание проекта"
      ]
    },
    {
      "cell_type": "markdown",
      "metadata": {
        "id": "rX3v8oFufNCL"
      },
      "source": [
        "Целью проекта явлется выявление вероятности оттока каждого клиента фитнес-клуба на основании данных анкетирования для последующей работы по удержанию клиента.\n",
        "\n",
        "Задачами проекта являются:\n",
        "* выявление вероятности оттока клиентов\n",
        "* формирование типичных портретов клиентов\n",
        "* выявление факторов, влияющих на отток клиентов\n",
        "* разрабока рекомендаций по удержанию клиентов:\n",
        " * обозначение целевых групп\n",
        " * разработка мер по снижению оттока\n",
        " * определение особенностей взаимодействия с клиентами"
      ]
    },
    {
      "cell_type": "markdown",
      "metadata": {
        "id": "F3pX4NMXfNCL"
      },
      "source": [
        "[к оглавлению](#table_of_content)"
      ]
    },
    {
      "cell_type": "markdown",
      "metadata": {
        "id": "ERFwytrAfNCM"
      },
      "source": [
        "<a id=\"chapter_2\"></a>\n",
        "## Загрузка данных"
      ]
    },
    {
      "cell_type": "code",
      "execution_count": null,
      "metadata": {
        "id": "dn0KYjqcfNCM"
      },
      "outputs": [],
      "source": [
        "# подключение необходимых библиотек\n",
        "import pandas as pd\n",
        "import matplotlib.pyplot as plt\n",
        "import seaborn as sns\n",
        "import numpy as np\n",
        "from sklearn.model_selection import train_test_split\n",
        "from sklearn.linear_model import LogisticRegression\n",
        "from sklearn.ensemble import RandomForestClassifier\n",
        "from sklearn.metrics import accuracy_score, precision_score, recall_score\n",
        "from sklearn.metrics import roc_auc_score\n",
        "from sklearn.preprocessing import StandardScaler\n",
        "from sklearn.cluster import KMeans\n",
        "from scipy.cluster.hierarchy import dendrogram, linkage\n",
        "\n",
        "\n",
        "# определение констант\n",
        "PATH = '/datasets/gym_churn.csv'\n",
        "\n",
        "# настройки графики\n",
        "sns.set_theme(style='whitegrid')\n",
        "\n",
        "# прочие настройки\n",
        "pd.set_option('display.float_format', '{:.2f}'.format)"
      ]
    },
    {
      "cell_type": "code",
      "execution_count": null,
      "metadata": {
        "id": "cobEDrRNfNCN",
        "outputId": "111c0e8c-a325-4088-d9ce-51c1c3fddbad"
      },
      "outputs": [
        {
          "data": {
            "text/html": [
              "<div>\n",
              "<style scoped>\n",
              "    .dataframe tbody tr th:only-of-type {\n",
              "        vertical-align: middle;\n",
              "    }\n",
              "\n",
              "    .dataframe tbody tr th {\n",
              "        vertical-align: top;\n",
              "    }\n",
              "\n",
              "    .dataframe thead th {\n",
              "        text-align: right;\n",
              "    }\n",
              "</style>\n",
              "<table border=\"1\" class=\"dataframe\">\n",
              "  <thead>\n",
              "    <tr style=\"text-align: right;\">\n",
              "      <th></th>\n",
              "      <th>0</th>\n",
              "      <th>1</th>\n",
              "      <th>2</th>\n",
              "      <th>3</th>\n",
              "      <th>4</th>\n",
              "    </tr>\n",
              "  </thead>\n",
              "  <tbody>\n",
              "    <tr>\n",
              "      <th>gender</th>\n",
              "      <td>1.00</td>\n",
              "      <td>0.00</td>\n",
              "      <td>0.00</td>\n",
              "      <td>0.00</td>\n",
              "      <td>1.00</td>\n",
              "    </tr>\n",
              "    <tr>\n",
              "      <th>near_location</th>\n",
              "      <td>1.00</td>\n",
              "      <td>1.00</td>\n",
              "      <td>1.00</td>\n",
              "      <td>1.00</td>\n",
              "      <td>1.00</td>\n",
              "    </tr>\n",
              "    <tr>\n",
              "      <th>partner</th>\n",
              "      <td>1.00</td>\n",
              "      <td>0.00</td>\n",
              "      <td>1.00</td>\n",
              "      <td>1.00</td>\n",
              "      <td>1.00</td>\n",
              "    </tr>\n",
              "    <tr>\n",
              "      <th>promo_friends</th>\n",
              "      <td>1.00</td>\n",
              "      <td>0.00</td>\n",
              "      <td>0.00</td>\n",
              "      <td>1.00</td>\n",
              "      <td>1.00</td>\n",
              "    </tr>\n",
              "    <tr>\n",
              "      <th>phone</th>\n",
              "      <td>0.00</td>\n",
              "      <td>1.00</td>\n",
              "      <td>1.00</td>\n",
              "      <td>1.00</td>\n",
              "      <td>1.00</td>\n",
              "    </tr>\n",
              "    <tr>\n",
              "      <th>contract_period</th>\n",
              "      <td>6.00</td>\n",
              "      <td>12.00</td>\n",
              "      <td>1.00</td>\n",
              "      <td>12.00</td>\n",
              "      <td>1.00</td>\n",
              "    </tr>\n",
              "    <tr>\n",
              "      <th>group_visits</th>\n",
              "      <td>1.00</td>\n",
              "      <td>1.00</td>\n",
              "      <td>0.00</td>\n",
              "      <td>1.00</td>\n",
              "      <td>0.00</td>\n",
              "    </tr>\n",
              "    <tr>\n",
              "      <th>age</th>\n",
              "      <td>29.00</td>\n",
              "      <td>31.00</td>\n",
              "      <td>28.00</td>\n",
              "      <td>33.00</td>\n",
              "      <td>26.00</td>\n",
              "    </tr>\n",
              "    <tr>\n",
              "      <th>avg_additional_charges_total</th>\n",
              "      <td>14.23</td>\n",
              "      <td>113.20</td>\n",
              "      <td>129.45</td>\n",
              "      <td>62.67</td>\n",
              "      <td>198.36</td>\n",
              "    </tr>\n",
              "    <tr>\n",
              "      <th>month_to_end_contract</th>\n",
              "      <td>5.00</td>\n",
              "      <td>12.00</td>\n",
              "      <td>1.00</td>\n",
              "      <td>12.00</td>\n",
              "      <td>1.00</td>\n",
              "    </tr>\n",
              "    <tr>\n",
              "      <th>lifetime</th>\n",
              "      <td>3.00</td>\n",
              "      <td>7.00</td>\n",
              "      <td>2.00</td>\n",
              "      <td>2.00</td>\n",
              "      <td>3.00</td>\n",
              "    </tr>\n",
              "    <tr>\n",
              "      <th>avg_class_frequency_total</th>\n",
              "      <td>0.02</td>\n",
              "      <td>1.92</td>\n",
              "      <td>1.86</td>\n",
              "      <td>3.21</td>\n",
              "      <td>1.11</td>\n",
              "    </tr>\n",
              "    <tr>\n",
              "      <th>avg_class_frequency_current_month</th>\n",
              "      <td>0.00</td>\n",
              "      <td>1.91</td>\n",
              "      <td>1.74</td>\n",
              "      <td>3.36</td>\n",
              "      <td>1.12</td>\n",
              "    </tr>\n",
              "    <tr>\n",
              "      <th>churn</th>\n",
              "      <td>0.00</td>\n",
              "      <td>0.00</td>\n",
              "      <td>0.00</td>\n",
              "      <td>0.00</td>\n",
              "      <td>0.00</td>\n",
              "    </tr>\n",
              "  </tbody>\n",
              "</table>\n",
              "</div>"
            ],
            "text/plain": [
              "                                      0      1      2     3      4\n",
              "gender                             1.00   0.00   0.00  0.00   1.00\n",
              "near_location                      1.00   1.00   1.00  1.00   1.00\n",
              "partner                            1.00   0.00   1.00  1.00   1.00\n",
              "promo_friends                      1.00   0.00   0.00  1.00   1.00\n",
              "phone                              0.00   1.00   1.00  1.00   1.00\n",
              "contract_period                    6.00  12.00   1.00 12.00   1.00\n",
              "group_visits                       1.00   1.00   0.00  1.00   0.00\n",
              "age                               29.00  31.00  28.00 33.00  26.00\n",
              "avg_additional_charges_total      14.23 113.20 129.45 62.67 198.36\n",
              "month_to_end_contract              5.00  12.00   1.00 12.00   1.00\n",
              "lifetime                           3.00   7.00   2.00  2.00   3.00\n",
              "avg_class_frequency_total          0.02   1.92   1.86  3.21   1.11\n",
              "avg_class_frequency_current_month  0.00   1.91   1.74  3.36   1.12\n",
              "churn                              0.00   0.00   0.00  0.00   0.00"
            ]
          },
          "execution_count": 2,
          "metadata": {},
          "output_type": "execute_result"
        }
      ],
      "source": [
        "data = pd.read_csv(PATH)\n",
        "data.columns = data.columns.str.lower()  # приводим названия столбцов к snake case\n",
        "data.head(5).T  # выводим первые пяти строк, чтобы удостовериться в корректности загрузки"
      ]
    },
    {
      "cell_type": "markdown",
      "metadata": {
        "id": "a2RSLtisfNCN"
      },
      "source": [
        "Из описания данных:\n",
        "* `gender` - пол\n",
        "* `near_location` - проживание или работа в районе, где находится фитнес-центр\n",
        "* `partner` - сотрудник компании-партнёра клуба (сотрудничество с компаниями, чьи сотрудники могут получать скидки на абонемент - в таком случае фитнес-центр хранит информацию о работодателе клиента)\n",
        "* `promo_friends` - факт первоначальной записи в рамках акции «приведи друга» (использовал промо-код от знакомого при оплате первого абонемента)\n",
        "* `phone` - наличие контактного телефона\n",
        "* `age` - возраст\n",
        "* `lifetime` - время с момента первого обращения в фитнес-центр (в месяцах)\n",
        "* `contract_period` - длительность текущего действующего абонемента (месяц, 6 месяцев, год)\n",
        "* `month_to_end_contract` - срок до окончания текущего действующего абонемента (в месяцах)\n",
        "* `group_visits` - факт посещения групповых занятий\n",
        "* `avg_class_frequency_total` - средняя частота посещений в неделю за все время с начала действия абонемента\n",
        "* `avg_class_frequency_current_month` - средняя частота посещений в неделю за предыдущий месяц\n",
        "* `avg_additional_charges_total` - суммарная выручка от других услуг фитнес-центра: кафе, спорттовары, косметический и массажный салон\n",
        "* `churn` - факт оттока в текущем месяце"
      ]
    },
    {
      "cell_type": "markdown",
      "metadata": {
        "id": "L9CrXvZ7fNCO"
      },
      "source": [
        "[к оглавлению](#table_of_content)"
      ]
    },
    {
      "cell_type": "markdown",
      "metadata": {
        "id": "aCHAcTscfNCO"
      },
      "source": [
        "<a id=\"chapter_3\"></a>\n",
        "## Исследовательский анализ данных"
      ]
    },
    {
      "cell_type": "markdown",
      "metadata": {
        "id": "oXwMTwDJfNCO"
      },
      "source": [
        "<a id=\"chapter_3_1\"></a>\n",
        "### Общий обзор датасета"
      ]
    },
    {
      "cell_type": "code",
      "execution_count": null,
      "metadata": {
        "id": "TZvl8az4fNCO",
        "outputId": "f0cc0f0a-c892-4fac-be52-2f0edd1c224a"
      },
      "outputs": [
        {
          "name": "stdout",
          "output_type": "stream",
          "text": [
            "<class 'pandas.core.frame.DataFrame'>\n",
            "RangeIndex: 4000 entries, 0 to 3999\n",
            "Data columns (total 14 columns):\n",
            " #   Column                             Non-Null Count  Dtype  \n",
            "---  ------                             --------------  -----  \n",
            " 0   gender                             4000 non-null   int64  \n",
            " 1   near_location                      4000 non-null   int64  \n",
            " 2   partner                            4000 non-null   int64  \n",
            " 3   promo_friends                      4000 non-null   int64  \n",
            " 4   phone                              4000 non-null   int64  \n",
            " 5   contract_period                    4000 non-null   int64  \n",
            " 6   group_visits                       4000 non-null   int64  \n",
            " 7   age                                4000 non-null   int64  \n",
            " 8   avg_additional_charges_total       4000 non-null   float64\n",
            " 9   month_to_end_contract              4000 non-null   float64\n",
            " 10  lifetime                           4000 non-null   int64  \n",
            " 11  avg_class_frequency_total          4000 non-null   float64\n",
            " 12  avg_class_frequency_current_month  4000 non-null   float64\n",
            " 13  churn                              4000 non-null   int64  \n",
            "dtypes: float64(4), int64(10)\n",
            "memory usage: 437.6 KB\n"
          ]
        },
        {
          "data": {
            "text/html": [
              "<div>\n",
              "<style scoped>\n",
              "    .dataframe tbody tr th:only-of-type {\n",
              "        vertical-align: middle;\n",
              "    }\n",
              "\n",
              "    .dataframe tbody tr th {\n",
              "        vertical-align: top;\n",
              "    }\n",
              "\n",
              "    .dataframe thead th {\n",
              "        text-align: right;\n",
              "    }\n",
              "</style>\n",
              "<table border=\"1\" class=\"dataframe\">\n",
              "  <thead>\n",
              "    <tr style=\"text-align: right;\">\n",
              "      <th></th>\n",
              "      <th>count</th>\n",
              "      <th>mean</th>\n",
              "      <th>std</th>\n",
              "      <th>min</th>\n",
              "      <th>25%</th>\n",
              "      <th>50%</th>\n",
              "      <th>75%</th>\n",
              "      <th>max</th>\n",
              "    </tr>\n",
              "  </thead>\n",
              "  <tbody>\n",
              "    <tr>\n",
              "      <th>gender</th>\n",
              "      <td>4000.00</td>\n",
              "      <td>0.51</td>\n",
              "      <td>0.50</td>\n",
              "      <td>0.00</td>\n",
              "      <td>0.00</td>\n",
              "      <td>1.00</td>\n",
              "      <td>1.00</td>\n",
              "      <td>1.00</td>\n",
              "    </tr>\n",
              "    <tr>\n",
              "      <th>near_location</th>\n",
              "      <td>4000.00</td>\n",
              "      <td>0.85</td>\n",
              "      <td>0.36</td>\n",
              "      <td>0.00</td>\n",
              "      <td>1.00</td>\n",
              "      <td>1.00</td>\n",
              "      <td>1.00</td>\n",
              "      <td>1.00</td>\n",
              "    </tr>\n",
              "    <tr>\n",
              "      <th>partner</th>\n",
              "      <td>4000.00</td>\n",
              "      <td>0.49</td>\n",
              "      <td>0.50</td>\n",
              "      <td>0.00</td>\n",
              "      <td>0.00</td>\n",
              "      <td>0.00</td>\n",
              "      <td>1.00</td>\n",
              "      <td>1.00</td>\n",
              "    </tr>\n",
              "    <tr>\n",
              "      <th>promo_friends</th>\n",
              "      <td>4000.00</td>\n",
              "      <td>0.31</td>\n",
              "      <td>0.46</td>\n",
              "      <td>0.00</td>\n",
              "      <td>0.00</td>\n",
              "      <td>0.00</td>\n",
              "      <td>1.00</td>\n",
              "      <td>1.00</td>\n",
              "    </tr>\n",
              "    <tr>\n",
              "      <th>phone</th>\n",
              "      <td>4000.00</td>\n",
              "      <td>0.90</td>\n",
              "      <td>0.30</td>\n",
              "      <td>0.00</td>\n",
              "      <td>1.00</td>\n",
              "      <td>1.00</td>\n",
              "      <td>1.00</td>\n",
              "      <td>1.00</td>\n",
              "    </tr>\n",
              "    <tr>\n",
              "      <th>contract_period</th>\n",
              "      <td>4000.00</td>\n",
              "      <td>4.68</td>\n",
              "      <td>4.55</td>\n",
              "      <td>1.00</td>\n",
              "      <td>1.00</td>\n",
              "      <td>1.00</td>\n",
              "      <td>6.00</td>\n",
              "      <td>12.00</td>\n",
              "    </tr>\n",
              "    <tr>\n",
              "      <th>group_visits</th>\n",
              "      <td>4000.00</td>\n",
              "      <td>0.41</td>\n",
              "      <td>0.49</td>\n",
              "      <td>0.00</td>\n",
              "      <td>0.00</td>\n",
              "      <td>0.00</td>\n",
              "      <td>1.00</td>\n",
              "      <td>1.00</td>\n",
              "    </tr>\n",
              "    <tr>\n",
              "      <th>age</th>\n",
              "      <td>4000.00</td>\n",
              "      <td>29.18</td>\n",
              "      <td>3.26</td>\n",
              "      <td>18.00</td>\n",
              "      <td>27.00</td>\n",
              "      <td>29.00</td>\n",
              "      <td>31.00</td>\n",
              "      <td>41.00</td>\n",
              "    </tr>\n",
              "    <tr>\n",
              "      <th>avg_additional_charges_total</th>\n",
              "      <td>4000.00</td>\n",
              "      <td>146.94</td>\n",
              "      <td>96.36</td>\n",
              "      <td>0.15</td>\n",
              "      <td>68.87</td>\n",
              "      <td>136.22</td>\n",
              "      <td>210.95</td>\n",
              "      <td>552.59</td>\n",
              "    </tr>\n",
              "    <tr>\n",
              "      <th>month_to_end_contract</th>\n",
              "      <td>4000.00</td>\n",
              "      <td>4.32</td>\n",
              "      <td>4.19</td>\n",
              "      <td>1.00</td>\n",
              "      <td>1.00</td>\n",
              "      <td>1.00</td>\n",
              "      <td>6.00</td>\n",
              "      <td>12.00</td>\n",
              "    </tr>\n",
              "    <tr>\n",
              "      <th>lifetime</th>\n",
              "      <td>4000.00</td>\n",
              "      <td>3.72</td>\n",
              "      <td>3.75</td>\n",
              "      <td>0.00</td>\n",
              "      <td>1.00</td>\n",
              "      <td>3.00</td>\n",
              "      <td>5.00</td>\n",
              "      <td>31.00</td>\n",
              "    </tr>\n",
              "    <tr>\n",
              "      <th>avg_class_frequency_total</th>\n",
              "      <td>4000.00</td>\n",
              "      <td>1.88</td>\n",
              "      <td>0.97</td>\n",
              "      <td>0.00</td>\n",
              "      <td>1.18</td>\n",
              "      <td>1.83</td>\n",
              "      <td>2.54</td>\n",
              "      <td>6.02</td>\n",
              "    </tr>\n",
              "    <tr>\n",
              "      <th>avg_class_frequency_current_month</th>\n",
              "      <td>4000.00</td>\n",
              "      <td>1.77</td>\n",
              "      <td>1.05</td>\n",
              "      <td>0.00</td>\n",
              "      <td>0.96</td>\n",
              "      <td>1.72</td>\n",
              "      <td>2.51</td>\n",
              "      <td>6.15</td>\n",
              "    </tr>\n",
              "    <tr>\n",
              "      <th>churn</th>\n",
              "      <td>4000.00</td>\n",
              "      <td>0.27</td>\n",
              "      <td>0.44</td>\n",
              "      <td>0.00</td>\n",
              "      <td>0.00</td>\n",
              "      <td>0.00</td>\n",
              "      <td>1.00</td>\n",
              "      <td>1.00</td>\n",
              "    </tr>\n",
              "  </tbody>\n",
              "</table>\n",
              "</div>"
            ],
            "text/plain": [
              "                                    count   mean   std   min   25%    50%  \\\n",
              "gender                            4000.00   0.51  0.50  0.00  0.00   1.00   \n",
              "near_location                     4000.00   0.85  0.36  0.00  1.00   1.00   \n",
              "partner                           4000.00   0.49  0.50  0.00  0.00   0.00   \n",
              "promo_friends                     4000.00   0.31  0.46  0.00  0.00   0.00   \n",
              "phone                             4000.00   0.90  0.30  0.00  1.00   1.00   \n",
              "contract_period                   4000.00   4.68  4.55  1.00  1.00   1.00   \n",
              "group_visits                      4000.00   0.41  0.49  0.00  0.00   0.00   \n",
              "age                               4000.00  29.18  3.26 18.00 27.00  29.00   \n",
              "avg_additional_charges_total      4000.00 146.94 96.36  0.15 68.87 136.22   \n",
              "month_to_end_contract             4000.00   4.32  4.19  1.00  1.00   1.00   \n",
              "lifetime                          4000.00   3.72  3.75  0.00  1.00   3.00   \n",
              "avg_class_frequency_total         4000.00   1.88  0.97  0.00  1.18   1.83   \n",
              "avg_class_frequency_current_month 4000.00   1.77  1.05  0.00  0.96   1.72   \n",
              "churn                             4000.00   0.27  0.44  0.00  0.00   0.00   \n",
              "\n",
              "                                     75%    max  \n",
              "gender                              1.00   1.00  \n",
              "near_location                       1.00   1.00  \n",
              "partner                             1.00   1.00  \n",
              "promo_friends                       1.00   1.00  \n",
              "phone                               1.00   1.00  \n",
              "contract_period                     6.00  12.00  \n",
              "group_visits                        1.00   1.00  \n",
              "age                                31.00  41.00  \n",
              "avg_additional_charges_total      210.95 552.59  \n",
              "month_to_end_contract               6.00  12.00  \n",
              "lifetime                            5.00  31.00  \n",
              "avg_class_frequency_total           2.54   6.02  \n",
              "avg_class_frequency_current_month   2.51   6.15  \n",
              "churn                               1.00   1.00  "
            ]
          },
          "execution_count": 3,
          "metadata": {},
          "output_type": "execute_result"
        }
      ],
      "source": [
        "data.info()\n",
        "data.describe().T"
      ]
    },
    {
      "cell_type": "markdown",
      "metadata": {
        "id": "sz5V6y_MfNCO"
      },
      "source": [
        "1. В представелнных данных 4000 записей и нет пропусков.\n",
        "2. Данные представлены только числами, нет категориальных переменных.\n",
        "3. Диапазоны признаков значительно различаются (например, бинарные признаки и сумма дополнительных услуг). Для алгоритмов логистической регрессии и случайного леса стандартизация не требуется, однако на этапе кластеризации она будет обязательной."
      ]
    },
    {
      "cell_type": "markdown",
      "metadata": {
        "id": "h4Fki1ZAfNCP"
      },
      "source": [
        "<a id=\"chapter_3_2\"></a>\n",
        "### Анализ данных в колонках"
      ]
    },
    {
      "cell_type": "markdown",
      "metadata": {
        "id": "Jb1fqHKHfNCP"
      },
      "source": [
        "1. `gender` - 0 или 1; клиенты по половому признаку распределены поровну.\n",
        "2. `near_location` - 0 или 1; 84% клиентов живут или работают в районе фитнес-центра.\n",
        "3. `partner` - 0 или 1; примерно половина клиентов - представители компаний-партнёров.\n",
        "4. `promo_friends` - 0 или 1; примерно 30% клиентов воспользовались реферальной программой.\n",
        "5. `phone` - 0 или 1; примерно 90% клиентов оставили контактный телефон."
      ]
    },
    {
      "cell_type": "code",
      "execution_count": null,
      "metadata": {
        "scrolled": true,
        "id": "Lv7HSNEgfNCP",
        "outputId": "a5007554-3bcd-4720-9d26-ca50a51ec33a"
      },
      "outputs": [
        {
          "data": {
            "text/plain": [
              "contract_period\n",
              "1    0.55\n",
              "12   0.24\n",
              "6    0.21\n",
              "dtype: float64"
            ]
          },
          "execution_count": 4,
          "metadata": {},
          "output_type": "execute_result"
        }
      ],
      "source": [
        "data.value_counts('contract_period', normalize=True)"
      ]
    },
    {
      "cell_type": "markdown",
      "metadata": {
        "id": "N9H34gFDfNCP"
      },
      "source": [
        "6. `contract_period` - 1, 6 или 12;  55% клиентов имеют абонемент на 1 месяц, 24% клиентов владеют абонементом на год, 21% - на полгода.\n",
        "7. `group_visits` - 0 или 1; 41% клиентов посещали групповые занятия.\n",
        "8. `age` - от 18 до 41 года, в среднем 29 лет со стандартным отклонением 3 года."
      ]
    },
    {
      "cell_type": "markdown",
      "metadata": {
        "id": "8okMAypxfNCQ"
      },
      "source": [
        "9. `avg_additional_charges_total` - в среднем клиенты тратят на дополнительные услуги 147 у.е. со стандартным отклонением 96 у.е. Так как максимум составляет 552 у.е., а медиана (136 у.е.) и среденее примерно равны, то можно считать, что большинство клиентов не имеют значительных затрат на дополнительные услуги."
      ]
    },
    {
      "cell_type": "code",
      "execution_count": null,
      "metadata": {
        "id": "BSynsHIUfNCQ",
        "outputId": "9c93d904-2cd7-4ad9-96b2-85cb229ce7c3"
      },
      "outputs": [
        {
          "data": {
            "image/png": "[encoded data removed]",
            "text/plain": [
              "<Figure size 720x360 with 1 Axes>"
            ]
          },
          "metadata": {},
          "output_type": "display_data"
        }
      ],
      "source": [
        "fig, ax = plt.subplots(figsize=(10, 5))\n",
        "sns.despine(fig)\n",
        "sns.histplot(x=data['avg_additional_charges_total'])\n",
        "ax.set_title('Гистограмма по величине приобретаемых дополнительных услуг')\n",
        "ax.set_ylabel('Число клиентов')\n",
        "ax.set_xlabel('Суммарный объём платы, у.е.')\n",
        "plt.show()"
      ]
    },
    {
      "cell_type": "markdown",
      "metadata": {
        "id": "TtwfqA9ffNCQ"
      },
      "source": [
        "10. `month_to_end_contract` - так как расчёт ведётся в месяцах, то большинство клиентов имеют срок 1 месяц, также большое количество клиентов со сроком 6 и 12 месяцев, что выглядит странно. Скорее всего, прошла какая-то акция и многие абонементы свежекуплены."
      ]
    },
    {
      "cell_type": "code",
      "execution_count": null,
      "metadata": {
        "scrolled": true,
        "id": "6lrtX-1vfNCQ",
        "outputId": "5c2edf1b-5cad-41a5-85f5-388b14fa4665"
      },
      "outputs": [
        {
          "data": {
            "image/png": "[encoded data removed]",
            "text/plain": [
              "<Figure size 720x360 with 1 Axes>"
            ]
          },
          "metadata": {},
          "output_type": "display_data"
        }
      ],
      "source": [
        "data['month_to_end_contract'] = data['month_to_end_contract'].astype(\"int\")\n",
        "fig, ax = plt.subplots(figsize=(10, 5))\n",
        "sns.despine(fig)\n",
        "data_to_plot = data.value_counts('month_to_end_contract', normalize=True) * 100\n",
        "sns.barplot(x=data_to_plot.index,\n",
        "            y=data_to_plot,\n",
        "            orient='v')\n",
        "ax.set_title('Остаток по сроку действия договора')\n",
        "ax.set_ylabel('Доля от общего числа, %')\n",
        "ax.set_xlabel('Срок, мес.')\n",
        "plt.show()"
      ]
    },
    {
      "cell_type": "markdown",
      "metadata": {
        "id": "oCA47R-pfNCU"
      },
      "source": [
        "11. `lifetime` - составляет от 0 до 31 месяца, для большинства клиентов срок посещения 3-4 месяца."
      ]
    },
    {
      "cell_type": "code",
      "execution_count": null,
      "metadata": {
        "scrolled": false,
        "id": "2v6anokCfNCU",
        "outputId": "32229ee7-eaaa-4605-c93b-30753292cf19"
      },
      "outputs": [
        {
          "data": {
            "image/png": "[encoded data removed]",
            "text/plain": [
              "<Figure size 720x360 with 1 Axes>"
            ]
          },
          "metadata": {},
          "output_type": "display_data"
        }
      ],
      "source": [
        "fig, ax = plt.subplots(figsize=(10, 5))\n",
        "sns.despine(fig)\n",
        "data_to_plot = data.value_counts('lifetime', normalize=True) * 100\n",
        "sns.barplot(x=data_to_plot.index,\n",
        "            y=data_to_plot,\n",
        "            orient='v')\n",
        "ax.set_title('Остаток по сроку действия договора')\n",
        "ax.set_ylabel('Доля от общего числа, %')\n",
        "ax.set_xlabel('Срок, мес.')\n",
        "plt.show()"
      ]
    },
    {
      "cell_type": "markdown",
      "metadata": {
        "id": "TBaR6onYfNCV"
      },
      "source": [
        "12. `avg_class_frequency_total` - в среднем клиенты посещают зал 1.9 раза в неделю, большинство ходит от 1 до 3 раз."
      ]
    },
    {
      "cell_type": "code",
      "execution_count": null,
      "metadata": {
        "scrolled": true,
        "id": "M527O0DZfNCV",
        "outputId": "b17915f1-cfea-4dea-9a5c-28269524655c"
      },
      "outputs": [
        {
          "data": {
            "image/png": "[encoded data removed]",
            "text/plain": [
              "<Figure size 720x360 with 1 Axes>"
            ]
          },
          "metadata": {},
          "output_type": "display_data"
        }
      ],
      "source": [
        "fig, ax = plt.subplots(figsize=(10, 5))\n",
        "sns.despine(fig)\n",
        "sns.histplot(x=data['avg_class_frequency_total'])\n",
        "ax.set_title('Гистограмма по величине приобретаемых дополнительных услуг')\n",
        "ax.set_ylabel('Число клиентов')\n",
        "ax.set_xlabel('Суммарный объём платы, у.е.')\n",
        "plt.show()"
      ]
    },
    {
      "cell_type": "markdown",
      "metadata": {
        "id": "_D7yDpanfNCV"
      },
      "source": [
        "13. `avg_class_frequency_current_month` - в среднем клиенты за последний месяц посещают зал немного реже, чем обычно - 1.8 раза в неделю, большинство также ходит от 1 до 3 раз."
      ]
    },
    {
      "cell_type": "code",
      "execution_count": null,
      "metadata": {
        "scrolled": true,
        "id": "tQbZy3zBfNCV",
        "outputId": "d3027093-ff32-4af9-9985-ae4d2c4ba6bd"
      },
      "outputs": [
        {
          "data": {
            "image/png": "[encoded data removed]",
            "text/plain": [
              "<Figure size 720x360 with 1 Axes>"
            ]
          },
          "metadata": {},
          "output_type": "display_data"
        }
      ],
      "source": [
        "fig, ax = plt.subplots(figsize=(10, 5))\n",
        "sns.despine(fig)\n",
        "sns.histplot(x=data['avg_class_frequency_current_month'])\n",
        "ax.set_title('Гистограмма по величине приобретаемых дополнительных услуг')\n",
        "ax.set_ylabel('Число клиентов')\n",
        "ax.set_xlabel('Суммарный объём платы, у.е.')\n",
        "plt.show()"
      ]
    },
    {
      "cell_type": "markdown",
      "metadata": {
        "id": "RVc73SkpfNCW"
      },
      "source": [
        "14. `churn` - 0 или 1; факт оттока составил 27%."
      ]
    },
    {
      "cell_type": "markdown",
      "metadata": {
        "id": "zYPDaEhUfNCW"
      },
      "source": [
        "<a id=\"chapter_3_3\"></a>\n",
        "### Анализ групп ушедших и оставшихся клиентов"
      ]
    },
    {
      "cell_type": "code",
      "execution_count": null,
      "metadata": {
        "id": "whehvPAxfNCX",
        "outputId": "cce91020-086c-4953-b644-856562628b3c"
      },
      "outputs": [
        {
          "data": {
            "text/html": [
              "<div>\n",
              "<style scoped>\n",
              "    .dataframe tbody tr th:only-of-type {\n",
              "        vertical-align: middle;\n",
              "    }\n",
              "\n",
              "    .dataframe tbody tr th {\n",
              "        vertical-align: top;\n",
              "    }\n",
              "\n",
              "    .dataframe thead th {\n",
              "        text-align: right;\n",
              "    }\n",
              "</style>\n",
              "<table border=\"1\" class=\"dataframe\">\n",
              "  <thead>\n",
              "    <tr style=\"text-align: right;\">\n",
              "      <th>churn</th>\n",
              "      <th>stay</th>\n",
              "      <th>leave</th>\n",
              "    </tr>\n",
              "  </thead>\n",
              "  <tbody>\n",
              "    <tr>\n",
              "      <th>gender</th>\n",
              "      <td>0.51</td>\n",
              "      <td>0.51</td>\n",
              "    </tr>\n",
              "    <tr>\n",
              "      <th>near_location</th>\n",
              "      <td>0.87</td>\n",
              "      <td>0.77</td>\n",
              "    </tr>\n",
              "    <tr>\n",
              "      <th>partner</th>\n",
              "      <td>0.53</td>\n",
              "      <td>0.36</td>\n",
              "    </tr>\n",
              "    <tr>\n",
              "      <th>promo_friends</th>\n",
              "      <td>0.35</td>\n",
              "      <td>0.18</td>\n",
              "    </tr>\n",
              "    <tr>\n",
              "      <th>phone</th>\n",
              "      <td>0.90</td>\n",
              "      <td>0.90</td>\n",
              "    </tr>\n",
              "    <tr>\n",
              "      <th>contract_period</th>\n",
              "      <td>5.75</td>\n",
              "      <td>1.73</td>\n",
              "    </tr>\n",
              "    <tr>\n",
              "      <th>group_visits</th>\n",
              "      <td>0.46</td>\n",
              "      <td>0.27</td>\n",
              "    </tr>\n",
              "    <tr>\n",
              "      <th>age</th>\n",
              "      <td>29.98</td>\n",
              "      <td>26.99</td>\n",
              "    </tr>\n",
              "    <tr>\n",
              "      <th>avg_additional_charges_total</th>\n",
              "      <td>158.45</td>\n",
              "      <td>115.08</td>\n",
              "    </tr>\n",
              "    <tr>\n",
              "      <th>month_to_end_contract</th>\n",
              "      <td>5.28</td>\n",
              "      <td>1.66</td>\n",
              "    </tr>\n",
              "    <tr>\n",
              "      <th>lifetime</th>\n",
              "      <td>4.71</td>\n",
              "      <td>0.99</td>\n",
              "    </tr>\n",
              "    <tr>\n",
              "      <th>avg_class_frequency_total</th>\n",
              "      <td>2.02</td>\n",
              "      <td>1.47</td>\n",
              "    </tr>\n",
              "    <tr>\n",
              "      <th>avg_class_frequency_current_month</th>\n",
              "      <td>2.03</td>\n",
              "      <td>1.04</td>\n",
              "    </tr>\n",
              "  </tbody>\n",
              "</table>\n",
              "</div>"
            ],
            "text/plain": [
              "churn                               stay  leave\n",
              "gender                              0.51   0.51\n",
              "near_location                       0.87   0.77\n",
              "partner                             0.53   0.36\n",
              "promo_friends                       0.35   0.18\n",
              "phone                               0.90   0.90\n",
              "contract_period                     5.75   1.73\n",
              "group_visits                        0.46   0.27\n",
              "age                                29.98  26.99\n",
              "avg_additional_charges_total      158.45 115.08\n",
              "month_to_end_contract               5.28   1.66\n",
              "lifetime                            4.71   0.99\n",
              "avg_class_frequency_total           2.02   1.47\n",
              "avg_class_frequency_current_month   2.03   1.04"
            ]
          },
          "execution_count": 10,
          "metadata": {},
          "output_type": "execute_result"
        }
      ],
      "source": [
        "data.groupby('churn').mean().T.rename(columns={0:'stay',\n",
        "                                               1:'leave'})"
      ]
    },
    {
      "cell_type": "markdown",
      "metadata": {
        "id": "xLuky9OzfNCX"
      },
      "source": [
        "Из групп можно сделать предварительный портрет клиента из группы оттока:\n",
        "1. Не относится к компании-партнёру.\n",
        "2. Не пользовался реферальной программой.\n",
        "3. Имеет месячный абонемент.\n",
        "4. Не посещает групповые программы.\n",
        "5. Приобретает дополнительные услуги в небольшом объёме.\n",
        "6. Посещает зал всего месяц.\n",
        "7. Ходит менее 2-х раз в неделю.\n",
        "\n",
        "\n",
        "Можно предположить, что это две группы клиентов:\n",
        "1. Большинство - купившие месячный абонемент \"на пробу\" и забросившие зал.\n",
        "2. Меньшая часть - клиенты, переставшие посещать зал по тем или иным причинам."
      ]
    },
    {
      "cell_type": "markdown",
      "metadata": {
        "id": "DhCklukNfNCY"
      },
      "source": [
        "<a id=\"chapter_3_4\"></a>\n",
        "### Анализ распределения признаков по группам"
      ]
    },
    {
      "cell_type": "code",
      "execution_count": null,
      "metadata": {
        "id": "054nCK4jfNCY"
      },
      "outputs": [],
      "source": [
        "# функция для вывода графиков по бинарным значениям\n",
        "def binary_figure(dt, gr_cols):  # принимает на вход DataFrame и словарь \"имя столбца\"-\"наименование оси х\"\n",
        "    for col_name, x_label in gr_cols.items():\n",
        "        ax = sns.catplot(data=dt.groupby(col_name, as_index=False)['churn'].mean(),\n",
        "                    kind='bar',\n",
        "                    x=col_name,\n",
        "                    y='churn',\n",
        "                    height=6,\n",
        "                    aspect= 1,)\n",
        "        ax.set_axis_labels(x_label, 'Доля оттока')\n",
        "        plt.show()"
      ]
    },
    {
      "cell_type": "code",
      "execution_count": null,
      "metadata": {
        "scrolled": false,
        "id": "tS9VdGb4fNCY",
        "outputId": "f818a98d-aff5-4db7-fc03-4be488a929f7"
      },
      "outputs": [
        {
          "data": {
            "image/png": "[encoded data removed]",
            "text/plain": [
              "<Figure size 432x432 with 1 Axes>"
            ]
          },
          "metadata": {},
          "output_type": "display_data"
        },
        {
          "data": {
            "image/png": "[encoded data removed]",
            "text/plain": [
              "<Figure size 432x432 with 1 Axes>"
            ]
          },
          "metadata": {},
          "output_type": "display_data"
        },
        {
          "data": {
            "image/png": "[encoded data removed]",
            "text/plain": [
              "<Figure size 432x432 with 1 Axes>"
            ]
          },
          "metadata": {},
          "output_type": "display_data"
        },
        {
          "data": {
            "image/png": "[encoded data removed]",
            "text/plain": [
              "<Figure size 432x432 with 1 Axes>"
            ]
          },
          "metadata": {},
          "output_type": "display_data"
        },
        {
          "data": {
            "image/png": "[encoded data removed]",
            "text/plain": [
              "<Figure size 432x432 with 1 Axes>"
            ]
          },
          "metadata": {},
          "output_type": "display_data"
        },
        {
          "data": {
            "image/png": "[encoded data removed]",
            "text/plain": [
              "<Figure size 432x432 with 1 Axes>"
            ]
          },
          "metadata": {},
          "output_type": "display_data"
        }
      ],
      "source": [
        "binary_figure(data,\n",
        "              {'gender': 'Пол',\n",
        "               'near_location': 'Работа/проживание в районе фитнес-клуба',\n",
        "               'partner': 'Клиент от организации-партнёра',\n",
        "               'phone': 'Наличие контактного телефона',\n",
        "               'promo_friends': 'Использование реферальной программы',\n",
        "               'group_visits': 'Посещение групповых программ',})"
      ]
    },
    {
      "cell_type": "markdown",
      "metadata": {
        "id": "hwv2kxOCfNCY"
      },
      "source": [
        "**Промежуточные выводы**\n",
        "\n",
        "1. Пол и наличие контактного никак не влияют на отток клиентов\n",
        "2. Среди клиентов, посещавших групповые программы, пришедших по реферальным программам или от партнёров, а также работающих/проживающих в районе фитнес-центра доля оттока в два раза меньше."
      ]
    },
    {
      "cell_type": "code",
      "execution_count": null,
      "metadata": {
        "id": "LBjeodtBfNCZ",
        "outputId": "a65d24d5-1d16-499f-c51d-c405f7efe64c"
      },
      "outputs": [
        {
          "data": {
            "image/png": "[encoded data removed]",
            "text/plain": [
              "<Figure size 586.05x432 with 1 Axes>"
            ]
          },
          "metadata": {},
          "output_type": "display_data"
        }
      ],
      "source": [
        "ax = sns.catplot(data=data.groupby(['contract_period', 'month_to_end_contract'], as_index=False)['churn'].mean(),\n",
        "                 kind='bar',\n",
        "                 x='month_to_end_contract',\n",
        "                 y='churn',\n",
        "                 hue='contract_period',\n",
        "                 height=6,\n",
        "                 aspect= 1,\n",
        "                 legend=False)\n",
        "ax.add_legend(title='Срок абонемента, мес.')                 \n",
        "ax.set_axis_labels('Срок до окончания действия абонемента, мес.', 'Доля оттока')\n",
        "plt.show()"
      ]
    },
    {
      "cell_type": "markdown",
      "metadata": {
        "id": "ln2JtXsHfNCZ"
      },
      "source": [
        "**Промежуточные выводы**\n",
        "\n",
        "1. Чем больше срок абонемента, тем меньше вероятность оттока клиента - клиенту жаль потраченных средств.\n",
        "2. С уменьшением срока, оставшегося по договору, вероятность оттока увеличивается."
      ]
    },
    {
      "cell_type": "code",
      "execution_count": null,
      "metadata": {
        "id": "kmC83LcCfNCZ",
        "outputId": "c9f067a7-5ba5-45ae-e138-13f498350dae"
      },
      "outputs": [
        {
          "data": {
            "image/png": "[encoded data removed]",
            "text/plain": [
              "<Figure size 720x360 with 1 Axes>"
            ]
          },
          "metadata": {},
          "output_type": "display_data"
        }
      ],
      "source": [
        "fig, ax = plt.subplots(figsize=(10, 5))\n",
        "sns.despine(fig)\n",
        "ax = sns.histplot(data=data,\n",
        "             x='age',\n",
        "             hue='churn',\n",
        "             legend=False,)\n",
        "ax.set_title('Гистограмма по возрасту клиентов')\n",
        "ax.set_ylabel('Число клиентов')\n",
        "ax.set_xlabel('Возраст клиентов')\n",
        "ax.set_xticks([x for x in range(18, 42)])\n",
        "plt.legend(title='', labels=['Клиент в оттоке', 'Клиент остался'])\n",
        "plt.show()"
      ]
    },
    {
      "cell_type": "markdown",
      "metadata": {
        "id": "VvfLA-byfNCa"
      },
      "source": [
        "**Промежуточный вывод**\n",
        "\n",
        "Уходит большая часть клиентов в возрасте до 25 лет, начиная c 26 лет процент отток снижается, после 35 лет среди клиентов оттока практически нет."
      ]
    },
    {
      "cell_type": "code",
      "execution_count": null,
      "metadata": {
        "scrolled": true,
        "id": "qd_o2NQ5fNCa",
        "outputId": "2f317027-e964-4829-f351-d8eccbc5db7a"
      },
      "outputs": [
        {
          "data": {
            "image/png": "[encoded data removed]",
            "text/plain": [
              "<Figure size 720x360 with 1 Axes>"
            ]
          },
          "metadata": {},
          "output_type": "display_data"
        }
      ],
      "source": [
        "fig, ax = plt.subplots(figsize=(10, 5))\n",
        "sns.despine(fig)\n",
        "ax = sns.histplot(data=data,\n",
        "             x='lifetime',\n",
        "             hue='churn',\n",
        "             legend=False,)\n",
        "ax.set_title('Гистограмма по продолжительности посещения фитнес-клуба')\n",
        "ax.set_ylabel('Число клиентов')\n",
        "ax.set_xlabel('Общий срок посещения, мес.')\n",
        "ax.set_xticks([x for x in range(32)])\n",
        "plt.legend(title='', labels=['Клиент в оттоке', 'Клиент остался'])\n",
        "plt.show()"
      ]
    },
    {
      "cell_type": "markdown",
      "metadata": {
        "id": "kgTsyS2ffNCa"
      },
      "source": [
        "**Промежуточный вывод**\n",
        "\n",
        "Клиенты, посещавшие фитнес-клуб более 4 месяцев, практически не попадают в отток. Видимо, им всё нравится."
      ]
    },
    {
      "cell_type": "code",
      "execution_count": null,
      "metadata": {
        "scrolled": true,
        "id": "GqDqezNGfNCb",
        "outputId": "7fd79db1-1a71-4759-9493-9d70a17ef61d"
      },
      "outputs": [
        {
          "data": {
            "image/png": "[encoded data removed]",
            "text/plain": [
              "<Figure size 720x360 with 1 Axes>"
            ]
          },
          "metadata": {},
          "output_type": "display_data"
        }
      ],
      "source": [
        "fig, ax = plt.subplots(figsize=(10, 5))\n",
        "sns.despine(fig)\n",
        "ax = sns.histplot(data=data,\n",
        "             x='avg_additional_charges_total',\n",
        "             hue='churn',\n",
        "             legend=False,)\n",
        "ax.set_title('Гистограмма по общей стоимости приобретенных доп. услуг')\n",
        "ax.set_ylabel('Число клиентов')\n",
        "ax.set_xlabel('Величина доп. услуг, у.е.')\n",
        "plt.legend(title='', labels=['Клиент в оттоке', 'Клиент остался'])\n",
        "plt.show()"
      ]
    },
    {
      "cell_type": "markdown",
      "metadata": {
        "id": "x3XMb9S8fNCb"
      },
      "source": [
        "**Промежуточный вывод**\n",
        "\n",
        "Чем больше клиент приобретает дополнительных услуг начиная с суммы в 150 у.е., тем меньше вероятность оттока. Абсолютное большинство клиентов, потративших на дополнительные услуги более 300 у.е., остаются в клубе."
      ]
    },
    {
      "cell_type": "code",
      "execution_count": null,
      "metadata": {
        "scrolled": true,
        "id": "8RHI7FUufNCc",
        "outputId": "d33bf630-af99-4294-e0c3-5a73d0f204ad"
      },
      "outputs": [
        {
          "data": {
            "image/png": "[encoded data removed]",
            "text/plain": [
              "<Figure size 720x360 with 1 Axes>"
            ]
          },
          "metadata": {},
          "output_type": "display_data"
        }
      ],
      "source": [
        "fig, ax = plt.subplots(figsize=(10, 5))\n",
        "sns.despine(fig)\n",
        "ax = sns.histplot(data=data,\n",
        "             x='avg_class_frequency_total',\n",
        "             hue='churn',\n",
        "             legend=False,)\n",
        "ax.set_title('Гистограмма по частоте посещения за всё время')\n",
        "ax.set_ylabel('Число клиентов')\n",
        "ax.set_xlabel('Среднее количество тренировок в неделю')\n",
        "plt.legend(title='', labels=['Клиент в оттоке', 'Клиент остался'])\n",
        "plt.show()"
      ]
    },
    {
      "cell_type": "code",
      "execution_count": null,
      "metadata": {
        "scrolled": true,
        "id": "NXeWXhSufNCc",
        "outputId": "36a1286c-41c6-4fd0-d937-9015b4b39a86"
      },
      "outputs": [
        {
          "data": {
            "image/png": "[encoded data removed]",
            "text/plain": [
              "<Figure size 720x360 with 1 Axes>"
            ]
          },
          "metadata": {},
          "output_type": "display_data"
        }
      ],
      "source": [
        "\n",
        "fig, ax = plt.subplots(figsize=(10, 5))\n",
        "sns.despine(fig)\n",
        "ax = sns.histplot(data=data,\n",
        "             x='avg_class_frequency_current_month',\n",
        "             hue='churn',\n",
        "             legend=False,)\n",
        "ax.set_title('Гистограмма по частоте посещения за последний месяц')\n",
        "ax.set_ylabel('Число клиентов')\n",
        "ax.set_xlabel('Среднее количество тренировок в неделю')\n",
        "plt.legend(title='', labels=['Клиент в оттоке', 'Клиент остался'])\n",
        "plt.show()"
      ]
    },
    {
      "cell_type": "markdown",
      "metadata": {
        "id": "5Vt5ghJAfNCc"
      },
      "source": [
        "**Промежуточный вывод**\n",
        "\n",
        "Более склонны к оттоку клиенты, тренирующиеся менее 2 раз в неделю."
      ]
    },
    {
      "cell_type": "code",
      "execution_count": null,
      "metadata": {
        "id": "rRYWjOeofNCd",
        "outputId": "d61b79e7-154a-425c-f2bd-7e18120f94de"
      },
      "outputs": [
        {
          "data": {
            "text/html": [
              "<div>\n",
              "<style scoped>\n",
              "    .dataframe tbody tr th:only-of-type {\n",
              "        vertical-align: middle;\n",
              "    }\n",
              "\n",
              "    .dataframe tbody tr th {\n",
              "        vertical-align: top;\n",
              "    }\n",
              "\n",
              "    .dataframe thead th {\n",
              "        text-align: right;\n",
              "    }\n",
              "</style>\n",
              "<table border=\"1\" class=\"dataframe\">\n",
              "  <thead>\n",
              "    <tr style=\"text-align: right;\">\n",
              "      <th></th>\n",
              "      <th>gender</th>\n",
              "      <th>near_location</th>\n",
              "      <th>partner</th>\n",
              "      <th>promo_friends</th>\n",
              "      <th>phone</th>\n",
              "      <th>contract_period</th>\n",
              "      <th>group_visits</th>\n",
              "      <th>age</th>\n",
              "      <th>avg_additional_charges_total</th>\n",
              "      <th>month_to_end_contract</th>\n",
              "      <th>lifetime</th>\n",
              "      <th>avg_class_frequency_total</th>\n",
              "      <th>avg_class_frequency_current_month</th>\n",
              "      <th>churn</th>\n",
              "    </tr>\n",
              "  </thead>\n",
              "  <tbody>\n",
              "    <tr>\n",
              "      <th>gender</th>\n",
              "      <td>1.00</td>\n",
              "      <td>0.01</td>\n",
              "      <td>-0.01</td>\n",
              "      <td>-0.01</td>\n",
              "      <td>-0.01</td>\n",
              "      <td>0.00</td>\n",
              "      <td>0.02</td>\n",
              "      <td>0.01</td>\n",
              "      <td>-0.01</td>\n",
              "      <td>-0.00</td>\n",
              "      <td>0.01</td>\n",
              "      <td>0.01</td>\n",
              "      <td>0.01</td>\n",
              "      <td>0.00</td>\n",
              "    </tr>\n",
              "    <tr>\n",
              "      <th>near_location</th>\n",
              "      <td>0.01</td>\n",
              "      <td>1.00</td>\n",
              "      <td>-0.01</td>\n",
              "      <td>0.21</td>\n",
              "      <td>-0.02</td>\n",
              "      <td>0.15</td>\n",
              "      <td>0.15</td>\n",
              "      <td>0.06</td>\n",
              "      <td>0.04</td>\n",
              "      <td>0.14</td>\n",
              "      <td>0.07</td>\n",
              "      <td>0.04</td>\n",
              "      <td>0.06</td>\n",
              "      <td>-0.13</td>\n",
              "    </tr>\n",
              "    <tr>\n",
              "      <th>partner</th>\n",
              "      <td>-0.01</td>\n",
              "      <td>-0.01</td>\n",
              "      <td>1.00</td>\n",
              "      <td>0.45</td>\n",
              "      <td>0.01</td>\n",
              "      <td>0.31</td>\n",
              "      <td>0.02</td>\n",
              "      <td>0.05</td>\n",
              "      <td>0.02</td>\n",
              "      <td>0.29</td>\n",
              "      <td>0.06</td>\n",
              "      <td>0.02</td>\n",
              "      <td>0.05</td>\n",
              "      <td>-0.16</td>\n",
              "    </tr>\n",
              "    <tr>\n",
              "      <th>promo_friends</th>\n",
              "      <td>-0.01</td>\n",
              "      <td>0.21</td>\n",
              "      <td>0.45</td>\n",
              "      <td>1.00</td>\n",
              "      <td>0.00</td>\n",
              "      <td>0.24</td>\n",
              "      <td>0.12</td>\n",
              "      <td>0.05</td>\n",
              "      <td>0.04</td>\n",
              "      <td>0.24</td>\n",
              "      <td>0.07</td>\n",
              "      <td>0.03</td>\n",
              "      <td>0.05</td>\n",
              "      <td>-0.16</td>\n",
              "    </tr>\n",
              "    <tr>\n",
              "      <th>phone</th>\n",
              "      <td>-0.01</td>\n",
              "      <td>-0.02</td>\n",
              "      <td>0.01</td>\n",
              "      <td>0.00</td>\n",
              "      <td>1.00</td>\n",
              "      <td>-0.01</td>\n",
              "      <td>-0.01</td>\n",
              "      <td>-0.01</td>\n",
              "      <td>0.01</td>\n",
              "      <td>-0.01</td>\n",
              "      <td>-0.02</td>\n",
              "      <td>0.01</td>\n",
              "      <td>0.01</td>\n",
              "      <td>-0.00</td>\n",
              "    </tr>\n",
              "    <tr>\n",
              "      <th>contract_period</th>\n",
              "      <td>0.00</td>\n",
              "      <td>0.15</td>\n",
              "      <td>0.31</td>\n",
              "      <td>0.24</td>\n",
              "      <td>-0.01</td>\n",
              "      <td>1.00</td>\n",
              "      <td>0.17</td>\n",
              "      <td>0.14</td>\n",
              "      <td>0.11</td>\n",
              "      <td>0.97</td>\n",
              "      <td>0.17</td>\n",
              "      <td>0.10</td>\n",
              "      <td>0.16</td>\n",
              "      <td>-0.39</td>\n",
              "    </tr>\n",
              "    <tr>\n",
              "      <th>group_visits</th>\n",
              "      <td>0.02</td>\n",
              "      <td>0.15</td>\n",
              "      <td>0.02</td>\n",
              "      <td>0.12</td>\n",
              "      <td>-0.01</td>\n",
              "      <td>0.17</td>\n",
              "      <td>1.00</td>\n",
              "      <td>0.08</td>\n",
              "      <td>0.03</td>\n",
              "      <td>0.16</td>\n",
              "      <td>0.08</td>\n",
              "      <td>0.06</td>\n",
              "      <td>0.08</td>\n",
              "      <td>-0.18</td>\n",
              "    </tr>\n",
              "    <tr>\n",
              "      <th>age</th>\n",
              "      <td>0.01</td>\n",
              "      <td>0.06</td>\n",
              "      <td>0.05</td>\n",
              "      <td>0.05</td>\n",
              "      <td>-0.01</td>\n",
              "      <td>0.14</td>\n",
              "      <td>0.08</td>\n",
              "      <td>1.00</td>\n",
              "      <td>0.08</td>\n",
              "      <td>0.13</td>\n",
              "      <td>0.16</td>\n",
              "      <td>0.12</td>\n",
              "      <td>0.18</td>\n",
              "      <td>-0.40</td>\n",
              "    </tr>\n",
              "    <tr>\n",
              "      <th>avg_additional_charges_total</th>\n",
              "      <td>-0.01</td>\n",
              "      <td>0.04</td>\n",
              "      <td>0.02</td>\n",
              "      <td>0.04</td>\n",
              "      <td>0.01</td>\n",
              "      <td>0.11</td>\n",
              "      <td>0.03</td>\n",
              "      <td>0.08</td>\n",
              "      <td>1.00</td>\n",
              "      <td>0.11</td>\n",
              "      <td>0.08</td>\n",
              "      <td>0.04</td>\n",
              "      <td>0.08</td>\n",
              "      <td>-0.20</td>\n",
              "    </tr>\n",
              "    <tr>\n",
              "      <th>month_to_end_contract</th>\n",
              "      <td>-0.00</td>\n",
              "      <td>0.14</td>\n",
              "      <td>0.29</td>\n",
              "      <td>0.24</td>\n",
              "      <td>-0.01</td>\n",
              "      <td>0.97</td>\n",
              "      <td>0.16</td>\n",
              "      <td>0.13</td>\n",
              "      <td>0.11</td>\n",
              "      <td>1.00</td>\n",
              "      <td>0.16</td>\n",
              "      <td>0.09</td>\n",
              "      <td>0.15</td>\n",
              "      <td>-0.38</td>\n",
              "    </tr>\n",
              "    <tr>\n",
              "      <th>lifetime</th>\n",
              "      <td>0.01</td>\n",
              "      <td>0.07</td>\n",
              "      <td>0.06</td>\n",
              "      <td>0.07</td>\n",
              "      <td>-0.02</td>\n",
              "      <td>0.17</td>\n",
              "      <td>0.08</td>\n",
              "      <td>0.16</td>\n",
              "      <td>0.08</td>\n",
              "      <td>0.16</td>\n",
              "      <td>1.00</td>\n",
              "      <td>0.11</td>\n",
              "      <td>0.18</td>\n",
              "      <td>-0.44</td>\n",
              "    </tr>\n",
              "    <tr>\n",
              "      <th>avg_class_frequency_total</th>\n",
              "      <td>0.01</td>\n",
              "      <td>0.04</td>\n",
              "      <td>0.02</td>\n",
              "      <td>0.03</td>\n",
              "      <td>0.01</td>\n",
              "      <td>0.10</td>\n",
              "      <td>0.06</td>\n",
              "      <td>0.12</td>\n",
              "      <td>0.04</td>\n",
              "      <td>0.09</td>\n",
              "      <td>0.11</td>\n",
              "      <td>1.00</td>\n",
              "      <td>0.95</td>\n",
              "      <td>-0.25</td>\n",
              "    </tr>\n",
              "    <tr>\n",
              "      <th>avg_class_frequency_current_month</th>\n",
              "      <td>0.01</td>\n",
              "      <td>0.06</td>\n",
              "      <td>0.05</td>\n",
              "      <td>0.05</td>\n",
              "      <td>0.01</td>\n",
              "      <td>0.16</td>\n",
              "      <td>0.08</td>\n",
              "      <td>0.18</td>\n",
              "      <td>0.08</td>\n",
              "      <td>0.15</td>\n",
              "      <td>0.18</td>\n",
              "      <td>0.95</td>\n",
              "      <td>1.00</td>\n",
              "      <td>-0.41</td>\n",
              "    </tr>\n",
              "    <tr>\n",
              "      <th>churn</th>\n",
              "      <td>0.00</td>\n",
              "      <td>-0.13</td>\n",
              "      <td>-0.16</td>\n",
              "      <td>-0.16</td>\n",
              "      <td>-0.00</td>\n",
              "      <td>-0.39</td>\n",
              "      <td>-0.18</td>\n",
              "      <td>-0.40</td>\n",
              "      <td>-0.20</td>\n",
              "      <td>-0.38</td>\n",
              "      <td>-0.44</td>\n",
              "      <td>-0.25</td>\n",
              "      <td>-0.41</td>\n",
              "      <td>1.00</td>\n",
              "    </tr>\n",
              "  </tbody>\n",
              "</table>\n",
              "</div>"
            ],
            "text/plain": [
              "                                   gender  near_location  partner  \\\n",
              "gender                               1.00           0.01    -0.01   \n",
              "near_location                        0.01           1.00    -0.01   \n",
              "partner                             -0.01          -0.01     1.00   \n",
              "promo_friends                       -0.01           0.21     0.45   \n",
              "phone                               -0.01          -0.02     0.01   \n",
              "contract_period                      0.00           0.15     0.31   \n",
              "group_visits                         0.02           0.15     0.02   \n",
              "age                                  0.01           0.06     0.05   \n",
              "avg_additional_charges_total        -0.01           0.04     0.02   \n",
              "month_to_end_contract               -0.00           0.14     0.29   \n",
              "lifetime                             0.01           0.07     0.06   \n",
              "avg_class_frequency_total            0.01           0.04     0.02   \n",
              "avg_class_frequency_current_month    0.01           0.06     0.05   \n",
              "churn                                0.00          -0.13    -0.16   \n",
              "\n",
              "                                   promo_friends  phone  contract_period  \\\n",
              "gender                                     -0.01  -0.01             0.00   \n",
              "near_location                               0.21  -0.02             0.15   \n",
              "partner                                     0.45   0.01             0.31   \n",
              "promo_friends                               1.00   0.00             0.24   \n",
              "phone                                       0.00   1.00            -0.01   \n",
              "contract_period                             0.24  -0.01             1.00   \n",
              "group_visits                                0.12  -0.01             0.17   \n",
              "age                                         0.05  -0.01             0.14   \n",
              "avg_additional_charges_total                0.04   0.01             0.11   \n",
              "month_to_end_contract                       0.24  -0.01             0.97   \n",
              "lifetime                                    0.07  -0.02             0.17   \n",
              "avg_class_frequency_total                   0.03   0.01             0.10   \n",
              "avg_class_frequency_current_month           0.05   0.01             0.16   \n",
              "churn                                      -0.16  -0.00            -0.39   \n",
              "\n",
              "                                   group_visits   age  \\\n",
              "gender                                     0.02  0.01   \n",
              "near_location                              0.15  0.06   \n",
              "partner                                    0.02  0.05   \n",
              "promo_friends                              0.12  0.05   \n",
              "phone                                     -0.01 -0.01   \n",
              "contract_period                            0.17  0.14   \n",
              "group_visits                               1.00  0.08   \n",
              "age                                        0.08  1.00   \n",
              "avg_additional_charges_total               0.03  0.08   \n",
              "month_to_end_contract                      0.16  0.13   \n",
              "lifetime                                   0.08  0.16   \n",
              "avg_class_frequency_total                  0.06  0.12   \n",
              "avg_class_frequency_current_month          0.08  0.18   \n",
              "churn                                     -0.18 -0.40   \n",
              "\n",
              "                                   avg_additional_charges_total  \\\n",
              "gender                                                    -0.01   \n",
              "near_location                                              0.04   \n",
              "partner                                                    0.02   \n",
              "promo_friends                                              0.04   \n",
              "phone                                                      0.01   \n",
              "contract_period                                            0.11   \n",
              "group_visits                                               0.03   \n",
              "age                                                        0.08   \n",
              "avg_additional_charges_total                               1.00   \n",
              "month_to_end_contract                                      0.11   \n",
              "lifetime                                                   0.08   \n",
              "avg_class_frequency_total                                  0.04   \n",
              "avg_class_frequency_current_month                          0.08   \n",
              "churn                                                     -0.20   \n",
              "\n",
              "                                   month_to_end_contract  lifetime  \\\n",
              "gender                                             -0.00      0.01   \n",
              "near_location                                       0.14      0.07   \n",
              "partner                                             0.29      0.06   \n",
              "promo_friends                                       0.24      0.07   \n",
              "phone                                              -0.01     -0.02   \n",
              "contract_period                                     0.97      0.17   \n",
              "group_visits                                        0.16      0.08   \n",
              "age                                                 0.13      0.16   \n",
              "avg_additional_charges_total                        0.11      0.08   \n",
              "month_to_end_contract                               1.00      0.16   \n",
              "lifetime                                            0.16      1.00   \n",
              "avg_class_frequency_total                           0.09      0.11   \n",
              "avg_class_frequency_current_month                   0.15      0.18   \n",
              "churn                                              -0.38     -0.44   \n",
              "\n",
              "                                   avg_class_frequency_total  \\\n",
              "gender                                                  0.01   \n",
              "near_location                                           0.04   \n",
              "partner                                                 0.02   \n",
              "promo_friends                                           0.03   \n",
              "phone                                                   0.01   \n",
              "contract_period                                         0.10   \n",
              "group_visits                                            0.06   \n",
              "age                                                     0.12   \n",
              "avg_additional_charges_total                            0.04   \n",
              "month_to_end_contract                                   0.09   \n",
              "lifetime                                                0.11   \n",
              "avg_class_frequency_total                               1.00   \n",
              "avg_class_frequency_current_month                       0.95   \n",
              "churn                                                  -0.25   \n",
              "\n",
              "                                   avg_class_frequency_current_month  churn  \n",
              "gender                                                          0.01   0.00  \n",
              "near_location                                                   0.06  -0.13  \n",
              "partner                                                         0.05  -0.16  \n",
              "promo_friends                                                   0.05  -0.16  \n",
              "phone                                                           0.01  -0.00  \n",
              "contract_period                                                 0.16  -0.39  \n",
              "group_visits                                                    0.08  -0.18  \n",
              "age                                                             0.18  -0.40  \n",
              "avg_additional_charges_total                                    0.08  -0.20  \n",
              "month_to_end_contract                                           0.15  -0.38  \n",
              "lifetime                                                        0.18  -0.44  \n",
              "avg_class_frequency_total                                       0.95  -0.25  \n",
              "avg_class_frequency_current_month                               1.00  -0.41  \n",
              "churn                                                          -0.41   1.00  "
            ]
          },
          "execution_count": 19,
          "metadata": {},
          "output_type": "execute_result"
        }
      ],
      "source": [
        "data.corr()"
      ]
    },
    {
      "cell_type": "code",
      "execution_count": null,
      "metadata": {
        "id": "IzcI7OnLfNCd",
        "outputId": "140ceee2-6465-4ea3-9b0f-a1f0edbf9060"
      },
      "outputs": [
        {
          "data": {
            "image/png": "[encoded data removed]",
            "text/plain": [
              "<Figure size 864x864 with 2 Axes>"
            ]
          },
          "metadata": {},
          "output_type": "display_data"
        }
      ],
      "source": [
        "fig, ax = plt.subplots(figsize=(12, 12))\n",
        "sns.heatmap(data.corr(), fmt='.2f', annot=True, square=True)\n",
        "plt.show()"
      ]
    },
    {
      "cell_type": "markdown",
      "metadata": {
        "id": "8LjGm4bifNCe"
      },
      "source": [
        "**Промежуточный вывод**\n",
        "1. Сильно скоррелированы между собой:\n",
        " 1. Средняя частота посещений в неделю за все время с начала действия абонемента и средняя частота посещений в неделю за предыдущий месяц, что логично, если в последнем месяце в жизни клиента или клуба не было каких то значительных изменений.\n",
        " 2. Срок действия абонемента и остаток по сроку действия абонемента.\n",
        "2. По сути в модели присутствует мультиколлинеарность, необходимо её устранить. Вручную удалим следующие признаки:\n",
        " 1. Средняя частота посещений в неделю за предыдущий месяц\n",
        " 2. Срок действия абонемента"
      ]
    },
    {
      "cell_type": "code",
      "execution_count": null,
      "metadata": {
        "id": "mh5I0I73fNCe"
      },
      "outputs": [],
      "source": [
        "data = data.drop(['avg_class_frequency_current_month', 'contract_period'], axis=1)"
      ]
    },
    {
      "cell_type": "markdown",
      "metadata": {
        "id": "5cWNPPypfNCe"
      },
      "source": [
        "[к оглавлению](#table_of_content)"
      ]
    },
    {
      "cell_type": "markdown",
      "metadata": {
        "id": "NymWZnUDfNCf"
      },
      "source": [
        "<a id=\"chapter_4\"></a>\n",
        "## Модель прогнозирования оттока клиентов"
      ]
    },
    {
      "cell_type": "code",
      "execution_count": null,
      "metadata": {
        "id": "9jPiJHf0fNCf"
      },
      "outputs": [],
      "source": [
        "# выполним разделение на признаки и целевые значения\n",
        "X = data.drop('churn', axis=1)\n",
        "y = data['churn']\n",
        "# выполним разбивку на тренировочную и тестовую выборки\n",
        "X_train, X_test, y_train, y_test =  train_test_split(X,\n",
        "                                                     y,\n",
        "                                                     test_size=0.3,\n",
        "                                                     random_state=0,\n",
        "                                                     stratify=y,)"
      ]
    },
    {
      "cell_type": "code",
      "execution_count": null,
      "metadata": {
        "id": "ZLp16CEefNCf"
      },
      "outputs": [],
      "source": [
        "def predictor(model, X_trn, X_tst, y_trn, y_tst):\n",
        "    model.fit(X_trn, y_trn)\n",
        "    y_pred = model.predict(X_tst)\n",
        "    y_probas = model.predict_proba(X_tst)[:,1]\n",
        "    # баланс классов\n",
        "    print(f'Accuracy: {accuracy_score(y_tst, y_pred):.2f}')\n",
        "    print(f'Precision: {precision_score(y_tst, y_pred):.2f}')\n",
        "    print(f'Recall: {recall_score(y_tst, y_pred):.2f}')\n",
        "    print(f'ROC AUC: {roc_auc_score(y_tst, y_probas):.2f}')"
      ]
    },
    {
      "cell_type": "code",
      "execution_count": null,
      "metadata": {
        "id": "cmBQdflBfNCg",
        "outputId": "b3bbfa91-8978-4739-eb27-10507595f2d9"
      },
      "outputs": [
        {
          "name": "stdout",
          "output_type": "stream",
          "text": [
            "Метрики для модели, основанной на логистической регрессии:\n",
            "Accuracy: 0.89\n",
            "Precision: 0.79\n",
            "Recall: 0.77\n",
            "ROC AUC: 0.95\n"
          ]
        }
      ],
      "source": [
        "lr_model = LogisticRegression(solver='liblinear',\n",
        "                              random_state=0)\n",
        "print(\"Метрики для модели, основанной на логистической регрессии:\")\n",
        "predictor(lr_model,\n",
        "          X_train,\n",
        "          X_test,\n",
        "          y_train,\n",
        "          y_test,)"
      ]
    },
    {
      "cell_type": "code",
      "execution_count": null,
      "metadata": {
        "scrolled": false,
        "id": "vmvnkv7AfNCg",
        "outputId": "86441f9d-b23a-41e5-f44d-56c4da3c2743"
      },
      "outputs": [
        {
          "name": "stdout",
          "output_type": "stream",
          "text": [
            "gender: 0.102\n",
            "near_location: 0.042\n",
            "partner: -0.017\n",
            "promo_friends: -0.274\n",
            "phone: 0.076\n",
            "group_visits: -0.670\n",
            "age: -0.211\n",
            "avg_additional_charges_total: -0.005\n",
            "month_to_end_contract: -0.301\n",
            "lifetime: -0.940\n",
            "avg_class_frequency_total: -0.574\n"
          ]
        }
      ],
      "source": [
        "for _ in range(len(X.columns)):\n",
        "    print(f'{X.columns[_]}: {lr_model.coef_[0][_]:.3f}')"
      ]
    },
    {
      "cell_type": "code",
      "execution_count": null,
      "metadata": {
        "scrolled": true,
        "id": "HbYuuBqufNCg",
        "outputId": "a70ed46d-9033-491e-ceb1-de3673235208"
      },
      "outputs": [
        {
          "name": "stdout",
          "output_type": "stream",
          "text": [
            "Метрики для модели, на основе случайного леса:\n",
            "Accuracy: 0.87\n",
            "Precision: 0.78\n",
            "Recall: 0.73\n",
            "ROC AUC: 0.94\n"
          ]
        }
      ],
      "source": [
        "rf_model = RandomForestClassifier(n_estimators=100,\n",
        "                                  random_state=0)\n",
        "print(\"Метрики для модели, на основе случайного леса:\")\n",
        "predictor(rf_model,\n",
        "          X_train,\n",
        "          X_test,\n",
        "          y_train,\n",
        "          y_test,)"
      ]
    },
    {
      "cell_type": "markdown",
      "metadata": {
        "id": "nE-_8KZrfNCh"
      },
      "source": [
        "**Промежуточный вывод**\n",
        "\n",
        "1. Модели показали сопоставимые метрики\n",
        "2. Метрика accuracy не является репрезентативной из-за отсутствия баланса классов\n",
        "3. Метрика precision показывает более высокое значение для модели Случайного леса, в свою очередь метрика recall лучше для модели логистической регрессии.\n",
        "4. Для нас важно не упускать клиентов, поэтому примем за более значимую метрику recall, и модель логистической регрессии с задачей справляется лучше.\n",
        "5. Наибольшие веса в модели, основанной на логистической регрессии, имеют признаки:\n",
        " 1. Продолжительность посещения фитнес-клуба\n",
        " 2. Посещение групповых программ\n",
        " 3. Средняя частота посещения фитнес-клуба\n",
        " 4. Срок до окончания действия абонемента\n",
        " 5. Участие по реферальной программе\n",
        " 6. Возраст клиента"
      ]
    },
    {
      "cell_type": "markdown",
      "metadata": {
        "id": "__Ub6m-dfNCh"
      },
      "source": [
        "[к оглавлению](#table_of_content)"
      ]
    },
    {
      "cell_type": "code",
      "execution_count": null,
      "metadata": {
        "id": "iJFCxTNhfNCh"
      },
      "outputs": [],
      "source": [
        "def custom_predictor(model, X_trn, X_tst, y_trn, y_tst, threshold):\n",
        "    model.fit(X_trn, y_trn)\n",
        "    y_pred = model.predict(X_tst)\n",
        "    y_probas = model.predict_proba(X_tst)[:,1]\n",
        "    custom_y_pred = [0 if i < threshold else 1 for i in y_probas]\n",
        "    # баланс классов\n",
        "    print(f'Accuracy: {accuracy_score(y_tst, custom_y_pred):.2f}')\n",
        "    print(f'Precision: {precision_score(y_tst, custom_y_pred):.2f}')\n",
        "    print(f'Recall: {recall_score(y_tst, custom_y_pred):.2f}')\n",
        "    print(f'ROC AUC: {roc_auc_score(y_tst, y_probas):.2f}')"
      ]
    },
    {
      "cell_type": "code",
      "execution_count": null,
      "metadata": {
        "scrolled": true,
        "id": "JGwK8PwMfNCh",
        "outputId": "1c8309cd-212b-4fdb-83bd-539d07cd5801"
      },
      "outputs": [
        {
          "name": "stdout",
          "output_type": "stream",
          "text": [
            "Метрики для модели, основанной на логистической регрессии:\n",
            "Accuracy: 0.88\n",
            "Precision: 0.71\n",
            "Recall: 0.91\n",
            "ROC AUC: 0.95\n"
          ]
        }
      ],
      "source": [
        "lr_model = LogisticRegression(solver='liblinear',\n",
        "                              random_state=0)\n",
        "print(\"Метрики для модели, основанной на логистической регрессии:\")\n",
        "custom_predictor(lr_model,\n",
        "                 X_train,\n",
        "                 X_test,\n",
        "                 y_train,\n",
        "                 y_test,\n",
        "                 0.3,)"
      ]
    },
    {
      "cell_type": "code",
      "execution_count": null,
      "metadata": {
        "scrolled": true,
        "id": "hwIos-LHfNCi",
        "outputId": "1f47b150-f349-4247-9939-f3457fd0c22d"
      },
      "outputs": [
        {
          "name": "stdout",
          "output_type": "stream",
          "text": [
            "Метрики для модели, на основе случайного леса:\n",
            "Accuracy: 0.88\n",
            "Precision: 0.72\n",
            "Recall: 0.89\n",
            "ROC AUC: 0.94\n"
          ]
        }
      ],
      "source": [
        "rf_model = RandomForestClassifier(n_estimators=100,\n",
        "                                  random_state=0)\n",
        "print(\"Метрики для модели, на основе случайного леса:\")\n",
        "custom_predictor(rf_model,\n",
        "                 X_train,\n",
        "                 X_test,\n",
        "                 y_train,\n",
        "                 y_test,\n",
        "                 0.3,)"
      ]
    },
    {
      "cell_type": "markdown",
      "metadata": {
        "id": "lJHEZRjUfNCi"
      },
      "source": [
        "**Промежуточный вывод**\n",
        "\n",
        "Попытка учесть несбалансированность выборки путём установки кастомного порога позволила повысить метрику recall до 0.91 за счёт ухудшения метрики precision. В нашем случае главное не упустить клиента, поэтому ориентируемся на метрику recall."
      ]
    },
    {
      "cell_type": "code",
      "execution_count": null,
      "metadata": {
        "id": "7NQ40AAufNCj"
      },
      "outputs": [],
      "source": [
        "# стандартизация данных\n",
        "scaler = StandardScaler()\n",
        "X_train_st = scaler.fit_transform(X_train)"
      ]
    },
    {
      "cell_type": "code",
      "execution_count": null,
      "metadata": {
        "id": "uRoDucoCfNCj"
      },
      "outputs": [],
      "source": [
        "X_test_st=scaler.transform(X_test)"
      ]
    },
    {
      "cell_type": "code",
      "execution_count": null,
      "metadata": {
        "scrolled": true,
        "id": "hNUvniJWfNCj",
        "outputId": "7658182c-6e81-401a-fe3b-5f2fff699f37"
      },
      "outputs": [
        {
          "name": "stdout",
          "output_type": "stream",
          "text": [
            "Метрики для модели, основанной на логистической регрессии:\n",
            "Accuracy: 0.88\n",
            "Precision: 0.72\n",
            "Recall: 0.89\n",
            "ROC AUC: 0.95\n"
          ]
        }
      ],
      "source": [
        "lr_model = LogisticRegression(solver='liblinear',\n",
        "                              random_state=0)\n",
        "print(\"Метрики для модели, основанной на логистической регрессии:\")\n",
        "custom_predictor(lr_model,\n",
        "          X_train_st,\n",
        "          X_test_st,\n",
        "          y_train,\n",
        "          y_test,\n",
        "          0.3,)"
      ]
    },
    {
      "cell_type": "code",
      "execution_count": null,
      "metadata": {
        "scrolled": false,
        "id": "tgTi8EAvfNCj",
        "outputId": "4f8ace37-ab2a-4803-b184-2eaa74c7cacc"
      },
      "outputs": [
        {
          "name": "stdout",
          "output_type": "stream",
          "text": [
            "gender: 0.019\n",
            "near_location: -0.079\n",
            "partner: -0.079\n",
            "promo_friends: -0.121\n",
            "phone: -0.133\n",
            "group_visits: -0.383\n",
            "age: -1.207\n",
            "avg_additional_charges_total: -0.580\n",
            "month_to_end_contract: -1.353\n",
            "lifetime: -3.739\n",
            "avg_class_frequency_total: -0.691\n"
          ]
        }
      ],
      "source": [
        "for _ in range(len(X.columns)):\n",
        "    print(f'{X.columns[_]}: {lr_model.coef_[0][_]:.3f}')"
      ]
    },
    {
      "cell_type": "code",
      "execution_count": null,
      "metadata": {
        "scrolled": true,
        "id": "BLo1AxKMfNCk",
        "outputId": "00dc4c89-fab8-441c-cb61-7063604f2412"
      },
      "outputs": [
        {
          "name": "stdout",
          "output_type": "stream",
          "text": [
            "Метрики для модели, на основе случайного леса:\n",
            "Accuracy: 0.88\n",
            "Precision: 0.73\n",
            "Recall: 0.88\n",
            "ROC AUC: 0.94\n"
          ]
        }
      ],
      "source": [
        "rf_model = RandomForestClassifier(n_estimators=100,\n",
        "                                  random_state=0)\n",
        "print(\"Метрики для модели, на основе случайного леса:\")\n",
        "custom_predictor(rf_model,\n",
        "                 X_train_st,\n",
        "                 X_test_st,\n",
        "                 y_train,\n",
        "                 y_test,\n",
        "                 0.3,)"
      ]
    },
    {
      "cell_type": "markdown",
      "metadata": {
        "id": "NJ9BccsAfNCk"
      },
      "source": [
        "**Дополнительные выводы**\n",
        "1. Стандартизация не оказала значительного влияния на эффективность моделей. Модель логистической регрессии показывает большую точность для заданных условий.\n",
        "2. Изменились веса признаков, после стандартизации самыми значимыми признаками являются:\n",
        "    1. Общее время посещения фитнес-клуба\n",
        "    2. Срок до окончания действия абонемента\n",
        "    3. Возраст клиента\n",
        "    4. Средняя частота посещения клуба\n",
        "    5. Объём приобретаемых дополнительных услуг\n",
        "    6. Посещение групповых программ"
      ]
    },
    {
      "cell_type": "markdown",
      "metadata": {
        "id": "Nk4ahkM7fNCk"
      },
      "source": [
        "<a id=\"chapter_5\"></a>\n",
        "## Кластеризация клиентов"
      ]
    },
    {
      "cell_type": "code",
      "execution_count": null,
      "metadata": {
        "id": "c5OQfEfsfNCk"
      },
      "outputs": [],
      "source": [
        "# стандартизация данных\n",
        "scaler = StandardScaler()\n",
        "X_st = scaler.fit_transform(X)"
      ]
    },
    {
      "cell_type": "code",
      "execution_count": null,
      "metadata": {
        "id": "zxfhgEClfNCl"
      },
      "outputs": [],
      "source": [
        "linked = linkage(X_st, method = 'ward')"
      ]
    },
    {
      "cell_type": "code",
      "execution_count": null,
      "metadata": {
        "id": "WU0uqyOnfNCl",
        "outputId": "6080d1dc-2487-41b4-8ca9-b426186785ea"
      },
      "outputs": [
        {
          "data": {
            "image/png": "[encoded data removed]",
            "text/plain": [
              "<Figure size 1080x720 with 1 Axes>"
            ]
          },
          "metadata": {},
          "output_type": "display_data"
        }
      ],
      "source": [
        "plt.figure(figsize=(15, 10))\n",
        "dendrogram(linked, orientation='top')\n",
        "plt.title('Иерархическая кластеризация')\n",
        "plt.show()"
      ]
    },
    {
      "cell_type": "markdown",
      "metadata": {
        "id": "iUhuOEzKfNCl"
      },
      "source": [
        "**Промежуточный вывод**\n",
        "\n",
        "По результатам кластеризации можно выделить от 4 до 7 кластеров. В рамках дальнейшего исследования примем 5 клатеров."
      ]
    },
    {
      "cell_type": "code",
      "execution_count": null,
      "metadata": {
        "id": "wTpt5sCtfNCl"
      },
      "outputs": [],
      "source": [
        "km = KMeans(n_clusters = 5, random_state=0)\n",
        "labels = km.fit_predict(X_st)"
      ]
    },
    {
      "cell_type": "code",
      "execution_count": null,
      "metadata": {
        "id": "lAz_7bjLfNCm",
        "outputId": "c2ee609a-d15f-4405-9dab-a81dcfabaf09"
      },
      "outputs": [
        {
          "data": {
            "text/plain": [
              "0    1001\n",
              "1     557\n",
              "2     898\n",
              "3    1158\n",
              "4     386\n",
              "Name: age, dtype: int64"
            ]
          },
          "execution_count": 39,
          "metadata": {},
          "output_type": "execute_result"
        }
      ],
      "source": [
        "data.groupby(labels)['age'].count()"
      ]
    },
    {
      "cell_type": "code",
      "execution_count": null,
      "metadata": {
        "id": "w-IaT3fdfNCm",
        "outputId": "e91a5de6-8202-4405-d131-42454b9e5bbe"
      },
      "outputs": [
        {
          "data": {
            "text/html": [
              "<div>\n",
              "<style scoped>\n",
              "    .dataframe tbody tr th:only-of-type {\n",
              "        vertical-align: middle;\n",
              "    }\n",
              "\n",
              "    .dataframe tbody tr th {\n",
              "        vertical-align: top;\n",
              "    }\n",
              "\n",
              "    .dataframe thead th {\n",
              "        text-align: right;\n",
              "    }\n",
              "</style>\n",
              "<table border=\"1\" class=\"dataframe\">\n",
              "  <thead>\n",
              "    <tr style=\"text-align: right;\">\n",
              "      <th></th>\n",
              "      <th>0</th>\n",
              "      <th>1</th>\n",
              "      <th>2</th>\n",
              "      <th>3</th>\n",
              "      <th>4</th>\n",
              "    </tr>\n",
              "  </thead>\n",
              "  <tbody>\n",
              "    <tr>\n",
              "      <th>gender</th>\n",
              "      <td>0.50</td>\n",
              "      <td>0.50</td>\n",
              "      <td>0.52</td>\n",
              "      <td>0.51</td>\n",
              "      <td>0.52</td>\n",
              "    </tr>\n",
              "    <tr>\n",
              "      <th>near_location</th>\n",
              "      <td>1.00</td>\n",
              "      <td>0.00</td>\n",
              "      <td>1.00</td>\n",
              "      <td>1.00</td>\n",
              "      <td>0.86</td>\n",
              "    </tr>\n",
              "    <tr>\n",
              "      <th>partner</th>\n",
              "      <td>0.89</td>\n",
              "      <td>0.49</td>\n",
              "      <td>0.42</td>\n",
              "      <td>0.20</td>\n",
              "      <td>0.47</td>\n",
              "    </tr>\n",
              "    <tr>\n",
              "      <th>promo_friends</th>\n",
              "      <td>1.00</td>\n",
              "      <td>0.08</td>\n",
              "      <td>0.01</td>\n",
              "      <td>0.05</td>\n",
              "      <td>0.31</td>\n",
              "    </tr>\n",
              "    <tr>\n",
              "      <th>phone</th>\n",
              "      <td>1.00</td>\n",
              "      <td>1.00</td>\n",
              "      <td>1.00</td>\n",
              "      <td>1.00</td>\n",
              "      <td>0.00</td>\n",
              "    </tr>\n",
              "    <tr>\n",
              "      <th>group_visits</th>\n",
              "      <td>0.52</td>\n",
              "      <td>0.23</td>\n",
              "      <td>0.55</td>\n",
              "      <td>0.30</td>\n",
              "      <td>0.43</td>\n",
              "    </tr>\n",
              "    <tr>\n",
              "      <th>age</th>\n",
              "      <td>29.54</td>\n",
              "      <td>28.69</td>\n",
              "      <td>30.81</td>\n",
              "      <td>27.82</td>\n",
              "      <td>29.30</td>\n",
              "    </tr>\n",
              "    <tr>\n",
              "      <th>avg_additional_charges_total</th>\n",
              "      <td>152.14</td>\n",
              "      <td>137.28</td>\n",
              "      <td>177.10</td>\n",
              "      <td>124.63</td>\n",
              "      <td>144.21</td>\n",
              "    </tr>\n",
              "    <tr>\n",
              "      <th>month_to_end_contract</th>\n",
              "      <td>6.27</td>\n",
              "      <td>2.80</td>\n",
              "      <td>6.16</td>\n",
              "      <td>1.90</td>\n",
              "      <td>4.47</td>\n",
              "    </tr>\n",
              "    <tr>\n",
              "      <th>lifetime</th>\n",
              "      <td>4.21</td>\n",
              "      <td>2.98</td>\n",
              "      <td>5.70</td>\n",
              "      <td>2.06</td>\n",
              "      <td>3.94</td>\n",
              "    </tr>\n",
              "    <tr>\n",
              "      <th>avg_class_frequency_total</th>\n",
              "      <td>1.95</td>\n",
              "      <td>1.76</td>\n",
              "      <td>2.32</td>\n",
              "      <td>1.54</td>\n",
              "      <td>1.85</td>\n",
              "    </tr>\n",
              "    <tr>\n",
              "      <th>churn</th>\n",
              "      <td>0.13</td>\n",
              "      <td>0.40</td>\n",
              "      <td>0.02</td>\n",
              "      <td>0.51</td>\n",
              "      <td>0.27</td>\n",
              "    </tr>\n",
              "  </tbody>\n",
              "</table>\n",
              "</div>"
            ],
            "text/plain": [
              "                                  0      1      2      3      4\n",
              "gender                         0.50   0.50   0.52   0.51   0.52\n",
              "near_location                  1.00   0.00   1.00   1.00   0.86\n",
              "partner                        0.89   0.49   0.42   0.20   0.47\n",
              "promo_friends                  1.00   0.08   0.01   0.05   0.31\n",
              "phone                          1.00   1.00   1.00   1.00   0.00\n",
              "group_visits                   0.52   0.23   0.55   0.30   0.43\n",
              "age                           29.54  28.69  30.81  27.82  29.30\n",
              "avg_additional_charges_total 152.14 137.28 177.10 124.63 144.21\n",
              "month_to_end_contract          6.27   2.80   6.16   1.90   4.47\n",
              "lifetime                       4.21   2.98   5.70   2.06   3.94\n",
              "avg_class_frequency_total      1.95   1.76   2.32   1.54   1.85\n",
              "churn                          0.13   0.40   0.02   0.51   0.27"
            ]
          },
          "execution_count": 40,
          "metadata": {},
          "output_type": "execute_result"
        }
      ],
      "source": [
        "data.groupby(labels).mean().T"
      ]
    },
    {
      "cell_type": "markdown",
      "metadata": {
        "id": "4dnKdaeofNCm"
      },
      "source": [
        "**Промежуточные выводы**\n",
        "1. Группами с наименьшим оттоком являются 0 и 2.\n",
        "2. Наихудшие по оттоку группы 1 и 3 и 4."
      ]
    },
    {
      "cell_type": "code",
      "execution_count": null,
      "metadata": {
        "id": "J-q_cJdtfNCm"
      },
      "outputs": [],
      "source": [
        "data['label'] = labels"
      ]
    },
    {
      "cell_type": "code",
      "execution_count": null,
      "metadata": {
        "id": "3Cy0TZQ5fNCm"
      },
      "outputs": [],
      "source": [
        "# функция для вывода графиков по бинарным значениям\n",
        "def binary_figure(dt, gr_cols):  # принимает на вход DataFrame и словарь \"имя столбца\"-\"наименование оси х\"\n",
        "    for col_name, x_label in gr_cols.items():\n",
        "        ax = sns.catplot(data=dt.groupby('label', as_index=False)[col_name].mean(),\n",
        "                    kind='bar',\n",
        "                    x='label',\n",
        "                    y=col_name,\n",
        "                    height=6,\n",
        "                    aspect= 1,)\n",
        "        ax.set_axis_labels('Группы клиентов', x_label)\n",
        "        plt.show()"
      ]
    },
    {
      "cell_type": "code",
      "execution_count": null,
      "metadata": {
        "scrolled": true,
        "id": "AA11A1HcfNCm",
        "outputId": "40831dc8-735d-4376-9774-277dcb5abd43"
      },
      "outputs": [
        {
          "data": {
            "image/png": "[encoded data removed]",
            "text/plain": [
              "<Figure size 432x432 with 1 Axes>"
            ]
          },
          "metadata": {},
          "output_type": "display_data"
        },
        {
          "data": {
            "image/png": "[encoded data removed]",
            "text/plain": [
              "<Figure size 432x432 with 1 Axes>"
            ]
          },
          "metadata": {},
          "output_type": "display_data"
        },
        {
          "data": {
            "image/png": "[encoded data removed]",
            "text/plain": [
              "<Figure size 432x432 with 1 Axes>"
            ]
          },
          "metadata": {},
          "output_type": "display_data"
        },
        {
          "data": {
            "image/png": "[encoded data removed]",
            "text/plain": [
              "<Figure size 432x432 with 1 Axes>"
            ]
          },
          "metadata": {},
          "output_type": "display_data"
        },
        {
          "data": {
            "image/png": "[encoded data removed]",
            "text/plain": [
              "<Figure size 432x432 with 1 Axes>"
            ]
          },
          "metadata": {},
          "output_type": "display_data"
        },
        {
          "data": {
            "image/png": "[encoded data removed]",
            "text/plain": [
              "<Figure size 432x432 with 1 Axes>"
            ]
          },
          "metadata": {},
          "output_type": "display_data"
        }
      ],
      "source": [
        "binary_figure(data,\n",
        "              {'gender': 'Пол',\n",
        "               'near_location': 'Работа/проживание в районе фитнес-клуба',\n",
        "               'partner': 'Клиент от организации-партнёра',\n",
        "               'phone': 'Наличие контактного телефона',\n",
        "               'promo_friends': 'Использование реферальной программы',\n",
        "               'group_visits': 'Посещение групповых программ',})"
      ]
    },
    {
      "cell_type": "markdown",
      "metadata": {
        "id": "tf_yN6uCfNCm"
      },
      "source": [
        "**Промежуточные выводы**\n",
        "1. Распределение по полу никак не влияет на выбор групп.\n",
        "2. Группа 1 практически полностью охватывает клиентов, проживающих/работающих не в районе фитнес-клуба.\n",
        "3. Большая часть группы 0 представляют собой клиентов от организации-партнёра, при этом данный признак также представлен во всех группах.\n",
        "4. Группа 4 представляет собой клиентов, не оставивших контактный телефон.\n",
        "5. Группа 0 объединяет большинство клиентов, воспользовавшихся реферальной программой.\n",
        "6. Признак посещение групповых программ присутствует во всех группах, хотя наиболее представлен в группах 0 и 2."
      ]
    },
    {
      "cell_type": "code",
      "execution_count": null,
      "metadata": {
        "scrolled": false,
        "id": "5mMuE2zvfNCm",
        "outputId": "1bebb446-e26c-4a9b-828e-71c6a3116461"
      },
      "outputs": [
        {
          "data": {
            "image/png": "[encoded data removed]",
            "text/plain": [
              "<Figure size 648x432 with 1 Axes>"
            ]
          },
          "metadata": {},
          "output_type": "display_data"
        }
      ],
      "source": [
        "ax = sns.catplot(data=data,\n",
        "                 kind='box',\n",
        "                 x='label',\n",
        "                 y='age',\n",
        "                 height=6,\n",
        "                 aspect= 1.5)          \n",
        "ax.set_axis_labels('Номер группы', 'Распределение по возрасту')\n",
        "plt.show()"
      ]
    },
    {
      "cell_type": "markdown",
      "metadata": {
        "id": "8yDEtS25fNCn"
      },
      "source": [
        "**Промежуточные выводы**\n",
        "\n",
        "Группы 1, 4 и особенно 3 представлены наиболее молодыми клиентами, по сравнению с группами 0 и 2."
      ]
    },
    {
      "cell_type": "code",
      "execution_count": null,
      "metadata": {
        "scrolled": false,
        "id": "-UsWqck6fNCn",
        "outputId": "462718f1-a8ed-4579-e20d-07fef845e89b"
      },
      "outputs": [
        {
          "data": {
            "image/png": "[encoded data removed]",
            "text/plain": [
              "<Figure size 648x432 with 1 Axes>"
            ]
          },
          "metadata": {},
          "output_type": "display_data"
        }
      ],
      "source": [
        "ax = sns.catplot(data=data,\n",
        "                 kind='box',\n",
        "                 x='label',\n",
        "                 y='lifetime',\n",
        "                 height=6,\n",
        "                 aspect= 1.5)          \n",
        "ax.set_axis_labels('Номер группы', 'Распределение по общему времени посещения клуба')\n",
        "plt.show()"
      ]
    },
    {
      "cell_type": "markdown",
      "metadata": {
        "id": "OV_ygQ0UfNCn"
      },
      "source": [
        "**Промежуточные выводы**\n",
        "\n",
        "1. Группа 2 выделяется по наибольшему среднему времени посещения клуба.\n",
        "2. Группа 3 отличается наименьшим средним временем посещения клуба."
      ]
    },
    {
      "cell_type": "code",
      "execution_count": null,
      "metadata": {
        "scrolled": false,
        "id": "-QkL6J3IfNCn",
        "outputId": "f88ef80b-cc39-4614-8b05-34cdbb5783a3"
      },
      "outputs": [
        {
          "data": {
            "image/png": "[encoded data removed]",
            "text/plain": [
              "<Figure size 648x432 with 1 Axes>"
            ]
          },
          "metadata": {},
          "output_type": "display_data"
        }
      ],
      "source": [
        "ax = sns.catplot(data=data,\n",
        "                 kind='box',\n",
        "                 x='label',\n",
        "                 y='avg_additional_charges_total',\n",
        "                 height=6,\n",
        "                 aspect= 1.5)          \n",
        "ax.set_axis_labels('Номер группы', 'Распределение по объёму приобретённых доп. услуг')\n",
        "plt.show()"
      ]
    },
    {
      "cell_type": "markdown",
      "metadata": {
        "id": "E7ki1bwlfNCn"
      },
      "source": [
        "**Промежуточные выводы**\n",
        "\n",
        "1. Группа 3 выделяется наименьшим объёмом приобретенных допуслуг, хотя явных лидеров в данной категории нет."
      ]
    },
    {
      "cell_type": "code",
      "execution_count": null,
      "metadata": {
        "scrolled": false,
        "id": "ZDpmIOypfNCn",
        "outputId": "b3492328-bbaa-4e8b-aec0-e710b94dcfbc"
      },
      "outputs": [
        {
          "data": {
            "image/png": "[encoded data removed]",
            "text/plain": [
              "<Figure size 648x432 with 1 Axes>"
            ]
          },
          "metadata": {},
          "output_type": "display_data"
        }
      ],
      "source": [
        "ax = sns.catplot(data=data,\n",
        "                 kind='box',\n",
        "                 x='label',\n",
        "                 y='avg_class_frequency_total',\n",
        "                 height=6,\n",
        "                 aspect= 1.5)          \n",
        "ax.set_axis_labels('Номер группы', 'Распределение по частоте посещения')\n",
        "plt.show()"
      ]
    },
    {
      "cell_type": "markdown",
      "metadata": {
        "id": "D7eRVHmsfNCn"
      },
      "source": [
        "**Промежуточные выводы**\n",
        "\n",
        "1. Группы, склонные к оттоку, состоят из клиентов, которые посещяют зал менее 2 раз в неделю."
      ]
    },
    {
      "cell_type": "markdown",
      "metadata": {
        "id": "A6OucBC7fNCo"
      },
      "source": [
        "[к оглавлению](#table_of_content)"
      ]
    },
    {
      "cell_type": "markdown",
      "metadata": {
        "id": "TpJDf1LHfNCo"
      },
      "source": [
        "<a id=\"chapter_6\"></a>\n",
        "## Выводы"
      ]
    },
    {
      "cell_type": "markdown",
      "metadata": {
        "id": "gUpiGsIUfNCo"
      },
      "source": [
        "В рамках исследования был выполнен анализ данных клиентов фитнес-клуба с целью разработки рекомендаций для снижения оттока.\n",
        "1. При первичном анализе данных было установлено следующее:\n",
        "    1. Отток составляет 27%\n",
        "    2. 84% клиентов живут или работают в районе фитнес-центра.\n",
        "    3. Половины клиентов - представители компаний партнёров.\n",
        "    4. 30% клиентов воспользовались реферальной программой.\n",
        "    5. 90% клиентов оставили контактный телефон.\n",
        "    6. 55% клиентов имеют абонемент на 1 месяц, 24% клиентов владеют абонементом на год, 21% - на полгода.\n",
        "    7. 41% клиентов посещали групповые занятия.\n",
        "    8. Возраст клиентов находится в диапазоне от 18 лет до 41 года, в среднем 29 лет +/- 3 года.\n",
        "\n",
        "\n",
        "2. В рамках анализа была определена как наиболее удачная модель на основе логистической регрессии. Согласно данной модели наиболее значимыми факторами являются:\n",
        "    1. Общее время посещения фитнес-клуба\n",
        "    2. Срок до окончания действия абонемента\n",
        "    3. Возраст клиента\n",
        "    4. Средняя частота посещения клуба\n",
        "    5. Объём приобретаемых дополнительных услуг\n",
        "    6. Посещение групповых программ\n",
        "\n",
        "\n",
        "3. При кластеризации клиентов было выделено 5 групп (от 0 до 4):\n",
        "    1. Ключевое отличие 0 группы с оттоком 13% - участие в реферальных программах\n",
        "    2. Ключевое отличие 1 группы с оттоком 40% - проживание/работа вне района фитнес-клуба\n",
        "    3. Ключевое отличие 2 группы с оттоком 2% - возраст 30+, участие в групповых программах, большое количество тренировок. Скорее всего, это фанаты фитнес-клуба. Они приобретают наибольший объём дополнительных услуг.\n",
        "    4. Ключевое отличие 3 группы с оттоком 51% - люди, пришедшие \"со стороны\" и с малым сроком действия абонемента. Скорее всего, заключают минимальный договор, чтобы разобраться, нравиться им или нет.\n",
        "    5. Ключевое отличие 4 группы с оттоком 27% - отсутствие контактного телефона.\n",
        " \n",
        " \n",
        "4. По результатам исследования можно сделать следующие выводы:\n",
        "    1. Для удержания клиента важную роль играет наличие канала связи (возможно, необходимо периодически напоминать о преимуществах посещения фитнес-клуба, рассказывать о новых услугах и программах). Клиенты, оставившие телефон для контакта меньше подвержены оттоку.\n",
        "    2. Рекомандуется развивать и поддерживать сеть компаний-партнёров и, особенно, продвигать реферальные программы, так как они приносят лояльных клиентов. Можно предположить, что наличие коллег/друзей/компании в зале мотивирует на повторные посещения.\n",
        "    3. Рекомендуется привлекать клиентов к участию в групповых программах, так как они снижают отток клиентов. В наиболее лояльных группах около половины клиентов участвуют в групповых программах.\n",
        "    4. Более лояльными оказываются клиенты возрастной группы от 30 до 41 года.\n",
        "    5. Для людей, проживающих вне района фитнес-клуба, рекомендуется собрать контакты и пригласить их при открытии филиала в их районе.\n",
        "    6. Необходимо \"заботиться\" о лояльных клиентах группы 3 с наименьшим оттоком: программы лояльности и т.п.\n",
        "    7. Рекомендуется для группы 4 провести исследование по причинам оттока.\n"
      ]
    },
    {
      "cell_type": "markdown",
      "metadata": {
        "id": "1j2rikV-fNCo"
      },
      "source": [
        "[к оглавлению](#table_of_content)"
      ]
    }
  ],
  "metadata": {
    "ExecuteTimeLog": [
      {
        "duration": 519,
        "start_time": "2022-04-19T07:01:24.823Z"
      },
      {
        "duration": 44,
        "start_time": "2022-04-19T07:01:47.512Z"
      },
      {
        "duration": 100,
        "start_time": "2022-04-19T07:02:26.141Z"
      },
      {
        "duration": 4,
        "start_time": "2022-04-19T07:02:46.655Z"
      },
      {
        "duration": 4,
        "start_time": "2022-04-19T07:03:00.868Z"
      },
      {
        "duration": 36,
        "start_time": "2022-04-19T07:06:09.438Z"
      },
      {
        "duration": 6,
        "start_time": "2022-04-19T07:11:13.807Z"
      },
      {
        "duration": 40,
        "start_time": "2022-04-19T07:11:17.570Z"
      },
      {
        "duration": 3,
        "start_time": "2022-04-19T07:12:41.718Z"
      },
      {
        "duration": 50,
        "start_time": "2022-04-19T07:12:42.217Z"
      },
      {
        "duration": 9,
        "start_time": "2022-04-19T07:17:14.381Z"
      },
      {
        "duration": 9,
        "start_time": "2022-04-19T07:17:17.484Z"
      },
      {
        "duration": 9,
        "start_time": "2022-04-19T07:17:19.575Z"
      },
      {
        "duration": 59,
        "start_time": "2022-04-19T07:17:25.558Z"
      },
      {
        "duration": 64,
        "start_time": "2022-04-19T07:17:28.198Z"
      },
      {
        "duration": 76,
        "start_time": "2022-04-19T07:17:45.812Z"
      },
      {
        "duration": 10,
        "start_time": "2022-04-19T08:25:24.845Z"
      },
      {
        "duration": 10,
        "start_time": "2022-04-19T08:25:29.374Z"
      },
      {
        "duration": 14,
        "start_time": "2022-04-19T08:31:37.224Z"
      },
      {
        "duration": 106,
        "start_time": "2022-04-19T08:54:26.310Z"
      },
      {
        "duration": 606,
        "start_time": "2022-04-19T09:04:02.609Z"
      },
      {
        "duration": 155,
        "start_time": "2022-04-19T09:07:22.202Z"
      },
      {
        "duration": 183,
        "start_time": "2022-04-19T09:07:34.564Z"
      },
      {
        "duration": 144,
        "start_time": "2022-04-19T09:07:46.283Z"
      },
      {
        "duration": 151,
        "start_time": "2022-04-19T09:07:51.455Z"
      },
      {
        "duration": 196,
        "start_time": "2022-04-19T09:07:56.385Z"
      },
      {
        "duration": 149,
        "start_time": "2022-04-19T09:07:59.533Z"
      },
      {
        "duration": 141,
        "start_time": "2022-04-19T09:08:03.410Z"
      },
      {
        "duration": 214,
        "start_time": "2022-04-19T09:09:00.517Z"
      },
      {
        "duration": 11,
        "start_time": "2022-04-19T09:11:48.547Z"
      },
      {
        "duration": 10,
        "start_time": "2022-04-19T09:22:04.568Z"
      },
      {
        "duration": 17,
        "start_time": "2022-04-19T09:23:02.118Z"
      },
      {
        "duration": 173,
        "start_time": "2022-04-19T09:25:47.469Z"
      },
      {
        "duration": 183,
        "start_time": "2022-04-19T09:26:05.853Z"
      },
      {
        "duration": 185,
        "start_time": "2022-04-19T09:33:55.611Z"
      },
      {
        "duration": 378,
        "start_time": "2022-04-19T09:34:01.963Z"
      },
      {
        "duration": 177,
        "start_time": "2022-04-19T09:34:18.638Z"
      },
      {
        "duration": 183,
        "start_time": "2022-04-19T09:34:21.752Z"
      },
      {
        "duration": 365,
        "start_time": "2022-04-19T09:34:26.167Z"
      },
      {
        "duration": 270,
        "start_time": "2022-04-19T09:34:34.517Z"
      },
      {
        "duration": 191,
        "start_time": "2022-04-19T09:34:36.377Z"
      },
      {
        "duration": 209,
        "start_time": "2022-04-19T09:34:39.985Z"
      },
      {
        "duration": 269,
        "start_time": "2022-04-19T09:34:45.813Z"
      },
      {
        "duration": 261,
        "start_time": "2022-04-19T09:35:11.378Z"
      },
      {
        "duration": 262,
        "start_time": "2022-04-19T09:35:28.592Z"
      },
      {
        "duration": 276,
        "start_time": "2022-04-19T09:35:31.544Z"
      },
      {
        "duration": 216,
        "start_time": "2022-04-19T09:36:05.483Z"
      },
      {
        "duration": 204,
        "start_time": "2022-04-19T09:36:08.000Z"
      },
      {
        "duration": 212,
        "start_time": "2022-04-19T09:36:20.696Z"
      },
      {
        "duration": 199,
        "start_time": "2022-04-19T09:36:23.743Z"
      },
      {
        "duration": 376,
        "start_time": "2022-04-19T09:36:29.329Z"
      },
      {
        "duration": 1847,
        "start_time": "2022-04-19T09:37:38.409Z"
      },
      {
        "duration": 234,
        "start_time": "2022-04-19T09:37:41.750Z"
      },
      {
        "duration": 1086,
        "start_time": "2022-04-19T09:37:58.858Z"
      },
      {
        "duration": 398,
        "start_time": "2022-04-19T09:38:05.238Z"
      },
      {
        "duration": 468,
        "start_time": "2022-04-19T09:38:12.299Z"
      },
      {
        "duration": 615,
        "start_time": "2022-04-19T09:38:22.493Z"
      },
      {
        "duration": 339,
        "start_time": "2022-04-19T09:38:27.286Z"
      },
      {
        "duration": 356,
        "start_time": "2022-04-19T09:41:39.420Z"
      },
      {
        "duration": 109,
        "start_time": "2022-04-19T09:41:53.234Z"
      },
      {
        "duration": 314,
        "start_time": "2022-04-19T09:41:56.451Z"
      },
      {
        "duration": 321,
        "start_time": "2022-04-19T09:42:40.449Z"
      },
      {
        "duration": 435,
        "start_time": "2022-04-19T09:42:46.786Z"
      },
      {
        "duration": 401,
        "start_time": "2022-04-19T09:43:12.723Z"
      },
      {
        "duration": 317,
        "start_time": "2022-04-19T09:43:41.898Z"
      },
      {
        "duration": 480,
        "start_time": "2022-04-19T09:43:49.514Z"
      },
      {
        "duration": 446,
        "start_time": "2022-04-19T09:44:44.765Z"
      },
      {
        "duration": 576,
        "start_time": "2022-04-19T09:44:51.497Z"
      },
      {
        "duration": 483,
        "start_time": "2022-04-19T09:46:13.039Z"
      },
      {
        "duration": 500,
        "start_time": "2022-04-19T09:46:28.166Z"
      },
      {
        "duration": 195,
        "start_time": "2022-04-19T09:46:40.466Z"
      },
      {
        "duration": 204,
        "start_time": "2022-04-19T09:46:51.680Z"
      },
      {
        "duration": 211,
        "start_time": "2022-04-19T09:46:59.813Z"
      },
      {
        "duration": 202,
        "start_time": "2022-04-19T09:47:47.575Z"
      },
      {
        "duration": 631,
        "start_time": "2022-04-19T10:07:28.137Z"
      },
      {
        "duration": 549,
        "start_time": "2022-04-19T10:08:15.840Z"
      },
      {
        "duration": 216,
        "start_time": "2022-04-19T10:14:21.601Z"
      },
      {
        "duration": 21,
        "start_time": "2022-04-19T11:24:59.085Z"
      },
      {
        "duration": 726,
        "start_time": "2022-04-20T05:43:28.254Z"
      },
      {
        "duration": 33,
        "start_time": "2022-04-20T05:43:28.982Z"
      },
      {
        "duration": 43,
        "start_time": "2022-04-20T05:43:29.017Z"
      },
      {
        "duration": 7,
        "start_time": "2022-04-20T05:43:29.061Z"
      },
      {
        "duration": 167,
        "start_time": "2022-04-20T05:43:29.070Z"
      },
      {
        "duration": 106,
        "start_time": "2022-04-20T05:43:29.239Z"
      },
      {
        "duration": 236,
        "start_time": "2022-04-20T05:43:29.346Z"
      },
      {
        "duration": 171,
        "start_time": "2022-04-20T05:43:29.584Z"
      },
      {
        "duration": 117,
        "start_time": "2022-04-20T05:43:29.756Z"
      },
      {
        "duration": 12,
        "start_time": "2022-04-20T05:43:29.874Z"
      },
      {
        "duration": 70,
        "start_time": "2022-04-20T06:04:09.131Z"
      },
      {
        "duration": 13,
        "start_time": "2022-04-20T06:04:15.143Z"
      },
      {
        "duration": 164,
        "start_time": "2022-04-20T06:08:44.507Z"
      },
      {
        "duration": 167,
        "start_time": "2022-04-20T06:08:54.010Z"
      },
      {
        "duration": 187,
        "start_time": "2022-04-20T06:10:08.329Z"
      },
      {
        "duration": 166,
        "start_time": "2022-04-20T06:10:21.701Z"
      },
      {
        "duration": 15,
        "start_time": "2022-04-20T06:10:34.405Z"
      },
      {
        "duration": 7,
        "start_time": "2022-04-20T06:10:49.328Z"
      },
      {
        "duration": 184,
        "start_time": "2022-04-20T06:11:16.859Z"
      },
      {
        "duration": 499,
        "start_time": "2022-04-20T06:17:27.094Z"
      },
      {
        "duration": 141,
        "start_time": "2022-04-20T06:20:26.923Z"
      },
      {
        "duration": 114,
        "start_time": "2022-04-20T06:20:42.959Z"
      },
      {
        "duration": 136,
        "start_time": "2022-04-20T06:20:48.217Z"
      },
      {
        "duration": 138,
        "start_time": "2022-04-20T06:20:58.973Z"
      },
      {
        "duration": 135,
        "start_time": "2022-04-20T06:21:02.705Z"
      },
      {
        "duration": 139,
        "start_time": "2022-04-20T06:22:16.245Z"
      },
      {
        "duration": 199,
        "start_time": "2022-04-20T06:22:40.249Z"
      },
      {
        "duration": 150,
        "start_time": "2022-04-20T06:23:07.046Z"
      },
      {
        "duration": 139,
        "start_time": "2022-04-20T06:23:12.007Z"
      },
      {
        "duration": 159,
        "start_time": "2022-04-20T06:23:24.294Z"
      },
      {
        "duration": 144,
        "start_time": "2022-04-20T06:23:30.237Z"
      },
      {
        "duration": 145,
        "start_time": "2022-04-20T06:23:59.909Z"
      },
      {
        "duration": 152,
        "start_time": "2022-04-20T06:24:29.729Z"
      },
      {
        "duration": 151,
        "start_time": "2022-04-20T06:24:34.943Z"
      },
      {
        "duration": 3,
        "start_time": "2022-04-20T06:25:02.961Z"
      },
      {
        "duration": 156,
        "start_time": "2022-04-20T06:25:08.495Z"
      },
      {
        "duration": 4,
        "start_time": "2022-04-20T06:26:56.104Z"
      },
      {
        "duration": 23,
        "start_time": "2022-04-20T06:26:57.198Z"
      },
      {
        "duration": 43,
        "start_time": "2022-04-20T06:27:05.519Z"
      },
      {
        "duration": 184,
        "start_time": "2022-04-20T06:27:09.832Z"
      },
      {
        "duration": 3,
        "start_time": "2022-04-20T06:27:24.680Z"
      },
      {
        "duration": 23,
        "start_time": "2022-04-20T06:27:26.896Z"
      },
      {
        "duration": 181,
        "start_time": "2022-04-20T06:27:30.560Z"
      },
      {
        "duration": 282,
        "start_time": "2022-04-20T06:28:19.624Z"
      },
      {
        "duration": 185,
        "start_time": "2022-04-20T06:28:30.331Z"
      },
      {
        "duration": 4,
        "start_time": "2022-04-20T06:28:51.818Z"
      },
      {
        "duration": 182,
        "start_time": "2022-04-20T06:28:55.085Z"
      },
      {
        "duration": 184,
        "start_time": "2022-04-20T06:28:59.158Z"
      },
      {
        "duration": 120,
        "start_time": "2022-04-20T06:33:04.268Z"
      },
      {
        "duration": 177,
        "start_time": "2022-04-20T06:33:26.923Z"
      },
      {
        "duration": 187,
        "start_time": "2022-04-20T06:33:49.326Z"
      },
      {
        "duration": 235,
        "start_time": "2022-04-20T06:34:33.211Z"
      },
      {
        "duration": 170,
        "start_time": "2022-04-20T06:34:40.445Z"
      },
      {
        "duration": 194,
        "start_time": "2022-04-20T06:35:48.415Z"
      },
      {
        "duration": 371,
        "start_time": "2022-04-20T06:36:47.212Z"
      },
      {
        "duration": 175,
        "start_time": "2022-04-20T06:37:36.051Z"
      },
      {
        "duration": 181,
        "start_time": "2022-04-20T06:39:32.496Z"
      },
      {
        "duration": 186,
        "start_time": "2022-04-20T06:41:10.421Z"
      },
      {
        "duration": 296,
        "start_time": "2022-04-20T06:41:16.653Z"
      },
      {
        "duration": 1241,
        "start_time": "2022-04-20T06:41:30.062Z"
      },
      {
        "duration": 30,
        "start_time": "2022-04-20T06:41:31.305Z"
      },
      {
        "duration": 46,
        "start_time": "2022-04-20T06:41:31.337Z"
      },
      {
        "duration": 8,
        "start_time": "2022-04-20T06:41:31.386Z"
      },
      {
        "duration": 325,
        "start_time": "2022-04-20T06:41:31.396Z"
      },
      {
        "duration": 281,
        "start_time": "2022-04-20T06:41:31.724Z"
      },
      {
        "duration": 472,
        "start_time": "2022-04-20T06:41:32.007Z"
      },
      {
        "duration": 296,
        "start_time": "2022-04-20T06:41:32.481Z"
      },
      {
        "duration": 299,
        "start_time": "2022-04-20T06:41:32.779Z"
      },
      {
        "duration": 296,
        "start_time": "2022-04-20T06:41:42.004Z"
      },
      {
        "duration": 13,
        "start_time": "2022-04-20T06:41:46.215Z"
      },
      {
        "duration": 7,
        "start_time": "2022-04-20T06:41:49.565Z"
      },
      {
        "duration": 204,
        "start_time": "2022-04-20T06:45:14.546Z"
      },
      {
        "duration": 195,
        "start_time": "2022-04-20T06:45:30.159Z"
      },
      {
        "duration": 134,
        "start_time": "2022-04-20T06:46:27.938Z"
      },
      {
        "duration": 131,
        "start_time": "2022-04-20T06:46:46.588Z"
      },
      {
        "duration": 113,
        "start_time": "2022-04-20T06:47:05.368Z"
      },
      {
        "duration": 149,
        "start_time": "2022-04-20T06:47:44.732Z"
      },
      {
        "duration": 132,
        "start_time": "2022-04-20T06:47:50.162Z"
      },
      {
        "duration": 132,
        "start_time": "2022-04-20T06:49:30.275Z"
      },
      {
        "duration": 128,
        "start_time": "2022-04-20T06:49:40.426Z"
      },
      {
        "duration": 11,
        "start_time": "2022-04-20T06:50:04.779Z"
      },
      {
        "duration": 194,
        "start_time": "2022-04-20T06:51:08.765Z"
      },
      {
        "duration": 119,
        "start_time": "2022-04-20T06:52:55.144Z"
      },
      {
        "duration": 123,
        "start_time": "2022-04-20T06:53:05.875Z"
      },
      {
        "duration": 122,
        "start_time": "2022-04-20T06:53:17.217Z"
      },
      {
        "duration": 123,
        "start_time": "2022-04-20T06:53:34.487Z"
      },
      {
        "duration": 823,
        "start_time": "2022-04-20T06:54:10.216Z"
      },
      {
        "duration": 13,
        "start_time": "2022-04-20T06:55:34.544Z"
      },
      {
        "duration": 4,
        "start_time": "2022-04-20T06:57:00.609Z"
      },
      {
        "duration": 1358,
        "start_time": "2022-04-20T06:59:38.474Z"
      },
      {
        "duration": 1268,
        "start_time": "2022-04-20T06:59:55.980Z"
      },
      {
        "duration": 1287,
        "start_time": "2022-04-20T07:00:04.585Z"
      },
      {
        "duration": 1253,
        "start_time": "2022-04-20T07:00:16.039Z"
      },
      {
        "duration": 544,
        "start_time": "2022-04-20T07:33:39.663Z"
      },
      {
        "duration": 446,
        "start_time": "2022-04-20T07:33:52.947Z"
      },
      {
        "duration": 1246,
        "start_time": "2022-04-20T07:33:57.888Z"
      },
      {
        "duration": 343,
        "start_time": "2022-04-20T07:43:30.098Z"
      },
      {
        "duration": 23,
        "start_time": "2022-04-20T07:47:00.107Z"
      },
      {
        "duration": 6,
        "start_time": "2022-04-20T07:47:13.854Z"
      },
      {
        "duration": 1765,
        "start_time": "2022-04-20T16:18:42.147Z"
      },
      {
        "duration": 27,
        "start_time": "2022-04-20T16:18:44.529Z"
      },
      {
        "duration": 52,
        "start_time": "2022-04-20T16:18:47.099Z"
      },
      {
        "duration": 8,
        "start_time": "2022-04-20T16:18:47.899Z"
      },
      {
        "duration": 217,
        "start_time": "2022-04-20T16:18:48.739Z"
      },
      {
        "duration": 223,
        "start_time": "2022-04-20T16:18:49.406Z"
      },
      {
        "duration": 346,
        "start_time": "2022-04-20T16:18:49.732Z"
      },
      {
        "duration": 294,
        "start_time": "2022-04-20T16:18:51.039Z"
      },
      {
        "duration": 215,
        "start_time": "2022-04-20T16:18:51.758Z"
      },
      {
        "duration": 15,
        "start_time": "2022-04-20T16:18:53.118Z"
      },
      {
        "duration": 9,
        "start_time": "2022-04-20T16:18:54.493Z"
      },
      {
        "duration": 2224,
        "start_time": "2022-04-20T16:19:55.501Z"
      },
      {
        "duration": 28,
        "start_time": "2022-04-20T16:19:57.728Z"
      },
      {
        "duration": 48,
        "start_time": "2022-04-20T16:19:57.757Z"
      },
      {
        "duration": 10,
        "start_time": "2022-04-20T16:19:57.816Z"
      },
      {
        "duration": 228,
        "start_time": "2022-04-20T16:19:57.828Z"
      },
      {
        "duration": 219,
        "start_time": "2022-04-20T16:19:58.057Z"
      },
      {
        "duration": 390,
        "start_time": "2022-04-20T16:19:58.278Z"
      },
      {
        "duration": 303,
        "start_time": "2022-04-20T16:19:58.670Z"
      },
      {
        "duration": 225,
        "start_time": "2022-04-20T16:19:58.975Z"
      },
      {
        "duration": 23,
        "start_time": "2022-04-20T16:19:59.201Z"
      },
      {
        "duration": 8,
        "start_time": "2022-04-20T16:19:59.226Z"
      },
      {
        "duration": 179420,
        "start_time": "2022-04-20T16:19:59.235Z"
      },
      {
        "duration": 0,
        "start_time": "2022-04-20T16:22:58.657Z"
      },
      {
        "duration": 0,
        "start_time": "2022-04-20T16:22:58.658Z"
      },
      {
        "duration": 0,
        "start_time": "2022-04-20T16:22:58.659Z"
      },
      {
        "duration": 0,
        "start_time": "2022-04-20T16:22:58.661Z"
      },
      {
        "duration": 173,
        "start_time": "2022-04-20T16:23:17.088Z"
      },
      {
        "duration": 17,
        "start_time": "2022-04-20T16:23:27.568Z"
      },
      {
        "duration": 1530,
        "start_time": "2022-04-20T16:23:30.178Z"
      },
      {
        "duration": 6,
        "start_time": "2022-04-20T16:23:33.728Z"
      },
      {
        "duration": 5,
        "start_time": "2022-04-20T16:28:16.846Z"
      },
      {
        "duration": 4,
        "start_time": "2022-04-20T17:30:53.988Z"
      },
      {
        "duration": 17,
        "start_time": "2022-04-20T17:56:38.508Z"
      },
      {
        "duration": 1085,
        "start_time": "2022-04-20T17:57:21.637Z"
      },
      {
        "duration": 1430,
        "start_time": "2022-04-20T17:59:48.278Z"
      },
      {
        "duration": 22,
        "start_time": "2022-04-20T18:00:14.399Z"
      },
      {
        "duration": 98,
        "start_time": "2022-04-20T18:05:49.610Z"
      },
      {
        "duration": 5,
        "start_time": "2022-04-20T18:06:38.919Z"
      },
      {
        "duration": 5,
        "start_time": "2022-04-20T18:06:50.820Z"
      },
      {
        "duration": 93,
        "start_time": "2022-04-20T18:07:20.414Z"
      },
      {
        "duration": 4,
        "start_time": "2022-04-20T18:07:37.466Z"
      },
      {
        "duration": 4,
        "start_time": "2022-04-20T18:07:37.532Z"
      },
      {
        "duration": 3,
        "start_time": "2022-04-20T18:07:51.456Z"
      },
      {
        "duration": 11,
        "start_time": "2022-04-20T18:07:56.811Z"
      },
      {
        "duration": 88,
        "start_time": "2022-04-20T18:10:30.540Z"
      },
      {
        "duration": 4,
        "start_time": "2022-04-20T18:10:36.995Z"
      },
      {
        "duration": 8,
        "start_time": "2022-04-20T18:11:18.841Z"
      },
      {
        "duration": 5,
        "start_time": "2022-04-20T18:12:45.046Z"
      },
      {
        "duration": 28,
        "start_time": "2022-04-20T18:21:46.077Z"
      },
      {
        "duration": 383,
        "start_time": "2022-04-20T18:22:44.417Z"
      },
      {
        "duration": 47,
        "start_time": "2022-04-21T05:58:21.903Z"
      },
      {
        "duration": 1468,
        "start_time": "2022-04-21T05:58:31.663Z"
      },
      {
        "duration": 27,
        "start_time": "2022-04-21T05:58:33.133Z"
      },
      {
        "duration": 46,
        "start_time": "2022-04-21T05:58:34.216Z"
      },
      {
        "duration": 7,
        "start_time": "2022-04-21T05:58:35.108Z"
      },
      {
        "duration": 205,
        "start_time": "2022-04-21T05:58:36.276Z"
      },
      {
        "duration": 196,
        "start_time": "2022-04-21T05:58:36.811Z"
      },
      {
        "duration": 321,
        "start_time": "2022-04-21T05:58:37.554Z"
      },
      {
        "duration": 276,
        "start_time": "2022-04-21T05:58:38.299Z"
      },
      {
        "duration": 210,
        "start_time": "2022-04-21T05:58:39.082Z"
      },
      {
        "duration": 13,
        "start_time": "2022-04-21T05:58:40.758Z"
      },
      {
        "duration": 7,
        "start_time": "2022-04-21T05:58:42.309Z"
      },
      {
        "duration": 204,
        "start_time": "2022-04-21T05:58:43.171Z"
      },
      {
        "duration": 0,
        "start_time": "2022-04-21T05:58:43.377Z"
      },
      {
        "duration": 1488,
        "start_time": "2022-04-21T05:58:44.388Z"
      },
      {
        "duration": 6,
        "start_time": "2022-04-21T05:58:46.505Z"
      },
      {
        "duration": 12,
        "start_time": "2022-04-21T05:58:47.637Z"
      },
      {
        "duration": 9,
        "start_time": "2022-04-21T05:58:59.632Z"
      },
      {
        "duration": 16,
        "start_time": "2022-04-21T05:59:19.699Z"
      },
      {
        "duration": 7,
        "start_time": "2022-04-21T05:59:21.927Z"
      },
      {
        "duration": 350,
        "start_time": "2022-04-21T05:59:56.780Z"
      },
      {
        "duration": 710,
        "start_time": "2022-04-21T06:03:11.342Z"
      },
      {
        "duration": 4,
        "start_time": "2022-04-21T06:27:15.867Z"
      },
      {
        "duration": 30,
        "start_time": "2022-04-21T06:27:16.063Z"
      },
      {
        "duration": 46,
        "start_time": "2022-04-21T06:27:16.999Z"
      },
      {
        "duration": 7,
        "start_time": "2022-04-21T06:27:17.761Z"
      },
      {
        "duration": 208,
        "start_time": "2022-04-21T06:27:18.665Z"
      },
      {
        "duration": 208,
        "start_time": "2022-04-21T06:27:19.108Z"
      },
      {
        "duration": 350,
        "start_time": "2022-04-21T06:27:19.484Z"
      },
      {
        "duration": 217,
        "start_time": "2022-04-21T06:27:19.857Z"
      },
      {
        "duration": 317,
        "start_time": "2022-04-21T06:27:20.276Z"
      },
      {
        "duration": 14,
        "start_time": "2022-04-21T06:27:21.932Z"
      },
      {
        "duration": 8,
        "start_time": "2022-04-21T06:27:24.014Z"
      },
      {
        "duration": 142,
        "start_time": "2022-04-21T06:27:25.149Z"
      },
      {
        "duration": 15,
        "start_time": "2022-04-21T06:27:26.038Z"
      },
      {
        "duration": 1375,
        "start_time": "2022-04-21T06:27:26.605Z"
      },
      {
        "duration": 6,
        "start_time": "2022-04-21T06:27:27.982Z"
      },
      {
        "duration": 10,
        "start_time": "2022-04-21T06:27:28.188Z"
      },
      {
        "duration": 19,
        "start_time": "2022-04-21T06:27:28.388Z"
      },
      {
        "duration": 7,
        "start_time": "2022-04-21T06:27:28.830Z"
      },
      {
        "duration": 691,
        "start_time": "2022-04-21T06:27:29.012Z"
      },
      {
        "duration": 348,
        "start_time": "2022-04-21T06:27:35.478Z"
      },
      {
        "duration": 342,
        "start_time": "2022-04-21T06:30:33.790Z"
      },
      {
        "duration": 345,
        "start_time": "2022-04-21T06:30:49.082Z"
      },
      {
        "duration": 60,
        "start_time": "2022-04-21T06:35:59.149Z"
      },
      {
        "duration": 5,
        "start_time": "2022-04-21T06:37:13.097Z"
      },
      {
        "duration": 182,
        "start_time": "2022-04-21T06:38:28.226Z"
      },
      {
        "duration": 81,
        "start_time": "2022-04-21T06:38:45.129Z"
      },
      {
        "duration": 56,
        "start_time": "2022-04-21T06:38:51.156Z"
      },
      {
        "duration": 373,
        "start_time": "2022-04-21T06:39:01.581Z"
      },
      {
        "duration": 1588,
        "start_time": "2022-04-21T10:37:40.584Z"
      },
      {
        "duration": 34,
        "start_time": "2022-04-21T10:37:42.174Z"
      },
      {
        "duration": 48,
        "start_time": "2022-04-21T10:37:42.209Z"
      },
      {
        "duration": 10,
        "start_time": "2022-04-21T10:37:42.259Z"
      },
      {
        "duration": 261,
        "start_time": "2022-04-21T10:37:42.272Z"
      },
      {
        "duration": 218,
        "start_time": "2022-04-21T10:37:42.535Z"
      },
      {
        "duration": 354,
        "start_time": "2022-04-21T10:37:42.755Z"
      },
      {
        "duration": 296,
        "start_time": "2022-04-21T10:37:43.111Z"
      },
      {
        "duration": 226,
        "start_time": "2022-04-21T10:37:43.409Z"
      },
      {
        "duration": 13,
        "start_time": "2022-04-21T10:37:43.636Z"
      },
      {
        "duration": 9,
        "start_time": "2022-04-21T10:37:43.651Z"
      },
      {
        "duration": 10,
        "start_time": "2022-04-21T10:37:43.662Z"
      },
      {
        "duration": 24,
        "start_time": "2022-04-21T10:37:43.674Z"
      },
      {
        "duration": 1539,
        "start_time": "2022-04-21T10:37:43.708Z"
      },
      {
        "duration": 6,
        "start_time": "2022-04-21T10:37:45.249Z"
      },
      {
        "duration": 12,
        "start_time": "2022-04-21T10:37:45.257Z"
      },
      {
        "duration": 38,
        "start_time": "2022-04-21T10:37:45.271Z"
      },
      {
        "duration": 498,
        "start_time": "2022-04-21T10:37:45.314Z"
      },
      {
        "duration": 67,
        "start_time": "2022-04-21T11:04:58.998Z"
      },
      {
        "duration": 6,
        "start_time": "2022-04-21T11:05:04.525Z"
      },
      {
        "duration": 21,
        "start_time": "2022-04-21T11:05:06.277Z"
      },
      {
        "duration": 602,
        "start_time": "2022-04-21T11:05:45.498Z"
      },
      {
        "duration": 569,
        "start_time": "2022-04-21T11:06:13.077Z"
      },
      {
        "duration": 420,
        "start_time": "2022-04-21T11:06:47.886Z"
      },
      {
        "duration": 96,
        "start_time": "2022-04-21T11:06:50.216Z"
      },
      {
        "duration": 43,
        "start_time": "2022-04-21T11:07:21.086Z"
      },
      {
        "duration": 406,
        "start_time": "2022-04-21T11:07:21.928Z"
      },
      {
        "duration": 5,
        "start_time": "2022-04-21T11:08:52.607Z"
      },
      {
        "duration": 6,
        "start_time": "2022-04-21T11:09:09.333Z"
      },
      {
        "duration": 4,
        "start_time": "2022-04-21T11:09:12.483Z"
      },
      {
        "duration": 50,
        "start_time": "2022-04-21T11:09:16.465Z"
      },
      {
        "duration": 436,
        "start_time": "2022-04-21T11:09:28.005Z"
      },
      {
        "duration": 10,
        "start_time": "2022-04-21T11:11:12.658Z"
      },
      {
        "duration": 5,
        "start_time": "2022-04-21T11:14:57.403Z"
      },
      {
        "duration": 128,
        "start_time": "2022-04-21T11:16:58.518Z"
      },
      {
        "duration": 11,
        "start_time": "2022-04-21T11:17:02.551Z"
      },
      {
        "duration": 589,
        "start_time": "2022-04-21T11:17:03.236Z"
      },
      {
        "duration": 119792,
        "start_time": "2022-04-21T11:17:32.579Z"
      },
      {
        "duration": 23,
        "start_time": "2022-04-21T11:26:41.499Z"
      },
      {
        "duration": 1314,
        "start_time": "2022-04-21T11:27:11.515Z"
      },
      {
        "duration": 4,
        "start_time": "2022-04-21T11:27:52.689Z"
      },
      {
        "duration": 5,
        "start_time": "2022-04-21T11:28:01.973Z"
      },
      {
        "duration": 13,
        "start_time": "2022-04-21T11:28:45.159Z"
      },
      {
        "duration": 1642,
        "start_time": "2022-04-21T12:33:33.514Z"
      },
      {
        "duration": 1493,
        "start_time": "2022-04-21T12:33:35.158Z"
      },
      {
        "duration": 57,
        "start_time": "2022-04-21T12:33:36.653Z"
      },
      {
        "duration": 11,
        "start_time": "2022-04-21T12:33:36.713Z"
      },
      {
        "duration": 260,
        "start_time": "2022-04-21T12:33:36.727Z"
      },
      {
        "duration": 242,
        "start_time": "2022-04-21T12:33:36.989Z"
      },
      {
        "duration": 461,
        "start_time": "2022-04-21T12:33:37.233Z"
      },
      {
        "duration": 260,
        "start_time": "2022-04-21T12:33:37.696Z"
      },
      {
        "duration": 249,
        "start_time": "2022-04-21T12:33:37.957Z"
      },
      {
        "duration": 20,
        "start_time": "2022-04-21T12:33:38.210Z"
      },
      {
        "duration": 8,
        "start_time": "2022-04-21T12:33:38.233Z"
      },
      {
        "duration": 23,
        "start_time": "2022-04-21T12:34:46.004Z"
      },
      {
        "duration": 67,
        "start_time": "2022-04-21T12:39:09.152Z"
      },
      {
        "duration": 87,
        "start_time": "2022-04-21T12:39:14.745Z"
      },
      {
        "duration": 9,
        "start_time": "2022-04-21T12:39:21.417Z"
      },
      {
        "duration": 11,
        "start_time": "2022-04-21T12:39:32.191Z"
      },
      {
        "duration": 55,
        "start_time": "2022-04-21T12:40:06.122Z"
      },
      {
        "duration": 17,
        "start_time": "2022-04-21T12:40:10.002Z"
      },
      {
        "duration": 14,
        "start_time": "2022-04-21T12:40:57.531Z"
      },
      {
        "duration": 572,
        "start_time": "2022-04-21T12:41:59.741Z"
      },
      {
        "duration": 530,
        "start_time": "2022-04-21T12:42:37.055Z"
      },
      {
        "duration": 400,
        "start_time": "2022-04-21T12:42:49.893Z"
      },
      {
        "duration": 391,
        "start_time": "2022-04-21T12:42:56.570Z"
      },
      {
        "duration": 562,
        "start_time": "2022-04-21T12:44:06.150Z"
      },
      {
        "duration": 422,
        "start_time": "2022-04-21T12:44:19.776Z"
      },
      {
        "duration": 422,
        "start_time": "2022-04-21T12:45:14.700Z"
      },
      {
        "duration": 386,
        "start_time": "2022-04-21T12:46:38.890Z"
      },
      {
        "duration": 851,
        "start_time": "2022-04-21T12:47:44.535Z"
      },
      {
        "duration": 139,
        "start_time": "2022-04-21T12:48:13.004Z"
      },
      {
        "duration": 15,
        "start_time": "2022-04-21T12:48:20.164Z"
      },
      {
        "duration": 19,
        "start_time": "2022-04-21T12:48:36.151Z"
      },
      {
        "duration": 401,
        "start_time": "2022-04-21T12:48:46.594Z"
      },
      {
        "duration": 4,
        "start_time": "2022-04-21T12:56:32.377Z"
      },
      {
        "duration": 4,
        "start_time": "2022-04-21T12:57:03.232Z"
      },
      {
        "duration": 428,
        "start_time": "2022-04-21T13:04:44.973Z"
      },
      {
        "duration": 5,
        "start_time": "2022-04-21T13:05:11.755Z"
      },
      {
        "duration": 2779,
        "start_time": "2022-04-21T13:05:22.422Z"
      },
      {
        "duration": 8,
        "start_time": "2022-04-21T13:18:45.949Z"
      },
      {
        "duration": 10,
        "start_time": "2022-04-21T13:18:52.201Z"
      },
      {
        "duration": 11,
        "start_time": "2022-04-21T13:18:54.668Z"
      },
      {
        "duration": 12,
        "start_time": "2022-04-21T13:19:02.688Z"
      },
      {
        "duration": 4,
        "start_time": "2022-04-21T13:19:02.883Z"
      },
      {
        "duration": 4,
        "start_time": "2022-04-21T13:19:02.935Z"
      },
      {
        "duration": 9,
        "start_time": "2022-04-21T13:19:12.093Z"
      },
      {
        "duration": 4,
        "start_time": "2022-04-21T13:22:14.488Z"
      },
      {
        "duration": 2233,
        "start_time": "2022-04-21T13:22:17.974Z"
      },
      {
        "duration": 4,
        "start_time": "2022-04-21T13:23:28.183Z"
      },
      {
        "duration": 260,
        "start_time": "2022-04-21T13:23:29.625Z"
      },
      {
        "duration": 395,
        "start_time": "2022-04-21T13:28:27.671Z"
      },
      {
        "duration": 4,
        "start_time": "2022-04-21T13:29:46.886Z"
      },
      {
        "duration": 2171,
        "start_time": "2022-04-21T13:29:51.427Z"
      },
      {
        "duration": 4,
        "start_time": "2022-04-21T13:30:37.048Z"
      },
      {
        "duration": 2084,
        "start_time": "2022-04-21T13:30:41.114Z"
      },
      {
        "duration": 4,
        "start_time": "2022-04-21T13:40:48.987Z"
      },
      {
        "duration": 275,
        "start_time": "2022-04-21T13:40:49.825Z"
      },
      {
        "duration": 4,
        "start_time": "2022-04-21T13:41:29.091Z"
      },
      {
        "duration": 330,
        "start_time": "2022-04-21T13:41:30.750Z"
      },
      {
        "duration": 4,
        "start_time": "2022-04-21T13:41:42.611Z"
      },
      {
        "duration": 2076,
        "start_time": "2022-04-21T13:41:44.300Z"
      },
      {
        "duration": 4,
        "start_time": "2022-04-21T13:41:53.560Z"
      },
      {
        "duration": 254,
        "start_time": "2022-04-21T13:41:54.525Z"
      },
      {
        "duration": 4,
        "start_time": "2022-04-21T13:42:00.746Z"
      },
      {
        "duration": 2080,
        "start_time": "2022-04-21T13:42:02.377Z"
      },
      {
        "duration": 64,
        "start_time": "2022-04-21T13:43:48.915Z"
      },
      {
        "duration": 2055,
        "start_time": "2022-04-21T13:43:50.126Z"
      },
      {
        "duration": 95,
        "start_time": "2022-04-21T13:44:07.281Z"
      },
      {
        "duration": 2056,
        "start_time": "2022-04-21T13:44:08.626Z"
      },
      {
        "duration": 4,
        "start_time": "2022-04-21T13:44:17.177Z"
      },
      {
        "duration": 2409,
        "start_time": "2022-04-21T13:44:17.746Z"
      },
      {
        "duration": 3,
        "start_time": "2022-04-21T13:44:24.272Z"
      },
      {
        "duration": 2113,
        "start_time": "2022-04-21T13:44:24.879Z"
      },
      {
        "duration": 4,
        "start_time": "2022-04-21T13:44:39.432Z"
      },
      {
        "duration": 2150,
        "start_time": "2022-04-21T13:44:40.736Z"
      },
      {
        "duration": 3615,
        "start_time": "2022-04-21T13:50:08.822Z"
      },
      {
        "duration": 2780,
        "start_time": "2022-04-21T14:11:25.290Z"
      },
      {
        "duration": 1875,
        "start_time": "2022-04-21T14:12:03.501Z"
      },
      {
        "duration": 11,
        "start_time": "2022-04-21T14:15:05.734Z"
      },
      {
        "duration": 625,
        "start_time": "2022-04-21T14:15:11.677Z"
      },
      {
        "duration": 603,
        "start_time": "2022-04-21T14:17:25.493Z"
      },
      {
        "duration": 632,
        "start_time": "2022-04-21T14:17:37.107Z"
      },
      {
        "duration": 629,
        "start_time": "2022-04-21T14:17:43.152Z"
      },
      {
        "duration": 658,
        "start_time": "2022-04-21T14:17:48.027Z"
      },
      {
        "duration": 26,
        "start_time": "2022-04-21T14:17:48.687Z"
      },
      {
        "duration": 7,
        "start_time": "2022-04-21T14:18:57.704Z"
      },
      {
        "duration": 8,
        "start_time": "2022-04-21T14:19:16.041Z"
      },
      {
        "duration": 4,
        "start_time": "2022-04-21T14:19:23.388Z"
      },
      {
        "duration": 581,
        "start_time": "2022-04-21T14:19:34.692Z"
      },
      {
        "duration": 65,
        "start_time": "2022-04-21T14:20:48.760Z"
      },
      {
        "duration": 61,
        "start_time": "2022-04-21T14:20:52.259Z"
      },
      {
        "duration": 796,
        "start_time": "2022-04-21T14:21:10.314Z"
      },
      {
        "duration": 636,
        "start_time": "2022-04-21T14:22:09.125Z"
      },
      {
        "duration": 130,
        "start_time": "2022-04-21T14:27:28.441Z"
      },
      {
        "duration": 319,
        "start_time": "2022-04-21T14:27:32.171Z"
      },
      {
        "duration": 416,
        "start_time": "2022-04-21T14:28:19.330Z"
      },
      {
        "duration": 280,
        "start_time": "2022-04-21T14:28:53.036Z"
      },
      {
        "duration": 288,
        "start_time": "2022-04-21T14:29:46.518Z"
      },
      {
        "duration": 286,
        "start_time": "2022-04-21T14:29:55.201Z"
      },
      {
        "duration": 289,
        "start_time": "2022-04-21T14:30:03.638Z"
      },
      {
        "duration": 299,
        "start_time": "2022-04-21T14:31:47.353Z"
      },
      {
        "duration": 427,
        "start_time": "2022-04-21T14:32:00.930Z"
      },
      {
        "duration": 341,
        "start_time": "2022-04-21T14:32:13.338Z"
      },
      {
        "duration": 353,
        "start_time": "2022-04-21T14:33:01.700Z"
      },
      {
        "duration": 353,
        "start_time": "2022-04-21T14:33:09.683Z"
      },
      {
        "duration": 343,
        "start_time": "2022-04-21T14:33:18.793Z"
      },
      {
        "duration": 432,
        "start_time": "2022-04-21T14:34:26.425Z"
      },
      {
        "duration": 319,
        "start_time": "2022-04-21T14:34:47.012Z"
      },
      {
        "duration": 340,
        "start_time": "2022-04-21T14:35:15.766Z"
      },
      {
        "duration": 312,
        "start_time": "2022-04-21T14:35:33.379Z"
      },
      {
        "duration": 357,
        "start_time": "2022-04-21T14:36:58.890Z"
      },
      {
        "duration": 401,
        "start_time": "2022-04-21T14:37:15.638Z"
      },
      {
        "duration": 636,
        "start_time": "2022-04-21T14:38:21.871Z"
      },
      {
        "duration": 296,
        "start_time": "2022-04-21T14:42:42.303Z"
      },
      {
        "duration": 312,
        "start_time": "2022-04-21T14:43:24.865Z"
      },
      {
        "duration": 284,
        "start_time": "2022-04-21T14:44:01.472Z"
      },
      {
        "duration": 174,
        "start_time": "2022-04-21T14:53:31.770Z"
      },
      {
        "duration": 5,
        "start_time": "2022-04-21T14:58:58.721Z"
      },
      {
        "duration": 5,
        "start_time": "2022-04-21T15:03:44.972Z"
      },
      {
        "duration": 5,
        "start_time": "2022-04-21T15:04:02.352Z"
      },
      {
        "duration": 5,
        "start_time": "2022-04-21T15:04:14.704Z"
      },
      {
        "duration": 27,
        "start_time": "2022-04-21T15:04:34.311Z"
      },
      {
        "duration": 22,
        "start_time": "2022-04-21T15:04:45.934Z"
      },
      {
        "duration": 46,
        "start_time": "2022-04-21T15:06:13.411Z"
      },
      {
        "duration": 7,
        "start_time": "2022-04-21T15:08:14.389Z"
      },
      {
        "duration": 188,
        "start_time": "2022-04-21T15:08:41.038Z"
      },
      {
        "duration": 1300,
        "start_time": "2022-04-21T15:08:55.044Z"
      },
      {
        "duration": 32,
        "start_time": "2022-04-21T15:08:56.346Z"
      },
      {
        "duration": 45,
        "start_time": "2022-04-21T15:09:02.250Z"
      },
      {
        "duration": 8,
        "start_time": "2022-04-21T15:09:08.127Z"
      },
      {
        "duration": 216,
        "start_time": "2022-04-21T15:09:22.005Z"
      },
      {
        "duration": 198,
        "start_time": "2022-04-21T15:09:34.550Z"
      },
      {
        "duration": 427,
        "start_time": "2022-04-21T15:09:39.446Z"
      },
      {
        "duration": 210,
        "start_time": "2022-04-21T15:09:48.589Z"
      },
      {
        "duration": 206,
        "start_time": "2022-04-21T15:09:52.471Z"
      },
      {
        "duration": 1359,
        "start_time": "2022-04-21T15:11:48.399Z"
      },
      {
        "duration": 28,
        "start_time": "2022-04-21T15:11:49.759Z"
      },
      {
        "duration": 48,
        "start_time": "2022-04-21T15:11:49.789Z"
      },
      {
        "duration": 7,
        "start_time": "2022-04-21T15:11:49.839Z"
      },
      {
        "duration": 233,
        "start_time": "2022-04-21T15:11:49.848Z"
      },
      {
        "duration": 202,
        "start_time": "2022-04-21T15:11:50.083Z"
      },
      {
        "duration": 408,
        "start_time": "2022-04-21T15:11:50.287Z"
      },
      {
        "duration": 218,
        "start_time": "2022-04-21T15:11:50.697Z"
      },
      {
        "duration": 214,
        "start_time": "2022-04-21T15:11:50.917Z"
      },
      {
        "duration": 25,
        "start_time": "2022-04-21T15:13:20.656Z"
      },
      {
        "duration": 11,
        "start_time": "2022-04-21T15:14:01.491Z"
      },
      {
        "duration": 13,
        "start_time": "2022-04-21T15:14:55.007Z"
      },
      {
        "duration": 11,
        "start_time": "2022-04-21T15:17:29.670Z"
      },
      {
        "duration": 3,
        "start_time": "2022-04-21T15:20:03.246Z"
      },
      {
        "duration": 1759,
        "start_time": "2022-04-21T15:20:05.217Z"
      },
      {
        "duration": 1807,
        "start_time": "2022-04-21T15:20:43.414Z"
      },
      {
        "duration": 390,
        "start_time": "2022-04-21T17:43:10.203Z"
      },
      {
        "duration": 417,
        "start_time": "2022-04-21T17:43:29.113Z"
      },
      {
        "duration": 317,
        "start_time": "2022-04-21T17:48:50.980Z"
      },
      {
        "duration": 313,
        "start_time": "2022-04-21T17:50:23.449Z"
      },
      {
        "duration": 4,
        "start_time": "2022-04-21T18:05:37.020Z"
      },
      {
        "duration": 1394,
        "start_time": "2022-04-21T18:06:00.195Z"
      },
      {
        "duration": 28,
        "start_time": "2022-04-21T18:06:01.590Z"
      },
      {
        "duration": 45,
        "start_time": "2022-04-21T18:06:01.620Z"
      },
      {
        "duration": 6,
        "start_time": "2022-04-21T18:06:01.667Z"
      },
      {
        "duration": 238,
        "start_time": "2022-04-21T18:06:01.675Z"
      },
      {
        "duration": 206,
        "start_time": "2022-04-21T18:06:01.915Z"
      },
      {
        "duration": 429,
        "start_time": "2022-04-21T18:06:02.123Z"
      },
      {
        "duration": 220,
        "start_time": "2022-04-21T18:06:02.553Z"
      },
      {
        "duration": 219,
        "start_time": "2022-04-21T18:06:02.774Z"
      },
      {
        "duration": 20,
        "start_time": "2022-04-21T18:06:02.996Z"
      },
      {
        "duration": 4,
        "start_time": "2022-04-21T18:06:03.017Z"
      },
      {
        "duration": 1760,
        "start_time": "2022-04-21T18:06:03.022Z"
      },
      {
        "duration": 629,
        "start_time": "2022-04-21T18:06:04.784Z"
      },
      {
        "duration": 534,
        "start_time": "2022-04-21T18:06:05.414Z"
      },
      {
        "duration": 530,
        "start_time": "2022-04-21T18:06:05.950Z"
      },
      {
        "duration": 320,
        "start_time": "2022-04-21T18:06:06.482Z"
      },
      {
        "duration": 336,
        "start_time": "2022-04-21T18:06:06.807Z"
      },
      {
        "duration": 307,
        "start_time": "2022-04-21T18:06:07.144Z"
      },
      {
        "duration": 17,
        "start_time": "2022-04-21T18:06:07.453Z"
      },
      {
        "duration": 1609,
        "start_time": "2022-04-21T18:06:07.471Z"
      },
      {
        "duration": 5,
        "start_time": "2022-04-21T18:06:09.081Z"
      },
      {
        "duration": 6,
        "start_time": "2022-04-21T18:07:49.334Z"
      },
      {
        "duration": 3,
        "start_time": "2022-04-21T18:07:53.193Z"
      },
      {
        "duration": 36,
        "start_time": "2022-04-21T18:07:54.566Z"
      },
      {
        "duration": 109,
        "start_time": "2022-04-21T18:07:58.849Z"
      },
      {
        "duration": 376,
        "start_time": "2022-04-21T18:08:09.321Z"
      },
      {
        "duration": 7,
        "start_time": "2022-04-21T18:08:50.380Z"
      },
      {
        "duration": 3,
        "start_time": "2022-04-21T18:08:52.756Z"
      },
      {
        "duration": 107,
        "start_time": "2022-04-21T18:08:56.606Z"
      },
      {
        "duration": 343,
        "start_time": "2022-04-21T18:08:59.026Z"
      },
      {
        "duration": 15,
        "start_time": "2022-04-21T18:17:42.701Z"
      },
      {
        "duration": 1348,
        "start_time": "2022-04-21T18:17:50.615Z"
      },
      {
        "duration": 28,
        "start_time": "2022-04-21T18:17:51.965Z"
      },
      {
        "duration": 48,
        "start_time": "2022-04-21T18:17:51.995Z"
      },
      {
        "duration": 8,
        "start_time": "2022-04-21T18:17:52.045Z"
      },
      {
        "duration": 226,
        "start_time": "2022-04-21T18:17:52.054Z"
      },
      {
        "duration": 206,
        "start_time": "2022-04-21T18:17:52.282Z"
      },
      {
        "duration": 410,
        "start_time": "2022-04-21T18:17:52.490Z"
      },
      {
        "duration": 230,
        "start_time": "2022-04-21T18:17:52.901Z"
      },
      {
        "duration": 229,
        "start_time": "2022-04-21T18:17:53.133Z"
      },
      {
        "duration": 13,
        "start_time": "2022-04-21T18:17:53.364Z"
      },
      {
        "duration": 4,
        "start_time": "2022-04-21T18:17:53.379Z"
      },
      {
        "duration": 1795,
        "start_time": "2022-04-21T18:17:53.384Z"
      },
      {
        "duration": 614,
        "start_time": "2022-04-21T18:17:55.181Z"
      },
      {
        "duration": 510,
        "start_time": "2022-04-21T18:17:55.797Z"
      },
      {
        "duration": 500,
        "start_time": "2022-04-21T18:17:56.309Z"
      },
      {
        "duration": 302,
        "start_time": "2022-04-21T18:17:56.811Z"
      },
      {
        "duration": 329,
        "start_time": "2022-04-21T18:17:57.116Z"
      },
      {
        "duration": 313,
        "start_time": "2022-04-21T18:17:57.448Z"
      },
      {
        "duration": 17,
        "start_time": "2022-04-21T18:17:57.763Z"
      },
      {
        "duration": 1565,
        "start_time": "2022-04-21T18:17:57.782Z"
      },
      {
        "duration": 6,
        "start_time": "2022-04-21T18:17:59.349Z"
      },
      {
        "duration": 15,
        "start_time": "2022-04-21T18:17:59.357Z"
      },
      {
        "duration": 17,
        "start_time": "2022-04-21T18:17:59.374Z"
      },
      {
        "duration": 115,
        "start_time": "2022-04-21T18:17:59.393Z"
      },
      {
        "duration": 441,
        "start_time": "2022-04-21T18:17:59.511Z"
      },
      {
        "duration": 7,
        "start_time": "2022-04-21T18:17:59.954Z"
      },
      {
        "duration": 517,
        "start_time": "2022-04-21T18:17:59.963Z"
      },
      {
        "duration": 112555,
        "start_time": "2022-04-21T18:18:00.483Z"
      },
      {
        "duration": 1376,
        "start_time": "2022-04-21T18:19:53.040Z"
      },
      {
        "duration": 15,
        "start_time": "2022-04-21T18:19:54.508Z"
      },
      {
        "duration": 14,
        "start_time": "2022-04-22T01:55:07.320Z"
      },
      {
        "duration": 64,
        "start_time": "2022-04-22T01:55:10.577Z"
      },
      {
        "duration": 2188,
        "start_time": "2022-04-22T01:55:22.881Z"
      },
      {
        "duration": 44,
        "start_time": "2022-04-22T01:55:25.073Z"
      },
      {
        "duration": 79,
        "start_time": "2022-04-22T01:55:25.119Z"
      },
      {
        "duration": 10,
        "start_time": "2022-04-22T01:55:25.200Z"
      },
      {
        "duration": 366,
        "start_time": "2022-04-22T01:55:25.213Z"
      },
      {
        "duration": 347,
        "start_time": "2022-04-22T01:55:25.581Z"
      },
      {
        "duration": 644,
        "start_time": "2022-04-22T01:55:25.931Z"
      },
      {
        "duration": 376,
        "start_time": "2022-04-22T01:55:26.579Z"
      },
      {
        "duration": 366,
        "start_time": "2022-04-22T01:55:26.959Z"
      },
      {
        "duration": 29,
        "start_time": "2022-04-22T01:55:27.327Z"
      },
      {
        "duration": 5,
        "start_time": "2022-04-22T01:55:27.358Z"
      },
      {
        "duration": 2443,
        "start_time": "2022-04-22T01:55:27.365Z"
      },
      {
        "duration": 905,
        "start_time": "2022-04-22T01:55:29.810Z"
      },
      {
        "duration": 817,
        "start_time": "2022-04-22T01:55:30.719Z"
      },
      {
        "duration": 838,
        "start_time": "2022-04-22T01:55:31.538Z"
      },
      {
        "duration": 501,
        "start_time": "2022-04-22T01:55:32.378Z"
      },
      {
        "duration": 529,
        "start_time": "2022-04-22T01:55:32.882Z"
      },
      {
        "duration": 490,
        "start_time": "2022-04-22T01:55:33.413Z"
      },
      {
        "duration": 24,
        "start_time": "2022-04-22T01:55:33.906Z"
      },
      {
        "duration": 2643,
        "start_time": "2022-04-22T01:55:33.933Z"
      },
      {
        "duration": 7,
        "start_time": "2022-04-22T01:55:36.579Z"
      },
      {
        "duration": 11,
        "start_time": "2022-04-22T01:55:36.589Z"
      },
      {
        "duration": 8,
        "start_time": "2022-04-22T01:55:36.603Z"
      },
      {
        "duration": 239,
        "start_time": "2022-04-22T01:55:36.613Z"
      },
      {
        "duration": 504,
        "start_time": "2022-04-22T01:55:36.855Z"
      },
      {
        "duration": 13,
        "start_time": "2022-04-22T01:55:37.362Z"
      },
      {
        "duration": 849,
        "start_time": "2022-04-22T01:55:37.378Z"
      },
      {
        "duration": 1837,
        "start_time": "2022-04-22T01:55:41.826Z"
      },
      {
        "duration": 18,
        "start_time": "2022-04-22T01:55:43.666Z"
      },
      {
        "duration": 5,
        "start_time": "2022-04-22T01:55:50.000Z"
      },
      {
        "duration": 182,
        "start_time": "2022-04-22T01:55:51.498Z"
      },
      {
        "duration": 6,
        "start_time": "2022-04-22T01:57:57.779Z"
      },
      {
        "duration": 19,
        "start_time": "2022-04-22T01:57:59.046Z"
      },
      {
        "duration": 13,
        "start_time": "2022-04-22T01:58:19.084Z"
      },
      {
        "duration": 6,
        "start_time": "2022-04-22T01:58:25.120Z"
      },
      {
        "duration": 27,
        "start_time": "2022-04-22T01:58:26.461Z"
      },
      {
        "duration": 5,
        "start_time": "2022-04-22T01:59:09.733Z"
      },
      {
        "duration": 6,
        "start_time": "2022-04-22T01:59:30.147Z"
      },
      {
        "duration": 24,
        "start_time": "2022-04-22T01:59:31.793Z"
      },
      {
        "duration": 13,
        "start_time": "2022-04-22T01:59:46.242Z"
      },
      {
        "duration": 6,
        "start_time": "2022-04-22T01:59:46.400Z"
      },
      {
        "duration": 18,
        "start_time": "2022-04-22T01:59:56.439Z"
      },
      {
        "duration": 16,
        "start_time": "2022-04-22T02:00:11.435Z"
      },
      {
        "duration": 20,
        "start_time": "2022-04-22T02:00:32.266Z"
      },
      {
        "duration": 17,
        "start_time": "2022-04-22T02:00:48.538Z"
      },
      {
        "duration": 6,
        "start_time": "2022-04-22T02:02:01.244Z"
      },
      {
        "duration": 25,
        "start_time": "2022-04-22T02:02:02.441Z"
      },
      {
        "duration": 6,
        "start_time": "2022-04-22T02:02:17.469Z"
      },
      {
        "duration": 27,
        "start_time": "2022-04-22T02:02:19.301Z"
      },
      {
        "duration": 6,
        "start_time": "2022-04-22T02:02:29.590Z"
      },
      {
        "duration": 2328,
        "start_time": "2022-04-22T02:02:30.557Z"
      },
      {
        "duration": 6,
        "start_time": "2022-04-22T02:04:12.658Z"
      },
      {
        "duration": 2736,
        "start_time": "2022-04-22T02:04:13.312Z"
      },
      {
        "duration": 97,
        "start_time": "2022-04-22T02:04:44.553Z"
      },
      {
        "duration": 2624,
        "start_time": "2022-04-22T02:04:45.227Z"
      },
      {
        "duration": 7,
        "start_time": "2022-04-22T02:04:51.170Z"
      },
      {
        "duration": 3678,
        "start_time": "2022-04-22T02:04:52.519Z"
      },
      {
        "duration": 7,
        "start_time": "2022-04-22T02:05:44.982Z"
      },
      {
        "duration": 4681,
        "start_time": "2022-04-22T02:05:45.845Z"
      },
      {
        "duration": 7,
        "start_time": "2022-04-22T02:06:47.523Z"
      },
      {
        "duration": 3669,
        "start_time": "2022-04-22T02:06:48.345Z"
      },
      {
        "duration": 13,
        "start_time": "2022-04-22T02:11:49.909Z"
      },
      {
        "duration": 8,
        "start_time": "2022-04-22T02:12:27.071Z"
      },
      {
        "duration": 6,
        "start_time": "2022-04-22T02:17:25.089Z"
      },
      {
        "duration": 3597,
        "start_time": "2022-04-22T02:17:25.816Z"
      },
      {
        "duration": 6,
        "start_time": "2022-04-22T02:17:52.588Z"
      },
      {
        "duration": 28,
        "start_time": "2022-04-22T02:17:53.694Z"
      },
      {
        "duration": 6,
        "start_time": "2022-04-22T02:18:05.851Z"
      },
      {
        "duration": 3437,
        "start_time": "2022-04-22T02:18:07.435Z"
      },
      {
        "duration": 6,
        "start_time": "2022-04-22T02:18:40.233Z"
      },
      {
        "duration": 3688,
        "start_time": "2022-04-22T02:18:41.939Z"
      },
      {
        "duration": 6,
        "start_time": "2022-04-22T02:18:55.794Z"
      },
      {
        "duration": 3521,
        "start_time": "2022-04-22T02:18:56.419Z"
      },
      {
        "duration": 17,
        "start_time": "2022-04-22T02:19:46.762Z"
      },
      {
        "duration": 16,
        "start_time": "2022-04-22T02:19:59.649Z"
      },
      {
        "duration": 6,
        "start_time": "2022-04-22T02:22:57.195Z"
      },
      {
        "duration": 3684,
        "start_time": "2022-04-22T02:22:57.844Z"
      },
      {
        "duration": 6,
        "start_time": "2022-04-22T02:27:50.726Z"
      },
      {
        "duration": 5,
        "start_time": "2022-04-22T02:32:34.275Z"
      },
      {
        "duration": 2393,
        "start_time": "2022-04-22T02:32:35.020Z"
      },
      {
        "duration": 5,
        "start_time": "2022-04-22T02:33:08.255Z"
      },
      {
        "duration": 2761,
        "start_time": "2022-04-22T02:33:08.999Z"
      },
      {
        "duration": 5,
        "start_time": "2022-04-22T02:33:27.220Z"
      },
      {
        "duration": 2637,
        "start_time": "2022-04-22T02:33:27.875Z"
      },
      {
        "duration": 5,
        "start_time": "2022-04-22T02:34:16.018Z"
      },
      {
        "duration": 2447,
        "start_time": "2022-04-22T02:34:16.636Z"
      },
      {
        "duration": 6,
        "start_time": "2022-04-22T02:37:31.707Z"
      },
      {
        "duration": 2847,
        "start_time": "2022-04-22T02:37:32.245Z"
      },
      {
        "duration": 242,
        "start_time": "2022-04-22T02:44:47.784Z"
      },
      {
        "duration": 215,
        "start_time": "2022-04-22T02:47:02.839Z"
      },
      {
        "duration": 1251,
        "start_time": "2022-04-22T02:48:51.375Z"
      },
      {
        "duration": 719,
        "start_time": "2022-04-22T02:49:06.214Z"
      },
      {
        "duration": 574,
        "start_time": "2022-04-22T02:49:33.434Z"
      },
      {
        "duration": 492,
        "start_time": "2022-04-22T02:50:14.290Z"
      },
      {
        "duration": 493,
        "start_time": "2022-04-22T02:50:21.161Z"
      },
      {
        "duration": 472,
        "start_time": "2022-04-22T02:51:19.323Z"
      },
      {
        "duration": 474,
        "start_time": "2022-04-22T02:51:45.821Z"
      },
      {
        "duration": 495,
        "start_time": "2022-04-22T02:51:59.473Z"
      },
      {
        "duration": 468,
        "start_time": "2022-04-22T02:52:24.922Z"
      },
      {
        "duration": 474,
        "start_time": "2022-04-22T02:52:32.016Z"
      },
      {
        "duration": 509,
        "start_time": "2022-04-22T02:52:38.953Z"
      },
      {
        "duration": 94,
        "start_time": "2022-04-22T02:52:50.200Z"
      },
      {
        "duration": 492,
        "start_time": "2022-04-22T02:52:55.052Z"
      },
      {
        "duration": 663,
        "start_time": "2022-04-22T02:55:28.246Z"
      },
      {
        "duration": 523,
        "start_time": "2022-04-22T02:55:31.884Z"
      },
      {
        "duration": 517,
        "start_time": "2022-04-22T02:55:35.494Z"
      },
      {
        "duration": 499,
        "start_time": "2022-04-22T02:56:04.624Z"
      },
      {
        "duration": 524,
        "start_time": "2022-04-22T02:56:39.593Z"
      },
      {
        "duration": 498,
        "start_time": "2022-04-22T02:56:56.248Z"
      },
      {
        "duration": 504,
        "start_time": "2022-04-22T02:57:09.814Z"
      },
      {
        "duration": 7,
        "start_time": "2022-04-22T03:00:54.977Z"
      },
      {
        "duration": 6,
        "start_time": "2022-04-22T03:01:49.514Z"
      },
      {
        "duration": 14,
        "start_time": "2022-04-22T03:03:21.288Z"
      },
      {
        "duration": 7,
        "start_time": "2022-04-22T03:03:43.812Z"
      },
      {
        "duration": 102,
        "start_time": "2022-04-22T03:03:51.490Z"
      },
      {
        "duration": 6,
        "start_time": "2022-04-22T03:03:54.233Z"
      },
      {
        "duration": 6,
        "start_time": "2022-04-22T03:04:18.869Z"
      },
      {
        "duration": 6,
        "start_time": "2022-04-22T03:04:33.769Z"
      },
      {
        "duration": 7,
        "start_time": "2022-04-22T03:05:02.821Z"
      },
      {
        "duration": 1674,
        "start_time": "2022-04-22T14:52:30.117Z"
      },
      {
        "duration": 31,
        "start_time": "2022-04-22T14:52:31.793Z"
      },
      {
        "duration": 50,
        "start_time": "2022-04-22T14:52:34.036Z"
      },
      {
        "duration": 10,
        "start_time": "2022-04-22T14:52:40.234Z"
      },
      {
        "duration": 213,
        "start_time": "2022-04-22T14:52:45.560Z"
      },
      {
        "duration": 195,
        "start_time": "2022-04-22T14:52:47.428Z"
      },
      {
        "duration": 425,
        "start_time": "2022-04-22T14:52:48.699Z"
      },
      {
        "duration": 214,
        "start_time": "2022-04-22T14:52:50.266Z"
      },
      {
        "duration": 212,
        "start_time": "2022-04-22T14:52:51.684Z"
      },
      {
        "duration": 5,
        "start_time": "2022-04-22T14:52:55.819Z"
      },
      {
        "duration": 30,
        "start_time": "2022-04-22T14:52:55.826Z"
      },
      {
        "duration": 46,
        "start_time": "2022-04-22T14:52:55.857Z"
      },
      {
        "duration": 6,
        "start_time": "2022-04-22T14:52:55.904Z"
      },
      {
        "duration": 242,
        "start_time": "2022-04-22T14:52:55.912Z"
      },
      {
        "duration": 209,
        "start_time": "2022-04-22T14:52:56.155Z"
      },
      {
        "duration": 348,
        "start_time": "2022-04-22T14:52:56.365Z"
      },
      {
        "duration": 217,
        "start_time": "2022-04-22T14:52:56.714Z"
      },
      {
        "duration": 220,
        "start_time": "2022-04-22T14:52:56.933Z"
      },
      {
        "duration": 21,
        "start_time": "2022-04-22T14:52:57.154Z"
      },
      {
        "duration": 4,
        "start_time": "2022-04-22T14:52:57.177Z"
      },
      {
        "duration": 1822,
        "start_time": "2022-04-22T14:52:57.182Z"
      },
      {
        "duration": 578,
        "start_time": "2022-04-22T14:52:59.005Z"
      },
      {
        "duration": 425,
        "start_time": "2022-04-22T14:52:59.586Z"
      },
      {
        "duration": 503,
        "start_time": "2022-04-22T14:53:00.014Z"
      },
      {
        "duration": 433,
        "start_time": "2022-04-22T14:53:00.519Z"
      },
      {
        "duration": 349,
        "start_time": "2022-04-22T14:53:00.954Z"
      },
      {
        "duration": 319,
        "start_time": "2022-04-22T14:53:01.305Z"
      },
      {
        "duration": 17,
        "start_time": "2022-04-22T14:53:01.625Z"
      },
      {
        "duration": 1470,
        "start_time": "2022-04-22T14:53:01.644Z"
      },
      {
        "duration": 5,
        "start_time": "2022-04-22T14:53:03.116Z"
      },
      {
        "duration": 44,
        "start_time": "2022-04-22T14:53:03.122Z"
      },
      {
        "duration": 4,
        "start_time": "2022-04-22T14:53:03.168Z"
      },
      {
        "duration": 103,
        "start_time": "2022-04-22T14:53:03.174Z"
      },
      {
        "duration": 96,
        "start_time": "2022-04-22T14:53:03.279Z"
      },
      {
        "duration": 351,
        "start_time": "2022-04-22T14:53:03.377Z"
      },
      {
        "duration": 9,
        "start_time": "2022-04-22T14:53:03.730Z"
      },
      {
        "duration": 614,
        "start_time": "2022-04-22T14:53:03.741Z"
      },
      {
        "duration": 107252,
        "start_time": "2022-04-22T14:53:04.357Z"
      },
      {
        "duration": 1274,
        "start_time": "2022-04-22T14:54:51.611Z"
      },
      {
        "duration": 7,
        "start_time": "2022-04-22T14:54:52.887Z"
      },
      {
        "duration": 25,
        "start_time": "2022-04-22T14:54:52.895Z"
      },
      {
        "duration": 3,
        "start_time": "2022-04-22T14:54:52.922Z"
      },
      {
        "duration": 14,
        "start_time": "2022-04-22T14:54:52.927Z"
      },
      {
        "duration": 12,
        "start_time": "2022-04-22T14:54:52.943Z"
      },
      {
        "duration": 4,
        "start_time": "2022-04-22T14:54:52.972Z"
      },
      {
        "duration": 1787,
        "start_time": "2022-04-22T14:54:52.978Z"
      },
      {
        "duration": 353,
        "start_time": "2022-04-22T14:54:54.767Z"
      },
      {
        "duration": 379,
        "start_time": "2022-04-22T14:54:55.122Z"
      },
      {
        "duration": 353,
        "start_time": "2022-04-22T14:54:55.503Z"
      },
      {
        "duration": 366,
        "start_time": "2022-04-22T14:54:55.860Z"
      },
      {
        "duration": 2097,
        "start_time": "2022-04-22T14:57:32.262Z"
      },
      {
        "duration": 1558,
        "start_time": "2022-04-22T14:57:45.564Z"
      },
      {
        "duration": 34,
        "start_time": "2022-04-22T14:57:47.124Z"
      },
      {
        "duration": 45,
        "start_time": "2022-04-22T14:57:47.160Z"
      },
      {
        "duration": 7,
        "start_time": "2022-04-22T14:57:47.207Z"
      },
      {
        "duration": 221,
        "start_time": "2022-04-22T14:57:47.216Z"
      },
      {
        "duration": 196,
        "start_time": "2022-04-22T14:57:47.439Z"
      },
      {
        "duration": 423,
        "start_time": "2022-04-22T14:57:47.637Z"
      },
      {
        "duration": 215,
        "start_time": "2022-04-22T14:57:48.061Z"
      },
      {
        "duration": 219,
        "start_time": "2022-04-22T14:57:48.277Z"
      },
      {
        "duration": 12,
        "start_time": "2022-04-22T14:57:48.497Z"
      },
      {
        "duration": 3,
        "start_time": "2022-04-22T14:57:48.511Z"
      },
      {
        "duration": 1785,
        "start_time": "2022-04-22T14:57:48.516Z"
      },
      {
        "duration": 582,
        "start_time": "2022-04-22T14:57:50.303Z"
      },
      {
        "duration": 514,
        "start_time": "2022-04-22T14:57:50.888Z"
      },
      {
        "duration": 503,
        "start_time": "2022-04-22T14:57:51.404Z"
      },
      {
        "duration": 300,
        "start_time": "2022-04-22T14:57:51.909Z"
      },
      {
        "duration": 308,
        "start_time": "2022-04-22T14:57:52.211Z"
      },
      {
        "duration": 292,
        "start_time": "2022-04-22T14:57:52.521Z"
      },
      {
        "duration": 16,
        "start_time": "2022-04-22T14:57:52.815Z"
      },
      {
        "duration": 1524,
        "start_time": "2022-04-22T14:57:52.833Z"
      },
      {
        "duration": 5,
        "start_time": "2022-04-22T14:57:54.359Z"
      },
      {
        "duration": 16,
        "start_time": "2022-04-22T14:57:54.365Z"
      },
      {
        "duration": 10,
        "start_time": "2022-04-22T14:57:54.382Z"
      },
      {
        "duration": 85,
        "start_time": "2022-04-22T14:57:54.394Z"
      },
      {
        "duration": 96,
        "start_time": "2022-04-22T14:57:54.481Z"
      },
      {
        "duration": 350,
        "start_time": "2022-04-22T14:57:54.578Z"
      },
      {
        "duration": 8,
        "start_time": "2022-04-22T14:57:54.930Z"
      },
      {
        "duration": 634,
        "start_time": "2022-04-22T14:57:54.939Z"
      },
      {
        "duration": 107404,
        "start_time": "2022-04-22T14:57:55.575Z"
      },
      {
        "duration": 1600,
        "start_time": "2022-04-22T14:59:42.981Z"
      },
      {
        "duration": 7,
        "start_time": "2022-04-22T14:59:44.582Z"
      },
      {
        "duration": 18,
        "start_time": "2022-04-22T14:59:44.590Z"
      },
      {
        "duration": 3,
        "start_time": "2022-04-22T14:59:44.610Z"
      },
      {
        "duration": 19,
        "start_time": "2022-04-22T14:59:44.615Z"
      },
      {
        "duration": 10,
        "start_time": "2022-04-22T14:59:44.635Z"
      },
      {
        "duration": 27,
        "start_time": "2022-04-22T14:59:44.647Z"
      },
      {
        "duration": 1785,
        "start_time": "2022-04-22T14:59:44.676Z"
      },
      {
        "duration": 347,
        "start_time": "2022-04-22T14:59:46.463Z"
      },
      {
        "duration": 351,
        "start_time": "2022-04-22T14:59:46.811Z"
      },
      {
        "duration": 355,
        "start_time": "2022-04-22T14:59:47.163Z"
      },
      {
        "duration": 385,
        "start_time": "2022-04-22T14:59:47.523Z"
      },
      {
        "duration": 116,
        "start_time": "2022-04-22T15:04:54.926Z"
      },
      {
        "duration": 5,
        "start_time": "2022-04-22T15:16:32.386Z"
      },
      {
        "duration": 160,
        "start_time": "2022-04-22T15:18:48.820Z"
      },
      {
        "duration": 48,
        "start_time": "2022-04-22T15:19:18.945Z"
      },
      {
        "duration": 87,
        "start_time": "2022-04-22T15:20:09.409Z"
      },
      {
        "duration": 369,
        "start_time": "2022-04-22T15:20:58.626Z"
      },
      {
        "duration": 4,
        "start_time": "2022-04-22T15:21:25.490Z"
      },
      {
        "duration": 10,
        "start_time": "2022-04-22T15:23:03.519Z"
      },
      {
        "duration": 4,
        "start_time": "2022-04-22T15:23:05.198Z"
      },
      {
        "duration": 41,
        "start_time": "2022-04-22T15:23:06.337Z"
      },
      {
        "duration": 5,
        "start_time": "2022-04-22T15:23:09.924Z"
      },
      {
        "duration": 388,
        "start_time": "2022-04-22T15:23:16.038Z"
      },
      {
        "duration": 5,
        "start_time": "2022-04-22T15:23:32.492Z"
      },
      {
        "duration": 170,
        "start_time": "2022-04-22T15:23:34.413Z"
      },
      {
        "duration": 359,
        "start_time": "2022-04-22T15:23:35.865Z"
      },
      {
        "duration": 12,
        "start_time": "2022-04-22T15:30:32.904Z"
      },
      {
        "duration": 1563,
        "start_time": "2022-04-22T15:33:47.690Z"
      },
      {
        "duration": 39,
        "start_time": "2022-04-22T15:33:49.255Z"
      },
      {
        "duration": 49,
        "start_time": "2022-04-22T15:33:49.297Z"
      },
      {
        "duration": 29,
        "start_time": "2022-04-22T15:33:49.348Z"
      },
      {
        "duration": 238,
        "start_time": "2022-04-22T15:33:49.379Z"
      },
      {
        "duration": 226,
        "start_time": "2022-04-22T15:33:49.619Z"
      },
      {
        "duration": 471,
        "start_time": "2022-04-22T15:33:49.847Z"
      },
      {
        "duration": 275,
        "start_time": "2022-04-22T15:33:50.320Z"
      },
      {
        "duration": 261,
        "start_time": "2022-04-22T15:33:50.597Z"
      },
      {
        "duration": 20,
        "start_time": "2022-04-22T15:33:50.872Z"
      },
      {
        "duration": 16,
        "start_time": "2022-04-22T15:33:50.894Z"
      },
      {
        "duration": 1844,
        "start_time": "2022-04-22T15:33:50.912Z"
      },
      {
        "duration": 650,
        "start_time": "2022-04-22T15:33:52.758Z"
      },
      {
        "duration": 608,
        "start_time": "2022-04-22T15:33:53.410Z"
      },
      {
        "duration": 568,
        "start_time": "2022-04-22T15:33:54.020Z"
      },
      {
        "duration": 342,
        "start_time": "2022-04-22T15:33:54.593Z"
      },
      {
        "duration": 352,
        "start_time": "2022-04-22T15:33:54.937Z"
      },
      {
        "duration": 364,
        "start_time": "2022-04-22T15:33:55.291Z"
      },
      {
        "duration": 33,
        "start_time": "2022-04-22T15:33:55.657Z"
      },
      {
        "duration": 1734,
        "start_time": "2022-04-22T15:33:55.692Z"
      },
      {
        "duration": 4,
        "start_time": "2022-04-22T15:33:57.427Z"
      },
      {
        "duration": 10,
        "start_time": "2022-04-22T15:33:57.433Z"
      },
      {
        "duration": 4,
        "start_time": "2022-04-22T15:33:57.445Z"
      },
      {
        "duration": 141,
        "start_time": "2022-04-22T15:33:57.451Z"
      },
      {
        "duration": 9,
        "start_time": "2022-04-22T15:33:57.676Z"
      },
      {
        "duration": 372,
        "start_time": "2022-04-22T15:33:57.688Z"
      },
      {
        "duration": 4,
        "start_time": "2022-04-22T15:33:58.062Z"
      },
      {
        "duration": 101,
        "start_time": "2022-04-22T15:33:58.076Z"
      },
      {
        "duration": 484,
        "start_time": "2022-04-22T15:33:58.179Z"
      },
      {
        "duration": 12,
        "start_time": "2022-04-22T15:33:58.665Z"
      },
      {
        "duration": 620,
        "start_time": "2022-04-22T15:33:58.679Z"
      },
      {
        "duration": 2,
        "start_time": "2022-04-22T15:33:59.301Z"
      },
      {
        "duration": 1193,
        "start_time": "2022-04-22T15:33:59.304Z"
      },
      {
        "duration": 9,
        "start_time": "2022-04-22T15:34:00.581Z"
      },
      {
        "duration": 20,
        "start_time": "2022-04-22T15:34:00.592Z"
      },
      {
        "duration": 13,
        "start_time": "2022-04-22T15:34:00.614Z"
      },
      {
        "duration": 26,
        "start_time": "2022-04-22T15:34:00.629Z"
      },
      {
        "duration": 15,
        "start_time": "2022-04-22T15:34:00.656Z"
      },
      {
        "duration": 14,
        "start_time": "2022-04-22T15:34:00.672Z"
      },
      {
        "duration": 2017,
        "start_time": "2022-04-22T15:34:00.688Z"
      },
      {
        "duration": 359,
        "start_time": "2022-04-22T15:34:02.707Z"
      },
      {
        "duration": 379,
        "start_time": "2022-04-22T15:34:03.073Z"
      },
      {
        "duration": 498,
        "start_time": "2022-04-22T15:34:03.455Z"
      },
      {
        "duration": 393,
        "start_time": "2022-04-22T15:34:03.955Z"
      },
      {
        "duration": 1084,
        "start_time": "2022-04-22T15:38:16.611Z"
      },
      {
        "duration": 6,
        "start_time": "2022-04-22T15:38:19.341Z"
      },
      {
        "duration": 1195,
        "start_time": "2022-04-22T15:38:50.493Z"
      },
      {
        "duration": 8,
        "start_time": "2022-04-22T15:38:52.787Z"
      },
      {
        "duration": 1318,
        "start_time": "2022-04-22T15:38:56.574Z"
      },
      {
        "duration": 91,
        "start_time": "2022-04-22T15:38:57.894Z"
      },
      {
        "duration": 1228,
        "start_time": "2022-04-22T15:41:05.049Z"
      },
      {
        "duration": 8,
        "start_time": "2022-04-22T15:41:06.280Z"
      },
      {
        "duration": 1162,
        "start_time": "2022-04-22T15:41:08.333Z"
      },
      {
        "duration": 7,
        "start_time": "2022-04-22T15:41:09.987Z"
      },
      {
        "duration": 1286,
        "start_time": "2022-04-22T15:41:11.996Z"
      },
      {
        "duration": 6,
        "start_time": "2022-04-22T15:41:14.344Z"
      },
      {
        "duration": 1254,
        "start_time": "2022-04-22T15:41:26.443Z"
      },
      {
        "duration": 6,
        "start_time": "2022-04-22T15:41:28.225Z"
      },
      {
        "duration": 1741,
        "start_time": "2022-04-22T17:30:42.701Z"
      },
      {
        "duration": 30,
        "start_time": "2022-04-22T17:30:44.444Z"
      },
      {
        "duration": 42,
        "start_time": "2022-04-22T17:30:44.475Z"
      },
      {
        "duration": 7,
        "start_time": "2022-04-22T17:30:44.518Z"
      },
      {
        "duration": 204,
        "start_time": "2022-04-22T17:30:44.528Z"
      },
      {
        "duration": 180,
        "start_time": "2022-04-22T17:30:44.734Z"
      },
      {
        "duration": 367,
        "start_time": "2022-04-22T17:30:44.915Z"
      },
      {
        "duration": 192,
        "start_time": "2022-04-22T17:30:45.284Z"
      },
      {
        "duration": 190,
        "start_time": "2022-04-22T17:30:45.478Z"
      },
      {
        "duration": 12,
        "start_time": "2022-04-22T17:30:45.670Z"
      },
      {
        "duration": 17,
        "start_time": "2022-04-22T17:30:45.684Z"
      },
      {
        "duration": 1634,
        "start_time": "2022-04-22T17:30:45.703Z"
      },
      {
        "duration": 551,
        "start_time": "2022-04-22T17:30:47.339Z"
      },
      {
        "duration": 449,
        "start_time": "2022-04-22T17:30:47.899Z"
      },
      {
        "duration": 428,
        "start_time": "2022-04-22T17:30:48.350Z"
      },
      {
        "duration": 261,
        "start_time": "2022-04-22T17:30:48.780Z"
      },
      {
        "duration": 279,
        "start_time": "2022-04-22T17:30:49.043Z"
      },
      {
        "duration": 256,
        "start_time": "2022-04-22T17:30:49.324Z"
      },
      {
        "duration": 19,
        "start_time": "2022-04-22T17:30:49.582Z"
      },
      {
        "duration": 1318,
        "start_time": "2022-04-22T17:30:49.602Z"
      },
      {
        "duration": 5,
        "start_time": "2022-04-22T17:30:50.922Z"
      },
      {
        "duration": 9,
        "start_time": "2022-04-22T17:30:50.929Z"
      },
      {
        "duration": 4,
        "start_time": "2022-04-22T17:30:50.939Z"
      },
      {
        "duration": 63,
        "start_time": "2022-04-22T17:30:50.945Z"
      },
      {
        "duration": 93,
        "start_time": "2022-04-22T17:30:51.010Z"
      },
      {
        "duration": 382,
        "start_time": "2022-04-22T17:30:51.105Z"
      },
      {
        "duration": 11,
        "start_time": "2022-04-22T17:30:51.489Z"
      },
      {
        "duration": 106,
        "start_time": "2022-04-22T17:30:51.501Z"
      },
      {
        "duration": 504,
        "start_time": "2022-04-22T17:30:51.609Z"
      },
      {
        "duration": 7,
        "start_time": "2022-04-22T17:30:52.114Z"
      },
      {
        "duration": 518,
        "start_time": "2022-04-22T17:30:52.122Z"
      },
      {
        "duration": 3,
        "start_time": "2022-04-22T17:30:52.642Z"
      },
      {
        "duration": 1258,
        "start_time": "2022-04-22T17:30:52.647Z"
      },
      {
        "duration": 96,
        "start_time": "2022-04-22T17:30:53.907Z"
      },
      {
        "duration": 12,
        "start_time": "2022-04-22T17:30:54.006Z"
      },
      {
        "duration": 3,
        "start_time": "2022-04-22T17:30:54.020Z"
      },
      {
        "duration": 12,
        "start_time": "2022-04-22T17:30:54.024Z"
      },
      {
        "duration": 8,
        "start_time": "2022-04-22T17:30:54.038Z"
      },
      {
        "duration": 3,
        "start_time": "2022-04-22T17:30:54.048Z"
      },
      {
        "duration": 1807,
        "start_time": "2022-04-22T17:30:54.052Z"
      },
      {
        "duration": 337,
        "start_time": "2022-04-22T17:30:55.863Z"
      },
      {
        "duration": 325,
        "start_time": "2022-04-22T17:30:56.202Z"
      },
      {
        "duration": 397,
        "start_time": "2022-04-22T17:30:56.529Z"
      },
      {
        "duration": 305,
        "start_time": "2022-04-22T17:30:56.928Z"
      },
      {
        "duration": 1405,
        "start_time": "2022-04-22T17:31:13.795Z"
      },
      {
        "duration": 6,
        "start_time": "2022-04-22T17:31:18.464Z"
      },
      {
        "duration": 11,
        "start_time": "2022-04-22T17:31:22.217Z"
      },
      {
        "duration": 4,
        "start_time": "2022-04-22T17:58:43.229Z"
      },
      {
        "duration": 1754,
        "start_time": "2022-04-22T17:58:44.410Z"
      },
      {
        "duration": 4,
        "start_time": "2022-04-22T17:59:07.038Z"
      },
      {
        "duration": 1853,
        "start_time": "2022-04-22T17:59:07.529Z"
      },
      {
        "duration": 1580,
        "start_time": "2022-04-22T18:24:01.213Z"
      },
      {
        "duration": 39,
        "start_time": "2022-04-22T18:24:02.794Z"
      },
      {
        "duration": 46,
        "start_time": "2022-04-22T18:24:02.835Z"
      },
      {
        "duration": 7,
        "start_time": "2022-04-22T18:24:02.882Z"
      },
      {
        "duration": 192,
        "start_time": "2022-04-22T18:24:02.890Z"
      },
      {
        "duration": 191,
        "start_time": "2022-04-22T18:24:03.084Z"
      },
      {
        "duration": 396,
        "start_time": "2022-04-22T18:24:03.277Z"
      },
      {
        "duration": 215,
        "start_time": "2022-04-22T18:24:03.675Z"
      },
      {
        "duration": 203,
        "start_time": "2022-04-22T18:24:03.891Z"
      },
      {
        "duration": 17,
        "start_time": "2022-04-22T18:24:04.097Z"
      },
      {
        "duration": 5,
        "start_time": "2022-04-22T18:24:04.115Z"
      },
      {
        "duration": 1725,
        "start_time": "2022-04-22T18:24:04.122Z"
      },
      {
        "duration": 566,
        "start_time": "2022-04-22T18:24:05.849Z"
      },
      {
        "duration": 461,
        "start_time": "2022-04-22T18:24:06.417Z"
      },
      {
        "duration": 443,
        "start_time": "2022-04-22T18:24:06.880Z"
      },
      {
        "duration": 283,
        "start_time": "2022-04-22T18:24:07.325Z"
      },
      {
        "duration": 291,
        "start_time": "2022-04-22T18:24:07.610Z"
      },
      {
        "duration": 303,
        "start_time": "2022-04-22T18:24:07.904Z"
      },
      {
        "duration": 17,
        "start_time": "2022-04-22T18:24:08.209Z"
      },
      {
        "duration": 1361,
        "start_time": "2022-04-22T18:24:08.228Z"
      },
      {
        "duration": 4,
        "start_time": "2022-04-22T18:24:09.591Z"
      },
      {
        "duration": 22,
        "start_time": "2022-04-22T18:24:09.597Z"
      },
      {
        "duration": 3,
        "start_time": "2022-04-22T18:24:09.621Z"
      },
      {
        "duration": 88,
        "start_time": "2022-04-22T18:24:09.625Z"
      },
      {
        "duration": 6,
        "start_time": "2022-04-22T18:24:09.714Z"
      },
      {
        "duration": 328,
        "start_time": "2022-04-22T18:24:09.801Z"
      },
      {
        "duration": 3,
        "start_time": "2022-04-22T18:24:10.131Z"
      },
      {
        "duration": 73,
        "start_time": "2022-04-22T18:24:10.137Z"
      },
      {
        "duration": 425,
        "start_time": "2022-04-22T18:24:10.212Z"
      },
      {
        "duration": 6,
        "start_time": "2022-04-22T18:24:10.639Z"
      },
      {
        "duration": 584,
        "start_time": "2022-04-22T18:24:10.646Z"
      },
      {
        "duration": 101350,
        "start_time": "2022-04-22T18:24:11.232Z"
      },
      {
        "duration": 1020,
        "start_time": "2022-04-22T18:25:52.584Z"
      },
      {
        "duration": 8,
        "start_time": "2022-04-22T18:25:53.606Z"
      },
      {
        "duration": 109,
        "start_time": "2022-04-22T18:25:53.616Z"
      },
      {
        "duration": 4,
        "start_time": "2022-04-22T18:25:53.726Z"
      },
      {
        "duration": 5,
        "start_time": "2022-04-22T18:25:53.732Z"
      },
      {
        "duration": 1739,
        "start_time": "2022-04-22T18:25:53.738Z"
      },
      {
        "duration": 353,
        "start_time": "2022-04-22T18:25:55.479Z"
      },
      {
        "duration": 343,
        "start_time": "2022-04-22T18:25:55.833Z"
      },
      {
        "duration": 357,
        "start_time": "2022-04-22T18:25:56.178Z"
      },
      {
        "duration": 341,
        "start_time": "2022-04-22T18:25:56.537Z"
      },
      {
        "duration": 2985,
        "start_time": "2022-04-24T06:41:33.595Z"
      },
      {
        "duration": 54,
        "start_time": "2022-04-24T06:41:36.582Z"
      },
      {
        "duration": 44,
        "start_time": "2022-04-24T06:41:36.639Z"
      },
      {
        "duration": 8,
        "start_time": "2022-04-24T06:41:36.684Z"
      },
      {
        "duration": 332,
        "start_time": "2022-04-24T06:41:36.694Z"
      },
      {
        "duration": 221,
        "start_time": "2022-04-24T06:41:37.028Z"
      },
      {
        "duration": 382,
        "start_time": "2022-04-24T06:41:37.251Z"
      },
      {
        "duration": 209,
        "start_time": "2022-04-24T06:41:37.634Z"
      },
      {
        "duration": 207,
        "start_time": "2022-04-24T06:41:37.845Z"
      },
      {
        "duration": 12,
        "start_time": "2022-04-24T06:41:38.054Z"
      },
      {
        "duration": 4,
        "start_time": "2022-04-24T06:41:38.068Z"
      },
      {
        "duration": 1832,
        "start_time": "2022-04-24T06:41:38.073Z"
      },
      {
        "duration": 583,
        "start_time": "2022-04-24T06:41:39.907Z"
      },
      {
        "duration": 494,
        "start_time": "2022-04-24T06:41:40.493Z"
      },
      {
        "duration": 476,
        "start_time": "2022-04-24T06:41:40.989Z"
      },
      {
        "duration": 276,
        "start_time": "2022-04-24T06:41:41.467Z"
      },
      {
        "duration": 291,
        "start_time": "2022-04-24T06:41:41.745Z"
      },
      {
        "duration": 269,
        "start_time": "2022-04-24T06:41:42.038Z"
      },
      {
        "duration": 24,
        "start_time": "2022-04-24T06:41:42.308Z"
      },
      {
        "duration": 1513,
        "start_time": "2022-04-24T06:41:42.334Z"
      },
      {
        "duration": 4,
        "start_time": "2022-04-24T06:41:43.849Z"
      },
      {
        "duration": 12,
        "start_time": "2022-04-24T06:41:43.855Z"
      },
      {
        "duration": 7,
        "start_time": "2022-04-24T06:42:33.229Z"
      },
      {
        "duration": 5,
        "start_time": "2022-04-24T06:43:09.470Z"
      },
      {
        "duration": 4,
        "start_time": "2022-04-24T06:43:15.073Z"
      },
      {
        "duration": 19,
        "start_time": "2022-04-24T06:43:41.737Z"
      },
      {
        "duration": 3,
        "start_time": "2022-04-24T06:43:54.444Z"
      },
      {
        "duration": 1625,
        "start_time": "2022-04-24T06:48:58.999Z"
      },
      {
        "duration": 53,
        "start_time": "2022-04-24T06:49:00.627Z"
      },
      {
        "duration": 45,
        "start_time": "2022-04-24T06:49:00.682Z"
      },
      {
        "duration": 7,
        "start_time": "2022-04-24T06:49:00.729Z"
      },
      {
        "duration": 210,
        "start_time": "2022-04-24T06:49:00.738Z"
      },
      {
        "duration": 202,
        "start_time": "2022-04-24T06:49:00.950Z"
      },
      {
        "duration": 395,
        "start_time": "2022-04-24T06:49:01.154Z"
      },
      {
        "duration": 200,
        "start_time": "2022-04-24T06:49:01.550Z"
      },
      {
        "duration": 201,
        "start_time": "2022-04-24T06:49:01.751Z"
      },
      {
        "duration": 11,
        "start_time": "2022-04-24T06:49:01.955Z"
      },
      {
        "duration": 4,
        "start_time": "2022-04-24T06:49:01.968Z"
      },
      {
        "duration": 1735,
        "start_time": "2022-04-24T06:49:01.973Z"
      },
      {
        "duration": 622,
        "start_time": "2022-04-24T06:49:03.710Z"
      },
      {
        "duration": 519,
        "start_time": "2022-04-24T06:49:04.334Z"
      },
      {
        "duration": 756,
        "start_time": "2022-04-24T06:49:04.855Z"
      },
      {
        "duration": 280,
        "start_time": "2022-04-24T06:49:05.613Z"
      },
      {
        "duration": 311,
        "start_time": "2022-04-24T06:49:05.895Z"
      },
      {
        "duration": 297,
        "start_time": "2022-04-24T06:49:06.207Z"
      },
      {
        "duration": 21,
        "start_time": "2022-04-24T06:49:06.507Z"
      },
      {
        "duration": 1569,
        "start_time": "2022-04-24T06:49:06.530Z"
      },
      {
        "duration": 5,
        "start_time": "2022-04-24T06:49:08.102Z"
      },
      {
        "duration": 9,
        "start_time": "2022-04-24T06:49:08.110Z"
      },
      {
        "duration": 111,
        "start_time": "2022-04-24T06:49:08.121Z"
      },
      {
        "duration": 0,
        "start_time": "2022-04-24T06:49:08.234Z"
      },
      {
        "duration": 0,
        "start_time": "2022-04-24T06:49:08.236Z"
      },
      {
        "duration": 0,
        "start_time": "2022-04-24T06:49:08.237Z"
      },
      {
        "duration": 0,
        "start_time": "2022-04-24T06:49:08.238Z"
      },
      {
        "duration": 0,
        "start_time": "2022-04-24T06:49:08.240Z"
      },
      {
        "duration": 0,
        "start_time": "2022-04-24T06:49:08.241Z"
      },
      {
        "duration": 7,
        "start_time": "2022-04-24T06:49:20.670Z"
      },
      {
        "duration": 44,
        "start_time": "2022-04-24T06:49:20.679Z"
      },
      {
        "duration": 64,
        "start_time": "2022-04-24T06:49:20.726Z"
      },
      {
        "duration": 8,
        "start_time": "2022-04-24T06:49:20.792Z"
      },
      {
        "duration": 340,
        "start_time": "2022-04-24T06:49:20.804Z"
      },
      {
        "duration": 283,
        "start_time": "2022-04-24T06:49:21.146Z"
      },
      {
        "duration": 494,
        "start_time": "2022-04-24T06:49:21.431Z"
      },
      {
        "duration": 299,
        "start_time": "2022-04-24T06:49:21.927Z"
      },
      {
        "duration": 322,
        "start_time": "2022-04-24T06:49:22.228Z"
      },
      {
        "duration": 17,
        "start_time": "2022-04-24T06:49:22.552Z"
      },
      {
        "duration": 5,
        "start_time": "2022-04-24T06:49:22.571Z"
      },
      {
        "duration": 2461,
        "start_time": "2022-04-24T06:49:22.578Z"
      },
      {
        "duration": 861,
        "start_time": "2022-04-24T06:49:25.041Z"
      },
      {
        "duration": 633,
        "start_time": "2022-04-24T06:49:25.906Z"
      },
      {
        "duration": 727,
        "start_time": "2022-04-24T06:49:26.541Z"
      },
      {
        "duration": 589,
        "start_time": "2022-04-24T06:49:27.270Z"
      },
      {
        "duration": 482,
        "start_time": "2022-04-24T06:49:27.861Z"
      },
      {
        "duration": 426,
        "start_time": "2022-04-24T06:49:28.345Z"
      },
      {
        "duration": 21,
        "start_time": "2022-04-24T06:49:28.774Z"
      },
      {
        "duration": 1953,
        "start_time": "2022-04-24T06:49:28.797Z"
      },
      {
        "duration": 5,
        "start_time": "2022-04-24T06:49:30.752Z"
      },
      {
        "duration": 44,
        "start_time": "2022-04-24T06:49:30.759Z"
      },
      {
        "duration": 25,
        "start_time": "2022-04-24T06:49:30.805Z"
      },
      {
        "duration": 0,
        "start_time": "2022-04-24T06:49:30.832Z"
      },
      {
        "duration": 0,
        "start_time": "2022-04-24T06:49:30.833Z"
      },
      {
        "duration": 0,
        "start_time": "2022-04-24T06:49:30.834Z"
      },
      {
        "duration": 0,
        "start_time": "2022-04-24T06:49:30.836Z"
      },
      {
        "duration": 0,
        "start_time": "2022-04-24T06:49:30.837Z"
      },
      {
        "duration": 0,
        "start_time": "2022-04-24T06:49:30.838Z"
      },
      {
        "duration": 7,
        "start_time": "2022-04-24T06:50:02.003Z"
      },
      {
        "duration": 49,
        "start_time": "2022-04-24T06:50:02.012Z"
      },
      {
        "duration": 68,
        "start_time": "2022-04-24T06:50:02.063Z"
      },
      {
        "duration": 8,
        "start_time": "2022-04-24T06:50:02.134Z"
      },
      {
        "duration": 312,
        "start_time": "2022-04-24T06:50:02.145Z"
      },
      {
        "duration": 307,
        "start_time": "2022-04-24T06:50:02.459Z"
      },
      {
        "duration": 658,
        "start_time": "2022-04-24T06:50:02.767Z"
      },
      {
        "duration": 336,
        "start_time": "2022-04-24T06:50:03.427Z"
      },
      {
        "duration": 342,
        "start_time": "2022-04-24T06:50:03.766Z"
      },
      {
        "duration": 21,
        "start_time": "2022-04-24T06:50:04.110Z"
      },
      {
        "duration": 5,
        "start_time": "2022-04-24T06:50:04.133Z"
      },
      {
        "duration": 2219,
        "start_time": "2022-04-24T06:50:04.140Z"
      },
      {
        "duration": 983,
        "start_time": "2022-04-24T06:50:06.361Z"
      },
      {
        "duration": 730,
        "start_time": "2022-04-24T06:50:07.349Z"
      },
      {
        "duration": 770,
        "start_time": "2022-04-24T06:50:08.082Z"
      },
      {
        "duration": 471,
        "start_time": "2022-04-24T06:50:08.854Z"
      },
      {
        "duration": 476,
        "start_time": "2022-04-24T06:50:09.327Z"
      },
      {
        "duration": 619,
        "start_time": "2022-04-24T06:50:09.806Z"
      },
      {
        "duration": 16,
        "start_time": "2022-04-24T06:50:10.427Z"
      },
      {
        "duration": 1403,
        "start_time": "2022-04-24T06:50:10.445Z"
      },
      {
        "duration": 4,
        "start_time": "2022-04-24T06:50:11.849Z"
      },
      {
        "duration": 11,
        "start_time": "2022-04-24T06:50:11.855Z"
      },
      {
        "duration": 11,
        "start_time": "2022-04-24T06:50:11.867Z"
      },
      {
        "duration": 0,
        "start_time": "2022-04-24T06:50:11.880Z"
      },
      {
        "duration": 0,
        "start_time": "2022-04-24T06:50:11.881Z"
      },
      {
        "duration": 0,
        "start_time": "2022-04-24T06:50:11.882Z"
      },
      {
        "duration": 0,
        "start_time": "2022-04-24T06:50:11.884Z"
      },
      {
        "duration": 0,
        "start_time": "2022-04-24T06:50:11.885Z"
      },
      {
        "duration": 0,
        "start_time": "2022-04-24T06:50:11.886Z"
      },
      {
        "duration": 0,
        "start_time": "2022-04-24T06:50:11.887Z"
      },
      {
        "duration": 0,
        "start_time": "2022-04-24T06:50:11.922Z"
      },
      {
        "duration": 0,
        "start_time": "2022-04-24T06:50:11.924Z"
      },
      {
        "duration": 4,
        "start_time": "2022-04-24T06:50:42.994Z"
      },
      {
        "duration": 183,
        "start_time": "2022-04-24T06:50:43.839Z"
      },
      {
        "duration": 4,
        "start_time": "2022-04-24T06:50:46.177Z"
      },
      {
        "duration": 312,
        "start_time": "2022-04-24T06:50:48.716Z"
      },
      {
        "duration": 4,
        "start_time": "2022-04-24T06:51:02.040Z"
      },
      {
        "duration": 261,
        "start_time": "2022-04-24T06:51:02.462Z"
      },
      {
        "duration": 352,
        "start_time": "2022-04-24T06:51:03.659Z"
      },
      {
        "duration": 9,
        "start_time": "2022-04-24T06:51:12.463Z"
      },
      {
        "duration": 5,
        "start_time": "2022-04-24T06:51:13.152Z"
      },
      {
        "duration": 20,
        "start_time": "2022-04-24T06:51:13.913Z"
      },
      {
        "duration": 6,
        "start_time": "2022-04-24T06:51:15.274Z"
      },
      {
        "duration": 77,
        "start_time": "2022-04-24T06:52:07.651Z"
      },
      {
        "duration": 6,
        "start_time": "2022-04-24T06:52:13.114Z"
      },
      {
        "duration": 95,
        "start_time": "2022-04-24T06:52:18.839Z"
      },
      {
        "duration": 23,
        "start_time": "2022-04-24T06:52:22.765Z"
      },
      {
        "duration": 118,
        "start_time": "2022-04-24T06:52:25.705Z"
      },
      {
        "duration": 325,
        "start_time": "2022-04-24T06:52:34.099Z"
      },
      {
        "duration": 333,
        "start_time": "2022-04-24T06:52:37.683Z"
      },
      {
        "duration": 104,
        "start_time": "2022-04-24T06:52:43.323Z"
      },
      {
        "duration": 5,
        "start_time": "2022-04-24T06:52:53.588Z"
      },
      {
        "duration": 341,
        "start_time": "2022-04-24T06:53:17.681Z"
      },
      {
        "duration": 1989,
        "start_time": "2022-04-24T06:54:01.852Z"
      },
      {
        "duration": 34,
        "start_time": "2022-04-24T06:54:03.843Z"
      },
      {
        "duration": 44,
        "start_time": "2022-04-24T06:54:03.879Z"
      },
      {
        "duration": 8,
        "start_time": "2022-04-24T06:54:03.926Z"
      },
      {
        "duration": 220,
        "start_time": "2022-04-24T06:54:03.936Z"
      },
      {
        "duration": 306,
        "start_time": "2022-04-24T06:54:04.158Z"
      },
      {
        "duration": 620,
        "start_time": "2022-04-24T06:54:04.467Z"
      },
      {
        "duration": 344,
        "start_time": "2022-04-24T06:54:05.089Z"
      },
      {
        "duration": 309,
        "start_time": "2022-04-24T06:54:05.436Z"
      },
      {
        "duration": 12,
        "start_time": "2022-04-24T06:54:05.747Z"
      },
      {
        "duration": 4,
        "start_time": "2022-04-24T06:54:05.760Z"
      },
      {
        "duration": 1889,
        "start_time": "2022-04-24T06:54:05.766Z"
      },
      {
        "duration": 691,
        "start_time": "2022-04-24T06:54:07.656Z"
      },
      {
        "duration": 500,
        "start_time": "2022-04-24T06:54:08.351Z"
      },
      {
        "duration": 488,
        "start_time": "2022-04-24T06:54:08.852Z"
      },
      {
        "duration": 296,
        "start_time": "2022-04-24T06:54:09.342Z"
      },
      {
        "duration": 313,
        "start_time": "2022-04-24T06:54:09.641Z"
      },
      {
        "duration": 296,
        "start_time": "2022-04-24T06:54:09.957Z"
      },
      {
        "duration": 16,
        "start_time": "2022-04-24T06:54:10.255Z"
      },
      {
        "duration": 1573,
        "start_time": "2022-04-24T06:54:10.274Z"
      },
      {
        "duration": 6,
        "start_time": "2022-04-24T06:54:11.850Z"
      },
      {
        "duration": 10,
        "start_time": "2022-04-24T06:54:11.858Z"
      },
      {
        "duration": 4,
        "start_time": "2022-04-24T06:54:11.870Z"
      },
      {
        "duration": 60,
        "start_time": "2022-04-24T06:54:11.876Z"
      },
      {
        "duration": 85,
        "start_time": "2022-04-24T06:54:11.938Z"
      },
      {
        "duration": 451,
        "start_time": "2022-04-24T06:54:12.026Z"
      },
      {
        "duration": 6,
        "start_time": "2022-04-24T06:54:12.479Z"
      },
      {
        "duration": 57,
        "start_time": "2022-04-24T06:54:12.487Z"
      },
      {
        "duration": 579,
        "start_time": "2022-04-24T06:54:12.624Z"
      },
      {
        "duration": 18,
        "start_time": "2022-04-24T06:54:13.206Z"
      },
      {
        "duration": 6,
        "start_time": "2022-04-24T06:54:13.226Z"
      },
      {
        "duration": 95,
        "start_time": "2022-04-24T06:54:13.234Z"
      },
      {
        "duration": 5,
        "start_time": "2022-04-24T06:54:13.333Z"
      },
      {
        "duration": 432,
        "start_time": "2022-04-24T06:54:13.339Z"
      },
      {
        "duration": 2078,
        "start_time": "2022-04-24T07:05:18.047Z"
      },
      {
        "duration": 52,
        "start_time": "2022-04-24T07:05:20.128Z"
      },
      {
        "duration": 66,
        "start_time": "2022-04-24T07:05:20.182Z"
      },
      {
        "duration": 9,
        "start_time": "2022-04-24T07:05:20.251Z"
      },
      {
        "duration": 325,
        "start_time": "2022-04-24T07:05:20.262Z"
      },
      {
        "duration": 201,
        "start_time": "2022-04-24T07:05:20.589Z"
      },
      {
        "duration": 409,
        "start_time": "2022-04-24T07:05:20.792Z"
      },
      {
        "duration": 332,
        "start_time": "2022-04-24T07:05:21.203Z"
      },
      {
        "duration": 335,
        "start_time": "2022-04-24T07:05:21.538Z"
      },
      {
        "duration": 18,
        "start_time": "2022-04-24T07:05:21.877Z"
      },
      {
        "duration": 5,
        "start_time": "2022-04-24T07:05:21.897Z"
      },
      {
        "duration": 1808,
        "start_time": "2022-04-24T07:05:21.903Z"
      },
      {
        "duration": 578,
        "start_time": "2022-04-24T07:05:23.712Z"
      },
      {
        "duration": 494,
        "start_time": "2022-04-24T07:05:24.293Z"
      },
      {
        "duration": 736,
        "start_time": "2022-04-24T07:05:24.790Z"
      },
      {
        "duration": 452,
        "start_time": "2022-04-24T07:05:25.528Z"
      },
      {
        "duration": 508,
        "start_time": "2022-04-24T07:05:25.982Z"
      },
      {
        "duration": 453,
        "start_time": "2022-04-24T07:05:26.492Z"
      },
      {
        "duration": 15,
        "start_time": "2022-04-24T07:05:26.948Z"
      },
      {
        "duration": 1502,
        "start_time": "2022-04-24T07:05:26.965Z"
      },
      {
        "duration": 4,
        "start_time": "2022-04-24T07:05:28.469Z"
      },
      {
        "duration": 27,
        "start_time": "2022-04-24T07:05:28.475Z"
      },
      {
        "duration": 19,
        "start_time": "2022-04-24T07:05:28.504Z"
      },
      {
        "duration": 59,
        "start_time": "2022-04-24T07:05:28.525Z"
      },
      {
        "duration": 7,
        "start_time": "2022-04-24T07:05:28.625Z"
      },
      {
        "duration": 441,
        "start_time": "2022-04-24T07:05:28.633Z"
      },
      {
        "duration": 4,
        "start_time": "2022-04-24T07:05:29.075Z"
      },
      {
        "duration": 345,
        "start_time": "2022-04-24T07:05:29.083Z"
      },
      {
        "duration": 462,
        "start_time": "2022-04-24T07:05:29.431Z"
      },
      {
        "duration": 9,
        "start_time": "2022-04-24T07:05:29.896Z"
      },
      {
        "duration": 17,
        "start_time": "2022-04-24T07:05:29.907Z"
      },
      {
        "duration": 105,
        "start_time": "2022-04-24T07:05:29.925Z"
      },
      {
        "duration": 90,
        "start_time": "2022-04-24T07:05:30.032Z"
      },
      {
        "duration": 488,
        "start_time": "2022-04-24T07:05:30.124Z"
      },
      {
        "duration": 13,
        "start_time": "2022-04-24T07:05:30.614Z"
      },
      {
        "duration": 552,
        "start_time": "2022-04-24T07:05:30.629Z"
      },
      {
        "duration": 101431,
        "start_time": "2022-04-24T07:05:31.182Z"
      },
      {
        "duration": 1609,
        "start_time": "2022-04-24T07:07:12.614Z"
      },
      {
        "duration": 7,
        "start_time": "2022-04-24T07:07:14.224Z"
      },
      {
        "duration": 13,
        "start_time": "2022-04-24T07:07:14.233Z"
      },
      {
        "duration": 3,
        "start_time": "2022-04-24T07:07:14.248Z"
      },
      {
        "duration": 5,
        "start_time": "2022-04-24T07:07:14.253Z"
      },
      {
        "duration": 1850,
        "start_time": "2022-04-24T07:07:14.260Z"
      },
      {
        "duration": 344,
        "start_time": "2022-04-24T07:07:16.112Z"
      },
      {
        "duration": 377,
        "start_time": "2022-04-24T07:07:16.458Z"
      },
      {
        "duration": 349,
        "start_time": "2022-04-24T07:07:16.837Z"
      },
      {
        "duration": 367,
        "start_time": "2022-04-24T07:07:17.188Z"
      }
    ],
    "kernelspec": {
      "display_name": "Python 3 (ipykernel)",
      "language": "python",
      "name": "python3"
    },
    "language_info": {
      "codemirror_mode": {
        "name": "ipython",
        "version": 3
      },
      "file_extension": ".py",
      "mimetype": "text/x-python",
      "name": "python",
      "nbconvert_exporter": "python",
      "pygments_lexer": "ipython3",
      "version": "3.9.5"
    },
    "toc": {
      "base_numbering": 1,
      "nav_menu": {},
      "number_sections": true,
      "sideBar": true,
      "skip_h1_title": true,
      "title_cell": "Table of Contents",
      "title_sidebar": "Contents",
      "toc_cell": false,
      "toc_position": {},
      "toc_section_display": true,
      "toc_window_display": false
    },
    "colab": {
      "name": "d733b38b-917d-4b37-bb44-0aa0b13ec735.ipynb",
      "provenance": []
    }
  },
  "nbformat": 4,
  "nbformat_minor": 0
}