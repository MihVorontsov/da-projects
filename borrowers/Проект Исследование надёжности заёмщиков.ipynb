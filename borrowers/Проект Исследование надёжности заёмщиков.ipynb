{
 "cells": [
  {
   "cell_type": "markdown",
   "metadata": {},
   "source": [
    "# Исследование надёжности заёмщиков\n",
    "\n",
    "* Заказчик — кредитный отдел банка.\n",
    "* Вопрос: влияет ли семейное положение и количество детей клиента на факт погашения кредита в срок.\n",
    "* Входные данные от банка — статистика о платёжеспособности клиентов.\n",
    "\n",
    "Результаты исследования будут учтены при построении модели **кредитного скоринга** — специальной системы, которая оценивает способность потенциального заёмщика вернуть кредит банку."
   ]
  },
  {
   "cell_type": "markdown",
   "metadata": {},
   "source": [
    "## Общая информация"
   ]
  },
  {
   "cell_type": "markdown",
   "metadata": {},
   "source": [
    "### Загрузка данных"
   ]
  },
  {
   "cell_type": "code",
   "execution_count": 1,
   "metadata": {},
   "outputs": [
    {
     "data": {
      "text/html": [
       "<div>\n",
       "<style scoped>\n",
       "    .dataframe tbody tr th:only-of-type {\n",
       "        vertical-align: middle;\n",
       "    }\n",
       "\n",
       "    .dataframe tbody tr th {\n",
       "        vertical-align: top;\n",
       "    }\n",
       "\n",
       "    .dataframe thead th {\n",
       "        text-align: right;\n",
       "    }\n",
       "</style>\n",
       "<table border=\"1\" class=\"dataframe\">\n",
       "  <thead>\n",
       "    <tr style=\"text-align: right;\">\n",
       "      <th></th>\n",
       "      <th>children</th>\n",
       "      <th>days_employed</th>\n",
       "      <th>dob_years</th>\n",
       "      <th>education</th>\n",
       "      <th>education_id</th>\n",
       "      <th>family_status</th>\n",
       "      <th>family_status_id</th>\n",
       "      <th>gender</th>\n",
       "      <th>income_type</th>\n",
       "      <th>debt</th>\n",
       "      <th>total_income</th>\n",
       "      <th>purpose</th>\n",
       "    </tr>\n",
       "  </thead>\n",
       "  <tbody>\n",
       "    <tr>\n",
       "      <td>0</td>\n",
       "      <td>1</td>\n",
       "      <td>-8437.673028</td>\n",
       "      <td>42</td>\n",
       "      <td>высшее</td>\n",
       "      <td>0</td>\n",
       "      <td>женат / замужем</td>\n",
       "      <td>0</td>\n",
       "      <td>F</td>\n",
       "      <td>сотрудник</td>\n",
       "      <td>0</td>\n",
       "      <td>253875.639453</td>\n",
       "      <td>покупка жилья</td>\n",
       "    </tr>\n",
       "    <tr>\n",
       "      <td>1</td>\n",
       "      <td>1</td>\n",
       "      <td>-4024.803754</td>\n",
       "      <td>36</td>\n",
       "      <td>среднее</td>\n",
       "      <td>1</td>\n",
       "      <td>женат / замужем</td>\n",
       "      <td>0</td>\n",
       "      <td>F</td>\n",
       "      <td>сотрудник</td>\n",
       "      <td>0</td>\n",
       "      <td>112080.014102</td>\n",
       "      <td>приобретение автомобиля</td>\n",
       "    </tr>\n",
       "    <tr>\n",
       "      <td>2</td>\n",
       "      <td>0</td>\n",
       "      <td>-5623.422610</td>\n",
       "      <td>33</td>\n",
       "      <td>Среднее</td>\n",
       "      <td>1</td>\n",
       "      <td>женат / замужем</td>\n",
       "      <td>0</td>\n",
       "      <td>M</td>\n",
       "      <td>сотрудник</td>\n",
       "      <td>0</td>\n",
       "      <td>145885.952297</td>\n",
       "      <td>покупка жилья</td>\n",
       "    </tr>\n",
       "    <tr>\n",
       "      <td>3</td>\n",
       "      <td>3</td>\n",
       "      <td>-4124.747207</td>\n",
       "      <td>32</td>\n",
       "      <td>среднее</td>\n",
       "      <td>1</td>\n",
       "      <td>женат / замужем</td>\n",
       "      <td>0</td>\n",
       "      <td>M</td>\n",
       "      <td>сотрудник</td>\n",
       "      <td>0</td>\n",
       "      <td>267628.550329</td>\n",
       "      <td>дополнительное образование</td>\n",
       "    </tr>\n",
       "    <tr>\n",
       "      <td>4</td>\n",
       "      <td>0</td>\n",
       "      <td>340266.072047</td>\n",
       "      <td>53</td>\n",
       "      <td>среднее</td>\n",
       "      <td>1</td>\n",
       "      <td>гражданский брак</td>\n",
       "      <td>1</td>\n",
       "      <td>F</td>\n",
       "      <td>пенсионер</td>\n",
       "      <td>0</td>\n",
       "      <td>158616.077870</td>\n",
       "      <td>сыграть свадьбу</td>\n",
       "    </tr>\n",
       "    <tr>\n",
       "      <td>5</td>\n",
       "      <td>0</td>\n",
       "      <td>-926.185831</td>\n",
       "      <td>27</td>\n",
       "      <td>высшее</td>\n",
       "      <td>0</td>\n",
       "      <td>гражданский брак</td>\n",
       "      <td>1</td>\n",
       "      <td>M</td>\n",
       "      <td>компаньон</td>\n",
       "      <td>0</td>\n",
       "      <td>255763.565419</td>\n",
       "      <td>покупка жилья</td>\n",
       "    </tr>\n",
       "    <tr>\n",
       "      <td>6</td>\n",
       "      <td>0</td>\n",
       "      <td>-2879.202052</td>\n",
       "      <td>43</td>\n",
       "      <td>высшее</td>\n",
       "      <td>0</td>\n",
       "      <td>женат / замужем</td>\n",
       "      <td>0</td>\n",
       "      <td>F</td>\n",
       "      <td>компаньон</td>\n",
       "      <td>0</td>\n",
       "      <td>240525.971920</td>\n",
       "      <td>операции с жильем</td>\n",
       "    </tr>\n",
       "    <tr>\n",
       "      <td>7</td>\n",
       "      <td>0</td>\n",
       "      <td>-152.779569</td>\n",
       "      <td>50</td>\n",
       "      <td>СРЕДНЕЕ</td>\n",
       "      <td>1</td>\n",
       "      <td>женат / замужем</td>\n",
       "      <td>0</td>\n",
       "      <td>M</td>\n",
       "      <td>сотрудник</td>\n",
       "      <td>0</td>\n",
       "      <td>135823.934197</td>\n",
       "      <td>образование</td>\n",
       "    </tr>\n",
       "    <tr>\n",
       "      <td>8</td>\n",
       "      <td>2</td>\n",
       "      <td>-6929.865299</td>\n",
       "      <td>35</td>\n",
       "      <td>ВЫСШЕЕ</td>\n",
       "      <td>0</td>\n",
       "      <td>гражданский брак</td>\n",
       "      <td>1</td>\n",
       "      <td>F</td>\n",
       "      <td>сотрудник</td>\n",
       "      <td>0</td>\n",
       "      <td>95856.832424</td>\n",
       "      <td>на проведение свадьбы</td>\n",
       "    </tr>\n",
       "    <tr>\n",
       "      <td>9</td>\n",
       "      <td>0</td>\n",
       "      <td>-2188.756445</td>\n",
       "      <td>41</td>\n",
       "      <td>среднее</td>\n",
       "      <td>1</td>\n",
       "      <td>женат / замужем</td>\n",
       "      <td>0</td>\n",
       "      <td>M</td>\n",
       "      <td>сотрудник</td>\n",
       "      <td>0</td>\n",
       "      <td>144425.938277</td>\n",
       "      <td>покупка жилья для семьи</td>\n",
       "    </tr>\n",
       "  </tbody>\n",
       "</table>\n",
       "</div>"
      ],
      "text/plain": [
       "   children  days_employed  dob_years education  education_id  \\\n",
       "0         1   -8437.673028         42    высшее             0   \n",
       "1         1   -4024.803754         36   среднее             1   \n",
       "2         0   -5623.422610         33   Среднее             1   \n",
       "3         3   -4124.747207         32   среднее             1   \n",
       "4         0  340266.072047         53   среднее             1   \n",
       "5         0    -926.185831         27    высшее             0   \n",
       "6         0   -2879.202052         43    высшее             0   \n",
       "7         0    -152.779569         50   СРЕДНЕЕ             1   \n",
       "8         2   -6929.865299         35    ВЫСШЕЕ             0   \n",
       "9         0   -2188.756445         41   среднее             1   \n",
       "\n",
       "      family_status  family_status_id gender income_type  debt   total_income  \\\n",
       "0   женат / замужем                 0      F   сотрудник     0  253875.639453   \n",
       "1   женат / замужем                 0      F   сотрудник     0  112080.014102   \n",
       "2   женат / замужем                 0      M   сотрудник     0  145885.952297   \n",
       "3   женат / замужем                 0      M   сотрудник     0  267628.550329   \n",
       "4  гражданский брак                 1      F   пенсионер     0  158616.077870   \n",
       "5  гражданский брак                 1      M   компаньон     0  255763.565419   \n",
       "6   женат / замужем                 0      F   компаньон     0  240525.971920   \n",
       "7   женат / замужем                 0      M   сотрудник     0  135823.934197   \n",
       "8  гражданский брак                 1      F   сотрудник     0   95856.832424   \n",
       "9   женат / замужем                 0      M   сотрудник     0  144425.938277   \n",
       "\n",
       "                      purpose  \n",
       "0               покупка жилья  \n",
       "1     приобретение автомобиля  \n",
       "2               покупка жилья  \n",
       "3  дополнительное образование  \n",
       "4             сыграть свадьбу  \n",
       "5               покупка жилья  \n",
       "6           операции с жильем  \n",
       "7                 образование  \n",
       "8       на проведение свадьбы  \n",
       "9     покупка жилья для семьи  "
      ]
     },
     "execution_count": 1,
     "metadata": {},
     "output_type": "execute_result"
    }
   ],
   "source": [
    "import pandas as pd  # импорт библиотеки pandas\n",
    "import seaborn as sns  # импорт библиотеки seaborn\n",
    "from pymystem3 import Mystem\n",
    "from collections import Counter\n",
    "\n",
    "data = pd.read_csv('/datasets/data.csv')  # чтение файла с данными и сохранение в data\n",
    "data.head(10)  # получение первых 10 строк таблицы data для знакомства с данными"
   ]
  },
  {
   "cell_type": "code",
   "execution_count": 2,
   "metadata": {},
   "outputs": [
    {
     "name": "stdout",
     "output_type": "stream",
     "text": [
      "<class 'pandas.core.frame.DataFrame'>\n",
      "RangeIndex: 21525 entries, 0 to 21524\n",
      "Data columns (total 12 columns):\n",
      "children            21525 non-null int64\n",
      "days_employed       19351 non-null float64\n",
      "dob_years           21525 non-null int64\n",
      "education           21525 non-null object\n",
      "education_id        21525 non-null int64\n",
      "family_status       21525 non-null object\n",
      "family_status_id    21525 non-null int64\n",
      "gender              21525 non-null object\n",
      "income_type         21525 non-null object\n",
      "debt                21525 non-null int64\n",
      "total_income        19351 non-null float64\n",
      "purpose             21525 non-null object\n",
      "dtypes: float64(2), int64(5), object(5)\n",
      "memory usage: 2.0+ MB\n"
     ]
    }
   ],
   "source": [
    "data.info()  # получение общей информации о данных в таблице df"
   ]
  },
  {
   "cell_type": "code",
   "execution_count": 3,
   "metadata": {
    "scrolled": true
   },
   "outputs": [
    {
     "data": {
      "text/plain": [
       "Index(['children', 'days_employed', 'dob_years', 'education', 'education_id',\n",
       "       'family_status', 'family_status_id', 'gender', 'income_type', 'debt',\n",
       "       'total_income', 'purpose'],\n",
       "      dtype='object')"
      ]
     },
     "execution_count": 3,
     "metadata": {},
     "output_type": "execute_result"
    }
   ],
   "source": [
    "data.columns # получение информации о названиях колонок в таблице df"
   ]
  },
  {
   "cell_type": "markdown",
   "metadata": {},
   "source": [
    "### Промежуточные выводы\n",
    "\n",
    "1. В таблице двенадцать столбцов.\n",
    "2. Типы данных: `object`, `int64` и `float64`.\n",
    "3. Названия колонок выполнены строчными буквами в змеином регистре без пробелов. С учетом документации в целом понятно, что в них должно храниться, хотя есть вопросы.\n",
    "4. Согласно описанию данных:\n",
    "* `children` — количество детей в семье\n",
    " + целочисленный тип данных\n",
    " + пропусков нет\n",
    " + первые и последние 10 значений выглядят достоверными\n",
    " + ожидаемые значения от 0 до 5\n",
    " + столбец **имеет прямое** отношение к поставленным вопросам\n",
    "---\n",
    "* `days_employed` — общий трудовой стаж в днях\n",
    " + вещественный тип данных\n",
    " + встречаются как положительные, так и отрицательные значения (что странно). Положительные пока попались только у пенсионеров и имеют слишком большое значение для дней (340266.072047 / 365 ~ 932 года).\n",
    " + есть пропуски (возможно, человек не работал ни дня, но тогда бы был скорее 0)\n",
    " + столбец **не имеет прямого** отношения к поставленным вопросам\n",
    "---\n",
    "* `dob_years` — возраст клиента в годах\n",
    " + целочисленный тип данных\n",
    " + пропусков нет\n",
    " + ожидаемые значения от 18 до ~70 лет\n",
    " + столбец **не имеет прямого** отношения к поставленным вопросам\n",
    "---\n",
    "* `education` — уровень образования клиента\n",
    " + строковые значения, что корректно\n",
    " + пропусков нет\n",
    " + есть неявные дубликаты\n",
    " + столбец **не имеет прямого** отношения к поставленным вопросам\n",
    "---\n",
    "* `education_id` — идентификатор уровня образования\n",
    " + целочисленный тип данных\n",
    " + пропусков нет\n",
    " + столбец **не имеет прямого** отношения к поставленным вопросам\n",
    "---\n",
    "* `family_status` — семейное положение\n",
    " + строковые значения\n",
    " + пропусков нет\n",
    " + столбец **не имеет прямого** отношения к поставленным вопросам\n",
    "---\n",
    "* `family_status_id` — идентификатор семейного положения\n",
    " + целочисленный тип данных\n",
    " + пропусков нет\n",
    " + столбец **имеет прямое** отношение к поставленным вопросам\n",
    "---\n",
    "* `gender` — пол клиента\n",
    " + строковые значения\n",
    " + пропусков нет\n",
    " + столбец **не имеет прямого** отношения к поставленным вопросам\n",
    "---\n",
    "* `income_type` — тип занятости\n",
    " + строковый тип данных\n",
    " + пропусков нет\n",
    " + столбец **не имеет прямого** отношения к поставленным вопросам\n",
    "---\n",
    "* `debt` — имел ли задолженность по возврату кредитов\n",
    " + целочисленный тип данных\n",
    " + пропусков нет\n",
    " + предположительно должно встречаться два значения 0 и 1\n",
    " + столбец **имеет прямое** отношение к поставленным вопросам\n",
    "---\n",
    "* `total_income` — ежемесячный доход\n",
    " + вещественный тип данных\n",
    " + есть пропуски\n",
    " + не понятен порядок дохода\n",
    " + столбец **имеет прямое** отношение к поставленным вопросам\n",
    "---\n",
    "* `purpose` — цель получения кредита\n",
    " + строковый тип данных\n",
    " + пропусков нет\n",
    " + столбец **имеет прямое** отношение к поставленным вопросам"
   ]
  },
  {
   "cell_type": "markdown",
   "metadata": {},
   "source": [
    "### Анализ каждого столбца по отдельности"
   ]
  },
  {
   "cell_type": "markdown",
   "metadata": {},
   "source": [
    "Есть некоторые столбцы, которые не имеют прямого отношения к поставленным задачам, однако проведём краткий анализ каждого столбца. Данные могут понадобиться для работы со значимыми столбцами."
   ]
  },
  {
   "cell_type": "markdown",
   "metadata": {},
   "source": [
    "#### `children`"
   ]
  },
  {
   "cell_type": "code",
   "execution_count": 4,
   "metadata": {},
   "outputs": [
    {
     "data": {
      "text/html": [
       "<div>\n",
       "<style scoped>\n",
       "    .dataframe tbody tr th:only-of-type {\n",
       "        vertical-align: middle;\n",
       "    }\n",
       "\n",
       "    .dataframe tbody tr th {\n",
       "        vertical-align: top;\n",
       "    }\n",
       "\n",
       "    .dataframe thead th {\n",
       "        text-align: right;\n",
       "    }\n",
       "</style>\n",
       "<table border=\"1\" class=\"dataframe\">\n",
       "  <thead>\n",
       "    <tr style=\"text-align: right;\">\n",
       "      <th></th>\n",
       "      <th>children</th>\n",
       "    </tr>\n",
       "  </thead>\n",
       "  <tbody>\n",
       "    <tr>\n",
       "      <td>0</td>\n",
       "      <td>14149</td>\n",
       "    </tr>\n",
       "    <tr>\n",
       "      <td>1</td>\n",
       "      <td>4818</td>\n",
       "    </tr>\n",
       "    <tr>\n",
       "      <td>2</td>\n",
       "      <td>2055</td>\n",
       "    </tr>\n",
       "    <tr>\n",
       "      <td>3</td>\n",
       "      <td>330</td>\n",
       "    </tr>\n",
       "    <tr>\n",
       "      <td>20</td>\n",
       "      <td>76</td>\n",
       "    </tr>\n",
       "    <tr>\n",
       "      <td>-1</td>\n",
       "      <td>47</td>\n",
       "    </tr>\n",
       "    <tr>\n",
       "      <td>4</td>\n",
       "      <td>41</td>\n",
       "    </tr>\n",
       "    <tr>\n",
       "      <td>5</td>\n",
       "      <td>9</td>\n",
       "    </tr>\n",
       "  </tbody>\n",
       "</table>\n",
       "</div>"
      ],
      "text/plain": [
       "     children\n",
       " 0      14149\n",
       " 1       4818\n",
       " 2       2055\n",
       " 3        330\n",
       " 20        76\n",
       "-1         47\n",
       " 4         41\n",
       " 5          9"
      ]
     },
     "execution_count": 4,
     "metadata": {},
     "output_type": "execute_result"
    }
   ],
   "source": [
    "data['children'].value_counts().to_frame()  # подсчёт количества уникальных записей"
   ]
  },
  {
   "cell_type": "markdown",
   "metadata": {},
   "source": [
    "В столбце `children` присутствуют подозрительные (ошибочные?) значения `-1` и `20`"
   ]
  },
  {
   "cell_type": "code",
   "execution_count": 5,
   "metadata": {
    "scrolled": true
   },
   "outputs": [
    {
     "data": {
      "text/html": [
       "<div>\n",
       "<style scoped>\n",
       "    .dataframe tbody tr th:only-of-type {\n",
       "        vertical-align: middle;\n",
       "    }\n",
       "\n",
       "    .dataframe tbody tr th {\n",
       "        vertical-align: top;\n",
       "    }\n",
       "\n",
       "    .dataframe thead th {\n",
       "        text-align: right;\n",
       "    }\n",
       "</style>\n",
       "<table border=\"1\" class=\"dataframe\">\n",
       "  <thead>\n",
       "    <tr style=\"text-align: right;\">\n",
       "      <th></th>\n",
       "      <th>children</th>\n",
       "      <th>days_employed</th>\n",
       "      <th>dob_years</th>\n",
       "      <th>education</th>\n",
       "      <th>education_id</th>\n",
       "      <th>family_status</th>\n",
       "      <th>family_status_id</th>\n",
       "      <th>gender</th>\n",
       "      <th>income_type</th>\n",
       "      <th>debt</th>\n",
       "      <th>total_income</th>\n",
       "      <th>purpose</th>\n",
       "    </tr>\n",
       "  </thead>\n",
       "  <tbody>\n",
       "    <tr>\n",
       "      <td>291</td>\n",
       "      <td>-1</td>\n",
       "      <td>-4417.703588</td>\n",
       "      <td>46</td>\n",
       "      <td>среднее</td>\n",
       "      <td>1</td>\n",
       "      <td>гражданский брак</td>\n",
       "      <td>1</td>\n",
       "      <td>F</td>\n",
       "      <td>сотрудник</td>\n",
       "      <td>0</td>\n",
       "      <td>102816.346412</td>\n",
       "      <td>профильное образование</td>\n",
       "    </tr>\n",
       "    <tr>\n",
       "      <td>606</td>\n",
       "      <td>20</td>\n",
       "      <td>-880.221113</td>\n",
       "      <td>21</td>\n",
       "      <td>среднее</td>\n",
       "      <td>1</td>\n",
       "      <td>женат / замужем</td>\n",
       "      <td>0</td>\n",
       "      <td>M</td>\n",
       "      <td>компаньон</td>\n",
       "      <td>0</td>\n",
       "      <td>145334.865002</td>\n",
       "      <td>покупка жилья</td>\n",
       "    </tr>\n",
       "    <tr>\n",
       "      <td>705</td>\n",
       "      <td>-1</td>\n",
       "      <td>-902.084528</td>\n",
       "      <td>50</td>\n",
       "      <td>среднее</td>\n",
       "      <td>1</td>\n",
       "      <td>женат / замужем</td>\n",
       "      <td>0</td>\n",
       "      <td>F</td>\n",
       "      <td>госслужащий</td>\n",
       "      <td>0</td>\n",
       "      <td>137882.899271</td>\n",
       "      <td>приобретение автомобиля</td>\n",
       "    </tr>\n",
       "    <tr>\n",
       "      <td>720</td>\n",
       "      <td>20</td>\n",
       "      <td>-855.595512</td>\n",
       "      <td>44</td>\n",
       "      <td>среднее</td>\n",
       "      <td>1</td>\n",
       "      <td>женат / замужем</td>\n",
       "      <td>0</td>\n",
       "      <td>F</td>\n",
       "      <td>компаньон</td>\n",
       "      <td>0</td>\n",
       "      <td>112998.738649</td>\n",
       "      <td>покупка недвижимости</td>\n",
       "    </tr>\n",
       "    <tr>\n",
       "      <td>742</td>\n",
       "      <td>-1</td>\n",
       "      <td>-3174.456205</td>\n",
       "      <td>57</td>\n",
       "      <td>среднее</td>\n",
       "      <td>1</td>\n",
       "      <td>женат / замужем</td>\n",
       "      <td>0</td>\n",
       "      <td>F</td>\n",
       "      <td>сотрудник</td>\n",
       "      <td>0</td>\n",
       "      <td>64268.044444</td>\n",
       "      <td>дополнительное образование</td>\n",
       "    </tr>\n",
       "    <tr>\n",
       "      <td>...</td>\n",
       "      <td>...</td>\n",
       "      <td>...</td>\n",
       "      <td>...</td>\n",
       "      <td>...</td>\n",
       "      <td>...</td>\n",
       "      <td>...</td>\n",
       "      <td>...</td>\n",
       "      <td>...</td>\n",
       "      <td>...</td>\n",
       "      <td>...</td>\n",
       "      <td>...</td>\n",
       "      <td>...</td>\n",
       "    </tr>\n",
       "    <tr>\n",
       "      <td>21140</td>\n",
       "      <td>-1</td>\n",
       "      <td>-1422.668059</td>\n",
       "      <td>44</td>\n",
       "      <td>среднее</td>\n",
       "      <td>1</td>\n",
       "      <td>женат / замужем</td>\n",
       "      <td>0</td>\n",
       "      <td>F</td>\n",
       "      <td>компаньон</td>\n",
       "      <td>0</td>\n",
       "      <td>169562.091999</td>\n",
       "      <td>операции со своей недвижимостью</td>\n",
       "    </tr>\n",
       "    <tr>\n",
       "      <td>21325</td>\n",
       "      <td>20</td>\n",
       "      <td>-601.174883</td>\n",
       "      <td>37</td>\n",
       "      <td>среднее</td>\n",
       "      <td>1</td>\n",
       "      <td>женат / замужем</td>\n",
       "      <td>0</td>\n",
       "      <td>F</td>\n",
       "      <td>компаньон</td>\n",
       "      <td>0</td>\n",
       "      <td>102986.065978</td>\n",
       "      <td>профильное образование</td>\n",
       "    </tr>\n",
       "    <tr>\n",
       "      <td>21390</td>\n",
       "      <td>20</td>\n",
       "      <td>NaN</td>\n",
       "      <td>53</td>\n",
       "      <td>среднее</td>\n",
       "      <td>1</td>\n",
       "      <td>женат / замужем</td>\n",
       "      <td>0</td>\n",
       "      <td>M</td>\n",
       "      <td>компаньон</td>\n",
       "      <td>0</td>\n",
       "      <td>NaN</td>\n",
       "      <td>покупка жилой недвижимости</td>\n",
       "    </tr>\n",
       "    <tr>\n",
       "      <td>21404</td>\n",
       "      <td>20</td>\n",
       "      <td>-494.788448</td>\n",
       "      <td>52</td>\n",
       "      <td>среднее</td>\n",
       "      <td>1</td>\n",
       "      <td>женат / замужем</td>\n",
       "      <td>0</td>\n",
       "      <td>M</td>\n",
       "      <td>компаньон</td>\n",
       "      <td>0</td>\n",
       "      <td>156629.683642</td>\n",
       "      <td>операции со своей недвижимостью</td>\n",
       "    </tr>\n",
       "    <tr>\n",
       "      <td>21491</td>\n",
       "      <td>20</td>\n",
       "      <td>-173.954460</td>\n",
       "      <td>27</td>\n",
       "      <td>среднее</td>\n",
       "      <td>1</td>\n",
       "      <td>женат / замужем</td>\n",
       "      <td>0</td>\n",
       "      <td>F</td>\n",
       "      <td>сотрудник</td>\n",
       "      <td>0</td>\n",
       "      <td>155520.899688</td>\n",
       "      <td>на покупку подержанного автомобиля</td>\n",
       "    </tr>\n",
       "  </tbody>\n",
       "</table>\n",
       "<p>123 rows × 12 columns</p>\n",
       "</div>"
      ],
      "text/plain": [
       "       children  days_employed  dob_years education  education_id  \\\n",
       "291          -1   -4417.703588         46   среднее             1   \n",
       "606          20    -880.221113         21   среднее             1   \n",
       "705          -1    -902.084528         50   среднее             1   \n",
       "720          20    -855.595512         44   среднее             1   \n",
       "742          -1   -3174.456205         57   среднее             1   \n",
       "...         ...            ...        ...       ...           ...   \n",
       "21140        -1   -1422.668059         44   среднее             1   \n",
       "21325        20    -601.174883         37   среднее             1   \n",
       "21390        20            NaN         53   среднее             1   \n",
       "21404        20    -494.788448         52   среднее             1   \n",
       "21491        20    -173.954460         27   среднее             1   \n",
       "\n",
       "          family_status  family_status_id gender  income_type  debt  \\\n",
       "291    гражданский брак                 1      F    сотрудник     0   \n",
       "606     женат / замужем                 0      M    компаньон     0   \n",
       "705     женат / замужем                 0      F  госслужащий     0   \n",
       "720     женат / замужем                 0      F    компаньон     0   \n",
       "742     женат / замужем                 0      F    сотрудник     0   \n",
       "...                 ...               ...    ...          ...   ...   \n",
       "21140   женат / замужем                 0      F    компаньон     0   \n",
       "21325   женат / замужем                 0      F    компаньон     0   \n",
       "21390   женат / замужем                 0      M    компаньон     0   \n",
       "21404   женат / замужем                 0      M    компаньон     0   \n",
       "21491   женат / замужем                 0      F    сотрудник     0   \n",
       "\n",
       "        total_income                             purpose  \n",
       "291    102816.346412              профильное образование  \n",
       "606    145334.865002                       покупка жилья  \n",
       "705    137882.899271             приобретение автомобиля  \n",
       "720    112998.738649                покупка недвижимости  \n",
       "742     64268.044444          дополнительное образование  \n",
       "...              ...                                 ...  \n",
       "21140  169562.091999     операции со своей недвижимостью  \n",
       "21325  102986.065978              профильное образование  \n",
       "21390            NaN          покупка жилой недвижимости  \n",
       "21404  156629.683642     операции со своей недвижимостью  \n",
       "21491  155520.899688  на покупку подержанного автомобиля  \n",
       "\n",
       "[123 rows x 12 columns]"
      ]
     },
     "execution_count": 5,
     "metadata": {},
     "output_type": "execute_result"
    }
   ],
   "source": [
    "#  вывод data, в которых значение столбца children равно -1 или 20\n",
    "data[(data['children'] == -1) | (data['children'] == 20)]"
   ]
  },
  {
   "cell_type": "markdown",
   "metadata": {},
   "source": [
    "* Данные значения выглядят как случайные ошибки.\n",
    "* Восстановить данные по другим столбцам не представляется возможным.\n",
    "* Ввиду их небольшого количества (123 из 21525 строк или 0,57%), в рамках ответа на вопрос о зависимости между наличием детей и возвратом кредита в срок данные строки достаточно просто исключить из выборки"
   ]
  },
  {
   "cell_type": "markdown",
   "metadata": {},
   "source": [
    "#### `days_employed`"
   ]
  },
  {
   "cell_type": "markdown",
   "metadata": {},
   "source": [
    "Данные по трудовому стажу клиентов выглядят непонятно, ещё и есть пропуски. Для понимания лучше визуализировать информацию. Трудовой стаж связан обычно с возрастом. Попробуем визуализировать эту зависимость с помощью seaborn."
   ]
  },
  {
   "cell_type": "code",
   "execution_count": 1,
   "metadata": {},
   "outputs": [
    {
     "ename": "NameError",
     "evalue": "name 'sns' is not defined",
     "output_type": "error",
     "traceback": [
      "\u001b[1;31m---------------------------------------------------------------------------\u001b[0m",
      "\u001b[1;31mNameError\u001b[0m                                 Traceback (most recent call last)",
      "\u001b[1;32m~\\AppData\\Local\\Temp/ipykernel_8584/3718100148.py\u001b[0m in \u001b[0;36m<module>\u001b[1;34m\u001b[0m\n\u001b[0;32m      1\u001b[0m \u001b[1;31m# изменение размера графика до читаемого формата\u001b[0m\u001b[1;33m\u001b[0m\u001b[1;33m\u001b[0m\u001b[0m\n\u001b[1;32m----> 2\u001b[1;33m \u001b[0msns\u001b[0m\u001b[1;33m.\u001b[0m\u001b[0mset\u001b[0m\u001b[1;33m(\u001b[0m\u001b[0mrc\u001b[0m\u001b[1;33m=\u001b[0m\u001b[1;33m{\u001b[0m\u001b[1;34m'figure.figsize'\u001b[0m\u001b[1;33m:\u001b[0m\u001b[1;33m(\u001b[0m\u001b[1;36m20\u001b[0m\u001b[1;33m,\u001b[0m \u001b[1;36m10\u001b[0m\u001b[1;33m)\u001b[0m\u001b[1;33m}\u001b[0m\u001b[1;33m)\u001b[0m\u001b[1;33m\u001b[0m\u001b[1;33m\u001b[0m\u001b[0m\n\u001b[0m\u001b[0;32m      3\u001b[0m \u001b[1;31m# вывод графика: по оси X - данные из столбца days_employed,\u001b[0m\u001b[1;33m\u001b[0m\u001b[1;33m\u001b[0m\u001b[0m\n\u001b[0;32m      4\u001b[0m \u001b[1;31m# а по оси Y - данные из столбца dob_years\u001b[0m\u001b[1;33m\u001b[0m\u001b[1;33m\u001b[0m\u001b[0m\n\u001b[0;32m      5\u001b[0m \u001b[0msns\u001b[0m\u001b[1;33m.\u001b[0m\u001b[0mscatterplot\u001b[0m\u001b[1;33m(\u001b[0m\u001b[0mx\u001b[0m\u001b[1;33m=\u001b[0m\u001b[0mdata\u001b[0m\u001b[1;33m[\u001b[0m\u001b[1;34m'days_employed'\u001b[0m\u001b[1;33m]\u001b[0m\u001b[1;33m,\u001b[0m \u001b[0my\u001b[0m\u001b[1;33m=\u001b[0m\u001b[0mdata\u001b[0m\u001b[1;33m[\u001b[0m\u001b[1;34m'dob_years'\u001b[0m\u001b[1;33m]\u001b[0m\u001b[1;33m)\u001b[0m\u001b[1;33m\u001b[0m\u001b[1;33m\u001b[0m\u001b[0m\n",
      "\u001b[1;31mNameError\u001b[0m: name 'sns' is not defined"
     ]
    }
   ],
   "source": [
    "# изменение размера графика до читаемого формата\n",
    "sns.set(rc={'figure.figsize':(20, 10)})\n",
    "# вывод графика: по оси X - данные из столбца days_employed,\n",
    "# а по оси Y - данные из столбца dob_years\n",
    "sns.scatterplot(x=data['days_employed'], y=data['dob_years'])\n",
    "plot.show()"
   ]
  },
  {
   "cell_type": "markdown",
   "metadata": {},
   "source": [
    "Данные в столбце разделились на две явные группы: отрицательные значения, которые можно воспринимать как отработанные дни, и положительные значения, где измерение явно идёт не в днях. Предположим, что в часах. При этом 8-часовой или 12-часовой трудовой день не подходит, так как стаж всё равно получается слишком большим. Следовательно, можно предположить, что значения из второй группы необходимо поделить на 24."
   ]
  },
  {
   "cell_type": "code",
   "execution_count": 7,
   "metadata": {},
   "outputs": [],
   "source": [
    "# для дальнейшей работы внесём правки в days_employed\n",
    "data.loc[data['days_employed'] > 300_000, 'days_employed'] /= 24\n",
    "data.loc[data['days_employed'] < 0, 'days_employed'] *= -1"
   ]
  },
  {
   "cell_type": "code",
   "execution_count": 8,
   "metadata": {},
   "outputs": [
    {
     "data": {
      "text/plain": [
       "<matplotlib.axes._subplots.AxesSubplot at 0x7f60f853b1d0>"
      ]
     },
     "execution_count": 8,
     "metadata": {},
     "output_type": "execute_result"
    },
    {
     "data": {
      "image/png": "[encoded data removed]",
      "text/plain": [
       "<Figure size 1440x720 with 1 Axes>"
      ]
     },
     "metadata": {},
     "output_type": "display_data"
    }
   ],
   "source": [
    "# вывод графика: по оси X - данные из столбца days_employed,\n",
    "# а по оси Y - данные из столбца dob_years\n",
    "sns.scatterplot(x=data['days_employed'], y=data['dob_years'])"
   ]
  },
  {
   "cell_type": "code",
   "execution_count": 9,
   "metadata": {
    "scrolled": true
   },
   "outputs": [
    {
     "name": "stdout",
     "output_type": "stream",
     "text": [
      "<class 'pandas.core.frame.DataFrame'>\n",
      "RangeIndex: 21525 entries, 0 to 21524\n",
      "Data columns (total 12 columns):\n",
      "children            21525 non-null int64\n",
      "days_employed       19351 non-null float64\n",
      "dob_years           21525 non-null int64\n",
      "education           21525 non-null object\n",
      "education_id        21525 non-null int64\n",
      "family_status       21525 non-null object\n",
      "family_status_id    21525 non-null int64\n",
      "gender              21525 non-null object\n",
      "income_type         21525 non-null object\n",
      "debt                21525 non-null int64\n",
      "total_income        19351 non-null float64\n",
      "purpose             21525 non-null object\n",
      "dtypes: float64(2), int64(5), object(5)\n",
      "memory usage: 2.0+ MB\n"
     ]
    }
   ],
   "source": [
    "# так как в столбце имеются пропущенные значения, то выведем их для анализа\n",
    "data.info()"
   ]
  },
  {
   "cell_type": "markdown",
   "metadata": {},
   "source": [
    "Предположительно пропущены значения как в столбце `days_employed`, так и `total_income`"
   ]
  },
  {
   "cell_type": "code",
   "execution_count": 10,
   "metadata": {},
   "outputs": [
    {
     "data": {
      "text/plain": [
       "(2174, 12)"
      ]
     },
     "execution_count": 10,
     "metadata": {},
     "output_type": "execute_result"
    }
   ],
   "source": [
    "data[data['days_employed'].isna() & data['total_income'].isna()].shape"
   ]
  },
  {
   "cell_type": "markdown",
   "metadata": {},
   "source": [
    "Число пропущенных значений в каждом столбце: 21525 - 19351 = 2174, следовательно они пропущены в одних и тех же строках"
   ]
  },
  {
   "cell_type": "markdown",
   "metadata": {},
   "source": [
    "#### `dob_years`"
   ]
  },
  {
   "cell_type": "markdown",
   "metadata": {},
   "source": [
    "Стоит проверить как выглядит распределение по возрастам в целом."
   ]
  },
  {
   "cell_type": "code",
   "execution_count": 11,
   "metadata": {},
   "outputs": [
    {
     "data": {
      "text/plain": [
       "<matplotlib.axes._subplots.AxesSubplot at 0x7f61801067d0>"
      ]
     },
     "execution_count": 11,
     "metadata": {},
     "output_type": "execute_result"
    },
    {
     "data": {
      "image/png": "[encoded data removed]",
      "text/plain": [
       "<Figure size 1440x720 with 1 Axes>"
      ]
     },
     "metadata": {},
     "output_type": "display_data"
    }
   ],
   "source": [
    "# вывод графика где по оси X - возраст клиентов,\n",
    "# а по оси Y - количество записей, соответствующих каждому возрасту\n",
    "sns.barplot(x=data['dob_years'].value_counts().index, y=data['dob_years'].value_counts())  "
   ]
  },
  {
   "cell_type": "markdown",
   "metadata": {},
   "source": [
    "Распределение по возрастам выглядит нормальным за исключением, за исключением возраста равного 0."
   ]
  },
  {
   "cell_type": "code",
   "execution_count": 12,
   "metadata": {},
   "outputs": [
    {
     "name": "stdout",
     "output_type": "stream",
     "text": [
      "Число записей с возрастом равным нулю: 101\n"
     ]
    }
   ],
   "source": [
    "# вывод количества записей в столбце dob_years равных 0\n",
    "print('Число записей с возрастом равным нулю:', data[data['dob_years'] == 0]['dob_years'].count())"
   ]
  },
  {
   "cell_type": "code",
   "execution_count": 13,
   "metadata": {},
   "outputs": [
    {
     "data": {
      "text/html": [
       "<div>\n",
       "<style scoped>\n",
       "    .dataframe tbody tr th:only-of-type {\n",
       "        vertical-align: middle;\n",
       "    }\n",
       "\n",
       "    .dataframe tbody tr th {\n",
       "        vertical-align: top;\n",
       "    }\n",
       "\n",
       "    .dataframe thead th {\n",
       "        text-align: right;\n",
       "    }\n",
       "</style>\n",
       "<table border=\"1\" class=\"dataframe\">\n",
       "  <thead>\n",
       "    <tr style=\"text-align: right;\">\n",
       "      <th></th>\n",
       "      <th>children</th>\n",
       "      <th>days_employed</th>\n",
       "      <th>dob_years</th>\n",
       "      <th>education</th>\n",
       "      <th>education_id</th>\n",
       "      <th>family_status</th>\n",
       "      <th>family_status_id</th>\n",
       "      <th>gender</th>\n",
       "      <th>income_type</th>\n",
       "      <th>debt</th>\n",
       "      <th>total_income</th>\n",
       "      <th>purpose</th>\n",
       "    </tr>\n",
       "  </thead>\n",
       "  <tbody>\n",
       "    <tr>\n",
       "      <td>99</td>\n",
       "      <td>0</td>\n",
       "      <td>14439.234121</td>\n",
       "      <td>0</td>\n",
       "      <td>Среднее</td>\n",
       "      <td>1</td>\n",
       "      <td>женат / замужем</td>\n",
       "      <td>0</td>\n",
       "      <td>F</td>\n",
       "      <td>пенсионер</td>\n",
       "      <td>0</td>\n",
       "      <td>71291.522491</td>\n",
       "      <td>автомобиль</td>\n",
       "    </tr>\n",
       "    <tr>\n",
       "      <td>149</td>\n",
       "      <td>0</td>\n",
       "      <td>2664.273168</td>\n",
       "      <td>0</td>\n",
       "      <td>среднее</td>\n",
       "      <td>1</td>\n",
       "      <td>в разводе</td>\n",
       "      <td>3</td>\n",
       "      <td>F</td>\n",
       "      <td>сотрудник</td>\n",
       "      <td>0</td>\n",
       "      <td>70176.435951</td>\n",
       "      <td>операции с жильем</td>\n",
       "    </tr>\n",
       "    <tr>\n",
       "      <td>270</td>\n",
       "      <td>3</td>\n",
       "      <td>1872.663186</td>\n",
       "      <td>0</td>\n",
       "      <td>среднее</td>\n",
       "      <td>1</td>\n",
       "      <td>женат / замужем</td>\n",
       "      <td>0</td>\n",
       "      <td>F</td>\n",
       "      <td>сотрудник</td>\n",
       "      <td>0</td>\n",
       "      <td>102166.458894</td>\n",
       "      <td>ремонт жилью</td>\n",
       "    </tr>\n",
       "    <tr>\n",
       "      <td>578</td>\n",
       "      <td>0</td>\n",
       "      <td>16577.356876</td>\n",
       "      <td>0</td>\n",
       "      <td>среднее</td>\n",
       "      <td>1</td>\n",
       "      <td>женат / замужем</td>\n",
       "      <td>0</td>\n",
       "      <td>F</td>\n",
       "      <td>пенсионер</td>\n",
       "      <td>0</td>\n",
       "      <td>97620.687042</td>\n",
       "      <td>строительство собственной недвижимости</td>\n",
       "    </tr>\n",
       "    <tr>\n",
       "      <td>1040</td>\n",
       "      <td>0</td>\n",
       "      <td>1158.029561</td>\n",
       "      <td>0</td>\n",
       "      <td>высшее</td>\n",
       "      <td>0</td>\n",
       "      <td>в разводе</td>\n",
       "      <td>3</td>\n",
       "      <td>F</td>\n",
       "      <td>компаньон</td>\n",
       "      <td>0</td>\n",
       "      <td>303994.134987</td>\n",
       "      <td>свой автомобиль</td>\n",
       "    </tr>\n",
       "    <tr>\n",
       "      <td>1149</td>\n",
       "      <td>0</td>\n",
       "      <td>934.654854</td>\n",
       "      <td>0</td>\n",
       "      <td>среднее</td>\n",
       "      <td>1</td>\n",
       "      <td>женат / замужем</td>\n",
       "      <td>0</td>\n",
       "      <td>F</td>\n",
       "      <td>компаньон</td>\n",
       "      <td>0</td>\n",
       "      <td>201852.430096</td>\n",
       "      <td>покупка недвижимости</td>\n",
       "    </tr>\n",
       "    <tr>\n",
       "      <td>1175</td>\n",
       "      <td>0</td>\n",
       "      <td>15453.312833</td>\n",
       "      <td>0</td>\n",
       "      <td>среднее</td>\n",
       "      <td>1</td>\n",
       "      <td>женат / замужем</td>\n",
       "      <td>0</td>\n",
       "      <td>F</td>\n",
       "      <td>пенсионер</td>\n",
       "      <td>0</td>\n",
       "      <td>313949.845188</td>\n",
       "      <td>получение дополнительного образования</td>\n",
       "    </tr>\n",
       "    <tr>\n",
       "      <td>1386</td>\n",
       "      <td>0</td>\n",
       "      <td>5043.219890</td>\n",
       "      <td>0</td>\n",
       "      <td>высшее</td>\n",
       "      <td>0</td>\n",
       "      <td>женат / замужем</td>\n",
       "      <td>0</td>\n",
       "      <td>M</td>\n",
       "      <td>госслужащий</td>\n",
       "      <td>0</td>\n",
       "      <td>240523.618071</td>\n",
       "      <td>сделка с автомобилем</td>\n",
       "    </tr>\n",
       "    <tr>\n",
       "      <td>1890</td>\n",
       "      <td>0</td>\n",
       "      <td>NaN</td>\n",
       "      <td>0</td>\n",
       "      <td>высшее</td>\n",
       "      <td>0</td>\n",
       "      <td>Не женат / не замужем</td>\n",
       "      <td>4</td>\n",
       "      <td>F</td>\n",
       "      <td>сотрудник</td>\n",
       "      <td>0</td>\n",
       "      <td>NaN</td>\n",
       "      <td>жилье</td>\n",
       "    </tr>\n",
       "    <tr>\n",
       "      <td>1898</td>\n",
       "      <td>0</td>\n",
       "      <td>15422.689043</td>\n",
       "      <td>0</td>\n",
       "      <td>среднее</td>\n",
       "      <td>1</td>\n",
       "      <td>вдовец / вдова</td>\n",
       "      <td>2</td>\n",
       "      <td>F</td>\n",
       "      <td>пенсионер</td>\n",
       "      <td>0</td>\n",
       "      <td>127400.268338</td>\n",
       "      <td>на покупку автомобиля</td>\n",
       "    </tr>\n",
       "  </tbody>\n",
       "</table>\n",
       "</div>"
      ],
      "text/plain": [
       "      children  days_employed  dob_years education  education_id  \\\n",
       "99           0   14439.234121          0   Среднее             1   \n",
       "149          0    2664.273168          0   среднее             1   \n",
       "270          3    1872.663186          0   среднее             1   \n",
       "578          0   16577.356876          0   среднее             1   \n",
       "1040         0    1158.029561          0    высшее             0   \n",
       "1149         0     934.654854          0   среднее             1   \n",
       "1175         0   15453.312833          0   среднее             1   \n",
       "1386         0    5043.219890          0    высшее             0   \n",
       "1890         0            NaN          0    высшее             0   \n",
       "1898         0   15422.689043          0   среднее             1   \n",
       "\n",
       "              family_status  family_status_id gender  income_type  debt  \\\n",
       "99          женат / замужем                 0      F    пенсионер     0   \n",
       "149               в разводе                 3      F    сотрудник     0   \n",
       "270         женат / замужем                 0      F    сотрудник     0   \n",
       "578         женат / замужем                 0      F    пенсионер     0   \n",
       "1040              в разводе                 3      F    компаньон     0   \n",
       "1149        женат / замужем                 0      F    компаньон     0   \n",
       "1175        женат / замужем                 0      F    пенсионер     0   \n",
       "1386        женат / замужем                 0      M  госслужащий     0   \n",
       "1890  Не женат / не замужем                 4      F    сотрудник     0   \n",
       "1898         вдовец / вдова                 2      F    пенсионер     0   \n",
       "\n",
       "       total_income                                 purpose  \n",
       "99     71291.522491                              автомобиль  \n",
       "149    70176.435951                       операции с жильем  \n",
       "270   102166.458894                            ремонт жилью  \n",
       "578    97620.687042  строительство собственной недвижимости  \n",
       "1040  303994.134987                         свой автомобиль  \n",
       "1149  201852.430096                    покупка недвижимости  \n",
       "1175  313949.845188   получение дополнительного образования  \n",
       "1386  240523.618071                    сделка с автомобилем  \n",
       "1890            NaN                                   жилье  \n",
       "1898  127400.268338                   на покупку автомобиля  "
      ]
     },
     "execution_count": 13,
     "metadata": {},
     "output_type": "execute_result"
    }
   ],
   "source": [
    "#  вывод первых 10 строк data, в которых значение столбца dob_years равно 0\n",
    "data[data['dob_years'] == 0].head(10)"
   ]
  },
  {
   "cell_type": "markdown",
   "metadata": {},
   "source": [
    "Наличие в ряде записей возраста клиента равного нулю выглядит как случайные ошибки. Таких записей немного (101 из 21525 строк или 0,47%)."
   ]
  },
  {
   "cell_type": "markdown",
   "metadata": {},
   "source": [
    "#### `education`"
   ]
  },
  {
   "cell_type": "code",
   "execution_count": 14,
   "metadata": {},
   "outputs": [
    {
     "data": {
      "text/html": [
       "<div>\n",
       "<style scoped>\n",
       "    .dataframe tbody tr th:only-of-type {\n",
       "        vertical-align: middle;\n",
       "    }\n",
       "\n",
       "    .dataframe tbody tr th {\n",
       "        vertical-align: top;\n",
       "    }\n",
       "\n",
       "    .dataframe thead th {\n",
       "        text-align: right;\n",
       "    }\n",
       "</style>\n",
       "<table border=\"1\" class=\"dataframe\">\n",
       "  <thead>\n",
       "    <tr style=\"text-align: right;\">\n",
       "      <th></th>\n",
       "      <th>education</th>\n",
       "    </tr>\n",
       "  </thead>\n",
       "  <tbody>\n",
       "    <tr>\n",
       "      <td>среднее</td>\n",
       "      <td>13750</td>\n",
       "    </tr>\n",
       "    <tr>\n",
       "      <td>высшее</td>\n",
       "      <td>4718</td>\n",
       "    </tr>\n",
       "    <tr>\n",
       "      <td>СРЕДНЕЕ</td>\n",
       "      <td>772</td>\n",
       "    </tr>\n",
       "    <tr>\n",
       "      <td>Среднее</td>\n",
       "      <td>711</td>\n",
       "    </tr>\n",
       "    <tr>\n",
       "      <td>неоконченное высшее</td>\n",
       "      <td>668</td>\n",
       "    </tr>\n",
       "    <tr>\n",
       "      <td>ВЫСШЕЕ</td>\n",
       "      <td>274</td>\n",
       "    </tr>\n",
       "    <tr>\n",
       "      <td>Высшее</td>\n",
       "      <td>268</td>\n",
       "    </tr>\n",
       "    <tr>\n",
       "      <td>начальное</td>\n",
       "      <td>250</td>\n",
       "    </tr>\n",
       "    <tr>\n",
       "      <td>Неоконченное высшее</td>\n",
       "      <td>47</td>\n",
       "    </tr>\n",
       "    <tr>\n",
       "      <td>НЕОКОНЧЕННОЕ ВЫСШЕЕ</td>\n",
       "      <td>29</td>\n",
       "    </tr>\n",
       "    <tr>\n",
       "      <td>НАЧАЛЬНОЕ</td>\n",
       "      <td>17</td>\n",
       "    </tr>\n",
       "    <tr>\n",
       "      <td>Начальное</td>\n",
       "      <td>15</td>\n",
       "    </tr>\n",
       "    <tr>\n",
       "      <td>ученая степень</td>\n",
       "      <td>4</td>\n",
       "    </tr>\n",
       "    <tr>\n",
       "      <td>Ученая степень</td>\n",
       "      <td>1</td>\n",
       "    </tr>\n",
       "    <tr>\n",
       "      <td>УЧЕНАЯ СТЕПЕНЬ</td>\n",
       "      <td>1</td>\n",
       "    </tr>\n",
       "  </tbody>\n",
       "</table>\n",
       "</div>"
      ],
      "text/plain": [
       "                     education\n",
       "среднее                  13750\n",
       "высшее                    4718\n",
       "СРЕДНЕЕ                    772\n",
       "Среднее                    711\n",
       "неоконченное высшее        668\n",
       "ВЫСШЕЕ                     274\n",
       "Высшее                     268\n",
       "начальное                  250\n",
       "Неоконченное высшее         47\n",
       "НЕОКОНЧЕННОЕ ВЫСШЕЕ         29\n",
       "НАЧАЛЬНОЕ                   17\n",
       "Начальное                   15\n",
       "ученая степень               4\n",
       "Ученая степень               1\n",
       "УЧЕНАЯ СТЕПЕНЬ               1"
      ]
     },
     "execution_count": 14,
     "metadata": {},
     "output_type": "execute_result"
    }
   ],
   "source": [
    "# подсчёт количества уникальных записей по столбцу education\n",
    "data['education'].value_counts().to_frame()"
   ]
  },
  {
   "cell_type": "markdown",
   "metadata": {},
   "source": [
    "В столбце `education` присутствуют неявные дубликаты, однако каких-либо ошибочных значений нет."
   ]
  },
  {
   "cell_type": "code",
   "execution_count": 15,
   "metadata": {},
   "outputs": [
    {
     "data": {
      "text/html": [
       "<div>\n",
       "<style scoped>\n",
       "    .dataframe tbody tr th:only-of-type {\n",
       "        vertical-align: middle;\n",
       "    }\n",
       "\n",
       "    .dataframe tbody tr th {\n",
       "        vertical-align: top;\n",
       "    }\n",
       "\n",
       "    .dataframe thead th {\n",
       "        text-align: right;\n",
       "    }\n",
       "</style>\n",
       "<table border=\"1\" class=\"dataframe\">\n",
       "  <thead>\n",
       "    <tr style=\"text-align: right;\">\n",
       "      <th></th>\n",
       "      <th>education</th>\n",
       "    </tr>\n",
       "  </thead>\n",
       "  <tbody>\n",
       "    <tr>\n",
       "      <td>среднее</td>\n",
       "      <td>15233</td>\n",
       "    </tr>\n",
       "    <tr>\n",
       "      <td>высшее</td>\n",
       "      <td>5260</td>\n",
       "    </tr>\n",
       "    <tr>\n",
       "      <td>неоконченное высшее</td>\n",
       "      <td>744</td>\n",
       "    </tr>\n",
       "    <tr>\n",
       "      <td>начальное</td>\n",
       "      <td>282</td>\n",
       "    </tr>\n",
       "    <tr>\n",
       "      <td>ученая степень</td>\n",
       "      <td>6</td>\n",
       "    </tr>\n",
       "  </tbody>\n",
       "</table>\n",
       "</div>"
      ],
      "text/plain": [
       "                     education\n",
       "среднее                  15233\n",
       "высшее                    5260\n",
       "неоконченное высшее        744\n",
       "начальное                  282\n",
       "ученая степень               6"
      ]
     },
     "execution_count": 15,
     "metadata": {},
     "output_type": "execute_result"
    }
   ],
   "source": [
    "data['education'] = data['education'].str.lower()  # Приведем столбец education к нижнему регистру\n",
    "data['education'].value_counts().to_frame()  # Проверка результата"
   ]
  },
  {
   "cell_type": "markdown",
   "metadata": {},
   "source": [
    "#### `education_id`"
   ]
  },
  {
   "cell_type": "code",
   "execution_count": 16,
   "metadata": {},
   "outputs": [
    {
     "data": {
      "text/html": [
       "<div>\n",
       "<style scoped>\n",
       "    .dataframe tbody tr th:only-of-type {\n",
       "        vertical-align: middle;\n",
       "    }\n",
       "\n",
       "    .dataframe tbody tr th {\n",
       "        vertical-align: top;\n",
       "    }\n",
       "\n",
       "    .dataframe thead th {\n",
       "        text-align: right;\n",
       "    }\n",
       "</style>\n",
       "<table border=\"1\" class=\"dataframe\">\n",
       "  <thead>\n",
       "    <tr style=\"text-align: right;\">\n",
       "      <th></th>\n",
       "      <th>education_id</th>\n",
       "    </tr>\n",
       "  </thead>\n",
       "  <tbody>\n",
       "    <tr>\n",
       "      <td>1</td>\n",
       "      <td>15233</td>\n",
       "    </tr>\n",
       "    <tr>\n",
       "      <td>0</td>\n",
       "      <td>5260</td>\n",
       "    </tr>\n",
       "    <tr>\n",
       "      <td>2</td>\n",
       "      <td>744</td>\n",
       "    </tr>\n",
       "    <tr>\n",
       "      <td>3</td>\n",
       "      <td>282</td>\n",
       "    </tr>\n",
       "    <tr>\n",
       "      <td>4</td>\n",
       "      <td>6</td>\n",
       "    </tr>\n",
       "  </tbody>\n",
       "</table>\n",
       "</div>"
      ],
      "text/plain": [
       "   education_id\n",
       "1         15233\n",
       "0          5260\n",
       "2           744\n",
       "3           282\n",
       "4             6"
      ]
     },
     "execution_count": 16,
     "metadata": {},
     "output_type": "execute_result"
    }
   ],
   "source": [
    "# подсчёт количества уникальных записей по столбцу education_id\n",
    "data['education_id'].value_counts().to_frame()"
   ]
  },
  {
   "cell_type": "markdown",
   "metadata": {},
   "source": [
    "По результатам анализа столбцов `education_id` и `education` можно сделать предположение, что между ними имеется следующее соответствие:\n",
    "* 0 - клиент с высшим образованием\n",
    "* 1 - клиент со средним образованием\n",
    "* 2 - клиент с неоконченным высшим образованием\n",
    "* 3 - клиент с начальным образованием\n",
    "* 4 - клиент с учёной степенью"
   ]
  },
  {
   "cell_type": "markdown",
   "metadata": {},
   "source": [
    "#### `family_status`"
   ]
  },
  {
   "cell_type": "code",
   "execution_count": 17,
   "metadata": {},
   "outputs": [
    {
     "data": {
      "text/html": [
       "<div>\n",
       "<style scoped>\n",
       "    .dataframe tbody tr th:only-of-type {\n",
       "        vertical-align: middle;\n",
       "    }\n",
       "\n",
       "    .dataframe tbody tr th {\n",
       "        vertical-align: top;\n",
       "    }\n",
       "\n",
       "    .dataframe thead th {\n",
       "        text-align: right;\n",
       "    }\n",
       "</style>\n",
       "<table border=\"1\" class=\"dataframe\">\n",
       "  <thead>\n",
       "    <tr style=\"text-align: right;\">\n",
       "      <th></th>\n",
       "      <th>family_status</th>\n",
       "    </tr>\n",
       "  </thead>\n",
       "  <tbody>\n",
       "    <tr>\n",
       "      <td>женат / замужем</td>\n",
       "      <td>12380</td>\n",
       "    </tr>\n",
       "    <tr>\n",
       "      <td>гражданский брак</td>\n",
       "      <td>4177</td>\n",
       "    </tr>\n",
       "    <tr>\n",
       "      <td>Не женат / не замужем</td>\n",
       "      <td>2813</td>\n",
       "    </tr>\n",
       "    <tr>\n",
       "      <td>в разводе</td>\n",
       "      <td>1195</td>\n",
       "    </tr>\n",
       "    <tr>\n",
       "      <td>вдовец / вдова</td>\n",
       "      <td>960</td>\n",
       "    </tr>\n",
       "  </tbody>\n",
       "</table>\n",
       "</div>"
      ],
      "text/plain": [
       "                       family_status\n",
       "женат / замужем                12380\n",
       "гражданский брак                4177\n",
       "Не женат / не замужем           2813\n",
       "в разводе                       1195\n",
       "вдовец / вдова                   960"
      ]
     },
     "execution_count": 17,
     "metadata": {},
     "output_type": "execute_result"
    }
   ],
   "source": [
    "# подсчёт количества уникальных записей по столбцу family_status\n",
    "data['family_status'].value_counts().to_frame()"
   ]
  },
  {
   "cell_type": "markdown",
   "metadata": {},
   "source": [
    "В столбце `family_status` каких-либо ошибочных значений нет. Для однообразия можно заменить \"Не женат / не замужем\" на \"не женат / не замужем\""
   ]
  },
  {
   "cell_type": "code",
   "execution_count": 18,
   "metadata": {},
   "outputs": [
    {
     "data": {
      "text/html": [
       "<div>\n",
       "<style scoped>\n",
       "    .dataframe tbody tr th:only-of-type {\n",
       "        vertical-align: middle;\n",
       "    }\n",
       "\n",
       "    .dataframe tbody tr th {\n",
       "        vertical-align: top;\n",
       "    }\n",
       "\n",
       "    .dataframe thead th {\n",
       "        text-align: right;\n",
       "    }\n",
       "</style>\n",
       "<table border=\"1\" class=\"dataframe\">\n",
       "  <thead>\n",
       "    <tr style=\"text-align: right;\">\n",
       "      <th></th>\n",
       "      <th>family_status</th>\n",
       "    </tr>\n",
       "  </thead>\n",
       "  <tbody>\n",
       "    <tr>\n",
       "      <td>женат / замужем</td>\n",
       "      <td>12380</td>\n",
       "    </tr>\n",
       "    <tr>\n",
       "      <td>гражданский брак</td>\n",
       "      <td>4177</td>\n",
       "    </tr>\n",
       "    <tr>\n",
       "      <td>не женат / не замужем</td>\n",
       "      <td>2813</td>\n",
       "    </tr>\n",
       "    <tr>\n",
       "      <td>в разводе</td>\n",
       "      <td>1195</td>\n",
       "    </tr>\n",
       "    <tr>\n",
       "      <td>вдовец / вдова</td>\n",
       "      <td>960</td>\n",
       "    </tr>\n",
       "  </tbody>\n",
       "</table>\n",
       "</div>"
      ],
      "text/plain": [
       "                       family_status\n",
       "женат / замужем                12380\n",
       "гражданский брак                4177\n",
       "не женат / не замужем           2813\n",
       "в разводе                       1195\n",
       "вдовец / вдова                   960"
      ]
     },
     "execution_count": 18,
     "metadata": {},
     "output_type": "execute_result"
    }
   ],
   "source": [
    "data.loc[data['family_status']=='Не женат / не замужем', 'family_status'] = 'не женат / не замужем'\n",
    "data['family_status'].value_counts().to_frame()"
   ]
  },
  {
   "cell_type": "markdown",
   "metadata": {},
   "source": [
    "#### `family_status_id`"
   ]
  },
  {
   "cell_type": "code",
   "execution_count": 19,
   "metadata": {},
   "outputs": [
    {
     "data": {
      "text/html": [
       "<div>\n",
       "<style scoped>\n",
       "    .dataframe tbody tr th:only-of-type {\n",
       "        vertical-align: middle;\n",
       "    }\n",
       "\n",
       "    .dataframe tbody tr th {\n",
       "        vertical-align: top;\n",
       "    }\n",
       "\n",
       "    .dataframe thead th {\n",
       "        text-align: right;\n",
       "    }\n",
       "</style>\n",
       "<table border=\"1\" class=\"dataframe\">\n",
       "  <thead>\n",
       "    <tr style=\"text-align: right;\">\n",
       "      <th></th>\n",
       "      <th>family_status_id</th>\n",
       "    </tr>\n",
       "  </thead>\n",
       "  <tbody>\n",
       "    <tr>\n",
       "      <td>0</td>\n",
       "      <td>12380</td>\n",
       "    </tr>\n",
       "    <tr>\n",
       "      <td>1</td>\n",
       "      <td>4177</td>\n",
       "    </tr>\n",
       "    <tr>\n",
       "      <td>4</td>\n",
       "      <td>2813</td>\n",
       "    </tr>\n",
       "    <tr>\n",
       "      <td>3</td>\n",
       "      <td>1195</td>\n",
       "    </tr>\n",
       "    <tr>\n",
       "      <td>2</td>\n",
       "      <td>960</td>\n",
       "    </tr>\n",
       "  </tbody>\n",
       "</table>\n",
       "</div>"
      ],
      "text/plain": [
       "   family_status_id\n",
       "0             12380\n",
       "1              4177\n",
       "4              2813\n",
       "3              1195\n",
       "2               960"
      ]
     },
     "execution_count": 19,
     "metadata": {},
     "output_type": "execute_result"
    }
   ],
   "source": [
    "# подсчёт количества уникальных записей по столбцу family_status_id\n",
    "data['family_status_id'].value_counts().to_frame()"
   ]
  },
  {
   "cell_type": "markdown",
   "metadata": {},
   "source": [
    "По результатам анализа столбцов `family_status_id` и `family_status` и можно сделать предположение, что между ними имеется следующее соответствие:\n",
    "\n",
    "* 0 - клиент женат/замужем\n",
    "* 1 - клиент состоит в гражданском браке\n",
    "* 2 - клиент вдовец/вдова\n",
    "* 3 - клиент в разводе\n",
    "* 4 - клиент не женат/не замужем"
   ]
  },
  {
   "cell_type": "code",
   "execution_count": 20,
   "metadata": {},
   "outputs": [],
   "source": [
    "data.drop(['family_status', 'education'], axis=1, inplace=True)"
   ]
  },
  {
   "cell_type": "markdown",
   "metadata": {},
   "source": [
    "#### `gender`"
   ]
  },
  {
   "cell_type": "code",
   "execution_count": 21,
   "metadata": {},
   "outputs": [
    {
     "data": {
      "text/html": [
       "<div>\n",
       "<style scoped>\n",
       "    .dataframe tbody tr th:only-of-type {\n",
       "        vertical-align: middle;\n",
       "    }\n",
       "\n",
       "    .dataframe tbody tr th {\n",
       "        vertical-align: top;\n",
       "    }\n",
       "\n",
       "    .dataframe thead th {\n",
       "        text-align: right;\n",
       "    }\n",
       "</style>\n",
       "<table border=\"1\" class=\"dataframe\">\n",
       "  <thead>\n",
       "    <tr style=\"text-align: right;\">\n",
       "      <th></th>\n",
       "      <th>gender</th>\n",
       "    </tr>\n",
       "  </thead>\n",
       "  <tbody>\n",
       "    <tr>\n",
       "      <td>F</td>\n",
       "      <td>14236</td>\n",
       "    </tr>\n",
       "    <tr>\n",
       "      <td>M</td>\n",
       "      <td>7288</td>\n",
       "    </tr>\n",
       "    <tr>\n",
       "      <td>XNA</td>\n",
       "      <td>1</td>\n",
       "    </tr>\n",
       "  </tbody>\n",
       "</table>\n",
       "</div>"
      ],
      "text/plain": [
       "     gender\n",
       "F     14236\n",
       "M      7288\n",
       "XNA       1"
      ]
     },
     "execution_count": 21,
     "metadata": {},
     "output_type": "execute_result"
    }
   ],
   "source": [
    "# подсчёт количества уникальных записей по столбцу gender\n",
    "data['gender'].value_counts().to_frame()"
   ]
  },
  {
   "cell_type": "markdown",
   "metadata": {},
   "source": [
    "Внезапно есть третий пол XNA или одно пропущенное значение."
   ]
  },
  {
   "cell_type": "markdown",
   "metadata": {},
   "source": [
    "#### `income_type`"
   ]
  },
  {
   "cell_type": "code",
   "execution_count": 22,
   "metadata": {},
   "outputs": [
    {
     "data": {
      "text/html": [
       "<div>\n",
       "<style scoped>\n",
       "    .dataframe tbody tr th:only-of-type {\n",
       "        vertical-align: middle;\n",
       "    }\n",
       "\n",
       "    .dataframe tbody tr th {\n",
       "        vertical-align: top;\n",
       "    }\n",
       "\n",
       "    .dataframe thead th {\n",
       "        text-align: right;\n",
       "    }\n",
       "</style>\n",
       "<table border=\"1\" class=\"dataframe\">\n",
       "  <thead>\n",
       "    <tr style=\"text-align: right;\">\n",
       "      <th></th>\n",
       "      <th>income_type</th>\n",
       "    </tr>\n",
       "  </thead>\n",
       "  <tbody>\n",
       "    <tr>\n",
       "      <td>сотрудник</td>\n",
       "      <td>11119</td>\n",
       "    </tr>\n",
       "    <tr>\n",
       "      <td>компаньон</td>\n",
       "      <td>5085</td>\n",
       "    </tr>\n",
       "    <tr>\n",
       "      <td>пенсионер</td>\n",
       "      <td>3856</td>\n",
       "    </tr>\n",
       "    <tr>\n",
       "      <td>госслужащий</td>\n",
       "      <td>1459</td>\n",
       "    </tr>\n",
       "    <tr>\n",
       "      <td>безработный</td>\n",
       "      <td>2</td>\n",
       "    </tr>\n",
       "    <tr>\n",
       "      <td>предприниматель</td>\n",
       "      <td>2</td>\n",
       "    </tr>\n",
       "    <tr>\n",
       "      <td>студент</td>\n",
       "      <td>1</td>\n",
       "    </tr>\n",
       "    <tr>\n",
       "      <td>в декрете</td>\n",
       "      <td>1</td>\n",
       "    </tr>\n",
       "  </tbody>\n",
       "</table>\n",
       "</div>"
      ],
      "text/plain": [
       "                 income_type\n",
       "сотрудник              11119\n",
       "компаньон               5085\n",
       "пенсионер               3856\n",
       "госслужащий             1459\n",
       "безработный                2\n",
       "предприниматель            2\n",
       "студент                    1\n",
       "в декрете                  1"
      ]
     },
     "execution_count": 22,
     "metadata": {},
     "output_type": "execute_result"
    }
   ],
   "source": [
    "# подсчёт количества уникальных записей по столбцу income_type\n",
    "data['income_type'].value_counts().to_frame()"
   ]
  },
  {
   "cell_type": "markdown",
   "metadata": {},
   "source": [
    "Какие-то неожиданности и аномалии отсутствуют."
   ]
  },
  {
   "cell_type": "markdown",
   "metadata": {},
   "source": [
    "#### `debt`"
   ]
  },
  {
   "cell_type": "code",
   "execution_count": 23,
   "metadata": {},
   "outputs": [
    {
     "data": {
      "text/html": [
       "<div>\n",
       "<style scoped>\n",
       "    .dataframe tbody tr th:only-of-type {\n",
       "        vertical-align: middle;\n",
       "    }\n",
       "\n",
       "    .dataframe tbody tr th {\n",
       "        vertical-align: top;\n",
       "    }\n",
       "\n",
       "    .dataframe thead th {\n",
       "        text-align: right;\n",
       "    }\n",
       "</style>\n",
       "<table border=\"1\" class=\"dataframe\">\n",
       "  <thead>\n",
       "    <tr style=\"text-align: right;\">\n",
       "      <th></th>\n",
       "      <th>debt</th>\n",
       "    </tr>\n",
       "  </thead>\n",
       "  <tbody>\n",
       "    <tr>\n",
       "      <td>0</td>\n",
       "      <td>19784</td>\n",
       "    </tr>\n",
       "    <tr>\n",
       "      <td>1</td>\n",
       "      <td>1741</td>\n",
       "    </tr>\n",
       "  </tbody>\n",
       "</table>\n",
       "</div>"
      ],
      "text/plain": [
       "    debt\n",
       "0  19784\n",
       "1   1741"
      ]
     },
     "execution_count": 23,
     "metadata": {},
     "output_type": "execute_result"
    }
   ],
   "source": [
    "# подсчёт количества уникальных записей по столбцу debt\n",
    "data['debt'].value_counts().to_frame()"
   ]
  },
  {
   "cell_type": "markdown",
   "metadata": {},
   "source": [
    "Какие-то неожиданности и аномалии отсутствуют. Кажется, большинство клиентов возвращают долги вовремя."
   ]
  },
  {
   "cell_type": "markdown",
   "metadata": {},
   "source": [
    "#### total_income"
   ]
  },
  {
   "cell_type": "markdown",
   "metadata": {},
   "source": [
    "В данном столбце также всречаются пропуски. Визуализируем его значения для анализа возможности их дальнейшего заполнения."
   ]
  },
  {
   "cell_type": "code",
   "execution_count": 24,
   "metadata": {},
   "outputs": [
    {
     "data": {
      "text/plain": [
       "<matplotlib.axes._subplots.AxesSubplot at 0x7f60f5ea8c10>"
      ]
     },
     "execution_count": 24,
     "metadata": {},
     "output_type": "execute_result"
    },
    {
     "data": {
      "image/png": "[encoded data removed]",
      "text/plain": [
       "<Figure size 1440x720 with 1 Axes>"
      ]
     },
     "metadata": {},
     "output_type": "display_data"
    }
   ],
   "source": [
    "# вывод графика: по оси X - данные из столбца total_income,\n",
    "# а по оси Y - данные из столбца income_type\n",
    "sns.scatterplot(x=data['total_income'], y=data['income_type'])"
   ]
  },
  {
   "cell_type": "markdown",
   "metadata": {},
   "source": [
    "Кроме пропущенных значений каких-либо аномалий в данном столбце нет."
   ]
  },
  {
   "cell_type": "markdown",
   "metadata": {},
   "source": [
    "#### `purpose`"
   ]
  },
  {
   "cell_type": "code",
   "execution_count": 25,
   "metadata": {},
   "outputs": [
    {
     "data": {
      "text/html": [
       "<div>\n",
       "<style scoped>\n",
       "    .dataframe tbody tr th:only-of-type {\n",
       "        vertical-align: middle;\n",
       "    }\n",
       "\n",
       "    .dataframe tbody tr th {\n",
       "        vertical-align: top;\n",
       "    }\n",
       "\n",
       "    .dataframe thead th {\n",
       "        text-align: right;\n",
       "    }\n",
       "</style>\n",
       "<table border=\"1\" class=\"dataframe\">\n",
       "  <thead>\n",
       "    <tr style=\"text-align: right;\">\n",
       "      <th></th>\n",
       "      <th>purpose</th>\n",
       "    </tr>\n",
       "  </thead>\n",
       "  <tbody>\n",
       "    <tr>\n",
       "      <td>свадьба</td>\n",
       "      <td>797</td>\n",
       "    </tr>\n",
       "    <tr>\n",
       "      <td>на проведение свадьбы</td>\n",
       "      <td>777</td>\n",
       "    </tr>\n",
       "    <tr>\n",
       "      <td>сыграть свадьбу</td>\n",
       "      <td>774</td>\n",
       "    </tr>\n",
       "    <tr>\n",
       "      <td>операции с недвижимостью</td>\n",
       "      <td>676</td>\n",
       "    </tr>\n",
       "    <tr>\n",
       "      <td>покупка коммерческой недвижимости</td>\n",
       "      <td>664</td>\n",
       "    </tr>\n",
       "    <tr>\n",
       "      <td>операции с жильем</td>\n",
       "      <td>653</td>\n",
       "    </tr>\n",
       "    <tr>\n",
       "      <td>покупка жилья для сдачи</td>\n",
       "      <td>653</td>\n",
       "    </tr>\n",
       "    <tr>\n",
       "      <td>операции с коммерческой недвижимостью</td>\n",
       "      <td>651</td>\n",
       "    </tr>\n",
       "    <tr>\n",
       "      <td>покупка жилья</td>\n",
       "      <td>647</td>\n",
       "    </tr>\n",
       "    <tr>\n",
       "      <td>жилье</td>\n",
       "      <td>647</td>\n",
       "    </tr>\n",
       "    <tr>\n",
       "      <td>покупка жилья для семьи</td>\n",
       "      <td>641</td>\n",
       "    </tr>\n",
       "    <tr>\n",
       "      <td>строительство собственной недвижимости</td>\n",
       "      <td>635</td>\n",
       "    </tr>\n",
       "    <tr>\n",
       "      <td>недвижимость</td>\n",
       "      <td>634</td>\n",
       "    </tr>\n",
       "    <tr>\n",
       "      <td>операции со своей недвижимостью</td>\n",
       "      <td>630</td>\n",
       "    </tr>\n",
       "    <tr>\n",
       "      <td>строительство жилой недвижимости</td>\n",
       "      <td>626</td>\n",
       "    </tr>\n",
       "    <tr>\n",
       "      <td>покупка недвижимости</td>\n",
       "      <td>624</td>\n",
       "    </tr>\n",
       "    <tr>\n",
       "      <td>покупка своего жилья</td>\n",
       "      <td>620</td>\n",
       "    </tr>\n",
       "    <tr>\n",
       "      <td>строительство недвижимости</td>\n",
       "      <td>620</td>\n",
       "    </tr>\n",
       "    <tr>\n",
       "      <td>ремонт жилью</td>\n",
       "      <td>612</td>\n",
       "    </tr>\n",
       "    <tr>\n",
       "      <td>покупка жилой недвижимости</td>\n",
       "      <td>607</td>\n",
       "    </tr>\n",
       "    <tr>\n",
       "      <td>на покупку своего автомобиля</td>\n",
       "      <td>505</td>\n",
       "    </tr>\n",
       "    <tr>\n",
       "      <td>заняться высшим образованием</td>\n",
       "      <td>496</td>\n",
       "    </tr>\n",
       "    <tr>\n",
       "      <td>автомобиль</td>\n",
       "      <td>495</td>\n",
       "    </tr>\n",
       "    <tr>\n",
       "      <td>сделка с подержанным автомобилем</td>\n",
       "      <td>489</td>\n",
       "    </tr>\n",
       "    <tr>\n",
       "      <td>свой автомобиль</td>\n",
       "      <td>480</td>\n",
       "    </tr>\n",
       "    <tr>\n",
       "      <td>на покупку подержанного автомобиля</td>\n",
       "      <td>479</td>\n",
       "    </tr>\n",
       "    <tr>\n",
       "      <td>автомобили</td>\n",
       "      <td>478</td>\n",
       "    </tr>\n",
       "    <tr>\n",
       "      <td>на покупку автомобиля</td>\n",
       "      <td>472</td>\n",
       "    </tr>\n",
       "    <tr>\n",
       "      <td>приобретение автомобиля</td>\n",
       "      <td>462</td>\n",
       "    </tr>\n",
       "    <tr>\n",
       "      <td>дополнительное образование</td>\n",
       "      <td>462</td>\n",
       "    </tr>\n",
       "    <tr>\n",
       "      <td>сделка с автомобилем</td>\n",
       "      <td>455</td>\n",
       "    </tr>\n",
       "    <tr>\n",
       "      <td>высшее образование</td>\n",
       "      <td>453</td>\n",
       "    </tr>\n",
       "    <tr>\n",
       "      <td>получение дополнительного образования</td>\n",
       "      <td>447</td>\n",
       "    </tr>\n",
       "    <tr>\n",
       "      <td>образование</td>\n",
       "      <td>447</td>\n",
       "    </tr>\n",
       "    <tr>\n",
       "      <td>получение образования</td>\n",
       "      <td>443</td>\n",
       "    </tr>\n",
       "    <tr>\n",
       "      <td>профильное образование</td>\n",
       "      <td>436</td>\n",
       "    </tr>\n",
       "    <tr>\n",
       "      <td>получение высшего образования</td>\n",
       "      <td>426</td>\n",
       "    </tr>\n",
       "    <tr>\n",
       "      <td>заняться образованием</td>\n",
       "      <td>412</td>\n",
       "    </tr>\n",
       "  </tbody>\n",
       "</table>\n",
       "</div>"
      ],
      "text/plain": [
       "                                        purpose\n",
       "свадьба                                     797\n",
       "на проведение свадьбы                       777\n",
       "сыграть свадьбу                             774\n",
       "операции с недвижимостью                    676\n",
       "покупка коммерческой недвижимости           664\n",
       "операции с жильем                           653\n",
       "покупка жилья для сдачи                     653\n",
       "операции с коммерческой недвижимостью       651\n",
       "покупка жилья                               647\n",
       "жилье                                       647\n",
       "покупка жилья для семьи                     641\n",
       "строительство собственной недвижимости      635\n",
       "недвижимость                                634\n",
       "операции со своей недвижимостью             630\n",
       "строительство жилой недвижимости            626\n",
       "покупка недвижимости                        624\n",
       "покупка своего жилья                        620\n",
       "строительство недвижимости                  620\n",
       "ремонт жилью                                612\n",
       "покупка жилой недвижимости                  607\n",
       "на покупку своего автомобиля                505\n",
       "заняться высшим образованием                496\n",
       "автомобиль                                  495\n",
       "сделка с подержанным автомобилем            489\n",
       "свой автомобиль                             480\n",
       "на покупку подержанного автомобиля          479\n",
       "автомобили                                  478\n",
       "на покупку автомобиля                       472\n",
       "приобретение автомобиля                     462\n",
       "дополнительное образование                  462\n",
       "сделка с автомобилем                        455\n",
       "высшее образование                          453\n",
       "получение дополнительного образования       447\n",
       "образование                                 447\n",
       "получение образования                       443\n",
       "профильное образование                      436\n",
       "получение высшего образования               426\n",
       "заняться образованием                       412"
      ]
     },
     "execution_count": 25,
     "metadata": {},
     "output_type": "execute_result"
    }
   ],
   "source": [
    "# подсчёт количества уникальных записей по столбцу purpose\n",
    "data['purpose'].value_counts().to_frame()  "
   ]
  },
  {
   "cell_type": "markdown",
   "metadata": {},
   "source": [
    "Какие-то неожиданности и аномалии отсутствуют. Есть опечатки, неявные дубликаты. Некоторые записи несут больше информации, чем другие."
   ]
  },
  {
   "cell_type": "markdown",
   "metadata": {},
   "source": [
    "### Выводы по данным\n",
    "\n",
    "1. Информация по столбцам\n",
    "* `children` — количество детей в семье\n",
    " + есть 0,5% недостоверных значений, которые необходимо исключить из выборки при анализе\n",
    "---\n",
    "* `days_employed` — общий трудовой стаж в днях\n",
    " + есть пропуски, надо заполнить. Корреляции с восрастом клиента нет.\n",
    " + необходимо поменять тип данных на целочисленный\n",
    "---\n",
    "* `dob_years` — возраст клиента в годах\n",
    " + есть 0,5% недостоверных значений, но столбец **не имеет прямого** отношения к поставленным вопросам. Для исследования **не нужен**.\n",
    "---\n",
    "* `education` — уровень образования клиента\n",
    " + столбец **не имеет прямого** отношения к поставленным вопросам. Для исследования **не нужен**.\n",
    "---\n",
    "* `education_id` — идентификатор уровня образования\n",
    " + столбец **не имеет прямого** отношения к поставленным вопросам. Для исследования **не нужен**.\n",
    "---\n",
    "* `family_status` — семейное положение\n",
    " + столбец **не имеет прямого** отношения к поставленным вопросам\n",
    "---\n",
    "* `family_status_id` — идентификатор семейного положения\n",
    " + столбец **имеет прямое** отношение к поставленным вопросам\n",
    "---\n",
    "* `gender` — пол клиента\n",
    " + столбец **не имеет прямого** отношения к поставленным вопросам. Для исследования **не нужен**.\n",
    "---\n",
    "* `income_type` — тип занятости\n",
    " + столбец **не имеет прямого** отношения к поставленным вопросам. Можно использовать для восстановления данных по столбцу `total_income`\n",
    "---\n",
    "* `debt` — имел ли задолженность по возврату кредитов\n",
    " + отсутствуют замечания по данным. \n",
    "---\n",
    "* `total_income` — ежемесячный доход\n",
    " + есть пропуски\n",
    " + столбец **имеет прямое** отношение к поставленным вопросам\n",
    "---\n",
    "* `purpose` — цель получения кредита\n",
    " + столбец **имеет прямое** отношение к поставленным вопросам\n",
    " + цели указаны бессистемно, необходим ручной поиск дубликатов."
   ]
  },
  {
   "cell_type": "markdown",
   "metadata": {},
   "source": [
    "## Предобработка данных"
   ]
  },
  {
   "cell_type": "markdown",
   "metadata": {},
   "source": [
    "### Обработка пропусков"
   ]
  },
  {
   "cell_type": "code",
   "execution_count": 26,
   "metadata": {},
   "outputs": [
    {
     "data": {
      "text/plain": [
       "children               0\n",
       "days_employed       2174\n",
       "dob_years              0\n",
       "education_id           0\n",
       "family_status_id       0\n",
       "gender                 0\n",
       "income_type            0\n",
       "debt                   0\n",
       "total_income        2174\n",
       "purpose                0\n",
       "dtype: int64"
      ]
     },
     "execution_count": 26,
     "metadata": {},
     "output_type": "execute_result"
    }
   ],
   "source": [
    "data.isna().sum()  # подсчёт пропусков"
   ]
  },
  {
   "cell_type": "code",
   "execution_count": 27,
   "metadata": {
    "scrolled": false
   },
   "outputs": [
    {
     "data": {
      "text/html": [
       "<div>\n",
       "<style scoped>\n",
       "    .dataframe tbody tr th:only-of-type {\n",
       "        vertical-align: middle;\n",
       "    }\n",
       "\n",
       "    .dataframe tbody tr th {\n",
       "        vertical-align: top;\n",
       "    }\n",
       "\n",
       "    .dataframe thead th {\n",
       "        text-align: right;\n",
       "    }\n",
       "</style>\n",
       "<table border=\"1\" class=\"dataframe\">\n",
       "  <thead>\n",
       "    <tr style=\"text-align: right;\">\n",
       "      <th></th>\n",
       "      <th>children</th>\n",
       "      <th>days_employed</th>\n",
       "      <th>dob_years</th>\n",
       "      <th>education_id</th>\n",
       "      <th>family_status_id</th>\n",
       "      <th>gender</th>\n",
       "      <th>income_type</th>\n",
       "      <th>debt</th>\n",
       "      <th>total_income</th>\n",
       "      <th>purpose</th>\n",
       "    </tr>\n",
       "  </thead>\n",
       "  <tbody>\n",
       "    <tr>\n",
       "      <td>12</td>\n",
       "      <td>0</td>\n",
       "      <td>NaN</td>\n",
       "      <td>65</td>\n",
       "      <td>1</td>\n",
       "      <td>1</td>\n",
       "      <td>M</td>\n",
       "      <td>пенсионер</td>\n",
       "      <td>0</td>\n",
       "      <td>NaN</td>\n",
       "      <td>сыграть свадьбу</td>\n",
       "    </tr>\n",
       "    <tr>\n",
       "      <td>26</td>\n",
       "      <td>0</td>\n",
       "      <td>NaN</td>\n",
       "      <td>41</td>\n",
       "      <td>1</td>\n",
       "      <td>0</td>\n",
       "      <td>M</td>\n",
       "      <td>госслужащий</td>\n",
       "      <td>0</td>\n",
       "      <td>NaN</td>\n",
       "      <td>образование</td>\n",
       "    </tr>\n",
       "    <tr>\n",
       "      <td>29</td>\n",
       "      <td>0</td>\n",
       "      <td>NaN</td>\n",
       "      <td>63</td>\n",
       "      <td>1</td>\n",
       "      <td>4</td>\n",
       "      <td>F</td>\n",
       "      <td>пенсионер</td>\n",
       "      <td>0</td>\n",
       "      <td>NaN</td>\n",
       "      <td>строительство жилой недвижимости</td>\n",
       "    </tr>\n",
       "    <tr>\n",
       "      <td>41</td>\n",
       "      <td>0</td>\n",
       "      <td>NaN</td>\n",
       "      <td>50</td>\n",
       "      <td>1</td>\n",
       "      <td>0</td>\n",
       "      <td>F</td>\n",
       "      <td>госслужащий</td>\n",
       "      <td>0</td>\n",
       "      <td>NaN</td>\n",
       "      <td>сделка с подержанным автомобилем</td>\n",
       "    </tr>\n",
       "    <tr>\n",
       "      <td>55</td>\n",
       "      <td>0</td>\n",
       "      <td>NaN</td>\n",
       "      <td>54</td>\n",
       "      <td>1</td>\n",
       "      <td>1</td>\n",
       "      <td>F</td>\n",
       "      <td>пенсионер</td>\n",
       "      <td>1</td>\n",
       "      <td>NaN</td>\n",
       "      <td>сыграть свадьбу</td>\n",
       "    </tr>\n",
       "    <tr>\n",
       "      <td>65</td>\n",
       "      <td>0</td>\n",
       "      <td>NaN</td>\n",
       "      <td>21</td>\n",
       "      <td>1</td>\n",
       "      <td>4</td>\n",
       "      <td>M</td>\n",
       "      <td>компаньон</td>\n",
       "      <td>0</td>\n",
       "      <td>NaN</td>\n",
       "      <td>операции с коммерческой недвижимостью</td>\n",
       "    </tr>\n",
       "    <tr>\n",
       "      <td>67</td>\n",
       "      <td>0</td>\n",
       "      <td>NaN</td>\n",
       "      <td>52</td>\n",
       "      <td>0</td>\n",
       "      <td>0</td>\n",
       "      <td>F</td>\n",
       "      <td>пенсионер</td>\n",
       "      <td>0</td>\n",
       "      <td>NaN</td>\n",
       "      <td>покупка жилья для семьи</td>\n",
       "    </tr>\n",
       "    <tr>\n",
       "      <td>72</td>\n",
       "      <td>1</td>\n",
       "      <td>NaN</td>\n",
       "      <td>32</td>\n",
       "      <td>0</td>\n",
       "      <td>0</td>\n",
       "      <td>M</td>\n",
       "      <td>госслужащий</td>\n",
       "      <td>0</td>\n",
       "      <td>NaN</td>\n",
       "      <td>операции с коммерческой недвижимостью</td>\n",
       "    </tr>\n",
       "    <tr>\n",
       "      <td>82</td>\n",
       "      <td>2</td>\n",
       "      <td>NaN</td>\n",
       "      <td>50</td>\n",
       "      <td>0</td>\n",
       "      <td>0</td>\n",
       "      <td>F</td>\n",
       "      <td>сотрудник</td>\n",
       "      <td>0</td>\n",
       "      <td>NaN</td>\n",
       "      <td>жилье</td>\n",
       "    </tr>\n",
       "    <tr>\n",
       "      <td>83</td>\n",
       "      <td>0</td>\n",
       "      <td>NaN</td>\n",
       "      <td>52</td>\n",
       "      <td>1</td>\n",
       "      <td>0</td>\n",
       "      <td>M</td>\n",
       "      <td>сотрудник</td>\n",
       "      <td>0</td>\n",
       "      <td>NaN</td>\n",
       "      <td>жилье</td>\n",
       "    </tr>\n",
       "  </tbody>\n",
       "</table>\n",
       "</div>"
      ],
      "text/plain": [
       "    children  days_employed  dob_years  education_id  family_status_id gender  \\\n",
       "12         0            NaN         65             1                 1      M   \n",
       "26         0            NaN         41             1                 0      M   \n",
       "29         0            NaN         63             1                 4      F   \n",
       "41         0            NaN         50             1                 0      F   \n",
       "55         0            NaN         54             1                 1      F   \n",
       "65         0            NaN         21             1                 4      M   \n",
       "67         0            NaN         52             0                 0      F   \n",
       "72         1            NaN         32             0                 0      M   \n",
       "82         2            NaN         50             0                 0      F   \n",
       "83         0            NaN         52             1                 0      M   \n",
       "\n",
       "    income_type  debt  total_income                                purpose  \n",
       "12    пенсионер     0           NaN                        сыграть свадьбу  \n",
       "26  госслужащий     0           NaN                            образование  \n",
       "29    пенсионер     0           NaN       строительство жилой недвижимости  \n",
       "41  госслужащий     0           NaN       сделка с подержанным автомобилем  \n",
       "55    пенсионер     1           NaN                        сыграть свадьбу  \n",
       "65    компаньон     0           NaN  операции с коммерческой недвижимостью  \n",
       "67    пенсионер     0           NaN                покупка жилья для семьи  \n",
       "72  госслужащий     0           NaN  операции с коммерческой недвижимостью  \n",
       "82    сотрудник     0           NaN                                  жилье  \n",
       "83    сотрудник     0           NaN                                  жилье  "
      ]
     },
     "metadata": {},
     "output_type": "display_data"
    }
   ],
   "source": [
    "# вывод строк с пропущенными значениями\n",
    "display(data[data['days_employed'].isna()].head(10))"
   ]
  },
  {
   "cell_type": "markdown",
   "metadata": {},
   "source": [
    "**Причины пропусков**\n",
    "\n",
    "Каких-то закономерностей не наблюдается, предоположим, что пропуски случайны. Пропущенные данные относятся к количественным переменным. Возможно данные были утеряны в процессе обработки в автоматизированных системах или от клиента не было информации о доходах и трудовом стаже, что странно при выдаче кредита."
   ]
  },
  {
   "cell_type": "markdown",
   "metadata": {},
   "source": [
    "#### `days_employed`"
   ]
  },
  {
   "cell_type": "code",
   "execution_count": 28,
   "metadata": {},
   "outputs": [
    {
     "name": "stdout",
     "output_type": "stream",
     "text": [
      "Средний стаж равен: 4641\n",
      "Медианное значение стажа равно: 2194\n"
     ]
    }
   ],
   "source": [
    "print('Средний стаж равен:', int(data['days_employed'].mean()))\n",
    "print('Медианное значение стажа равно:', int(data['days_employed'].median()))"
   ]
  },
  {
   "cell_type": "markdown",
   "metadata": {},
   "source": [
    "Хорошо бы знать как соотнести трудовой стаж в годах и трудовой стаж в днях, но нам это не известно. Для дальнейшего исследования выберим для заполнения пропусков медианное значение."
   ]
  },
  {
   "cell_type": "code",
   "execution_count": 29,
   "metadata": {},
   "outputs": [],
   "source": [
    "#  заполняем пропуски медианным значением\n",
    "data.loc[data['days_employed'].isna(), 'days_employed'] = data['days_employed'].median()"
   ]
  },
  {
   "cell_type": "code",
   "execution_count": 30,
   "metadata": {},
   "outputs": [
    {
     "name": "stdout",
     "output_type": "stream",
     "text": [
      "<class 'pandas.core.frame.DataFrame'>\n",
      "RangeIndex: 21525 entries, 0 to 21524\n",
      "Data columns (total 10 columns):\n",
      "children            21525 non-null int64\n",
      "days_employed       21525 non-null float64\n",
      "dob_years           21525 non-null int64\n",
      "education_id        21525 non-null int64\n",
      "family_status_id    21525 non-null int64\n",
      "gender              21525 non-null object\n",
      "income_type         21525 non-null object\n",
      "debt                21525 non-null int64\n",
      "total_income        19351 non-null float64\n",
      "purpose             21525 non-null object\n",
      "dtypes: float64(2), int64(5), object(3)\n",
      "memory usage: 1.6+ MB\n"
     ]
    }
   ],
   "source": [
    "data.info() # проверяем результат"
   ]
  },
  {
   "cell_type": "markdown",
   "metadata": {},
   "source": [
    "#### `total_income`"
   ]
  },
  {
   "cell_type": "code",
   "execution_count": 31,
   "metadata": {},
   "outputs": [],
   "source": [
    "# заполним пропуски по доходу медианным значением с группировкой в зависимости от типа занятости\n",
    "for income_type in data['income_type'].unique():  # перебираем виды занятости\n",
    "    median = data.loc[data['income_type'] == income_type, 'total_income'].median() \n",
    "    data.loc[(data['total_income'].isna()) & (data['income_type'] == income_type), 'total_income'] = median"
   ]
  },
  {
   "cell_type": "code",
   "execution_count": 32,
   "metadata": {},
   "outputs": [
    {
     "name": "stdout",
     "output_type": "stream",
     "text": [
      "<class 'pandas.core.frame.DataFrame'>\n",
      "RangeIndex: 21525 entries, 0 to 21524\n",
      "Data columns (total 10 columns):\n",
      "children            21525 non-null int64\n",
      "days_employed       21525 non-null float64\n",
      "dob_years           21525 non-null int64\n",
      "education_id        21525 non-null int64\n",
      "family_status_id    21525 non-null int64\n",
      "gender              21525 non-null object\n",
      "income_type         21525 non-null object\n",
      "debt                21525 non-null int64\n",
      "total_income        21525 non-null float64\n",
      "purpose             21525 non-null object\n",
      "dtypes: float64(2), int64(5), object(3)\n",
      "memory usage: 1.6+ MB\n"
     ]
    }
   ],
   "source": [
    "data.info()  # проверяем результат"
   ]
  },
  {
   "cell_type": "markdown",
   "metadata": {},
   "source": [
    "**Вывод об методах замены пропусков**\n",
    "\n",
    "Пропуски в таблице устранены путем замены на медианное значение с помощью loc. При этом при выборе медианного значения для заполнения пропусков в данных о доходах учитывалось медианное значение в зависимости от типа занятости."
   ]
  },
  {
   "cell_type": "markdown",
   "metadata": {},
   "source": [
    "### Замена типа данных"
   ]
  },
  {
   "cell_type": "markdown",
   "metadata": {},
   "source": [
    "Выполним замену типа данных для столбца `days_employed`"
   ]
  },
  {
   "cell_type": "code",
   "execution_count": 33,
   "metadata": {},
   "outputs": [
    {
     "name": "stdout",
     "output_type": "stream",
     "text": [
      "<class 'pandas.core.frame.DataFrame'>\n",
      "RangeIndex: 21525 entries, 0 to 21524\n",
      "Data columns (total 10 columns):\n",
      "children            21525 non-null int64\n",
      "days_employed       21525 non-null int64\n",
      "dob_years           21525 non-null int64\n",
      "education_id        21525 non-null int64\n",
      "family_status_id    21525 non-null int64\n",
      "gender              21525 non-null object\n",
      "income_type         21525 non-null object\n",
      "debt                21525 non-null int64\n",
      "total_income        21525 non-null float64\n",
      "purpose             21525 non-null object\n",
      "dtypes: float64(1), int64(6), object(3)\n",
      "memory usage: 1.6+ MB\n"
     ]
    }
   ],
   "source": [
    "data['days_employed'] = data['days_employed'].astype(int)\n",
    "data.info()"
   ]
  },
  {
   "cell_type": "markdown",
   "metadata": {},
   "source": [
    "**Вывод**\n",
    "\n",
    "Замена данных в столбце `days_employed` с вещественного на целочисленный прошла успешно. Для замены типов, так как ошибок не было, использовался метод `astype`.\n",
    "\n",
    "\n",
    "Заменять аналогичным образом данные в столбце `total_income` нецелесообразно, так как речь идёт о денежных суммах и вещественный тип данных здесь является уместным."
   ]
  },
  {
   "cell_type": "code",
   "execution_count": 34,
   "metadata": {},
   "outputs": [],
   "source": [
    "data['total_income'] = data['total_income'].astype(int)"
   ]
  },
  {
   "cell_type": "code",
   "execution_count": 35,
   "metadata": {
    "scrolled": true
   },
   "outputs": [
    {
     "name": "stdout",
     "output_type": "stream",
     "text": [
      "<class 'pandas.core.frame.DataFrame'>\n",
      "RangeIndex: 21525 entries, 0 to 21524\n",
      "Data columns (total 10 columns):\n",
      "children            21525 non-null int64\n",
      "days_employed       21525 non-null int64\n",
      "dob_years           21525 non-null int64\n",
      "education_id        21525 non-null int64\n",
      "family_status_id    21525 non-null int64\n",
      "gender              21525 non-null object\n",
      "income_type         21525 non-null object\n",
      "debt                21525 non-null int64\n",
      "total_income        21525 non-null int64\n",
      "purpose             21525 non-null object\n",
      "dtypes: int64(7), object(3)\n",
      "memory usage: 1.6+ MB\n"
     ]
    }
   ],
   "source": [
    "data.info()"
   ]
  },
  {
   "cell_type": "markdown",
   "metadata": {},
   "source": [
    "### Обработка дубликатов"
   ]
  },
  {
   "cell_type": "code",
   "execution_count": 36,
   "metadata": {
    "scrolled": false
   },
   "outputs": [
    {
     "data": {
      "text/html": [
       "<div>\n",
       "<style scoped>\n",
       "    .dataframe tbody tr th:only-of-type {\n",
       "        vertical-align: middle;\n",
       "    }\n",
       "\n",
       "    .dataframe tbody tr th {\n",
       "        vertical-align: top;\n",
       "    }\n",
       "\n",
       "    .dataframe thead th {\n",
       "        text-align: right;\n",
       "    }\n",
       "</style>\n",
       "<table border=\"1\" class=\"dataframe\">\n",
       "  <thead>\n",
       "    <tr style=\"text-align: right;\">\n",
       "      <th></th>\n",
       "      <th>children</th>\n",
       "      <th>days_employed</th>\n",
       "      <th>dob_years</th>\n",
       "      <th>education_id</th>\n",
       "      <th>family_status_id</th>\n",
       "      <th>gender</th>\n",
       "      <th>income_type</th>\n",
       "      <th>debt</th>\n",
       "      <th>total_income</th>\n",
       "      <th>purpose</th>\n",
       "    </tr>\n",
       "  </thead>\n",
       "  <tbody>\n",
       "    <tr>\n",
       "      <td>15892</td>\n",
       "      <td>0</td>\n",
       "      <td>2194</td>\n",
       "      <td>23</td>\n",
       "      <td>1</td>\n",
       "      <td>4</td>\n",
       "      <td>F</td>\n",
       "      <td>сотрудник</td>\n",
       "      <td>0</td>\n",
       "      <td>142594</td>\n",
       "      <td>сделка с подержанным автомобилем</td>\n",
       "    </tr>\n",
       "    <tr>\n",
       "      <td>19321</td>\n",
       "      <td>0</td>\n",
       "      <td>2194</td>\n",
       "      <td>23</td>\n",
       "      <td>1</td>\n",
       "      <td>4</td>\n",
       "      <td>F</td>\n",
       "      <td>сотрудник</td>\n",
       "      <td>0</td>\n",
       "      <td>142594</td>\n",
       "      <td>сделка с подержанным автомобилем</td>\n",
       "    </tr>\n",
       "    <tr>\n",
       "      <td>3452</td>\n",
       "      <td>0</td>\n",
       "      <td>2194</td>\n",
       "      <td>29</td>\n",
       "      <td>0</td>\n",
       "      <td>0</td>\n",
       "      <td>M</td>\n",
       "      <td>сотрудник</td>\n",
       "      <td>0</td>\n",
       "      <td>142594</td>\n",
       "      <td>покупка жилой недвижимости</td>\n",
       "    </tr>\n",
       "    <tr>\n",
       "      <td>18328</td>\n",
       "      <td>0</td>\n",
       "      <td>2194</td>\n",
       "      <td>29</td>\n",
       "      <td>0</td>\n",
       "      <td>0</td>\n",
       "      <td>M</td>\n",
       "      <td>сотрудник</td>\n",
       "      <td>0</td>\n",
       "      <td>142594</td>\n",
       "      <td>покупка жилой недвижимости</td>\n",
       "    </tr>\n",
       "    <tr>\n",
       "      <td>4216</td>\n",
       "      <td>0</td>\n",
       "      <td>2194</td>\n",
       "      <td>30</td>\n",
       "      <td>1</td>\n",
       "      <td>0</td>\n",
       "      <td>M</td>\n",
       "      <td>сотрудник</td>\n",
       "      <td>0</td>\n",
       "      <td>142594</td>\n",
       "      <td>строительство жилой недвижимости</td>\n",
       "    </tr>\n",
       "    <tr>\n",
       "      <td>...</td>\n",
       "      <td>...</td>\n",
       "      <td>...</td>\n",
       "      <td>...</td>\n",
       "      <td>...</td>\n",
       "      <td>...</td>\n",
       "      <td>...</td>\n",
       "      <td>...</td>\n",
       "      <td>...</td>\n",
       "      <td>...</td>\n",
       "      <td>...</td>\n",
       "    </tr>\n",
       "    <tr>\n",
       "      <td>9238</td>\n",
       "      <td>2</td>\n",
       "      <td>2194</td>\n",
       "      <td>34</td>\n",
       "      <td>1</td>\n",
       "      <td>0</td>\n",
       "      <td>F</td>\n",
       "      <td>сотрудник</td>\n",
       "      <td>0</td>\n",
       "      <td>142594</td>\n",
       "      <td>покупка жилья для сдачи</td>\n",
       "    </tr>\n",
       "    <tr>\n",
       "      <td>9013</td>\n",
       "      <td>2</td>\n",
       "      <td>2194</td>\n",
       "      <td>36</td>\n",
       "      <td>0</td>\n",
       "      <td>0</td>\n",
       "      <td>F</td>\n",
       "      <td>госслужащий</td>\n",
       "      <td>0</td>\n",
       "      <td>150447</td>\n",
       "      <td>получение образования</td>\n",
       "    </tr>\n",
       "    <tr>\n",
       "      <td>14432</td>\n",
       "      <td>2</td>\n",
       "      <td>2194</td>\n",
       "      <td>36</td>\n",
       "      <td>0</td>\n",
       "      <td>0</td>\n",
       "      <td>F</td>\n",
       "      <td>госслужащий</td>\n",
       "      <td>0</td>\n",
       "      <td>150447</td>\n",
       "      <td>получение образования</td>\n",
       "    </tr>\n",
       "    <tr>\n",
       "      <td>11033</td>\n",
       "      <td>2</td>\n",
       "      <td>2194</td>\n",
       "      <td>39</td>\n",
       "      <td>1</td>\n",
       "      <td>1</td>\n",
       "      <td>F</td>\n",
       "      <td>сотрудник</td>\n",
       "      <td>0</td>\n",
       "      <td>142594</td>\n",
       "      <td>сыграть свадьбу</td>\n",
       "    </tr>\n",
       "    <tr>\n",
       "      <td>16902</td>\n",
       "      <td>2</td>\n",
       "      <td>2194</td>\n",
       "      <td>39</td>\n",
       "      <td>1</td>\n",
       "      <td>1</td>\n",
       "      <td>F</td>\n",
       "      <td>сотрудник</td>\n",
       "      <td>0</td>\n",
       "      <td>142594</td>\n",
       "      <td>сыграть свадьбу</td>\n",
       "    </tr>\n",
       "  </tbody>\n",
       "</table>\n",
       "<p>137 rows × 10 columns</p>\n",
       "</div>"
      ],
      "text/plain": [
       "       children  days_employed  dob_years  education_id  family_status_id  \\\n",
       "15892         0           2194         23             1                 4   \n",
       "19321         0           2194         23             1                 4   \n",
       "3452          0           2194         29             0                 0   \n",
       "18328         0           2194         29             0                 0   \n",
       "4216          0           2194         30             1                 0   \n",
       "...         ...            ...        ...           ...               ...   \n",
       "9238          2           2194         34             1                 0   \n",
       "9013          2           2194         36             0                 0   \n",
       "14432         2           2194         36             0                 0   \n",
       "11033         2           2194         39             1                 1   \n",
       "16902         2           2194         39             1                 1   \n",
       "\n",
       "      gender  income_type  debt  total_income  \\\n",
       "15892      F    сотрудник     0        142594   \n",
       "19321      F    сотрудник     0        142594   \n",
       "3452       M    сотрудник     0        142594   \n",
       "18328      M    сотрудник     0        142594   \n",
       "4216       M    сотрудник     0        142594   \n",
       "...      ...          ...   ...           ...   \n",
       "9238       F    сотрудник     0        142594   \n",
       "9013       F  госслужащий     0        150447   \n",
       "14432      F  госслужащий     0        150447   \n",
       "11033      F    сотрудник     0        142594   \n",
       "16902      F    сотрудник     0        142594   \n",
       "\n",
       "                                purpose  \n",
       "15892  сделка с подержанным автомобилем  \n",
       "19321  сделка с подержанным автомобилем  \n",
       "3452         покупка жилой недвижимости  \n",
       "18328        покупка жилой недвижимости  \n",
       "4216   строительство жилой недвижимости  \n",
       "...                                 ...  \n",
       "9238            покупка жилья для сдачи  \n",
       "9013              получение образования  \n",
       "14432             получение образования  \n",
       "11033                   сыграть свадьбу  \n",
       "16902                   сыграть свадьбу  \n",
       "\n",
       "[137 rows x 10 columns]"
      ]
     },
     "execution_count": 36,
     "metadata": {},
     "output_type": "execute_result"
    }
   ],
   "source": [
    "# найдём и выведем все дубликаты \n",
    "data[data.duplicated(keep=False)].sort_values(by=list(data.columns))"
   ]
  },
  {
   "cell_type": "code",
   "execution_count": 37,
   "metadata": {},
   "outputs": [
    {
     "data": {
      "text/plain": [
       "(0, 10)"
      ]
     },
     "execution_count": 37,
     "metadata": {},
     "output_type": "execute_result"
    }
   ],
   "source": [
    "# удалим дубликаты и убедимся в их отсутствии\n",
    "data = data.drop_duplicates().reset_index(drop=True)\n",
    "data[data.duplicated(keep=False)].sort_values(by=list(data.columns)).shape"
   ]
  },
  {
   "cell_type": "code",
   "execution_count": 38,
   "metadata": {},
   "outputs": [
    {
     "data": {
      "text/html": [
       "<div>\n",
       "<style scoped>\n",
       "    .dataframe tbody tr th:only-of-type {\n",
       "        vertical-align: middle;\n",
       "    }\n",
       "\n",
       "    .dataframe tbody tr th {\n",
       "        vertical-align: top;\n",
       "    }\n",
       "\n",
       "    .dataframe thead th {\n",
       "        text-align: right;\n",
       "    }\n",
       "</style>\n",
       "<table border=\"1\" class=\"dataframe\">\n",
       "  <thead>\n",
       "    <tr style=\"text-align: right;\">\n",
       "      <th></th>\n",
       "      <th>children</th>\n",
       "      <th>days_employed</th>\n",
       "      <th>dob_years</th>\n",
       "      <th>education_id</th>\n",
       "      <th>family_status_id</th>\n",
       "      <th>gender</th>\n",
       "      <th>income_type</th>\n",
       "      <th>debt</th>\n",
       "      <th>total_income</th>\n",
       "      <th>purpose</th>\n",
       "    </tr>\n",
       "  </thead>\n",
       "  <tbody>\n",
       "    <tr>\n",
       "      <td>0</td>\n",
       "      <td>1</td>\n",
       "      <td>8437</td>\n",
       "      <td>42</td>\n",
       "      <td>0</td>\n",
       "      <td>0</td>\n",
       "      <td>F</td>\n",
       "      <td>сотрудник</td>\n",
       "      <td>0</td>\n",
       "      <td>253875</td>\n",
       "      <td>покупка жилья</td>\n",
       "    </tr>\n",
       "    <tr>\n",
       "      <td>1</td>\n",
       "      <td>1</td>\n",
       "      <td>4024</td>\n",
       "      <td>36</td>\n",
       "      <td>1</td>\n",
       "      <td>0</td>\n",
       "      <td>F</td>\n",
       "      <td>сотрудник</td>\n",
       "      <td>0</td>\n",
       "      <td>112080</td>\n",
       "      <td>приобретение автомобиля</td>\n",
       "    </tr>\n",
       "    <tr>\n",
       "      <td>2</td>\n",
       "      <td>0</td>\n",
       "      <td>5623</td>\n",
       "      <td>33</td>\n",
       "      <td>1</td>\n",
       "      <td>0</td>\n",
       "      <td>M</td>\n",
       "      <td>сотрудник</td>\n",
       "      <td>0</td>\n",
       "      <td>145885</td>\n",
       "      <td>покупка жилья</td>\n",
       "    </tr>\n",
       "    <tr>\n",
       "      <td>3</td>\n",
       "      <td>3</td>\n",
       "      <td>4124</td>\n",
       "      <td>32</td>\n",
       "      <td>1</td>\n",
       "      <td>0</td>\n",
       "      <td>M</td>\n",
       "      <td>сотрудник</td>\n",
       "      <td>0</td>\n",
       "      <td>267628</td>\n",
       "      <td>дополнительное образование</td>\n",
       "    </tr>\n",
       "    <tr>\n",
       "      <td>4</td>\n",
       "      <td>0</td>\n",
       "      <td>14177</td>\n",
       "      <td>53</td>\n",
       "      <td>1</td>\n",
       "      <td>1</td>\n",
       "      <td>F</td>\n",
       "      <td>пенсионер</td>\n",
       "      <td>0</td>\n",
       "      <td>158616</td>\n",
       "      <td>сыграть свадьбу</td>\n",
       "    </tr>\n",
       "  </tbody>\n",
       "</table>\n",
       "</div>"
      ],
      "text/plain": [
       "   children  days_employed  dob_years  education_id  family_status_id gender  \\\n",
       "0         1           8437         42             0                 0      F   \n",
       "1         1           4024         36             1                 0      F   \n",
       "2         0           5623         33             1                 0      M   \n",
       "3         3           4124         32             1                 0      M   \n",
       "4         0          14177         53             1                 1      F   \n",
       "\n",
       "  income_type  debt  total_income                     purpose  \n",
       "0   сотрудник     0        253875               покупка жилья  \n",
       "1   сотрудник     0        112080     приобретение автомобиля  \n",
       "2   сотрудник     0        145885               покупка жилья  \n",
       "3   сотрудник     0        267628  дополнительное образование  \n",
       "4   пенсионер     0        158616             сыграть свадьбу  "
      ]
     },
     "execution_count": 38,
     "metadata": {},
     "output_type": "execute_result"
    }
   ],
   "source": [
    "# убедимся, что таблица в порядке\n",
    "data.head()"
   ]
  },
  {
   "cell_type": "markdown",
   "metadata": {},
   "source": [
    "**Вывод**\n",
    "\n",
    "Для удаления дубликатов был использован метод drop_duplicates, после чего таблица была проиндексирована заново.\n",
    "Причиной появления дубликатов может быть отсутствие уникального id для каждой записи. Данные могли сливаться из разных источников и продублироваться."
   ]
  },
  {
   "cell_type": "markdown",
   "metadata": {},
   "source": [
    "### Лемматизация"
   ]
  },
  {
   "cell_type": "markdown",
   "metadata": {},
   "source": [
    "Для лемматизации данных используем библиотеку pymystem3. Отберём уникальные значения из столбца `purpose`, объединим их в лист через `' '.join()`, далее при помощи Counter посчитаем частотность каждой леммы."
   ]
  },
  {
   "cell_type": "code",
   "execution_count": 39,
   "metadata": {
    "scrolled": true
   },
   "outputs": [
    {
     "data": {
      "text/plain": [
       "[(' ', 96),\n",
       " ('покупка', 10),\n",
       " ('недвижимость', 10),\n",
       " ('автомобиль', 9),\n",
       " ('образование', 9),\n",
       " ('жилье', 7),\n",
       " ('с', 5),\n",
       " ('операция', 4),\n",
       " ('на', 4),\n",
       " ('свой', 4),\n",
       " ('свадьба', 3),\n",
       " ('строительство', 3),\n",
       " ('получение', 3),\n",
       " ('высокий', 3),\n",
       " ('дополнительный', 2),\n",
       " ('для', 2),\n",
       " ('коммерческий', 2),\n",
       " ('жилой', 2),\n",
       " ('подержать', 2),\n",
       " ('заниматься', 2),\n",
       " ('сделка', 2),\n",
       " ('приобретение', 1),\n",
       " ('сыграть', 1),\n",
       " ('проведение', 1),\n",
       " ('семья', 1),\n",
       " ('собственный', 1),\n",
       " ('со', 1),\n",
       " ('профильный', 1),\n",
       " ('сдача', 1),\n",
       " ('ремонт', 1),\n",
       " ('\\n', 1)]"
      ]
     },
     "execution_count": 39,
     "metadata": {},
     "output_type": "execute_result"
    }
   ],
   "source": [
    "m = Mystem()\n",
    "Counter(m.lemmatize(' '.join(data['purpose'].unique()))).most_common()"
   ]
  },
  {
   "cell_type": "markdown",
   "metadata": {},
   "source": [
    "**Вывод**\n",
    "\n",
    "Лемментизированные цели позволяют выделить несколько категорий. Основные - это автомобиль, образование, свадьба и недвижимость в различных вариантах. Подробнее разберём в разделе 2.5 Категоризация данных."
   ]
  },
  {
   "cell_type": "markdown",
   "metadata": {},
   "source": [
    "### Категоризация данных"
   ]
  },
  {
   "cell_type": "markdown",
   "metadata": {},
   "source": [
    "#### Категоризация данных в столбце `children`\n",
    "Данный столбец уже категоризирован по числу детей от 0 до 5."
   ]
  },
  {
   "cell_type": "markdown",
   "metadata": {},
   "source": [
    "#### Категоризация данных в столбце `family_status`\n",
    "Стобец данных уже категоризирован:\n",
    "* 0 - клиент женат/замужем\n",
    "* 1 - клиент состоит в гражданском браке\n",
    "* 2 - клиент вдовец/вдова\n",
    "* 3 - клиент в разводе\n",
    "* 4 - клиент не женат/не замужем\n",
    "\n",
    "В принципе, есть только две общие противоположные категории **\"не женат / не замужем\"** и **\"женат / замужем\"**. Категории **\"гражданский брак\"**, **\"в разводе\"**, **\"вдовец / вдова\"** по сути могут входить в категорию **\"не женат / не замужем\"**.\n",
    "\n",
    "Вопрос поставлен именно о семейном положении, поэтому укрупнять категории по сути не требуется."
   ]
  },
  {
   "cell_type": "markdown",
   "metadata": {},
   "source": [
    "#### Категоризация данных в столбце `total_income`\n",
    "Необходимо определить, на какие категории стоит разбить доход.\n",
    "\n",
    "Можно разбить записи по типам занятости и посмотреть возврат кредитов в зависимости от того, выше значение медианного или нет. Исключаем типы занятости \"безработный\", предприниматель, \"в декрете\" и \"студент\", так как по ним 1-2 записи в выборке."
   ]
  },
  {
   "cell_type": "code",
   "execution_count": 40,
   "metadata": {},
   "outputs": [],
   "source": [
    "for income_type in ['сотрудник','компаньон','пенсионер','госслужащий']:  # перебираем виды занятости\n",
    "    data.loc[data['income_type'] == income_type, 'total_income_group'] = pd.qcut(data.loc[data['income_type'] == income_type, 'total_income'],\n",
    "                                                                                5,\n",
    "                                                                                labels=['0_низкий',\n",
    "                                                                                        '1_ниже среднего',\n",
    "                                                                                        '2_средний',\n",
    "                                                                                        '3_выше среднего',\n",
    "                                                                                        '4_высокий'])"
   ]
  },
  {
   "cell_type": "markdown",
   "metadata": {},
   "source": [
    "#### Категоризация данных в столбце `purpose`\n",
    "Попытаемся отобрать слова, которые помогут образовать категории.\n",
    "Например, 'автомобиль', 'недвижимость', 'образование', 'свадьба', 'жилье', 'ремонт', 'сдача', 'строительство', 'коммерческий', 'жилой'.\n",
    "\n",
    "Под 'операция' понимается, скорее всего, та же 'покупка'.\n",
    "\n",
    "Функция `lemmas_finder` позволит определить, есть ли вышеуказанные слова в каждой записи столбца `purpose`. Результатом работы функции является список"
   ]
  },
  {
   "cell_type": "code",
   "execution_count": 41,
   "metadata": {},
   "outputs": [],
   "source": [
    "def lemmas_finder(string):\n",
    "    lemmas_list = ['автомобиль',\n",
    "                   'недвижимость',\n",
    "                   'образование',\n",
    "                   'свадьба',\n",
    "                   'жилье',\n",
    "                   'ремонт',\n",
    "                   'сдача',\n",
    "                   'строительство',\n",
    "                   'коммерческий',\n",
    "                   'жилой']\n",
    "    result = {lemma for lemma in lemmas_list if lemma in m.lemmatize(string)}\n",
    "    return result"
   ]
  },
  {
   "cell_type": "code",
   "execution_count": 42,
   "metadata": {
    "scrolled": false
   },
   "outputs": [
    {
     "name": "stdout",
     "output_type": "stream",
     "text": [
      "{автомобиль}                            4306\n",
      "{образование}                           4013\n",
      "{жилье}                                 3202\n",
      "{недвижимость}                          2556\n",
      "{свадьба}                               2324\n",
      "{коммерческий, недвижимость}            1311\n",
      "{строительство, недвижимость}           1254\n",
      "{жилье, сдача}                           651\n",
      "{строительство, жилой, недвижимость}     624\n",
      "{ремонт, жилье}                          607\n",
      "{жилой, недвижимость}                    606\n",
      "Name: purpose_in_lemmas, dtype: int64\n",
      "(0, 12)\n"
     ]
    }
   ],
   "source": [
    "# складываем списки в новый столбец\n",
    "data.loc[:,'purpose_in_lemmas'] = data.loc[:,'purpose'].apply(lemmas_finder)\n",
    "print(data['purpose_in_lemmas'].value_counts())\n",
    "# проверяем, что охватили все строки\n",
    "print(data[data['purpose_in_lemmas'].isna()].shape)"
   ]
  },
  {
   "cell_type": "markdown",
   "metadata": {},
   "source": [
    "С категориями автомобиль, образование, свадьба всё более-менее понятно.\n",
    "С недвижимостью сложнее: есть варианты ремонт недвижимости, сдача недвижимости. Также недвижимость бывает жилая и коммерческая. Это всё достаточно трудно классифицировать, поэтому соберём всё в группу \"Недвижимость\".\n",
    "Доработаем группировку с помощью функции `lemmas_finder_update`.\n",
    "Она будет в зависимости от наличия в столбце `purpose_in_lemmas` тех или иных лемм выбирать необходимую группу:\n",
    "* автомобиль\n",
    "* образование\n",
    "* свадьба\n",
    "* недвижимость"
   ]
  },
  {
   "cell_type": "code",
   "execution_count": 43,
   "metadata": {},
   "outputs": [],
   "source": [
    "def lemmas_finder_update(string):\n",
    "    lemmas = m.lemmatize(string)\n",
    "    if 'автомобиль' in lemmas:\n",
    "        return 'автомобиль'\n",
    "    elif 'образование' in lemmas:\n",
    "        return 'образование'\n",
    "    elif 'свадьба' in lemmas:\n",
    "        return 'свадьба'\n",
    "    else:\n",
    "        return 'недвижимость'"
   ]
  },
  {
   "cell_type": "code",
   "execution_count": 44,
   "metadata": {},
   "outputs": [
    {
     "name": "stdout",
     "output_type": "stream",
     "text": [
      "недвижимость    10811\n",
      "автомобиль       4306\n",
      "образование      4013\n",
      "свадьба          2324\n",
      "Name: purpose_in_lemmas, dtype: int64\n"
     ]
    }
   ],
   "source": [
    "data.loc[:,'purpose_in_lemmas'] = data.loc[:,'purpose'].apply(lemmas_finder_update)  # обновляем столбец purpose_in_lemmas\n",
    "print(data['purpose_in_lemmas'].value_counts())  # подчитываем результат по группам"
   ]
  },
  {
   "cell_type": "markdown",
   "metadata": {},
   "source": [
    "**Вывод**\n",
    "\n",
    "Выполнена категоризация данных по столбцам `children`, `purpose` и `total_income`. "
   ]
  },
  {
   "cell_type": "markdown",
   "metadata": {},
   "source": [
    "## Исследования"
   ]
  },
  {
   "cell_type": "markdown",
   "metadata": {},
   "source": [
    "- Есть ли зависимость между наличием детей и возвратом кредита в срок?"
   ]
  },
  {
   "cell_type": "code",
   "execution_count": 45,
   "metadata": {},
   "outputs": [
    {
     "data": {
      "text/html": [
       "<div>\n",
       "<style scoped>\n",
       "    .dataframe tbody tr th:only-of-type {\n",
       "        vertical-align: middle;\n",
       "    }\n",
       "\n",
       "    .dataframe tbody tr th {\n",
       "        vertical-align: top;\n",
       "    }\n",
       "\n",
       "    .dataframe thead tr th {\n",
       "        text-align: left;\n",
       "    }\n",
       "\n",
       "    .dataframe thead tr:last-of-type th {\n",
       "        text-align: right;\n",
       "    }\n",
       "</style>\n",
       "<table border=\"1\" class=\"dataframe\">\n",
       "  <thead>\n",
       "    <tr>\n",
       "      <th></th>\n",
       "      <th colspan=\"3\" halign=\"left\">debt</th>\n",
       "    </tr>\n",
       "    <tr>\n",
       "      <th></th>\n",
       "      <th>sum</th>\n",
       "      <th>count</th>\n",
       "      <th>mean</th>\n",
       "    </tr>\n",
       "    <tr>\n",
       "      <th>children</th>\n",
       "      <th></th>\n",
       "      <th></th>\n",
       "      <th></th>\n",
       "    </tr>\n",
       "  </thead>\n",
       "  <tbody>\n",
       "    <tr>\n",
       "      <td>0</td>\n",
       "      <td>1063</td>\n",
       "      <td>14091</td>\n",
       "      <td>0.075438</td>\n",
       "    </tr>\n",
       "    <tr>\n",
       "      <td>1</td>\n",
       "      <td>444</td>\n",
       "      <td>4808</td>\n",
       "      <td>0.092346</td>\n",
       "    </tr>\n",
       "    <tr>\n",
       "      <td>2</td>\n",
       "      <td>194</td>\n",
       "      <td>2052</td>\n",
       "      <td>0.094542</td>\n",
       "    </tr>\n",
       "    <tr>\n",
       "      <td>3</td>\n",
       "      <td>27</td>\n",
       "      <td>330</td>\n",
       "      <td>0.081818</td>\n",
       "    </tr>\n",
       "    <tr>\n",
       "      <td>4</td>\n",
       "      <td>4</td>\n",
       "      <td>41</td>\n",
       "      <td>0.097561</td>\n",
       "    </tr>\n",
       "    <tr>\n",
       "      <td>5</td>\n",
       "      <td>0</td>\n",
       "      <td>9</td>\n",
       "      <td>0.000000</td>\n",
       "    </tr>\n",
       "  </tbody>\n",
       "</table>\n",
       "</div>"
      ],
      "text/plain": [
       "          debt                 \n",
       "           sum  count      mean\n",
       "children                       \n",
       "0         1063  14091  0.075438\n",
       "1          444   4808  0.092346\n",
       "2          194   2052  0.094542\n",
       "3           27    330  0.081818\n",
       "4            4     41  0.097561\n",
       "5            0      9  0.000000"
      ]
     },
     "execution_count": 45,
     "metadata": {},
     "output_type": "execute_result"
    }
   ],
   "source": [
    "# подчитываем процент случаев просрочки по кредиту (mean). Для информации выведны данные о количестве\n",
    "# взятых кредитов (count) и количестве просрочек (sum), почитанные по столбцу debt\n",
    "\n",
    "data[(data['children'] != -1) & (data['children'] != 20)].groupby('children').agg({'debt':['sum','count','mean']})\n"
   ]
  },
  {
   "cell_type": "markdown",
   "metadata": {},
   "source": [
    "**Вывод**\n",
    "\n",
    "Зависимость между наличием детей и возвратом кредита в срок есть.\n",
    "\n",
    "Процент просрочек по кредитам у клиентов не имеющих детей (7.5%) несколько ниже, чем у клиентов с 1-2 детьми (9.2% - 9.4%). Для клиентов с 3-мя детьми выборка мала, по ней количество просрочек немного меньше (8.2%). Клиенты с 4-5 детьми практически не представлены в выборке, поэтому по нима трудно делать какие-то выводы.\n",
    "\n",
    "У клиентов с детьми повышенная финансовая нагрузка и возможны непредсказуемые траты. Соответственно соблюдать график выплат им сложнее."
   ]
  },
  {
   "cell_type": "markdown",
   "metadata": {},
   "source": [
    "- Есть ли зависимость между семейным положением и возвратом кредита в срок?"
   ]
  },
  {
   "cell_type": "code",
   "execution_count": 46,
   "metadata": {},
   "outputs": [
    {
     "data": {
      "text/html": [
       "<div>\n",
       "<style scoped>\n",
       "    .dataframe tbody tr th:only-of-type {\n",
       "        vertical-align: middle;\n",
       "    }\n",
       "\n",
       "    .dataframe tbody tr th {\n",
       "        vertical-align: top;\n",
       "    }\n",
       "\n",
       "    .dataframe thead tr th {\n",
       "        text-align: left;\n",
       "    }\n",
       "\n",
       "    .dataframe thead tr:last-of-type th {\n",
       "        text-align: right;\n",
       "    }\n",
       "</style>\n",
       "<table border=\"1\" class=\"dataframe\">\n",
       "  <thead>\n",
       "    <tr>\n",
       "      <th></th>\n",
       "      <th colspan=\"3\" halign=\"left\">debt</th>\n",
       "    </tr>\n",
       "    <tr>\n",
       "      <th></th>\n",
       "      <th>sum</th>\n",
       "      <th>count</th>\n",
       "      <th>mean</th>\n",
       "    </tr>\n",
       "    <tr>\n",
       "      <th>family_status_id</th>\n",
       "      <th></th>\n",
       "      <th></th>\n",
       "      <th></th>\n",
       "    </tr>\n",
       "  </thead>\n",
       "  <tbody>\n",
       "    <tr>\n",
       "      <td>0</td>\n",
       "      <td>931</td>\n",
       "      <td>12339</td>\n",
       "      <td>0.075452</td>\n",
       "    </tr>\n",
       "    <tr>\n",
       "      <td>1</td>\n",
       "      <td>388</td>\n",
       "      <td>4151</td>\n",
       "      <td>0.093471</td>\n",
       "    </tr>\n",
       "    <tr>\n",
       "      <td>2</td>\n",
       "      <td>63</td>\n",
       "      <td>959</td>\n",
       "      <td>0.065693</td>\n",
       "    </tr>\n",
       "    <tr>\n",
       "      <td>3</td>\n",
       "      <td>85</td>\n",
       "      <td>1195</td>\n",
       "      <td>0.071130</td>\n",
       "    </tr>\n",
       "    <tr>\n",
       "      <td>4</td>\n",
       "      <td>274</td>\n",
       "      <td>2810</td>\n",
       "      <td>0.097509</td>\n",
       "    </tr>\n",
       "  </tbody>\n",
       "</table>\n",
       "</div>"
      ],
      "text/plain": [
       "                 debt                 \n",
       "                  sum  count      mean\n",
       "family_status_id                      \n",
       "0                 931  12339  0.075452\n",
       "1                 388   4151  0.093471\n",
       "2                  63    959  0.065693\n",
       "3                  85   1195  0.071130\n",
       "4                 274   2810  0.097509"
      ]
     },
     "execution_count": 46,
     "metadata": {},
     "output_type": "execute_result"
    }
   ],
   "source": [
    "# подчитываем процент случаев просрочки по кредиту (mean). Для информации выведны данные о количестве\n",
    "# взятых кредитов (count) и количестве просрочек (sum), почитанные по столбцу debt\n",
    "\n",
    "data.groupby('family_status_id').agg({'debt':['sum','count','mean']})"
   ]
  },
  {
   "cell_type": "markdown",
   "metadata": {},
   "source": [
    "**Вывод**\n",
    "\n",
    "* 0 - клиент женат/замужем\n",
    "* 1 - клиент состоит в гражданском браке\n",
    "* 2 - клиент вдовец/вдова\n",
    "* 3 - клиент в разводе\n",
    "* 4 - клиент не женат/не замужем\n",
    "\n",
    "\n",
    "Зависимость между семейным положением и возвратом кредита в срок есть.\n",
    "\n",
    "Наименьшее число просрочек по кредитам у овдовевших клиентов (6.5%), хотя их и меньше всего в выборке.\n",
    "Женатые или замужние клиенты, а также клиенты в разводе имеют примерно одинаковый процент задолженностей (7.5 % и 7.1 %).\n",
    "Клиенты состоящие в гражданском браке или обозначившие свое семейное состояние как не женатые/ не замужние имеют наихудший проценты (9.3% и 9.7%).\n",
    "\n",
    "Данная разбивка по категориям не позволяет как-то однозначно интерпретировать данные. Возможно, в данном случае больше влияет возраст клиентов. Состоящие в браке, разведёные или овдовевшие клиенты скорее относятся к старшей возрастной категории, которая может обладать большей дисциплинированностью и более стабильным доходом.\n",
    "\n",
    "Общий вывод можно сделать такой, что состоящие или состоявшие в браке клиенты относятся к кредитным выплатам более ответственно."
   ]
  },
  {
   "cell_type": "markdown",
   "metadata": {},
   "source": [
    "- Есть ли зависимость между уровнем дохода и возвратом кредита в срок?"
   ]
  },
  {
   "cell_type": "code",
   "execution_count": 47,
   "metadata": {},
   "outputs": [
    {
     "data": {
      "text/html": [
       "<div>\n",
       "<style scoped>\n",
       "    .dataframe tbody tr th:only-of-type {\n",
       "        vertical-align: middle;\n",
       "    }\n",
       "\n",
       "    .dataframe tbody tr th {\n",
       "        vertical-align: top;\n",
       "    }\n",
       "\n",
       "    .dataframe thead tr th {\n",
       "        text-align: left;\n",
       "    }\n",
       "\n",
       "    .dataframe thead tr:last-of-type th {\n",
       "        text-align: right;\n",
       "    }\n",
       "</style>\n",
       "<table border=\"1\" class=\"dataframe\">\n",
       "  <thead>\n",
       "    <tr>\n",
       "      <th></th>\n",
       "      <th colspan=\"5\" halign=\"left\">mean</th>\n",
       "    </tr>\n",
       "    <tr>\n",
       "      <th>total_income_group</th>\n",
       "      <th>0_низкий</th>\n",
       "      <th>1_ниже среднего</th>\n",
       "      <th>2_средний</th>\n",
       "      <th>3_выше среднего</th>\n",
       "      <th>4_высокий</th>\n",
       "    </tr>\n",
       "    <tr>\n",
       "      <th>income_type</th>\n",
       "      <th></th>\n",
       "      <th></th>\n",
       "      <th></th>\n",
       "      <th></th>\n",
       "      <th></th>\n",
       "    </tr>\n",
       "  </thead>\n",
       "  <tbody>\n",
       "    <tr>\n",
       "      <td>госслужащий</td>\n",
       "      <td>0.071918</td>\n",
       "      <td>0.075601</td>\n",
       "      <td>0.041237</td>\n",
       "      <td>0.058419</td>\n",
       "      <td>0.047945</td>\n",
       "    </tr>\n",
       "    <tr>\n",
       "      <td>компаньон</td>\n",
       "      <td>0.083661</td>\n",
       "      <td>0.075862</td>\n",
       "      <td>0.078740</td>\n",
       "      <td>0.068966</td>\n",
       "      <td>0.062992</td>\n",
       "    </tr>\n",
       "    <tr>\n",
       "      <td>пенсионер</td>\n",
       "      <td>0.049608</td>\n",
       "      <td>0.045692</td>\n",
       "      <td>0.070588</td>\n",
       "      <td>0.053525</td>\n",
       "      <td>0.062663</td>\n",
       "    </tr>\n",
       "    <tr>\n",
       "      <td>сотрудник</td>\n",
       "      <td>0.097880</td>\n",
       "      <td>0.097429</td>\n",
       "      <td>0.100632</td>\n",
       "      <td>0.101037</td>\n",
       "      <td>0.081642</td>\n",
       "    </tr>\n",
       "  </tbody>\n",
       "</table>\n",
       "</div>"
      ],
      "text/plain": [
       "                        mean                                            \\\n",
       "total_income_group  0_низкий 1_ниже среднего 2_средний 3_выше среднего   \n",
       "income_type                                                              \n",
       "госслужащий         0.071918        0.075601  0.041237        0.058419   \n",
       "компаньон           0.083661        0.075862  0.078740        0.068966   \n",
       "пенсионер           0.049608        0.045692  0.070588        0.053525   \n",
       "сотрудник           0.097880        0.097429  0.100632        0.101037   \n",
       "\n",
       "                              \n",
       "total_income_group 4_высокий  \n",
       "income_type                   \n",
       "госслужащий         0.047945  \n",
       "компаньон           0.062992  \n",
       "пенсионер           0.062663  \n",
       "сотрудник           0.081642  "
      ]
     },
     "execution_count": 47,
     "metadata": {},
     "output_type": "execute_result"
    }
   ],
   "source": [
    "pd.pivot_table(data,\n",
    "               index=['income_type'], \n",
    "               columns=['total_income_group'],\n",
    "               values='debt',\n",
    "               aggfunc=['mean'])"
   ]
  },
  {
   "cell_type": "code",
   "execution_count": 57,
   "metadata": {},
   "outputs": [
    {
     "data": {
      "text/html": [
       "<div>\n",
       "<style scoped>\n",
       "    .dataframe tbody tr th:only-of-type {\n",
       "        vertical-align: middle;\n",
       "    }\n",
       "\n",
       "    .dataframe tbody tr th {\n",
       "        vertical-align: top;\n",
       "    }\n",
       "\n",
       "    .dataframe thead tr th {\n",
       "        text-align: left;\n",
       "    }\n",
       "\n",
       "    .dataframe thead tr:last-of-type th {\n",
       "        text-align: right;\n",
       "    }\n",
       "</style>\n",
       "<table border=\"1\" class=\"dataframe\">\n",
       "  <thead>\n",
       "    <tr>\n",
       "      <th></th>\n",
       "      <th colspan=\"5\" halign=\"left\">mean</th>\n",
       "    </tr>\n",
       "    <tr>\n",
       "      <th>total_income_group</th>\n",
       "      <th>0_низкий</th>\n",
       "      <th>2_средний</th>\n",
       "      <th>1_ниже среднего</th>\n",
       "      <th>4_высокий</th>\n",
       "      <th>3_выше среднего</th>\n",
       "    </tr>\n",
       "    <tr>\n",
       "      <th>income_type</th>\n",
       "      <th></th>\n",
       "      <th></th>\n",
       "      <th></th>\n",
       "      <th></th>\n",
       "      <th></th>\n",
       "    </tr>\n",
       "  </thead>\n",
       "  <tbody>\n",
       "    <tr>\n",
       "      <td>госслужащий</td>\n",
       "      <td>0.071918</td>\n",
       "      <td>0.041237</td>\n",
       "      <td>0.075601</td>\n",
       "      <td>0.047945</td>\n",
       "      <td>0.058419</td>\n",
       "    </tr>\n",
       "    <tr>\n",
       "      <td>компаньон</td>\n",
       "      <td>0.083661</td>\n",
       "      <td>0.078740</td>\n",
       "      <td>0.075862</td>\n",
       "      <td>0.062992</td>\n",
       "      <td>0.068966</td>\n",
       "    </tr>\n",
       "    <tr>\n",
       "      <td>пенсионер</td>\n",
       "      <td>0.049608</td>\n",
       "      <td>0.070588</td>\n",
       "      <td>0.045692</td>\n",
       "      <td>0.062663</td>\n",
       "      <td>0.053525</td>\n",
       "    </tr>\n",
       "    <tr>\n",
       "      <td>сотрудник</td>\n",
       "      <td>0.097880</td>\n",
       "      <td>0.100632</td>\n",
       "      <td>0.097429</td>\n",
       "      <td>0.081642</td>\n",
       "      <td>0.101037</td>\n",
       "    </tr>\n",
       "  </tbody>\n",
       "</table>\n",
       "</div>"
      ],
      "text/plain": [
       "                        mean                                      \\\n",
       "total_income_group  0_низкий 2_средний 1_ниже среднего 4_высокий   \n",
       "income_type                                                        \n",
       "госслужащий         0.071918  0.041237        0.075601  0.047945   \n",
       "компаньон           0.083661  0.078740        0.075862  0.062992   \n",
       "пенсионер           0.049608  0.070588        0.045692  0.062663   \n",
       "сотрудник           0.097880  0.100632        0.097429  0.081642   \n",
       "\n",
       "                                    \n",
       "total_income_group 3_выше среднего  \n",
       "income_type                         \n",
       "госслужащий               0.058419  \n",
       "компаньон                 0.068966  \n",
       "пенсионер                 0.053525  \n",
       "сотрудник                 0.101037  "
      ]
     },
     "execution_count": 57,
     "metadata": {},
     "output_type": "execute_result"
    }
   ],
   "source": [
    "temp = pd.pivot_table(data,\n",
    "               index=['income_type'], \n",
    "               columns=['total_income_group'],\n",
    "               values='debt',\n",
    "               aggfunc=['mean'])\n",
    "\n",
    "temp.iloc[:, [0, 2, 1, 4, 3]]"
   ]
  },
  {
   "cell_type": "markdown",
   "metadata": {},
   "source": [
    "**Вывод**\n",
    "\n",
    "Зависимость между уровнем дохода и возвратом кредита в срок есть, при этом для каждой группы она своя.\n",
    "\n",
    "1. Среди госслужащих самыми ответственными оказались клиенты со средним доходом (4.1%), хуже всего обстоят дела с просрочками у клиентов с уровнем дохода ниже среднего (7.6%) и низким (7.2%).\n",
    "2. У компаньонов в целом, чем выше уровень дохода, тем клиентам проще соблюдать сроки оплаты кредита.\n",
    "3. У пенсионеров ситуация зеркально повторяет госслужащих. Самыми ответственными клиентами оказываются лица с низким доходом (5.0%) и доходом ниже среднего (4.6%). При этом в целом у них самая лучшая статистика среди прочих.\n",
    "4. Среди сотрудников наблюдается наихудшая статистика (до 10.1% у сотрудников со доходом выше среднего). При этом клиенты с высоким доходом являются более ответственными (8.1%).\n"
   ]
  },
  {
   "cell_type": "markdown",
   "metadata": {},
   "source": [
    "- Как разные цели кредита влияют на его возврат в срок?"
   ]
  },
  {
   "cell_type": "code",
   "execution_count": 48,
   "metadata": {},
   "outputs": [
    {
     "data": {
      "text/html": [
       "<div>\n",
       "<style scoped>\n",
       "    .dataframe tbody tr th:only-of-type {\n",
       "        vertical-align: middle;\n",
       "    }\n",
       "\n",
       "    .dataframe tbody tr th {\n",
       "        vertical-align: top;\n",
       "    }\n",
       "\n",
       "    .dataframe thead th {\n",
       "        text-align: right;\n",
       "    }\n",
       "</style>\n",
       "<table border=\"1\" class=\"dataframe\">\n",
       "  <thead>\n",
       "    <tr style=\"text-align: right;\">\n",
       "      <th></th>\n",
       "      <th>debt</th>\n",
       "    </tr>\n",
       "    <tr>\n",
       "      <th>purpose_in_lemmas</th>\n",
       "      <th></th>\n",
       "    </tr>\n",
       "  </thead>\n",
       "  <tbody>\n",
       "    <tr>\n",
       "      <td>автомобиль</td>\n",
       "      <td>0.093590</td>\n",
       "    </tr>\n",
       "    <tr>\n",
       "      <td>недвижимость</td>\n",
       "      <td>0.072334</td>\n",
       "    </tr>\n",
       "    <tr>\n",
       "      <td>образование</td>\n",
       "      <td>0.092200</td>\n",
       "    </tr>\n",
       "    <tr>\n",
       "      <td>свадьба</td>\n",
       "      <td>0.080034</td>\n",
       "    </tr>\n",
       "  </tbody>\n",
       "</table>\n",
       "</div>"
      ],
      "text/plain": [
       "                       debt\n",
       "purpose_in_lemmas          \n",
       "автомобиль         0.093590\n",
       "недвижимость       0.072334\n",
       "образование        0.092200\n",
       "свадьба            0.080034"
      ]
     },
     "execution_count": 48,
     "metadata": {},
     "output_type": "execute_result"
    }
   ],
   "source": [
    "pd.pivot_table(data, index=['purpose_in_lemmas'], values='debt', aggfunc='mean')"
   ]
  },
  {
   "cell_type": "markdown",
   "metadata": {},
   "source": [
    "**Вывод**\n",
    "\n",
    "Меньше всего задолженностей по кредитам на недвижимость (7.2%). Хуже всего дела обстоят с автокредитами (9.3%) и кредитами на образование (9.2%). Кредиты на свадьбу демонстрируют среднее значение (8.0%).\n",
    "Можно предположить, что клиенты более ответственно относятся к ипотечным кредитам (или иным кредитам на недвижимость)."
   ]
  },
  {
   "cell_type": "markdown",
   "metadata": {},
   "source": [
    "## Общий вывод"
   ]
  },
  {
   "cell_type": "markdown",
   "metadata": {},
   "source": [
    "В рамках исследования было проверено 4 гипотезы и установлено следующее:\n",
    "1. Наличие детей отрицательно влияет на соблюдение графика выплат по кредитам.\n",
    "2. Клиенты, состоящие или состоявшие в браке более ответственно соблюдают график выплат.\n",
    "3. Зависимость между уровнем дохода и наличием просрочек сильно отличается от группы клиентов. В целом, клиенты с высоким доходом более ответственно подходят к вопросу выплат (за исключением пенсионеров - у них обратная зависимость). При этом наименее ответственным клиентами в целом являются сотрудники, наиболее ответственными - пенсионеры. Лучшие показатели у госслужащих со средним доходом.\n",
    "4. Установлена зависимость между целями кредита и вероятностью его возврата в срок."
   ]
  },
  {
   "cell_type": "code",
   "execution_count": null,
   "metadata": {},
   "outputs": [],
   "source": []
  }
 ],
 "metadata": {
  "ExecuteTimeLog": [
   {
    "duration": 908,
    "start_time": "2021-11-20T07:16:08.706Z"
   },
   {
    "duration": 64,
    "start_time": "2021-11-20T07:16:11.290Z"
   },
   {
    "duration": 29,
    "start_time": "2021-11-20T07:16:22.062Z"
   },
   {
    "duration": 14,
    "start_time": "2021-11-20T07:17:08.438Z"
   },
   {
    "duration": 6,
    "start_time": "2021-11-20T07:24:39.220Z"
   },
   {
    "duration": 13,
    "start_time": "2021-11-20T07:48:03.025Z"
   },
   {
    "duration": 29,
    "start_time": "2021-11-20T07:50:09.701Z"
   },
   {
    "duration": 51,
    "start_time": "2021-11-20T07:50:24.205Z"
   },
   {
    "duration": 14,
    "start_time": "2021-11-20T07:52:39.284Z"
   },
   {
    "duration": 387,
    "start_time": "2021-11-20T07:52:51.053Z"
   },
   {
    "duration": 13,
    "start_time": "2021-11-20T07:53:02.748Z"
   },
   {
    "duration": 349,
    "start_time": "2021-11-20T07:53:18.309Z"
   },
   {
    "duration": 12,
    "start_time": "2021-11-20T07:53:23.628Z"
   },
   {
    "duration": 33,
    "start_time": "2021-11-20T07:54:37.976Z"
   },
   {
    "duration": 38,
    "start_time": "2021-11-20T07:57:45.823Z"
   },
   {
    "duration": 6,
    "start_time": "2021-11-20T08:02:28.027Z"
   },
   {
    "duration": 5,
    "start_time": "2021-11-20T08:02:49.499Z"
   },
   {
    "duration": 6,
    "start_time": "2021-11-20T08:04:18.362Z"
   },
   {
    "duration": 305,
    "start_time": "2021-11-20T08:08:01.080Z"
   },
   {
    "duration": 35,
    "start_time": "2021-11-20T08:08:25.506Z"
   },
   {
    "duration": 35,
    "start_time": "2021-11-20T08:08:51.550Z"
   },
   {
    "duration": 752,
    "start_time": "2021-11-20T08:08:59.881Z"
   },
   {
    "duration": 33,
    "start_time": "2021-11-20T08:09:10.250Z"
   },
   {
    "duration": 35,
    "start_time": "2021-11-20T08:10:06.737Z"
   },
   {
    "duration": 37,
    "start_time": "2021-11-20T08:11:27.836Z"
   },
   {
    "duration": 22,
    "start_time": "2021-11-20T08:11:39.429Z"
   },
   {
    "duration": 22,
    "start_time": "2021-11-20T08:12:19.065Z"
   },
   {
    "duration": 25,
    "start_time": "2021-11-20T08:15:23.996Z"
   },
   {
    "duration": 7,
    "start_time": "2021-11-20T08:16:37.337Z"
   },
   {
    "duration": 94,
    "start_time": "2021-11-20T08:17:54.333Z"
   },
   {
    "duration": 20,
    "start_time": "2021-11-20T08:17:58.233Z"
   },
   {
    "duration": 37,
    "start_time": "2021-11-20T08:18:01.988Z"
   },
   {
    "duration": 23,
    "start_time": "2021-11-20T08:18:07.668Z"
   },
   {
    "duration": 8,
    "start_time": "2021-11-20T08:24:27.704Z"
   },
   {
    "duration": 8,
    "start_time": "2021-11-20T08:25:50.419Z"
   },
   {
    "duration": 8,
    "start_time": "2021-11-20T08:26:48.044Z"
   },
   {
    "duration": 7,
    "start_time": "2021-11-20T08:32:02.535Z"
   },
   {
    "duration": 303,
    "start_time": "2021-11-20T08:32:38.410Z"
   },
   {
    "duration": 7,
    "start_time": "2021-11-20T08:32:42.865Z"
   },
   {
    "duration": 1459,
    "start_time": "2021-11-20T08:34:27.274Z"
   },
   {
    "duration": 348,
    "start_time": "2021-11-20T08:35:30.590Z"
   },
   {
    "duration": 353,
    "start_time": "2021-11-20T08:35:42.678Z"
   },
   {
    "duration": 91,
    "start_time": "2021-11-20T08:36:27.382Z"
   },
   {
    "duration": 299,
    "start_time": "2021-11-20T08:36:32.190Z"
   },
   {
    "duration": 393,
    "start_time": "2021-11-20T08:36:41.308Z"
   },
   {
    "duration": 753,
    "start_time": "2021-11-20T08:36:46.482Z"
   },
   {
    "duration": 432,
    "start_time": "2021-11-20T08:37:00.612Z"
   },
   {
    "duration": 8,
    "start_time": "2021-11-20T08:39:05.582Z"
   },
   {
    "duration": 8,
    "start_time": "2021-11-20T08:39:11.730Z"
   },
   {
    "duration": 274,
    "start_time": "2021-11-20T08:39:17.810Z"
   },
   {
    "duration": 7,
    "start_time": "2021-11-20T08:39:25.462Z"
   },
   {
    "duration": 222,
    "start_time": "2021-11-20T08:39:55.887Z"
   },
   {
    "duration": 9,
    "start_time": "2021-11-20T08:40:24.654Z"
   },
   {
    "duration": 8,
    "start_time": "2021-11-20T08:40:35.327Z"
   },
   {
    "duration": 7,
    "start_time": "2021-11-20T08:40:42.453Z"
   },
   {
    "duration": 415,
    "start_time": "2021-11-20T08:41:00.721Z"
   },
   {
    "duration": 13,
    "start_time": "2021-11-20T08:41:18.269Z"
   },
   {
    "duration": 9,
    "start_time": "2021-11-20T08:42:26.977Z"
   },
   {
    "duration": 7,
    "start_time": "2021-11-20T08:42:34.789Z"
   },
   {
    "duration": 244,
    "start_time": "2021-11-20T08:43:30.457Z"
   },
   {
    "duration": 249,
    "start_time": "2021-11-20T08:43:56.945Z"
   },
   {
    "duration": 1250,
    "start_time": "2021-11-20T08:44:15.201Z"
   },
   {
    "duration": 1214,
    "start_time": "2021-11-20T08:44:34.514Z"
   },
   {
    "duration": 2484,
    "start_time": "2021-11-20T08:49:51.636Z"
   },
   {
    "duration": 2615,
    "start_time": "2021-11-20T08:50:15.544Z"
   },
   {
    "duration": 2635,
    "start_time": "2021-11-20T08:50:23.576Z"
   },
   {
    "duration": 2744,
    "start_time": "2021-11-20T08:52:40.619Z"
   },
   {
    "duration": 10,
    "start_time": "2021-11-20T09:49:15.910Z"
   },
   {
    "duration": 8,
    "start_time": "2021-11-20T09:49:25.264Z"
   },
   {
    "duration": 8,
    "start_time": "2021-11-20T09:50:12.911Z"
   },
   {
    "duration": 7,
    "start_time": "2021-11-20T09:50:22.419Z"
   },
   {
    "duration": 19,
    "start_time": "2021-11-20T09:50:37.859Z"
   },
   {
    "duration": 23,
    "start_time": "2021-11-20T09:50:58.727Z"
   },
   {
    "duration": 92,
    "start_time": "2021-11-20T09:55:56.369Z"
   },
   {
    "duration": 10,
    "start_time": "2021-11-20T09:58:47.294Z"
   },
   {
    "duration": 8,
    "start_time": "2021-11-20T10:01:20.402Z"
   },
   {
    "duration": 20,
    "start_time": "2021-11-20T10:06:05.708Z"
   },
   {
    "duration": 8,
    "start_time": "2021-11-20T10:06:51.261Z"
   },
   {
    "duration": 11,
    "start_time": "2021-11-20T10:07:00.829Z"
   },
   {
    "duration": 14,
    "start_time": "2021-11-20T10:07:17.357Z"
   },
   {
    "duration": 11,
    "start_time": "2021-11-20T10:07:37.109Z"
   },
   {
    "duration": 755,
    "start_time": "2021-11-20T10:08:04.045Z"
   },
   {
    "duration": 65,
    "start_time": "2021-11-20T10:08:04.803Z"
   },
   {
    "duration": 27,
    "start_time": "2021-11-20T10:08:04.871Z"
   },
   {
    "duration": 36,
    "start_time": "2021-11-20T10:08:04.901Z"
   },
   {
    "duration": 18,
    "start_time": "2021-11-20T10:08:04.940Z"
   },
   {
    "duration": 30,
    "start_time": "2021-11-20T10:08:04.960Z"
   },
   {
    "duration": 31,
    "start_time": "2021-11-20T10:08:04.992Z"
   },
   {
    "duration": 16,
    "start_time": "2021-11-20T10:08:05.025Z"
   },
   {
    "duration": 3872,
    "start_time": "2021-11-20T10:08:05.045Z"
   },
   {
    "duration": 12,
    "start_time": "2021-11-20T10:08:08.920Z"
   },
   {
    "duration": 25,
    "start_time": "2021-11-20T10:08:08.935Z"
   },
   {
    "duration": 21,
    "start_time": "2021-11-20T10:08:08.962Z"
   },
   {
    "duration": 14,
    "start_time": "2021-11-20T10:09:29.352Z"
   },
   {
    "duration": 10,
    "start_time": "2021-11-20T10:12:05.701Z"
   },
   {
    "duration": 11,
    "start_time": "2021-11-20T10:20:13.234Z"
   },
   {
    "duration": 10,
    "start_time": "2021-11-20T10:20:35.066Z"
   },
   {
    "duration": 422,
    "start_time": "2021-11-20T10:20:45.990Z"
   },
   {
    "duration": 12,
    "start_time": "2021-11-20T10:20:51.726Z"
   },
   {
    "duration": 11,
    "start_time": "2021-11-20T10:21:00.017Z"
   },
   {
    "duration": 12,
    "start_time": "2021-11-20T10:22:21.542Z"
   },
   {
    "duration": 15,
    "start_time": "2021-11-20T10:24:17.902Z"
   },
   {
    "duration": 10,
    "start_time": "2021-11-20T10:25:15.725Z"
   },
   {
    "duration": 22,
    "start_time": "2021-11-20T10:25:45.325Z"
   },
   {
    "duration": 19,
    "start_time": "2021-11-20T10:28:13.645Z"
   },
   {
    "duration": 20,
    "start_time": "2021-11-20T10:38:02.779Z"
   },
   {
    "duration": 20,
    "start_time": "2021-11-20T10:38:04.983Z"
   },
   {
    "duration": 10,
    "start_time": "2021-11-20T11:32:28.998Z"
   },
   {
    "duration": 11,
    "start_time": "2021-11-20T11:32:36.471Z"
   },
   {
    "duration": 23,
    "start_time": "2021-11-20T11:34:21.183Z"
   },
   {
    "duration": 22,
    "start_time": "2021-11-20T11:34:44.791Z"
   },
   {
    "duration": 3,
    "start_time": "2021-11-20T11:37:22.351Z"
   },
   {
    "duration": 2707,
    "start_time": "2021-11-20T11:39:19.967Z"
   },
   {
    "duration": 6,
    "start_time": "2021-11-20T11:39:54.899Z"
   },
   {
    "duration": 7,
    "start_time": "2021-11-20T11:40:28.490Z"
   },
   {
    "duration": 15,
    "start_time": "2021-11-20T11:41:50.357Z"
   },
   {
    "duration": 13,
    "start_time": "2021-11-20T11:41:59.858Z"
   },
   {
    "duration": 3,
    "start_time": "2021-11-20T11:42:24.983Z"
   },
   {
    "duration": 10,
    "start_time": "2021-11-20T11:42:44.126Z"
   },
   {
    "duration": 12,
    "start_time": "2021-11-20T11:43:35.550Z"
   },
   {
    "duration": 10,
    "start_time": "2021-11-20T11:44:04.166Z"
   },
   {
    "duration": 12,
    "start_time": "2021-11-20T11:45:22.362Z"
   },
   {
    "duration": 12,
    "start_time": "2021-11-20T11:46:16.582Z"
   },
   {
    "duration": 3,
    "start_time": "2021-11-20T11:46:55.517Z"
   },
   {
    "duration": 11,
    "start_time": "2021-11-20T11:47:08.705Z"
   },
   {
    "duration": 99,
    "start_time": "2021-11-20T11:48:01.321Z"
   },
   {
    "duration": 14,
    "start_time": "2021-11-20T11:48:14.378Z"
   },
   {
    "duration": 3,
    "start_time": "2021-11-20T11:48:36.129Z"
   },
   {
    "duration": 74,
    "start_time": "2021-11-20T11:48:36.134Z"
   },
   {
    "duration": 28,
    "start_time": "2021-11-20T11:48:36.210Z"
   },
   {
    "duration": 33,
    "start_time": "2021-11-20T11:48:36.241Z"
   },
   {
    "duration": 24,
    "start_time": "2021-11-20T11:48:36.277Z"
   },
   {
    "duration": 24,
    "start_time": "2021-11-20T11:48:36.304Z"
   },
   {
    "duration": 11,
    "start_time": "2021-11-20T11:48:36.330Z"
   },
   {
    "duration": 23,
    "start_time": "2021-11-20T11:48:36.345Z"
   },
   {
    "duration": 2806,
    "start_time": "2021-11-20T11:48:36.371Z"
   },
   {
    "duration": 7,
    "start_time": "2021-11-20T11:48:39.179Z"
   },
   {
    "duration": 56,
    "start_time": "2021-11-20T11:48:39.189Z"
   },
   {
    "duration": 47,
    "start_time": "2021-11-20T11:48:39.247Z"
   },
   {
    "duration": 44,
    "start_time": "2021-11-20T11:48:39.296Z"
   },
   {
    "duration": 37,
    "start_time": "2021-11-20T11:48:39.342Z"
   },
   {
    "duration": 33,
    "start_time": "2021-11-20T11:48:39.381Z"
   },
   {
    "duration": 34,
    "start_time": "2021-11-20T11:48:39.417Z"
   },
   {
    "duration": 37,
    "start_time": "2021-11-20T11:48:39.454Z"
   },
   {
    "duration": 27,
    "start_time": "2021-11-20T11:48:39.494Z"
   },
   {
    "duration": 39,
    "start_time": "2021-11-20T11:48:39.523Z"
   },
   {
    "duration": 1325,
    "start_time": "2021-11-20T11:58:16.568Z"
   },
   {
    "duration": 1231,
    "start_time": "2021-11-20T11:58:33.872Z"
   },
   {
    "duration": 338,
    "start_time": "2021-11-20T11:59:54.392Z"
   },
   {
    "duration": 1097,
    "start_time": "2021-11-20T12:00:01.020Z"
   },
   {
    "duration": 1121,
    "start_time": "2021-11-20T12:10:06.608Z"
   },
   {
    "duration": 1071,
    "start_time": "2021-11-20T12:21:01.053Z"
   },
   {
    "duration": 23,
    "start_time": "2021-11-20T12:23:48.529Z"
   },
   {
    "duration": 340,
    "start_time": "2021-11-20T12:25:38.203Z"
   },
   {
    "duration": 10,
    "start_time": "2021-11-20T12:25:42.615Z"
   },
   {
    "duration": 1027,
    "start_time": "2021-11-20T12:30:34.215Z"
   },
   {
    "duration": 4,
    "start_time": "2021-11-20T12:30:46.282Z"
   },
   {
    "duration": 70,
    "start_time": "2021-11-20T12:30:46.288Z"
   },
   {
    "duration": 19,
    "start_time": "2021-11-20T12:30:46.361Z"
   },
   {
    "duration": 21,
    "start_time": "2021-11-20T12:30:46.383Z"
   },
   {
    "duration": 31,
    "start_time": "2021-11-20T12:30:46.406Z"
   },
   {
    "duration": 5,
    "start_time": "2021-11-20T12:30:46.439Z"
   },
   {
    "duration": 12,
    "start_time": "2021-11-20T12:30:46.446Z"
   },
   {
    "duration": 22,
    "start_time": "2021-11-20T12:30:46.462Z"
   },
   {
    "duration": 1082,
    "start_time": "2021-11-20T12:30:46.530Z"
   },
   {
    "duration": 25,
    "start_time": "2021-11-20T12:30:47.614Z"
   },
   {
    "duration": 8,
    "start_time": "2021-11-20T12:30:47.641Z"
   },
   {
    "duration": 2901,
    "start_time": "2021-11-20T12:30:47.652Z"
   },
   {
    "duration": 7,
    "start_time": "2021-11-20T12:30:50.555Z"
   },
   {
    "duration": 28,
    "start_time": "2021-11-20T12:30:50.564Z"
   },
   {
    "duration": 41,
    "start_time": "2021-11-20T12:30:50.594Z"
   },
   {
    "duration": 33,
    "start_time": "2021-11-20T12:30:50.638Z"
   },
   {
    "duration": 23,
    "start_time": "2021-11-20T12:30:50.673Z"
   },
   {
    "duration": 21,
    "start_time": "2021-11-20T12:30:50.699Z"
   },
   {
    "duration": 22,
    "start_time": "2021-11-20T12:30:50.723Z"
   },
   {
    "duration": 28,
    "start_time": "2021-11-20T12:30:50.747Z"
   },
   {
    "duration": 28,
    "start_time": "2021-11-20T12:30:50.778Z"
   },
   {
    "duration": 1075,
    "start_time": "2021-11-20T12:30:50.808Z"
   },
   {
    "duration": 14,
    "start_time": "2021-11-20T12:30:51.888Z"
   },
   {
    "duration": 8,
    "start_time": "2021-11-20T13:02:52.434Z"
   },
   {
    "duration": 35,
    "start_time": "2021-11-20T13:03:02.818Z"
   },
   {
    "duration": 52,
    "start_time": "2021-11-20T13:06:23.058Z"
   },
   {
    "duration": 36,
    "start_time": "2021-11-20T13:06:45.332Z"
   },
   {
    "duration": 38,
    "start_time": "2021-11-20T13:07:40.669Z"
   },
   {
    "duration": 39,
    "start_time": "2021-11-20T13:07:53.285Z"
   },
   {
    "duration": 12,
    "start_time": "2021-11-20T13:09:31.501Z"
   },
   {
    "duration": 7548,
    "start_time": "2021-11-20T13:14:26.929Z"
   },
   {
    "duration": 7743,
    "start_time": "2021-11-20T13:15:08.880Z"
   },
   {
    "duration": 3,
    "start_time": "2021-11-20T13:16:02.906Z"
   },
   {
    "duration": 73,
    "start_time": "2021-11-20T13:16:02.912Z"
   },
   {
    "duration": 20,
    "start_time": "2021-11-20T13:16:02.988Z"
   },
   {
    "duration": 37,
    "start_time": "2021-11-20T13:16:03.011Z"
   },
   {
    "duration": 19,
    "start_time": "2021-11-20T13:16:03.050Z"
   },
   {
    "duration": 8,
    "start_time": "2021-11-20T13:16:03.072Z"
   },
   {
    "duration": 46,
    "start_time": "2021-11-20T13:16:03.082Z"
   },
   {
    "duration": 23,
    "start_time": "2021-11-20T13:16:03.130Z"
   },
   {
    "duration": 1105,
    "start_time": "2021-11-20T13:16:03.157Z"
   },
   {
    "duration": 21,
    "start_time": "2021-11-20T13:16:04.265Z"
   },
   {
    "duration": 11,
    "start_time": "2021-11-20T13:16:04.288Z"
   },
   {
    "duration": 2786,
    "start_time": "2021-11-20T13:16:04.302Z"
   },
   {
    "duration": 8,
    "start_time": "2021-11-20T13:16:07.090Z"
   },
   {
    "duration": 43,
    "start_time": "2021-11-20T13:16:07.100Z"
   },
   {
    "duration": 17,
    "start_time": "2021-11-20T13:16:07.146Z"
   },
   {
    "duration": 12,
    "start_time": "2021-11-20T13:16:07.165Z"
   },
   {
    "duration": 13,
    "start_time": "2021-11-20T13:16:07.179Z"
   },
   {
    "duration": 37,
    "start_time": "2021-11-20T13:16:07.195Z"
   },
   {
    "duration": 12,
    "start_time": "2021-11-20T13:16:07.235Z"
   },
   {
    "duration": 24,
    "start_time": "2021-11-20T13:16:07.250Z"
   },
   {
    "duration": 13,
    "start_time": "2021-11-20T13:16:07.276Z"
   },
   {
    "duration": 1078,
    "start_time": "2021-11-20T13:16:07.292Z"
   },
   {
    "duration": 18,
    "start_time": "2021-11-20T13:16:08.372Z"
   },
   {
    "duration": 44,
    "start_time": "2021-11-20T13:16:08.392Z"
   },
   {
    "duration": 47,
    "start_time": "2021-11-20T13:16:08.439Z"
   },
   {
    "duration": 7650,
    "start_time": "2021-11-20T13:16:13.536Z"
   },
   {
    "duration": 18,
    "start_time": "2021-11-20T13:16:34.948Z"
   },
   {
    "duration": 18,
    "start_time": "2021-11-20T13:16:55.784Z"
   },
   {
    "duration": 16,
    "start_time": "2021-11-20T13:17:06.813Z"
   },
   {
    "duration": 4,
    "start_time": "2021-11-20T13:27:54.115Z"
   },
   {
    "duration": 901,
    "start_time": "2021-11-20T13:29:08.582Z"
   },
   {
    "duration": 64,
    "start_time": "2021-11-20T13:29:09.485Z"
   },
   {
    "duration": 29,
    "start_time": "2021-11-20T13:29:09.553Z"
   },
   {
    "duration": 19,
    "start_time": "2021-11-20T13:29:09.584Z"
   },
   {
    "duration": 35,
    "start_time": "2021-11-20T13:29:09.606Z"
   },
   {
    "duration": 6,
    "start_time": "2021-11-20T13:29:09.643Z"
   },
   {
    "duration": 18,
    "start_time": "2021-11-20T13:29:09.651Z"
   },
   {
    "duration": 59,
    "start_time": "2021-11-20T13:29:09.672Z"
   },
   {
    "duration": 1815,
    "start_time": "2021-11-20T13:29:09.734Z"
   },
   {
    "duration": 4,
    "start_time": "2021-11-20T13:29:13.736Z"
   },
   {
    "duration": 12,
    "start_time": "2021-11-20T13:29:15.284Z"
   },
   {
    "duration": 684,
    "start_time": "2021-11-20T13:30:03.379Z"
   },
   {
    "duration": 755,
    "start_time": "2021-11-20T13:30:45.627Z"
   },
   {
    "duration": 64,
    "start_time": "2021-11-20T13:30:46.386Z"
   },
   {
    "duration": 29,
    "start_time": "2021-11-20T13:30:46.453Z"
   },
   {
    "duration": 24,
    "start_time": "2021-11-20T13:30:46.485Z"
   },
   {
    "duration": 32,
    "start_time": "2021-11-20T13:30:46.511Z"
   },
   {
    "duration": 9,
    "start_time": "2021-11-20T13:30:46.545Z"
   },
   {
    "duration": 14,
    "start_time": "2021-11-20T13:30:46.556Z"
   },
   {
    "duration": 57,
    "start_time": "2021-11-20T13:30:46.572Z"
   },
   {
    "duration": 1776,
    "start_time": "2021-11-20T13:30:46.632Z"
   },
   {
    "duration": 4,
    "start_time": "2021-11-20T13:30:48.410Z"
   },
   {
    "duration": 4,
    "start_time": "2021-11-20T13:30:53.016Z"
   },
   {
    "duration": 1166,
    "start_time": "2021-11-20T13:31:28.087Z"
   },
   {
    "duration": 751,
    "start_time": "2021-11-20T13:32:00.646Z"
   },
   {
    "duration": 65,
    "start_time": "2021-11-20T13:32:01.400Z"
   },
   {
    "duration": 30,
    "start_time": "2021-11-20T13:32:01.469Z"
   },
   {
    "duration": 38,
    "start_time": "2021-11-20T13:32:01.502Z"
   },
   {
    "duration": 25,
    "start_time": "2021-11-20T13:32:01.543Z"
   },
   {
    "duration": 21,
    "start_time": "2021-11-20T13:32:01.570Z"
   },
   {
    "duration": 28,
    "start_time": "2021-11-20T13:32:01.593Z"
   },
   {
    "duration": 45,
    "start_time": "2021-11-20T13:32:01.624Z"
   },
   {
    "duration": 2030,
    "start_time": "2021-11-20T13:32:01.674Z"
   },
   {
    "duration": 5,
    "start_time": "2021-11-20T13:32:03.706Z"
   },
   {
    "duration": 28,
    "start_time": "2021-11-20T13:32:03.713Z"
   },
   {
    "duration": 12,
    "start_time": "2021-11-20T13:32:10.629Z"
   },
   {
    "duration": 1116,
    "start_time": "2021-11-20T13:32:13.140Z"
   },
   {
    "duration": 790,
    "start_time": "2021-11-20T13:32:47.317Z"
   },
   {
    "duration": 64,
    "start_time": "2021-11-20T13:32:48.110Z"
   },
   {
    "duration": 29,
    "start_time": "2021-11-20T13:32:48.176Z"
   },
   {
    "duration": 33,
    "start_time": "2021-11-20T13:32:48.208Z"
   },
   {
    "duration": 39,
    "start_time": "2021-11-20T13:32:48.243Z"
   },
   {
    "duration": 30,
    "start_time": "2021-11-20T13:32:48.285Z"
   },
   {
    "duration": 27,
    "start_time": "2021-11-20T13:32:48.317Z"
   },
   {
    "duration": 45,
    "start_time": "2021-11-20T13:32:48.347Z"
   },
   {
    "duration": 1912,
    "start_time": "2021-11-20T13:32:48.395Z"
   },
   {
    "duration": 4,
    "start_time": "2021-11-20T13:32:50.310Z"
   },
   {
    "duration": 17,
    "start_time": "2021-11-20T13:32:50.328Z"
   },
   {
    "duration": 13,
    "start_time": "2021-11-20T13:32:54.860Z"
   },
   {
    "duration": 685,
    "start_time": "2021-11-20T13:32:55.659Z"
   },
   {
    "duration": 20,
    "start_time": "2021-11-20T13:33:44.484Z"
   },
   {
    "duration": 745,
    "start_time": "2021-11-20T13:34:22.542Z"
   },
   {
    "duration": 63,
    "start_time": "2021-11-20T13:34:23.290Z"
   },
   {
    "duration": 31,
    "start_time": "2021-11-20T13:34:23.356Z"
   },
   {
    "duration": 22,
    "start_time": "2021-11-20T13:34:23.390Z"
   },
   {
    "duration": 29,
    "start_time": "2021-11-20T13:34:23.414Z"
   },
   {
    "duration": 7,
    "start_time": "2021-11-20T13:34:23.446Z"
   },
   {
    "duration": 19,
    "start_time": "2021-11-20T13:34:23.460Z"
   },
   {
    "duration": 52,
    "start_time": "2021-11-20T13:34:23.481Z"
   },
   {
    "duration": 1862,
    "start_time": "2021-11-20T13:34:23.537Z"
   },
   {
    "duration": 4,
    "start_time": "2021-11-20T13:34:25.402Z"
   },
   {
    "duration": 29,
    "start_time": "2021-11-20T13:34:25.409Z"
   },
   {
    "duration": 1087,
    "start_time": "2021-11-20T13:34:27.701Z"
   },
   {
    "duration": 20,
    "start_time": "2021-11-20T13:34:48.581Z"
   },
   {
    "duration": 8,
    "start_time": "2021-11-20T13:34:51.761Z"
   },
   {
    "duration": 2680,
    "start_time": "2021-11-20T13:34:54.117Z"
   },
   {
    "duration": 2745,
    "start_time": "2021-11-20T13:34:59.845Z"
   },
   {
    "duration": 7,
    "start_time": "2021-11-20T13:35:04.577Z"
   },
   {
    "duration": 21,
    "start_time": "2021-11-20T13:35:04.989Z"
   },
   {
    "duration": 14,
    "start_time": "2021-11-20T13:35:08.093Z"
   },
   {
    "duration": 4,
    "start_time": "2021-11-20T13:35:17.459Z"
   },
   {
    "duration": 83,
    "start_time": "2021-11-20T13:35:17.467Z"
   },
   {
    "duration": 19,
    "start_time": "2021-11-20T13:35:17.554Z"
   },
   {
    "duration": 41,
    "start_time": "2021-11-20T13:35:17.577Z"
   },
   {
    "duration": 31,
    "start_time": "2021-11-20T13:35:17.629Z"
   },
   {
    "duration": 85,
    "start_time": "2021-11-20T13:35:17.663Z"
   },
   {
    "duration": 39,
    "start_time": "2021-11-20T13:35:17.751Z"
   },
   {
    "duration": 28,
    "start_time": "2021-11-20T13:35:17.793Z"
   },
   {
    "duration": 1105,
    "start_time": "2021-11-20T13:35:17.828Z"
   },
   {
    "duration": 4,
    "start_time": "2021-11-20T13:35:18.936Z"
   },
   {
    "duration": 22,
    "start_time": "2021-11-20T13:35:18.943Z"
   },
   {
    "duration": 1100,
    "start_time": "2021-11-20T13:35:18.967Z"
   },
   {
    "duration": 20,
    "start_time": "2021-11-20T13:35:20.070Z"
   },
   {
    "duration": 27,
    "start_time": "2021-11-20T13:35:20.092Z"
   },
   {
    "duration": 2680,
    "start_time": "2021-11-20T13:35:20.129Z"
   },
   {
    "duration": 7,
    "start_time": "2021-11-20T13:35:22.811Z"
   },
   {
    "duration": 22,
    "start_time": "2021-11-20T13:35:22.830Z"
   },
   {
    "duration": 23,
    "start_time": "2021-11-20T13:35:22.855Z"
   },
   {
    "duration": 15,
    "start_time": "2021-11-20T13:35:22.880Z"
   },
   {
    "duration": 38,
    "start_time": "2021-11-20T13:35:22.897Z"
   },
   {
    "duration": 11,
    "start_time": "2021-11-20T13:35:22.938Z"
   },
   {
    "duration": 12,
    "start_time": "2021-11-20T13:35:22.951Z"
   },
   {
    "duration": 18,
    "start_time": "2021-11-20T13:35:22.966Z"
   },
   {
    "duration": 48,
    "start_time": "2021-11-20T13:35:22.986Z"
   },
   {
    "duration": 1208,
    "start_time": "2021-11-20T13:35:23.037Z"
   },
   {
    "duration": 15,
    "start_time": "2021-11-20T13:35:24.247Z"
   },
   {
    "duration": 22,
    "start_time": "2021-11-20T13:35:38.776Z"
   },
   {
    "duration": 13,
    "start_time": "2021-11-20T13:35:54.649Z"
   },
   {
    "duration": 17,
    "start_time": "2021-11-20T13:39:27.992Z"
   },
   {
    "duration": 15,
    "start_time": "2021-11-20T13:39:45.444Z"
   },
   {
    "duration": 37,
    "start_time": "2021-11-20T13:40:01.932Z"
   },
   {
    "duration": 13,
    "start_time": "2021-11-20T13:40:33.648Z"
   },
   {
    "duration": 2481,
    "start_time": "2021-11-20T13:42:00.470Z"
   },
   {
    "duration": 30,
    "start_time": "2021-11-20T13:42:02.925Z"
   },
   {
    "duration": 28,
    "start_time": "2021-11-20T13:42:02.929Z"
   },
   {
    "duration": 11,
    "start_time": "2021-11-20T13:42:02.947Z"
   },
   {
    "duration": 10,
    "start_time": "2021-11-20T13:42:02.950Z"
   },
   {
    "duration": 6,
    "start_time": "2021-11-20T13:42:02.955Z"
   },
   {
    "duration": 4,
    "start_time": "2021-11-20T13:42:02.958Z"
   },
   {
    "duration": 5,
    "start_time": "2021-11-20T13:42:02.959Z"
   },
   {
    "duration": 4,
    "start_time": "2021-11-20T13:42:02.961Z"
   },
   {
    "duration": 3,
    "start_time": "2021-11-20T13:42:02.964Z"
   },
   {
    "duration": -5,
    "start_time": "2021-11-20T13:42:02.973Z"
   },
   {
    "duration": -5,
    "start_time": "2021-11-20T13:42:02.975Z"
   },
   {
    "duration": -6,
    "start_time": "2021-11-20T13:42:02.977Z"
   },
   {
    "duration": -6,
    "start_time": "2021-11-20T13:42:02.978Z"
   },
   {
    "duration": -14,
    "start_time": "2021-11-20T13:42:02.988Z"
   },
   {
    "duration": -15,
    "start_time": "2021-11-20T13:42:02.990Z"
   },
   {
    "duration": -16,
    "start_time": "2021-11-20T13:42:02.992Z"
   },
   {
    "duration": -16,
    "start_time": "2021-11-20T13:42:02.994Z"
   },
   {
    "duration": -18,
    "start_time": "2021-11-20T13:42:02.997Z"
   },
   {
    "duration": -19,
    "start_time": "2021-11-20T13:42:02.999Z"
   },
   {
    "duration": -19,
    "start_time": "2021-11-20T13:42:03.001Z"
   },
   {
    "duration": 863,
    "start_time": "2021-11-20T13:42:15.525Z"
   },
   {
    "duration": 63,
    "start_time": "2021-11-20T13:42:16.391Z"
   },
   {
    "duration": 30,
    "start_time": "2021-11-20T13:42:16.457Z"
   },
   {
    "duration": 15,
    "start_time": "2021-11-20T13:42:22.687Z"
   },
   {
    "duration": 7,
    "start_time": "2021-11-20T13:42:24.433Z"
   },
   {
    "duration": 10,
    "start_time": "2021-11-20T13:42:28.309Z"
   },
   {
    "duration": 22,
    "start_time": "2021-11-20T13:42:29.833Z"
   },
   {
    "duration": 1805,
    "start_time": "2021-11-20T13:42:33.173Z"
   },
   {
    "duration": 4,
    "start_time": "2021-11-20T13:42:41.082Z"
   },
   {
    "duration": 13,
    "start_time": "2021-11-20T13:42:57.357Z"
   },
   {
    "duration": 1195,
    "start_time": "2021-11-20T13:43:00.477Z"
   },
   {
    "duration": 19,
    "start_time": "2021-11-20T13:43:14.669Z"
   },
   {
    "duration": 34,
    "start_time": "2021-11-20T13:43:22.826Z"
   },
   {
    "duration": 35,
    "start_time": "2021-11-20T13:43:43.857Z"
   },
   {
    "duration": 7,
    "start_time": "2021-11-20T13:44:18.474Z"
   },
   {
    "duration": 34,
    "start_time": "2021-11-20T13:44:30.313Z"
   },
   {
    "duration": 423,
    "start_time": "2021-11-20T13:44:39.373Z"
   },
   {
    "duration": 14,
    "start_time": "2021-11-20T13:44:46.641Z"
   },
   {
    "duration": 738,
    "start_time": "2021-11-20T13:45:42.142Z"
   },
   {
    "duration": 64,
    "start_time": "2021-11-20T13:45:42.883Z"
   },
   {
    "duration": 31,
    "start_time": "2021-11-20T13:45:42.950Z"
   },
   {
    "duration": 22,
    "start_time": "2021-11-20T13:45:42.984Z"
   },
   {
    "duration": 23,
    "start_time": "2021-11-20T13:45:43.008Z"
   },
   {
    "duration": 21,
    "start_time": "2021-11-20T13:45:43.033Z"
   },
   {
    "duration": 39,
    "start_time": "2021-11-20T13:45:43.057Z"
   },
   {
    "duration": 1809,
    "start_time": "2021-11-20T13:45:47.977Z"
   },
   {
    "duration": 5,
    "start_time": "2021-11-20T13:45:56.693Z"
   },
   {
    "duration": 16,
    "start_time": "2021-11-20T13:46:06.889Z"
   },
   {
    "duration": 13,
    "start_time": "2021-11-20T13:46:20.449Z"
   },
   {
    "duration": 36,
    "start_time": "2021-11-20T13:46:42.325Z"
   },
   {
    "duration": 728,
    "start_time": "2021-11-20T13:48:13.943Z"
   },
   {
    "duration": 65,
    "start_time": "2021-11-20T13:48:14.674Z"
   },
   {
    "duration": 28,
    "start_time": "2021-11-20T13:48:14.742Z"
   },
   {
    "duration": 18,
    "start_time": "2021-11-20T13:48:14.773Z"
   },
   {
    "duration": 6,
    "start_time": "2021-11-20T13:48:14.793Z"
   },
   {
    "duration": 36,
    "start_time": "2021-11-20T13:48:14.801Z"
   },
   {
    "duration": 36,
    "start_time": "2021-11-20T13:48:14.840Z"
   },
   {
    "duration": 2005,
    "start_time": "2021-11-20T13:48:14.882Z"
   },
   {
    "duration": 4,
    "start_time": "2021-11-20T13:48:16.890Z"
   },
   {
    "duration": 36,
    "start_time": "2021-11-20T13:48:16.897Z"
   },
   {
    "duration": 1178,
    "start_time": "2021-11-20T13:48:16.935Z"
   },
   {
    "duration": 20,
    "start_time": "2021-11-20T13:48:18.116Z"
   },
   {
    "duration": 8,
    "start_time": "2021-11-20T13:48:18.138Z"
   },
   {
    "duration": 3101,
    "start_time": "2021-11-20T13:48:18.149Z"
   },
   {
    "duration": 8,
    "start_time": "2021-11-20T13:48:21.255Z"
   },
   {
    "duration": 30,
    "start_time": "2021-11-20T13:48:21.267Z"
   },
   {
    "duration": 42,
    "start_time": "2021-11-20T13:48:21.300Z"
   },
   {
    "duration": 17,
    "start_time": "2021-11-20T13:48:21.344Z"
   },
   {
    "duration": 17,
    "start_time": "2021-11-20T13:48:21.365Z"
   },
   {
    "duration": 95,
    "start_time": "2021-11-20T13:48:21.384Z"
   },
   {
    "duration": 34,
    "start_time": "2021-11-20T13:48:21.483Z"
   },
   {
    "duration": 32,
    "start_time": "2021-11-20T13:48:21.520Z"
   },
   {
    "duration": 12,
    "start_time": "2021-11-20T13:48:21.558Z"
   },
   {
    "duration": 1252,
    "start_time": "2021-11-20T13:48:21.572Z"
   },
   {
    "duration": 15,
    "start_time": "2021-11-20T13:48:22.827Z"
   },
   {
    "duration": 13,
    "start_time": "2021-11-20T13:48:27.939Z"
   },
   {
    "duration": 23,
    "start_time": "2021-11-20T13:48:32.347Z"
   },
   {
    "duration": 18,
    "start_time": "2021-11-20T13:48:59.030Z"
   },
   {
    "duration": 17,
    "start_time": "2021-11-20T13:49:05.176Z"
   },
   {
    "duration": 4,
    "start_time": "2021-11-20T14:03:53.258Z"
   },
   {
    "duration": 69,
    "start_time": "2021-11-20T14:03:53.265Z"
   },
   {
    "duration": 20,
    "start_time": "2021-11-20T14:03:53.338Z"
   },
   {
    "duration": 21,
    "start_time": "2021-11-20T14:03:53.361Z"
   },
   {
    "duration": 7,
    "start_time": "2021-11-20T14:03:53.386Z"
   },
   {
    "duration": 45,
    "start_time": "2021-11-20T14:03:53.396Z"
   },
   {
    "duration": 51,
    "start_time": "2021-11-20T14:03:53.443Z"
   },
   {
    "duration": 1699,
    "start_time": "2021-11-20T14:03:53.529Z"
   },
   {
    "duration": 6,
    "start_time": "2021-11-20T14:03:55.234Z"
   },
   {
    "duration": 27,
    "start_time": "2021-11-20T14:03:55.245Z"
   },
   {
    "duration": 1254,
    "start_time": "2021-11-20T14:03:55.275Z"
   },
   {
    "duration": 15,
    "start_time": "2021-11-20T14:03:56.532Z"
   },
   {
    "duration": 7,
    "start_time": "2021-11-20T14:03:56.550Z"
   },
   {
    "duration": 2744,
    "start_time": "2021-11-20T14:03:56.560Z"
   },
   {
    "duration": 7,
    "start_time": "2021-11-20T14:03:59.306Z"
   },
   {
    "duration": 32,
    "start_time": "2021-11-20T14:03:59.316Z"
   },
   {
    "duration": 18,
    "start_time": "2021-11-20T14:03:59.351Z"
   },
   {
    "duration": 27,
    "start_time": "2021-11-20T14:03:59.371Z"
   },
   {
    "duration": 31,
    "start_time": "2021-11-20T14:03:59.400Z"
   },
   {
    "duration": 14,
    "start_time": "2021-11-20T14:03:59.433Z"
   },
   {
    "duration": 12,
    "start_time": "2021-11-20T14:03:59.449Z"
   },
   {
    "duration": 15,
    "start_time": "2021-11-20T14:03:59.463Z"
   },
   {
    "duration": 54,
    "start_time": "2021-11-20T14:03:59.480Z"
   },
   {
    "duration": 1092,
    "start_time": "2021-11-20T14:03:59.537Z"
   },
   {
    "duration": 16,
    "start_time": "2021-11-20T14:04:00.631Z"
   },
   {
    "duration": 34,
    "start_time": "2021-11-20T14:04:00.649Z"
   },
   {
    "duration": 22,
    "start_time": "2021-11-20T14:04:07.137Z"
   },
   {
    "duration": 7,
    "start_time": "2021-11-20T14:06:12.821Z"
   },
   {
    "duration": 10,
    "start_time": "2021-11-20T14:06:52.289Z"
   },
   {
    "duration": 7,
    "start_time": "2021-11-20T14:12:50.016Z"
   },
   {
    "duration": 7,
    "start_time": "2021-11-20T14:13:18.222Z"
   },
   {
    "duration": 7,
    "start_time": "2021-11-20T14:13:52.104Z"
   },
   {
    "duration": 9,
    "start_time": "2021-11-20T14:14:04.547Z"
   },
   {
    "duration": 1691,
    "start_time": "2021-11-20T14:24:51.666Z"
   },
   {
    "duration": 18,
    "start_time": "2021-11-20T14:24:59.709Z"
   },
   {
    "duration": 3,
    "start_time": "2021-11-20T14:26:53.362Z"
   },
   {
    "duration": 819,
    "start_time": "2021-11-20T14:27:32.065Z"
   },
   {
    "duration": 77,
    "start_time": "2021-11-20T14:27:32.887Z"
   },
   {
    "duration": 31,
    "start_time": "2021-11-20T14:27:32.967Z"
   },
   {
    "duration": 42,
    "start_time": "2021-11-20T14:27:33.001Z"
   },
   {
    "duration": 6,
    "start_time": "2021-11-20T14:27:33.045Z"
   },
   {
    "duration": 22,
    "start_time": "2021-11-20T14:27:33.053Z"
   },
   {
    "duration": 78,
    "start_time": "2021-11-20T14:27:33.078Z"
   },
   {
    "duration": 1940,
    "start_time": "2021-11-20T14:27:33.158Z"
   },
   {
    "duration": 5,
    "start_time": "2021-11-20T14:27:35.102Z"
   },
   {
    "duration": 31,
    "start_time": "2021-11-20T14:27:35.110Z"
   },
   {
    "duration": 1201,
    "start_time": "2021-11-20T14:27:35.143Z"
   },
   {
    "duration": 15,
    "start_time": "2021-11-20T14:27:36.347Z"
   },
   {
    "duration": 7,
    "start_time": "2021-11-20T14:27:36.365Z"
   },
   {
    "duration": 2740,
    "start_time": "2021-11-20T14:27:36.375Z"
   },
   {
    "duration": 16,
    "start_time": "2021-11-20T14:27:39.117Z"
   },
   {
    "duration": 23,
    "start_time": "2021-11-20T14:27:39.135Z"
   },
   {
    "duration": 16,
    "start_time": "2021-11-20T14:27:39.161Z"
   },
   {
    "duration": 14,
    "start_time": "2021-11-20T14:27:39.179Z"
   },
   {
    "duration": 13,
    "start_time": "2021-11-20T14:27:39.229Z"
   },
   {
    "duration": 24,
    "start_time": "2021-11-20T14:27:39.245Z"
   },
   {
    "duration": 13,
    "start_time": "2021-11-20T14:27:39.272Z"
   },
   {
    "duration": 42,
    "start_time": "2021-11-20T14:27:39.287Z"
   },
   {
    "duration": 10,
    "start_time": "2021-11-20T14:27:39.332Z"
   },
   {
    "duration": 1187,
    "start_time": "2021-11-20T14:27:39.345Z"
   },
   {
    "duration": 16,
    "start_time": "2021-11-20T14:27:40.535Z"
   },
   {
    "duration": 25,
    "start_time": "2021-11-20T14:27:40.553Z"
   },
   {
    "duration": 47,
    "start_time": "2021-11-20T14:27:40.583Z"
   },
   {
    "duration": 8,
    "start_time": "2021-11-20T14:27:40.632Z"
   },
   {
    "duration": 25,
    "start_time": "2021-11-20T14:27:40.642Z"
   },
   {
    "duration": 551,
    "start_time": "2021-11-20T14:29:49.526Z"
   },
   {
    "duration": 8829,
    "start_time": "2021-11-20T14:30:07.698Z"
   },
   {
    "duration": 278,
    "start_time": "2021-11-20T14:31:08.555Z"
   },
   {
    "duration": 301,
    "start_time": "2021-11-20T14:31:26.194Z"
   },
   {
    "duration": 8067,
    "start_time": "2021-11-20T14:32:31.354Z"
   },
   {
    "duration": 21,
    "start_time": "2021-11-20T14:33:29.266Z"
   },
   {
    "duration": 838,
    "start_time": "2021-11-20T14:35:01.958Z"
   },
   {
    "duration": 7624,
    "start_time": "2021-11-20T14:42:51.997Z"
   },
   {
    "duration": 7091,
    "start_time": "2021-11-20T14:43:10.817Z"
   },
   {
    "duration": 61,
    "start_time": "2021-11-20T14:43:30.765Z"
   },
   {
    "duration": 15,
    "start_time": "2021-11-20T14:43:33.584Z"
   },
   {
    "duration": 8,
    "start_time": "2021-11-20T14:43:53.564Z"
   },
   {
    "duration": 772,
    "start_time": "2021-11-20T14:44:08.043Z"
   },
   {
    "duration": 66,
    "start_time": "2021-11-20T14:44:08.818Z"
   },
   {
    "duration": 28,
    "start_time": "2021-11-20T14:44:08.887Z"
   },
   {
    "duration": 15,
    "start_time": "2021-11-20T14:44:08.930Z"
   },
   {
    "duration": 5,
    "start_time": "2021-11-20T14:44:08.947Z"
   },
   {
    "duration": 14,
    "start_time": "2021-11-20T14:44:08.954Z"
   },
   {
    "duration": 71,
    "start_time": "2021-11-20T14:44:08.971Z"
   },
   {
    "duration": 1923,
    "start_time": "2021-11-20T14:44:09.045Z"
   },
   {
    "duration": 5,
    "start_time": "2021-11-20T14:44:10.972Z"
   },
   {
    "duration": 43,
    "start_time": "2021-11-20T14:44:10.980Z"
   },
   {
    "duration": 1212,
    "start_time": "2021-11-20T14:44:11.025Z"
   },
   {
    "duration": 15,
    "start_time": "2021-11-20T14:44:12.239Z"
   },
   {
    "duration": 23,
    "start_time": "2021-11-20T14:44:12.257Z"
   },
   {
    "duration": 2702,
    "start_time": "2021-11-20T14:44:12.282Z"
   },
   {
    "duration": 7,
    "start_time": "2021-11-20T14:44:14.987Z"
   },
   {
    "duration": 43,
    "start_time": "2021-11-20T14:44:14.997Z"
   },
   {
    "duration": 15,
    "start_time": "2021-11-20T14:44:15.043Z"
   },
   {
    "duration": 13,
    "start_time": "2021-11-20T14:44:15.061Z"
   },
   {
    "duration": 13,
    "start_time": "2021-11-20T14:44:15.076Z"
   },
   {
    "duration": 42,
    "start_time": "2021-11-20T14:44:15.092Z"
   },
   {
    "duration": 17,
    "start_time": "2021-11-20T14:44:15.136Z"
   },
   {
    "duration": 36,
    "start_time": "2021-11-20T14:44:15.155Z"
   },
   {
    "duration": 13,
    "start_time": "2021-11-20T14:44:15.194Z"
   },
   {
    "duration": 1114,
    "start_time": "2021-11-20T14:44:15.209Z"
   },
   {
    "duration": 17,
    "start_time": "2021-11-20T14:44:16.330Z"
   },
   {
    "duration": 16,
    "start_time": "2021-11-20T14:44:16.350Z"
   },
   {
    "duration": 60,
    "start_time": "2021-11-20T14:44:16.372Z"
   },
   {
    "duration": 9,
    "start_time": "2021-11-20T14:44:16.436Z"
   },
   {
    "duration": 8,
    "start_time": "2021-11-20T14:44:16.447Z"
   },
   {
    "duration": 16,
    "start_time": "2021-11-20T14:48:56.859Z"
   },
   {
    "duration": 17,
    "start_time": "2021-11-20T14:49:32.474Z"
   },
   {
    "duration": 429,
    "start_time": "2021-11-20T14:49:44.423Z"
   },
   {
    "duration": 292,
    "start_time": "2021-11-20T14:49:55.191Z"
   },
   {
    "duration": 7,
    "start_time": "2021-11-20T14:50:00.051Z"
   },
   {
    "duration": 8,
    "start_time": "2021-11-20T14:50:07.126Z"
   },
   {
    "duration": 16,
    "start_time": "2021-11-20T14:50:16.016Z"
   },
   {
    "duration": 421,
    "start_time": "2021-11-20T14:57:32.393Z"
   },
   {
    "duration": 278,
    "start_time": "2021-11-20T14:57:59.813Z"
   },
   {
    "duration": 274,
    "start_time": "2021-11-20T14:58:51.085Z"
   },
   {
    "duration": 19,
    "start_time": "2021-11-20T14:59:14.938Z"
   },
   {
    "duration": 18,
    "start_time": "2021-11-20T14:59:37.013Z"
   },
   {
    "duration": 24,
    "start_time": "2021-11-20T14:59:44.169Z"
   },
   {
    "duration": 24,
    "start_time": "2021-11-20T14:59:49.537Z"
   },
   {
    "duration": 331,
    "start_time": "2021-11-20T15:01:24.601Z"
   },
   {
    "duration": 340,
    "start_time": "2021-11-20T15:01:32.077Z"
   },
   {
    "duration": 26,
    "start_time": "2021-11-20T15:01:36.365Z"
   },
   {
    "duration": 47,
    "start_time": "2021-11-20T15:01:43.201Z"
   },
   {
    "duration": 845,
    "start_time": "2021-11-20T15:02:20.054Z"
   },
   {
    "duration": 72,
    "start_time": "2021-11-20T15:02:20.902Z"
   },
   {
    "duration": 31,
    "start_time": "2021-11-20T15:02:20.978Z"
   },
   {
    "duration": 37,
    "start_time": "2021-11-20T15:02:21.013Z"
   },
   {
    "duration": 15,
    "start_time": "2021-11-20T15:02:21.052Z"
   },
   {
    "duration": 16,
    "start_time": "2021-11-20T15:02:21.069Z"
   },
   {
    "duration": 54,
    "start_time": "2021-11-20T15:02:21.087Z"
   },
   {
    "duration": 1879,
    "start_time": "2021-11-20T15:02:21.144Z"
   },
   {
    "duration": 4,
    "start_time": "2021-11-20T15:02:23.027Z"
   },
   {
    "duration": 17,
    "start_time": "2021-11-20T15:02:23.035Z"
   },
   {
    "duration": 1251,
    "start_time": "2021-11-20T15:02:23.055Z"
   },
   {
    "duration": 24,
    "start_time": "2021-11-20T15:02:24.309Z"
   },
   {
    "duration": 15,
    "start_time": "2021-11-20T15:02:24.335Z"
   },
   {
    "duration": 2918,
    "start_time": "2021-11-20T15:02:24.352Z"
   },
   {
    "duration": 9,
    "start_time": "2021-11-20T15:02:27.272Z"
   },
   {
    "duration": 47,
    "start_time": "2021-11-20T15:02:27.283Z"
   },
   {
    "duration": 18,
    "start_time": "2021-11-20T15:02:27.333Z"
   },
   {
    "duration": 28,
    "start_time": "2021-11-20T15:02:27.354Z"
   },
   {
    "duration": 44,
    "start_time": "2021-11-20T15:02:27.385Z"
   },
   {
    "duration": 16,
    "start_time": "2021-11-20T15:02:27.431Z"
   },
   {
    "duration": 18,
    "start_time": "2021-11-20T15:02:27.450Z"
   },
   {
    "duration": 13,
    "start_time": "2021-11-20T15:02:27.470Z"
   },
   {
    "duration": 56,
    "start_time": "2021-11-20T15:02:27.487Z"
   },
   {
    "duration": 21,
    "start_time": "2021-11-20T15:02:27.546Z"
   },
   {
    "duration": 1201,
    "start_time": "2021-11-20T15:02:27.569Z"
   },
   {
    "duration": 14,
    "start_time": "2021-11-20T15:02:28.772Z"
   },
   {
    "duration": 37,
    "start_time": "2021-11-20T15:02:28.791Z"
   },
   {
    "duration": 24,
    "start_time": "2021-11-20T15:02:28.831Z"
   },
   {
    "duration": 8,
    "start_time": "2021-11-20T15:02:28.858Z"
   },
   {
    "duration": 9,
    "start_time": "2021-11-20T15:02:28.868Z"
   },
   {
    "duration": 100,
    "start_time": "2021-11-20T15:02:28.879Z"
   },
   {
    "duration": 15,
    "start_time": "2021-11-20T15:02:28.981Z"
   },
   {
    "duration": 22,
    "start_time": "2021-11-20T15:02:32.357Z"
   },
   {
    "duration": 58,
    "start_time": "2021-11-20T15:03:28.667Z"
   },
   {
    "duration": 60,
    "start_time": "2021-11-20T15:04:04.617Z"
   },
   {
    "duration": 57,
    "start_time": "2021-11-20T15:23:25.126Z"
   },
   {
    "duration": 29,
    "start_time": "2021-11-20T15:27:18.090Z"
   },
   {
    "duration": 17,
    "start_time": "2021-11-20T15:27:29.001Z"
   },
   {
    "duration": 59,
    "start_time": "2021-11-20T15:27:51.025Z"
   },
   {
    "duration": 17,
    "start_time": "2021-11-20T15:28:05.653Z"
   },
   {
    "duration": 4879,
    "start_time": "2021-11-20T15:35:52.712Z"
   },
   {
    "duration": 10,
    "start_time": "2021-11-20T15:36:07.633Z"
   },
   {
    "duration": 435,
    "start_time": "2021-11-20T15:41:04.020Z"
   },
   {
    "duration": 47,
    "start_time": "2021-11-20T15:41:25.188Z"
   },
   {
    "duration": 354,
    "start_time": "2021-11-20T15:41:56.791Z"
   },
   {
    "duration": 43,
    "start_time": "2021-11-20T15:42:05.755Z"
   },
   {
    "duration": 44,
    "start_time": "2021-11-20T15:42:18.107Z"
   },
   {
    "duration": 43,
    "start_time": "2021-11-20T15:46:34.163Z"
   },
   {
    "duration": 96,
    "start_time": "2021-11-20T15:47:00.423Z"
   },
   {
    "duration": 326,
    "start_time": "2021-11-20T15:47:04.747Z"
   },
   {
    "duration": 32,
    "start_time": "2021-11-20T15:52:39.662Z"
   },
   {
    "duration": 29,
    "start_time": "2021-11-20T15:52:51.742Z"
   },
   {
    "duration": 30,
    "start_time": "2021-11-20T15:53:16.074Z"
   },
   {
    "duration": 789,
    "start_time": "2021-11-20T15:54:09.105Z"
   },
   {
    "duration": 67,
    "start_time": "2021-11-20T15:54:09.897Z"
   },
   {
    "duration": 31,
    "start_time": "2021-11-20T15:54:09.967Z"
   },
   {
    "duration": 32,
    "start_time": "2021-11-20T15:54:10.001Z"
   },
   {
    "duration": 6,
    "start_time": "2021-11-20T15:54:10.036Z"
   },
   {
    "duration": 13,
    "start_time": "2021-11-20T15:54:10.044Z"
   },
   {
    "duration": 80,
    "start_time": "2021-11-20T15:54:10.059Z"
   },
   {
    "duration": 2038,
    "start_time": "2021-11-20T15:54:10.141Z"
   },
   {
    "duration": 4,
    "start_time": "2021-11-20T15:54:12.183Z"
   },
   {
    "duration": 20,
    "start_time": "2021-11-20T15:54:12.190Z"
   },
   {
    "duration": 1172,
    "start_time": "2021-11-20T15:54:12.213Z"
   },
   {
    "duration": 15,
    "start_time": "2021-11-20T15:54:13.387Z"
   },
   {
    "duration": 29,
    "start_time": "2021-11-20T15:54:13.404Z"
   },
   {
    "duration": 2682,
    "start_time": "2021-11-20T15:54:13.436Z"
   },
   {
    "duration": 13,
    "start_time": "2021-11-20T15:54:16.121Z"
   },
   {
    "duration": 34,
    "start_time": "2021-11-20T15:54:16.138Z"
   },
   {
    "duration": 16,
    "start_time": "2021-11-20T15:54:16.175Z"
   },
   {
    "duration": 28,
    "start_time": "2021-11-20T15:54:16.229Z"
   },
   {
    "duration": 19,
    "start_time": "2021-11-20T15:54:16.260Z"
   },
   {
    "duration": 18,
    "start_time": "2021-11-20T15:54:16.282Z"
   },
   {
    "duration": 13,
    "start_time": "2021-11-20T15:54:16.329Z"
   },
   {
    "duration": 17,
    "start_time": "2021-11-20T15:54:16.345Z"
   },
   {
    "duration": 18,
    "start_time": "2021-11-20T15:54:16.364Z"
   },
   {
    "duration": 49,
    "start_time": "2021-11-20T15:54:16.385Z"
   },
   {
    "duration": 1112,
    "start_time": "2021-11-20T15:54:16.437Z"
   },
   {
    "duration": 15,
    "start_time": "2021-11-20T15:54:17.551Z"
   },
   {
    "duration": 12,
    "start_time": "2021-11-20T15:54:17.571Z"
   },
   {
    "duration": 55,
    "start_time": "2021-11-20T15:54:17.586Z"
   },
   {
    "duration": 7,
    "start_time": "2021-11-20T15:54:17.643Z"
   },
   {
    "duration": 11,
    "start_time": "2021-11-20T15:54:17.652Z"
   },
   {
    "duration": 79,
    "start_time": "2021-11-20T15:54:17.665Z"
   },
   {
    "duration": 16,
    "start_time": "2021-11-20T15:54:17.747Z"
   },
   {
    "duration": 20,
    "start_time": "2021-11-20T15:54:17.765Z"
   },
   {
    "duration": 92,
    "start_time": "2021-11-20T15:54:17.788Z"
   },
   {
    "duration": 74,
    "start_time": "2021-11-20T15:54:17.883Z"
   },
   {
    "duration": 16,
    "start_time": "2021-11-20T15:54:17.959Z"
   },
   {
    "duration": 4633,
    "start_time": "2021-11-20T15:54:17.978Z"
   },
   {
    "duration": 444,
    "start_time": "2021-11-20T15:54:22.614Z"
   },
   {
    "duration": 18,
    "start_time": "2021-11-20T15:55:47.687Z"
   },
   {
    "duration": 16,
    "start_time": "2021-11-20T15:55:59.773Z"
   },
   {
    "duration": 16,
    "start_time": "2021-11-20T15:56:06.639Z"
   },
   {
    "duration": 19,
    "start_time": "2021-11-20T15:56:09.503Z"
   },
   {
    "duration": 14,
    "start_time": "2021-11-20T15:58:23.127Z"
   },
   {
    "duration": 654,
    "start_time": "2021-11-20T16:04:51.322Z"
   },
   {
    "duration": 986,
    "start_time": "2021-11-20T16:05:09.000Z"
   },
   {
    "duration": 14,
    "start_time": "2021-11-20T16:09:26.637Z"
   },
   {
    "duration": 17,
    "start_time": "2021-11-20T16:09:41.350Z"
   },
   {
    "duration": 30,
    "start_time": "2021-11-20T16:10:14.317Z"
   },
   {
    "duration": 21,
    "start_time": "2021-11-20T16:11:06.117Z"
   },
   {
    "duration": 27,
    "start_time": "2021-11-20T16:11:41.501Z"
   },
   {
    "duration": 733,
    "start_time": "2021-11-21T08:53:17.833Z"
   },
   {
    "duration": 62,
    "start_time": "2021-11-21T08:53:18.568Z"
   },
   {
    "duration": 49,
    "start_time": "2021-11-21T08:53:18.634Z"
   },
   {
    "duration": 22,
    "start_time": "2021-11-21T08:53:18.687Z"
   },
   {
    "duration": 7,
    "start_time": "2021-11-21T08:53:18.712Z"
   },
   {
    "duration": 22,
    "start_time": "2021-11-21T08:53:18.722Z"
   },
   {
    "duration": 85,
    "start_time": "2021-11-21T08:53:18.747Z"
   },
   {
    "duration": 2507,
    "start_time": "2021-11-21T08:53:18.838Z"
   },
   {
    "duration": 5,
    "start_time": "2021-11-21T08:53:21.350Z"
   },
   {
    "duration": 31,
    "start_time": "2021-11-21T08:53:21.358Z"
   },
   {
    "duration": 1206,
    "start_time": "2021-11-21T08:53:21.391Z"
   },
   {
    "duration": 14,
    "start_time": "2021-11-21T08:53:22.599Z"
   },
   {
    "duration": 19,
    "start_time": "2021-11-21T08:53:22.616Z"
   },
   {
    "duration": 4018,
    "start_time": "2021-11-21T08:53:22.637Z"
   },
   {
    "duration": 7,
    "start_time": "2021-11-21T08:53:26.658Z"
   },
   {
    "duration": 22,
    "start_time": "2021-11-21T08:53:26.683Z"
   },
   {
    "duration": 30,
    "start_time": "2021-11-21T08:53:26.708Z"
   },
   {
    "duration": 57,
    "start_time": "2021-11-21T08:53:26.741Z"
   },
   {
    "duration": 13,
    "start_time": "2021-11-21T08:53:26.801Z"
   },
   {
    "duration": 16,
    "start_time": "2021-11-21T08:53:26.817Z"
   },
   {
    "duration": 51,
    "start_time": "2021-11-21T08:53:26.837Z"
   },
   {
    "duration": 14,
    "start_time": "2021-11-21T08:53:26.891Z"
   },
   {
    "duration": 18,
    "start_time": "2021-11-21T08:53:26.912Z"
   },
   {
    "duration": 52,
    "start_time": "2021-11-21T08:53:26.933Z"
   },
   {
    "duration": 1610,
    "start_time": "2021-11-21T08:53:26.989Z"
   },
   {
    "duration": 21,
    "start_time": "2021-11-21T08:53:28.602Z"
   },
   {
    "duration": 22,
    "start_time": "2021-11-21T08:53:28.625Z"
   },
   {
    "duration": 54,
    "start_time": "2021-11-21T08:53:28.650Z"
   },
   {
    "duration": 10,
    "start_time": "2021-11-21T08:53:28.707Z"
   },
   {
    "duration": 9,
    "start_time": "2021-11-21T08:53:28.720Z"
   },
   {
    "duration": 96,
    "start_time": "2021-11-21T08:53:28.732Z"
   },
   {
    "duration": 51,
    "start_time": "2021-11-21T08:53:28.831Z"
   },
   {
    "duration": 18,
    "start_time": "2021-11-21T08:53:28.885Z"
   },
   {
    "duration": 81,
    "start_time": "2021-11-21T08:53:28.906Z"
   },
   {
    "duration": 55,
    "start_time": "2021-11-21T08:53:28.990Z"
   },
   {
    "duration": 38,
    "start_time": "2021-11-21T08:53:29.048Z"
   },
   {
    "duration": 8916,
    "start_time": "2021-11-21T08:53:34.794Z"
   },
   {
    "duration": 8675,
    "start_time": "2021-11-21T08:54:00.362Z"
   },
   {
    "duration": 8,
    "start_time": "2021-11-21T08:54:25.382Z"
   },
   {
    "duration": 898,
    "start_time": "2021-11-21T08:55:36.697Z"
   },
   {
    "duration": 1022,
    "start_time": "2021-11-21T08:56:03.577Z"
   },
   {
    "duration": 918,
    "start_time": "2021-11-21T08:57:09.445Z"
   },
   {
    "duration": 1369,
    "start_time": "2021-11-21T08:58:09.884Z"
   },
   {
    "duration": 1237,
    "start_time": "2021-11-21T08:58:27.053Z"
   },
   {
    "duration": 1370,
    "start_time": "2021-11-21T08:58:30.374Z"
   },
   {
    "duration": 916,
    "start_time": "2021-11-21T08:59:36.784Z"
   },
   {
    "duration": 916,
    "start_time": "2021-11-21T08:59:49.697Z"
   },
   {
    "duration": 933,
    "start_time": "2021-11-21T08:59:56.525Z"
   },
   {
    "duration": 1343,
    "start_time": "2021-11-21T09:00:44.365Z"
   },
   {
    "duration": 922,
    "start_time": "2021-11-21T09:01:09.024Z"
   },
   {
    "duration": 946,
    "start_time": "2021-11-21T09:01:12.400Z"
   },
   {
    "duration": 119,
    "start_time": "2021-11-21T09:06:01.524Z"
   },
   {
    "duration": 9118,
    "start_time": "2021-11-21T09:06:10.691Z"
   },
   {
    "duration": 7,
    "start_time": "2021-11-21T09:17:17.074Z"
   },
   {
    "duration": 6,
    "start_time": "2021-11-21T09:17:56.518Z"
   },
   {
    "duration": 97,
    "start_time": "2021-11-21T09:18:29.866Z"
   },
   {
    "duration": 8,
    "start_time": "2021-11-21T09:18:39.009Z"
   },
   {
    "duration": 6,
    "start_time": "2021-11-21T09:19:17.579Z"
   },
   {
    "duration": 9,
    "start_time": "2021-11-21T09:19:37.506Z"
   },
   {
    "duration": 6,
    "start_time": "2021-11-21T09:19:47.042Z"
   },
   {
    "duration": 7,
    "start_time": "2021-11-21T09:19:49.913Z"
   },
   {
    "duration": 557,
    "start_time": "2021-11-21T09:19:56.250Z"
   },
   {
    "duration": 7,
    "start_time": "2021-11-21T09:20:20.833Z"
   },
   {
    "duration": 7,
    "start_time": "2021-11-21T09:20:35.009Z"
   },
   {
    "duration": 15534,
    "start_time": "2021-11-21T09:22:27.105Z"
   },
   {
    "duration": 4,
    "start_time": "2021-11-21T09:22:57.477Z"
   },
   {
    "duration": 6268,
    "start_time": "2021-11-21T09:22:58.617Z"
   },
   {
    "duration": 4454,
    "start_time": "2021-11-21T09:23:31.478Z"
   },
   {
    "duration": 3961,
    "start_time": "2021-11-21T09:23:59.958Z"
   },
   {
    "duration": 4080,
    "start_time": "2021-11-21T09:24:26.313Z"
   },
   {
    "duration": 3833,
    "start_time": "2021-11-21T09:24:42.513Z"
   },
   {
    "duration": 4459,
    "start_time": "2021-11-21T09:25:05.841Z"
   },
   {
    "duration": 3882,
    "start_time": "2021-11-21T09:25:12.052Z"
   },
   {
    "duration": 3960,
    "start_time": "2021-11-21T09:25:36.497Z"
   },
   {
    "duration": 6,
    "start_time": "2021-11-21T09:26:20.516Z"
   },
   {
    "duration": 4200,
    "start_time": "2021-11-21T09:26:21.605Z"
   },
   {
    "duration": 5,
    "start_time": "2021-11-21T09:26:48.137Z"
   },
   {
    "duration": 3971,
    "start_time": "2021-11-21T09:26:51.976Z"
   },
   {
    "duration": 5,
    "start_time": "2021-11-21T09:27:20.095Z"
   },
   {
    "duration": 3945,
    "start_time": "2021-11-21T09:27:21.856Z"
   },
   {
    "duration": 5,
    "start_time": "2021-11-21T09:28:34.180Z"
   },
   {
    "duration": 3764,
    "start_time": "2021-11-21T09:28:36.104Z"
   },
   {
    "duration": 5,
    "start_time": "2021-11-21T09:29:43.412Z"
   },
   {
    "duration": 4243,
    "start_time": "2021-11-21T09:29:43.908Z"
   },
   {
    "duration": 4,
    "start_time": "2021-11-21T09:30:21.456Z"
   },
   {
    "duration": 3732,
    "start_time": "2021-11-21T09:30:23.527Z"
   },
   {
    "duration": 4,
    "start_time": "2021-11-21T09:30:50.187Z"
   },
   {
    "duration": 3900,
    "start_time": "2021-11-21T09:30:51.624Z"
   },
   {
    "duration": 5,
    "start_time": "2021-11-21T09:32:07.240Z"
   },
   {
    "duration": 4113,
    "start_time": "2021-11-21T09:32:08.587Z"
   },
   {
    "duration": 5,
    "start_time": "2021-11-21T09:32:17.711Z"
   },
   {
    "duration": 4443,
    "start_time": "2021-11-21T09:32:19.176Z"
   },
   {
    "duration": 5,
    "start_time": "2021-11-21T09:34:18.099Z"
   },
   {
    "duration": 3738,
    "start_time": "2021-11-21T09:34:18.971Z"
   },
   {
    "duration": 5,
    "start_time": "2021-11-21T09:34:31.163Z"
   },
   {
    "duration": 4053,
    "start_time": "2021-11-21T09:34:32.331Z"
   },
   {
    "duration": 110,
    "start_time": "2021-11-21T09:40:23.643Z"
   },
   {
    "duration": 114,
    "start_time": "2021-11-21T09:40:38.814Z"
   },
   {
    "duration": 5,
    "start_time": "2021-11-21T09:40:53.278Z"
   },
   {
    "duration": 2321,
    "start_time": "2021-11-21T09:40:54.918Z"
   },
   {
    "duration": 4,
    "start_time": "2021-11-21T09:41:07.622Z"
   },
   {
    "duration": 4504,
    "start_time": "2021-11-21T09:41:08.098Z"
   },
   {
    "duration": 4079,
    "start_time": "2021-11-21T09:42:54.814Z"
   },
   {
    "duration": 6,
    "start_time": "2021-11-21T09:52:10.661Z"
   },
   {
    "duration": 4635,
    "start_time": "2021-11-21T09:52:22.893Z"
   },
   {
    "duration": 4567,
    "start_time": "2021-11-21T09:52:39.532Z"
   },
   {
    "duration": 9,
    "start_time": "2021-11-21T09:53:29.668Z"
   },
   {
    "duration": 4247,
    "start_time": "2021-11-21T09:53:30.477Z"
   },
   {
    "duration": 23,
    "start_time": "2021-11-21T09:54:49.745Z"
   },
   {
    "duration": 27,
    "start_time": "2021-11-21T09:56:40.232Z"
   },
   {
    "duration": 20,
    "start_time": "2021-11-21T09:57:42.172Z"
   },
   {
    "duration": 34,
    "start_time": "2021-11-21T09:58:20.384Z"
   },
   {
    "duration": 3,
    "start_time": "2021-11-21T09:58:43.880Z"
   },
   {
    "duration": 1224,
    "start_time": "2021-11-21T09:58:51.750Z"
   },
   {
    "duration": 64,
    "start_time": "2021-11-21T09:58:57.314Z"
   },
   {
    "duration": 59,
    "start_time": "2021-11-21T09:59:27.896Z"
   },
   {
    "duration": 42,
    "start_time": "2021-11-21T09:59:40.495Z"
   },
   {
    "duration": 22,
    "start_time": "2021-11-21T09:59:49.078Z"
   },
   {
    "duration": 6,
    "start_time": "2021-11-21T10:00:07.454Z"
   },
   {
    "duration": 14,
    "start_time": "2021-11-21T10:05:14.557Z"
   },
   {
    "duration": 54,
    "start_time": "2021-11-21T10:05:23.377Z"
   },
   {
    "duration": 1194,
    "start_time": "2021-11-21T10:09:12.441Z"
   },
   {
    "duration": 316,
    "start_time": "2021-11-21T10:09:44.668Z"
   },
   {
    "duration": 330,
    "start_time": "2021-11-21T10:10:32.740Z"
   },
   {
    "duration": 496,
    "start_time": "2021-11-21T10:10:54.100Z"
   },
   {
    "duration": 1058,
    "start_time": "2021-11-21T10:11:04.479Z"
   },
   {
    "duration": 1091,
    "start_time": "2021-11-21T10:13:31.523Z"
   },
   {
    "duration": 21,
    "start_time": "2021-11-21T10:16:16.303Z"
   },
   {
    "duration": 13,
    "start_time": "2021-11-21T10:16:57.503Z"
   },
   {
    "duration": 999,
    "start_time": "2021-11-21T10:17:21.032Z"
   },
   {
    "duration": 67,
    "start_time": "2021-11-21T10:17:22.034Z"
   },
   {
    "duration": 31,
    "start_time": "2021-11-21T10:17:22.105Z"
   },
   {
    "duration": 16,
    "start_time": "2021-11-21T10:17:22.140Z"
   },
   {
    "duration": 9,
    "start_time": "2021-11-21T10:17:22.183Z"
   },
   {
    "duration": 17,
    "start_time": "2021-11-21T10:17:22.195Z"
   },
   {
    "duration": 78,
    "start_time": "2021-11-21T10:17:22.217Z"
   },
   {
    "duration": 1919,
    "start_time": "2021-11-21T10:17:22.298Z"
   },
   {
    "duration": 14,
    "start_time": "2021-11-21T10:17:27.429Z"
   },
   {
    "duration": 1141,
    "start_time": "2021-11-21T10:17:44.577Z"
   },
   {
    "duration": 1647,
    "start_time": "2021-11-21T10:17:51.198Z"
   },
   {
    "duration": 13,
    "start_time": "2021-11-21T10:18:20.304Z"
   },
   {
    "duration": 1187,
    "start_time": "2021-11-21T10:18:21.057Z"
   },
   {
    "duration": 324,
    "start_time": "2021-11-21T10:18:59.858Z"
   },
   {
    "duration": 14,
    "start_time": "2021-11-21T10:19:03.693Z"
   },
   {
    "duration": 801,
    "start_time": "2021-11-21T10:19:13.221Z"
   },
   {
    "duration": 104,
    "start_time": "2021-11-21T10:19:43.609Z"
   },
   {
    "duration": 544,
    "start_time": "2021-11-21T10:19:48.386Z"
   },
   {
    "duration": 8,
    "start_time": "2021-11-21T10:19:53.737Z"
   },
   {
    "duration": 39,
    "start_time": "2021-11-21T10:20:09.609Z"
   },
   {
    "duration": 314,
    "start_time": "2021-11-21T10:20:33.537Z"
   },
   {
    "duration": 317,
    "start_time": "2021-11-21T10:20:59.629Z"
   },
   {
    "duration": 741,
    "start_time": "2021-11-21T10:21:18.915Z"
   },
   {
    "duration": 68,
    "start_time": "2021-11-21T10:21:19.659Z"
   },
   {
    "duration": 28,
    "start_time": "2021-11-21T10:21:19.730Z"
   },
   {
    "duration": 38,
    "start_time": "2021-11-21T10:21:19.761Z"
   },
   {
    "duration": 8,
    "start_time": "2021-11-21T10:21:19.801Z"
   },
   {
    "duration": 13,
    "start_time": "2021-11-21T10:21:19.811Z"
   },
   {
    "duration": 61,
    "start_time": "2021-11-21T10:21:19.826Z"
   },
   {
    "duration": 2207,
    "start_time": "2021-11-21T10:21:19.890Z"
   },
   {
    "duration": 20,
    "start_time": "2021-11-21T10:21:22.105Z"
   },
   {
    "duration": 1228,
    "start_time": "2021-11-21T10:21:22.127Z"
   },
   {
    "duration": 33,
    "start_time": "2021-11-21T10:21:23.358Z"
   },
   {
    "duration": 530,
    "start_time": "2021-11-21T10:21:38.705Z"
   },
   {
    "duration": 343,
    "start_time": "2021-11-21T10:21:51.590Z"
   },
   {
    "duration": 331,
    "start_time": "2021-11-21T10:22:02.667Z"
   },
   {
    "duration": 34,
    "start_time": "2021-11-21T10:22:08.527Z"
   },
   {
    "duration": 35,
    "start_time": "2021-11-21T10:22:20.842Z"
   },
   {
    "duration": 10,
    "start_time": "2021-11-21T10:22:29.074Z"
   },
   {
    "duration": 795,
    "start_time": "2021-11-21T10:24:04.698Z"
   },
   {
    "duration": 3216,
    "start_time": "2021-11-21T10:24:09.595Z"
   },
   {
    "duration": 15,
    "start_time": "2021-11-21T10:24:25.490Z"
   },
   {
    "duration": 339,
    "start_time": "2021-11-21T10:24:46.038Z"
   },
   {
    "duration": 21,
    "start_time": "2021-11-21T10:24:52.438Z"
   },
   {
    "duration": 29,
    "start_time": "2021-11-21T10:26:26.698Z"
   },
   {
    "duration": 28,
    "start_time": "2021-11-21T10:26:42.011Z"
   },
   {
    "duration": 10,
    "start_time": "2021-11-21T10:26:49.938Z"
   },
   {
    "duration": 13,
    "start_time": "2021-11-21T10:27:36.641Z"
   },
   {
    "duration": 48,
    "start_time": "2021-11-21T10:29:40.058Z"
   },
   {
    "duration": 17,
    "start_time": "2021-11-21T10:30:00.590Z"
   },
   {
    "duration": 780,
    "start_time": "2021-11-21T10:30:37.879Z"
   },
   {
    "duration": 62,
    "start_time": "2021-11-21T10:30:38.662Z"
   },
   {
    "duration": 29,
    "start_time": "2021-11-21T10:30:38.728Z"
   },
   {
    "duration": 36,
    "start_time": "2021-11-21T10:30:38.761Z"
   },
   {
    "duration": 5,
    "start_time": "2021-11-21T10:30:38.799Z"
   },
   {
    "duration": 12,
    "start_time": "2021-11-21T10:30:38.807Z"
   },
   {
    "duration": 86,
    "start_time": "2021-11-21T10:30:38.822Z"
   },
   {
    "duration": 2578,
    "start_time": "2021-11-21T10:30:38.911Z"
   },
   {
    "duration": 23,
    "start_time": "2021-11-21T10:30:41.495Z"
   },
   {
    "duration": 1226,
    "start_time": "2021-11-21T10:30:41.521Z"
   },
   {
    "duration": 36,
    "start_time": "2021-11-21T10:30:42.749Z"
   },
   {
    "duration": 9,
    "start_time": "2021-11-21T10:30:42.787Z"
   },
   {
    "duration": 2887,
    "start_time": "2021-11-21T10:30:42.798Z"
   },
   {
    "duration": 7,
    "start_time": "2021-11-21T10:30:45.688Z"
   },
   {
    "duration": 21,
    "start_time": "2021-11-21T10:30:45.697Z"
   },
   {
    "duration": 508,
    "start_time": "2021-11-21T10:30:45.721Z"
   },
   {
    "duration": 845,
    "start_time": "2021-11-21T10:30:45.387Z"
   },
   {
    "duration": 845,
    "start_time": "2021-11-21T10:30:45.389Z"
   },
   {
    "duration": 822,
    "start_time": "2021-11-21T10:30:45.414Z"
   },
   {
    "duration": 14,
    "start_time": "2021-11-21T10:31:00.752Z"
   },
   {
    "duration": 28,
    "start_time": "2021-11-21T10:31:04.276Z"
   },
   {
    "duration": 12,
    "start_time": "2021-11-21T10:31:05.307Z"
   },
   {
    "duration": 13,
    "start_time": "2021-11-21T10:31:08.224Z"
   },
   {
    "duration": 19,
    "start_time": "2021-11-21T10:31:12.272Z"
   },
   {
    "duration": 10,
    "start_time": "2021-11-21T10:31:15.653Z"
   },
   {
    "duration": 12,
    "start_time": "2021-11-21T10:32:04.600Z"
   },
   {
    "duration": 14,
    "start_time": "2021-11-21T10:32:07.888Z"
   },
   {
    "duration": 10,
    "start_time": "2021-11-21T10:32:15.112Z"
   },
   {
    "duration": 322,
    "start_time": "2021-11-21T10:33:02.802Z"
   },
   {
    "duration": 1046,
    "start_time": "2021-11-21T10:33:14.055Z"
   },
   {
    "duration": 1072,
    "start_time": "2021-11-21T10:34:15.123Z"
   },
   {
    "duration": 13,
    "start_time": "2021-11-21T10:45:28.001Z"
   },
   {
    "duration": 22,
    "start_time": "2021-11-21T10:45:34.034Z"
   },
   {
    "duration": 7,
    "start_time": "2021-11-21T10:45:42.462Z"
   },
   {
    "duration": 385,
    "start_time": "2021-11-21T11:12:09.738Z"
   },
   {
    "duration": 10,
    "start_time": "2021-11-21T11:12:17.879Z"
   },
   {
    "duration": 17,
    "start_time": "2021-11-21T11:12:48.972Z"
   },
   {
    "duration": 18,
    "start_time": "2021-11-21T11:12:53.292Z"
   },
   {
    "duration": 59,
    "start_time": "2021-11-21T11:13:21.799Z"
   },
   {
    "duration": 19,
    "start_time": "2021-11-21T11:13:22.870Z"
   },
   {
    "duration": 17,
    "start_time": "2021-11-21T11:13:44.159Z"
   },
   {
    "duration": 318,
    "start_time": "2021-11-21T11:15:16.782Z"
   },
   {
    "duration": 120,
    "start_time": "2021-11-21T11:15:27.202Z"
   },
   {
    "duration": 56,
    "start_time": "2021-11-21T11:15:51.021Z"
   },
   {
    "duration": 53,
    "start_time": "2021-11-21T11:16:04.525Z"
   },
   {
    "duration": 19,
    "start_time": "2021-11-21T11:24:38.762Z"
   },
   {
    "duration": 36,
    "start_time": "2021-11-21T11:24:44.452Z"
   },
   {
    "duration": 774,
    "start_time": "2021-11-21T11:25:00.686Z"
   },
   {
    "duration": 89,
    "start_time": "2021-11-21T11:25:01.462Z"
   },
   {
    "duration": 46,
    "start_time": "2021-11-21T11:25:01.555Z"
   },
   {
    "duration": 16,
    "start_time": "2021-11-21T11:25:01.603Z"
   },
   {
    "duration": 6,
    "start_time": "2021-11-21T11:25:01.622Z"
   },
   {
    "duration": 66,
    "start_time": "2021-11-21T11:25:01.631Z"
   },
   {
    "duration": 52,
    "start_time": "2021-11-21T11:25:01.700Z"
   },
   {
    "duration": 1980,
    "start_time": "2021-11-21T11:25:01.782Z"
   },
   {
    "duration": 34,
    "start_time": "2021-11-21T11:25:03.766Z"
   },
   {
    "duration": 1736,
    "start_time": "2021-11-21T11:25:03.803Z"
   },
   {
    "duration": 44,
    "start_time": "2021-11-21T11:25:05.541Z"
   },
   {
    "duration": 12,
    "start_time": "2021-11-21T11:25:05.589Z"
   },
   {
    "duration": 4100,
    "start_time": "2021-11-21T11:25:05.604Z"
   },
   {
    "duration": 9,
    "start_time": "2021-11-21T11:25:09.708Z"
   },
   {
    "duration": 64,
    "start_time": "2021-11-21T11:25:09.720Z"
   },
   {
    "duration": 14,
    "start_time": "2021-11-21T11:25:09.787Z"
   },
   {
    "duration": 28,
    "start_time": "2021-11-21T11:25:09.804Z"
   },
   {
    "duration": 53,
    "start_time": "2021-11-21T11:25:09.835Z"
   },
   {
    "duration": 17,
    "start_time": "2021-11-21T11:25:09.891Z"
   },
   {
    "duration": 18,
    "start_time": "2021-11-21T11:25:09.911Z"
   },
   {
    "duration": 15,
    "start_time": "2021-11-21T11:25:09.983Z"
   },
   {
    "duration": 19,
    "start_time": "2021-11-21T11:25:10.001Z"
   },
   {
    "duration": 57,
    "start_time": "2021-11-21T11:25:10.027Z"
   },
   {
    "duration": 16,
    "start_time": "2021-11-21T11:25:10.088Z"
   },
   {
    "duration": 1644,
    "start_time": "2021-11-21T11:25:10.108Z"
   },
   {
    "duration": 501,
    "start_time": "2021-11-21T11:25:11.755Z"
   },
   {
    "duration": -66,
    "start_time": "2021-11-21T11:25:12.325Z"
   },
   {
    "duration": -67,
    "start_time": "2021-11-21T11:25:12.327Z"
   },
   {
    "duration": -69,
    "start_time": "2021-11-21T11:25:12.330Z"
   },
   {
    "duration": -69,
    "start_time": "2021-11-21T11:25:12.332Z"
   },
   {
    "duration": -69,
    "start_time": "2021-11-21T11:25:12.333Z"
   },
   {
    "duration": -70,
    "start_time": "2021-11-21T11:25:12.335Z"
   },
   {
    "duration": -71,
    "start_time": "2021-11-21T11:25:12.338Z"
   },
   {
    "duration": -72,
    "start_time": "2021-11-21T11:25:12.340Z"
   },
   {
    "duration": 15,
    "start_time": "2021-11-21T11:25:23.657Z"
   },
   {
    "duration": 17,
    "start_time": "2021-11-21T11:25:31.816Z"
   },
   {
    "duration": 23,
    "start_time": "2021-11-21T11:25:32.130Z"
   },
   {
    "duration": 8,
    "start_time": "2021-11-21T11:25:34.520Z"
   },
   {
    "duration": 9,
    "start_time": "2021-11-21T11:25:35.146Z"
   },
   {
    "duration": 16,
    "start_time": "2021-11-21T11:25:35.829Z"
   },
   {
    "duration": 65,
    "start_time": "2021-11-21T11:25:38.456Z"
   },
   {
    "duration": 16,
    "start_time": "2021-11-21T11:25:38.769Z"
   },
   {
    "duration": 25,
    "start_time": "2021-11-21T11:25:40.934Z"
   },
   {
    "duration": 83,
    "start_time": "2021-11-21T11:25:45.958Z"
   },
   {
    "duration": 53,
    "start_time": "2021-11-21T11:26:05.817Z"
   },
   {
    "duration": 512,
    "start_time": "2021-11-21T11:26:18.549Z"
   },
   {
    "duration": 17,
    "start_time": "2021-11-21T11:26:24.701Z"
   },
   {
    "duration": 448,
    "start_time": "2021-11-21T11:33:16.613Z"
   },
   {
    "duration": 1083,
    "start_time": "2021-11-21T11:33:23.410Z"
   },
   {
    "duration": 6,
    "start_time": "2021-11-21T11:34:28.725Z"
   },
   {
    "duration": 6,
    "start_time": "2021-11-21T11:42:07.540Z"
   },
   {
    "duration": 809,
    "start_time": "2021-11-21T11:42:10.175Z"
   },
   {
    "duration": 4320,
    "start_time": "2021-11-21T11:46:01.655Z"
   },
   {
    "duration": 7,
    "start_time": "2021-11-21T11:46:11.715Z"
   },
   {
    "duration": 3909,
    "start_time": "2021-11-21T11:46:16.279Z"
   },
   {
    "duration": 3923,
    "start_time": "2021-11-21T11:46:30.632Z"
   },
   {
    "duration": 4370,
    "start_time": "2021-11-21T11:47:33.423Z"
   },
   {
    "duration": 1033,
    "start_time": "2021-11-21T11:48:08.986Z"
   },
   {
    "duration": 97,
    "start_time": "2021-11-21T11:48:10.022Z"
   },
   {
    "duration": 43,
    "start_time": "2021-11-21T11:48:10.123Z"
   },
   {
    "duration": 23,
    "start_time": "2021-11-21T11:48:10.182Z"
   },
   {
    "duration": 6,
    "start_time": "2021-11-21T11:48:10.208Z"
   },
   {
    "duration": 16,
    "start_time": "2021-11-21T11:48:10.217Z"
   },
   {
    "duration": 55,
    "start_time": "2021-11-21T11:48:10.284Z"
   },
   {
    "duration": 2612,
    "start_time": "2021-11-21T11:48:10.345Z"
   },
   {
    "duration": 39,
    "start_time": "2021-11-21T11:48:12.961Z"
   },
   {
    "duration": 1689,
    "start_time": "2021-11-21T11:48:13.004Z"
   },
   {
    "duration": 23,
    "start_time": "2021-11-21T11:48:14.696Z"
   },
   {
    "duration": 18,
    "start_time": "2021-11-21T11:48:14.722Z"
   },
   {
    "duration": 2992,
    "start_time": "2021-11-21T11:48:14.783Z"
   },
   {
    "duration": 9,
    "start_time": "2021-11-21T11:48:17.778Z"
   },
   {
    "duration": 31,
    "start_time": "2021-11-21T11:48:17.789Z"
   },
   {
    "duration": 61,
    "start_time": "2021-11-21T11:48:17.823Z"
   },
   {
    "duration": 41,
    "start_time": "2021-11-21T11:48:17.887Z"
   },
   {
    "duration": 13,
    "start_time": "2021-11-21T11:48:17.931Z"
   },
   {
    "duration": 42,
    "start_time": "2021-11-21T11:48:17.947Z"
   },
   {
    "duration": 18,
    "start_time": "2021-11-21T11:48:17.992Z"
   },
   {
    "duration": 13,
    "start_time": "2021-11-21T11:48:18.013Z"
   },
   {
    "duration": 65,
    "start_time": "2021-11-21T11:48:18.029Z"
   },
   {
    "duration": 17,
    "start_time": "2021-11-21T11:48:18.101Z"
   },
   {
    "duration": 61,
    "start_time": "2021-11-21T11:48:18.121Z"
   },
   {
    "duration": 1556,
    "start_time": "2021-11-21T11:48:18.185Z"
   },
   {
    "duration": 15,
    "start_time": "2021-11-21T11:48:19.744Z"
   },
   {
    "duration": 36,
    "start_time": "2021-11-21T11:48:19.762Z"
   },
   {
    "duration": 22,
    "start_time": "2021-11-21T11:48:19.800Z"
   },
   {
    "duration": 9,
    "start_time": "2021-11-21T11:48:19.825Z"
   },
   {
    "duration": 11,
    "start_time": "2021-11-21T11:48:19.883Z"
   },
   {
    "duration": 18,
    "start_time": "2021-11-21T11:48:19.896Z"
   },
   {
    "duration": 104,
    "start_time": "2021-11-21T11:48:19.917Z"
   },
   {
    "duration": 22,
    "start_time": "2021-11-21T11:48:20.024Z"
   },
   {
    "duration": 49,
    "start_time": "2021-11-21T11:48:20.048Z"
   },
   {
    "duration": 94,
    "start_time": "2021-11-21T11:48:20.100Z"
   },
   {
    "duration": 89,
    "start_time": "2021-11-21T11:48:20.197Z"
   },
   {
    "duration": 18,
    "start_time": "2021-11-21T11:48:20.289Z"
   },
   {
    "duration": 1047,
    "start_time": "2021-11-21T11:48:20.310Z"
   },
   {
    "duration": 6,
    "start_time": "2021-11-21T11:48:21.361Z"
   },
   {
    "duration": 4614,
    "start_time": "2021-11-21T11:48:21.370Z"
   },
   {
    "duration": 9,
    "start_time": "2021-11-21T11:48:25.988Z"
   },
   {
    "duration": 4277,
    "start_time": "2021-11-21T11:48:44.117Z"
   },
   {
    "duration": 30,
    "start_time": "2021-11-21T11:51:36.877Z"
   },
   {
    "duration": 34,
    "start_time": "2021-11-21T11:51:44.958Z"
   },
   {
    "duration": 30,
    "start_time": "2021-11-21T11:51:49.281Z"
   },
   {
    "duration": 7170,
    "start_time": "2021-11-21T11:52:06.410Z"
   },
   {
    "duration": 6133,
    "start_time": "2021-11-21T11:52:21.550Z"
   },
   {
    "duration": 749,
    "start_time": "2021-11-21T11:52:37.677Z"
   },
   {
    "duration": 104,
    "start_time": "2021-11-21T11:53:10.197Z"
   },
   {
    "duration": 32,
    "start_time": "2021-11-21T11:53:15.085Z"
   },
   {
    "duration": 32,
    "start_time": "2021-11-21T11:53:27.517Z"
   },
   {
    "duration": 8948,
    "start_time": "2021-11-21T12:03:55.048Z"
   },
   {
    "duration": 5,
    "start_time": "2021-11-21T12:04:16.744Z"
   },
   {
    "duration": 327,
    "start_time": "2021-11-21T12:06:02.919Z"
   },
   {
    "duration": 17,
    "start_time": "2021-11-21T12:06:30.119Z"
   },
   {
    "duration": 19,
    "start_time": "2021-11-21T12:06:54.032Z"
   },
   {
    "duration": 11,
    "start_time": "2021-11-21T12:07:31.643Z"
   },
   {
    "duration": 23,
    "start_time": "2021-11-21T12:08:00.283Z"
   },
   {
    "duration": 368,
    "start_time": "2021-11-21T12:08:48.511Z"
   },
   {
    "duration": 24,
    "start_time": "2021-11-21T12:09:09.091Z"
   },
   {
    "duration": 759,
    "start_time": "2021-11-21T12:10:16.213Z"
   },
   {
    "duration": 76,
    "start_time": "2021-11-21T12:10:16.974Z"
   },
   {
    "duration": 39,
    "start_time": "2021-11-21T12:10:17.053Z"
   },
   {
    "duration": 14,
    "start_time": "2021-11-21T12:10:17.095Z"
   },
   {
    "duration": 5,
    "start_time": "2021-11-21T12:10:17.112Z"
   },
   {
    "duration": 15,
    "start_time": "2021-11-21T12:10:17.120Z"
   },
   {
    "duration": 84,
    "start_time": "2021-11-21T12:10:17.137Z"
   },
   {
    "duration": 1859,
    "start_time": "2021-11-21T12:10:17.224Z"
   },
   {
    "duration": 19,
    "start_time": "2021-11-21T12:10:19.087Z"
   },
   {
    "duration": 1188,
    "start_time": "2021-11-21T12:10:19.110Z"
   },
   {
    "duration": 21,
    "start_time": "2021-11-21T12:10:20.301Z"
   },
   {
    "duration": 10,
    "start_time": "2021-11-21T12:10:20.326Z"
   },
   {
    "duration": 4175,
    "start_time": "2021-11-21T12:10:20.340Z"
   },
   {
    "duration": 9,
    "start_time": "2021-11-21T12:10:24.518Z"
   },
   {
    "duration": 64,
    "start_time": "2021-11-21T12:10:24.530Z"
   },
   {
    "duration": 25,
    "start_time": "2021-11-21T12:10:24.598Z"
   },
   {
    "duration": 65,
    "start_time": "2021-11-21T12:10:24.626Z"
   },
   {
    "duration": 13,
    "start_time": "2021-11-21T12:10:24.694Z"
   },
   {
    "duration": 16,
    "start_time": "2021-11-21T12:10:24.710Z"
   },
   {
    "duration": 58,
    "start_time": "2021-11-21T12:10:24.729Z"
   },
   {
    "duration": 11,
    "start_time": "2021-11-21T12:10:24.789Z"
   },
   {
    "duration": 12,
    "start_time": "2021-11-21T12:10:24.803Z"
   },
   {
    "duration": 14,
    "start_time": "2021-11-21T12:10:24.817Z"
   },
   {
    "duration": 56,
    "start_time": "2021-11-21T12:10:24.833Z"
   },
   {
    "duration": 1107,
    "start_time": "2021-11-21T12:10:24.891Z"
   },
   {
    "duration": 16,
    "start_time": "2021-11-21T12:10:26.000Z"
   },
   {
    "duration": 14,
    "start_time": "2021-11-21T12:10:26.021Z"
   },
   {
    "duration": 55,
    "start_time": "2021-11-21T12:10:26.038Z"
   },
   {
    "duration": 9,
    "start_time": "2021-11-21T12:10:26.097Z"
   },
   {
    "duration": 10,
    "start_time": "2021-11-21T12:10:26.109Z"
   },
   {
    "duration": 71,
    "start_time": "2021-11-21T12:10:26.122Z"
   },
   {
    "duration": 85,
    "start_time": "2021-11-21T12:10:26.197Z"
   },
   {
    "duration": 17,
    "start_time": "2021-11-21T12:10:26.284Z"
   },
   {
    "duration": 16,
    "start_time": "2021-11-21T12:10:26.303Z"
   },
   {
    "duration": 104,
    "start_time": "2021-11-21T12:10:26.322Z"
   },
   {
    "duration": 71,
    "start_time": "2021-11-21T12:10:26.429Z"
   },
   {
    "duration": 20,
    "start_time": "2021-11-21T12:10:26.505Z"
   },
   {
    "duration": 1392,
    "start_time": "2021-11-21T12:10:26.528Z"
   },
   {
    "duration": 6,
    "start_time": "2021-11-21T12:10:27.923Z"
   },
   {
    "duration": 4206,
    "start_time": "2021-11-21T12:10:27.932Z"
   },
   {
    "duration": 6,
    "start_time": "2021-11-21T12:10:32.141Z"
   },
   {
    "duration": 3936,
    "start_time": "2021-11-21T12:10:32.150Z"
   },
   {
    "duration": 29,
    "start_time": "2021-11-21T12:11:43.748Z"
   },
   {
    "duration": 21,
    "start_time": "2021-11-21T12:12:17.188Z"
   },
   {
    "duration": 31,
    "start_time": "2021-11-21T12:14:07.196Z"
   },
   {
    "duration": 21,
    "start_time": "2021-11-21T12:15:25.147Z"
   },
   {
    "duration": 575,
    "start_time": "2021-11-21T16:27:02.280Z"
   },
   {
    "duration": 48,
    "start_time": "2021-11-21T16:27:02.856Z"
   },
   {
    "duration": 19,
    "start_time": "2021-11-21T16:27:02.906Z"
   },
   {
    "duration": 10,
    "start_time": "2021-11-21T16:27:02.927Z"
   },
   {
    "duration": 4,
    "start_time": "2021-11-21T16:27:02.939Z"
   },
   {
    "duration": 13,
    "start_time": "2021-11-21T16:27:02.944Z"
   },
   {
    "duration": 40,
    "start_time": "2021-11-21T16:27:02.959Z"
   },
   {
    "duration": 1200,
    "start_time": "2021-11-21T16:27:03.001Z"
   },
   {
    "duration": 9,
    "start_time": "2021-11-21T16:27:04.203Z"
   },
   {
    "duration": 717,
    "start_time": "2021-11-21T16:27:04.214Z"
   },
   {
    "duration": 13,
    "start_time": "2021-11-21T16:27:04.933Z"
   },
   {
    "duration": 7,
    "start_time": "2021-11-21T16:27:04.948Z"
   },
   {
    "duration": 1639,
    "start_time": "2021-11-21T16:27:04.957Z"
   },
   {
    "duration": 4,
    "start_time": "2021-11-21T16:27:06.598Z"
   },
   {
    "duration": 15,
    "start_time": "2021-11-21T16:27:06.604Z"
   },
   {
    "duration": 9,
    "start_time": "2021-11-21T16:27:06.620Z"
   },
   {
    "duration": 17,
    "start_time": "2021-11-21T16:27:06.631Z"
   },
   {
    "duration": 6,
    "start_time": "2021-11-21T16:27:06.650Z"
   },
   {
    "duration": 37,
    "start_time": "2021-11-21T16:27:06.658Z"
   },
   {
    "duration": 12,
    "start_time": "2021-11-21T16:27:06.696Z"
   },
   {
    "duration": 6,
    "start_time": "2021-11-21T16:27:06.709Z"
   },
   {
    "duration": 8,
    "start_time": "2021-11-21T16:27:06.716Z"
   },
   {
    "duration": 7,
    "start_time": "2021-11-21T16:27:06.727Z"
   },
   {
    "duration": 9,
    "start_time": "2021-11-21T16:27:06.736Z"
   },
   {
    "duration": 708,
    "start_time": "2021-11-21T16:27:06.747Z"
   },
   {
    "duration": 10,
    "start_time": "2021-11-21T16:27:07.456Z"
   },
   {
    "duration": 11,
    "start_time": "2021-11-21T16:27:07.467Z"
   },
   {
    "duration": 13,
    "start_time": "2021-11-21T16:27:07.491Z"
   },
   {
    "duration": 4,
    "start_time": "2021-11-21T16:27:07.505Z"
   },
   {
    "duration": 5,
    "start_time": "2021-11-21T16:27:07.511Z"
   },
   {
    "duration": 9,
    "start_time": "2021-11-21T16:27:07.517Z"
   },
   {
    "duration": 35,
    "start_time": "2021-11-21T16:27:07.528Z"
   },
   {
    "duration": 35,
    "start_time": "2021-11-21T16:27:07.565Z"
   },
   {
    "duration": 23,
    "start_time": "2021-11-21T16:27:07.601Z"
   },
   {
    "duration": 33,
    "start_time": "2021-11-21T16:27:07.626Z"
   },
   {
    "duration": 42,
    "start_time": "2021-11-21T16:27:07.660Z"
   },
   {
    "duration": 9,
    "start_time": "2021-11-21T16:27:07.704Z"
   },
   {
    "duration": 636,
    "start_time": "2021-11-21T16:27:07.715Z"
   },
   {
    "duration": 3,
    "start_time": "2021-11-21T16:27:08.353Z"
   },
   {
    "duration": 2857,
    "start_time": "2021-11-21T16:27:08.358Z"
   },
   {
    "duration": 4,
    "start_time": "2021-11-21T16:27:11.216Z"
   },
   {
    "duration": 21,
    "start_time": "2021-11-21T16:42:02.402Z"
   },
   {
    "duration": 21,
    "start_time": "2021-11-21T16:42:11.877Z"
   },
   {
    "duration": 901,
    "start_time": "2021-11-21T17:53:19.781Z"
   },
   {
    "duration": 70,
    "start_time": "2021-11-21T17:53:25.002Z"
   },
   {
    "duration": 65,
    "start_time": "2021-11-21T17:54:10.766Z"
   },
   {
    "duration": 65,
    "start_time": "2021-11-21T17:54:19.432Z"
   },
   {
    "duration": 63,
    "start_time": "2021-11-21T17:54:25.790Z"
   },
   {
    "duration": 69,
    "start_time": "2021-11-21T17:54:38.022Z"
   },
   {
    "duration": 62,
    "start_time": "2021-11-21T17:55:06.081Z"
   },
   {
    "duration": 63,
    "start_time": "2021-11-21T17:55:11.366Z"
   },
   {
    "duration": 63,
    "start_time": "2021-11-21T17:55:31.618Z"
   },
   {
    "duration": 11,
    "start_time": "2021-11-21T17:55:48.665Z"
   },
   {
    "duration": 3,
    "start_time": "2021-11-21T17:55:50.314Z"
   },
   {
    "duration": 57,
    "start_time": "2021-11-21T17:55:55.293Z"
   },
   {
    "duration": 176,
    "start_time": "2021-11-21T17:56:33.782Z"
   },
   {
    "duration": 4,
    "start_time": "2021-11-21T17:56:42.349Z"
   },
   {
    "duration": 4,
    "start_time": "2021-11-21T17:56:46.941Z"
   },
   {
    "duration": 4,
    "start_time": "2021-11-21T17:56:55.846Z"
   },
   {
    "duration": 4,
    "start_time": "2021-11-21T17:57:01.626Z"
   },
   {
    "duration": 4,
    "start_time": "2021-11-21T17:57:10.557Z"
   },
   {
    "duration": 3,
    "start_time": "2021-11-21T17:57:19.870Z"
   },
   {
    "duration": 4,
    "start_time": "2021-11-21T17:57:22.345Z"
   },
   {
    "duration": 4,
    "start_time": "2021-11-21T17:57:33.581Z"
   },
   {
    "duration": 182,
    "start_time": "2021-11-21T18:21:48.523Z"
   },
   {
    "duration": 574,
    "start_time": "2021-11-21T18:22:03.131Z"
   },
   {
    "duration": 11,
    "start_time": "2021-11-21T18:22:03.707Z"
   },
   {
    "duration": 4,
    "start_time": "2021-11-21T18:22:03.720Z"
   },
   {
    "duration": 10,
    "start_time": "2021-11-21T18:22:03.725Z"
   },
   {
    "duration": 22,
    "start_time": "2021-11-21T18:22:03.736Z"
   },
   {
    "duration": 1216,
    "start_time": "2021-11-21T18:22:03.760Z"
   },
   {
    "duration": 17,
    "start_time": "2021-11-21T18:22:04.977Z"
   },
   {
    "duration": 741,
    "start_time": "2021-11-21T18:22:04.996Z"
   },
   {
    "duration": 10,
    "start_time": "2021-11-21T18:22:05.740Z"
   },
   {
    "duration": 11,
    "start_time": "2021-11-21T18:22:05.752Z"
   },
   {
    "duration": 1620,
    "start_time": "2021-11-21T18:22:05.765Z"
   },
   {
    "duration": 7,
    "start_time": "2021-11-21T18:22:07.387Z"
   },
   {
    "duration": 15,
    "start_time": "2021-11-21T18:22:07.396Z"
   },
   {
    "duration": 9,
    "start_time": "2021-11-21T18:22:07.412Z"
   },
   {
    "duration": 18,
    "start_time": "2021-11-21T18:22:07.422Z"
   },
   {
    "duration": 7,
    "start_time": "2021-11-21T18:22:07.441Z"
   },
   {
    "duration": 45,
    "start_time": "2021-11-21T18:22:07.449Z"
   },
   {
    "duration": 15,
    "start_time": "2021-11-21T18:22:07.495Z"
   },
   {
    "duration": 6,
    "start_time": "2021-11-21T18:22:07.511Z"
   },
   {
    "duration": 8,
    "start_time": "2021-11-21T18:22:07.518Z"
   },
   {
    "duration": 11,
    "start_time": "2021-11-21T18:22:07.527Z"
   },
   {
    "duration": 7,
    "start_time": "2021-11-21T18:22:07.540Z"
   },
   {
    "duration": 709,
    "start_time": "2021-11-21T18:22:07.548Z"
   },
   {
    "duration": 11,
    "start_time": "2021-11-21T18:22:08.259Z"
   },
   {
    "duration": 22,
    "start_time": "2021-11-21T18:22:08.272Z"
   },
   {
    "duration": 15,
    "start_time": "2021-11-21T18:22:08.296Z"
   },
   {
    "duration": 5,
    "start_time": "2021-11-21T18:22:08.315Z"
   },
   {
    "duration": 7,
    "start_time": "2021-11-21T18:22:08.322Z"
   },
   {
    "duration": 11,
    "start_time": "2021-11-21T18:22:08.331Z"
   },
   {
    "duration": 74,
    "start_time": "2021-11-21T18:22:08.343Z"
   },
   {
    "duration": 9,
    "start_time": "2021-11-21T18:22:08.419Z"
   },
   {
    "duration": 11,
    "start_time": "2021-11-21T18:22:08.430Z"
   },
   {
    "duration": 54,
    "start_time": "2021-11-21T18:22:08.443Z"
   },
   {
    "duration": 31,
    "start_time": "2021-11-21T18:22:08.499Z"
   },
   {
    "duration": 10,
    "start_time": "2021-11-21T18:22:08.532Z"
   },
   {
    "duration": 648,
    "start_time": "2021-11-21T18:22:08.543Z"
   },
   {
    "duration": 3,
    "start_time": "2021-11-21T18:22:09.193Z"
   },
   {
    "duration": 2624,
    "start_time": "2021-11-21T18:22:09.197Z"
   },
   {
    "duration": 4,
    "start_time": "2021-11-21T18:22:11.822Z"
   },
   {
    "duration": 2617,
    "start_time": "2021-11-21T18:22:11.828Z"
   },
   {
    "duration": 17,
    "start_time": "2021-11-21T18:22:16.543Z"
   },
   {
    "duration": 258,
    "start_time": "2021-11-21T18:22:18.922Z"
   },
   {
    "duration": 176,
    "start_time": "2021-11-21T18:22:55.579Z"
   },
   {
    "duration": 179,
    "start_time": "2021-11-21T18:23:04.374Z"
   },
   {
    "duration": 176,
    "start_time": "2021-11-21T18:23:16.874Z"
   },
   {
    "duration": 1202,
    "start_time": "2021-11-21T18:23:25.858Z"
   },
   {
    "duration": 174,
    "start_time": "2021-11-21T18:23:33.666Z"
   },
   {
    "duration": 170,
    "start_time": "2021-11-21T18:23:43.286Z"
   },
   {
    "duration": 180,
    "start_time": "2021-11-21T18:24:01.863Z"
   },
   {
    "duration": 23,
    "start_time": "2021-11-21T18:24:26.546Z"
   },
   {
    "duration": 199,
    "start_time": "2021-11-21T18:25:33.946Z"
   },
   {
    "duration": 14,
    "start_time": "2021-11-21T18:25:40.102Z"
   },
   {
    "duration": 610,
    "start_time": "2021-11-21T18:28:12.791Z"
   },
   {
    "duration": 9,
    "start_time": "2021-11-21T18:28:13.403Z"
   },
   {
    "duration": 4,
    "start_time": "2021-11-21T18:28:13.414Z"
   },
   {
    "duration": 7,
    "start_time": "2021-11-21T18:28:13.419Z"
   },
   {
    "duration": 21,
    "start_time": "2021-11-21T18:28:13.427Z"
   },
   {
    "duration": 1237,
    "start_time": "2021-11-21T18:28:13.450Z"
   },
   {
    "duration": 10,
    "start_time": "2021-11-21T18:28:14.688Z"
   },
   {
    "duration": 754,
    "start_time": "2021-11-21T18:28:14.701Z"
   },
   {
    "duration": 12,
    "start_time": "2021-11-21T18:28:15.458Z"
   },
   {
    "duration": 24,
    "start_time": "2021-11-21T18:28:15.472Z"
   },
   {
    "duration": 1614,
    "start_time": "2021-11-21T18:28:15.498Z"
   },
   {
    "duration": 6,
    "start_time": "2021-11-21T18:28:17.114Z"
   },
   {
    "duration": 14,
    "start_time": "2021-11-21T18:28:17.122Z"
   },
   {
    "duration": 7,
    "start_time": "2021-11-21T18:28:17.138Z"
   },
   {
    "duration": 45,
    "start_time": "2021-11-21T18:28:17.147Z"
   },
   {
    "duration": 7,
    "start_time": "2021-11-21T18:28:17.194Z"
   },
   {
    "duration": 11,
    "start_time": "2021-11-21T18:28:17.203Z"
   },
   {
    "duration": 12,
    "start_time": "2021-11-21T18:28:17.216Z"
   },
   {
    "duration": 7,
    "start_time": "2021-11-21T18:28:17.229Z"
   },
   {
    "duration": 8,
    "start_time": "2021-11-21T18:28:17.238Z"
   },
   {
    "duration": 10,
    "start_time": "2021-11-21T18:28:17.247Z"
   },
   {
    "duration": 35,
    "start_time": "2021-11-21T18:28:17.258Z"
   },
   {
    "duration": 693,
    "start_time": "2021-11-21T18:28:17.296Z"
   },
   {
    "duration": 10,
    "start_time": "2021-11-21T18:28:17.992Z"
   },
   {
    "duration": 14,
    "start_time": "2021-11-21T18:28:18.004Z"
   },
   {
    "duration": 14,
    "start_time": "2021-11-21T18:28:18.019Z"
   },
   {
    "duration": 5,
    "start_time": "2021-11-21T18:28:18.034Z"
   },
   {
    "duration": 9,
    "start_time": "2021-11-21T18:28:18.040Z"
   },
   {
    "duration": 12,
    "start_time": "2021-11-21T18:28:18.051Z"
   },
   {
    "duration": 62,
    "start_time": "2021-11-21T18:28:18.065Z"
   },
   {
    "duration": 10,
    "start_time": "2021-11-21T18:28:18.129Z"
   },
   {
    "duration": 13,
    "start_time": "2021-11-21T18:28:18.140Z"
   },
   {
    "duration": 55,
    "start_time": "2021-11-21T18:28:18.155Z"
   },
   {
    "duration": 33,
    "start_time": "2021-11-21T18:28:18.212Z"
   },
   {
    "duration": 10,
    "start_time": "2021-11-21T18:28:18.246Z"
   },
   {
    "duration": 656,
    "start_time": "2021-11-21T18:28:18.258Z"
   },
   {
    "duration": 4,
    "start_time": "2021-11-21T18:28:25.359Z"
   },
   {
    "duration": 2765,
    "start_time": "2021-11-21T18:28:26.663Z"
   },
   {
    "duration": 622,
    "start_time": "2021-11-21T18:37:48.399Z"
   },
   {
    "duration": 10,
    "start_time": "2021-11-21T18:37:49.023Z"
   },
   {
    "duration": 3,
    "start_time": "2021-11-21T18:37:49.036Z"
   },
   {
    "duration": 8,
    "start_time": "2021-11-21T18:37:49.040Z"
   },
   {
    "duration": 41,
    "start_time": "2021-11-21T18:37:49.050Z"
   },
   {
    "duration": 1225,
    "start_time": "2021-11-21T18:37:49.093Z"
   },
   {
    "duration": 10,
    "start_time": "2021-11-21T18:37:50.320Z"
   },
   {
    "duration": 791,
    "start_time": "2021-11-21T18:37:50.332Z"
   },
   {
    "duration": 11,
    "start_time": "2021-11-21T18:37:51.125Z"
   },
   {
    "duration": 6,
    "start_time": "2021-11-21T18:37:51.138Z"
   },
   {
    "duration": 1636,
    "start_time": "2021-11-21T18:37:51.145Z"
   },
   {
    "duration": 11,
    "start_time": "2021-11-21T18:37:52.783Z"
   },
   {
    "duration": 18,
    "start_time": "2021-11-21T18:37:52.796Z"
   },
   {
    "duration": 11,
    "start_time": "2021-11-21T18:37:52.816Z"
   },
   {
    "duration": 20,
    "start_time": "2021-11-21T18:37:52.829Z"
   },
   {
    "duration": 7,
    "start_time": "2021-11-21T18:37:52.852Z"
   },
   {
    "duration": 39,
    "start_time": "2021-11-21T18:37:52.860Z"
   },
   {
    "duration": 19,
    "start_time": "2021-11-21T18:37:52.901Z"
   },
   {
    "duration": 7,
    "start_time": "2021-11-21T18:37:52.922Z"
   },
   {
    "duration": 12,
    "start_time": "2021-11-21T18:37:52.930Z"
   },
   {
    "duration": 10,
    "start_time": "2021-11-21T18:37:52.944Z"
   },
   {
    "duration": 10,
    "start_time": "2021-11-21T18:37:52.956Z"
   },
   {
    "duration": 696,
    "start_time": "2021-11-21T18:37:52.967Z"
   },
   {
    "duration": 10,
    "start_time": "2021-11-21T18:37:53.665Z"
   },
   {
    "duration": 20,
    "start_time": "2021-11-21T18:37:53.677Z"
   },
   {
    "duration": 14,
    "start_time": "2021-11-21T18:37:53.699Z"
   },
   {
    "duration": 6,
    "start_time": "2021-11-21T18:37:53.716Z"
   },
   {
    "duration": 7,
    "start_time": "2021-11-21T18:37:53.724Z"
   },
   {
    "duration": 11,
    "start_time": "2021-11-21T18:37:53.733Z"
   },
   {
    "duration": 66,
    "start_time": "2021-11-21T18:37:53.746Z"
   },
   {
    "duration": 10,
    "start_time": "2021-11-21T18:37:53.814Z"
   },
   {
    "duration": 11,
    "start_time": "2021-11-21T18:37:53.826Z"
   },
   {
    "duration": 53,
    "start_time": "2021-11-21T18:37:53.839Z"
   },
   {
    "duration": 34,
    "start_time": "2021-11-21T18:37:53.894Z"
   },
   {
    "duration": 11,
    "start_time": "2021-11-21T18:37:53.930Z"
   },
   {
    "duration": 686,
    "start_time": "2021-11-21T18:37:53.942Z"
   },
   {
    "duration": 4,
    "start_time": "2021-11-21T18:38:00.067Z"
   },
   {
    "duration": 2759,
    "start_time": "2021-11-21T18:38:04.402Z"
   },
   {
    "duration": 583,
    "start_time": "2021-11-21T18:43:26.834Z"
   },
   {
    "duration": 10,
    "start_time": "2021-11-21T18:43:27.418Z"
   },
   {
    "duration": 5,
    "start_time": "2021-11-21T18:43:27.430Z"
   },
   {
    "duration": 16,
    "start_time": "2021-11-21T18:43:27.437Z"
   },
   {
    "duration": 29,
    "start_time": "2021-11-21T18:43:27.455Z"
   },
   {
    "duration": 1206,
    "start_time": "2021-11-21T18:43:27.486Z"
   },
   {
    "duration": 12,
    "start_time": "2021-11-21T18:43:28.694Z"
   },
   {
    "duration": 732,
    "start_time": "2021-11-21T18:43:28.708Z"
   },
   {
    "duration": 14,
    "start_time": "2021-11-21T18:43:29.443Z"
   },
   {
    "duration": 7,
    "start_time": "2021-11-21T18:43:29.459Z"
   },
   {
    "duration": 1627,
    "start_time": "2021-11-21T18:43:29.492Z"
   },
   {
    "duration": 6,
    "start_time": "2021-11-21T18:43:31.121Z"
   },
   {
    "duration": 24,
    "start_time": "2021-11-21T18:43:31.129Z"
   },
   {
    "duration": 15,
    "start_time": "2021-11-21T18:43:31.155Z"
   },
   {
    "duration": 33,
    "start_time": "2021-11-21T18:43:31.172Z"
   },
   {
    "duration": 22,
    "start_time": "2021-11-21T18:43:31.207Z"
   },
   {
    "duration": 13,
    "start_time": "2021-11-21T18:43:31.231Z"
   },
   {
    "duration": 16,
    "start_time": "2021-11-21T18:43:31.246Z"
   },
   {
    "duration": 6,
    "start_time": "2021-11-21T18:43:31.264Z"
   },
   {
    "duration": 13,
    "start_time": "2021-11-21T18:43:31.272Z"
   },
   {
    "duration": 14,
    "start_time": "2021-11-21T18:43:31.291Z"
   },
   {
    "duration": 8,
    "start_time": "2021-11-21T18:43:31.307Z"
   },
   {
    "duration": 674,
    "start_time": "2021-11-21T18:43:31.318Z"
   },
   {
    "duration": 11,
    "start_time": "2021-11-21T18:43:31.994Z"
   },
   {
    "duration": 23,
    "start_time": "2021-11-21T18:43:32.006Z"
   },
   {
    "duration": 16,
    "start_time": "2021-11-21T18:43:32.030Z"
   },
   {
    "duration": 5,
    "start_time": "2021-11-21T18:43:32.048Z"
   },
   {
    "duration": 11,
    "start_time": "2021-11-21T18:43:32.055Z"
   },
   {
    "duration": 23,
    "start_time": "2021-11-21T18:43:32.068Z"
   },
   {
    "duration": 43,
    "start_time": "2021-11-21T18:43:32.093Z"
   },
   {
    "duration": 10,
    "start_time": "2021-11-21T18:43:32.137Z"
   },
   {
    "duration": 11,
    "start_time": "2021-11-21T18:43:32.149Z"
   },
   {
    "duration": 55,
    "start_time": "2021-11-21T18:43:32.161Z"
   },
   {
    "duration": 34,
    "start_time": "2021-11-21T18:43:32.218Z"
   },
   {
    "duration": 11,
    "start_time": "2021-11-21T18:43:32.253Z"
   },
   {
    "duration": 680,
    "start_time": "2021-11-21T18:43:32.265Z"
   },
   {
    "duration": 20,
    "start_time": "2021-11-21T18:43:32.947Z"
   },
   {
    "duration": 16,
    "start_time": "2021-11-21T18:43:36.938Z"
   },
   {
    "duration": 15,
    "start_time": "2021-11-21T18:43:41.934Z"
   },
   {
    "duration": 2,
    "start_time": "2021-11-21T18:44:08.534Z"
   },
   {
    "duration": 3,
    "start_time": "2021-11-21T18:44:43.070Z"
   },
   {
    "duration": 2756,
    "start_time": "2021-11-21T18:44:51.042Z"
   },
   {
    "duration": 3,
    "start_time": "2021-11-21T18:47:29.438Z"
   },
   {
    "duration": 2563,
    "start_time": "2021-11-21T18:47:31.711Z"
   },
   {
    "duration": 14,
    "start_time": "2021-11-21T18:48:17.271Z"
   },
   {
    "duration": 5116,
    "start_time": "2021-11-21T18:58:14.752Z"
   },
   {
    "duration": 2625,
    "start_time": "2021-11-21T18:58:30.253Z"
   },
   {
    "duration": 585,
    "start_time": "2021-11-21T18:59:04.729Z"
   },
   {
    "duration": 10,
    "start_time": "2021-11-21T18:59:05.316Z"
   },
   {
    "duration": 9,
    "start_time": "2021-11-21T18:59:05.327Z"
   },
   {
    "duration": 19,
    "start_time": "2021-11-21T18:59:05.338Z"
   },
   {
    "duration": 33,
    "start_time": "2021-11-21T18:59:05.358Z"
   },
   {
    "duration": 1201,
    "start_time": "2021-11-21T18:59:05.393Z"
   },
   {
    "duration": 10,
    "start_time": "2021-11-21T18:59:06.595Z"
   },
   {
    "duration": 756,
    "start_time": "2021-11-21T18:59:06.607Z"
   },
   {
    "duration": 11,
    "start_time": "2021-11-21T18:59:07.365Z"
   },
   {
    "duration": 7,
    "start_time": "2021-11-21T18:59:07.391Z"
   },
   {
    "duration": 1615,
    "start_time": "2021-11-21T18:59:07.399Z"
   },
   {
    "duration": 5,
    "start_time": "2021-11-21T18:59:09.016Z"
   },
   {
    "duration": 14,
    "start_time": "2021-11-21T18:59:09.023Z"
   },
   {
    "duration": 10,
    "start_time": "2021-11-21T18:59:09.039Z"
   },
   {
    "duration": 42,
    "start_time": "2021-11-21T18:59:09.050Z"
   },
   {
    "duration": 8,
    "start_time": "2021-11-21T18:59:09.094Z"
   },
   {
    "duration": 9,
    "start_time": "2021-11-21T18:59:09.104Z"
   },
   {
    "duration": 12,
    "start_time": "2021-11-21T18:59:09.115Z"
   },
   {
    "duration": 8,
    "start_time": "2021-11-21T18:59:09.129Z"
   },
   {
    "duration": 10,
    "start_time": "2021-11-21T18:59:09.138Z"
   },
   {
    "duration": 46,
    "start_time": "2021-11-21T18:59:09.149Z"
   },
   {
    "duration": 11,
    "start_time": "2021-11-21T18:59:09.197Z"
   },
   {
    "duration": 660,
    "start_time": "2021-11-21T18:59:09.211Z"
   },
   {
    "duration": 10,
    "start_time": "2021-11-21T18:59:09.873Z"
   },
   {
    "duration": 9,
    "start_time": "2021-11-21T18:59:09.891Z"
   },
   {
    "duration": 13,
    "start_time": "2021-11-21T18:59:09.901Z"
   },
   {
    "duration": 4,
    "start_time": "2021-11-21T18:59:09.916Z"
   },
   {
    "duration": 6,
    "start_time": "2021-11-21T18:59:09.922Z"
   },
   {
    "duration": 10,
    "start_time": "2021-11-21T18:59:09.929Z"
   },
   {
    "duration": 69,
    "start_time": "2021-11-21T18:59:09.941Z"
   },
   {
    "duration": 10,
    "start_time": "2021-11-21T18:59:10.012Z"
   },
   {
    "duration": 12,
    "start_time": "2021-11-21T18:59:10.024Z"
   },
   {
    "duration": 55,
    "start_time": "2021-11-21T18:59:10.037Z"
   },
   {
    "duration": 30,
    "start_time": "2021-11-21T18:59:10.094Z"
   },
   {
    "duration": 10,
    "start_time": "2021-11-21T18:59:10.126Z"
   },
   {
    "duration": 681,
    "start_time": "2021-11-21T18:59:10.138Z"
   },
   {
    "duration": 21,
    "start_time": "2021-11-21T18:59:10.821Z"
   },
   {
    "duration": 4,
    "start_time": "2021-11-21T18:59:13.904Z"
   },
   {
    "duration": 2782,
    "start_time": "2021-11-21T18:59:14.877Z"
   },
   {
    "duration": 55,
    "start_time": "2021-11-21T18:59:52.877Z"
   },
   {
    "duration": 76,
    "start_time": "2021-11-21T19:00:16.085Z"
   },
   {
    "duration": 843,
    "start_time": "2021-11-21T19:00:21.725Z"
   },
   {
    "duration": 58,
    "start_time": "2021-11-21T19:00:29.197Z"
   },
   {
    "duration": 447,
    "start_time": "2021-11-21T19:00:35.853Z"
   },
   {
    "duration": 2756,
    "start_time": "2021-11-21T19:01:30.477Z"
   },
   {
    "duration": 608,
    "start_time": "2021-11-21T19:01:47.388Z"
   },
   {
    "duration": 9,
    "start_time": "2021-11-21T19:01:47.998Z"
   },
   {
    "duration": 4,
    "start_time": "2021-11-21T19:01:48.009Z"
   },
   {
    "duration": 8,
    "start_time": "2021-11-21T19:01:48.015Z"
   },
   {
    "duration": 22,
    "start_time": "2021-11-21T19:01:48.024Z"
   },
   {
    "duration": 1278,
    "start_time": "2021-11-21T19:01:48.047Z"
   },
   {
    "duration": 10,
    "start_time": "2021-11-21T19:01:49.327Z"
   },
   {
    "duration": 844,
    "start_time": "2021-11-21T19:01:49.338Z"
   },
   {
    "duration": 15,
    "start_time": "2021-11-21T19:01:50.185Z"
   },
   {
    "duration": 7,
    "start_time": "2021-11-21T19:01:50.202Z"
   },
   {
    "duration": 1680,
    "start_time": "2021-11-21T19:01:50.211Z"
   },
   {
    "duration": 5,
    "start_time": "2021-11-21T19:01:51.894Z"
   },
   {
    "duration": 28,
    "start_time": "2021-11-21T19:01:51.900Z"
   },
   {
    "duration": 8,
    "start_time": "2021-11-21T19:01:51.930Z"
   },
   {
    "duration": 33,
    "start_time": "2021-11-21T19:01:51.940Z"
   },
   {
    "duration": 22,
    "start_time": "2021-11-21T19:01:51.975Z"
   },
   {
    "duration": 13,
    "start_time": "2021-11-21T19:01:51.998Z"
   },
   {
    "duration": 24,
    "start_time": "2021-11-21T19:01:52.012Z"
   },
   {
    "duration": 7,
    "start_time": "2021-11-21T19:01:52.038Z"
   },
   {
    "duration": 22,
    "start_time": "2021-11-21T19:01:52.046Z"
   },
   {
    "duration": 31,
    "start_time": "2021-11-21T19:01:52.070Z"
   },
   {
    "duration": 21,
    "start_time": "2021-11-21T19:01:52.103Z"
   },
   {
    "duration": 739,
    "start_time": "2021-11-21T19:01:52.126Z"
   },
   {
    "duration": 12,
    "start_time": "2021-11-21T19:01:52.867Z"
   },
   {
    "duration": 10,
    "start_time": "2021-11-21T19:01:52.892Z"
   },
   {
    "duration": 15,
    "start_time": "2021-11-21T19:01:52.904Z"
   },
   {
    "duration": 5,
    "start_time": "2021-11-21T19:01:52.923Z"
   },
   {
    "duration": 6,
    "start_time": "2021-11-21T19:01:52.932Z"
   },
   {
    "duration": 12,
    "start_time": "2021-11-21T19:01:52.940Z"
   },
   {
    "duration": 75,
    "start_time": "2021-11-21T19:01:52.954Z"
   },
   {
    "duration": 10,
    "start_time": "2021-11-21T19:01:53.031Z"
   },
   {
    "duration": 12,
    "start_time": "2021-11-21T19:01:53.043Z"
   },
   {
    "duration": 63,
    "start_time": "2021-11-21T19:01:53.057Z"
   },
   {
    "duration": 33,
    "start_time": "2021-11-21T19:01:53.122Z"
   },
   {
    "duration": 10,
    "start_time": "2021-11-21T19:01:53.157Z"
   },
   {
    "duration": 697,
    "start_time": "2021-11-21T19:01:53.168Z"
   },
   {
    "duration": 29,
    "start_time": "2021-11-21T19:01:53.866Z"
   },
   {
    "duration": 4,
    "start_time": "2021-11-21T19:01:53.897Z"
   },
   {
    "duration": 2923,
    "start_time": "2021-11-21T19:01:55.668Z"
   },
   {
    "duration": 2722,
    "start_time": "2021-11-21T19:02:45.392Z"
   },
   {
    "duration": 4,
    "start_time": "2021-11-21T19:04:03.700Z"
   },
   {
    "duration": 8888,
    "start_time": "2021-11-21T19:04:05.568Z"
   },
   {
    "duration": 2593,
    "start_time": "2021-11-21T19:04:17.524Z"
   },
   {
    "duration": 2615,
    "start_time": "2021-11-21T19:04:36.645Z"
   },
   {
    "duration": 635,
    "start_time": "2021-11-21T19:21:48.263Z"
   },
   {
    "duration": 12,
    "start_time": "2021-11-21T19:21:48.900Z"
   },
   {
    "duration": 4,
    "start_time": "2021-11-21T19:21:48.914Z"
   },
   {
    "duration": 10,
    "start_time": "2021-11-21T19:21:48.920Z"
   },
   {
    "duration": 21,
    "start_time": "2021-11-21T19:21:48.931Z"
   },
   {
    "duration": 1307,
    "start_time": "2021-11-21T19:21:48.954Z"
   },
   {
    "duration": 10,
    "start_time": "2021-11-21T19:21:50.263Z"
   },
   {
    "duration": 791,
    "start_time": "2021-11-21T19:21:50.275Z"
   },
   {
    "duration": 26,
    "start_time": "2021-11-21T19:21:51.069Z"
   },
   {
    "duration": 7,
    "start_time": "2021-11-21T19:21:51.098Z"
   },
   {
    "duration": 1664,
    "start_time": "2021-11-21T19:21:51.107Z"
   },
   {
    "duration": 6,
    "start_time": "2021-11-21T19:21:52.773Z"
   },
   {
    "duration": 26,
    "start_time": "2021-11-21T19:21:52.781Z"
   },
   {
    "duration": 10,
    "start_time": "2021-11-21T19:21:52.809Z"
   },
   {
    "duration": 23,
    "start_time": "2021-11-21T19:21:52.820Z"
   },
   {
    "duration": 7,
    "start_time": "2021-11-21T19:21:52.844Z"
   },
   {
    "duration": 10,
    "start_time": "2021-11-21T19:21:52.852Z"
   },
   {
    "duration": 13,
    "start_time": "2021-11-21T19:21:52.892Z"
   },
   {
    "duration": 10,
    "start_time": "2021-11-21T19:21:52.907Z"
   },
   {
    "duration": 12,
    "start_time": "2021-11-21T19:21:52.918Z"
   },
   {
    "duration": 10,
    "start_time": "2021-11-21T19:21:52.931Z"
   },
   {
    "duration": 9,
    "start_time": "2021-11-21T19:21:52.943Z"
   },
   {
    "duration": 743,
    "start_time": "2021-11-21T19:21:52.954Z"
   },
   {
    "duration": 12,
    "start_time": "2021-11-21T19:21:53.699Z"
   },
   {
    "duration": 11,
    "start_time": "2021-11-21T19:21:53.713Z"
   },
   {
    "duration": 14,
    "start_time": "2021-11-21T19:21:53.725Z"
   },
   {
    "duration": 8,
    "start_time": "2021-11-21T19:21:53.742Z"
   },
   {
    "duration": 6,
    "start_time": "2021-11-21T19:21:53.752Z"
   },
   {
    "duration": 39,
    "start_time": "2021-11-21T19:21:53.759Z"
   },
   {
    "duration": 38,
    "start_time": "2021-11-21T19:21:53.800Z"
   },
   {
    "duration": 9,
    "start_time": "2021-11-21T19:21:53.840Z"
   },
   {
    "duration": 40,
    "start_time": "2021-11-21T19:21:53.851Z"
   },
   {
    "duration": 43,
    "start_time": "2021-11-21T19:21:53.894Z"
   },
   {
    "duration": 33,
    "start_time": "2021-11-21T19:21:53.939Z"
   },
   {
    "duration": 12,
    "start_time": "2021-11-21T19:21:53.991Z"
   },
   {
    "duration": 682,
    "start_time": "2021-11-21T19:21:54.004Z"
   },
   {
    "duration": 267,
    "start_time": "2021-11-21T19:21:54.691Z"
   },
   {
    "duration": 4293,
    "start_time": "2021-11-21T19:22:01.730Z"
   },
   {
    "duration": 4709,
    "start_time": "2021-11-21T19:23:09.369Z"
   },
   {
    "duration": 4377,
    "start_time": "2021-11-21T19:23:38.457Z"
   },
   {
    "duration": 4320,
    "start_time": "2021-11-21T19:24:10.301Z"
   },
   {
    "duration": 9,
    "start_time": "2021-11-21T19:24:41.601Z"
   },
   {
    "duration": 586,
    "start_time": "2021-11-21T19:25:16.452Z"
   },
   {
    "duration": 10,
    "start_time": "2021-11-21T19:25:17.040Z"
   },
   {
    "duration": 4,
    "start_time": "2021-11-21T19:25:17.052Z"
   },
   {
    "duration": 10,
    "start_time": "2021-11-21T19:25:17.058Z"
   },
   {
    "duration": 36,
    "start_time": "2021-11-21T19:25:17.070Z"
   },
   {
    "duration": 1205,
    "start_time": "2021-11-21T19:25:17.107Z"
   },
   {
    "duration": 10,
    "start_time": "2021-11-21T19:25:18.313Z"
   },
   {
    "duration": 729,
    "start_time": "2021-11-21T19:25:18.324Z"
   },
   {
    "duration": 10,
    "start_time": "2021-11-21T19:25:19.056Z"
   },
   {
    "duration": 27,
    "start_time": "2021-11-21T19:25:19.068Z"
   },
   {
    "duration": 1660,
    "start_time": "2021-11-21T19:25:19.097Z"
   },
   {
    "duration": 4,
    "start_time": "2021-11-21T19:25:20.759Z"
   },
   {
    "duration": 26,
    "start_time": "2021-11-21T19:25:20.765Z"
   },
   {
    "duration": 8,
    "start_time": "2021-11-21T19:25:20.793Z"
   },
   {
    "duration": 29,
    "start_time": "2021-11-21T19:25:20.803Z"
   },
   {
    "duration": 8,
    "start_time": "2021-11-21T19:25:20.834Z"
   },
   {
    "duration": 13,
    "start_time": "2021-11-21T19:25:20.844Z"
   },
   {
    "duration": 19,
    "start_time": "2021-11-21T19:25:20.859Z"
   },
   {
    "duration": 10,
    "start_time": "2021-11-21T19:25:20.891Z"
   },
   {
    "duration": 16,
    "start_time": "2021-11-21T19:25:20.903Z"
   },
   {
    "duration": 22,
    "start_time": "2021-11-21T19:25:20.920Z"
   },
   {
    "duration": 10,
    "start_time": "2021-11-21T19:25:20.943Z"
   },
   {
    "duration": 680,
    "start_time": "2021-11-21T19:25:20.955Z"
   },
   {
    "duration": 10,
    "start_time": "2021-11-21T19:25:21.636Z"
   },
   {
    "duration": 10,
    "start_time": "2021-11-21T19:25:21.648Z"
   },
   {
    "duration": 14,
    "start_time": "2021-11-21T19:25:21.660Z"
   },
   {
    "duration": 5,
    "start_time": "2021-11-21T19:25:21.694Z"
   },
   {
    "duration": 6,
    "start_time": "2021-11-21T19:25:21.700Z"
   },
   {
    "duration": 9,
    "start_time": "2021-11-21T19:25:21.708Z"
   },
   {
    "duration": 38,
    "start_time": "2021-11-21T19:25:21.720Z"
   },
   {
    "duration": 33,
    "start_time": "2021-11-21T19:25:21.760Z"
   },
   {
    "duration": 11,
    "start_time": "2021-11-21T19:25:21.795Z"
   },
   {
    "duration": 35,
    "start_time": "2021-11-21T19:25:21.808Z"
   },
   {
    "duration": 53,
    "start_time": "2021-11-21T19:25:21.844Z"
   },
   {
    "duration": 10,
    "start_time": "2021-11-21T19:25:21.898Z"
   },
   {
    "duration": 686,
    "start_time": "2021-11-21T19:25:21.910Z"
   },
   {
    "duration": 13,
    "start_time": "2021-11-21T19:26:27.863Z"
   },
   {
    "duration": 303,
    "start_time": "2021-11-21T19:26:34.682Z"
   },
   {
    "duration": 20,
    "start_time": "2021-11-21T19:26:57.478Z"
   },
   {
    "duration": 19,
    "start_time": "2021-11-21T19:27:37.322Z"
   },
   {
    "duration": 292,
    "start_time": "2021-11-21T19:27:48.454Z"
   },
   {
    "duration": 18,
    "start_time": "2021-11-21T19:28:02.526Z"
   },
   {
    "duration": 40,
    "start_time": "2021-11-21T19:28:32.003Z"
   },
   {
    "duration": 21,
    "start_time": "2021-11-21T19:28:36.389Z"
   },
   {
    "duration": 61,
    "start_time": "2021-11-21T19:28:50.861Z"
   },
   {
    "duration": 21,
    "start_time": "2021-11-21T19:28:54.282Z"
   },
   {
    "duration": 13,
    "start_time": "2021-11-21T19:29:25.625Z"
   },
   {
    "duration": 16,
    "start_time": "2021-11-21T19:29:28.142Z"
   },
   {
    "duration": 63,
    "start_time": "2021-11-21T19:30:07.549Z"
   },
   {
    "duration": 13,
    "start_time": "2021-11-21T19:30:08.405Z"
   },
   {
    "duration": 602,
    "start_time": "2021-11-21T19:32:55.405Z"
   },
   {
    "duration": 10,
    "start_time": "2021-11-21T19:32:56.008Z"
   },
   {
    "duration": 4,
    "start_time": "2021-11-21T19:32:56.020Z"
   },
   {
    "duration": 9,
    "start_time": "2021-11-21T19:32:56.025Z"
   },
   {
    "duration": 21,
    "start_time": "2021-11-21T19:32:56.035Z"
   },
   {
    "duration": 1238,
    "start_time": "2021-11-21T19:32:56.058Z"
   },
   {
    "duration": 10,
    "start_time": "2021-11-21T19:32:57.298Z"
   },
   {
    "duration": 741,
    "start_time": "2021-11-21T19:32:57.309Z"
   },
   {
    "duration": 10,
    "start_time": "2021-11-21T19:32:58.052Z"
   },
   {
    "duration": 5,
    "start_time": "2021-11-21T19:32:58.064Z"
   },
   {
    "duration": 1629,
    "start_time": "2021-11-21T19:32:58.071Z"
   },
   {
    "duration": 5,
    "start_time": "2021-11-21T19:32:59.703Z"
   },
   {
    "duration": 17,
    "start_time": "2021-11-21T19:32:59.710Z"
   },
   {
    "duration": 9,
    "start_time": "2021-11-21T19:32:59.729Z"
   },
   {
    "duration": 27,
    "start_time": "2021-11-21T19:32:59.740Z"
   },
   {
    "duration": 28,
    "start_time": "2021-11-21T19:32:59.769Z"
   },
   {
    "duration": 13,
    "start_time": "2021-11-21T19:32:59.799Z"
   },
   {
    "duration": 19,
    "start_time": "2021-11-21T19:32:59.813Z"
   },
   {
    "duration": 7,
    "start_time": "2021-11-21T19:32:59.834Z"
   },
   {
    "duration": 27,
    "start_time": "2021-11-21T19:32:59.842Z"
   },
   {
    "duration": 9,
    "start_time": "2021-11-21T19:32:59.870Z"
   },
   {
    "duration": 13,
    "start_time": "2021-11-21T19:32:59.881Z"
   },
   {
    "duration": 681,
    "start_time": "2021-11-21T19:32:59.895Z"
   },
   {
    "duration": 19,
    "start_time": "2021-11-21T19:33:00.579Z"
   },
   {
    "duration": 13,
    "start_time": "2021-11-21T19:33:00.600Z"
   },
   {
    "duration": 16,
    "start_time": "2021-11-21T19:33:00.615Z"
   },
   {
    "duration": 5,
    "start_time": "2021-11-21T19:33:00.635Z"
   },
   {
    "duration": 7,
    "start_time": "2021-11-21T19:33:00.643Z"
   },
   {
    "duration": 12,
    "start_time": "2021-11-21T19:33:00.651Z"
   },
   {
    "duration": 41,
    "start_time": "2021-11-21T19:33:00.691Z"
   },
   {
    "duration": 12,
    "start_time": "2021-11-21T19:33:00.733Z"
   },
   {
    "duration": 12,
    "start_time": "2021-11-21T19:33:00.747Z"
   },
   {
    "duration": 61,
    "start_time": "2021-11-21T19:33:00.760Z"
   },
   {
    "duration": 33,
    "start_time": "2021-11-21T19:33:00.823Z"
   },
   {
    "duration": 35,
    "start_time": "2021-11-21T19:33:00.858Z"
   },
   {
    "duration": 681,
    "start_time": "2021-11-21T19:33:00.895Z"
   },
   {
    "duration": 22,
    "start_time": "2021-11-21T19:33:01.578Z"
   },
   {
    "duration": 68,
    "start_time": "2021-11-21T19:33:04.085Z"
   },
   {
    "duration": 4,
    "start_time": "2021-11-21T19:33:07.668Z"
   },
   {
    "duration": 24917,
    "start_time": "2021-11-21T19:33:10.012Z"
   },
   {
    "duration": 3,
    "start_time": "2021-11-21T19:33:38.929Z"
   },
   {
    "duration": 2536,
    "start_time": "2021-11-21T19:33:43.360Z"
   },
   {
    "duration": 273,
    "start_time": "2021-11-21T19:35:14.836Z"
   },
   {
    "duration": 180,
    "start_time": "2021-11-21T19:36:01.240Z"
   },
   {
    "duration": 11,
    "start_time": "2021-11-21T19:36:14.108Z"
   },
   {
    "duration": 631,
    "start_time": "2021-11-21T19:36:35.886Z"
   },
   {
    "duration": 11,
    "start_time": "2021-11-21T19:36:36.519Z"
   },
   {
    "duration": 3,
    "start_time": "2021-11-21T19:36:36.532Z"
   },
   {
    "duration": 8,
    "start_time": "2021-11-21T19:36:36.537Z"
   },
   {
    "duration": 46,
    "start_time": "2021-11-21T19:36:36.547Z"
   },
   {
    "duration": 1199,
    "start_time": "2021-11-21T19:36:36.595Z"
   },
   {
    "duration": 11,
    "start_time": "2021-11-21T19:36:37.796Z"
   },
   {
    "duration": 744,
    "start_time": "2021-11-21T19:36:37.809Z"
   },
   {
    "duration": 13,
    "start_time": "2021-11-21T19:36:38.557Z"
   },
   {
    "duration": 24,
    "start_time": "2021-11-21T19:36:38.573Z"
   },
   {
    "duration": 1647,
    "start_time": "2021-11-21T19:36:38.598Z"
   },
   {
    "duration": 5,
    "start_time": "2021-11-21T19:36:40.248Z"
   },
   {
    "duration": 16,
    "start_time": "2021-11-21T19:36:40.255Z"
   },
   {
    "duration": 20,
    "start_time": "2021-11-21T19:36:40.273Z"
   },
   {
    "duration": 18,
    "start_time": "2021-11-21T19:36:40.295Z"
   },
   {
    "duration": 7,
    "start_time": "2021-11-21T19:36:40.315Z"
   },
   {
    "duration": 8,
    "start_time": "2021-11-21T19:36:40.324Z"
   },
   {
    "duration": 12,
    "start_time": "2021-11-21T19:36:40.334Z"
   },
   {
    "duration": 7,
    "start_time": "2021-11-21T19:36:40.348Z"
   },
   {
    "duration": 9,
    "start_time": "2021-11-21T19:36:40.392Z"
   },
   {
    "duration": 11,
    "start_time": "2021-11-21T19:36:40.402Z"
   },
   {
    "duration": 9,
    "start_time": "2021-11-21T19:36:40.415Z"
   },
   {
    "duration": 735,
    "start_time": "2021-11-21T19:36:40.425Z"
   },
   {
    "duration": 9,
    "start_time": "2021-11-21T19:36:41.162Z"
   },
   {
    "duration": 24,
    "start_time": "2021-11-21T19:36:41.173Z"
   },
   {
    "duration": 15,
    "start_time": "2021-11-21T19:36:41.199Z"
   },
   {
    "duration": 5,
    "start_time": "2021-11-21T19:36:41.218Z"
   },
   {
    "duration": 9,
    "start_time": "2021-11-21T19:36:41.225Z"
   },
   {
    "duration": 15,
    "start_time": "2021-11-21T19:36:41.236Z"
   },
   {
    "duration": 69,
    "start_time": "2021-11-21T19:36:41.253Z"
   },
   {
    "duration": 11,
    "start_time": "2021-11-21T19:36:41.324Z"
   },
   {
    "duration": 11,
    "start_time": "2021-11-21T19:36:41.336Z"
   },
   {
    "duration": 68,
    "start_time": "2021-11-21T19:36:41.349Z"
   },
   {
    "duration": 33,
    "start_time": "2021-11-21T19:36:41.419Z"
   },
   {
    "duration": 10,
    "start_time": "2021-11-21T19:36:41.453Z"
   },
   {
    "duration": 697,
    "start_time": "2021-11-21T19:36:41.465Z"
   },
   {
    "duration": 13,
    "start_time": "2021-11-21T19:36:42.164Z"
   },
   {
    "duration": 86,
    "start_time": "2021-11-21T19:36:42.179Z"
   },
   {
    "duration": 4,
    "start_time": "2021-11-21T19:36:42.266Z"
   },
   {
    "duration": 25464,
    "start_time": "2021-11-21T19:36:43.678Z"
   },
   {
    "duration": 3,
    "start_time": "2021-11-21T19:37:16.650Z"
   },
   {
    "duration": 2686,
    "start_time": "2021-11-21T19:37:19.445Z"
   },
   {
    "duration": 15,
    "start_time": "2021-11-21T19:37:35.011Z"
   },
   {
    "duration": 17,
    "start_time": "2021-11-21T19:37:53.077Z"
   },
   {
    "duration": 23,
    "start_time": "2021-11-21T19:39:57.517Z"
   },
   {
    "duration": 58,
    "start_time": "2021-11-21T19:40:35.988Z"
   },
   {
    "duration": 46,
    "start_time": "2021-11-21T19:40:40.352Z"
   },
   {
    "duration": 602,
    "start_time": "2021-11-21T19:43:02.524Z"
   },
   {
    "duration": 11,
    "start_time": "2021-11-21T19:43:03.128Z"
   },
   {
    "duration": 11,
    "start_time": "2021-11-21T19:43:03.142Z"
   },
   {
    "duration": 18,
    "start_time": "2021-11-21T19:43:03.156Z"
   },
   {
    "duration": 26,
    "start_time": "2021-11-21T19:43:03.176Z"
   },
   {
    "duration": 1191,
    "start_time": "2021-11-21T19:43:03.204Z"
   },
   {
    "duration": 12,
    "start_time": "2021-11-21T19:43:04.397Z"
   },
   {
    "duration": 745,
    "start_time": "2021-11-21T19:43:04.410Z"
   },
   {
    "duration": 12,
    "start_time": "2021-11-21T19:43:05.159Z"
   },
   {
    "duration": 18,
    "start_time": "2021-11-21T19:43:05.173Z"
   },
   {
    "duration": 1618,
    "start_time": "2021-11-21T19:43:05.193Z"
   },
   {
    "duration": 5,
    "start_time": "2021-11-21T19:43:06.813Z"
   },
   {
    "duration": 15,
    "start_time": "2021-11-21T19:43:06.819Z"
   },
   {
    "duration": 13,
    "start_time": "2021-11-21T19:43:06.836Z"
   },
   {
    "duration": 23,
    "start_time": "2021-11-21T19:43:06.850Z"
   },
   {
    "duration": 24,
    "start_time": "2021-11-21T19:43:06.874Z"
   },
   {
    "duration": 12,
    "start_time": "2021-11-21T19:43:06.899Z"
   },
   {
    "duration": 14,
    "start_time": "2021-11-21T19:43:06.912Z"
   },
   {
    "duration": 8,
    "start_time": "2021-11-21T19:43:06.927Z"
   },
   {
    "duration": 9,
    "start_time": "2021-11-21T19:43:06.937Z"
   },
   {
    "duration": 10,
    "start_time": "2021-11-21T19:43:06.947Z"
   },
   {
    "duration": 7,
    "start_time": "2021-11-21T19:43:06.991Z"
   },
   {
    "duration": 658,
    "start_time": "2021-11-21T19:43:07.000Z"
   },
   {
    "duration": 11,
    "start_time": "2021-11-21T19:43:07.659Z"
   },
   {
    "duration": 21,
    "start_time": "2021-11-21T19:43:07.671Z"
   },
   {
    "duration": 13,
    "start_time": "2021-11-21T19:43:07.693Z"
   },
   {
    "duration": 4,
    "start_time": "2021-11-21T19:43:07.709Z"
   },
   {
    "duration": 5,
    "start_time": "2021-11-21T19:43:07.715Z"
   },
   {
    "duration": 10,
    "start_time": "2021-11-21T19:43:07.721Z"
   },
   {
    "duration": 65,
    "start_time": "2021-11-21T19:43:07.732Z"
   },
   {
    "duration": 9,
    "start_time": "2021-11-21T19:43:07.799Z"
   },
   {
    "duration": 10,
    "start_time": "2021-11-21T19:43:07.810Z"
   },
   {
    "duration": 32,
    "start_time": "2021-11-21T19:43:07.822Z"
   },
   {
    "duration": 55,
    "start_time": "2021-11-21T19:43:07.856Z"
   },
   {
    "duration": 9,
    "start_time": "2021-11-21T19:43:07.913Z"
   },
   {
    "duration": 677,
    "start_time": "2021-11-21T19:43:07.924Z"
   },
   {
    "duration": 13,
    "start_time": "2021-11-21T19:43:08.602Z"
   },
   {
    "duration": 858,
    "start_time": "2021-11-21T19:43:08.616Z"
   },
   {
    "duration": 1576,
    "start_time": "2021-11-21T19:43:07.901Z"
   },
   {
    "duration": 1574,
    "start_time": "2021-11-21T19:43:07.904Z"
   },
   {
    "duration": 1575,
    "start_time": "2021-11-21T19:43:07.905Z"
   },
   {
    "duration": 1574,
    "start_time": "2021-11-21T19:43:07.907Z"
   },
   {
    "duration": 1574,
    "start_time": "2021-11-21T19:43:07.909Z"
   },
   {
    "duration": 1572,
    "start_time": "2021-11-21T19:43:07.912Z"
   },
   {
    "duration": 49,
    "start_time": "2021-11-21T19:43:38.096Z"
   },
   {
    "duration": 29,
    "start_time": "2021-11-21T19:46:54.847Z"
   },
   {
    "duration": 629,
    "start_time": "2021-11-21T19:54:19.398Z"
   },
   {
    "duration": 11,
    "start_time": "2021-11-21T19:54:20.030Z"
   },
   {
    "duration": 4,
    "start_time": "2021-11-21T19:54:20.043Z"
   },
   {
    "duration": 12,
    "start_time": "2021-11-21T19:54:20.049Z"
   },
   {
    "duration": 35,
    "start_time": "2021-11-21T19:54:20.063Z"
   },
   {
    "duration": 1188,
    "start_time": "2021-11-21T19:54:20.100Z"
   },
   {
    "duration": 10,
    "start_time": "2021-11-21T19:54:21.291Z"
   },
   {
    "duration": 758,
    "start_time": "2021-11-21T19:54:21.302Z"
   },
   {
    "duration": 11,
    "start_time": "2021-11-21T19:54:22.063Z"
   },
   {
    "duration": 5,
    "start_time": "2021-11-21T19:54:22.076Z"
   },
   {
    "duration": 1844,
    "start_time": "2021-11-21T19:54:22.082Z"
   },
   {
    "duration": 6,
    "start_time": "2021-11-21T19:54:23.928Z"
   },
   {
    "duration": 18,
    "start_time": "2021-11-21T19:54:23.935Z"
   },
   {
    "duration": 8,
    "start_time": "2021-11-21T19:54:23.955Z"
   },
   {
    "duration": 40,
    "start_time": "2021-11-21T19:54:23.965Z"
   },
   {
    "duration": 9,
    "start_time": "2021-11-21T19:54:24.006Z"
   },
   {
    "duration": 8,
    "start_time": "2021-11-21T19:54:24.016Z"
   },
   {
    "duration": 12,
    "start_time": "2021-11-21T19:54:24.026Z"
   },
   {
    "duration": 6,
    "start_time": "2021-11-21T19:54:24.040Z"
   },
   {
    "duration": 8,
    "start_time": "2021-11-21T19:54:24.048Z"
   },
   {
    "duration": 38,
    "start_time": "2021-11-21T19:54:24.058Z"
   },
   {
    "duration": 8,
    "start_time": "2021-11-21T19:54:24.098Z"
   },
   {
    "duration": 683,
    "start_time": "2021-11-21T19:54:24.108Z"
   },
   {
    "duration": 10,
    "start_time": "2021-11-21T19:54:24.793Z"
   },
   {
    "duration": 13,
    "start_time": "2021-11-21T19:54:24.804Z"
   },
   {
    "duration": 13,
    "start_time": "2021-11-21T19:54:24.819Z"
   },
   {
    "duration": 5,
    "start_time": "2021-11-21T19:54:24.836Z"
   },
   {
    "duration": 5,
    "start_time": "2021-11-21T19:54:24.842Z"
   },
   {
    "duration": 42,
    "start_time": "2021-11-21T19:54:24.849Z"
   },
   {
    "duration": 39,
    "start_time": "2021-11-21T19:54:24.893Z"
   },
   {
    "duration": 9,
    "start_time": "2021-11-21T19:54:24.934Z"
   },
   {
    "duration": 11,
    "start_time": "2021-11-21T19:54:24.945Z"
   },
   {
    "duration": 59,
    "start_time": "2021-11-21T19:54:24.958Z"
   },
   {
    "duration": 32,
    "start_time": "2021-11-21T19:54:25.019Z"
   },
   {
    "duration": 11,
    "start_time": "2021-11-21T19:54:25.053Z"
   },
   {
    "duration": 692,
    "start_time": "2021-11-21T19:54:25.065Z"
   },
   {
    "duration": 13,
    "start_time": "2021-11-21T19:54:25.759Z"
   },
   {
    "duration": 912,
    "start_time": "2021-11-21T19:54:25.773Z"
   },
   {
    "duration": 1578,
    "start_time": "2021-11-21T19:54:25.109Z"
   },
   {
    "duration": 1577,
    "start_time": "2021-11-21T19:54:25.111Z"
   },
   {
    "duration": 1577,
    "start_time": "2021-11-21T19:54:25.112Z"
   },
   {
    "duration": 1576,
    "start_time": "2021-11-21T19:54:25.114Z"
   },
   {
    "duration": 1575,
    "start_time": "2021-11-21T19:54:25.116Z"
   },
   {
    "duration": 1573,
    "start_time": "2021-11-21T19:54:25.119Z"
   },
   {
    "duration": 1572,
    "start_time": "2021-11-21T19:54:25.120Z"
   },
   {
    "duration": 1571,
    "start_time": "2021-11-21T19:54:25.122Z"
   },
   {
    "duration": 1571,
    "start_time": "2021-11-21T19:54:25.123Z"
   },
   {
    "duration": 626,
    "start_time": "2021-11-21T19:54:58.063Z"
   },
   {
    "duration": 11,
    "start_time": "2021-11-21T19:54:58.691Z"
   },
   {
    "duration": 9,
    "start_time": "2021-11-21T19:54:58.703Z"
   },
   {
    "duration": 40,
    "start_time": "2021-11-21T19:54:58.714Z"
   },
   {
    "duration": 30,
    "start_time": "2021-11-21T19:54:58.755Z"
   },
   {
    "duration": 1211,
    "start_time": "2021-11-21T19:54:58.787Z"
   },
   {
    "duration": 11,
    "start_time": "2021-11-21T19:54:59.999Z"
   },
   {
    "duration": 756,
    "start_time": "2021-11-21T19:55:00.012Z"
   },
   {
    "duration": 21,
    "start_time": "2021-11-21T19:55:00.770Z"
   },
   {
    "duration": 6,
    "start_time": "2021-11-21T19:55:00.792Z"
   },
   {
    "duration": 1649,
    "start_time": "2021-11-21T19:55:00.800Z"
   },
   {
    "duration": 5,
    "start_time": "2021-11-21T19:55:02.451Z"
   },
   {
    "duration": 29,
    "start_time": "2021-11-21T19:55:02.458Z"
   },
   {
    "duration": 8,
    "start_time": "2021-11-21T19:55:02.489Z"
   },
   {
    "duration": 39,
    "start_time": "2021-11-21T19:55:02.498Z"
   },
   {
    "duration": 15,
    "start_time": "2021-11-21T19:55:02.538Z"
   },
   {
    "duration": 13,
    "start_time": "2021-11-21T19:55:02.555Z"
   },
   {
    "duration": 12,
    "start_time": "2021-11-21T19:55:02.570Z"
   },
   {
    "duration": 8,
    "start_time": "2021-11-21T19:55:02.584Z"
   },
   {
    "duration": 10,
    "start_time": "2021-11-21T19:55:02.593Z"
   },
   {
    "duration": 10,
    "start_time": "2021-11-21T19:55:02.604Z"
   },
   {
    "duration": 16,
    "start_time": "2021-11-21T19:55:02.615Z"
   },
   {
    "duration": 720,
    "start_time": "2021-11-21T19:55:02.634Z"
   },
   {
    "duration": 10,
    "start_time": "2021-11-21T19:55:03.356Z"
   },
   {
    "duration": 37,
    "start_time": "2021-11-21T19:55:03.368Z"
   },
   {
    "duration": 33,
    "start_time": "2021-11-21T19:55:03.407Z"
   },
   {
    "duration": 31,
    "start_time": "2021-11-21T19:55:03.442Z"
   },
   {
    "duration": 22,
    "start_time": "2021-11-21T19:55:03.475Z"
   },
   {
    "duration": 24,
    "start_time": "2021-11-21T19:55:03.499Z"
   },
   {
    "duration": 56,
    "start_time": "2021-11-21T19:55:03.525Z"
   },
   {
    "duration": 10,
    "start_time": "2021-11-21T19:55:03.582Z"
   },
   {
    "duration": 38,
    "start_time": "2021-11-21T19:55:03.594Z"
   },
   {
    "duration": 49,
    "start_time": "2021-11-21T19:55:03.633Z"
   },
   {
    "duration": 34,
    "start_time": "2021-11-21T19:55:03.684Z"
   },
   {
    "duration": 10,
    "start_time": "2021-11-21T19:55:03.720Z"
   },
   {
    "duration": 673,
    "start_time": "2021-11-21T19:55:03.732Z"
   },
   {
    "duration": 13,
    "start_time": "2021-11-21T19:55:04.407Z"
   },
   {
    "duration": 96,
    "start_time": "2021-11-21T19:55:04.421Z"
   },
   {
    "duration": 3,
    "start_time": "2021-11-21T19:55:04.519Z"
   },
   {
    "duration": 25046,
    "start_time": "2021-11-21T19:55:04.524Z"
   },
   {
    "duration": 5,
    "start_time": "2021-11-21T19:55:29.572Z"
   },
   {
    "duration": 2954,
    "start_time": "2021-11-21T19:55:29.592Z"
   },
   {
    "duration": 13,
    "start_time": "2021-11-21T19:55:32.548Z"
   },
   {
    "duration": 30,
    "start_time": "2021-11-21T19:55:32.562Z"
   },
   {
    "duration": 46,
    "start_time": "2021-11-21T19:55:32.594Z"
   },
   {
    "duration": 26,
    "start_time": "2021-11-21T19:55:32.642Z"
   },
   {
    "duration": 34,
    "start_time": "2021-11-21T19:55:32.670Z"
   },
   {
    "duration": 266,
    "start_time": "2021-11-21T20:00:32.788Z"
   },
   {
    "duration": 27,
    "start_time": "2021-11-21T20:01:40.068Z"
   },
   {
    "duration": 12,
    "start_time": "2021-11-21T20:02:43.240Z"
   },
   {
    "duration": 12,
    "start_time": "2021-11-21T20:03:31.208Z"
   },
   {
    "duration": 19,
    "start_time": "2021-11-21T20:06:25.461Z"
   },
   {
    "duration": 20,
    "start_time": "2021-11-21T20:06:46.014Z"
   },
   {
    "duration": 21,
    "start_time": "2021-11-21T20:06:52.084Z"
   },
   {
    "duration": 607,
    "start_time": "2021-11-21T20:30:07.161Z"
   },
   {
    "duration": 12,
    "start_time": "2021-11-21T20:30:07.770Z"
   },
   {
    "duration": 9,
    "start_time": "2021-11-21T20:30:07.784Z"
   },
   {
    "duration": 8,
    "start_time": "2021-11-21T20:30:07.794Z"
   },
   {
    "duration": 22,
    "start_time": "2021-11-21T20:30:07.804Z"
   },
   {
    "duration": 1240,
    "start_time": "2021-11-21T20:30:07.828Z"
   },
   {
    "duration": 9,
    "start_time": "2021-11-21T20:30:09.070Z"
   },
   {
    "duration": 746,
    "start_time": "2021-11-21T20:30:09.082Z"
   },
   {
    "duration": 9,
    "start_time": "2021-11-21T20:30:09.830Z"
   },
   {
    "duration": 6,
    "start_time": "2021-11-21T20:30:09.841Z"
   },
   {
    "duration": 1663,
    "start_time": "2021-11-21T20:30:09.848Z"
   },
   {
    "duration": 5,
    "start_time": "2021-11-21T20:30:11.513Z"
   },
   {
    "duration": 15,
    "start_time": "2021-11-21T20:30:11.520Z"
   },
   {
    "duration": 8,
    "start_time": "2021-11-21T20:30:11.537Z"
   },
   {
    "duration": 18,
    "start_time": "2021-11-21T20:30:11.547Z"
   },
   {
    "duration": 32,
    "start_time": "2021-11-21T20:30:11.566Z"
   },
   {
    "duration": 9,
    "start_time": "2021-11-21T20:30:11.600Z"
   },
   {
    "duration": 14,
    "start_time": "2021-11-21T20:30:11.610Z"
   },
   {
    "duration": 7,
    "start_time": "2021-11-21T20:30:11.625Z"
   },
   {
    "duration": 11,
    "start_time": "2021-11-21T20:30:11.634Z"
   },
   {
    "duration": 48,
    "start_time": "2021-11-21T20:30:11.647Z"
   },
   {
    "duration": 8,
    "start_time": "2021-11-21T20:30:11.696Z"
   },
   {
    "duration": 686,
    "start_time": "2021-11-21T20:30:11.709Z"
   },
   {
    "duration": 11,
    "start_time": "2021-11-21T20:30:12.397Z"
   },
   {
    "duration": 11,
    "start_time": "2021-11-21T20:30:12.409Z"
   },
   {
    "duration": 14,
    "start_time": "2021-11-21T20:30:12.422Z"
   },
   {
    "duration": 6,
    "start_time": "2021-11-21T20:30:12.437Z"
   },
   {
    "duration": 7,
    "start_time": "2021-11-21T20:30:12.444Z"
   },
   {
    "duration": 44,
    "start_time": "2021-11-21T20:30:12.453Z"
   },
   {
    "duration": 42,
    "start_time": "2021-11-21T20:30:12.500Z"
   },
   {
    "duration": 11,
    "start_time": "2021-11-21T20:30:12.544Z"
   },
   {
    "duration": 36,
    "start_time": "2021-11-21T20:30:12.557Z"
   },
   {
    "duration": 36,
    "start_time": "2021-11-21T20:30:12.595Z"
   },
   {
    "duration": 33,
    "start_time": "2021-11-21T20:30:12.634Z"
   },
   {
    "duration": 31,
    "start_time": "2021-11-21T20:30:12.669Z"
   },
   {
    "duration": 684,
    "start_time": "2021-11-21T20:30:12.702Z"
   },
   {
    "duration": 13,
    "start_time": "2021-11-21T20:30:13.388Z"
   },
   {
    "duration": 95,
    "start_time": "2021-11-21T20:30:13.402Z"
   },
   {
    "duration": 3,
    "start_time": "2021-11-21T20:30:13.499Z"
   },
   {
    "duration": 26365,
    "start_time": "2021-11-21T20:30:13.503Z"
   },
   {
    "duration": 4,
    "start_time": "2021-11-21T20:30:39.869Z"
   },
   {
    "duration": 2753,
    "start_time": "2021-11-21T20:30:39.874Z"
   },
   {
    "duration": 14,
    "start_time": "2021-11-21T20:30:42.629Z"
   },
   {
    "duration": 13,
    "start_time": "2021-11-21T20:30:42.644Z"
   },
   {
    "duration": 65,
    "start_time": "2021-11-21T20:30:42.658Z"
   },
   {
    "duration": 27,
    "start_time": "2021-11-21T20:30:42.724Z"
   },
   {
    "duration": 12,
    "start_time": "2021-11-21T20:30:42.752Z"
   },
   {
    "duration": 758,
    "start_time": "2021-11-22T08:27:08.258Z"
   },
   {
    "duration": 10,
    "start_time": "2021-11-22T08:27:09.018Z"
   },
   {
    "duration": 11,
    "start_time": "2021-11-22T08:27:09.029Z"
   },
   {
    "duration": 25,
    "start_time": "2021-11-22T08:27:09.042Z"
   },
   {
    "duration": 37,
    "start_time": "2021-11-22T08:27:09.068Z"
   },
   {
    "duration": 1128,
    "start_time": "2021-11-22T08:27:09.107Z"
   },
   {
    "duration": 11,
    "start_time": "2021-11-22T08:27:10.237Z"
   },
   {
    "duration": 751,
    "start_time": "2021-11-22T08:27:10.251Z"
   },
   {
    "duration": 10,
    "start_time": "2021-11-22T08:27:11.004Z"
   },
   {
    "duration": 7,
    "start_time": "2021-11-22T08:27:11.015Z"
   },
   {
    "duration": 1433,
    "start_time": "2021-11-22T08:27:11.024Z"
   },
   {
    "duration": 4,
    "start_time": "2021-11-22T08:27:12.459Z"
   },
   {
    "duration": 27,
    "start_time": "2021-11-22T08:27:12.465Z"
   },
   {
    "duration": 9,
    "start_time": "2021-11-22T08:27:12.493Z"
   },
   {
    "duration": 21,
    "start_time": "2021-11-22T08:27:12.504Z"
   },
   {
    "duration": 6,
    "start_time": "2021-11-22T08:27:12.527Z"
   },
   {
    "duration": 7,
    "start_time": "2021-11-22T08:27:12.535Z"
   },
   {
    "duration": 11,
    "start_time": "2021-11-22T08:27:12.543Z"
   },
   {
    "duration": 36,
    "start_time": "2021-11-22T08:27:12.555Z"
   },
   {
    "duration": 7,
    "start_time": "2021-11-22T08:27:12.593Z"
   },
   {
    "duration": 9,
    "start_time": "2021-11-22T08:27:12.602Z"
   },
   {
    "duration": 7,
    "start_time": "2021-11-22T08:27:12.613Z"
   },
   {
    "duration": 710,
    "start_time": "2021-11-22T08:27:12.624Z"
   },
   {
    "duration": 9,
    "start_time": "2021-11-22T08:27:13.336Z"
   },
   {
    "duration": 10,
    "start_time": "2021-11-22T08:27:13.346Z"
   },
   {
    "duration": 16,
    "start_time": "2021-11-22T08:27:13.357Z"
   },
   {
    "duration": 18,
    "start_time": "2021-11-22T08:27:13.374Z"
   },
   {
    "duration": 11,
    "start_time": "2021-11-22T08:27:13.393Z"
   },
   {
    "duration": 10,
    "start_time": "2021-11-22T08:27:13.406Z"
   },
   {
    "duration": 36,
    "start_time": "2021-11-22T08:27:13.417Z"
   },
   {
    "duration": 9,
    "start_time": "2021-11-22T08:27:13.455Z"
   },
   {
    "duration": 32,
    "start_time": "2021-11-22T08:27:13.465Z"
   },
   {
    "duration": 31,
    "start_time": "2021-11-22T08:27:13.498Z"
   },
   {
    "duration": 30,
    "start_time": "2021-11-22T08:27:13.531Z"
   },
   {
    "duration": 30,
    "start_time": "2021-11-22T08:27:13.563Z"
   },
   {
    "duration": 613,
    "start_time": "2021-11-22T08:27:13.594Z"
   },
   {
    "duration": 11,
    "start_time": "2021-11-22T08:27:14.209Z"
   },
   {
    "duration": 88,
    "start_time": "2021-11-22T08:27:14.222Z"
   },
   {
    "duration": 3,
    "start_time": "2021-11-22T08:27:14.312Z"
   },
   {
    "duration": 24562,
    "start_time": "2021-11-22T08:27:14.316Z"
   },
   {
    "duration": 3,
    "start_time": "2021-11-22T08:27:38.888Z"
   },
   {
    "duration": 2574,
    "start_time": "2021-11-22T08:27:38.892Z"
   },
   {
    "duration": 25,
    "start_time": "2021-11-22T08:27:41.468Z"
   },
   {
    "duration": 12,
    "start_time": "2021-11-22T08:27:41.495Z"
   },
   {
    "duration": 42,
    "start_time": "2021-11-22T08:27:41.508Z"
   },
   {
    "duration": 46,
    "start_time": "2021-11-22T08:27:41.551Z"
   },
   {
    "duration": 12,
    "start_time": "2021-11-22T08:27:41.598Z"
   },
   {
    "duration": 1626,
    "start_time": "2021-11-22T17:47:30.574Z"
   },
   {
    "duration": 15,
    "start_time": "2021-11-22T17:47:32.202Z"
   },
   {
    "duration": 5,
    "start_time": "2021-11-22T17:47:32.220Z"
   },
   {
    "duration": 45,
    "start_time": "2021-11-22T17:47:32.228Z"
   },
   {
    "duration": 37,
    "start_time": "2021-11-22T17:47:32.275Z"
   },
   {
    "duration": 1119,
    "start_time": "2021-11-22T17:47:32.314Z"
   },
   {
    "duration": 18,
    "start_time": "2021-11-22T17:47:33.435Z"
   },
   {
    "duration": 1210,
    "start_time": "2021-11-22T17:47:33.467Z"
   },
   {
    "duration": 15,
    "start_time": "2021-11-22T17:47:34.681Z"
   },
   {
    "duration": 11,
    "start_time": "2021-11-22T17:47:34.699Z"
   },
   {
    "duration": 2738,
    "start_time": "2021-11-22T17:47:34.712Z"
   },
   {
    "duration": 8,
    "start_time": "2021-11-22T17:47:37.462Z"
   },
   {
    "duration": 38,
    "start_time": "2021-11-22T17:47:37.473Z"
   },
   {
    "duration": 17,
    "start_time": "2021-11-22T17:47:37.513Z"
   },
   {
    "duration": 56,
    "start_time": "2021-11-22T17:47:37.532Z"
   },
   {
    "duration": 11,
    "start_time": "2021-11-22T17:47:37.591Z"
   },
   {
    "duration": 25,
    "start_time": "2021-11-22T17:47:37.604Z"
   },
   {
    "duration": 47,
    "start_time": "2021-11-22T17:47:37.632Z"
   },
   {
    "duration": 12,
    "start_time": "2021-11-22T17:47:37.681Z"
   },
   {
    "duration": 31,
    "start_time": "2021-11-22T17:47:40.575Z"
   },
   {
    "duration": 13,
    "start_time": "2021-11-22T17:47:51.643Z"
   },
   {
    "duration": 14,
    "start_time": "2021-11-22T17:47:53.418Z"
   },
   {
    "duration": 13,
    "start_time": "2021-11-22T17:47:56.274Z"
   },
   {
    "duration": 1112,
    "start_time": "2021-11-22T17:47:58.303Z"
   },
   {
    "duration": 17,
    "start_time": "2021-11-22T17:48:01.839Z"
   },
   {
    "duration": 18,
    "start_time": "2021-11-22T17:48:07.122Z"
   },
   {
    "duration": 1624,
    "start_time": "2021-11-22T17:48:44.317Z"
   },
   {
    "duration": 15,
    "start_time": "2021-11-22T17:48:45.943Z"
   },
   {
    "duration": 19,
    "start_time": "2021-11-22T17:48:45.965Z"
   },
   {
    "duration": 24,
    "start_time": "2021-11-22T17:48:45.988Z"
   },
   {
    "duration": 38,
    "start_time": "2021-11-22T17:48:46.015Z"
   },
   {
    "duration": 1250,
    "start_time": "2021-11-22T17:48:46.055Z"
   },
   {
    "duration": 20,
    "start_time": "2021-11-22T17:48:47.307Z"
   },
   {
    "duration": 1249,
    "start_time": "2021-11-22T17:48:47.329Z"
   },
   {
    "duration": 20,
    "start_time": "2021-11-22T17:48:48.583Z"
   },
   {
    "duration": 13,
    "start_time": "2021-11-22T17:48:48.606Z"
   },
   {
    "duration": 3137,
    "start_time": "2021-11-22T17:48:48.622Z"
   },
   {
    "duration": 9,
    "start_time": "2021-11-22T17:48:51.762Z"
   },
   {
    "duration": 43,
    "start_time": "2021-11-22T17:48:51.775Z"
   },
   {
    "duration": 13,
    "start_time": "2021-11-22T17:48:51.820Z"
   },
   {
    "duration": 55,
    "start_time": "2021-11-22T17:48:51.836Z"
   },
   {
    "duration": 12,
    "start_time": "2021-11-22T17:48:51.893Z"
   },
   {
    "duration": 17,
    "start_time": "2021-11-22T17:48:51.908Z"
   },
   {
    "duration": 55,
    "start_time": "2021-11-22T17:48:51.928Z"
   },
   {
    "duration": 24,
    "start_time": "2021-11-22T17:48:51.987Z"
   },
   {
    "duration": 7,
    "start_time": "2021-11-22T17:48:54.248Z"
   },
   {
    "duration": 13,
    "start_time": "2021-11-22T17:48:55.700Z"
   },
   {
    "duration": 14,
    "start_time": "2021-11-22T17:48:56.684Z"
   },
   {
    "duration": 15,
    "start_time": "2021-11-22T17:48:59.012Z"
   },
   {
    "duration": 1073,
    "start_time": "2021-11-22T17:48:59.732Z"
   },
   {
    "duration": 16,
    "start_time": "2021-11-22T17:49:00.807Z"
   },
   {
    "duration": 14,
    "start_time": "2021-11-22T17:49:06.261Z"
   },
   {
    "duration": 21,
    "start_time": "2021-11-22T17:49:09.676Z"
   },
   {
    "duration": 8,
    "start_time": "2021-11-22T17:49:12.336Z"
   },
   {
    "duration": 8,
    "start_time": "2021-11-22T17:49:13.276Z"
   },
   {
    "duration": 12,
    "start_time": "2021-11-22T17:49:13.684Z"
   },
   {
    "duration": 66,
    "start_time": "2021-11-22T17:49:15.601Z"
   },
   {
    "duration": 17,
    "start_time": "2021-11-22T17:49:16.761Z"
   },
   {
    "duration": 20,
    "start_time": "2021-11-22T17:49:21.133Z"
   },
   {
    "duration": 172,
    "start_time": "2021-11-22T17:49:25.061Z"
   },
   {
    "duration": 19,
    "start_time": "2021-11-22T17:49:29.060Z"
   },
   {
    "duration": 109,
    "start_time": "2021-11-22T17:49:36.928Z"
   },
   {
    "duration": 7,
    "start_time": "2021-11-22T17:49:54.977Z"
   },
   {
    "duration": 27,
    "start_time": "2021-11-22T17:49:55.872Z"
   },
   {
    "duration": 17,
    "start_time": "2021-11-22T17:50:33.220Z"
   },
   {
    "duration": 35,
    "start_time": "2021-11-22T17:50:35.768Z"
   },
   {
    "duration": 19,
    "start_time": "2021-11-22T17:51:07.793Z"
   },
   {
    "duration": 35,
    "start_time": "2021-11-22T17:51:08.888Z"
   },
   {
    "duration": 1604,
    "start_time": "2021-11-22T17:51:59.452Z"
   },
   {
    "duration": 24,
    "start_time": "2021-11-22T17:52:01.059Z"
   },
   {
    "duration": 6,
    "start_time": "2021-11-22T17:52:01.089Z"
   },
   {
    "duration": 21,
    "start_time": "2021-11-22T17:52:01.099Z"
   },
   {
    "duration": 66,
    "start_time": "2021-11-22T17:52:01.123Z"
   },
   {
    "duration": 1142,
    "start_time": "2021-11-22T17:52:01.191Z"
   },
   {
    "duration": 31,
    "start_time": "2021-11-22T17:52:02.336Z"
   },
   {
    "duration": 1213,
    "start_time": "2021-11-22T17:52:02.372Z"
   },
   {
    "duration": 15,
    "start_time": "2021-11-22T17:52:03.590Z"
   },
   {
    "duration": 9,
    "start_time": "2021-11-22T17:52:03.608Z"
   },
   {
    "duration": 2956,
    "start_time": "2021-11-22T17:52:03.619Z"
   },
   {
    "duration": 7,
    "start_time": "2021-11-22T17:52:06.578Z"
   },
   {
    "duration": 25,
    "start_time": "2021-11-22T17:52:06.588Z"
   },
   {
    "duration": 23,
    "start_time": "2021-11-22T17:52:06.615Z"
   },
   {
    "duration": 49,
    "start_time": "2021-11-22T17:52:06.640Z"
   },
   {
    "duration": 9,
    "start_time": "2021-11-22T17:52:06.692Z"
   },
   {
    "duration": 13,
    "start_time": "2021-11-22T17:52:06.704Z"
   },
   {
    "duration": 63,
    "start_time": "2021-11-22T17:52:06.720Z"
   },
   {
    "duration": 10,
    "start_time": "2021-11-22T17:52:06.787Z"
   },
   {
    "duration": 13,
    "start_time": "2021-11-22T17:52:06.799Z"
   },
   {
    "duration": 15,
    "start_time": "2021-11-22T17:52:06.814Z"
   },
   {
    "duration": 56,
    "start_time": "2021-11-22T17:52:06.832Z"
   },
   {
    "duration": 11,
    "start_time": "2021-11-22T17:52:06.890Z"
   },
   {
    "duration": 1192,
    "start_time": "2021-11-22T17:52:06.903Z"
   },
   {
    "duration": 16,
    "start_time": "2021-11-22T17:52:08.098Z"
   },
   {
    "duration": 25,
    "start_time": "2021-11-22T17:52:08.116Z"
   },
   {
    "duration": 24,
    "start_time": "2021-11-22T17:52:08.163Z"
   },
   {
    "duration": 20,
    "start_time": "2021-11-22T17:52:08.190Z"
   },
   {
    "duration": 10,
    "start_time": "2021-11-22T17:52:08.213Z"
   },
   {
    "duration": 16,
    "start_time": "2021-11-22T17:52:08.226Z"
   },
   {
    "duration": 74,
    "start_time": "2021-11-22T17:52:08.245Z"
   },
   {
    "duration": 12,
    "start_time": "2021-11-22T17:52:08.322Z"
   },
   {
    "duration": 35,
    "start_time": "2021-11-22T17:52:08.336Z"
   },
   {
    "duration": 7,
    "start_time": "2021-11-22T17:52:19.907Z"
   },
   {
    "duration": 23,
    "start_time": "2021-11-22T17:52:21.287Z"
   },
   {
    "duration": 9,
    "start_time": "2021-11-22T17:52:34.631Z"
   },
   {
    "duration": 9,
    "start_time": "2021-11-22T17:53:45.195Z"
   },
   {
    "duration": 7,
    "start_time": "2021-11-22T17:54:03.788Z"
   },
   {
    "duration": 1619,
    "start_time": "2021-11-22T17:56:13.278Z"
   },
   {
    "duration": 17,
    "start_time": "2021-11-22T17:56:14.901Z"
   },
   {
    "duration": 8,
    "start_time": "2021-11-22T17:56:14.922Z"
   },
   {
    "duration": 47,
    "start_time": "2021-11-22T17:56:14.933Z"
   },
   {
    "duration": 35,
    "start_time": "2021-11-22T17:56:14.983Z"
   },
   {
    "duration": 1116,
    "start_time": "2021-11-22T17:56:15.021Z"
   },
   {
    "duration": 26,
    "start_time": "2021-11-22T17:56:16.140Z"
   },
   {
    "duration": 1222,
    "start_time": "2021-11-22T17:56:16.169Z"
   },
   {
    "duration": 15,
    "start_time": "2021-11-22T17:56:17.395Z"
   },
   {
    "duration": 10,
    "start_time": "2021-11-22T17:56:17.413Z"
   },
   {
    "duration": 2857,
    "start_time": "2021-11-22T17:56:17.425Z"
   },
   {
    "duration": 7,
    "start_time": "2021-11-22T17:56:20.285Z"
   },
   {
    "duration": 29,
    "start_time": "2021-11-22T17:56:20.294Z"
   },
   {
    "duration": 18,
    "start_time": "2021-11-22T17:56:20.326Z"
   },
   {
    "duration": 33,
    "start_time": "2021-11-22T17:56:20.360Z"
   },
   {
    "duration": 10,
    "start_time": "2021-11-22T17:56:20.395Z"
   },
   {
    "duration": 17,
    "start_time": "2021-11-22T17:56:20.407Z"
   },
   {
    "duration": 48,
    "start_time": "2021-11-22T17:56:20.426Z"
   },
   {
    "duration": 13,
    "start_time": "2021-11-22T17:56:20.477Z"
   },
   {
    "duration": 10,
    "start_time": "2021-11-22T17:56:20.493Z"
   },
   {
    "duration": 22,
    "start_time": "2021-11-22T17:56:20.505Z"
   },
   {
    "duration": 22,
    "start_time": "2021-11-22T17:56:20.561Z"
   },
   {
    "duration": 16,
    "start_time": "2021-11-22T17:56:20.586Z"
   },
   {
    "duration": 1254,
    "start_time": "2021-11-22T17:56:20.605Z"
   },
   {
    "duration": 23,
    "start_time": "2021-11-22T17:56:21.862Z"
   },
   {
    "duration": 11,
    "start_time": "2021-11-22T17:56:21.887Z"
   },
   {
    "duration": 21,
    "start_time": "2021-11-22T17:56:21.903Z"
   },
   {
    "duration": 16,
    "start_time": "2021-11-22T17:56:21.962Z"
   },
   {
    "duration": 14,
    "start_time": "2021-11-22T17:56:21.980Z"
   },
   {
    "duration": 18,
    "start_time": "2021-11-22T17:56:21.996Z"
   },
   {
    "duration": 84,
    "start_time": "2021-11-22T17:56:22.017Z"
   },
   {
    "duration": 12,
    "start_time": "2021-11-22T17:56:22.103Z"
   },
   {
    "duration": 15,
    "start_time": "2021-11-22T17:56:22.117Z"
   },
   {
    "duration": 5,
    "start_time": "2021-11-22T17:56:24.296Z"
   },
   {
    "duration": 15,
    "start_time": "2021-11-22T17:56:30.800Z"
   },
   {
    "duration": 48,
    "start_time": "2021-11-22T17:56:42.057Z"
   },
   {
    "duration": 41,
    "start_time": "2021-11-22T17:56:47.104Z"
   },
   {
    "duration": 15,
    "start_time": "2021-11-22T17:56:48.584Z"
   },
   {
    "duration": 1068,
    "start_time": "2021-11-22T17:57:00.672Z"
   },
   {
    "duration": 535,
    "start_time": "2021-11-22T18:07:40.319Z"
   },
   {
    "duration": 19,
    "start_time": "2021-11-22T18:07:51.231Z"
   },
   {
    "duration": 15,
    "start_time": "2021-11-22T18:08:06.439Z"
   },
   {
    "duration": 19,
    "start_time": "2021-11-22T18:08:35.647Z"
   },
   {
    "duration": 1676,
    "start_time": "2021-11-22T18:13:44.175Z"
   },
   {
    "duration": 26,
    "start_time": "2021-11-22T18:13:45.854Z"
   },
   {
    "duration": 6,
    "start_time": "2021-11-22T18:13:45.883Z"
   },
   {
    "duration": 16,
    "start_time": "2021-11-22T18:13:45.891Z"
   },
   {
    "duration": 69,
    "start_time": "2021-11-22T18:13:45.910Z"
   },
   {
    "duration": 1156,
    "start_time": "2021-11-22T18:13:45.982Z"
   },
   {
    "duration": 31,
    "start_time": "2021-11-22T18:13:47.140Z"
   },
   {
    "duration": 1215,
    "start_time": "2021-11-22T18:13:47.174Z"
   },
   {
    "duration": 15,
    "start_time": "2021-11-22T18:13:48.393Z"
   },
   {
    "duration": 8,
    "start_time": "2021-11-22T18:13:48.411Z"
   },
   {
    "duration": 2829,
    "start_time": "2021-11-22T18:13:48.421Z"
   },
   {
    "duration": 8,
    "start_time": "2021-11-22T18:13:51.260Z"
   },
   {
    "duration": 36,
    "start_time": "2021-11-22T18:13:51.270Z"
   },
   {
    "duration": 17,
    "start_time": "2021-11-22T18:13:51.309Z"
   },
   {
    "duration": 61,
    "start_time": "2021-11-22T18:13:51.329Z"
   },
   {
    "duration": 10,
    "start_time": "2021-11-22T18:13:51.393Z"
   },
   {
    "duration": 23,
    "start_time": "2021-11-22T18:13:51.406Z"
   },
   {
    "duration": 31,
    "start_time": "2021-11-22T18:13:51.431Z"
   },
   {
    "duration": 11,
    "start_time": "2021-11-22T18:13:51.472Z"
   },
   {
    "duration": 35,
    "start_time": "2021-11-22T18:13:51.486Z"
   },
   {
    "duration": 27,
    "start_time": "2021-11-22T18:13:51.524Z"
   },
   {
    "duration": 20,
    "start_time": "2021-11-22T18:13:51.553Z"
   },
   {
    "duration": 21,
    "start_time": "2021-11-22T18:13:51.576Z"
   },
   {
    "duration": 1132,
    "start_time": "2021-11-22T18:13:51.599Z"
   },
   {
    "duration": 26,
    "start_time": "2021-11-22T18:13:52.733Z"
   },
   {
    "duration": 13,
    "start_time": "2021-11-22T18:13:52.764Z"
   },
   {
    "duration": 26,
    "start_time": "2021-11-22T18:13:52.785Z"
   },
   {
    "duration": 9,
    "start_time": "2021-11-22T18:13:52.815Z"
   },
   {
    "duration": 12,
    "start_time": "2021-11-22T18:13:52.859Z"
   },
   {
    "duration": 22,
    "start_time": "2021-11-22T18:13:52.873Z"
   },
   {
    "duration": 88,
    "start_time": "2021-11-22T18:13:52.898Z"
   },
   {
    "duration": 12,
    "start_time": "2021-11-22T18:13:52.988Z"
   },
   {
    "duration": 19,
    "start_time": "2021-11-22T18:13:53.003Z"
   },
   {
    "duration": 5,
    "start_time": "2021-11-22T18:13:53.024Z"
   },
   {
    "duration": 44,
    "start_time": "2021-11-22T18:13:53.031Z"
   },
   {
    "duration": 124,
    "start_time": "2021-11-22T18:13:53.077Z"
   },
   {
    "duration": 64,
    "start_time": "2021-11-22T18:13:53.204Z"
   },
   {
    "duration": 18,
    "start_time": "2021-11-22T18:13:53.273Z"
   },
   {
    "duration": 996,
    "start_time": "2021-11-22T18:13:53.293Z"
   },
   {
    "duration": 2431,
    "start_time": "2021-11-22T18:13:57.078Z"
   },
   {
    "duration": 185,
    "start_time": "2021-11-22T18:15:49.034Z"
   },
   {
    "duration": 758,
    "start_time": "2021-11-22T18:16:01.553Z"
   },
   {
    "duration": 467,
    "start_time": "2021-11-22T18:16:37.234Z"
   },
   {
    "duration": 51,
    "start_time": "2021-11-22T18:23:07.989Z"
   },
   {
    "duration": 5,
    "start_time": "2021-11-22T18:23:24.201Z"
   },
   {
    "duration": 43036,
    "start_time": "2021-11-22T18:23:24.561Z"
   },
   {
    "duration": 5,
    "start_time": "2021-11-22T18:24:07.601Z"
   },
   {
    "duration": 4715,
    "start_time": "2021-11-22T18:24:07.609Z"
   },
   {
    "duration": 20,
    "start_time": "2021-11-22T18:24:12.326Z"
   },
   {
    "duration": 131,
    "start_time": "2021-11-22T18:25:00.178Z"
   },
   {
    "duration": 43,
    "start_time": "2021-11-22T18:25:04.834Z"
   },
   {
    "duration": 30,
    "start_time": "2021-11-22T18:25:18.449Z"
   },
   {
    "duration": 25,
    "start_time": "2021-11-22T18:30:15.739Z"
   },
   {
    "duration": 404,
    "start_time": "2021-11-22T18:31:40.229Z"
   },
   {
    "duration": 1596,
    "start_time": "2021-11-22T18:32:20.296Z"
   },
   {
    "duration": 14,
    "start_time": "2021-11-22T18:32:21.895Z"
   },
   {
    "duration": 5,
    "start_time": "2021-11-22T18:32:21.913Z"
   },
   {
    "duration": 42,
    "start_time": "2021-11-22T18:32:21.921Z"
   },
   {
    "duration": 39,
    "start_time": "2021-11-22T18:32:21.966Z"
   },
   {
    "duration": 1195,
    "start_time": "2021-11-22T18:32:22.008Z"
   },
   {
    "duration": 28,
    "start_time": "2021-11-22T18:32:23.205Z"
   },
   {
    "duration": 1321,
    "start_time": "2021-11-22T18:32:23.235Z"
   },
   {
    "duration": 22,
    "start_time": "2021-11-22T18:32:24.561Z"
   },
   {
    "duration": 19,
    "start_time": "2021-11-22T18:32:24.587Z"
   },
   {
    "duration": 3090,
    "start_time": "2021-11-22T18:32:24.609Z"
   },
   {
    "duration": 6,
    "start_time": "2021-11-22T18:32:27.702Z"
   },
   {
    "duration": 25,
    "start_time": "2021-11-22T18:32:27.711Z"
   },
   {
    "duration": 20,
    "start_time": "2021-11-22T18:32:27.761Z"
   },
   {
    "duration": 41,
    "start_time": "2021-11-22T18:32:27.783Z"
   },
   {
    "duration": 48,
    "start_time": "2021-11-22T18:32:27.827Z"
   },
   {
    "duration": 21,
    "start_time": "2021-11-22T18:32:27.877Z"
   },
   {
    "duration": 17,
    "start_time": "2021-11-22T18:32:27.901Z"
   },
   {
    "duration": 13,
    "start_time": "2021-11-22T18:32:27.920Z"
   },
   {
    "duration": 11,
    "start_time": "2021-11-22T18:32:27.960Z"
   },
   {
    "duration": 18,
    "start_time": "2021-11-22T18:32:27.973Z"
   },
   {
    "duration": 15,
    "start_time": "2021-11-22T18:32:27.994Z"
   },
   {
    "duration": 15,
    "start_time": "2021-11-22T18:32:28.012Z"
   },
   {
    "duration": 1235,
    "start_time": "2021-11-22T18:32:28.030Z"
   },
   {
    "duration": 19,
    "start_time": "2021-11-22T18:32:29.269Z"
   },
   {
    "duration": 17,
    "start_time": "2021-11-22T18:32:29.291Z"
   },
   {
    "duration": 47,
    "start_time": "2021-11-22T18:32:29.314Z"
   },
   {
    "duration": 8,
    "start_time": "2021-11-22T18:32:29.365Z"
   },
   {
    "duration": 14,
    "start_time": "2021-11-22T18:32:29.377Z"
   },
   {
    "duration": 16,
    "start_time": "2021-11-22T18:32:29.394Z"
   },
   {
    "duration": 107,
    "start_time": "2021-11-22T18:32:29.412Z"
   },
   {
    "duration": 18,
    "start_time": "2021-11-22T18:32:29.522Z"
   },
   {
    "duration": 36,
    "start_time": "2021-11-22T18:32:29.543Z"
   },
   {
    "duration": 7,
    "start_time": "2021-11-22T18:32:29.582Z"
   },
   {
    "duration": 28,
    "start_time": "2021-11-22T18:32:29.591Z"
   },
   {
    "duration": 127,
    "start_time": "2021-11-22T18:32:29.621Z"
   },
   {
    "duration": 45,
    "start_time": "2021-11-22T18:32:29.761Z"
   },
   {
    "duration": 14,
    "start_time": "2021-11-22T18:32:29.809Z"
   },
   {
    "duration": 1034,
    "start_time": "2021-11-22T18:32:29.826Z"
   },
   {
    "duration": 90,
    "start_time": "2021-11-22T18:32:31.805Z"
   },
   {
    "duration": 7,
    "start_time": "2021-11-22T18:32:33.246Z"
   },
   {
    "duration": 42311,
    "start_time": "2021-11-22T18:32:33.787Z"
   },
   {
    "duration": 7,
    "start_time": "2021-11-22T18:33:16.101Z"
   },
   {
    "duration": 4583,
    "start_time": "2021-11-22T18:33:16.112Z"
   },
   {
    "duration": 27,
    "start_time": "2021-11-22T18:33:20.697Z"
   },
   {
    "duration": 49,
    "start_time": "2021-11-22T18:33:20.726Z"
   },
   {
    "duration": 90,
    "start_time": "2021-11-22T18:33:20.778Z"
   },
   {
    "duration": 43,
    "start_time": "2021-11-22T18:33:47.443Z"
   },
   {
    "duration": 696,
    "start_time": "2021-11-22T18:38:29.284Z"
   },
   {
    "duration": 493,
    "start_time": "2021-11-22T18:41:17.481Z"
   },
   {
    "duration": 51,
    "start_time": "2021-11-22T18:41:44.661Z"
   },
   {
    "duration": 56,
    "start_time": "2021-11-22T18:41:51.454Z"
   },
   {
    "duration": 36,
    "start_time": "2021-11-22T18:45:39.315Z"
   },
   {
    "duration": 1695,
    "start_time": "2021-11-22T18:46:48.262Z"
   },
   {
    "duration": 15,
    "start_time": "2021-11-22T18:46:49.960Z"
   },
   {
    "duration": 10,
    "start_time": "2021-11-22T18:46:49.978Z"
   },
   {
    "duration": 29,
    "start_time": "2021-11-22T18:46:49.991Z"
   },
   {
    "duration": 53,
    "start_time": "2021-11-22T18:46:50.023Z"
   },
   {
    "duration": 1271,
    "start_time": "2021-11-22T18:46:50.078Z"
   },
   {
    "duration": 25,
    "start_time": "2021-11-22T18:46:51.351Z"
   },
   {
    "duration": 1242,
    "start_time": "2021-11-22T18:46:51.379Z"
   },
   {
    "duration": 39,
    "start_time": "2021-11-22T18:46:52.627Z"
   },
   {
    "duration": 11,
    "start_time": "2021-11-22T18:46:52.670Z"
   },
   {
    "duration": 3037,
    "start_time": "2021-11-22T18:46:52.684Z"
   },
   {
    "duration": 10,
    "start_time": "2021-11-22T18:46:55.724Z"
   },
   {
    "duration": 45,
    "start_time": "2021-11-22T18:46:55.737Z"
   },
   {
    "duration": 28,
    "start_time": "2021-11-22T18:46:55.785Z"
   },
   {
    "duration": 44,
    "start_time": "2021-11-22T18:46:55.815Z"
   },
   {
    "duration": 11,
    "start_time": "2021-11-22T18:46:55.862Z"
   },
   {
    "duration": 31,
    "start_time": "2021-11-22T18:46:55.876Z"
   },
   {
    "duration": 26,
    "start_time": "2021-11-22T18:46:55.910Z"
   },
   {
    "duration": 28,
    "start_time": "2021-11-22T18:46:55.938Z"
   },
   {
    "duration": 12,
    "start_time": "2021-11-22T18:46:55.970Z"
   },
   {
    "duration": 27,
    "start_time": "2021-11-22T18:46:55.985Z"
   },
   {
    "duration": 21,
    "start_time": "2021-11-22T18:46:56.014Z"
   },
   {
    "duration": 25,
    "start_time": "2021-11-22T18:46:56.038Z"
   },
   {
    "duration": 1136,
    "start_time": "2021-11-22T18:46:56.066Z"
   },
   {
    "duration": 16,
    "start_time": "2021-11-22T18:46:57.206Z"
   },
   {
    "duration": 37,
    "start_time": "2021-11-22T18:46:57.224Z"
   },
   {
    "duration": 20,
    "start_time": "2021-11-22T18:46:57.266Z"
   },
   {
    "duration": 12,
    "start_time": "2021-11-22T18:46:57.289Z"
   },
   {
    "duration": 8,
    "start_time": "2021-11-22T18:46:57.304Z"
   },
   {
    "duration": 47,
    "start_time": "2021-11-22T18:46:57.315Z"
   },
   {
    "duration": 64,
    "start_time": "2021-11-22T18:46:57.365Z"
   },
   {
    "duration": 33,
    "start_time": "2021-11-22T18:46:57.431Z"
   },
   {
    "duration": 16,
    "start_time": "2021-11-22T18:46:57.467Z"
   },
   {
    "duration": 5,
    "start_time": "2021-11-22T18:46:57.486Z"
   },
   {
    "duration": 18,
    "start_time": "2021-11-22T18:46:57.494Z"
   },
   {
    "duration": 150,
    "start_time": "2021-11-22T18:46:57.514Z"
   },
   {
    "duration": 43,
    "start_time": "2021-11-22T18:46:57.667Z"
   },
   {
    "duration": 16,
    "start_time": "2021-11-22T18:46:57.712Z"
   },
   {
    "duration": 1031,
    "start_time": "2021-11-22T18:46:57.731Z"
   },
   {
    "duration": 67,
    "start_time": "2021-11-22T18:46:58.764Z"
   },
   {
    "duration": 5,
    "start_time": "2021-11-22T18:46:58.834Z"
   },
   {
    "duration": 38731,
    "start_time": "2021-11-22T18:46:58.859Z"
   },
   {
    "duration": 5,
    "start_time": "2021-11-22T18:47:37.592Z"
   },
   {
    "duration": 3974,
    "start_time": "2021-11-22T18:47:37.599Z"
   },
   {
    "duration": 28,
    "start_time": "2021-11-22T18:47:41.575Z"
   },
   {
    "duration": 25,
    "start_time": "2021-11-22T18:47:41.606Z"
   },
   {
    "duration": 59,
    "start_time": "2021-11-22T18:47:41.634Z"
   },
   {
    "duration": 35,
    "start_time": "2021-11-22T18:48:49.270Z"
   },
   {
    "duration": 28,
    "start_time": "2021-11-22T19:01:13.023Z"
   },
   {
    "duration": 1694,
    "start_time": "2021-11-22T19:28:00.250Z"
   },
   {
    "duration": 18,
    "start_time": "2021-11-22T19:28:01.947Z"
   },
   {
    "duration": 22,
    "start_time": "2021-11-22T19:28:01.969Z"
   },
   {
    "duration": 20,
    "start_time": "2021-11-22T19:28:01.994Z"
   },
   {
    "duration": 48,
    "start_time": "2021-11-22T19:28:02.016Z"
   },
   {
    "duration": 1292,
    "start_time": "2021-11-22T19:28:02.068Z"
   },
   {
    "duration": 26,
    "start_time": "2021-11-22T19:28:03.364Z"
   },
   {
    "duration": 1217,
    "start_time": "2021-11-22T19:28:03.393Z"
   },
   {
    "duration": 14,
    "start_time": "2021-11-22T19:28:04.614Z"
   },
   {
    "duration": 32,
    "start_time": "2021-11-22T19:28:04.631Z"
   },
   {
    "duration": 2778,
    "start_time": "2021-11-22T19:28:04.666Z"
   },
   {
    "duration": 15,
    "start_time": "2021-11-22T19:28:07.446Z"
   },
   {
    "duration": 37,
    "start_time": "2021-11-22T19:28:07.464Z"
   },
   {
    "duration": 25,
    "start_time": "2021-11-22T19:28:07.504Z"
   },
   {
    "duration": 46,
    "start_time": "2021-11-22T19:28:07.531Z"
   },
   {
    "duration": 15,
    "start_time": "2021-11-22T19:28:07.579Z"
   },
   {
    "duration": 24,
    "start_time": "2021-11-22T19:28:07.596Z"
   },
   {
    "duration": 27,
    "start_time": "2021-11-22T19:28:07.622Z"
   },
   {
    "duration": 10,
    "start_time": "2021-11-22T19:28:07.660Z"
   },
   {
    "duration": 20,
    "start_time": "2021-11-22T19:28:07.673Z"
   },
   {
    "duration": 19,
    "start_time": "2021-11-22T19:28:07.696Z"
   },
   {
    "duration": 43,
    "start_time": "2021-11-22T19:28:07.718Z"
   },
   {
    "duration": 17,
    "start_time": "2021-11-22T19:28:07.764Z"
   },
   {
    "duration": 1346,
    "start_time": "2021-11-22T19:28:07.784Z"
   },
   {
    "duration": 15,
    "start_time": "2021-11-22T19:28:09.132Z"
   },
   {
    "duration": 12,
    "start_time": "2021-11-22T19:28:09.160Z"
   },
   {
    "duration": 27,
    "start_time": "2021-11-22T19:28:09.178Z"
   },
   {
    "duration": 9,
    "start_time": "2021-11-22T19:28:09.208Z"
   },
   {
    "duration": 42,
    "start_time": "2021-11-22T19:28:09.220Z"
   },
   {
    "duration": 13,
    "start_time": "2021-11-22T19:28:09.264Z"
   },
   {
    "duration": 80,
    "start_time": "2021-11-22T19:28:09.280Z"
   },
   {
    "duration": 13,
    "start_time": "2021-11-22T19:28:09.363Z"
   },
   {
    "duration": 30,
    "start_time": "2021-11-22T19:28:09.378Z"
   },
   {
    "duration": 13,
    "start_time": "2021-11-22T19:28:09.411Z"
   },
   {
    "duration": 27,
    "start_time": "2021-11-22T19:28:09.427Z"
   },
   {
    "duration": 112,
    "start_time": "2021-11-22T19:28:09.457Z"
   },
   {
    "duration": 40,
    "start_time": "2021-11-22T19:28:09.572Z"
   },
   {
    "duration": 14,
    "start_time": "2021-11-22T19:28:09.615Z"
   },
   {
    "duration": 951,
    "start_time": "2021-11-22T19:28:09.659Z"
   },
   {
    "duration": 77,
    "start_time": "2021-11-22T19:28:10.613Z"
   },
   {
    "duration": 6,
    "start_time": "2021-11-22T19:28:10.692Z"
   },
   {
    "duration": 40158,
    "start_time": "2021-11-22T19:28:10.701Z"
   },
   {
    "duration": 4,
    "start_time": "2021-11-22T19:28:50.862Z"
   },
   {
    "duration": 4361,
    "start_time": "2021-11-22T19:28:50.868Z"
   },
   {
    "duration": 38,
    "start_time": "2021-11-22T19:28:55.232Z"
   },
   {
    "duration": 18,
    "start_time": "2021-11-22T19:28:55.273Z"
   },
   {
    "duration": 35,
    "start_time": "2021-11-22T19:28:55.294Z"
   },
   {
    "duration": 21,
    "start_time": "2021-11-22T19:28:55.360Z"
   },
   {
    "duration": 1225,
    "start_time": "2021-11-23T06:27:57.163Z"
   },
   {
    "duration": 13,
    "start_time": "2021-11-23T06:27:58.390Z"
   },
   {
    "duration": 13,
    "start_time": "2021-11-23T06:27:58.405Z"
   },
   {
    "duration": 19,
    "start_time": "2021-11-23T06:27:58.420Z"
   },
   {
    "duration": 29,
    "start_time": "2021-11-23T06:27:58.441Z"
   },
   {
    "duration": 691,
    "start_time": "2021-11-23T06:27:58.473Z"
   },
   {
    "duration": 18,
    "start_time": "2021-11-23T06:27:59.165Z"
   },
   {
    "duration": 769,
    "start_time": "2021-11-23T06:27:59.185Z"
   },
   {
    "duration": 15,
    "start_time": "2021-11-23T06:27:59.957Z"
   },
   {
    "duration": 9,
    "start_time": "2021-11-23T06:27:59.974Z"
   },
   {
    "duration": 1531,
    "start_time": "2021-11-23T06:27:59.984Z"
   },
   {
    "duration": 6,
    "start_time": "2021-11-23T06:28:01.517Z"
   },
   {
    "duration": 24,
    "start_time": "2021-11-23T06:28:01.524Z"
   },
   {
    "duration": 22,
    "start_time": "2021-11-23T06:28:01.550Z"
   },
   {
    "duration": 28,
    "start_time": "2021-11-23T06:28:01.574Z"
   },
   {
    "duration": 25,
    "start_time": "2021-11-23T06:28:01.604Z"
   },
   {
    "duration": 13,
    "start_time": "2021-11-23T06:28:01.631Z"
   },
   {
    "duration": 24,
    "start_time": "2021-11-23T06:28:01.645Z"
   },
   {
    "duration": 12,
    "start_time": "2021-11-23T06:28:01.670Z"
   },
   {
    "duration": 9,
    "start_time": "2021-11-23T06:28:01.683Z"
   },
   {
    "duration": 21,
    "start_time": "2021-11-23T06:28:01.694Z"
   },
   {
    "duration": 67,
    "start_time": "2021-11-23T06:28:01.717Z"
   },
   {
    "duration": 118,
    "start_time": "2021-11-23T06:28:01.787Z"
   },
   {
    "duration": 793,
    "start_time": "2021-11-23T06:28:01.907Z"
   },
   {
    "duration": 10,
    "start_time": "2021-11-23T06:28:02.702Z"
   },
   {
    "duration": 32,
    "start_time": "2021-11-23T06:28:02.713Z"
   },
   {
    "duration": 36,
    "start_time": "2021-11-23T06:28:02.749Z"
   },
   {
    "duration": 13,
    "start_time": "2021-11-23T06:28:02.787Z"
   },
   {
    "duration": 19,
    "start_time": "2021-11-23T06:28:02.802Z"
   },
   {
    "duration": 25,
    "start_time": "2021-11-23T06:28:02.822Z"
   },
   {
    "duration": 63,
    "start_time": "2021-11-23T06:28:02.848Z"
   },
   {
    "duration": 9,
    "start_time": "2021-11-23T06:28:02.913Z"
   },
   {
    "duration": 28,
    "start_time": "2021-11-23T06:28:02.924Z"
   },
   {
    "duration": 40,
    "start_time": "2021-11-23T06:28:02.954Z"
   },
   {
    "duration": 59,
    "start_time": "2021-11-23T06:28:02.996Z"
   },
   {
    "duration": 130,
    "start_time": "2021-11-23T06:28:03.058Z"
   },
   {
    "duration": 28,
    "start_time": "2021-11-23T06:28:03.191Z"
   },
   {
    "duration": 9,
    "start_time": "2021-11-23T06:28:03.221Z"
   },
   {
    "duration": 705,
    "start_time": "2021-11-23T06:28:03.232Z"
   },
   {
    "duration": 50,
    "start_time": "2021-11-23T06:28:03.939Z"
   },
   {
    "duration": 3,
    "start_time": "2021-11-23T06:28:03.991Z"
   },
   {
    "duration": 28008,
    "start_time": "2021-11-23T06:28:03.996Z"
   },
   {
    "duration": 3,
    "start_time": "2021-11-23T06:28:32.006Z"
   },
   {
    "duration": 3110,
    "start_time": "2021-11-23T06:28:32.011Z"
   },
   {
    "duration": 20,
    "start_time": "2021-11-23T06:28:35.124Z"
   },
   {
    "duration": 34,
    "start_time": "2021-11-23T06:28:35.146Z"
   },
   {
    "duration": 39,
    "start_time": "2021-11-23T06:28:35.182Z"
   },
   {
    "duration": 21,
    "start_time": "2021-11-23T06:28:35.223Z"
   },
   {
    "duration": 25,
    "start_time": "2021-11-23T06:28:56.082Z"
   },
   {
    "duration": 25,
    "start_time": "2021-11-23T06:29:04.018Z"
   },
   {
    "duration": 446,
    "start_time": "2021-11-23T06:29:38.189Z"
   },
   {
    "duration": 336,
    "start_time": "2021-11-23T06:29:44.281Z"
   },
   {
    "duration": 1317,
    "start_time": "2021-11-23T06:30:04.344Z"
   },
   {
    "duration": 22,
    "start_time": "2021-11-23T06:30:09.171Z"
   },
   {
    "duration": 1419,
    "start_time": "2021-11-23T06:31:28.611Z"
   },
   {
    "duration": 1194,
    "start_time": "2021-11-23T06:32:18.920Z"
   },
   {
    "duration": 24,
    "start_time": "2021-11-23T06:33:41.456Z"
   }
  ],
  "kernelspec": {
   "display_name": "Python 3 (ipykernel)",
   "language": "python",
   "name": "python3"
  },
  "language_info": {
   "codemirror_mode": {
    "name": "ipython",
    "version": 3
   },
   "file_extension": ".py",
   "mimetype": "text/x-python",
   "name": "python",
   "nbconvert_exporter": "python",
   "pygments_lexer": "ipython3",
   "version": "3.9.7"
  },
  "toc": {
   "base_numbering": 1,
   "nav_menu": {},
   "number_sections": true,
   "sideBar": true,
   "skip_h1_title": true,
   "title_cell": "Table of Contents",
   "title_sidebar": "Contents",
   "toc_cell": false,
   "toc_position": {},
   "toc_section_display": true,
   "toc_window_display": false
  }
 },
 "nbformat": 4,
 "nbformat_minor": 2
}
