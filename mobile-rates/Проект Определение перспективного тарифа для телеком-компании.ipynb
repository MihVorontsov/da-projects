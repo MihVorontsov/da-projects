{
 "cells": [
  {
   "cell_type": "markdown",
   "metadata": {},
   "source": [
    "# Определение перспективного тарифа для телеком-компании"
   ]
  },
  {
   "cell_type": "markdown",
   "metadata": {},
   "source": [
    "## Описание проекта\n",
    "\n",
    "Клиентам компании «Мегалайн» предлагают два тарифных плана: «Смарт» и «Ультра». Чтобы скорректировать рекламный бюджет, коммерческий департамент хочет понять, какой тариф приносит больше денег.\n",
    "\n",
    "В распоряжении данные 500 пользователей «Мегалайна»: кто они, откуда, каким тарифом пользуются, сколько звонков и сообщений каждый отправил за 2018 год. Нужно проанализировать поведение клиентов и сделать вывод — какой тариф лучше.\n",
    "\n",
    "**Тариф «Смарт»**\n",
    "1. Ежемесячная плата: 550 рублей\n",
    "2. Включено:\n",
    " * 500 минут разговора,\n",
    " * 50 сообщений,\n",
    " * 15 Гб интернет-трафика.\n",
    "3. Стоимость услуг сверх тарифного пакета:\n",
    " * минута разговора: 3 рубля («Мегалайн» всегда округляет вверх значения минут и мегабайтов. Если пользователь проговорил всего 1 секунду, в тарифе засчитывается целая минута); \n",
    " * сообщение: 3 рубля;\n",
    " * 1 Гб интернет-трафика: 200 рублей.\n",
    "\n",
    "**Тариф «Ультра»**\n",
    "1. Ежемесячная плата: 1950 рублей\n",
    "2. Включено:\n",
    " * 3000 минут разговора,\n",
    " * 1000 сообщений,\n",
    " * 30 Гб интернет-трафика.\n",
    "3. Стоимость услуг сверх тарифного пакета:\n",
    " * минута разговора: 1 рубль;\n",
    " * сообщение: 1 рубль;\n",
    " * 1 Гб интернет-трафика: 150 рублей.\n"
   ]
  },
  {
   "cell_type": "markdown",
   "metadata": {},
   "source": [
    "## План работы\n",
    "1. Открыть файлы с данными и изучить общую информацию\n",
    " * /datasets/calls.csv\n",
    " * /datasets/internet.csv\n",
    " * /datasets/messages.csv\n",
    " * /datasets/tariffs.csv\n",
    " * /datasets/users.csv\n",
    "\n",
    "2. Подготовить данные\n",
    "    1. Привести данные к нужным типам\n",
    "    2. Найти и исправить ошибки в данных, если они есть\n",
    "    3. Выполнить расчёт для каждого пользователя:\n",
    "        1. количество сделанных звонков и израсходованных минут разговора по месяцам\n",
    "        2. количество отправленных сообщений по месяцам\n",
    "        3. объем израсходованного интернет-трафика по месяцам\n",
    "        4. помесячную выручку с каждого пользователя\n",
    "3. Проанализировать данные\n",
    "    1. Выполнить описание клиентов, исходя из выборки по объёмам минут, смс и трафика: среднее, дисперсия и стандартное отклонение.\n",
    "    2. Построить гистограммы и описать распределения\n",
    "4. Выполнить проверку двух гипотез\n",
    "    1. Средняя выручка пользователей тарифов «Ультра» и «Смарт» различаются\n",
    "    2. Средняя выручка пользователи из Москвы отличается от выручки пользователей из других регионов\n",
    "5. Общий вывод"
   ]
  },
  {
   "cell_type": "markdown",
   "metadata": {},
   "source": [
    "## Знакомство с данными"
   ]
  },
  {
   "cell_type": "markdown",
   "metadata": {},
   "source": [
    "### Загрузка данных"
   ]
  },
  {
   "cell_type": "code",
   "execution_count": 1,
   "metadata": {},
   "outputs": [],
   "source": [
    "# Импорт необходимых в работе библиотек\n",
    "import pandas as pd\n",
    "import numpy as np\n",
    "from matplotlib import pyplot as plt\n",
    "import matplotlib\n",
    "import math\n",
    "from scipy import stats as st"
   ]
  },
  {
   "cell_type": "code",
   "execution_count": 2,
   "metadata": {},
   "outputs": [],
   "source": [
    "# Функция, выводящая основную информацию по таблице\n",
    "def acquaintance(df):\n",
    "    display(df.sample(5))  # случайные 5 строк\n",
    "    print(df.info())  # общая информация\n",
    "    display(df.describe().T)  # описание по числовым значениям\n",
    "    print('Пропуски:')\n",
    "    print(df.isna().sum())\n",
    "    print()\n",
    "    print('Дубликаты:', df.duplicated().sum())"
   ]
  },
  {
   "cell_type": "markdown",
   "metadata": {},
   "source": [
    "#### Таблица `calls`"
   ]
  },
  {
   "cell_type": "markdown",
   "metadata": {},
   "source": [
    "Таблица должна быть представлена столбцами:\n",
    "1. id — уникальный номер звонка\n",
    "2. call_date — дата звонка\n",
    "3. duration — длительность звонка в минутах\n",
    "4. user_id — идентификатор пользователя, сделавшего звонок"
   ]
  },
  {
   "cell_type": "code",
   "execution_count": 3,
   "metadata": {},
   "outputs": [
    {
     "data": {
      "text/html": [
       "<div>\n",
       "<style scoped>\n",
       "    .dataframe tbody tr th:only-of-type {\n",
       "        vertical-align: middle;\n",
       "    }\n",
       "\n",
       "    .dataframe tbody tr th {\n",
       "        vertical-align: top;\n",
       "    }\n",
       "\n",
       "    .dataframe thead th {\n",
       "        text-align: right;\n",
       "    }\n",
       "</style>\n",
       "<table border=\"1\" class=\"dataframe\">\n",
       "  <thead>\n",
       "    <tr style=\"text-align: right;\">\n",
       "      <th></th>\n",
       "      <th>id</th>\n",
       "      <th>call_date</th>\n",
       "      <th>duration</th>\n",
       "      <th>user_id</th>\n",
       "    </tr>\n",
       "  </thead>\n",
       "  <tbody>\n",
       "    <tr>\n",
       "      <td>196998</td>\n",
       "      <td>1482_365</td>\n",
       "      <td>2018-07-23</td>\n",
       "      <td>0.00</td>\n",
       "      <td>1482</td>\n",
       "    </tr>\n",
       "    <tr>\n",
       "      <td>66789</td>\n",
       "      <td>1169_248</td>\n",
       "      <td>2018-09-21</td>\n",
       "      <td>0.00</td>\n",
       "      <td>1169</td>\n",
       "    </tr>\n",
       "    <tr>\n",
       "      <td>90852</td>\n",
       "      <td>1227_272</td>\n",
       "      <td>2018-04-18</td>\n",
       "      <td>0.00</td>\n",
       "      <td>1227</td>\n",
       "    </tr>\n",
       "    <tr>\n",
       "      <td>26283</td>\n",
       "      <td>1065_370</td>\n",
       "      <td>2018-03-14</td>\n",
       "      <td>6.40</td>\n",
       "      <td>1065</td>\n",
       "    </tr>\n",
       "    <tr>\n",
       "      <td>135611</td>\n",
       "      <td>1346_161</td>\n",
       "      <td>2018-07-06</td>\n",
       "      <td>3.54</td>\n",
       "      <td>1346</td>\n",
       "    </tr>\n",
       "  </tbody>\n",
       "</table>\n",
       "</div>"
      ],
      "text/plain": [
       "              id   call_date  duration  user_id\n",
       "196998  1482_365  2018-07-23      0.00     1482\n",
       "66789   1169_248  2018-09-21      0.00     1169\n",
       "90852   1227_272  2018-04-18      0.00     1227\n",
       "26283   1065_370  2018-03-14      6.40     1065\n",
       "135611  1346_161  2018-07-06      3.54     1346"
      ]
     },
     "metadata": {},
     "output_type": "display_data"
    },
    {
     "name": "stdout",
     "output_type": "stream",
     "text": [
      "<class 'pandas.core.frame.DataFrame'>\n",
      "RangeIndex: 202607 entries, 0 to 202606\n",
      "Data columns (total 4 columns):\n",
      "id           202607 non-null object\n",
      "call_date    202607 non-null object\n",
      "duration     202607 non-null float64\n",
      "user_id      202607 non-null int64\n",
      "dtypes: float64(1), int64(1), object(2)\n",
      "memory usage: 6.2+ MB\n",
      "None\n"
     ]
    },
    {
     "data": {
      "text/html": [
       "<div>\n",
       "<style scoped>\n",
       "    .dataframe tbody tr th:only-of-type {\n",
       "        vertical-align: middle;\n",
       "    }\n",
       "\n",
       "    .dataframe tbody tr th {\n",
       "        vertical-align: top;\n",
       "    }\n",
       "\n",
       "    .dataframe thead th {\n",
       "        text-align: right;\n",
       "    }\n",
       "</style>\n",
       "<table border=\"1\" class=\"dataframe\">\n",
       "  <thead>\n",
       "    <tr style=\"text-align: right;\">\n",
       "      <th></th>\n",
       "      <th>count</th>\n",
       "      <th>mean</th>\n",
       "      <th>std</th>\n",
       "      <th>min</th>\n",
       "      <th>25%</th>\n",
       "      <th>50%</th>\n",
       "      <th>75%</th>\n",
       "      <th>max</th>\n",
       "    </tr>\n",
       "  </thead>\n",
       "  <tbody>\n",
       "    <tr>\n",
       "      <td>duration</td>\n",
       "      <td>202607.0</td>\n",
       "      <td>6.755887</td>\n",
       "      <td>5.843365</td>\n",
       "      <td>0.0</td>\n",
       "      <td>1.3</td>\n",
       "      <td>6.0</td>\n",
       "      <td>10.7</td>\n",
       "      <td>38.0</td>\n",
       "    </tr>\n",
       "    <tr>\n",
       "      <td>user_id</td>\n",
       "      <td>202607.0</td>\n",
       "      <td>1253.940619</td>\n",
       "      <td>144.722751</td>\n",
       "      <td>1000.0</td>\n",
       "      <td>1126.0</td>\n",
       "      <td>1260.0</td>\n",
       "      <td>1379.0</td>\n",
       "      <td>1499.0</td>\n",
       "    </tr>\n",
       "  </tbody>\n",
       "</table>\n",
       "</div>"
      ],
      "text/plain": [
       "             count         mean         std     min     25%     50%     75%  \\\n",
       "duration  202607.0     6.755887    5.843365     0.0     1.3     6.0    10.7   \n",
       "user_id   202607.0  1253.940619  144.722751  1000.0  1126.0  1260.0  1379.0   \n",
       "\n",
       "             max  \n",
       "duration    38.0  \n",
       "user_id   1499.0  "
      ]
     },
     "metadata": {},
     "output_type": "display_data"
    },
    {
     "name": "stdout",
     "output_type": "stream",
     "text": [
      "Пропуски:\n",
      "id           0\n",
      "call_date    0\n",
      "duration     0\n",
      "user_id      0\n",
      "dtype: int64\n",
      "\n",
      "Дубликаты: 0\n"
     ]
    }
   ],
   "source": [
    "calls = pd.read_csv('/datasets/calls.csv')\n",
    "acquaintance(calls)"
   ]
  },
  {
   "cell_type": "markdown",
   "metadata": {},
   "source": [
    "В рамках предварительного анализа:\n",
    "1. В представленной таблице отсутствуют пропуски данных\n",
    "2. Продолжительность звонков составляет от 0 до 38 минут, что выглядит адекватным.\n",
    "3. Пользователи представлены с id от 1000 до 1499.\n",
    "4. В таблице требуется привести дату звонка к формату datetime"
   ]
  },
  {
   "cell_type": "markdown",
   "metadata": {},
   "source": [
    "#### Таблица `internet`"
   ]
  },
  {
   "cell_type": "markdown",
   "metadata": {},
   "source": [
    "Таблица должна быть представлена столбцами:\n",
    "1. id — уникальный номер сессии\n",
    "2. mb_used — объём потраченного за сессию интернет-трафика (в мегабайтах)\n",
    "3. session_date — дата интернет-сессии\n",
    "4. user_id — идентификатор пользователя"
   ]
  },
  {
   "cell_type": "code",
   "execution_count": 4,
   "metadata": {},
   "outputs": [
    {
     "data": {
      "text/html": [
       "<div>\n",
       "<style scoped>\n",
       "    .dataframe tbody tr th:only-of-type {\n",
       "        vertical-align: middle;\n",
       "    }\n",
       "\n",
       "    .dataframe tbody tr th {\n",
       "        vertical-align: top;\n",
       "    }\n",
       "\n",
       "    .dataframe thead th {\n",
       "        text-align: right;\n",
       "    }\n",
       "</style>\n",
       "<table border=\"1\" class=\"dataframe\">\n",
       "  <thead>\n",
       "    <tr style=\"text-align: right;\">\n",
       "      <th></th>\n",
       "      <th>Unnamed: 0</th>\n",
       "      <th>id</th>\n",
       "      <th>mb_used</th>\n",
       "      <th>session_date</th>\n",
       "      <th>user_id</th>\n",
       "    </tr>\n",
       "  </thead>\n",
       "  <tbody>\n",
       "    <tr>\n",
       "      <td>105642</td>\n",
       "      <td>105642</td>\n",
       "      <td>1357_69</td>\n",
       "      <td>130.56</td>\n",
       "      <td>2018-09-08</td>\n",
       "      <td>1357</td>\n",
       "    </tr>\n",
       "    <tr>\n",
       "      <td>123936</td>\n",
       "      <td>123936</td>\n",
       "      <td>1416_198</td>\n",
       "      <td>507.48</td>\n",
       "      <td>2018-11-30</td>\n",
       "      <td>1416</td>\n",
       "    </tr>\n",
       "    <tr>\n",
       "      <td>96495</td>\n",
       "      <td>96495</td>\n",
       "      <td>1325_154</td>\n",
       "      <td>785.26</td>\n",
       "      <td>2018-08-17</td>\n",
       "      <td>1325</td>\n",
       "    </tr>\n",
       "    <tr>\n",
       "      <td>73952</td>\n",
       "      <td>73952</td>\n",
       "      <td>1249_111</td>\n",
       "      <td>82.17</td>\n",
       "      <td>2018-12-10</td>\n",
       "      <td>1249</td>\n",
       "    </tr>\n",
       "    <tr>\n",
       "      <td>3405</td>\n",
       "      <td>3405</td>\n",
       "      <td>1011_272</td>\n",
       "      <td>753.97</td>\n",
       "      <td>2018-09-14</td>\n",
       "      <td>1011</td>\n",
       "    </tr>\n",
       "  </tbody>\n",
       "</table>\n",
       "</div>"
      ],
      "text/plain": [
       "        Unnamed: 0        id  mb_used session_date  user_id\n",
       "105642      105642   1357_69   130.56   2018-09-08     1357\n",
       "123936      123936  1416_198   507.48   2018-11-30     1416\n",
       "96495        96495  1325_154   785.26   2018-08-17     1325\n",
       "73952        73952  1249_111    82.17   2018-12-10     1249\n",
       "3405          3405  1011_272   753.97   2018-09-14     1011"
      ]
     },
     "metadata": {},
     "output_type": "display_data"
    },
    {
     "name": "stdout",
     "output_type": "stream",
     "text": [
      "<class 'pandas.core.frame.DataFrame'>\n",
      "RangeIndex: 149396 entries, 0 to 149395\n",
      "Data columns (total 5 columns):\n",
      "Unnamed: 0      149396 non-null int64\n",
      "id              149396 non-null object\n",
      "mb_used         149396 non-null float64\n",
      "session_date    149396 non-null object\n",
      "user_id         149396 non-null int64\n",
      "dtypes: float64(1), int64(2), object(2)\n",
      "memory usage: 5.7+ MB\n",
      "None\n"
     ]
    },
    {
     "data": {
      "text/html": [
       "<div>\n",
       "<style scoped>\n",
       "    .dataframe tbody tr th:only-of-type {\n",
       "        vertical-align: middle;\n",
       "    }\n",
       "\n",
       "    .dataframe tbody tr th {\n",
       "        vertical-align: top;\n",
       "    }\n",
       "\n",
       "    .dataframe thead th {\n",
       "        text-align: right;\n",
       "    }\n",
       "</style>\n",
       "<table border=\"1\" class=\"dataframe\">\n",
       "  <thead>\n",
       "    <tr style=\"text-align: right;\">\n",
       "      <th></th>\n",
       "      <th>count</th>\n",
       "      <th>mean</th>\n",
       "      <th>std</th>\n",
       "      <th>min</th>\n",
       "      <th>25%</th>\n",
       "      <th>50%</th>\n",
       "      <th>75%</th>\n",
       "      <th>max</th>\n",
       "    </tr>\n",
       "  </thead>\n",
       "  <tbody>\n",
       "    <tr>\n",
       "      <td>Unnamed: 0</td>\n",
       "      <td>149396.0</td>\n",
       "      <td>74697.500000</td>\n",
       "      <td>43127.054745</td>\n",
       "      <td>0.0</td>\n",
       "      <td>37348.7500</td>\n",
       "      <td>74697.500</td>\n",
       "      <td>112046.2500</td>\n",
       "      <td>149395.00</td>\n",
       "    </tr>\n",
       "    <tr>\n",
       "      <td>mb_used</td>\n",
       "      <td>149396.0</td>\n",
       "      <td>370.192426</td>\n",
       "      <td>278.300951</td>\n",
       "      <td>0.0</td>\n",
       "      <td>138.1875</td>\n",
       "      <td>348.015</td>\n",
       "      <td>559.5525</td>\n",
       "      <td>1724.83</td>\n",
       "    </tr>\n",
       "    <tr>\n",
       "      <td>user_id</td>\n",
       "      <td>149396.0</td>\n",
       "      <td>1252.099842</td>\n",
       "      <td>144.050823</td>\n",
       "      <td>1000.0</td>\n",
       "      <td>1130.0000</td>\n",
       "      <td>1251.000</td>\n",
       "      <td>1380.0000</td>\n",
       "      <td>1499.00</td>\n",
       "    </tr>\n",
       "  </tbody>\n",
       "</table>\n",
       "</div>"
      ],
      "text/plain": [
       "               count          mean           std     min         25%  \\\n",
       "Unnamed: 0  149396.0  74697.500000  43127.054745     0.0  37348.7500   \n",
       "mb_used     149396.0    370.192426    278.300951     0.0    138.1875   \n",
       "user_id     149396.0   1252.099842    144.050823  1000.0   1130.0000   \n",
       "\n",
       "                  50%          75%        max  \n",
       "Unnamed: 0  74697.500  112046.2500  149395.00  \n",
       "mb_used       348.015     559.5525    1724.83  \n",
       "user_id      1251.000    1380.0000    1499.00  "
      ]
     },
     "metadata": {},
     "output_type": "display_data"
    },
    {
     "name": "stdout",
     "output_type": "stream",
     "text": [
      "Пропуски:\n",
      "Unnamed: 0      0\n",
      "id              0\n",
      "mb_used         0\n",
      "session_date    0\n",
      "user_id         0\n",
      "dtype: int64\n",
      "\n",
      "Дубликаты: 0\n"
     ]
    }
   ],
   "source": [
    "internet = pd.read_csv('/datasets/internet.csv')\n",
    "acquaintance(internet)"
   ]
  },
  {
   "cell_type": "markdown",
   "metadata": {},
   "source": [
    "В рамках предварительного анализа:\n",
    "1. В представленной таблице отсутствуют пропуски данных\n",
    "2. Объём потраченного за сессию трафика составляет от 0 до 1724 MB, что выглядит адекватным.\n",
    "3. Пользователи представлены с id от 1000 до 1499.\n",
    "4. В таблице требуется удалить стоблец `Unnamed:0`, так как он дублирует индексы и перевести столбец `session_date` в формат datetime."
   ]
  },
  {
   "cell_type": "markdown",
   "metadata": {},
   "source": [
    "#### Таблица `messages`"
   ]
  },
  {
   "cell_type": "markdown",
   "metadata": {},
   "source": [
    "Таблица должна быть представлена столбцами:\n",
    "1. id — уникальный номер сообщения\n",
    "2. message_date — дата сообщения\n",
    "3. user_id — идентификатор пользователя, отправившего сообщение"
   ]
  },
  {
   "cell_type": "code",
   "execution_count": 5,
   "metadata": {},
   "outputs": [
    {
     "data": {
      "text/html": [
       "<div>\n",
       "<style scoped>\n",
       "    .dataframe tbody tr th:only-of-type {\n",
       "        vertical-align: middle;\n",
       "    }\n",
       "\n",
       "    .dataframe tbody tr th {\n",
       "        vertical-align: top;\n",
       "    }\n",
       "\n",
       "    .dataframe thead th {\n",
       "        text-align: right;\n",
       "    }\n",
       "</style>\n",
       "<table border=\"1\" class=\"dataframe\">\n",
       "  <thead>\n",
       "    <tr style=\"text-align: right;\">\n",
       "      <th></th>\n",
       "      <th>id</th>\n",
       "      <th>message_date</th>\n",
       "      <th>user_id</th>\n",
       "    </tr>\n",
       "  </thead>\n",
       "  <tbody>\n",
       "    <tr>\n",
       "      <td>99050</td>\n",
       "      <td>1404_190</td>\n",
       "      <td>2018-12-18</td>\n",
       "      <td>1404</td>\n",
       "    </tr>\n",
       "    <tr>\n",
       "      <td>32796</td>\n",
       "      <td>1145_449</td>\n",
       "      <td>2018-12-07</td>\n",
       "      <td>1145</td>\n",
       "    </tr>\n",
       "    <tr>\n",
       "      <td>60503</td>\n",
       "      <td>1266_111</td>\n",
       "      <td>2018-07-21</td>\n",
       "      <td>1266</td>\n",
       "    </tr>\n",
       "    <tr>\n",
       "      <td>80719</td>\n",
       "      <td>1337_37</td>\n",
       "      <td>2018-05-10</td>\n",
       "      <td>1337</td>\n",
       "    </tr>\n",
       "    <tr>\n",
       "      <td>77354</td>\n",
       "      <td>1325_93</td>\n",
       "      <td>2018-09-11</td>\n",
       "      <td>1325</td>\n",
       "    </tr>\n",
       "  </tbody>\n",
       "</table>\n",
       "</div>"
      ],
      "text/plain": [
       "             id message_date  user_id\n",
       "99050  1404_190   2018-12-18     1404\n",
       "32796  1145_449   2018-12-07     1145\n",
       "60503  1266_111   2018-07-21     1266\n",
       "80719   1337_37   2018-05-10     1337\n",
       "77354   1325_93   2018-09-11     1325"
      ]
     },
     "metadata": {},
     "output_type": "display_data"
    },
    {
     "name": "stdout",
     "output_type": "stream",
     "text": [
      "<class 'pandas.core.frame.DataFrame'>\n",
      "RangeIndex: 123036 entries, 0 to 123035\n",
      "Data columns (total 3 columns):\n",
      "id              123036 non-null object\n",
      "message_date    123036 non-null object\n",
      "user_id         123036 non-null int64\n",
      "dtypes: int64(1), object(2)\n",
      "memory usage: 2.8+ MB\n",
      "None\n"
     ]
    },
    {
     "data": {
      "text/html": [
       "<div>\n",
       "<style scoped>\n",
       "    .dataframe tbody tr th:only-of-type {\n",
       "        vertical-align: middle;\n",
       "    }\n",
       "\n",
       "    .dataframe tbody tr th {\n",
       "        vertical-align: top;\n",
       "    }\n",
       "\n",
       "    .dataframe thead th {\n",
       "        text-align: right;\n",
       "    }\n",
       "</style>\n",
       "<table border=\"1\" class=\"dataframe\">\n",
       "  <thead>\n",
       "    <tr style=\"text-align: right;\">\n",
       "      <th></th>\n",
       "      <th>count</th>\n",
       "      <th>mean</th>\n",
       "      <th>std</th>\n",
       "      <th>min</th>\n",
       "      <th>25%</th>\n",
       "      <th>50%</th>\n",
       "      <th>75%</th>\n",
       "      <th>max</th>\n",
       "    </tr>\n",
       "  </thead>\n",
       "  <tbody>\n",
       "    <tr>\n",
       "      <td>user_id</td>\n",
       "      <td>123036.0</td>\n",
       "      <td>1256.98941</td>\n",
       "      <td>143.523967</td>\n",
       "      <td>1000.0</td>\n",
       "      <td>1134.0</td>\n",
       "      <td>1271.0</td>\n",
       "      <td>1381.0</td>\n",
       "      <td>1499.0</td>\n",
       "    </tr>\n",
       "  </tbody>\n",
       "</table>\n",
       "</div>"
      ],
      "text/plain": [
       "            count        mean         std     min     25%     50%     75%  \\\n",
       "user_id  123036.0  1256.98941  143.523967  1000.0  1134.0  1271.0  1381.0   \n",
       "\n",
       "            max  \n",
       "user_id  1499.0  "
      ]
     },
     "metadata": {},
     "output_type": "display_data"
    },
    {
     "name": "stdout",
     "output_type": "stream",
     "text": [
      "Пропуски:\n",
      "id              0\n",
      "message_date    0\n",
      "user_id         0\n",
      "dtype: int64\n",
      "\n",
      "Дубликаты: 0\n"
     ]
    }
   ],
   "source": [
    "messages = pd.read_csv('/datasets/messages.csv')\n",
    "acquaintance(messages)"
   ]
  },
  {
   "cell_type": "markdown",
   "metadata": {},
   "source": [
    "В рамках предварительного анализа:\n",
    "1. В представленной таблице отсутствуют пропуски данных\n",
    "2. Пользователи представлены с id от 1000 до 1499.\n",
    "4. В таблице требуется перевести столбец `message_date` в формат datetime."
   ]
  },
  {
   "cell_type": "markdown",
   "metadata": {},
   "source": [
    "#### Таблица `tariffs`"
   ]
  },
  {
   "cell_type": "markdown",
   "metadata": {},
   "source": [
    "Таблица должна быть представлена столбцами:\n",
    "1. tariff_name — название тарифа\n",
    "2. rub_monthly_fee — ежемесячная абонентская плата в рублях\n",
    "3. minutes_included — количество минут разговора в месяц, включённых в абонентскую плату\n",
    "4. messages_included — количество сообщений в месяц, включённых в абонентскую плату\n",
    "5. mb_per_month_included — объём интернет-трафика, включённого в абонентскую плату (в мегабайтах)\n",
    "6. rub_per_minute — стоимость минуты разговора сверх тарифного пакета (например, если в тарифе 100 минут разговора в месяц, то со 101 минуты будет взиматься плата)\n",
    "7. rub_per_message — стоимость отправки сообщения сверх тарифного пакета\n",
    "8. rub_per_gb — стоимость дополнительного гигабайта интернет-трафика сверх тарифного пакета (1 гигабайт = 1024 мегабайта)"
   ]
  },
  {
   "cell_type": "code",
   "execution_count": 6,
   "metadata": {},
   "outputs": [
    {
     "data": {
      "text/html": [
       "<div>\n",
       "<style scoped>\n",
       "    .dataframe tbody tr th:only-of-type {\n",
       "        vertical-align: middle;\n",
       "    }\n",
       "\n",
       "    .dataframe tbody tr th {\n",
       "        vertical-align: top;\n",
       "    }\n",
       "\n",
       "    .dataframe thead th {\n",
       "        text-align: right;\n",
       "    }\n",
       "</style>\n",
       "<table border=\"1\" class=\"dataframe\">\n",
       "  <thead>\n",
       "    <tr style=\"text-align: right;\">\n",
       "      <th></th>\n",
       "      <th>messages_included</th>\n",
       "      <th>mb_per_month_included</th>\n",
       "      <th>minutes_included</th>\n",
       "      <th>rub_monthly_fee</th>\n",
       "      <th>rub_per_gb</th>\n",
       "      <th>rub_per_message</th>\n",
       "      <th>rub_per_minute</th>\n",
       "      <th>tariff_name</th>\n",
       "    </tr>\n",
       "  </thead>\n",
       "  <tbody>\n",
       "    <tr>\n",
       "      <td>0</td>\n",
       "      <td>50</td>\n",
       "      <td>15360</td>\n",
       "      <td>500</td>\n",
       "      <td>550</td>\n",
       "      <td>200</td>\n",
       "      <td>3</td>\n",
       "      <td>3</td>\n",
       "      <td>smart</td>\n",
       "    </tr>\n",
       "    <tr>\n",
       "      <td>1</td>\n",
       "      <td>1000</td>\n",
       "      <td>30720</td>\n",
       "      <td>3000</td>\n",
       "      <td>1950</td>\n",
       "      <td>150</td>\n",
       "      <td>1</td>\n",
       "      <td>1</td>\n",
       "      <td>ultra</td>\n",
       "    </tr>\n",
       "  </tbody>\n",
       "</table>\n",
       "</div>"
      ],
      "text/plain": [
       "   messages_included  mb_per_month_included  minutes_included  \\\n",
       "0                 50                  15360               500   \n",
       "1               1000                  30720              3000   \n",
       "\n",
       "   rub_monthly_fee  rub_per_gb  rub_per_message  rub_per_minute tariff_name  \n",
       "0              550         200                3               3       smart  \n",
       "1             1950         150                1               1       ultra  "
      ]
     },
     "execution_count": 6,
     "metadata": {},
     "output_type": "execute_result"
    }
   ],
   "source": [
    "tariffs = pd.read_csv('/datasets/tariffs.csv')\n",
    "tariffs"
   ]
  },
  {
   "cell_type": "markdown",
   "metadata": {},
   "source": [
    "В рамках предварительного анализа:\n",
    "1. В представленной таблице отсутствуют пропуски данных\n",
    "2. Данные соответствуют ранее представленной информации"
   ]
  },
  {
   "cell_type": "markdown",
   "metadata": {},
   "source": [
    "#### Таблица `users`"
   ]
  },
  {
   "cell_type": "markdown",
   "metadata": {},
   "source": [
    "Таблица должна быть представлена столбцами:\n",
    "1. user_id — уникальный идентификатор пользователя\n",
    "2. first_name — имя пользователя\n",
    "3. last_name — фамилия пользователя\n",
    "4. age — возраст пользователя (годы)\n",
    "5. reg_date — дата подключения тарифа (день, месяц, год)\n",
    "6. churn_date — дата прекращения пользования тарифом (если значение пропущено, то тариф ещё действовал на момент выгрузки данных)\n",
    "7. city — город проживания пользователя\n",
    "8. tarif — название тарифного плана"
   ]
  },
  {
   "cell_type": "code",
   "execution_count": 7,
   "metadata": {},
   "outputs": [
    {
     "data": {
      "text/html": [
       "<div>\n",
       "<style scoped>\n",
       "    .dataframe tbody tr th:only-of-type {\n",
       "        vertical-align: middle;\n",
       "    }\n",
       "\n",
       "    .dataframe tbody tr th {\n",
       "        vertical-align: top;\n",
       "    }\n",
       "\n",
       "    .dataframe thead th {\n",
       "        text-align: right;\n",
       "    }\n",
       "</style>\n",
       "<table border=\"1\" class=\"dataframe\">\n",
       "  <thead>\n",
       "    <tr style=\"text-align: right;\">\n",
       "      <th></th>\n",
       "      <th>user_id</th>\n",
       "      <th>age</th>\n",
       "      <th>churn_date</th>\n",
       "      <th>city</th>\n",
       "      <th>first_name</th>\n",
       "      <th>last_name</th>\n",
       "      <th>reg_date</th>\n",
       "      <th>tariff</th>\n",
       "    </tr>\n",
       "  </thead>\n",
       "  <tbody>\n",
       "    <tr>\n",
       "      <td>394</td>\n",
       "      <td>1394</td>\n",
       "      <td>47</td>\n",
       "      <td>NaN</td>\n",
       "      <td>Орёл</td>\n",
       "      <td>Ксения</td>\n",
       "      <td>Жукова</td>\n",
       "      <td>2018-01-12</td>\n",
       "      <td>smart</td>\n",
       "    </tr>\n",
       "    <tr>\n",
       "      <td>442</td>\n",
       "      <td>1442</td>\n",
       "      <td>48</td>\n",
       "      <td>NaN</td>\n",
       "      <td>Ульяновск</td>\n",
       "      <td>Клавдия</td>\n",
       "      <td>Ковалева</td>\n",
       "      <td>2018-11-13</td>\n",
       "      <td>ultra</td>\n",
       "    </tr>\n",
       "    <tr>\n",
       "      <td>286</td>\n",
       "      <td>1286</td>\n",
       "      <td>19</td>\n",
       "      <td>NaN</td>\n",
       "      <td>Москва</td>\n",
       "      <td>Рашид</td>\n",
       "      <td>Троицкий</td>\n",
       "      <td>2018-11-27</td>\n",
       "      <td>smart</td>\n",
       "    </tr>\n",
       "    <tr>\n",
       "      <td>290</td>\n",
       "      <td>1290</td>\n",
       "      <td>68</td>\n",
       "      <td>NaN</td>\n",
       "      <td>Нижний Новгород</td>\n",
       "      <td>Арсений</td>\n",
       "      <td>Безруков</td>\n",
       "      <td>2018-05-11</td>\n",
       "      <td>smart</td>\n",
       "    </tr>\n",
       "    <tr>\n",
       "      <td>487</td>\n",
       "      <td>1487</td>\n",
       "      <td>72</td>\n",
       "      <td>NaN</td>\n",
       "      <td>Кострома</td>\n",
       "      <td>Рудольф</td>\n",
       "      <td>Кириллов</td>\n",
       "      <td>2018-08-13</td>\n",
       "      <td>smart</td>\n",
       "    </tr>\n",
       "  </tbody>\n",
       "</table>\n",
       "</div>"
      ],
      "text/plain": [
       "     user_id  age churn_date             city first_name last_name  \\\n",
       "394     1394   47        NaN             Орёл     Ксения    Жукова   \n",
       "442     1442   48        NaN        Ульяновск    Клавдия  Ковалева   \n",
       "286     1286   19        NaN           Москва      Рашид  Троицкий   \n",
       "290     1290   68        NaN  Нижний Новгород    Арсений  Безруков   \n",
       "487     1487   72        NaN         Кострома    Рудольф  Кириллов   \n",
       "\n",
       "       reg_date tariff  \n",
       "394  2018-01-12  smart  \n",
       "442  2018-11-13  ultra  \n",
       "286  2018-11-27  smart  \n",
       "290  2018-05-11  smart  \n",
       "487  2018-08-13  smart  "
      ]
     },
     "metadata": {},
     "output_type": "display_data"
    },
    {
     "name": "stdout",
     "output_type": "stream",
     "text": [
      "<class 'pandas.core.frame.DataFrame'>\n",
      "RangeIndex: 500 entries, 0 to 499\n",
      "Data columns (total 8 columns):\n",
      "user_id       500 non-null int64\n",
      "age           500 non-null int64\n",
      "churn_date    38 non-null object\n",
      "city          500 non-null object\n",
      "first_name    500 non-null object\n",
      "last_name     500 non-null object\n",
      "reg_date      500 non-null object\n",
      "tariff        500 non-null object\n",
      "dtypes: int64(2), object(6)\n",
      "memory usage: 31.4+ KB\n",
      "None\n"
     ]
    },
    {
     "data": {
      "text/html": [
       "<div>\n",
       "<style scoped>\n",
       "    .dataframe tbody tr th:only-of-type {\n",
       "        vertical-align: middle;\n",
       "    }\n",
       "\n",
       "    .dataframe tbody tr th {\n",
       "        vertical-align: top;\n",
       "    }\n",
       "\n",
       "    .dataframe thead th {\n",
       "        text-align: right;\n",
       "    }\n",
       "</style>\n",
       "<table border=\"1\" class=\"dataframe\">\n",
       "  <thead>\n",
       "    <tr style=\"text-align: right;\">\n",
       "      <th></th>\n",
       "      <th>count</th>\n",
       "      <th>mean</th>\n",
       "      <th>std</th>\n",
       "      <th>min</th>\n",
       "      <th>25%</th>\n",
       "      <th>50%</th>\n",
       "      <th>75%</th>\n",
       "      <th>max</th>\n",
       "    </tr>\n",
       "  </thead>\n",
       "  <tbody>\n",
       "    <tr>\n",
       "      <td>user_id</td>\n",
       "      <td>500.0</td>\n",
       "      <td>1249.500</td>\n",
       "      <td>144.481833</td>\n",
       "      <td>1000.0</td>\n",
       "      <td>1124.75</td>\n",
       "      <td>1249.5</td>\n",
       "      <td>1374.25</td>\n",
       "      <td>1499.0</td>\n",
       "    </tr>\n",
       "    <tr>\n",
       "      <td>age</td>\n",
       "      <td>500.0</td>\n",
       "      <td>46.588</td>\n",
       "      <td>16.667630</td>\n",
       "      <td>18.0</td>\n",
       "      <td>32.00</td>\n",
       "      <td>46.0</td>\n",
       "      <td>62.00</td>\n",
       "      <td>75.0</td>\n",
       "    </tr>\n",
       "  </tbody>\n",
       "</table>\n",
       "</div>"
      ],
      "text/plain": [
       "         count      mean         std     min      25%     50%      75%     max\n",
       "user_id  500.0  1249.500  144.481833  1000.0  1124.75  1249.5  1374.25  1499.0\n",
       "age      500.0    46.588   16.667630    18.0    32.00    46.0    62.00    75.0"
      ]
     },
     "metadata": {},
     "output_type": "display_data"
    },
    {
     "name": "stdout",
     "output_type": "stream",
     "text": [
      "Пропуски:\n",
      "user_id         0\n",
      "age             0\n",
      "churn_date    462\n",
      "city            0\n",
      "first_name      0\n",
      "last_name       0\n",
      "reg_date        0\n",
      "tariff          0\n",
      "dtype: int64\n",
      "\n",
      "Дубликаты: 0\n"
     ]
    }
   ],
   "source": [
    "users = pd.read_csv('/datasets/users.csv')\n",
    "acquaintance(users)"
   ]
  },
  {
   "cell_type": "markdown",
   "metadata": {},
   "source": [
    "Изучим подробнее отдельные столбцы"
   ]
  },
  {
   "cell_type": "code",
   "execution_count": 8,
   "metadata": {
    "scrolled": true
   },
   "outputs": [
    {
     "data": {
      "text/plain": [
       "array(['Краснодар', 'Москва', 'Стерлитамак', 'Новокузнецк',\n",
       "       'Набережные Челны', 'Ульяновск', 'Челябинск', 'Пермь', 'Тюмень',\n",
       "       'Самара', 'Санкт-Петербург', 'Иваново', 'Чебоксары', 'Омск', 'Уфа',\n",
       "       'Томск', 'Чита', 'Мурманск', 'Петрозаводск', 'Тверь',\n",
       "       'Екатеринбург', 'Махачкала', 'Вологда', 'Череповец', 'Ярославль',\n",
       "       'Сочи', 'Хабаровск', 'Ставрополь', 'Рязань', 'Улан-Удэ', 'Тула',\n",
       "       'Саратов', 'Ростов-на-Дону', 'Казань', 'Иркутск', 'Курск',\n",
       "       'Калуга', 'Якутск', 'Астрахань', 'Химки', 'Владикавказ',\n",
       "       'Волгоград', 'Саранск', 'Ижевск', 'Новосибирск', 'Брянск',\n",
       "       'Тольятти', 'Нижний Тагил', 'Орёл', 'Белгород', 'Воронеж',\n",
       "       'Волжский', 'Курган', 'Барнаул', 'Красноярск', 'Архангельск',\n",
       "       'Липецк', 'Кемерово', 'Киров', 'Сургут', 'Пенза', 'Магнитогорск',\n",
       "       'Нижний Новгород', 'Кострома', 'Владивосток', 'Тамбов', 'Балашиха',\n",
       "       'Севастополь', 'Калининград', 'Оренбург', 'Смоленск',\n",
       "       'Нижневартовск', 'Владимир', 'Новороссийск', 'Грозный', 'Подольск'],\n",
       "      dtype=object)"
      ]
     },
     "execution_count": 8,
     "metadata": {},
     "output_type": "execute_result"
    }
   ],
   "source": [
    "users['city'].unique()"
   ]
  },
  {
   "cell_type": "code",
   "execution_count": 9,
   "metadata": {},
   "outputs": [
    {
     "data": {
      "text/plain": [
       "smart    351\n",
       "ultra    149\n",
       "Name: tariff, dtype: int64"
      ]
     },
     "execution_count": 9,
     "metadata": {},
     "output_type": "execute_result"
    }
   ],
   "source": [
    "users['tariff'].value_counts()"
   ]
  },
  {
   "cell_type": "markdown",
   "metadata": {},
   "source": [
    "В рамках предварительного анализа:\n",
    "1. В представленной таблице пропуски данных присутствуют только в столбце `churn_date`, но это обосновано условиями исследования.\n",
    "2. В рамках предварительного анализа аномалии отсутствуют.\n",
    "3. Столбец `reg_date` и `churn_date` необходимо привести к типу данных datetime"
   ]
  },
  {
   "cell_type": "markdown",
   "metadata": {},
   "source": [
    "#### Вывод по разделу"
   ]
  },
  {
   "cell_type": "markdown",
   "metadata": {},
   "source": [
    "1. Выполнено предварительное знакомство с данными.\n",
    "2. Аномалии в данных на данном этапе не выявлены.\n",
    "3. Требуется приведение ряда столбцов к типу datetime\n",
    "4. Часть данных в рамках исследования использовано не будет."
   ]
  },
  {
   "cell_type": "markdown",
   "metadata": {},
   "source": [
    "## Подготовка данных"
   ]
  },
  {
   "cell_type": "markdown",
   "metadata": {},
   "source": [
    "### Приведение данных к нужным типам"
   ]
  },
  {
   "cell_type": "markdown",
   "metadata": {},
   "source": [
    "Приведение столбцов с датами к формату datetime"
   ]
  },
  {
   "cell_type": "code",
   "execution_count": 10,
   "metadata": {},
   "outputs": [],
   "source": [
    "calls['call_date'] = pd.to_datetime(calls['call_date'], format='%Y-%m-%d')\n",
    "internet['session_date'] = pd.to_datetime(internet['session_date'], format='%Y-%m-%d')\n",
    "messages['message_date'] = pd.to_datetime(messages['message_date'], format='%Y-%m-%d')\n",
    "users['churn_date'] = pd.to_datetime(users['churn_date'], format='%Y-%m-%d')\n",
    "users['reg_date'] = pd.to_datetime(users['reg_date'], format='%Y-%m-%d')"
   ]
  },
  {
   "cell_type": "code",
   "execution_count": 11,
   "metadata": {},
   "outputs": [],
   "source": [
    "internet.drop('Unnamed: 0', axis=1, inplace=True)  # удаление столбца с индексами из таблицы internet"
   ]
  },
  {
   "cell_type": "markdown",
   "metadata": {},
   "source": [
    "### Исправление ошибок в данных"
   ]
  },
  {
   "cell_type": "markdown",
   "metadata": {},
   "source": [
    "Ошибки в данных не выявлены."
   ]
  },
  {
   "cell_type": "markdown",
   "metadata": {},
   "source": [
    "### Дорасчётные величины"
   ]
  },
  {
   "cell_type": "markdown",
   "metadata": {},
   "source": [
    "#### Количество сделанных звонков и израсходованных минут разговора по месяцам"
   ]
  },
  {
   "cell_type": "code",
   "execution_count": 12,
   "metadata": {},
   "outputs": [],
   "source": [
    "# добавляем в таблицы столбец с месяцем, в котором был сделан звонок, отправлено сообщение, израсходован интернет трафик\n",
    "calls['month'] = calls['call_date'].dt.month\n",
    "internet['month'] = internet['session_date'].dt.month\n",
    "messages['month'] = messages['message_date'].dt.month"
   ]
  },
  {
   "cell_type": "code",
   "execution_count": 13,
   "metadata": {},
   "outputs": [],
   "source": [
    "# создаем DataFrame data, в который группируем количество сделанных звонков за месяц\n",
    "data = calls.groupby(['user_id', 'month']).count()['call_date'].to_frame()\n",
    "\n",
    "# добавляем израсходованные минуты с окгруглением в большую сторону\n",
    "calls['duration_round'] = calls['duration'].apply(math.ceil)\n",
    "data = data.join(calls.groupby(['user_id', 'month']).sum()['duration_round'], on=['user_id', 'month'], how='outer')\n",
    "\n",
    "# добавляем количество отправленных сообщений\n",
    "data = data.join(messages.groupby(['user_id', 'month']).count()['message_date'], on=['user_id', 'month'], how='outer')\n",
    "\n",
    "# добавляем число израсходованных гигобайт трафика с округлением в большую сторону\n",
    "data = data.join((internet.groupby(['user_id', 'month']).sum()/1024)['mb_used'].apply(math.ceil), on=['user_id', 'month'], how='outer')"
   ]
  },
  {
   "cell_type": "code",
   "execution_count": 14,
   "metadata": {},
   "outputs": [],
   "source": [
    "# Для удобсва работы в качестве индекса в таблице tariffs используем название тарифа\n",
    "tariffs.set_index('tariff_name', inplace=True)\n",
    "\n",
    "# Объём трафика, включенный в тариф переводим в Гбайты\n",
    "tariffs['mb_per_month_included'] = tariffs['mb_per_month_included'] / 1024\n",
    "tariffs.rename(columns={'mb_per_month_included':'gb_per_month_included'}, inplace=True)\n",
    "\n",
    "# Для удобсва работы в качестве индекса в таблице users используем название user_id\n",
    "users.set_index('user_id', inplace=True)"
   ]
  },
  {
   "cell_type": "code",
   "execution_count": 15,
   "metadata": {
    "scrolled": true
   },
   "outputs": [],
   "source": [
    "# переименовываем столбцы для дальнейшей работы\n",
    "data.columns=['calls_count', 'calls_minutes', 'messages_count', 'traffic_gb']\n",
    "\n",
    "# пропуски означают, что абонент не пользовался услугой. Заполним 0\n",
    "data.fillna(0, inplace=True)\n",
    "\n",
    "# приведем значения к целочисленному виду\n",
    "data['calls_count'] = data['calls_count'].astype(int)\n",
    "data['calls_minutes'] = data['calls_minutes'].astype(int)\n",
    "data['messages_count'] = data['messages_count'].astype(int)\n",
    "data['traffic_gb'] = data['traffic_gb'].astype(int)"
   ]
  },
  {
   "cell_type": "code",
   "execution_count": 16,
   "metadata": {},
   "outputs": [],
   "source": [
    "# избавимся от Multiindex\n",
    "data.reset_index(inplace=True)"
   ]
  },
  {
   "cell_type": "code",
   "execution_count": 17,
   "metadata": {},
   "outputs": [],
   "source": [
    "# функция для расчёта стоимости оказанных услуг каждому пользователю за месяц\n",
    "for user in users.index:\n",
    "    tariff = users.loc[user, 'tariff']\n",
    "    data.loc[data['user_id'] == user, 'tariff'] = tariff\n",
    "    # посчитаем обязательный платеж\n",
    "    data.loc[data['user_id'] == user, 'earnings'] = tariffs.loc[tariff, 'rub_monthly_fee'] \n",
    "    \n",
    "    # а также платежи сверх пакета\n",
    "    for column, included, rub_per in zip(['calls_minutes',\n",
    "                                          'messages_count',\n",
    "                                          'traffic_gb'],\n",
    "                                         ['minutes_included',\n",
    "                                          'messages_included',\n",
    "                                          'gb_per_month_included'],\n",
    "                                         ['rub_per_minute',\n",
    "                                          'rub_per_message',\n",
    "                                          'rub_per_gb']):\n",
    "        data.loc[(data['user_id'] == user)\n",
    "                 & (data[column] > tariffs.loc[tariff, included]),\n",
    "                 'earnings'] += (data.loc[(data['user_id'] == user)\n",
    "                                          & (data[column] > tariffs.loc[tariff, included]),\n",
    "                                          column]\n",
    "                                 - tariffs.loc[tariff, included]) * tariffs.loc[tariff, rub_per]"
   ]
  },
  {
   "cell_type": "code",
   "execution_count": 18,
   "metadata": {},
   "outputs": [
    {
     "data": {
      "text/html": [
       "<div>\n",
       "<style scoped>\n",
       "    .dataframe tbody tr th:only-of-type {\n",
       "        vertical-align: middle;\n",
       "    }\n",
       "\n",
       "    .dataframe tbody tr th {\n",
       "        vertical-align: top;\n",
       "    }\n",
       "\n",
       "    .dataframe thead th {\n",
       "        text-align: right;\n",
       "    }\n",
       "</style>\n",
       "<table border=\"1\" class=\"dataframe\">\n",
       "  <thead>\n",
       "    <tr style=\"text-align: right;\">\n",
       "      <th></th>\n",
       "      <th>count</th>\n",
       "      <th>mean</th>\n",
       "      <th>std</th>\n",
       "      <th>min</th>\n",
       "      <th>25%</th>\n",
       "      <th>50%</th>\n",
       "      <th>75%</th>\n",
       "      <th>max</th>\n",
       "    </tr>\n",
       "  </thead>\n",
       "  <tbody>\n",
       "    <tr>\n",
       "      <td>user_id</td>\n",
       "      <td>3214.0</td>\n",
       "      <td>1251.590230</td>\n",
       "      <td>144.659172</td>\n",
       "      <td>1000.0</td>\n",
       "      <td>1125.0</td>\n",
       "      <td>1253.0</td>\n",
       "      <td>1378.75</td>\n",
       "      <td>1499.0</td>\n",
       "    </tr>\n",
       "    <tr>\n",
       "      <td>month</td>\n",
       "      <td>3214.0</td>\n",
       "      <td>8.317362</td>\n",
       "      <td>2.905413</td>\n",
       "      <td>1.0</td>\n",
       "      <td>6.0</td>\n",
       "      <td>9.0</td>\n",
       "      <td>11.00</td>\n",
       "      <td>12.0</td>\n",
       "    </tr>\n",
       "    <tr>\n",
       "      <td>calls_count</td>\n",
       "      <td>3214.0</td>\n",
       "      <td>63.038892</td>\n",
       "      <td>33.236368</td>\n",
       "      <td>0.0</td>\n",
       "      <td>40.0</td>\n",
       "      <td>62.0</td>\n",
       "      <td>82.00</td>\n",
       "      <td>244.0</td>\n",
       "    </tr>\n",
       "    <tr>\n",
       "      <td>calls_minutes</td>\n",
       "      <td>3214.0</td>\n",
       "      <td>451.244866</td>\n",
       "      <td>241.909978</td>\n",
       "      <td>0.0</td>\n",
       "      <td>282.0</td>\n",
       "      <td>443.0</td>\n",
       "      <td>589.00</td>\n",
       "      <td>1673.0</td>\n",
       "    </tr>\n",
       "    <tr>\n",
       "      <td>messages_count</td>\n",
       "      <td>3214.0</td>\n",
       "      <td>38.281269</td>\n",
       "      <td>36.148326</td>\n",
       "      <td>0.0</td>\n",
       "      <td>9.0</td>\n",
       "      <td>30.0</td>\n",
       "      <td>57.00</td>\n",
       "      <td>224.0</td>\n",
       "    </tr>\n",
       "    <tr>\n",
       "      <td>traffic_gb</td>\n",
       "      <td>3214.0</td>\n",
       "      <td>17.299004</td>\n",
       "      <td>7.400584</td>\n",
       "      <td>0.0</td>\n",
       "      <td>13.0</td>\n",
       "      <td>17.0</td>\n",
       "      <td>21.00</td>\n",
       "      <td>49.0</td>\n",
       "    </tr>\n",
       "    <tr>\n",
       "      <td>earnings</td>\n",
       "      <td>3214.0</td>\n",
       "      <td>1529.076229</td>\n",
       "      <td>798.251091</td>\n",
       "      <td>550.0</td>\n",
       "      <td>750.0</td>\n",
       "      <td>1653.5</td>\n",
       "      <td>1950.00</td>\n",
       "      <td>6770.0</td>\n",
       "    </tr>\n",
       "  </tbody>\n",
       "</table>\n",
       "</div>"
      ],
      "text/plain": [
       "                 count         mean         std     min     25%     50%  \\\n",
       "user_id         3214.0  1251.590230  144.659172  1000.0  1125.0  1253.0   \n",
       "month           3214.0     8.317362    2.905413     1.0     6.0     9.0   \n",
       "calls_count     3214.0    63.038892   33.236368     0.0    40.0    62.0   \n",
       "calls_minutes   3214.0   451.244866  241.909978     0.0   282.0   443.0   \n",
       "messages_count  3214.0    38.281269   36.148326     0.0     9.0    30.0   \n",
       "traffic_gb      3214.0    17.299004    7.400584     0.0    13.0    17.0   \n",
       "earnings        3214.0  1529.076229  798.251091   550.0   750.0  1653.5   \n",
       "\n",
       "                    75%     max  \n",
       "user_id         1378.75  1499.0  \n",
       "month             11.00    12.0  \n",
       "calls_count       82.00   244.0  \n",
       "calls_minutes    589.00  1673.0  \n",
       "messages_count    57.00   224.0  \n",
       "traffic_gb        21.00    49.0  \n",
       "earnings        1950.00  6770.0  "
      ]
     },
     "execution_count": 18,
     "metadata": {},
     "output_type": "execute_result"
    }
   ],
   "source": [
    "#Проверка итогового результата на адекватность\n",
    "data.describe().T"
   ]
  },
  {
   "cell_type": "markdown",
   "metadata": {},
   "source": [
    "Результаты расчётов выглядят адекватными."
   ]
  },
  {
   "cell_type": "markdown",
   "metadata": {},
   "source": [
    "## Анализ данных"
   ]
  },
  {
   "cell_type": "markdown",
   "metadata": {},
   "source": [
    "### Анализ использования услуги исходящих вызовов"
   ]
  },
  {
   "cell_type": "code",
   "execution_count": 19,
   "metadata": {
    "scrolled": false
   },
   "outputs": [
    {
     "data": {
      "text/html": [
       "<div>\n",
       "<style scoped>\n",
       "    .dataframe tbody tr th:only-of-type {\n",
       "        vertical-align: middle;\n",
       "    }\n",
       "\n",
       "    .dataframe tbody tr th {\n",
       "        vertical-align: top;\n",
       "    }\n",
       "\n",
       "    .dataframe thead tr th {\n",
       "        text-align: left;\n",
       "    }\n",
       "\n",
       "    .dataframe thead tr:last-of-type th {\n",
       "        text-align: right;\n",
       "    }\n",
       "</style>\n",
       "<table border=\"1\" class=\"dataframe\">\n",
       "  <thead>\n",
       "    <tr>\n",
       "      <th></th>\n",
       "      <th colspan=\"2\" halign=\"left\">mean</th>\n",
       "      <th colspan=\"2\" halign=\"left\">var1</th>\n",
       "      <th colspan=\"2\" halign=\"left\">std1</th>\n",
       "      <th colspan=\"2\" halign=\"left\">min</th>\n",
       "      <th colspan=\"2\" halign=\"left\">max</th>\n",
       "    </tr>\n",
       "    <tr>\n",
       "      <th></th>\n",
       "      <th colspan=\"2\" halign=\"left\">calls_minutes</th>\n",
       "      <th colspan=\"2\" halign=\"left\">calls_minutes</th>\n",
       "      <th colspan=\"2\" halign=\"left\">calls_minutes</th>\n",
       "      <th colspan=\"2\" halign=\"left\">calls_minutes</th>\n",
       "      <th colspan=\"2\" halign=\"left\">calls_minutes</th>\n",
       "    </tr>\n",
       "    <tr>\n",
       "      <th>tariff</th>\n",
       "      <th>smart</th>\n",
       "      <th>ultra</th>\n",
       "      <th>smart</th>\n",
       "      <th>ultra</th>\n",
       "      <th>smart</th>\n",
       "      <th>ultra</th>\n",
       "      <th>smart</th>\n",
       "      <th>ultra</th>\n",
       "      <th>smart</th>\n",
       "      <th>ultra</th>\n",
       "    </tr>\n",
       "    <tr>\n",
       "      <th>month</th>\n",
       "      <th></th>\n",
       "      <th></th>\n",
       "      <th></th>\n",
       "      <th></th>\n",
       "      <th></th>\n",
       "      <th></th>\n",
       "      <th></th>\n",
       "      <th></th>\n",
       "      <th></th>\n",
       "      <th></th>\n",
       "    </tr>\n",
       "  </thead>\n",
       "  <tbody>\n",
       "    <tr>\n",
       "      <td>1</td>\n",
       "      <td>203.852941</td>\n",
       "      <td>428.111111</td>\n",
       "      <td>23787.341355</td>\n",
       "      <td>72769.361111</td>\n",
       "      <td>154.231454</td>\n",
       "      <td>269.757968</td>\n",
       "      <td>0</td>\n",
       "      <td>55</td>\n",
       "      <td>551</td>\n",
       "      <td>861</td>\n",
       "    </tr>\n",
       "    <tr>\n",
       "      <td>2</td>\n",
       "      <td>298.689655</td>\n",
       "      <td>297.125000</td>\n",
       "      <td>36412.287961</td>\n",
       "      <td>87919.679348</td>\n",
       "      <td>190.820041</td>\n",
       "      <td>296.512528</td>\n",
       "      <td>2</td>\n",
       "      <td>0</td>\n",
       "      <td>747</td>\n",
       "      <td>919</td>\n",
       "    </tr>\n",
       "    <tr>\n",
       "      <td>3</td>\n",
       "      <td>390.051948</td>\n",
       "      <td>489.648649</td>\n",
       "      <td>36823.155161</td>\n",
       "      <td>111384.900901</td>\n",
       "      <td>191.893604</td>\n",
       "      <td>333.743765</td>\n",
       "      <td>13</td>\n",
       "      <td>92</td>\n",
       "      <td>822</td>\n",
       "      <td>1609</td>\n",
       "    </tr>\n",
       "    <tr>\n",
       "      <td>4</td>\n",
       "      <td>367.133929</td>\n",
       "      <td>458.018182</td>\n",
       "      <td>34778.207127</td>\n",
       "      <td>71653.870034</td>\n",
       "      <td>186.489161</td>\n",
       "      <td>267.682405</td>\n",
       "      <td>0</td>\n",
       "      <td>0</td>\n",
       "      <td>785</td>\n",
       "      <td>1096</td>\n",
       "    </tr>\n",
       "    <tr>\n",
       "      <td>5</td>\n",
       "      <td>387.361702</td>\n",
       "      <td>510.328358</td>\n",
       "      <td>34820.061094</td>\n",
       "      <td>83870.193578</td>\n",
       "      <td>186.601343</td>\n",
       "      <td>289.603511</td>\n",
       "      <td>2</td>\n",
       "      <td>0</td>\n",
       "      <td>820</td>\n",
       "      <td>1232</td>\n",
       "    </tr>\n",
       "    <tr>\n",
       "      <td>6</td>\n",
       "      <td>395.640244</td>\n",
       "      <td>479.702381</td>\n",
       "      <td>30742.918861</td>\n",
       "      <td>91535.946500</td>\n",
       "      <td>175.336587</td>\n",
       "      <td>302.549081</td>\n",
       "      <td>0</td>\n",
       "      <td>0</td>\n",
       "      <td>875</td>\n",
       "      <td>1410</td>\n",
       "    </tr>\n",
       "    <tr>\n",
       "      <td>7</td>\n",
       "      <td>408.353234</td>\n",
       "      <td>545.791209</td>\n",
       "      <td>32250.269602</td>\n",
       "      <td>94322.278144</td>\n",
       "      <td>179.583601</td>\n",
       "      <td>307.119322</td>\n",
       "      <td>2</td>\n",
       "      <td>0</td>\n",
       "      <td>839</td>\n",
       "      <td>1311</td>\n",
       "    </tr>\n",
       "    <tr>\n",
       "      <td>8</td>\n",
       "      <td>421.468085</td>\n",
       "      <td>510.775701</td>\n",
       "      <td>34793.583379</td>\n",
       "      <td>97956.496385</td>\n",
       "      <td>186.530382</td>\n",
       "      <td>312.980026</td>\n",
       "      <td>0</td>\n",
       "      <td>0</td>\n",
       "      <td>1000</td>\n",
       "      <td>1321</td>\n",
       "    </tr>\n",
       "    <tr>\n",
       "      <td>9</td>\n",
       "      <td>428.611538</td>\n",
       "      <td>539.443478</td>\n",
       "      <td>33535.342723</td>\n",
       "      <td>105716.775286</td>\n",
       "      <td>183.126576</td>\n",
       "      <td>325.141162</td>\n",
       "      <td>0</td>\n",
       "      <td>0</td>\n",
       "      <td>843</td>\n",
       "      <td>1297</td>\n",
       "    </tr>\n",
       "    <tr>\n",
       "      <td>10</td>\n",
       "      <td>426.136054</td>\n",
       "      <td>558.081301</td>\n",
       "      <td>35392.336375</td>\n",
       "      <td>106464.583500</td>\n",
       "      <td>188.128510</td>\n",
       "      <td>326.289110</td>\n",
       "      <td>0</td>\n",
       "      <td>0</td>\n",
       "      <td>1005</td>\n",
       "      <td>1401</td>\n",
       "    </tr>\n",
       "    <tr>\n",
       "      <td>11</td>\n",
       "      <td>435.265823</td>\n",
       "      <td>541.380597</td>\n",
       "      <td>31605.237050</td>\n",
       "      <td>96570.057064</td>\n",
       "      <td>177.778618</td>\n",
       "      <td>310.757232</td>\n",
       "      <td>0</td>\n",
       "      <td>0</td>\n",
       "      <td>954</td>\n",
       "      <td>1257</td>\n",
       "    </tr>\n",
       "    <tr>\n",
       "      <td>12</td>\n",
       "      <td>478.560831</td>\n",
       "      <td>592.805755</td>\n",
       "      <td>39698.622033</td>\n",
       "      <td>117276.331561</td>\n",
       "      <td>199.245131</td>\n",
       "      <td>342.456321</td>\n",
       "      <td>0</td>\n",
       "      <td>0</td>\n",
       "      <td>1435</td>\n",
       "      <td>1673</td>\n",
       "    </tr>\n",
       "  </tbody>\n",
       "</table>\n",
       "</div>"
      ],
      "text/plain": [
       "                mean                      var1                         std1  \\\n",
       "       calls_minutes             calls_minutes                calls_minutes   \n",
       "tariff         smart       ultra         smart          ultra         smart   \n",
       "month                                                                         \n",
       "1         203.852941  428.111111  23787.341355   72769.361111    154.231454   \n",
       "2         298.689655  297.125000  36412.287961   87919.679348    190.820041   \n",
       "3         390.051948  489.648649  36823.155161  111384.900901    191.893604   \n",
       "4         367.133929  458.018182  34778.207127   71653.870034    186.489161   \n",
       "5         387.361702  510.328358  34820.061094   83870.193578    186.601343   \n",
       "6         395.640244  479.702381  30742.918861   91535.946500    175.336587   \n",
       "7         408.353234  545.791209  32250.269602   94322.278144    179.583601   \n",
       "8         421.468085  510.775701  34793.583379   97956.496385    186.530382   \n",
       "9         428.611538  539.443478  33535.342723  105716.775286    183.126576   \n",
       "10        426.136054  558.081301  35392.336375  106464.583500    188.128510   \n",
       "11        435.265823  541.380597  31605.237050   96570.057064    177.778618   \n",
       "12        478.560831  592.805755  39698.622033  117276.331561    199.245131   \n",
       "\n",
       "                             min                 max        \n",
       "                   calls_minutes       calls_minutes        \n",
       "tariff       ultra         smart ultra         smart ultra  \n",
       "month                                                       \n",
       "1       269.757968             0    55           551   861  \n",
       "2       296.512528             2     0           747   919  \n",
       "3       333.743765            13    92           822  1609  \n",
       "4       267.682405             0     0           785  1096  \n",
       "5       289.603511             2     0           820  1232  \n",
       "6       302.549081             0     0           875  1410  \n",
       "7       307.119322             2     0           839  1311  \n",
       "8       312.980026             0     0          1000  1321  \n",
       "9       325.141162             0     0           843  1297  \n",
       "10      326.289110             0     0          1005  1401  \n",
       "11      310.757232             0     0           954  1257  \n",
       "12      342.456321             0     0          1435  1673  "
      ]
     },
     "execution_count": 19,
     "metadata": {},
     "output_type": "execute_result"
    }
   ],
   "source": [
    "#Так как у нас именно выборка из генеральной совокупности, то необходимо использовать параметр ddof=1\n",
    "def var1(x):\n",
    "    return np.var(x, ddof=1)\n",
    "\n",
    "def std1(x):\n",
    "    return np.std(x, ddof=1)\n",
    "\n",
    "data.pivot_table(index='month', columns='tariff', values=['calls_minutes'], aggfunc=['mean', var1, std1, min, max])"
   ]
  },
  {
   "cell_type": "code",
   "execution_count": 20,
   "metadata": {
    "scrolled": false
   },
   "outputs": [
    {
     "data": {
      "text/html": [
       "<div>\n",
       "<style scoped>\n",
       "    .dataframe tbody tr th:only-of-type {\n",
       "        vertical-align: middle;\n",
       "    }\n",
       "\n",
       "    .dataframe tbody tr th {\n",
       "        vertical-align: top;\n",
       "    }\n",
       "\n",
       "    .dataframe thead tr th {\n",
       "        text-align: left;\n",
       "    }\n",
       "\n",
       "    .dataframe thead tr:last-of-type th {\n",
       "        text-align: right;\n",
       "    }\n",
       "</style>\n",
       "<table border=\"1\" class=\"dataframe\">\n",
       "  <thead>\n",
       "    <tr>\n",
       "      <th></th>\n",
       "      <th>sum</th>\n",
       "      <th>mean</th>\n",
       "      <th>var1</th>\n",
       "      <th>std1</th>\n",
       "      <th>min</th>\n",
       "      <th>max</th>\n",
       "    </tr>\n",
       "    <tr>\n",
       "      <th></th>\n",
       "      <th>calls_minutes</th>\n",
       "      <th>calls_minutes</th>\n",
       "      <th>calls_minutes</th>\n",
       "      <th>calls_minutes</th>\n",
       "      <th>calls_minutes</th>\n",
       "      <th>calls_minutes</th>\n",
       "    </tr>\n",
       "    <tr>\n",
       "      <th>tariff</th>\n",
       "      <th></th>\n",
       "      <th></th>\n",
       "      <th></th>\n",
       "      <th></th>\n",
       "      <th></th>\n",
       "      <th></th>\n",
       "    </tr>\n",
       "  </thead>\n",
       "  <tbody>\n",
       "    <tr>\n",
       "      <td>smart</td>\n",
       "      <td>931577</td>\n",
       "      <td>417.934948</td>\n",
       "      <td>36219.315784</td>\n",
       "      <td>190.313730</td>\n",
       "      <td>0</td>\n",
       "      <td>1435</td>\n",
       "    </tr>\n",
       "    <tr>\n",
       "      <td>ultra</td>\n",
       "      <td>518724</td>\n",
       "      <td>526.623350</td>\n",
       "      <td>100873.633397</td>\n",
       "      <td>317.606098</td>\n",
       "      <td>0</td>\n",
       "      <td>1673</td>\n",
       "    </tr>\n",
       "  </tbody>\n",
       "</table>\n",
       "</div>"
      ],
      "text/plain": [
       "                 sum          mean           var1          std1           min  \\\n",
       "       calls_minutes calls_minutes  calls_minutes calls_minutes calls_minutes   \n",
       "tariff                                                                          \n",
       "smart         931577    417.934948   36219.315784    190.313730             0   \n",
       "ultra         518724    526.623350  100873.633397    317.606098             0   \n",
       "\n",
       "                 max  \n",
       "       calls_minutes  \n",
       "tariff                \n",
       "smart           1435  \n",
       "ultra           1673  "
      ]
     },
     "execution_count": 20,
     "metadata": {},
     "output_type": "execute_result"
    }
   ],
   "source": [
    "data.pivot_table(index='tariff', values=['calls_minutes'], aggfunc=['sum','mean', var1, std1, min, max])"
   ]
  },
  {
   "cell_type": "markdown",
   "metadata": {},
   "source": [
    "В среднем в месяц пользователи тарифа \"Ультра\" общаются больше пользователей тарифа \"Смарт\".\n",
    "При этом пользователи тарифа \"Смарт\" в среднем превышают 500 минут разговора, включенного в пакет (в пределах одного стандартного отклонения).\n",
    "\n",
    "Пользователи тарифа \"Ультра\" не выбирают отведенные им 3000 минут разговоров, это число лежит далеко за пределами трёх стандартных отклонений."
   ]
  },
  {
   "cell_type": "code",
   "execution_count": 21,
   "metadata": {},
   "outputs": [
    {
     "data": {
      "image/png": "[encoded data removed]",
      "text/plain": [
       "<Figure size 1008x432 with 2 Axes>"
      ]
     },
     "metadata": {
      "needs_background": "light"
     },
     "output_type": "display_data"
    }
   ],
   "source": [
    "fig, (ax1, ax2) = plt.subplots(1, 2, figsize=(14, 6))\n",
    "ax1.hist(data.loc[data['tariff'] == 'smart','calls_minutes'], bins=40)\n",
    "ax1.grid(True)\n",
    "ax1.set_title('Тариф Смарт')\n",
    "ax1.set_xlabel('Продолжительность звонков, мин')\n",
    "ax1.set_ylabel('Количество')\n",
    "ax2.hist(data.loc[data['tariff'] == 'ultra','calls_minutes'], bins=40)\n",
    "ax2.grid(True)\n",
    "ax2.set_title('Тариф Ультра')\n",
    "ax2.set_xlabel('Продолжительность звонков, мин')\n",
    "ax2.set_ylabel('Количество')\n",
    "plt.show();"
   ]
  },
  {
   "cell_type": "markdown",
   "metadata": {},
   "source": [
    "Продолжительность звонков месяц имеет нормальное распределение и скошена в обоих случаях влево.\n",
    "Пользователи тарифа Ультра имеют большое количество пропущенных звонков - предположительно, данный тариф используют люди, которым приходится много общаться по работе, возможно они не могут отвечать на каждый звонок."
   ]
  },
  {
   "cell_type": "markdown",
   "metadata": {},
   "source": [
    "### Анализ использования sms"
   ]
  },
  {
   "cell_type": "code",
   "execution_count": 22,
   "metadata": {
    "scrolled": false
   },
   "outputs": [
    {
     "data": {
      "text/html": [
       "<div>\n",
       "<style scoped>\n",
       "    .dataframe tbody tr th:only-of-type {\n",
       "        vertical-align: middle;\n",
       "    }\n",
       "\n",
       "    .dataframe tbody tr th {\n",
       "        vertical-align: top;\n",
       "    }\n",
       "\n",
       "    .dataframe thead tr th {\n",
       "        text-align: left;\n",
       "    }\n",
       "\n",
       "    .dataframe thead tr:last-of-type th {\n",
       "        text-align: right;\n",
       "    }\n",
       "</style>\n",
       "<table border=\"1\" class=\"dataframe\">\n",
       "  <thead>\n",
       "    <tr>\n",
       "      <th></th>\n",
       "      <th colspan=\"2\" halign=\"left\">mean</th>\n",
       "      <th colspan=\"2\" halign=\"left\">var1</th>\n",
       "      <th colspan=\"2\" halign=\"left\">std1</th>\n",
       "      <th colspan=\"2\" halign=\"left\">min</th>\n",
       "      <th colspan=\"2\" halign=\"left\">max</th>\n",
       "    </tr>\n",
       "    <tr>\n",
       "      <th></th>\n",
       "      <th colspan=\"2\" halign=\"left\">messages_count</th>\n",
       "      <th colspan=\"2\" halign=\"left\">messages_count</th>\n",
       "      <th colspan=\"2\" halign=\"left\">messages_count</th>\n",
       "      <th colspan=\"2\" halign=\"left\">messages_count</th>\n",
       "      <th colspan=\"2\" halign=\"left\">messages_count</th>\n",
       "    </tr>\n",
       "    <tr>\n",
       "      <th>tariff</th>\n",
       "      <th>smart</th>\n",
       "      <th>ultra</th>\n",
       "      <th>smart</th>\n",
       "      <th>ultra</th>\n",
       "      <th>smart</th>\n",
       "      <th>ultra</th>\n",
       "      <th>smart</th>\n",
       "      <th>ultra</th>\n",
       "      <th>smart</th>\n",
       "      <th>ultra</th>\n",
       "    </tr>\n",
       "    <tr>\n",
       "      <th>month</th>\n",
       "      <th></th>\n",
       "      <th></th>\n",
       "      <th></th>\n",
       "      <th></th>\n",
       "      <th></th>\n",
       "      <th></th>\n",
       "      <th></th>\n",
       "      <th></th>\n",
       "      <th></th>\n",
       "      <th></th>\n",
       "    </tr>\n",
       "  </thead>\n",
       "  <tbody>\n",
       "    <tr>\n",
       "      <td>1</td>\n",
       "      <td>18.235294</td>\n",
       "      <td>33.777778</td>\n",
       "      <td>262.367201</td>\n",
       "      <td>940.694444</td>\n",
       "      <td>16.197753</td>\n",
       "      <td>30.670742</td>\n",
       "      <td>0</td>\n",
       "      <td>0</td>\n",
       "      <td>74</td>\n",
       "      <td>75</td>\n",
       "    </tr>\n",
       "    <tr>\n",
       "      <td>2</td>\n",
       "      <td>24.086207</td>\n",
       "      <td>21.958333</td>\n",
       "      <td>473.097701</td>\n",
       "      <td>716.824275</td>\n",
       "      <td>21.750809</td>\n",
       "      <td>26.773574</td>\n",
       "      <td>0</td>\n",
       "      <td>0</td>\n",
       "      <td>85</td>\n",
       "      <td>90</td>\n",
       "    </tr>\n",
       "    <tr>\n",
       "      <td>3</td>\n",
       "      <td>31.857143</td>\n",
       "      <td>32.297297</td>\n",
       "      <td>718.492481</td>\n",
       "      <td>1732.381381</td>\n",
       "      <td>26.804710</td>\n",
       "      <td>41.621886</td>\n",
       "      <td>0</td>\n",
       "      <td>0</td>\n",
       "      <td>110</td>\n",
       "      <td>155</td>\n",
       "    </tr>\n",
       "    <tr>\n",
       "      <td>4</td>\n",
       "      <td>30.741071</td>\n",
       "      <td>31.563636</td>\n",
       "      <td>602.139559</td>\n",
       "      <td>1407.287542</td>\n",
       "      <td>24.538532</td>\n",
       "      <td>37.513831</td>\n",
       "      <td>0</td>\n",
       "      <td>0</td>\n",
       "      <td>105</td>\n",
       "      <td>143</td>\n",
       "    </tr>\n",
       "    <tr>\n",
       "      <td>5</td>\n",
       "      <td>33.773050</td>\n",
       "      <td>37.850746</td>\n",
       "      <td>730.990983</td>\n",
       "      <td>1624.644052</td>\n",
       "      <td>27.036845</td>\n",
       "      <td>40.306874</td>\n",
       "      <td>0</td>\n",
       "      <td>0</td>\n",
       "      <td>103</td>\n",
       "      <td>148</td>\n",
       "    </tr>\n",
       "    <tr>\n",
       "      <td>6</td>\n",
       "      <td>33.402439</td>\n",
       "      <td>41.726190</td>\n",
       "      <td>806.806374</td>\n",
       "      <td>1986.297619</td>\n",
       "      <td>28.404337</td>\n",
       "      <td>44.567899</td>\n",
       "      <td>0</td>\n",
       "      <td>0</td>\n",
       "      <td>134</td>\n",
       "      <td>201</td>\n",
       "    </tr>\n",
       "    <tr>\n",
       "      <td>7</td>\n",
       "      <td>33.751244</td>\n",
       "      <td>49.846154</td>\n",
       "      <td>799.887811</td>\n",
       "      <td>2372.042735</td>\n",
       "      <td>28.282288</td>\n",
       "      <td>48.703621</td>\n",
       "      <td>0</td>\n",
       "      <td>0</td>\n",
       "      <td>137</td>\n",
       "      <td>211</td>\n",
       "    </tr>\n",
       "    <tr>\n",
       "      <td>8</td>\n",
       "      <td>33.638298</td>\n",
       "      <td>48.439252</td>\n",
       "      <td>838.257501</td>\n",
       "      <td>2171.739199</td>\n",
       "      <td>28.952677</td>\n",
       "      <td>46.601923</td>\n",
       "      <td>0</td>\n",
       "      <td>0</td>\n",
       "      <td>134</td>\n",
       "      <td>180</td>\n",
       "    </tr>\n",
       "    <tr>\n",
       "      <td>9</td>\n",
       "      <td>33.638462</td>\n",
       "      <td>52.286957</td>\n",
       "      <td>790.617820</td>\n",
       "      <td>2152.855530</td>\n",
       "      <td>28.117927</td>\n",
       "      <td>46.398874</td>\n",
       "      <td>0</td>\n",
       "      <td>0</td>\n",
       "      <td>136</td>\n",
       "      <td>188</td>\n",
       "    </tr>\n",
       "    <tr>\n",
       "      <td>10</td>\n",
       "      <td>33.765306</td>\n",
       "      <td>58.430894</td>\n",
       "      <td>816.111966</td>\n",
       "      <td>2697.181661</td>\n",
       "      <td>28.567673</td>\n",
       "      <td>51.934398</td>\n",
       "      <td>0</td>\n",
       "      <td>0</td>\n",
       "      <td>139</td>\n",
       "      <td>223</td>\n",
       "    </tr>\n",
       "    <tr>\n",
       "      <td>11</td>\n",
       "      <td>34.075949</td>\n",
       "      <td>55.791045</td>\n",
       "      <td>805.937071</td>\n",
       "      <td>2476.948491</td>\n",
       "      <td>28.389031</td>\n",
       "      <td>49.768951</td>\n",
       "      <td>0</td>\n",
       "      <td>0</td>\n",
       "      <td>124</td>\n",
       "      <td>197</td>\n",
       "    </tr>\n",
       "    <tr>\n",
       "      <td>12</td>\n",
       "      <td>35.994065</td>\n",
       "      <td>60.611511</td>\n",
       "      <td>934.952346</td>\n",
       "      <td>2681.978417</td>\n",
       "      <td>30.576990</td>\n",
       "      <td>51.787821</td>\n",
       "      <td>0</td>\n",
       "      <td>0</td>\n",
       "      <td>143</td>\n",
       "      <td>224</td>\n",
       "    </tr>\n",
       "  </tbody>\n",
       "</table>\n",
       "</div>"
      ],
      "text/plain": [
       "                 mean                      var1                        std1  \\\n",
       "       messages_count            messages_count              messages_count   \n",
       "tariff          smart      ultra          smart        ultra          smart   \n",
       "month                                                                         \n",
       "1           18.235294  33.777778     262.367201   940.694444      16.197753   \n",
       "2           24.086207  21.958333     473.097701   716.824275      21.750809   \n",
       "3           31.857143  32.297297     718.492481  1732.381381      26.804710   \n",
       "4           30.741071  31.563636     602.139559  1407.287542      24.538532   \n",
       "5           33.773050  37.850746     730.990983  1624.644052      27.036845   \n",
       "6           33.402439  41.726190     806.806374  1986.297619      28.404337   \n",
       "7           33.751244  49.846154     799.887811  2372.042735      28.282288   \n",
       "8           33.638298  48.439252     838.257501  2171.739199      28.952677   \n",
       "9           33.638462  52.286957     790.617820  2152.855530      28.117927   \n",
       "10          33.765306  58.430894     816.111966  2697.181661      28.567673   \n",
       "11          34.075949  55.791045     805.937071  2476.948491      28.389031   \n",
       "12          35.994065  60.611511     934.952346  2681.978417      30.576990   \n",
       "\n",
       "                             min                  max        \n",
       "                  messages_count       messages_count        \n",
       "tariff      ultra          smart ultra          smart ultra  \n",
       "month                                                        \n",
       "1       30.670742              0     0             74    75  \n",
       "2       26.773574              0     0             85    90  \n",
       "3       41.621886              0     0            110   155  \n",
       "4       37.513831              0     0            105   143  \n",
       "5       40.306874              0     0            103   148  \n",
       "6       44.567899              0     0            134   201  \n",
       "7       48.703621              0     0            137   211  \n",
       "8       46.601923              0     0            134   180  \n",
       "9       46.398874              0     0            136   188  \n",
       "10      51.934398              0     0            139   223  \n",
       "11      49.768951              0     0            124   197  \n",
       "12      51.787821              0     0            143   224  "
      ]
     },
     "execution_count": 22,
     "metadata": {},
     "output_type": "execute_result"
    }
   ],
   "source": [
    "data.pivot_table(index='month', columns='tariff', values=['messages_count'], aggfunc=['mean', var1, std1, min, max])"
   ]
  },
  {
   "cell_type": "markdown",
   "metadata": {},
   "source": [
    "В среднем в месяц пользователи тарифа \"Ультра\" отправляют немного больше sms, чем пользователи тарифа \"Смарт\". Пользователи тарифа \"Ультра\" никогда не выбирают лимит в 1000 sms."
   ]
  },
  {
   "cell_type": "code",
   "execution_count": 23,
   "metadata": {
    "scrolled": false
   },
   "outputs": [
    {
     "data": {
      "text/html": [
       "<div>\n",
       "<style scoped>\n",
       "    .dataframe tbody tr th:only-of-type {\n",
       "        vertical-align: middle;\n",
       "    }\n",
       "\n",
       "    .dataframe tbody tr th {\n",
       "        vertical-align: top;\n",
       "    }\n",
       "\n",
       "    .dataframe thead tr th {\n",
       "        text-align: left;\n",
       "    }\n",
       "\n",
       "    .dataframe thead tr:last-of-type th {\n",
       "        text-align: right;\n",
       "    }\n",
       "</style>\n",
       "<table border=\"1\" class=\"dataframe\">\n",
       "  <thead>\n",
       "    <tr>\n",
       "      <th></th>\n",
       "      <th>sum</th>\n",
       "      <th>mean</th>\n",
       "      <th>var1</th>\n",
       "      <th>std1</th>\n",
       "      <th>min</th>\n",
       "      <th>max</th>\n",
       "    </tr>\n",
       "    <tr>\n",
       "      <th></th>\n",
       "      <th>messages_count</th>\n",
       "      <th>messages_count</th>\n",
       "      <th>messages_count</th>\n",
       "      <th>messages_count</th>\n",
       "      <th>messages_count</th>\n",
       "      <th>messages_count</th>\n",
       "    </tr>\n",
       "    <tr>\n",
       "      <th>tariff</th>\n",
       "      <th></th>\n",
       "      <th></th>\n",
       "      <th></th>\n",
       "      <th></th>\n",
       "      <th></th>\n",
       "      <th></th>\n",
       "    </tr>\n",
       "  </thead>\n",
       "  <tbody>\n",
       "    <tr>\n",
       "      <td>smart</td>\n",
       "      <td>74413</td>\n",
       "      <td>33.384029</td>\n",
       "      <td>796.812958</td>\n",
       "      <td>28.227876</td>\n",
       "      <td>0</td>\n",
       "      <td>143</td>\n",
       "    </tr>\n",
       "    <tr>\n",
       "      <td>ultra</td>\n",
       "      <td>48623</td>\n",
       "      <td>49.363452</td>\n",
       "      <td>2285.266143</td>\n",
       "      <td>47.804457</td>\n",
       "      <td>0</td>\n",
       "      <td>224</td>\n",
       "    </tr>\n",
       "  </tbody>\n",
       "</table>\n",
       "</div>"
      ],
      "text/plain": [
       "                  sum           mean           var1           std1  \\\n",
       "       messages_count messages_count messages_count messages_count   \n",
       "tariff                                                               \n",
       "smart           74413      33.384029     796.812958      28.227876   \n",
       "ultra           48623      49.363452    2285.266143      47.804457   \n",
       "\n",
       "                  min            max  \n",
       "       messages_count messages_count  \n",
       "tariff                                \n",
       "smart               0            143  \n",
       "ultra               0            224  "
      ]
     },
     "execution_count": 23,
     "metadata": {},
     "output_type": "execute_result"
    }
   ],
   "source": [
    "data.pivot_table(index='tariff', values=['messages_count'], aggfunc=['sum','mean', var1, std1, min, max])"
   ]
  },
  {
   "cell_type": "code",
   "execution_count": 24,
   "metadata": {
    "scrolled": false
   },
   "outputs": [
    {
     "data": {
      "image/png": "[encoded data removed]",
      "text/plain": [
       "<Figure size 1008x432 with 2 Axes>"
      ]
     },
     "metadata": {
      "needs_background": "light"
     },
     "output_type": "display_data"
    }
   ],
   "source": [
    "fig, (ax1, ax2) = plt.subplots(1, 2, figsize=(14, 6))\n",
    "ax1.hist(data.loc[data['tariff'] == 'smart','messages_count'], bins=40)\n",
    "ax1.grid(True)\n",
    "ax1.set_title('Тариф Смарт')\n",
    "ax1.set_xlabel('Число sms, шт.')\n",
    "ax1.set_ylabel('Количество')\n",
    "ax2.hist(data.loc[data['tariff'] == 'ultra','messages_count'], bins=40)\n",
    "ax2.grid(True)\n",
    "ax2.set_title('Тариф Ультра')\n",
    "ax2.set_xlabel('Число sms, шт.')\n",
    "ax2.set_ylabel('Количество')\n",
    "plt.show();"
   ]
  },
  {
   "cell_type": "markdown",
   "metadata": {},
   "source": [
    "Sms одинаково непопулярны в обоих группах пользователей. Распределения похожи на распределения Пуассона."
   ]
  },
  {
   "cell_type": "markdown",
   "metadata": {},
   "source": [
    "### Анализ использования мобильного интернета"
   ]
  },
  {
   "cell_type": "code",
   "execution_count": 25,
   "metadata": {},
   "outputs": [
    {
     "data": {
      "text/html": [
       "<div>\n",
       "<style scoped>\n",
       "    .dataframe tbody tr th:only-of-type {\n",
       "        vertical-align: middle;\n",
       "    }\n",
       "\n",
       "    .dataframe tbody tr th {\n",
       "        vertical-align: top;\n",
       "    }\n",
       "\n",
       "    .dataframe thead tr th {\n",
       "        text-align: left;\n",
       "    }\n",
       "\n",
       "    .dataframe thead tr:last-of-type th {\n",
       "        text-align: right;\n",
       "    }\n",
       "</style>\n",
       "<table border=\"1\" class=\"dataframe\">\n",
       "  <thead>\n",
       "    <tr>\n",
       "      <th></th>\n",
       "      <th colspan=\"2\" halign=\"left\">mean</th>\n",
       "      <th colspan=\"2\" halign=\"left\">var1</th>\n",
       "      <th colspan=\"2\" halign=\"left\">std1</th>\n",
       "      <th colspan=\"2\" halign=\"left\">min</th>\n",
       "      <th colspan=\"2\" halign=\"left\">max</th>\n",
       "    </tr>\n",
       "    <tr>\n",
       "      <th></th>\n",
       "      <th colspan=\"2\" halign=\"left\">traffic_gb</th>\n",
       "      <th colspan=\"2\" halign=\"left\">traffic_gb</th>\n",
       "      <th colspan=\"2\" halign=\"left\">traffic_gb</th>\n",
       "      <th colspan=\"2\" halign=\"left\">traffic_gb</th>\n",
       "      <th colspan=\"2\" halign=\"left\">traffic_gb</th>\n",
       "    </tr>\n",
       "    <tr>\n",
       "      <th>tariff</th>\n",
       "      <th>smart</th>\n",
       "      <th>ultra</th>\n",
       "      <th>smart</th>\n",
       "      <th>ultra</th>\n",
       "      <th>smart</th>\n",
       "      <th>ultra</th>\n",
       "      <th>smart</th>\n",
       "      <th>ultra</th>\n",
       "      <th>smart</th>\n",
       "      <th>ultra</th>\n",
       "    </tr>\n",
       "    <tr>\n",
       "      <th>month</th>\n",
       "      <th></th>\n",
       "      <th></th>\n",
       "      <th></th>\n",
       "      <th></th>\n",
       "      <th></th>\n",
       "      <th></th>\n",
       "      <th></th>\n",
       "      <th></th>\n",
       "      <th></th>\n",
       "      <th></th>\n",
       "    </tr>\n",
       "  </thead>\n",
       "  <tbody>\n",
       "    <tr>\n",
       "      <td>1</td>\n",
       "      <td>8.735294</td>\n",
       "      <td>13.222222</td>\n",
       "      <td>39.412656</td>\n",
       "      <td>44.444444</td>\n",
       "      <td>6.277950</td>\n",
       "      <td>6.666667</td>\n",
       "      <td>1</td>\n",
       "      <td>1</td>\n",
       "      <td>24</td>\n",
       "      <td>20</td>\n",
       "    </tr>\n",
       "    <tr>\n",
       "      <td>2</td>\n",
       "      <td>11.844828</td>\n",
       "      <td>12.000000</td>\n",
       "      <td>37.150938</td>\n",
       "      <td>109.130435</td>\n",
       "      <td>6.095157</td>\n",
       "      <td>10.446551</td>\n",
       "      <td>1</td>\n",
       "      <td>0</td>\n",
       "      <td>28</td>\n",
       "      <td>32</td>\n",
       "    </tr>\n",
       "    <tr>\n",
       "      <td>3</td>\n",
       "      <td>15.233766</td>\n",
       "      <td>17.648649</td>\n",
       "      <td>32.549897</td>\n",
       "      <td>114.345345</td>\n",
       "      <td>5.705252</td>\n",
       "      <td>10.693238</td>\n",
       "      <td>2</td>\n",
       "      <td>3</td>\n",
       "      <td>25</td>\n",
       "      <td>37</td>\n",
       "    </tr>\n",
       "    <tr>\n",
       "      <td>4</td>\n",
       "      <td>13.625000</td>\n",
       "      <td>16.963636</td>\n",
       "      <td>31.299550</td>\n",
       "      <td>89.443098</td>\n",
       "      <td>5.594600</td>\n",
       "      <td>9.457436</td>\n",
       "      <td>1</td>\n",
       "      <td>1</td>\n",
       "      <td>27</td>\n",
       "      <td>37</td>\n",
       "    </tr>\n",
       "    <tr>\n",
       "      <td>5</td>\n",
       "      <td>15.907801</td>\n",
       "      <td>19.373134</td>\n",
       "      <td>34.370010</td>\n",
       "      <td>95.631389</td>\n",
       "      <td>5.862594</td>\n",
       "      <td>9.779130</td>\n",
       "      <td>1</td>\n",
       "      <td>0</td>\n",
       "      <td>30</td>\n",
       "      <td>43</td>\n",
       "    </tr>\n",
       "    <tr>\n",
       "      <td>6</td>\n",
       "      <td>15.951220</td>\n",
       "      <td>18.940476</td>\n",
       "      <td>31.911716</td>\n",
       "      <td>82.394005</td>\n",
       "      <td>5.649046</td>\n",
       "      <td>9.077114</td>\n",
       "      <td>1</td>\n",
       "      <td>0</td>\n",
       "      <td>34</td>\n",
       "      <td>42</td>\n",
       "    </tr>\n",
       "    <tr>\n",
       "      <td>7</td>\n",
       "      <td>15.875622</td>\n",
       "      <td>20.505495</td>\n",
       "      <td>33.419453</td>\n",
       "      <td>96.430525</td>\n",
       "      <td>5.780956</td>\n",
       "      <td>9.819905</td>\n",
       "      <td>1</td>\n",
       "      <td>0</td>\n",
       "      <td>29</td>\n",
       "      <td>45</td>\n",
       "    </tr>\n",
       "    <tr>\n",
       "      <td>8</td>\n",
       "      <td>16.736170</td>\n",
       "      <td>19.598131</td>\n",
       "      <td>30.041207</td>\n",
       "      <td>105.148298</td>\n",
       "      <td>5.480986</td>\n",
       "      <td>10.254184</td>\n",
       "      <td>0</td>\n",
       "      <td>0</td>\n",
       "      <td>31</td>\n",
       "      <td>48</td>\n",
       "    </tr>\n",
       "    <tr>\n",
       "      <td>9</td>\n",
       "      <td>16.392308</td>\n",
       "      <td>19.243478</td>\n",
       "      <td>25.884110</td>\n",
       "      <td>86.255988</td>\n",
       "      <td>5.087643</td>\n",
       "      <td>9.287410</td>\n",
       "      <td>1</td>\n",
       "      <td>0</td>\n",
       "      <td>31</td>\n",
       "      <td>42</td>\n",
       "    </tr>\n",
       "    <tr>\n",
       "      <td>10</td>\n",
       "      <td>16.880952</td>\n",
       "      <td>20.065041</td>\n",
       "      <td>32.897042</td>\n",
       "      <td>91.258030</td>\n",
       "      <td>5.735594</td>\n",
       "      <td>9.552907</td>\n",
       "      <td>0</td>\n",
       "      <td>0</td>\n",
       "      <td>32</td>\n",
       "      <td>49</td>\n",
       "    </tr>\n",
       "    <tr>\n",
       "      <td>11</td>\n",
       "      <td>17.000000</td>\n",
       "      <td>19.805970</td>\n",
       "      <td>27.180952</td>\n",
       "      <td>93.796656</td>\n",
       "      <td>5.213535</td>\n",
       "      <td>9.684867</td>\n",
       "      <td>1</td>\n",
       "      <td>0</td>\n",
       "      <td>36</td>\n",
       "      <td>44</td>\n",
       "    </tr>\n",
       "    <tr>\n",
       "      <td>12</td>\n",
       "      <td>18.201780</td>\n",
       "      <td>21.741007</td>\n",
       "      <td>29.786544</td>\n",
       "      <td>103.236784</td>\n",
       "      <td>5.457705</td>\n",
       "      <td>10.160550</td>\n",
       "      <td>5</td>\n",
       "      <td>0</td>\n",
       "      <td>38</td>\n",
       "      <td>43</td>\n",
       "    </tr>\n",
       "  </tbody>\n",
       "</table>\n",
       "</div>"
      ],
      "text/plain": [
       "             mean                  var1                   std1             \\\n",
       "       traffic_gb            traffic_gb             traffic_gb              \n",
       "tariff      smart      ultra      smart       ultra      smart      ultra   \n",
       "month                                                                       \n",
       "1        8.735294  13.222222  39.412656   44.444444   6.277950   6.666667   \n",
       "2       11.844828  12.000000  37.150938  109.130435   6.095157  10.446551   \n",
       "3       15.233766  17.648649  32.549897  114.345345   5.705252  10.693238   \n",
       "4       13.625000  16.963636  31.299550   89.443098   5.594600   9.457436   \n",
       "5       15.907801  19.373134  34.370010   95.631389   5.862594   9.779130   \n",
       "6       15.951220  18.940476  31.911716   82.394005   5.649046   9.077114   \n",
       "7       15.875622  20.505495  33.419453   96.430525   5.780956   9.819905   \n",
       "8       16.736170  19.598131  30.041207  105.148298   5.480986  10.254184   \n",
       "9       16.392308  19.243478  25.884110   86.255988   5.087643   9.287410   \n",
       "10      16.880952  20.065041  32.897042   91.258030   5.735594   9.552907   \n",
       "11      17.000000  19.805970  27.180952   93.796656   5.213535   9.684867   \n",
       "12      18.201780  21.741007  29.786544  103.236784   5.457705  10.160550   \n",
       "\n",
       "              min              max        \n",
       "       traffic_gb       traffic_gb        \n",
       "tariff      smart ultra      smart ultra  \n",
       "month                                     \n",
       "1               1     1         24    20  \n",
       "2               1     0         28    32  \n",
       "3               2     3         25    37  \n",
       "4               1     1         27    37  \n",
       "5               1     0         30    43  \n",
       "6               1     0         34    42  \n",
       "7               1     0         29    45  \n",
       "8               0     0         31    48  \n",
       "9               1     0         31    42  \n",
       "10              0     0         32    49  \n",
       "11              1     0         36    44  \n",
       "12              5     0         38    43  "
      ]
     },
     "execution_count": 25,
     "metadata": {},
     "output_type": "execute_result"
    }
   ],
   "source": [
    "data.pivot_table(index='month', columns='tariff', values=['traffic_gb'], aggfunc=['mean', var1, std1, min, max]) "
   ]
  },
  {
   "cell_type": "markdown",
   "metadata": {},
   "source": [
    "Интернет-трафик используется активно пользователями обоих тарифов. В среднем, пользователям тарифа \"Смарт\" месячного объёма трафика не хватает. Пользователи тарифа \"Ультра\" в целом не перебирают отведёный им объём."
   ]
  },
  {
   "cell_type": "code",
   "execution_count": 26,
   "metadata": {
    "scrolled": false
   },
   "outputs": [
    {
     "data": {
      "text/html": [
       "<div>\n",
       "<style scoped>\n",
       "    .dataframe tbody tr th:only-of-type {\n",
       "        vertical-align: middle;\n",
       "    }\n",
       "\n",
       "    .dataframe tbody tr th {\n",
       "        vertical-align: top;\n",
       "    }\n",
       "\n",
       "    .dataframe thead tr th {\n",
       "        text-align: left;\n",
       "    }\n",
       "\n",
       "    .dataframe thead tr:last-of-type th {\n",
       "        text-align: right;\n",
       "    }\n",
       "</style>\n",
       "<table border=\"1\" class=\"dataframe\">\n",
       "  <thead>\n",
       "    <tr>\n",
       "      <th></th>\n",
       "      <th>sum</th>\n",
       "      <th>mean</th>\n",
       "      <th>var1</th>\n",
       "      <th>std1</th>\n",
       "      <th>min</th>\n",
       "      <th>max</th>\n",
       "    </tr>\n",
       "    <tr>\n",
       "      <th></th>\n",
       "      <th>traffic_gb</th>\n",
       "      <th>traffic_gb</th>\n",
       "      <th>traffic_gb</th>\n",
       "      <th>traffic_gb</th>\n",
       "      <th>traffic_gb</th>\n",
       "      <th>traffic_gb</th>\n",
       "    </tr>\n",
       "    <tr>\n",
       "      <th>tariff</th>\n",
       "      <th></th>\n",
       "      <th></th>\n",
       "      <th></th>\n",
       "      <th></th>\n",
       "      <th></th>\n",
       "      <th></th>\n",
       "    </tr>\n",
       "  </thead>\n",
       "  <tbody>\n",
       "    <tr>\n",
       "      <td>smart</td>\n",
       "      <td>36397</td>\n",
       "      <td>16.328847</td>\n",
       "      <td>33.028705</td>\n",
       "      <td>5.747061</td>\n",
       "      <td>0</td>\n",
       "      <td>38</td>\n",
       "    </tr>\n",
       "    <tr>\n",
       "      <td>ultra</td>\n",
       "      <td>19202</td>\n",
       "      <td>19.494416</td>\n",
       "      <td>97.091686</td>\n",
       "      <td>9.853511</td>\n",
       "      <td>0</td>\n",
       "      <td>49</td>\n",
       "    </tr>\n",
       "  </tbody>\n",
       "</table>\n",
       "</div>"
      ],
      "text/plain": [
       "              sum       mean       var1       std1        min        max\n",
       "       traffic_gb traffic_gb traffic_gb traffic_gb traffic_gb traffic_gb\n",
       "tariff                                                                  \n",
       "smart       36397  16.328847  33.028705   5.747061          0         38\n",
       "ultra       19202  19.494416  97.091686   9.853511          0         49"
      ]
     },
     "execution_count": 26,
     "metadata": {},
     "output_type": "execute_result"
    }
   ],
   "source": [
    "data.pivot_table(index='tariff', values=['traffic_gb'], aggfunc=['sum','mean', var1, std1, min, max])"
   ]
  },
  {
   "cell_type": "code",
   "execution_count": 27,
   "metadata": {
    "scrolled": false
   },
   "outputs": [
    {
     "data": {
      "image/png": "[encoded data removed]",
      "text/plain": [
       "<Figure size 1008x432 with 2 Axes>"
      ]
     },
     "metadata": {
      "needs_background": "light"
     },
     "output_type": "display_data"
    }
   ],
   "source": [
    "fig, (ax1, ax2) = plt.subplots(1, 2, figsize=(14, 6))\n",
    "ax1.hist(data.loc[data['tariff'] == 'smart','traffic_gb'], bins=38)\n",
    "ax1.grid(True)\n",
    "ax1.set_title('Тариф Смарт')\n",
    "ax1.set_xlabel('Объём трафика, Гбайт')\n",
    "ax1.set_ylabel('Количество')\n",
    "ax2.hist(data.loc[data['tariff'] == 'ultra','traffic_gb'], bins=50)\n",
    "ax2.grid(True)\n",
    "ax2.set_title('Тариф Ультра')\n",
    "ax2.set_xlabel('Объём трафика, Гбайт')\n",
    "ax2.set_ylabel('Количество')\n",
    "plt.show();"
   ]
  },
  {
   "cell_type": "markdown",
   "metadata": {},
   "source": [
    "Объём трафика для обоих тарифов имеет нормальное распределение, скошенное влево. "
   ]
  },
  {
   "cell_type": "markdown",
   "metadata": {},
   "source": [
    "### Анализ выручки"
   ]
  },
  {
   "cell_type": "code",
   "execution_count": 28,
   "metadata": {
    "scrolled": false
   },
   "outputs": [
    {
     "data": {
      "text/html": [
       "<div>\n",
       "<style scoped>\n",
       "    .dataframe tbody tr th:only-of-type {\n",
       "        vertical-align: middle;\n",
       "    }\n",
       "\n",
       "    .dataframe tbody tr th {\n",
       "        vertical-align: top;\n",
       "    }\n",
       "\n",
       "    .dataframe thead tr th {\n",
       "        text-align: left;\n",
       "    }\n",
       "\n",
       "    .dataframe thead tr:last-of-type th {\n",
       "        text-align: right;\n",
       "    }\n",
       "</style>\n",
       "<table border=\"1\" class=\"dataframe\">\n",
       "  <thead>\n",
       "    <tr>\n",
       "      <th></th>\n",
       "      <th colspan=\"2\" halign=\"left\">mean</th>\n",
       "      <th colspan=\"2\" halign=\"left\">var1</th>\n",
       "      <th colspan=\"2\" halign=\"left\">std1</th>\n",
       "      <th colspan=\"2\" halign=\"left\">min</th>\n",
       "      <th colspan=\"2\" halign=\"left\">max</th>\n",
       "    </tr>\n",
       "    <tr>\n",
       "      <th></th>\n",
       "      <th colspan=\"2\" halign=\"left\">earnings</th>\n",
       "      <th colspan=\"2\" halign=\"left\">earnings</th>\n",
       "      <th colspan=\"2\" halign=\"left\">earnings</th>\n",
       "      <th colspan=\"2\" halign=\"left\">earnings</th>\n",
       "      <th colspan=\"2\" halign=\"left\">earnings</th>\n",
       "    </tr>\n",
       "    <tr>\n",
       "      <th>tariff</th>\n",
       "      <th>smart</th>\n",
       "      <th>ultra</th>\n",
       "      <th>smart</th>\n",
       "      <th>ultra</th>\n",
       "      <th>smart</th>\n",
       "      <th>ultra</th>\n",
       "      <th>smart</th>\n",
       "      <th>ultra</th>\n",
       "      <th>smart</th>\n",
       "      <th>ultra</th>\n",
       "    </tr>\n",
       "    <tr>\n",
       "      <th>month</th>\n",
       "      <th></th>\n",
       "      <th></th>\n",
       "      <th></th>\n",
       "      <th></th>\n",
       "      <th></th>\n",
       "      <th></th>\n",
       "      <th></th>\n",
       "      <th></th>\n",
       "      <th></th>\n",
       "      <th></th>\n",
       "    </tr>\n",
       "  </thead>\n",
       "  <tbody>\n",
       "    <tr>\n",
       "      <td>1</td>\n",
       "      <td>721.323529</td>\n",
       "      <td>1950.000000</td>\n",
       "      <td>1.925162e+05</td>\n",
       "      <td>0.000000</td>\n",
       "      <td>438.766641</td>\n",
       "      <td>0.000000</td>\n",
       "      <td>550.0</td>\n",
       "      <td>1950.0</td>\n",
       "      <td>2350.0</td>\n",
       "      <td>1950.0</td>\n",
       "    </tr>\n",
       "    <tr>\n",
       "      <td>2</td>\n",
       "      <td>827.603448</td>\n",
       "      <td>1975.000000</td>\n",
       "      <td>2.923587e+05</td>\n",
       "      <td>7173.913043</td>\n",
       "      <td>540.702011</td>\n",
       "      <td>84.698955</td>\n",
       "      <td>550.0</td>\n",
       "      <td>1950.0</td>\n",
       "      <td>3432.0</td>\n",
       "      <td>2250.0</td>\n",
       "    </tr>\n",
       "    <tr>\n",
       "      <td>3</td>\n",
       "      <td>1164.623377</td>\n",
       "      <td>2014.864865</td>\n",
       "      <td>4.872390e+05</td>\n",
       "      <td>43175.675676</td>\n",
       "      <td>698.025091</td>\n",
       "      <td>207.787573</td>\n",
       "      <td>550.0</td>\n",
       "      <td>1950.0</td>\n",
       "      <td>2721.0</td>\n",
       "      <td>3000.0</td>\n",
       "    </tr>\n",
       "    <tr>\n",
       "      <td>4</td>\n",
       "      <td>963.089286</td>\n",
       "      <td>2001.818182</td>\n",
       "      <td>3.159166e+05</td>\n",
       "      <td>38515.151515</td>\n",
       "      <td>562.064543</td>\n",
       "      <td>196.252775</td>\n",
       "      <td>550.0</td>\n",
       "      <td>1950.0</td>\n",
       "      <td>2950.0</td>\n",
       "      <td>3000.0</td>\n",
       "    </tr>\n",
       "    <tr>\n",
       "      <td>5</td>\n",
       "      <td>1197.510638</td>\n",
       "      <td>2059.701493</td>\n",
       "      <td>5.226902e+05</td>\n",
       "      <td>162669.606513</td>\n",
       "      <td>722.973153</td>\n",
       "      <td>403.323204</td>\n",
       "      <td>550.0</td>\n",
       "      <td>1950.0</td>\n",
       "      <td>3550.0</td>\n",
       "      <td>3900.0</td>\n",
       "    </tr>\n",
       "    <tr>\n",
       "      <td>6</td>\n",
       "      <td>1204.018293</td>\n",
       "      <td>2039.285714</td>\n",
       "      <td>5.561252e+05</td>\n",
       "      <td>99823.580034</td>\n",
       "      <td>745.738005</td>\n",
       "      <td>315.948698</td>\n",
       "      <td>550.0</td>\n",
       "      <td>1950.0</td>\n",
       "      <td>4473.0</td>\n",
       "      <td>3750.0</td>\n",
       "    </tr>\n",
       "    <tr>\n",
       "      <td>7</td>\n",
       "      <td>1223.950249</td>\n",
       "      <td>2118.131868</td>\n",
       "      <td>5.453382e+05</td>\n",
       "      <td>198917.582418</td>\n",
       "      <td>738.470208</td>\n",
       "      <td>446.001774</td>\n",
       "      <td>550.0</td>\n",
       "      <td>1950.0</td>\n",
       "      <td>3350.0</td>\n",
       "      <td>4200.0</td>\n",
       "    </tr>\n",
       "    <tr>\n",
       "      <td>8</td>\n",
       "      <td>1320.595745</td>\n",
       "      <td>2083.177570</td>\n",
       "      <td>6.276194e+05</td>\n",
       "      <td>159761.505907</td>\n",
       "      <td>792.224318</td>\n",
       "      <td>399.701771</td>\n",
       "      <td>550.0</td>\n",
       "      <td>1950.0</td>\n",
       "      <td>4427.0</td>\n",
       "      <td>4650.0</td>\n",
       "    </tr>\n",
       "    <tr>\n",
       "      <td>9</td>\n",
       "      <td>1249.946154</td>\n",
       "      <td>2024.347826</td>\n",
       "      <td>5.366885e+05</td>\n",
       "      <td>60937.070938</td>\n",
       "      <td>732.590262</td>\n",
       "      <td>246.854352</td>\n",
       "      <td>550.0</td>\n",
       "      <td>1950.0</td>\n",
       "      <td>3759.0</td>\n",
       "      <td>3750.0</td>\n",
       "    </tr>\n",
       "    <tr>\n",
       "      <td>10</td>\n",
       "      <td>1364.853741</td>\n",
       "      <td>2065.853659</td>\n",
       "      <td>7.102664e+05</td>\n",
       "      <td>149685.125950</td>\n",
       "      <td>842.773037</td>\n",
       "      <td>386.891620</td>\n",
       "      <td>550.0</td>\n",
       "      <td>1950.0</td>\n",
       "      <td>4231.0</td>\n",
       "      <td>4800.0</td>\n",
       "    </tr>\n",
       "    <tr>\n",
       "      <td>11</td>\n",
       "      <td>1343.047468</td>\n",
       "      <td>2092.164179</td>\n",
       "      <td>6.331858e+05</td>\n",
       "      <td>167588.514196</td>\n",
       "      <td>795.729727</td>\n",
       "      <td>409.375762</td>\n",
       "      <td>550.0</td>\n",
       "      <td>1950.0</td>\n",
       "      <td>5680.0</td>\n",
       "      <td>4050.0</td>\n",
       "    </tr>\n",
       "    <tr>\n",
       "      <td>12</td>\n",
       "      <td>1578.531157</td>\n",
       "      <td>2138.848921</td>\n",
       "      <td>1.070678e+06</td>\n",
       "      <td>232610.259618</td>\n",
       "      <td>1034.735951</td>\n",
       "      <td>482.296858</td>\n",
       "      <td>550.0</td>\n",
       "      <td>1950.0</td>\n",
       "      <td>6770.0</td>\n",
       "      <td>3900.0</td>\n",
       "    </tr>\n",
       "  </tbody>\n",
       "</table>\n",
       "</div>"
      ],
      "text/plain": [
       "               mean                       var1                        std1  \\\n",
       "           earnings                   earnings                    earnings   \n",
       "tariff        smart        ultra         smart          ultra        smart   \n",
       "month                                                                        \n",
       "1        721.323529  1950.000000  1.925162e+05       0.000000   438.766641   \n",
       "2        827.603448  1975.000000  2.923587e+05    7173.913043   540.702011   \n",
       "3       1164.623377  2014.864865  4.872390e+05   43175.675676   698.025091   \n",
       "4        963.089286  2001.818182  3.159166e+05   38515.151515   562.064543   \n",
       "5       1197.510638  2059.701493  5.226902e+05  162669.606513   722.973153   \n",
       "6       1204.018293  2039.285714  5.561252e+05   99823.580034   745.738005   \n",
       "7       1223.950249  2118.131868  5.453382e+05  198917.582418   738.470208   \n",
       "8       1320.595745  2083.177570  6.276194e+05  159761.505907   792.224318   \n",
       "9       1249.946154  2024.347826  5.366885e+05   60937.070938   732.590262   \n",
       "10      1364.853741  2065.853659  7.102664e+05  149685.125950   842.773037   \n",
       "11      1343.047468  2092.164179  6.331858e+05  167588.514196   795.729727   \n",
       "12      1578.531157  2138.848921  1.070678e+06  232610.259618  1034.735951   \n",
       "\n",
       "                        min              max          \n",
       "                   earnings         earnings          \n",
       "tariff       ultra    smart   ultra    smart   ultra  \n",
       "month                                                 \n",
       "1         0.000000    550.0  1950.0   2350.0  1950.0  \n",
       "2        84.698955    550.0  1950.0   3432.0  2250.0  \n",
       "3       207.787573    550.0  1950.0   2721.0  3000.0  \n",
       "4       196.252775    550.0  1950.0   2950.0  3000.0  \n",
       "5       403.323204    550.0  1950.0   3550.0  3900.0  \n",
       "6       315.948698    550.0  1950.0   4473.0  3750.0  \n",
       "7       446.001774    550.0  1950.0   3350.0  4200.0  \n",
       "8       399.701771    550.0  1950.0   4427.0  4650.0  \n",
       "9       246.854352    550.0  1950.0   3759.0  3750.0  \n",
       "10      386.891620    550.0  1950.0   4231.0  4800.0  \n",
       "11      409.375762    550.0  1950.0   5680.0  4050.0  \n",
       "12      482.296858    550.0  1950.0   6770.0  3900.0  "
      ]
     },
     "execution_count": 28,
     "metadata": {},
     "output_type": "execute_result"
    }
   ],
   "source": [
    "data.pivot_table(index='month', columns='tariff', values=['earnings'], aggfunc=['mean', var1, std1, min, max]) "
   ]
  },
  {
   "cell_type": "code",
   "execution_count": 29,
   "metadata": {
    "scrolled": true
   },
   "outputs": [
    {
     "data": {
      "text/html": [
       "<div>\n",
       "<style scoped>\n",
       "    .dataframe tbody tr th:only-of-type {\n",
       "        vertical-align: middle;\n",
       "    }\n",
       "\n",
       "    .dataframe tbody tr th {\n",
       "        vertical-align: top;\n",
       "    }\n",
       "\n",
       "    .dataframe thead tr th {\n",
       "        text-align: left;\n",
       "    }\n",
       "\n",
       "    .dataframe thead tr:last-of-type th {\n",
       "        text-align: right;\n",
       "    }\n",
       "</style>\n",
       "<table border=\"1\" class=\"dataframe\">\n",
       "  <thead>\n",
       "    <tr>\n",
       "      <th></th>\n",
       "      <th>sum</th>\n",
       "      <th>mean</th>\n",
       "      <th>var1</th>\n",
       "      <th>std1</th>\n",
       "      <th>min</th>\n",
       "      <th>max</th>\n",
       "    </tr>\n",
       "    <tr>\n",
       "      <th></th>\n",
       "      <th>earnings</th>\n",
       "      <th>earnings</th>\n",
       "      <th>earnings</th>\n",
       "      <th>earnings</th>\n",
       "      <th>earnings</th>\n",
       "      <th>earnings</th>\n",
       "    </tr>\n",
       "    <tr>\n",
       "      <th>tariff</th>\n",
       "      <th></th>\n",
       "      <th></th>\n",
       "      <th></th>\n",
       "      <th></th>\n",
       "      <th></th>\n",
       "      <th></th>\n",
       "    </tr>\n",
       "  </thead>\n",
       "  <tbody>\n",
       "    <tr>\n",
       "      <td>smart</td>\n",
       "      <td>2875351.0</td>\n",
       "      <td>1289.973531</td>\n",
       "      <td>669785.708006</td>\n",
       "      <td>818.404367</td>\n",
       "      <td>550.0</td>\n",
       "      <td>6770.0</td>\n",
       "    </tr>\n",
       "    <tr>\n",
       "      <td>ultra</td>\n",
       "      <td>2039100.0</td>\n",
       "      <td>2070.152284</td>\n",
       "      <td>141516.745079</td>\n",
       "      <td>376.187114</td>\n",
       "      <td>1950.0</td>\n",
       "      <td>4800.0</td>\n",
       "    </tr>\n",
       "  </tbody>\n",
       "</table>\n",
       "</div>"
      ],
      "text/plain": [
       "              sum         mean           var1        std1      min      max\n",
       "         earnings     earnings       earnings    earnings earnings earnings\n",
       "tariff                                                                     \n",
       "smart   2875351.0  1289.973531  669785.708006  818.404367    550.0   6770.0\n",
       "ultra   2039100.0  2070.152284  141516.745079  376.187114   1950.0   4800.0"
      ]
     },
     "execution_count": 29,
     "metadata": {},
     "output_type": "execute_result"
    }
   ],
   "source": [
    "data.pivot_table(index='tariff', values=['earnings'], aggfunc=['sum','mean', var1, std1, min, max])"
   ]
  },
  {
   "cell_type": "code",
   "execution_count": 30,
   "metadata": {},
   "outputs": [
    {
     "data": {
      "image/png": "[encoded data removed]",
      "text/plain": [
       "<Figure size 1008x432 with 2 Axes>"
      ]
     },
     "metadata": {
      "needs_background": "light"
     },
     "output_type": "display_data"
    }
   ],
   "source": [
    "fig, (ax1, ax2) = plt.subplots(1, 2, figsize=(14, 6))\n",
    "ax1.hist(data.loc[data['tariff'] == 'smart','earnings'], bins=20)\n",
    "ax1.grid(True)\n",
    "ax1.set_title('Тариф Смарт')\n",
    "ax1.set_xlabel('Выручка, руб.')\n",
    "ax1.set_ylabel('Количество')\n",
    "ax2.hist(data.loc[data['tariff'] == 'ultra','earnings'], bins=20)\n",
    "ax2.grid(True)\n",
    "ax2.set_title('Тариф Ультра')\n",
    "ax2.set_xlabel('Выручка, руб.')\n",
    "ax2.set_ylabel('Количество')\n",
    "plt.show();"
   ]
  },
  {
   "cell_type": "markdown",
   "metadata": {},
   "source": [
    "## Проверка гипотез"
   ]
  },
  {
   "cell_type": "markdown",
   "metadata": {},
   "source": [
    "### Средняя выручка пользователей тарифов \"Ультра\" и \"Смарт\" различаются"
   ]
  },
  {
   "cell_type": "markdown",
   "metadata": {},
   "source": [
    "Нулевая гипотеза \"Средняя выручка пользователей тарифов \"Ультра\" и \"Смарт\" одинаковая\"\n",
    "\n",
    "Альтернативная гипотеза \"Средняя выручка пользователей тарифов \"Ультра\" и \"Смарт\" различаются\""
   ]
  },
  {
   "cell_type": "code",
   "execution_count": 31,
   "metadata": {},
   "outputs": [
    {
     "name": "stdout",
     "output_type": "stream",
     "text": [
      "p-значение 1.4229814360764067e-160\n",
      "Отвергаем нулевую гипотезу\n"
     ]
    }
   ],
   "source": [
    "# предел статистической значимости установим на уровне 1%\n",
    "alpha = 0.01\n",
    "results = st.ttest_ind(data[data['tariff'] == 'smart']['earnings'], data[data['tariff'] == 'ultra']['earnings'])\n",
    "print('p-значение', results.pvalue)\n",
    "if results.pvalue < alpha:\n",
    "    print('Отвергаем нулевую гипотезу')\n",
    "else:\n",
    "    print('Не удалось отвергнуть нулевую гипотезу')"
   ]
  },
  {
   "cell_type": "markdown",
   "metadata": {},
   "source": [
    "Так как нулевую гипотезу мы отвергли, то нам не удалось отвергнуть альтернативную гипотезу, что средняя выручка пользователей тарифов \"Ультра\" и \"Смарт\" различаются."
   ]
  },
  {
   "cell_type": "markdown",
   "metadata": {},
   "source": [
    "### Средняя выручка пользователи из Москвы отличается от выручки пользователей из других регионов"
   ]
  },
  {
   "cell_type": "markdown",
   "metadata": {},
   "source": [
    "Нулевая гипотеза \"Средняя выручка пользователей из Москвы не отличается от выручки пользователей из других регионов\"\n",
    "\n",
    "Альтернативная гипотеза \"Средняя выручка пользователей из Москвы отличается от выручки пользователей из других регионов\""
   ]
  },
  {
   "cell_type": "code",
   "execution_count": 32,
   "metadata": {
    "scrolled": true
   },
   "outputs": [],
   "source": [
    "data.loc[data['user_id'].isin(users[users['city'] == 'Москва'].index), 'city'] = 'Москва'"
   ]
  },
  {
   "cell_type": "code",
   "execution_count": 33,
   "metadata": {},
   "outputs": [],
   "source": [
    "data['city'].fillna('Регионы', inplace=True)"
   ]
  },
  {
   "cell_type": "code",
   "execution_count": 34,
   "metadata": {},
   "outputs": [
    {
     "name": "stdout",
     "output_type": "stream",
     "text": [
      "p-значение 0.5440152911670224\n",
      "Не удалось отвергнуть нулевую гипотезу\n"
     ]
    }
   ],
   "source": [
    "# предел статистической значимости установим на уровне 1%\n",
    "alpha = 0.01\n",
    "results = st.ttest_ind(data[data['city'] == 'Москва']['earnings'], data[data['city'] == 'Регионы']['earnings'])\n",
    "print('p-значение', results.pvalue)\n",
    "if results.pvalue < alpha:\n",
    "    print('Отвергаем нулевую гипотезу')\n",
    "else:\n",
    "    print('Не удалось отвергнуть нулевую гипотезу')"
   ]
  },
  {
   "cell_type": "markdown",
   "metadata": {},
   "source": [
    "Различие между средними по выручке Москвы и регионов с вероятностью в 48% можно получить случайно. Слишком большая вероятность, чтобы говорить о значимом различии."
   ]
  },
  {
   "cell_type": "markdown",
   "metadata": {},
   "source": [
    "## Итоговый вывод"
   ]
  },
  {
   "cell_type": "markdown",
   "metadata": {},
   "source": [
    "В рамках проведенного анализа тарифов \"Смарт\" и \"Ультра\" установлено, что:\n",
    "1. Пользователи обоих тарифов активно пользуются исходящими вызовами, при этом:\n",
    "    1. Пользователям тарифа \"Смарт\" с большой долей вероятности не хватит отведенных им 500 минут в месяц.\n",
    "    2. Пользователи тарифа \"Ультра\" скорее всего не используют заложенные в пакет 3000 минут.\n",
    "2. Пользователи обоих тарифов отправляют мало смс. Скорее всего, большая часть переписки идёт через мессенджеры. 1000 сообщений в пакете \"Ультра\" также с большой долей вероятности не будут использованы.\n",
    "3. Пользователи обоих тарифов активно используют мобильный интернет, при этом:\n",
    "    1. Пользователи тарифа Смарт с большой долей вероятности используют больше 15 Гбайт трафика.\n",
    "    2. Пользователи тарифа Ультра также нередко выбирают 30 Гбайт трафика\n",
    "4. Пользователи тарифа \"Смарт\" гораздо чаще пользуются услугами сверх пакета\n",
    "5. Различие между средними по выручкам в тарифах \"Ультра\" и \"Смарт\" не является случайным. В среднем траты пользователя тарифа \"Смарт\" ниже, чем пользователя тарифа \"Ультра\", но больше абонентской платы. \n",
    "6. Различие между средним по выручкам по Москве и регионами с вероятностью 48% является случайным.\n",
    "\n",
    "7. **Если судить строко по выручке, то тариф Смарт выгоднее, НО:**\n",
    "    1. **Для того, чтобы корректно выбрать тариф, который следует развивать, нам всё же необходимо знать, стоимость обслуживания одного клиента на каждом из тарифов + расходы на привлечение новых клиентов также по каждому из тарифов.**\n",
    "    2. **С точки зрения клиентского опыта оба тарифа невыгодны (несбалансированы): лимитов тарифа Смарт явно недостаточно, и клиенты переплачиват сверх пакета; пользователям тарифа Ультра ни к чему такой объём минут и sms. Это может привести к оттоку клиентов.** \n",
    "    3. **Логичнее вместо развития существующих тарифов предложить клиентам новый тариф с упором на интернет трафик, так как данная опция была бы более востребована.**"
   ]
  },
  {
   "cell_type": "code",
   "execution_count": null,
   "metadata": {},
   "outputs": [],
   "source": []
  }
 ],
 "metadata": {
  "ExecuteTimeLog": [
   {
    "duration": 554,
    "start_time": "2021-12-19T10:41:48.050Z"
   },
   {
    "duration": 138,
    "start_time": "2021-12-19T10:43:55.830Z"
   },
   {
    "duration": 145,
    "start_time": "2021-12-19T10:44:05.622Z"
   },
   {
    "duration": 131,
    "start_time": "2021-12-19T10:44:21.506Z"
   },
   {
    "duration": 147,
    "start_time": "2021-12-19T10:44:27.390Z"
   },
   {
    "duration": 148,
    "start_time": "2021-12-19T10:44:42.806Z"
   },
   {
    "duration": 168,
    "start_time": "2021-12-19T10:45:18.958Z"
   },
   {
    "duration": 4,
    "start_time": "2021-12-19T10:53:18.856Z"
   },
   {
    "duration": 171,
    "start_time": "2021-12-19T10:53:30.280Z"
   },
   {
    "duration": 148,
    "start_time": "2021-12-19T10:53:57.153Z"
   },
   {
    "duration": 148,
    "start_time": "2021-12-19T10:54:38.909Z"
   },
   {
    "duration": 150,
    "start_time": "2021-12-19T10:55:59.232Z"
   },
   {
    "duration": 110,
    "start_time": "2021-12-19T10:56:05.668Z"
   },
   {
    "duration": 101,
    "start_time": "2021-12-19T11:01:08.180Z"
   },
   {
    "duration": 51,
    "start_time": "2021-12-19T11:04:40.755Z"
   },
   {
    "duration": 19,
    "start_time": "2021-12-19T11:09:27.455Z"
   },
   {
    "duration": 75,
    "start_time": "2021-12-19T11:12:05.850Z"
   },
   {
    "duration": 47,
    "start_time": "2021-12-19T11:12:57.822Z"
   },
   {
    "duration": 62,
    "start_time": "2021-12-19T11:29:47.268Z"
   },
   {
    "duration": 412,
    "start_time": "2021-12-19T11:30:58.159Z"
   },
   {
    "duration": 8,
    "start_time": "2021-12-19T11:31:21.955Z"
   },
   {
    "duration": 12,
    "start_time": "2021-12-19T11:31:25.423Z"
   },
   {
    "duration": 339,
    "start_time": "2021-12-19T11:39:45.777Z"
   },
   {
    "duration": 365,
    "start_time": "2021-12-19T11:40:06.124Z"
   },
   {
    "duration": 378,
    "start_time": "2021-12-19T11:40:18.916Z"
   },
   {
    "duration": 2,
    "start_time": "2021-12-19T11:41:49.973Z"
   },
   {
    "duration": 3,
    "start_time": "2021-12-19T11:42:28.276Z"
   },
   {
    "duration": 1128,
    "start_time": "2021-12-19T11:49:28.652Z"
   },
   {
    "duration": 1187,
    "start_time": "2021-12-19T11:49:53.887Z"
   },
   {
    "duration": 530,
    "start_time": "2021-12-19T11:50:33.943Z"
   },
   {
    "duration": 556,
    "start_time": "2021-12-19T11:50:44.534Z"
   },
   {
    "duration": 524,
    "start_time": "2021-12-19T11:50:54.387Z"
   },
   {
    "duration": 594,
    "start_time": "2021-12-19T11:51:01.327Z"
   },
   {
    "duration": 29,
    "start_time": "2021-12-19T11:52:22.438Z"
   },
   {
    "duration": 5,
    "start_time": "2021-12-19T11:52:45.326Z"
   },
   {
    "duration": 239,
    "start_time": "2021-12-19T11:52:50.354Z"
   },
   {
    "duration": 5,
    "start_time": "2021-12-19T11:52:52.978Z"
   },
   {
    "duration": 6,
    "start_time": "2021-12-19T11:54:49.305Z"
   },
   {
    "duration": 5,
    "start_time": "2021-12-19T11:54:58.774Z"
   },
   {
    "duration": 4,
    "start_time": "2021-12-19T11:56:03.256Z"
   },
   {
    "duration": 21,
    "start_time": "2021-12-19T12:00:54.205Z"
   },
   {
    "duration": 21,
    "start_time": "2021-12-19T12:01:13.109Z"
   },
   {
    "duration": 21,
    "start_time": "2021-12-19T12:01:44.521Z"
   },
   {
    "duration": 17,
    "start_time": "2021-12-19T12:02:45.805Z"
   },
   {
    "duration": 25,
    "start_time": "2021-12-19T12:05:51.784Z"
   },
   {
    "duration": 33,
    "start_time": "2021-12-19T12:06:10.488Z"
   },
   {
    "duration": 11,
    "start_time": "2021-12-19T12:06:32.264Z"
   },
   {
    "duration": 9,
    "start_time": "2021-12-19T12:06:35.793Z"
   },
   {
    "duration": 25,
    "start_time": "2021-12-19T12:06:54.840Z"
   },
   {
    "duration": 26,
    "start_time": "2021-12-19T12:07:15.005Z"
   },
   {
    "duration": 9,
    "start_time": "2021-12-19T12:07:17.116Z"
   },
   {
    "duration": 21,
    "start_time": "2021-12-19T12:08:10.424Z"
   },
   {
    "duration": 51,
    "start_time": "2021-12-19T12:09:13.462Z"
   },
   {
    "duration": 42,
    "start_time": "2021-12-19T12:10:16.692Z"
   },
   {
    "duration": 270,
    "start_time": "2021-12-19T12:10:20.416Z"
   },
   {
    "duration": 54,
    "start_time": "2021-12-19T12:10:29.984Z"
   },
   {
    "duration": 252,
    "start_time": "2021-12-19T12:11:05.772Z"
   },
   {
    "duration": 626,
    "start_time": "2021-12-19T12:11:22.417Z"
   },
   {
    "duration": 3,
    "start_time": "2021-12-19T12:11:23.044Z"
   },
   {
    "duration": 196,
    "start_time": "2021-12-19T12:11:23.049Z"
   },
   {
    "duration": 154,
    "start_time": "2021-12-19T12:11:23.247Z"
   },
   {
    "duration": 100,
    "start_time": "2021-12-19T12:11:23.403Z"
   },
   {
    "duration": 19,
    "start_time": "2021-12-19T12:11:23.504Z"
   },
   {
    "duration": 47,
    "start_time": "2021-12-19T12:11:23.525Z"
   },
   {
    "duration": 3,
    "start_time": "2021-12-19T12:11:23.575Z"
   },
   {
    "duration": 8,
    "start_time": "2021-12-19T12:11:23.580Z"
   },
   {
    "duration": 64,
    "start_time": "2021-12-19T12:11:23.590Z"
   },
   {
    "duration": 7,
    "start_time": "2021-12-19T12:11:23.656Z"
   },
   {
    "duration": 353,
    "start_time": "2021-12-19T12:11:23.664Z"
   },
   {
    "duration": 46,
    "start_time": "2021-12-19T12:11:37.078Z"
   },
   {
    "duration": 53,
    "start_time": "2021-12-19T12:11:38.420Z"
   },
   {
    "duration": 8,
    "start_time": "2021-12-19T12:11:41.168Z"
   },
   {
    "duration": 251,
    "start_time": "2021-12-19T12:19:32.336Z"
   },
   {
    "duration": 3,
    "start_time": "2021-12-19T12:19:47.468Z"
   },
   {
    "duration": 62,
    "start_time": "2021-12-19T12:19:51.784Z"
   },
   {
    "duration": 14,
    "start_time": "2021-12-19T12:19:59.479Z"
   },
   {
    "duration": 647,
    "start_time": "2021-12-19T12:20:49.860Z"
   },
   {
    "duration": 3,
    "start_time": "2021-12-19T12:20:50.508Z"
   },
   {
    "duration": 187,
    "start_time": "2021-12-19T12:20:50.513Z"
   },
   {
    "duration": 152,
    "start_time": "2021-12-19T12:20:50.701Z"
   },
   {
    "duration": 106,
    "start_time": "2021-12-19T12:20:50.855Z"
   },
   {
    "duration": 20,
    "start_time": "2021-12-19T12:20:50.962Z"
   },
   {
    "duration": 50,
    "start_time": "2021-12-19T12:20:50.983Z"
   },
   {
    "duration": 4,
    "start_time": "2021-12-19T12:20:51.035Z"
   },
   {
    "duration": 4,
    "start_time": "2021-12-19T12:20:51.041Z"
   },
   {
    "duration": 71,
    "start_time": "2021-12-19T12:20:51.046Z"
   },
   {
    "duration": 7,
    "start_time": "2021-12-19T12:20:51.118Z"
   },
   {
    "duration": 48,
    "start_time": "2021-12-19T12:20:51.127Z"
   },
   {
    "duration": 62,
    "start_time": "2021-12-19T12:20:53.433Z"
   },
   {
    "duration": 426,
    "start_time": "2021-12-19T12:28:42.640Z"
   },
   {
    "duration": 763,
    "start_time": "2021-12-19T12:29:02.168Z"
   },
   {
    "duration": 2,
    "start_time": "2021-12-19T12:29:02.933Z"
   },
   {
    "duration": 196,
    "start_time": "2021-12-19T12:29:02.937Z"
   },
   {
    "duration": 176,
    "start_time": "2021-12-19T12:29:03.135Z"
   },
   {
    "duration": 131,
    "start_time": "2021-12-19T12:29:03.312Z"
   },
   {
    "duration": 20,
    "start_time": "2021-12-19T12:29:03.445Z"
   },
   {
    "duration": 50,
    "start_time": "2021-12-19T12:29:03.466Z"
   },
   {
    "duration": 5,
    "start_time": "2021-12-19T12:29:03.518Z"
   },
   {
    "duration": 5,
    "start_time": "2021-12-19T12:29:03.526Z"
   },
   {
    "duration": 94,
    "start_time": "2021-12-19T12:29:03.533Z"
   },
   {
    "duration": 8,
    "start_time": "2021-12-19T12:29:03.629Z"
   },
   {
    "duration": 60,
    "start_time": "2021-12-19T12:29:03.640Z"
   },
   {
    "duration": 72,
    "start_time": "2021-12-19T12:29:06.463Z"
   },
   {
    "duration": 541,
    "start_time": "2021-12-19T12:29:09.837Z"
   },
   {
    "duration": 730,
    "start_time": "2021-12-19T12:30:01.827Z"
   },
   {
    "duration": 3,
    "start_time": "2021-12-19T12:30:02.558Z"
   },
   {
    "duration": 194,
    "start_time": "2021-12-19T12:30:02.563Z"
   },
   {
    "duration": 161,
    "start_time": "2021-12-19T12:30:02.759Z"
   },
   {
    "duration": 118,
    "start_time": "2021-12-19T12:30:02.921Z"
   },
   {
    "duration": 18,
    "start_time": "2021-12-19T12:30:03.041Z"
   },
   {
    "duration": 48,
    "start_time": "2021-12-19T12:30:03.061Z"
   },
   {
    "duration": 5,
    "start_time": "2021-12-19T12:30:03.110Z"
   },
   {
    "duration": 4,
    "start_time": "2021-12-19T12:30:03.117Z"
   },
   {
    "duration": 93,
    "start_time": "2021-12-19T12:30:03.123Z"
   },
   {
    "duration": 8,
    "start_time": "2021-12-19T12:30:03.218Z"
   },
   {
    "duration": 61,
    "start_time": "2021-12-19T12:30:03.227Z"
   },
   {
    "duration": 104,
    "start_time": "2021-12-19T12:30:03.289Z"
   },
   {
    "duration": 30,
    "start_time": "2021-12-19T12:30:10.520Z"
   },
   {
    "duration": 11754,
    "start_time": "2021-12-19T12:30:17.900Z"
   },
   {
    "duration": 20,
    "start_time": "2021-12-19T12:30:34.775Z"
   },
   {
    "duration": 29,
    "start_time": "2021-12-19T12:30:46.115Z"
   },
   {
    "duration": 15,
    "start_time": "2021-12-19T12:31:04.371Z"
   },
   {
    "duration": 53,
    "start_time": "2021-12-19T12:31:08.083Z"
   },
   {
    "duration": 80,
    "start_time": "2021-12-19T12:31:15.191Z"
   },
   {
    "duration": 15,
    "start_time": "2021-12-19T12:31:33.632Z"
   },
   {
    "duration": 15,
    "start_time": "2021-12-19T12:31:45.427Z"
   },
   {
    "duration": 13,
    "start_time": "2021-12-19T12:33:46.187Z"
   },
   {
    "duration": 254,
    "start_time": "2021-12-19T12:34:03.606Z"
   },
   {
    "duration": 257,
    "start_time": "2021-12-19T12:34:09.338Z"
   },
   {
    "duration": 14,
    "start_time": "2021-12-19T12:34:15.264Z"
   },
   {
    "duration": 254,
    "start_time": "2021-12-19T12:35:03.602Z"
   },
   {
    "duration": 244,
    "start_time": "2021-12-19T12:35:18.914Z"
   },
   {
    "duration": 20,
    "start_time": "2021-12-19T12:35:30.724Z"
   },
   {
    "duration": 970,
    "start_time": "2021-12-19T12:37:11.095Z"
   },
   {
    "duration": 3,
    "start_time": "2021-12-19T12:37:12.067Z"
   },
   {
    "duration": 185,
    "start_time": "2021-12-19T12:37:12.072Z"
   },
   {
    "duration": 162,
    "start_time": "2021-12-19T12:37:12.259Z"
   },
   {
    "duration": 105,
    "start_time": "2021-12-19T12:37:12.423Z"
   },
   {
    "duration": 18,
    "start_time": "2021-12-19T12:37:12.530Z"
   },
   {
    "duration": 47,
    "start_time": "2021-12-19T12:37:12.550Z"
   },
   {
    "duration": 5,
    "start_time": "2021-12-19T12:37:12.599Z"
   },
   {
    "duration": 5,
    "start_time": "2021-12-19T12:37:12.606Z"
   },
   {
    "duration": 88,
    "start_time": "2021-12-19T12:37:12.613Z"
   },
   {
    "duration": 7,
    "start_time": "2021-12-19T12:37:12.703Z"
   },
   {
    "duration": 47,
    "start_time": "2021-12-19T12:37:14.367Z"
   },
   {
    "duration": 62,
    "start_time": "2021-12-19T12:37:23.171Z"
   },
   {
    "duration": 28,
    "start_time": "2021-12-19T12:37:54.559Z"
   },
   {
    "duration": 618,
    "start_time": "2021-12-19T12:38:27.670Z"
   },
   {
    "duration": 3,
    "start_time": "2021-12-19T12:38:28.289Z"
   },
   {
    "duration": 186,
    "start_time": "2021-12-19T12:38:28.294Z"
   },
   {
    "duration": 151,
    "start_time": "2021-12-19T12:38:28.488Z"
   },
   {
    "duration": 109,
    "start_time": "2021-12-19T12:38:28.641Z"
   },
   {
    "duration": 20,
    "start_time": "2021-12-19T12:38:28.752Z"
   },
   {
    "duration": 49,
    "start_time": "2021-12-19T12:38:28.774Z"
   },
   {
    "duration": 4,
    "start_time": "2021-12-19T12:38:28.824Z"
   },
   {
    "duration": 5,
    "start_time": "2021-12-19T12:38:28.830Z"
   },
   {
    "duration": 84,
    "start_time": "2021-12-19T12:38:28.836Z"
   },
   {
    "duration": 8,
    "start_time": "2021-12-19T12:38:28.921Z"
   },
   {
    "duration": 46,
    "start_time": "2021-12-19T12:38:30.462Z"
   },
   {
    "duration": 299,
    "start_time": "2021-12-19T12:38:48.942Z"
   },
   {
    "duration": 273,
    "start_time": "2021-12-19T12:39:05.945Z"
   },
   {
    "duration": 227,
    "start_time": "2021-12-19T12:39:34.277Z"
   },
   {
    "duration": 2,
    "start_time": "2021-12-19T12:39:38.901Z"
   },
   {
    "duration": 3,
    "start_time": "2021-12-19T12:39:50.293Z"
   },
   {
    "duration": 5,
    "start_time": "2021-12-19T12:39:57.725Z"
   },
   {
    "duration": 3,
    "start_time": "2021-12-19T12:40:05.241Z"
   },
   {
    "duration": 6,
    "start_time": "2021-12-19T12:40:05.706Z"
   },
   {
    "duration": 282,
    "start_time": "2021-12-19T12:41:04.229Z"
   },
   {
    "duration": 15,
    "start_time": "2021-12-19T12:41:19.997Z"
   },
   {
    "duration": 244,
    "start_time": "2021-12-19T12:41:32.125Z"
   },
   {
    "duration": 6046,
    "start_time": "2021-12-19T12:41:47.921Z"
   },
   {
    "duration": 634,
    "start_time": "2021-12-19T12:42:55.157Z"
   },
   {
    "duration": 3,
    "start_time": "2021-12-19T12:42:55.793Z"
   },
   {
    "duration": 195,
    "start_time": "2021-12-19T12:42:55.799Z"
   },
   {
    "duration": 174,
    "start_time": "2021-12-19T12:42:55.996Z"
   },
   {
    "duration": 117,
    "start_time": "2021-12-19T12:42:56.172Z"
   },
   {
    "duration": 21,
    "start_time": "2021-12-19T12:42:56.291Z"
   },
   {
    "duration": 46,
    "start_time": "2021-12-19T12:42:56.314Z"
   },
   {
    "duration": 5,
    "start_time": "2021-12-19T12:42:56.362Z"
   },
   {
    "duration": 20,
    "start_time": "2021-12-19T12:42:56.370Z"
   },
   {
    "duration": 69,
    "start_time": "2021-12-19T12:42:56.392Z"
   },
   {
    "duration": 26,
    "start_time": "2021-12-19T12:42:56.462Z"
   },
   {
    "duration": 46,
    "start_time": "2021-12-19T12:42:57.999Z"
   },
   {
    "duration": 6168,
    "start_time": "2021-12-19T12:43:22.922Z"
   },
   {
    "duration": 6183,
    "start_time": "2021-12-19T12:43:35.103Z"
   },
   {
    "duration": 30,
    "start_time": "2021-12-19T12:44:25.583Z"
   },
   {
    "duration": 8,
    "start_time": "2021-12-19T12:44:27.376Z"
   },
   {
    "duration": 6,
    "start_time": "2021-12-19T12:44:40.747Z"
   },
   {
    "duration": 227,
    "start_time": "2021-12-19T12:45:48.852Z"
   },
   {
    "duration": 7,
    "start_time": "2021-12-19T12:46:01.980Z"
   },
   {
    "duration": 31,
    "start_time": "2021-12-19T12:46:12.199Z"
   },
   {
    "duration": 13,
    "start_time": "2021-12-19T12:46:13.107Z"
   },
   {
    "duration": 23,
    "start_time": "2021-12-19T12:46:16.015Z"
   },
   {
    "duration": 17,
    "start_time": "2021-12-19T12:46:21.459Z"
   },
   {
    "duration": 683,
    "start_time": "2021-12-19T12:47:59.889Z"
   },
   {
    "duration": 2,
    "start_time": "2021-12-19T12:48:00.574Z"
   },
   {
    "duration": 202,
    "start_time": "2021-12-19T12:48:00.578Z"
   },
   {
    "duration": 171,
    "start_time": "2021-12-19T12:48:00.782Z"
   },
   {
    "duration": 112,
    "start_time": "2021-12-19T12:48:00.955Z"
   },
   {
    "duration": 21,
    "start_time": "2021-12-19T12:48:01.068Z"
   },
   {
    "duration": 55,
    "start_time": "2021-12-19T12:48:01.090Z"
   },
   {
    "duration": 4,
    "start_time": "2021-12-19T12:48:01.146Z"
   },
   {
    "duration": 15,
    "start_time": "2021-12-19T12:48:01.152Z"
   },
   {
    "duration": 83,
    "start_time": "2021-12-19T12:48:01.168Z"
   },
   {
    "duration": 8,
    "start_time": "2021-12-19T12:48:01.252Z"
   },
   {
    "duration": 62,
    "start_time": "2021-12-19T12:48:01.262Z"
   },
   {
    "duration": 34,
    "start_time": "2021-12-19T12:48:01.326Z"
   },
   {
    "duration": 11,
    "start_time": "2021-12-19T12:48:01.362Z"
   },
   {
    "duration": 28,
    "start_time": "2021-12-19T12:48:09.168Z"
   },
   {
    "duration": 18,
    "start_time": "2021-12-19T12:48:11.969Z"
   },
   {
    "duration": 28,
    "start_time": "2021-12-19T12:50:14.581Z"
   },
   {
    "duration": 14,
    "start_time": "2021-12-19T12:50:17.757Z"
   },
   {
    "duration": 307,
    "start_time": "2021-12-19T12:52:11.664Z"
   },
   {
    "duration": 293,
    "start_time": "2021-12-19T12:52:36.208Z"
   },
   {
    "duration": 291,
    "start_time": "2021-12-19T12:52:55.276Z"
   },
   {
    "duration": 23,
    "start_time": "2021-12-19T12:53:05.920Z"
   },
   {
    "duration": 20,
    "start_time": "2021-12-19T12:53:26.604Z"
   },
   {
    "duration": 20,
    "start_time": "2021-12-19T12:53:42.608Z"
   },
   {
    "duration": 21,
    "start_time": "2021-12-19T12:53:52.744Z"
   },
   {
    "duration": 16,
    "start_time": "2021-12-19T12:53:56.984Z"
   },
   {
    "duration": 591,
    "start_time": "2021-12-19T12:58:50.322Z"
   },
   {
    "duration": 4,
    "start_time": "2021-12-19T12:58:50.914Z"
   },
   {
    "duration": 188,
    "start_time": "2021-12-19T12:58:50.920Z"
   },
   {
    "duration": 162,
    "start_time": "2021-12-19T12:58:51.110Z"
   },
   {
    "duration": 115,
    "start_time": "2021-12-19T12:58:51.274Z"
   },
   {
    "duration": 21,
    "start_time": "2021-12-19T12:58:51.390Z"
   },
   {
    "duration": 57,
    "start_time": "2021-12-19T12:58:51.413Z"
   },
   {
    "duration": 5,
    "start_time": "2021-12-19T12:58:51.471Z"
   },
   {
    "duration": 14,
    "start_time": "2021-12-19T12:58:51.479Z"
   },
   {
    "duration": 68,
    "start_time": "2021-12-19T12:58:51.495Z"
   },
   {
    "duration": 8,
    "start_time": "2021-12-19T12:58:51.565Z"
   },
   {
    "duration": 55,
    "start_time": "2021-12-19T12:58:51.574Z"
   },
   {
    "duration": 121,
    "start_time": "2021-12-19T12:58:51.631Z"
   },
   {
    "duration": 2,
    "start_time": "2021-12-19T12:58:53.289Z"
   },
   {
    "duration": 15,
    "start_time": "2021-12-19T12:58:54.320Z"
   },
   {
    "duration": 342,
    "start_time": "2021-12-19T13:00:10.220Z"
   },
   {
    "duration": 235,
    "start_time": "2021-12-19T13:01:06.180Z"
   },
   {
    "duration": 568,
    "start_time": "2021-12-19T13:01:42.592Z"
   },
   {
    "duration": 6,
    "start_time": "2021-12-19T13:01:48.481Z"
   },
   {
    "duration": 13,
    "start_time": "2021-12-19T13:01:50.540Z"
   },
   {
    "duration": 801,
    "start_time": "2021-12-19T13:03:49.230Z"
   },
   {
    "duration": 3,
    "start_time": "2021-12-19T13:03:50.033Z"
   },
   {
    "duration": 206,
    "start_time": "2021-12-19T13:03:50.038Z"
   },
   {
    "duration": 166,
    "start_time": "2021-12-19T13:03:50.246Z"
   },
   {
    "duration": 106,
    "start_time": "2021-12-19T13:03:50.413Z"
   },
   {
    "duration": 20,
    "start_time": "2021-12-19T13:03:50.520Z"
   },
   {
    "duration": 54,
    "start_time": "2021-12-19T13:03:50.541Z"
   },
   {
    "duration": 4,
    "start_time": "2021-12-19T13:03:50.597Z"
   },
   {
    "duration": 15,
    "start_time": "2021-12-19T13:03:50.603Z"
   },
   {
    "duration": 92,
    "start_time": "2021-12-19T13:03:50.620Z"
   },
   {
    "duration": 8,
    "start_time": "2021-12-19T13:03:50.714Z"
   },
   {
    "duration": 67,
    "start_time": "2021-12-19T13:03:50.724Z"
   },
   {
    "duration": 119,
    "start_time": "2021-12-19T13:03:50.793Z"
   },
   {
    "duration": 7,
    "start_time": "2021-12-19T13:03:57.123Z"
   },
   {
    "duration": 15,
    "start_time": "2021-12-19T13:03:58.386Z"
   },
   {
    "duration": 634,
    "start_time": "2021-12-19T13:05:16.254Z"
   },
   {
    "duration": 3,
    "start_time": "2021-12-19T13:05:16.889Z"
   },
   {
    "duration": 198,
    "start_time": "2021-12-19T13:05:16.893Z"
   },
   {
    "duration": 166,
    "start_time": "2021-12-19T13:05:17.093Z"
   },
   {
    "duration": 110,
    "start_time": "2021-12-19T13:05:17.260Z"
   },
   {
    "duration": 19,
    "start_time": "2021-12-19T13:05:17.372Z"
   },
   {
    "duration": 52,
    "start_time": "2021-12-19T13:05:17.393Z"
   },
   {
    "duration": 5,
    "start_time": "2021-12-19T13:05:17.447Z"
   },
   {
    "duration": 5,
    "start_time": "2021-12-19T13:05:17.454Z"
   },
   {
    "duration": 99,
    "start_time": "2021-12-19T13:05:17.468Z"
   },
   {
    "duration": 21,
    "start_time": "2021-12-19T13:05:17.569Z"
   },
   {
    "duration": 54,
    "start_time": "2021-12-19T13:05:17.592Z"
   },
   {
    "duration": 115,
    "start_time": "2021-12-19T13:05:17.647Z"
   },
   {
    "duration": 8,
    "start_time": "2021-12-19T13:05:20.205Z"
   },
   {
    "duration": 601,
    "start_time": "2021-12-19T13:20:17.407Z"
   },
   {
    "duration": 3,
    "start_time": "2021-12-19T13:20:18.009Z"
   },
   {
    "duration": 200,
    "start_time": "2021-12-19T13:20:18.014Z"
   },
   {
    "duration": 158,
    "start_time": "2021-12-19T13:20:18.216Z"
   },
   {
    "duration": 103,
    "start_time": "2021-12-19T13:20:18.375Z"
   },
   {
    "duration": 20,
    "start_time": "2021-12-19T13:20:18.488Z"
   },
   {
    "duration": 48,
    "start_time": "2021-12-19T13:20:18.510Z"
   },
   {
    "duration": 4,
    "start_time": "2021-12-19T13:20:18.560Z"
   },
   {
    "duration": 5,
    "start_time": "2021-12-19T13:20:18.566Z"
   },
   {
    "duration": 82,
    "start_time": "2021-12-19T13:20:18.573Z"
   },
   {
    "duration": 9,
    "start_time": "2021-12-19T13:20:18.656Z"
   },
   {
    "duration": 62,
    "start_time": "2021-12-19T13:20:18.667Z"
   },
   {
    "duration": 122,
    "start_time": "2021-12-19T13:20:18.730Z"
   },
   {
    "duration": 7,
    "start_time": "2021-12-19T13:20:20.076Z"
   },
   {
    "duration": 303,
    "start_time": "2021-12-19T13:22:16.921Z"
   },
   {
    "duration": 4,
    "start_time": "2021-12-19T13:22:39.916Z"
   },
   {
    "duration": 254,
    "start_time": "2021-12-19T13:26:01.244Z"
   },
   {
    "duration": 262,
    "start_time": "2021-12-19T13:26:15.036Z"
   },
   {
    "duration": 235,
    "start_time": "2021-12-19T13:26:37.320Z"
   },
   {
    "duration": 235,
    "start_time": "2021-12-19T13:26:45.844Z"
   },
   {
    "duration": 6,
    "start_time": "2021-12-19T13:26:53.608Z"
   },
   {
    "duration": 6,
    "start_time": "2021-12-19T13:27:08.596Z"
   },
   {
    "duration": 4930,
    "start_time": "2021-12-19T13:29:57.186Z"
   },
   {
    "duration": 3,
    "start_time": "2021-12-19T13:32:23.319Z"
   },
   {
    "duration": 3,
    "start_time": "2021-12-19T13:32:34.007Z"
   },
   {
    "duration": 3,
    "start_time": "2021-12-19T13:32:49.316Z"
   },
   {
    "duration": 4,
    "start_time": "2021-12-19T13:33:23.083Z"
   },
   {
    "duration": 4,
    "start_time": "2021-12-19T13:33:42.599Z"
   },
   {
    "duration": 4,
    "start_time": "2021-12-19T13:33:48.915Z"
   },
   {
    "duration": 4,
    "start_time": "2021-12-19T13:34:02.091Z"
   },
   {
    "duration": 6555,
    "start_time": "2021-12-19T13:35:32.949Z"
   },
   {
    "duration": 4,
    "start_time": "2021-12-19T13:36:36.683Z"
   },
   {
    "duration": 12,
    "start_time": "2021-12-19T13:36:52.382Z"
   },
   {
    "duration": 4648,
    "start_time": "2021-12-19T13:38:51.830Z"
   },
   {
    "duration": 13,
    "start_time": "2021-12-19T13:39:07.097Z"
   },
   {
    "duration": 9,
    "start_time": "2021-12-19T13:39:27.078Z"
   },
   {
    "duration": 6,
    "start_time": "2021-12-19T13:40:59.926Z"
   },
   {
    "duration": 5,
    "start_time": "2021-12-19T13:42:14.906Z"
   },
   {
    "duration": 8,
    "start_time": "2021-12-19T13:43:04.296Z"
   },
   {
    "duration": 11,
    "start_time": "2021-12-19T13:43:14.410Z"
   },
   {
    "duration": 4,
    "start_time": "2021-12-19T13:43:35.785Z"
   },
   {
    "duration": 15,
    "start_time": "2021-12-19T13:43:40.906Z"
   },
   {
    "duration": 720,
    "start_time": "2021-12-19T13:44:30.976Z"
   },
   {
    "duration": 3,
    "start_time": "2021-12-19T13:44:31.698Z"
   },
   {
    "duration": 269,
    "start_time": "2021-12-19T13:44:31.703Z"
   },
   {
    "duration": 241,
    "start_time": "2021-12-19T13:44:31.975Z"
   },
   {
    "duration": 154,
    "start_time": "2021-12-19T13:44:32.219Z"
   },
   {
    "duration": 24,
    "start_time": "2021-12-19T13:44:32.375Z"
   },
   {
    "duration": 92,
    "start_time": "2021-12-19T13:44:32.401Z"
   },
   {
    "duration": 5,
    "start_time": "2021-12-19T13:44:32.495Z"
   },
   {
    "duration": 8,
    "start_time": "2021-12-19T13:44:32.503Z"
   },
   {
    "duration": 124,
    "start_time": "2021-12-19T13:44:32.512Z"
   },
   {
    "duration": 7,
    "start_time": "2021-12-19T13:44:32.638Z"
   },
   {
    "duration": 64,
    "start_time": "2021-12-19T13:44:32.647Z"
   },
   {
    "duration": 157,
    "start_time": "2021-12-19T13:44:32.713Z"
   },
   {
    "duration": 4,
    "start_time": "2021-12-19T13:44:32.873Z"
   },
   {
    "duration": 26,
    "start_time": "2021-12-19T13:44:32.879Z"
   },
   {
    "duration": 997,
    "start_time": "2021-12-19T13:47:22.215Z"
   },
   {
    "duration": 961,
    "start_time": "2021-12-19T13:47:34.576Z"
   },
   {
    "duration": 11,
    "start_time": "2021-12-19T13:48:48.532Z"
   },
   {
    "duration": 6,
    "start_time": "2021-12-19T13:48:57.944Z"
   },
   {
    "duration": 9,
    "start_time": "2021-12-19T13:49:20.647Z"
   },
   {
    "duration": 15,
    "start_time": "2021-12-19T13:49:45.433Z"
   },
   {
    "duration": 6,
    "start_time": "2021-12-19T13:50:09.095Z"
   },
   {
    "duration": 13,
    "start_time": "2021-12-19T13:50:12.383Z"
   },
   {
    "duration": 11,
    "start_time": "2021-12-19T13:50:44.327Z"
   },
   {
    "duration": 5,
    "start_time": "2021-12-19T13:51:11.438Z"
   },
   {
    "duration": 14,
    "start_time": "2021-12-19T13:51:14.671Z"
   },
   {
    "duration": 6,
    "start_time": "2021-12-19T13:51:24.148Z"
   },
   {
    "duration": 15,
    "start_time": "2021-12-19T13:51:25.946Z"
   },
   {
    "duration": 8,
    "start_time": "2021-12-19T13:51:40.878Z"
   },
   {
    "duration": 6,
    "start_time": "2021-12-19T13:51:47.807Z"
   },
   {
    "duration": 15,
    "start_time": "2021-12-19T13:51:50.751Z"
   },
   {
    "duration": 8,
    "start_time": "2021-12-19T13:52:05.830Z"
   },
   {
    "duration": 10,
    "start_time": "2021-12-19T13:52:34.118Z"
   },
   {
    "duration": 13,
    "start_time": "2021-12-19T13:52:36.542Z"
   },
   {
    "duration": 5,
    "start_time": "2021-12-19T13:52:46.307Z"
   },
   {
    "duration": 4,
    "start_time": "2021-12-19T13:52:53.934Z"
   },
   {
    "duration": 13,
    "start_time": "2021-12-19T13:52:55.383Z"
   },
   {
    "duration": 644,
    "start_time": "2021-12-19T13:53:15.807Z"
   },
   {
    "duration": 3,
    "start_time": "2021-12-19T13:53:16.452Z"
   },
   {
    "duration": 196,
    "start_time": "2021-12-19T13:53:16.457Z"
   },
   {
    "duration": 170,
    "start_time": "2021-12-19T13:53:16.655Z"
   },
   {
    "duration": 161,
    "start_time": "2021-12-19T13:53:16.826Z"
   },
   {
    "duration": 23,
    "start_time": "2021-12-19T13:53:16.990Z"
   },
   {
    "duration": 59,
    "start_time": "2021-12-19T13:53:17.015Z"
   },
   {
    "duration": 5,
    "start_time": "2021-12-19T13:53:17.076Z"
   },
   {
    "duration": 7,
    "start_time": "2021-12-19T13:53:17.082Z"
   },
   {
    "duration": 66,
    "start_time": "2021-12-19T13:53:17.091Z"
   },
   {
    "duration": 7,
    "start_time": "2021-12-19T13:53:17.159Z"
   },
   {
    "duration": 65,
    "start_time": "2021-12-19T13:53:17.168Z"
   },
   {
    "duration": 108,
    "start_time": "2021-12-19T13:53:17.234Z"
   },
   {
    "duration": 3,
    "start_time": "2021-12-19T13:53:17.344Z"
   },
   {
    "duration": 8,
    "start_time": "2021-12-19T13:53:17.349Z"
   },
   {
    "duration": 1066,
    "start_time": "2021-12-19T13:53:17.359Z"
   },
   {
    "duration": 5,
    "start_time": "2021-12-19T13:53:24.722Z"
   },
   {
    "duration": 14,
    "start_time": "2021-12-19T13:53:25.558Z"
   },
   {
    "duration": 590,
    "start_time": "2021-12-19T13:53:36.547Z"
   },
   {
    "duration": 3,
    "start_time": "2021-12-19T13:53:37.138Z"
   },
   {
    "duration": 186,
    "start_time": "2021-12-19T13:53:37.143Z"
   },
   {
    "duration": 160,
    "start_time": "2021-12-19T13:53:37.331Z"
   },
   {
    "duration": 110,
    "start_time": "2021-12-19T13:53:37.493Z"
   },
   {
    "duration": 20,
    "start_time": "2021-12-19T13:53:37.604Z"
   },
   {
    "duration": 49,
    "start_time": "2021-12-19T13:53:37.626Z"
   },
   {
    "duration": 4,
    "start_time": "2021-12-19T13:53:37.676Z"
   },
   {
    "duration": 9,
    "start_time": "2021-12-19T13:53:37.682Z"
   },
   {
    "duration": 64,
    "start_time": "2021-12-19T13:53:37.692Z"
   },
   {
    "duration": 8,
    "start_time": "2021-12-19T13:53:37.757Z"
   },
   {
    "duration": 49,
    "start_time": "2021-12-19T13:53:37.792Z"
   },
   {
    "duration": 113,
    "start_time": "2021-12-19T13:53:37.843Z"
   },
   {
    "duration": 3,
    "start_time": "2021-12-19T13:53:37.958Z"
   },
   {
    "duration": 8,
    "start_time": "2021-12-19T13:53:37.962Z"
   },
   {
    "duration": 9,
    "start_time": "2021-12-19T13:55:59.004Z"
   },
   {
    "duration": 6,
    "start_time": "2021-12-19T13:56:04.660Z"
   },
   {
    "duration": 7,
    "start_time": "2021-12-19T13:56:13.806Z"
   },
   {
    "duration": 6124,
    "start_time": "2021-12-19T13:56:46.350Z"
   },
   {
    "duration": 8,
    "start_time": "2021-12-19T13:57:05.302Z"
   },
   {
    "duration": 14,
    "start_time": "2021-12-19T13:57:12.762Z"
   },
   {
    "duration": 800,
    "start_time": "2021-12-19T14:02:50.151Z"
   },
   {
    "duration": 4,
    "start_time": "2021-12-19T14:02:50.953Z"
   },
   {
    "duration": 199,
    "start_time": "2021-12-19T14:02:50.958Z"
   },
   {
    "duration": 170,
    "start_time": "2021-12-19T14:02:51.159Z"
   },
   {
    "duration": 110,
    "start_time": "2021-12-19T14:02:51.331Z"
   },
   {
    "duration": 19,
    "start_time": "2021-12-19T14:02:51.443Z"
   },
   {
    "duration": 52,
    "start_time": "2021-12-19T14:02:51.463Z"
   },
   {
    "duration": 4,
    "start_time": "2021-12-19T14:02:51.516Z"
   },
   {
    "duration": 5,
    "start_time": "2021-12-19T14:02:51.522Z"
   },
   {
    "duration": 98,
    "start_time": "2021-12-19T14:02:51.529Z"
   },
   {
    "duration": 7,
    "start_time": "2021-12-19T14:02:51.629Z"
   },
   {
    "duration": 65,
    "start_time": "2021-12-19T14:02:51.637Z"
   },
   {
    "duration": 116,
    "start_time": "2021-12-19T14:02:51.704Z"
   },
   {
    "duration": 3,
    "start_time": "2021-12-19T14:02:51.821Z"
   },
   {
    "duration": 8,
    "start_time": "2021-12-19T14:02:51.826Z"
   },
   {
    "duration": 5745,
    "start_time": "2021-12-19T14:02:55.663Z"
   },
   {
    "duration": 7282,
    "start_time": "2021-12-19T14:03:19.434Z"
   },
   {
    "duration": 761,
    "start_time": "2021-12-19T14:03:39.750Z"
   },
   {
    "duration": 25,
    "start_time": "2021-12-19T14:03:44.782Z"
   },
   {
    "duration": 803,
    "start_time": "2021-12-19T14:04:23.229Z"
   },
   {
    "duration": 10,
    "start_time": "2021-12-19T14:04:24.034Z"
   },
   {
    "duration": 194,
    "start_time": "2021-12-19T14:04:24.046Z"
   },
   {
    "duration": 162,
    "start_time": "2021-12-19T14:04:24.241Z"
   },
   {
    "duration": 110,
    "start_time": "2021-12-19T14:04:24.404Z"
   },
   {
    "duration": 23,
    "start_time": "2021-12-19T14:04:24.517Z"
   },
   {
    "duration": 71,
    "start_time": "2021-12-19T14:04:24.542Z"
   },
   {
    "duration": 5,
    "start_time": "2021-12-19T14:04:24.616Z"
   },
   {
    "duration": 6,
    "start_time": "2021-12-19T14:04:24.624Z"
   },
   {
    "duration": 91,
    "start_time": "2021-12-19T14:04:24.632Z"
   },
   {
    "duration": 8,
    "start_time": "2021-12-19T14:04:24.725Z"
   },
   {
    "duration": 62,
    "start_time": "2021-12-19T14:04:24.734Z"
   },
   {
    "duration": 108,
    "start_time": "2021-12-19T14:04:24.798Z"
   },
   {
    "duration": 3,
    "start_time": "2021-12-19T14:04:24.908Z"
   },
   {
    "duration": 10,
    "start_time": "2021-12-19T14:04:24.912Z"
   },
   {
    "duration": 234,
    "start_time": "2021-12-19T14:04:27.753Z"
   },
   {
    "duration": 16,
    "start_time": "2021-12-19T14:04:28.801Z"
   },
   {
    "duration": 937,
    "start_time": "2021-12-19T14:06:09.233Z"
   },
   {
    "duration": 16,
    "start_time": "2021-12-19T14:06:11.499Z"
   },
   {
    "duration": 860,
    "start_time": "2021-12-19T14:06:50.241Z"
   },
   {
    "duration": 17,
    "start_time": "2021-12-19T14:06:51.701Z"
   },
   {
    "duration": 15,
    "start_time": "2021-12-19T14:08:29.764Z"
   },
   {
    "duration": 652,
    "start_time": "2021-12-19T14:09:14.780Z"
   },
   {
    "duration": 3,
    "start_time": "2021-12-19T14:09:15.434Z"
   },
   {
    "duration": 195,
    "start_time": "2021-12-19T14:09:15.439Z"
   },
   {
    "duration": 156,
    "start_time": "2021-12-19T14:09:15.636Z"
   },
   {
    "duration": 106,
    "start_time": "2021-12-19T14:09:15.794Z"
   },
   {
    "duration": 19,
    "start_time": "2021-12-19T14:09:15.902Z"
   },
   {
    "duration": 55,
    "start_time": "2021-12-19T14:09:15.923Z"
   },
   {
    "duration": 4,
    "start_time": "2021-12-19T14:09:15.980Z"
   },
   {
    "duration": 7,
    "start_time": "2021-12-19T14:09:15.987Z"
   },
   {
    "duration": 114,
    "start_time": "2021-12-19T14:09:15.996Z"
   },
   {
    "duration": 10,
    "start_time": "2021-12-19T14:09:16.112Z"
   },
   {
    "duration": 73,
    "start_time": "2021-12-19T14:09:16.124Z"
   },
   {
    "duration": 151,
    "start_time": "2021-12-19T14:09:16.199Z"
   },
   {
    "duration": 3,
    "start_time": "2021-12-19T14:09:16.352Z"
   },
   {
    "duration": 8,
    "start_time": "2021-12-19T14:09:16.357Z"
   },
   {
    "duration": 20,
    "start_time": "2021-12-19T14:09:16.367Z"
   },
   {
    "duration": 667,
    "start_time": "2021-12-19T14:12:47.301Z"
   },
   {
    "duration": 3,
    "start_time": "2021-12-19T14:12:47.970Z"
   },
   {
    "duration": 217,
    "start_time": "2021-12-19T14:12:47.975Z"
   },
   {
    "duration": 200,
    "start_time": "2021-12-19T14:12:48.195Z"
   },
   {
    "duration": 139,
    "start_time": "2021-12-19T14:12:48.397Z"
   },
   {
    "duration": 24,
    "start_time": "2021-12-19T14:12:48.539Z"
   },
   {
    "duration": 58,
    "start_time": "2021-12-19T14:12:48.565Z"
   },
   {
    "duration": 6,
    "start_time": "2021-12-19T14:12:48.626Z"
   },
   {
    "duration": 5,
    "start_time": "2021-12-19T14:12:48.635Z"
   },
   {
    "duration": 148,
    "start_time": "2021-12-19T14:12:48.642Z"
   },
   {
    "duration": 11,
    "start_time": "2021-12-19T14:12:48.792Z"
   },
   {
    "duration": 59,
    "start_time": "2021-12-19T14:12:48.806Z"
   },
   {
    "duration": 196,
    "start_time": "2021-12-19T14:12:48.868Z"
   },
   {
    "duration": 4,
    "start_time": "2021-12-19T14:12:49.066Z"
   },
   {
    "duration": 11,
    "start_time": "2021-12-19T14:12:49.072Z"
   },
   {
    "duration": 5,
    "start_time": "2021-12-19T14:12:50.983Z"
   },
   {
    "duration": 311,
    "start_time": "2021-12-19T14:13:42.611Z"
   },
   {
    "duration": 647,
    "start_time": "2021-12-19T14:13:52.461Z"
   },
   {
    "duration": 3,
    "start_time": "2021-12-19T14:13:53.110Z"
   },
   {
    "duration": 218,
    "start_time": "2021-12-19T14:13:53.116Z"
   },
   {
    "duration": 178,
    "start_time": "2021-12-19T14:13:53.337Z"
   },
   {
    "duration": 123,
    "start_time": "2021-12-19T14:13:53.517Z"
   },
   {
    "duration": 24,
    "start_time": "2021-12-19T14:13:53.642Z"
   },
   {
    "duration": 65,
    "start_time": "2021-12-19T14:13:53.668Z"
   },
   {
    "duration": 4,
    "start_time": "2021-12-19T14:13:53.735Z"
   },
   {
    "duration": 4,
    "start_time": "2021-12-19T14:13:53.742Z"
   },
   {
    "duration": 98,
    "start_time": "2021-12-19T14:13:53.748Z"
   },
   {
    "duration": 7,
    "start_time": "2021-12-19T14:13:53.848Z"
   },
   {
    "duration": 68,
    "start_time": "2021-12-19T14:13:53.857Z"
   },
   {
    "duration": 140,
    "start_time": "2021-12-19T14:13:53.928Z"
   },
   {
    "duration": 5,
    "start_time": "2021-12-19T14:13:54.071Z"
   },
   {
    "duration": 21,
    "start_time": "2021-12-19T14:13:54.077Z"
   },
   {
    "duration": 5,
    "start_time": "2021-12-19T14:13:54.100Z"
   },
   {
    "duration": 2321,
    "start_time": "2021-12-19T14:23:43.506Z"
   },
   {
    "duration": 12,
    "start_time": "2021-12-19T14:23:50.661Z"
   },
   {
    "duration": 7,
    "start_time": "2021-12-19T14:24:36.542Z"
   },
   {
    "duration": 654,
    "start_time": "2021-12-19T14:30:27.990Z"
   },
   {
    "duration": 3,
    "start_time": "2021-12-19T14:30:28.646Z"
   },
   {
    "duration": 205,
    "start_time": "2021-12-19T14:30:28.651Z"
   },
   {
    "duration": 193,
    "start_time": "2021-12-19T14:30:28.858Z"
   },
   {
    "duration": 122,
    "start_time": "2021-12-19T14:30:29.053Z"
   },
   {
    "duration": 21,
    "start_time": "2021-12-19T14:30:29.177Z"
   },
   {
    "duration": 48,
    "start_time": "2021-12-19T14:30:29.200Z"
   },
   {
    "duration": 5,
    "start_time": "2021-12-19T14:30:29.249Z"
   },
   {
    "duration": 7,
    "start_time": "2021-12-19T14:30:29.256Z"
   },
   {
    "duration": 127,
    "start_time": "2021-12-19T14:30:29.265Z"
   },
   {
    "duration": 8,
    "start_time": "2021-12-19T14:30:29.393Z"
   },
   {
    "duration": 58,
    "start_time": "2021-12-19T14:30:29.403Z"
   },
   {
    "duration": 153,
    "start_time": "2021-12-19T14:30:29.463Z"
   },
   {
    "duration": 4,
    "start_time": "2021-12-19T14:30:29.618Z"
   },
   {
    "duration": 16,
    "start_time": "2021-12-19T14:30:29.624Z"
   },
   {
    "duration": 23,
    "start_time": "2021-12-19T14:30:29.642Z"
   },
   {
    "duration": 5847,
    "start_time": "2021-12-19T14:30:40.013Z"
   },
   {
    "duration": 15,
    "start_time": "2021-12-19T14:30:52.234Z"
   },
   {
    "duration": 777,
    "start_time": "2021-12-19T14:39:30.757Z"
   },
   {
    "duration": 6,
    "start_time": "2021-12-19T14:39:31.537Z"
   },
   {
    "duration": 281,
    "start_time": "2021-12-19T14:39:31.546Z"
   },
   {
    "duration": 220,
    "start_time": "2021-12-19T14:39:31.829Z"
   },
   {
    "duration": 157,
    "start_time": "2021-12-19T14:39:32.051Z"
   },
   {
    "duration": 23,
    "start_time": "2021-12-19T14:39:32.210Z"
   },
   {
    "duration": 66,
    "start_time": "2021-12-19T14:39:32.235Z"
   },
   {
    "duration": 6,
    "start_time": "2021-12-19T14:39:32.303Z"
   },
   {
    "duration": 11,
    "start_time": "2021-12-19T14:39:32.312Z"
   },
   {
    "duration": 97,
    "start_time": "2021-12-19T14:39:32.325Z"
   },
   {
    "duration": 10,
    "start_time": "2021-12-19T14:39:32.424Z"
   },
   {
    "duration": 106,
    "start_time": "2021-12-19T14:39:32.436Z"
   },
   {
    "duration": 176,
    "start_time": "2021-12-19T14:39:32.544Z"
   },
   {
    "duration": 6,
    "start_time": "2021-12-19T14:39:32.723Z"
   },
   {
    "duration": 57,
    "start_time": "2021-12-19T14:39:32.731Z"
   },
   {
    "duration": 4,
    "start_time": "2021-12-19T14:39:32.791Z"
   },
   {
    "duration": 87,
    "start_time": "2021-12-19T14:39:32.797Z"
   },
   {
    "duration": 78,
    "start_time": "2021-12-19T14:40:22.921Z"
   },
   {
    "duration": 6823,
    "start_time": "2021-12-19T14:40:44.536Z"
   },
   {
    "duration": 10,
    "start_time": "2021-12-19T14:40:51.361Z"
   },
   {
    "duration": 8,
    "start_time": "2021-12-19T14:41:48.940Z"
   },
   {
    "duration": 18,
    "start_time": "2021-12-19T14:43:04.784Z"
   },
   {
    "duration": 31,
    "start_time": "2021-12-19T14:44:16.596Z"
   },
   {
    "duration": 37,
    "start_time": "2021-12-19T14:44:58.315Z"
   },
   {
    "duration": 50,
    "start_time": "2021-12-19T14:58:01.850Z"
   },
   {
    "duration": 7121,
    "start_time": "2021-12-19T14:59:17.199Z"
   },
   {
    "duration": 25,
    "start_time": "2021-12-19T14:59:31.398Z"
   },
   {
    "duration": 40,
    "start_time": "2021-12-19T15:00:25.670Z"
   },
   {
    "duration": 43,
    "start_time": "2021-12-19T15:00:55.386Z"
   },
   {
    "duration": 38,
    "start_time": "2021-12-19T15:01:15.505Z"
   },
   {
    "duration": 589,
    "start_time": "2021-12-19T15:03:10.849Z"
   },
   {
    "duration": 616,
    "start_time": "2021-12-19T15:03:26.142Z"
   },
   {
    "duration": 192,
    "start_time": "2021-12-19T15:03:32.981Z"
   },
   {
    "duration": 79,
    "start_time": "2021-12-19T15:11:25.752Z"
   },
   {
    "duration": 1102,
    "start_time": "2021-12-19T15:11:33.428Z"
   },
   {
    "duration": 4981,
    "start_time": "2021-12-19T15:12:19.768Z"
   },
   {
    "duration": 4362,
    "start_time": "2021-12-19T15:12:59.568Z"
   },
   {
    "duration": 4663,
    "start_time": "2021-12-19T15:13:15.076Z"
   },
   {
    "duration": 4795,
    "start_time": "2021-12-19T15:13:22.138Z"
   },
   {
    "duration": 5484,
    "start_time": "2021-12-19T15:13:42.139Z"
   },
   {
    "duration": 4332,
    "start_time": "2021-12-19T15:13:49.668Z"
   },
   {
    "duration": 6100,
    "start_time": "2021-12-19T15:14:26.584Z"
   },
   {
    "duration": 5066,
    "start_time": "2021-12-19T15:14:44.716Z"
   },
   {
    "duration": 4454,
    "start_time": "2021-12-19T15:15:11.940Z"
   },
   {
    "duration": 609,
    "start_time": "2021-12-19T15:42:55.036Z"
   },
   {
    "duration": 3,
    "start_time": "2021-12-19T15:42:55.646Z"
   },
   {
    "duration": 222,
    "start_time": "2021-12-19T15:42:55.651Z"
   },
   {
    "duration": 219,
    "start_time": "2021-12-19T15:42:55.875Z"
   },
   {
    "duration": 165,
    "start_time": "2021-12-19T15:42:56.097Z"
   },
   {
    "duration": 28,
    "start_time": "2021-12-19T15:42:56.264Z"
   },
   {
    "duration": 54,
    "start_time": "2021-12-19T15:42:56.293Z"
   },
   {
    "duration": 5,
    "start_time": "2021-12-19T15:42:56.350Z"
   },
   {
    "duration": 5,
    "start_time": "2021-12-19T15:42:56.358Z"
   },
   {
    "duration": 113,
    "start_time": "2021-12-19T15:42:56.365Z"
   },
   {
    "duration": 9,
    "start_time": "2021-12-19T15:42:56.480Z"
   },
   {
    "duration": 53,
    "start_time": "2021-12-19T15:42:56.490Z"
   },
   {
    "duration": 119,
    "start_time": "2021-12-19T15:42:56.549Z"
   },
   {
    "duration": 318,
    "start_time": "2021-12-19T15:42:56.669Z"
   },
   {
    "duration": 1035,
    "start_time": "2021-12-19T15:42:55.954Z"
   },
   {
    "duration": 1033,
    "start_time": "2021-12-19T15:42:55.957Z"
   },
   {
    "duration": 244,
    "start_time": "2021-12-19T15:44:23.984Z"
   },
   {
    "duration": 704,
    "start_time": "2021-12-19T15:44:48.297Z"
   },
   {
    "duration": 10,
    "start_time": "2021-12-19T15:44:49.004Z"
   },
   {
    "duration": 238,
    "start_time": "2021-12-19T15:44:49.016Z"
   },
   {
    "duration": 223,
    "start_time": "2021-12-19T15:44:49.257Z"
   },
   {
    "duration": 175,
    "start_time": "2021-12-19T15:44:49.488Z"
   },
   {
    "duration": 20,
    "start_time": "2021-12-19T15:44:49.666Z"
   },
   {
    "duration": 56,
    "start_time": "2021-12-19T15:44:49.689Z"
   },
   {
    "duration": 6,
    "start_time": "2021-12-19T15:44:49.747Z"
   },
   {
    "duration": 8,
    "start_time": "2021-12-19T15:44:49.758Z"
   },
   {
    "duration": 91,
    "start_time": "2021-12-19T15:44:49.769Z"
   },
   {
    "duration": 8,
    "start_time": "2021-12-19T15:44:49.862Z"
   },
   {
    "duration": 52,
    "start_time": "2021-12-19T15:44:49.887Z"
   },
   {
    "duration": 129,
    "start_time": "2021-12-19T15:44:49.941Z"
   },
   {
    "duration": 6,
    "start_time": "2021-12-19T15:44:51.082Z"
   },
   {
    "duration": 9,
    "start_time": "2021-12-19T15:44:53.686Z"
   },
   {
    "duration": 4,
    "start_time": "2021-12-19T15:44:55.153Z"
   },
   {
    "duration": 85,
    "start_time": "2021-12-19T15:44:59.030Z"
   },
   {
    "duration": 6345,
    "start_time": "2021-12-19T15:45:43.870Z"
   },
   {
    "duration": 12,
    "start_time": "2021-12-19T15:46:00.666Z"
   },
   {
    "duration": 7,
    "start_time": "2021-12-19T15:46:17.807Z"
   },
   {
    "duration": 622,
    "start_time": "2021-12-19T15:46:47.127Z"
   },
   {
    "duration": 3,
    "start_time": "2021-12-19T15:46:47.751Z"
   },
   {
    "duration": 233,
    "start_time": "2021-12-19T15:46:47.756Z"
   },
   {
    "duration": 187,
    "start_time": "2021-12-19T15:46:47.994Z"
   },
   {
    "duration": 127,
    "start_time": "2021-12-19T15:46:48.182Z"
   },
   {
    "duration": 21,
    "start_time": "2021-12-19T15:46:48.310Z"
   },
   {
    "duration": 49,
    "start_time": "2021-12-19T15:46:48.332Z"
   },
   {
    "duration": 8,
    "start_time": "2021-12-19T15:46:48.383Z"
   },
   {
    "duration": 11,
    "start_time": "2021-12-19T15:46:48.395Z"
   },
   {
    "duration": 94,
    "start_time": "2021-12-19T15:46:48.410Z"
   },
   {
    "duration": 10,
    "start_time": "2021-12-19T15:46:48.512Z"
   },
   {
    "duration": 53,
    "start_time": "2021-12-19T15:46:48.525Z"
   },
   {
    "duration": 137,
    "start_time": "2021-12-19T15:46:48.580Z"
   },
   {
    "duration": 6,
    "start_time": "2021-12-19T15:46:48.719Z"
   },
   {
    "duration": 28,
    "start_time": "2021-12-19T15:46:48.727Z"
   },
   {
    "duration": 6,
    "start_time": "2021-12-19T15:46:48.756Z"
   },
   {
    "duration": 6641,
    "start_time": "2021-12-19T15:46:50.104Z"
   },
   {
    "duration": 14,
    "start_time": "2021-12-19T15:46:58.603Z"
   },
   {
    "duration": 38,
    "start_time": "2021-12-19T15:47:46.195Z"
   },
   {
    "duration": 45,
    "start_time": "2021-12-19T15:47:49.055Z"
   },
   {
    "duration": 43,
    "start_time": "2021-12-19T15:47:50.771Z"
   },
   {
    "duration": 302,
    "start_time": "2021-12-19T18:18:45.961Z"
   },
   {
    "duration": 91,
    "start_time": "2021-12-19T18:19:58.637Z"
   },
   {
    "duration": 345,
    "start_time": "2021-12-19T18:20:04.880Z"
   },
   {
    "duration": 373,
    "start_time": "2021-12-19T18:20:14.061Z"
   },
   {
    "duration": 337,
    "start_time": "2021-12-19T18:20:32.701Z"
   },
   {
    "duration": 341,
    "start_time": "2021-12-19T18:20:41.548Z"
   },
   {
    "duration": 417,
    "start_time": "2021-12-19T18:20:47.473Z"
   },
   {
    "duration": 440,
    "start_time": "2021-12-19T18:20:56.892Z"
   },
   {
    "duration": 451,
    "start_time": "2021-12-19T18:21:02.500Z"
   },
   {
    "duration": 386,
    "start_time": "2021-12-19T18:21:31.310Z"
   },
   {
    "duration": 386,
    "start_time": "2021-12-19T18:21:50.439Z"
   },
   {
    "duration": 410,
    "start_time": "2021-12-19T18:22:02.252Z"
   },
   {
    "duration": 608,
    "start_time": "2021-12-19T18:24:21.996Z"
   },
   {
    "duration": 569,
    "start_time": "2021-12-19T18:24:38.244Z"
   },
   {
    "duration": 815,
    "start_time": "2021-12-19T18:24:58.487Z"
   },
   {
    "duration": 413,
    "start_time": "2021-12-19T18:26:40.659Z"
   },
   {
    "duration": 416,
    "start_time": "2021-12-19T18:27:34.884Z"
   },
   {
    "duration": 426,
    "start_time": "2021-12-19T18:28:51.383Z"
   },
   {
    "duration": 483,
    "start_time": "2021-12-19T18:29:09.307Z"
   },
   {
    "duration": 489,
    "start_time": "2021-12-19T18:29:15.987Z"
   },
   {
    "duration": 414,
    "start_time": "2021-12-19T18:30:24.803Z"
   },
   {
    "duration": 388,
    "start_time": "2021-12-19T18:30:30.155Z"
   },
   {
    "duration": 459,
    "start_time": "2021-12-19T18:30:36.067Z"
   },
   {
    "duration": 418,
    "start_time": "2021-12-19T18:30:42.691Z"
   },
   {
    "duration": 429,
    "start_time": "2021-12-19T18:30:47.979Z"
   },
   {
    "duration": 540,
    "start_time": "2021-12-19T18:30:51.277Z"
   },
   {
    "duration": 482,
    "start_time": "2021-12-19T18:30:59.679Z"
   },
   {
    "duration": 463,
    "start_time": "2021-12-19T18:31:11.087Z"
   },
   {
    "duration": 440,
    "start_time": "2021-12-19T18:31:23.283Z"
   },
   {
    "duration": 450,
    "start_time": "2021-12-19T18:31:28.235Z"
   },
   {
    "duration": 517,
    "start_time": "2021-12-19T18:31:42.039Z"
   },
   {
    "duration": 437,
    "start_time": "2021-12-19T18:31:45.931Z"
   },
   {
    "duration": 446,
    "start_time": "2021-12-19T18:31:50.203Z"
   },
   {
    "duration": 483,
    "start_time": "2021-12-19T18:31:58.307Z"
   },
   {
    "duration": 415,
    "start_time": "2021-12-19T18:41:16.461Z"
   },
   {
    "duration": 244,
    "start_time": "2021-12-19T18:44:16.521Z"
   },
   {
    "duration": 7,
    "start_time": "2021-12-19T18:44:30.241Z"
   },
   {
    "duration": 448,
    "start_time": "2021-12-19T18:47:42.548Z"
   },
   {
    "duration": 8,
    "start_time": "2021-12-19T18:48:37.269Z"
   },
   {
    "duration": 278,
    "start_time": "2021-12-19T18:54:24.315Z"
   },
   {
    "duration": 232,
    "start_time": "2021-12-19T18:55:03.755Z"
   },
   {
    "duration": 5959,
    "start_time": "2021-12-19T18:55:15.747Z"
   },
   {
    "duration": 5941,
    "start_time": "2021-12-19T18:56:02.203Z"
   },
   {
    "duration": 7,
    "start_time": "2021-12-19T18:56:32.767Z"
   },
   {
    "duration": 14,
    "start_time": "2021-12-19T18:56:36.739Z"
   },
   {
    "duration": 6,
    "start_time": "2021-12-19T18:57:03.907Z"
   },
   {
    "duration": 4,
    "start_time": "2021-12-19T18:57:16.531Z"
   },
   {
    "duration": 8,
    "start_time": "2021-12-19T18:58:04.027Z"
   },
   {
    "duration": 2,
    "start_time": "2021-12-19T19:06:02.254Z"
   },
   {
    "duration": 3,
    "start_time": "2021-12-19T19:07:04.586Z"
   },
   {
    "duration": 174,
    "start_time": "2021-12-19T19:07:09.334Z"
   },
   {
    "duration": 154,
    "start_time": "2021-12-19T19:07:35.854Z"
   },
   {
    "duration": 3,
    "start_time": "2021-12-19T19:08:02.734Z"
   },
   {
    "duration": 181,
    "start_time": "2021-12-19T19:08:07.754Z"
   },
   {
    "duration": 162,
    "start_time": "2021-12-19T19:08:37.185Z"
   },
   {
    "duration": 112,
    "start_time": "2021-12-19T19:08:48.406Z"
   },
   {
    "duration": 20,
    "start_time": "2021-12-19T19:08:52.702Z"
   },
   {
    "duration": 48,
    "start_time": "2021-12-19T19:08:57.469Z"
   },
   {
    "duration": 4,
    "start_time": "2021-12-19T19:09:11.729Z"
   },
   {
    "duration": 4,
    "start_time": "2021-12-19T19:09:15.138Z"
   },
   {
    "duration": 61,
    "start_time": "2021-12-19T19:10:28.081Z"
   },
   {
    "duration": 8,
    "start_time": "2021-12-19T19:10:28.650Z"
   },
   {
    "duration": 47,
    "start_time": "2021-12-19T19:10:30.101Z"
   },
   {
    "duration": 102,
    "start_time": "2021-12-19T19:10:31.397Z"
   },
   {
    "duration": 4,
    "start_time": "2021-12-19T19:13:37.317Z"
   },
   {
    "duration": 4803,
    "start_time": "2021-12-19T19:13:56.933Z"
   },
   {
    "duration": 7,
    "start_time": "2021-12-19T19:14:07.188Z"
   },
   {
    "duration": 1005,
    "start_time": "2021-12-19T19:14:07.756Z"
   },
   {
    "duration": 983,
    "start_time": "2021-12-19T19:14:18.013Z"
   },
   {
    "duration": 3,
    "start_time": "2021-12-19T19:14:18.998Z"
   },
   {
    "duration": 205,
    "start_time": "2021-12-19T19:14:19.003Z"
   },
   {
    "duration": 270,
    "start_time": "2021-12-19T19:14:19.210Z"
   },
   {
    "duration": 119,
    "start_time": "2021-12-19T19:14:19.482Z"
   },
   {
    "duration": 20,
    "start_time": "2021-12-19T19:14:19.602Z"
   },
   {
    "duration": 75,
    "start_time": "2021-12-19T19:14:19.624Z"
   },
   {
    "duration": 4,
    "start_time": "2021-12-19T19:14:19.701Z"
   },
   {
    "duration": 9,
    "start_time": "2021-12-19T19:14:19.708Z"
   },
   {
    "duration": 74,
    "start_time": "2021-12-19T19:14:19.719Z"
   },
   {
    "duration": 10,
    "start_time": "2021-12-19T19:14:19.795Z"
   },
   {
    "duration": 82,
    "start_time": "2021-12-19T19:14:19.806Z"
   },
   {
    "duration": 114,
    "start_time": "2021-12-19T19:14:19.890Z"
   },
   {
    "duration": 5,
    "start_time": "2021-12-19T19:14:20.006Z"
   },
   {
    "duration": 6,
    "start_time": "2021-12-19T19:14:20.957Z"
   },
   {
    "duration": 4,
    "start_time": "2021-12-19T19:14:21.913Z"
   },
   {
    "duration": 6484,
    "start_time": "2021-12-19T19:15:34.321Z"
   },
   {
    "duration": 10,
    "start_time": "2021-12-19T19:15:40.807Z"
   },
   {
    "duration": 25,
    "start_time": "2021-12-19T19:16:02.949Z"
   },
   {
    "duration": 57,
    "start_time": "2021-12-19T19:18:37.000Z"
   },
   {
    "duration": 61,
    "start_time": "2021-12-19T19:27:00.627Z"
   },
   {
    "duration": 87,
    "start_time": "2021-12-19T19:27:22.472Z"
   },
   {
    "duration": 61,
    "start_time": "2021-12-19T19:27:35.019Z"
   },
   {
    "duration": 68,
    "start_time": "2021-12-19T19:27:53.359Z"
   },
   {
    "duration": 61,
    "start_time": "2021-12-19T19:28:00.951Z"
   },
   {
    "duration": 298,
    "start_time": "2021-12-19T19:28:23.963Z"
   },
   {
    "duration": 58,
    "start_time": "2021-12-19T19:28:28.475Z"
   },
   {
    "duration": 57,
    "start_time": "2021-12-19T19:28:38.095Z"
   },
   {
    "duration": 59,
    "start_time": "2021-12-19T19:37:08.805Z"
   },
   {
    "duration": 59,
    "start_time": "2021-12-19T19:37:14.877Z"
   },
   {
    "duration": 61,
    "start_time": "2021-12-19T19:37:50.213Z"
   },
   {
    "duration": 59,
    "start_time": "2021-12-19T19:37:57.253Z"
   },
   {
    "duration": 924,
    "start_time": "2021-12-19T19:46:38.033Z"
   },
   {
    "duration": 3,
    "start_time": "2021-12-19T19:46:38.959Z"
   },
   {
    "duration": 194,
    "start_time": "2021-12-19T19:46:38.963Z"
   },
   {
    "duration": 161,
    "start_time": "2021-12-19T19:46:39.158Z"
   },
   {
    "duration": 112,
    "start_time": "2021-12-19T19:46:39.321Z"
   },
   {
    "duration": 19,
    "start_time": "2021-12-19T19:46:39.435Z"
   },
   {
    "duration": 58,
    "start_time": "2021-12-19T19:46:39.456Z"
   },
   {
    "duration": 5,
    "start_time": "2021-12-19T19:46:39.516Z"
   },
   {
    "duration": 4,
    "start_time": "2021-12-19T19:46:39.523Z"
   },
   {
    "duration": 84,
    "start_time": "2021-12-19T19:46:39.529Z"
   },
   {
    "duration": 7,
    "start_time": "2021-12-19T19:46:39.615Z"
   },
   {
    "duration": 48,
    "start_time": "2021-12-19T19:46:39.624Z"
   },
   {
    "duration": 118,
    "start_time": "2021-12-19T19:46:39.673Z"
   },
   {
    "duration": 5,
    "start_time": "2021-12-19T19:46:39.792Z"
   },
   {
    "duration": 7,
    "start_time": "2021-12-19T19:46:39.799Z"
   },
   {
    "duration": 5,
    "start_time": "2021-12-19T19:46:39.808Z"
   },
   {
    "duration": 6054,
    "start_time": "2021-12-19T19:46:39.815Z"
   },
   {
    "duration": 33,
    "start_time": "2021-12-19T19:46:45.870Z"
   },
   {
    "duration": 58,
    "start_time": "2021-12-19T19:46:47.316Z"
   },
   {
    "duration": 58,
    "start_time": "2021-12-19T19:46:50.242Z"
   },
   {
    "duration": 59,
    "start_time": "2021-12-19T19:46:51.188Z"
   },
   {
    "duration": 447,
    "start_time": "2021-12-19T19:46:53.312Z"
   },
   {
    "duration": 758,
    "start_time": "2021-12-19T19:55:20.379Z"
   },
   {
    "duration": 684,
    "start_time": "2021-12-19T19:55:27.167Z"
   },
   {
    "duration": 458,
    "start_time": "2021-12-19T19:55:33.175Z"
   },
   {
    "duration": 630,
    "start_time": "2021-12-19T19:58:59.457Z"
   },
   {
    "duration": 452,
    "start_time": "2021-12-19T19:59:03.059Z"
   },
   {
    "duration": 451,
    "start_time": "2021-12-19T19:59:08.934Z"
   },
   {
    "duration": 456,
    "start_time": "2021-12-19T19:59:14.647Z"
   },
   {
    "duration": 8,
    "start_time": "2021-12-19T20:00:19.750Z"
   },
   {
    "duration": 8,
    "start_time": "2021-12-19T20:00:51.296Z"
   },
   {
    "duration": 6746,
    "start_time": "2021-12-19T20:00:58.378Z"
   },
   {
    "duration": 132,
    "start_time": "2021-12-19T20:01:04.995Z"
   },
   {
    "duration": 130,
    "start_time": "2021-12-19T20:01:04.997Z"
   },
   {
    "duration": 10,
    "start_time": "2021-12-19T20:01:17.454Z"
   },
   {
    "duration": 6,
    "start_time": "2021-12-19T20:01:18.562Z"
   },
   {
    "duration": 9,
    "start_time": "2021-12-19T20:01:24.062Z"
   },
   {
    "duration": 464,
    "start_time": "2021-12-19T20:11:43.297Z"
   },
   {
    "duration": 393,
    "start_time": "2021-12-19T20:11:56.448Z"
   },
   {
    "duration": 432,
    "start_time": "2021-12-19T20:12:00.217Z"
   },
   {
    "duration": 358,
    "start_time": "2021-12-19T20:12:05.080Z"
   },
   {
    "duration": 379,
    "start_time": "2021-12-19T20:12:08.200Z"
   },
   {
    "duration": 64,
    "start_time": "2021-12-19T20:12:34.949Z"
   },
   {
    "duration": 39,
    "start_time": "2021-12-19T20:13:20.724Z"
   },
   {
    "duration": 75,
    "start_time": "2021-12-19T20:13:42.904Z"
   },
   {
    "duration": 45,
    "start_time": "2021-12-19T20:16:43.572Z"
   },
   {
    "duration": 921,
    "start_time": "2021-12-20T14:54:38.242Z"
   },
   {
    "duration": 3,
    "start_time": "2021-12-20T14:54:39.165Z"
   },
   {
    "duration": 202,
    "start_time": "2021-12-20T14:54:39.170Z"
   },
   {
    "duration": 158,
    "start_time": "2021-12-20T14:54:39.374Z"
   },
   {
    "duration": 111,
    "start_time": "2021-12-20T14:54:39.534Z"
   },
   {
    "duration": 20,
    "start_time": "2021-12-20T14:54:39.647Z"
   },
   {
    "duration": 86,
    "start_time": "2021-12-20T14:54:39.668Z"
   },
   {
    "duration": 4,
    "start_time": "2021-12-20T14:54:39.757Z"
   },
   {
    "duration": 19,
    "start_time": "2021-12-20T14:54:39.763Z"
   },
   {
    "duration": 83,
    "start_time": "2021-12-20T14:54:39.784Z"
   },
   {
    "duration": 9,
    "start_time": "2021-12-20T14:54:39.869Z"
   },
   {
    "duration": 72,
    "start_time": "2021-12-20T14:54:39.879Z"
   },
   {
    "duration": 108,
    "start_time": "2021-12-20T14:54:39.952Z"
   },
   {
    "duration": 5,
    "start_time": "2021-12-20T14:54:40.062Z"
   },
   {
    "duration": 18,
    "start_time": "2021-12-20T14:54:40.069Z"
   },
   {
    "duration": 15,
    "start_time": "2021-12-20T14:54:40.089Z"
   },
   {
    "duration": 6272,
    "start_time": "2021-12-20T14:54:40.106Z"
   },
   {
    "duration": 30,
    "start_time": "2021-12-20T14:54:46.379Z"
   },
   {
    "duration": 59,
    "start_time": "2021-12-20T14:54:46.410Z"
   },
   {
    "duration": 544,
    "start_time": "2021-12-20T14:54:46.471Z"
   },
   {
    "duration": 75,
    "start_time": "2021-12-20T14:54:47.017Z"
   },
   {
    "duration": 510,
    "start_time": "2021-12-20T14:54:47.094Z"
   },
   {
    "duration": 62,
    "start_time": "2021-12-20T14:54:47.607Z"
   },
   {
    "duration": 558,
    "start_time": "2021-12-20T14:54:47.671Z"
   },
   {
    "duration": 82,
    "start_time": "2021-12-20T14:54:48.230Z"
   },
   {
    "duration": 50,
    "start_time": "2021-12-20T14:54:48.313Z"
   },
   {
    "duration": 452,
    "start_time": "2021-12-20T14:54:48.364Z"
   },
   {
    "duration": 8,
    "start_time": "2021-12-20T14:54:48.818Z"
   },
   {
    "duration": 10,
    "start_time": "2021-12-20T14:54:48.827Z"
   },
   {
    "duration": 3,
    "start_time": "2021-12-20T14:54:48.838Z"
   },
   {
    "duration": 8,
    "start_time": "2021-12-20T14:54:48.843Z"
   },
   {
    "duration": 29,
    "start_time": "2021-12-20T15:04:57.186Z"
   },
   {
    "duration": 13,
    "start_time": "2021-12-20T15:05:44.046Z"
   },
   {
    "duration": 14,
    "start_time": "2021-12-20T15:06:24.006Z"
   },
   {
    "duration": 11,
    "start_time": "2021-12-20T15:06:39.324Z"
   },
   {
    "duration": 5,
    "start_time": "2021-12-21T19:08:34.435Z"
   },
   {
    "duration": 1762,
    "start_time": "2021-12-21T19:08:36.063Z"
   },
   {
    "duration": 6,
    "start_time": "2021-12-21T19:08:37.828Z"
   },
   {
    "duration": 1313,
    "start_time": "2021-12-21T19:08:41.155Z"
   },
   {
    "duration": 4,
    "start_time": "2021-12-21T19:30:38.154Z"
   },
   {
    "duration": 416,
    "start_time": "2021-12-21T19:30:41.082Z"
   },
   {
    "duration": 5,
    "start_time": "2021-12-21T19:31:01.789Z"
   },
   {
    "duration": 440,
    "start_time": "2021-12-21T19:31:03.706Z"
   },
   {
    "duration": 5,
    "start_time": "2021-12-21T19:31:17.922Z"
   },
   {
    "duration": 404,
    "start_time": "2021-12-21T19:31:19.626Z"
   },
   {
    "duration": 5,
    "start_time": "2021-12-21T19:31:30.906Z"
   },
   {
    "duration": 416,
    "start_time": "2021-12-21T19:31:32.926Z"
   },
   {
    "duration": 5,
    "start_time": "2021-12-21T19:32:14.005Z"
   },
   {
    "duration": 427,
    "start_time": "2021-12-21T19:32:16.801Z"
   },
   {
    "duration": 5,
    "start_time": "2021-12-21T19:32:27.909Z"
   },
   {
    "duration": 422,
    "start_time": "2021-12-21T19:32:29.798Z"
   },
   {
    "duration": 327,
    "start_time": "2021-12-21T19:32:33.778Z"
   },
   {
    "duration": 229,
    "start_time": "2021-12-21T19:32:36.958Z"
   },
   {
    "duration": 28,
    "start_time": "2021-12-21T19:34:07.830Z"
   },
   {
    "duration": 114,
    "start_time": "2021-12-21T19:34:10.410Z"
   },
   {
    "duration": 7,
    "start_time": "2021-12-21T19:34:33.837Z"
   },
   {
    "duration": 6,
    "start_time": "2021-12-21T19:34:34.901Z"
   },
   {
    "duration": 139,
    "start_time": "2021-12-21T19:34:37.743Z"
   },
   {
    "duration": 10,
    "start_time": "2021-12-21T19:34:38.374Z"
   },
   {
    "duration": 70,
    "start_time": "2021-12-21T19:34:44.957Z"
   },
   {
    "duration": 411,
    "start_time": "2021-12-21T19:40:36.937Z"
   },
   {
    "duration": 11,
    "start_time": "2021-12-21T19:40:43.081Z"
   },
   {
    "duration": 13,
    "start_time": "2021-12-21T19:40:45.145Z"
   },
   {
    "duration": 5,
    "start_time": "2021-12-21T19:40:49.321Z"
   },
   {
    "duration": 13075,
    "start_time": "2021-12-21T19:41:31.276Z"
   },
   {
    "duration": 50,
    "start_time": "2021-12-21T19:43:00.941Z"
   },
   {
    "duration": 173,
    "start_time": "2021-12-21T19:43:05.913Z"
   },
   {
    "duration": 80,
    "start_time": "2021-12-21T19:43:32.868Z"
   },
   {
    "duration": 973,
    "start_time": "2021-12-21T19:45:24.160Z"
   },
   {
    "duration": 126,
    "start_time": "2021-12-21T19:46:12.224Z"
   },
   {
    "duration": 126,
    "start_time": "2021-12-21T19:46:36.160Z"
   },
   {
    "duration": 132,
    "start_time": "2021-12-21T19:47:20.264Z"
   },
   {
    "duration": 114,
    "start_time": "2021-12-21T19:47:23.127Z"
   },
   {
    "duration": 111,
    "start_time": "2021-12-21T19:47:48.751Z"
   },
   {
    "duration": 859,
    "start_time": "2021-12-21T19:47:51.351Z"
   },
   {
    "duration": 86,
    "start_time": "2021-12-21T19:48:08.207Z"
   },
   {
    "duration": 891,
    "start_time": "2021-12-21T19:49:05.615Z"
   },
   {
    "duration": 80,
    "start_time": "2021-12-21T19:49:16.839Z"
   },
   {
    "duration": 119,
    "start_time": "2021-12-21T19:49:19.265Z"
   },
   {
    "duration": 950,
    "start_time": "2021-12-21T19:49:20.959Z"
   },
   {
    "duration": 115,
    "start_time": "2021-12-21T19:49:27.272Z"
   },
   {
    "duration": 75,
    "start_time": "2021-12-21T19:49:29.239Z"
   },
   {
    "duration": 912,
    "start_time": "2021-12-21T19:49:30.372Z"
   },
   {
    "duration": 11,
    "start_time": "2021-12-21T19:49:35.175Z"
   },
   {
    "duration": 17,
    "start_time": "2021-12-21T19:49:36.431Z"
   },
   {
    "duration": 5,
    "start_time": "2021-12-21T19:49:36.907Z"
   },
   {
    "duration": 12,
    "start_time": "2021-12-21T19:49:37.235Z"
   },
   {
    "duration": 1313,
    "start_time": "2021-12-21T19:50:26.609Z"
   },
   {
    "duration": 6,
    "start_time": "2021-12-21T19:50:27.925Z"
   },
   {
    "duration": 458,
    "start_time": "2021-12-21T19:50:27.934Z"
   },
   {
    "duration": 368,
    "start_time": "2021-12-21T19:50:28.395Z"
   },
   {
    "duration": 258,
    "start_time": "2021-12-21T19:50:28.766Z"
   },
   {
    "duration": 28,
    "start_time": "2021-12-21T19:50:29.027Z"
   },
   {
    "duration": 252,
    "start_time": "2021-12-21T19:50:29.057Z"
   },
   {
    "duration": 7,
    "start_time": "2021-12-21T19:50:29.312Z"
   },
   {
    "duration": 65,
    "start_time": "2021-12-21T19:50:29.322Z"
   },
   {
    "duration": 199,
    "start_time": "2021-12-21T19:50:29.390Z"
   },
   {
    "duration": 11,
    "start_time": "2021-12-21T19:50:29.592Z"
   },
   {
    "duration": 121,
    "start_time": "2021-12-21T19:50:29.606Z"
   },
   {
    "duration": 285,
    "start_time": "2021-12-21T19:50:29.730Z"
   },
   {
    "duration": 10,
    "start_time": "2021-12-21T19:50:30.018Z"
   },
   {
    "duration": 58,
    "start_time": "2021-12-21T19:50:30.030Z"
   },
   {
    "duration": 70,
    "start_time": "2021-12-21T19:50:30.091Z"
   },
   {
    "duration": 11958,
    "start_time": "2021-12-21T19:50:30.163Z"
   },
   {
    "duration": 62,
    "start_time": "2021-12-21T19:50:42.124Z"
   },
   {
    "duration": 124,
    "start_time": "2021-12-21T19:50:42.189Z"
   },
   {
    "duration": 89,
    "start_time": "2021-12-21T19:50:42.316Z"
   },
   {
    "duration": 901,
    "start_time": "2021-12-21T19:50:42.407Z"
   },
   {
    "duration": 132,
    "start_time": "2021-12-21T19:50:43.310Z"
   },
   {
    "duration": 86,
    "start_time": "2021-12-21T19:50:43.444Z"
   },
   {
    "duration": 867,
    "start_time": "2021-12-21T19:50:43.532Z"
   },
   {
    "duration": 121,
    "start_time": "2021-12-21T19:50:44.402Z"
   },
   {
    "duration": 90,
    "start_time": "2021-12-21T19:50:44.525Z"
   },
   {
    "duration": 897,
    "start_time": "2021-12-21T19:50:44.620Z"
   },
   {
    "duration": 129,
    "start_time": "2021-12-21T19:50:45.520Z"
   },
   {
    "duration": 83,
    "start_time": "2021-12-21T19:50:45.652Z"
   },
   {
    "duration": 767,
    "start_time": "2021-12-21T19:50:45.737Z"
   },
   {
    "duration": 12,
    "start_time": "2021-12-21T19:50:46.507Z"
   },
   {
    "duration": 19,
    "start_time": "2021-12-21T19:50:46.522Z"
   },
   {
    "duration": 9,
    "start_time": "2021-12-21T19:50:46.560Z"
   },
   {
    "duration": 23,
    "start_time": "2021-12-21T19:50:46.575Z"
   },
   {
    "duration": 572,
    "start_time": "2021-12-21T20:00:48.597Z"
   },
   {
    "duration": 9,
    "start_time": "2021-12-21T20:00:56.241Z"
   },
   {
    "duration": 1983,
    "start_time": "2021-12-21T20:17:19.331Z"
   },
   {
    "duration": 9,
    "start_time": "2021-12-21T20:17:21.317Z"
   },
   {
    "duration": 457,
    "start_time": "2021-12-21T20:17:21.330Z"
   },
   {
    "duration": 400,
    "start_time": "2021-12-21T20:17:21.791Z"
   },
   {
    "duration": 255,
    "start_time": "2021-12-21T20:17:22.194Z"
   },
   {
    "duration": 28,
    "start_time": "2021-12-21T20:17:22.451Z"
   },
   {
    "duration": 113,
    "start_time": "2021-12-21T20:17:22.482Z"
   },
   {
    "duration": 6,
    "start_time": "2021-12-21T20:17:22.601Z"
   },
   {
    "duration": 13,
    "start_time": "2021-12-21T20:17:22.610Z"
   },
   {
    "duration": 118,
    "start_time": "2021-12-21T20:17:22.625Z"
   },
   {
    "duration": 20,
    "start_time": "2021-12-21T20:17:22.746Z"
   },
   {
    "duration": 91,
    "start_time": "2021-12-21T20:17:22.769Z"
   },
   {
    "duration": 263,
    "start_time": "2021-12-21T20:17:22.862Z"
   },
   {
    "duration": 13,
    "start_time": "2021-12-21T20:17:23.128Z"
   },
   {
    "duration": 19,
    "start_time": "2021-12-21T20:17:23.144Z"
   },
   {
    "duration": 5,
    "start_time": "2021-12-21T20:17:23.166Z"
   },
   {
    "duration": 12370,
    "start_time": "2021-12-21T20:17:23.174Z"
   },
   {
    "duration": 47,
    "start_time": "2021-12-21T20:17:35.547Z"
   },
   {
    "duration": 118,
    "start_time": "2021-12-21T20:17:35.596Z"
   },
   {
    "duration": 89,
    "start_time": "2021-12-21T20:17:35.716Z"
   },
   {
    "duration": 958,
    "start_time": "2021-12-21T20:17:35.807Z"
   },
   {
    "duration": 115,
    "start_time": "2021-12-21T20:17:36.767Z"
   },
   {
    "duration": 87,
    "start_time": "2021-12-21T20:17:36.887Z"
   },
   {
    "duration": 912,
    "start_time": "2021-12-21T20:17:36.977Z"
   },
   {
    "duration": 120,
    "start_time": "2021-12-21T20:17:37.893Z"
   },
   {
    "duration": 87,
    "start_time": "2021-12-21T20:17:38.016Z"
   },
   {
    "duration": 819,
    "start_time": "2021-12-21T20:17:38.105Z"
   },
   {
    "duration": 124,
    "start_time": "2021-12-21T20:17:38.927Z"
   },
   {
    "duration": 76,
    "start_time": "2021-12-21T20:17:39.053Z"
   },
   {
    "duration": 704,
    "start_time": "2021-12-21T20:17:39.132Z"
   },
   {
    "duration": 25,
    "start_time": "2021-12-21T20:17:39.840Z"
   },
   {
    "duration": 12,
    "start_time": "2021-12-21T20:17:39.867Z"
   },
   {
    "duration": 4,
    "start_time": "2021-12-21T20:17:39.882Z"
   },
   {
    "duration": 11,
    "start_time": "2021-12-21T20:17:39.889Z"
   }
  ],
  "kernelspec": {
   "display_name": "Python 3 (ipykernel)",
   "language": "python",
   "name": "python3"
  },
  "language_info": {
   "codemirror_mode": {
    "name": "ipython",
    "version": 3
   },
   "file_extension": ".py",
   "mimetype": "text/x-python",
   "name": "python",
   "nbconvert_exporter": "python",
   "pygments_lexer": "ipython3",
   "version": "3.9.7"
  },
  "toc": {
   "base_numbering": 1,
   "nav_menu": {},
   "number_sections": true,
   "sideBar": true,
   "skip_h1_title": true,
   "title_cell": "Table of Contents",
   "title_sidebar": "Contents",
   "toc_cell": false,
   "toc_position": {},
   "toc_section_display": true,
   "toc_window_display": false
  }
 },
 "nbformat": 4,
 "nbformat_minor": 2
}
